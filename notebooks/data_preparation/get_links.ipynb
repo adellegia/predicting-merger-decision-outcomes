{
 "cells": [
  {
   "cell_type": "code",
   "execution_count": 41,
   "metadata": {},
   "outputs": [],
   "source": [
    "# Data visualization\n",
    "import matplotlib.pyplot as plt \n",
    "\n",
    "# Data manipulation\n",
    "import pandas as pd\n",
    "import numpy as np\n",
    "import csv\n",
    "from zipfile import ZipFile"
   ]
  },
  {
   "cell_type": "code",
   "execution_count": 42,
   "metadata": {},
   "outputs": [],
   "source": [
    "# Webscraping\n",
    "import glob\n",
    "import requests\n",
    "from bs4 import BeautifulSoup\n",
    "import time\n",
    "import datetime\n",
    "from pandas.core.common import flatten\n",
    "import os\n",
    "from itertools import chain\n",
    "from tqdm import tqdm\n",
    "import json\n",
    "import urllib.request"
   ]
  },
  {
   "cell_type": "code",
   "execution_count": 43,
   "metadata": {},
   "outputs": [
    {
     "data": {
      "text/plain": [
       "'d:\\\\Desktop\\\\Thesis\\\\predicting-merger-decision-outcomes\\\\src\\\\python\\\\notebook'"
      ]
     },
     "execution_count": 43,
     "metadata": {},
     "output_type": "execute_result"
    }
   ],
   "source": [
    "os.getcwd()"
   ]
  },
  {
   "cell_type": "code",
   "execution_count": 44,
   "metadata": {},
   "outputs": [],
   "source": [
    "import sys\n",
    "sys.path.append(f'../../src/python')\n",
    "from scraper import createFolder, get_merger_links, download_pdf, get_merger_info"
   ]
  },
  {
   "attachments": {},
   "cell_type": "markdown",
   "metadata": {},
   "source": [
    "## Get merger case links"
   ]
  },
  {
   "cell_type": "code",
   "execution_count": 45,
   "metadata": {},
   "outputs": [],
   "source": [
    "files = os.path.join(f\"../../data/raw/\", \"*.txt\")\n",
    "file_list = glob.glob(files)\n",
    "\n",
    "txt_list = [os.path.basename(file_path) for file_path in file_list]"
   ]
  },
  {
   "cell_type": "code",
   "execution_count": 46,
   "metadata": {},
   "outputs": [
    {
     "data": {
      "text/plain": [
       "['art6.0_1.txt',\n",
       " 'art6.0_10.txt',\n",
       " 'art6.0_100.txt',\n",
       " 'art6.0_101.txt',\n",
       " 'art6.0_102.txt',\n",
       " 'art6.0_103.txt',\n",
       " 'art6.0_104.txt',\n",
       " 'art6.0_105.txt',\n",
       " 'art6.0_106.txt',\n",
       " 'art6.0_107.txt',\n",
       " 'art6.0_108.txt',\n",
       " 'art6.0_109.txt',\n",
       " 'art6.0_11.txt',\n",
       " 'art6.0_110.txt',\n",
       " 'art6.0_111.txt',\n",
       " 'art6.0_112.txt',\n",
       " 'art6.0_113.txt',\n",
       " 'art6.0_114.txt',\n",
       " 'art6.0_115.txt',\n",
       " 'art6.0_12.txt',\n",
       " 'art6.0_13.txt',\n",
       " 'art6.0_14.txt',\n",
       " 'art6.0_15.txt',\n",
       " 'art6.0_16.txt',\n",
       " 'art6.0_17.txt',\n",
       " 'art6.0_18.txt',\n",
       " 'art6.0_19.txt',\n",
       " 'art6.0_2.txt',\n",
       " 'art6.0_20.txt',\n",
       " 'art6.0_21.txt',\n",
       " 'art6.0_22.txt',\n",
       " 'art6.0_23.txt',\n",
       " 'art6.0_24.txt',\n",
       " 'art6.0_25.txt',\n",
       " 'art6.0_26.txt',\n",
       " 'art6.0_27.txt',\n",
       " 'art6.0_28.txt',\n",
       " 'art6.0_29.txt',\n",
       " 'art6.0_3.txt',\n",
       " 'art6.0_30.txt',\n",
       " 'art6.0_31.txt',\n",
       " 'art6.0_32.txt',\n",
       " 'art6.0_33.txt',\n",
       " 'art6.0_34.txt',\n",
       " 'art6.0_35.txt',\n",
       " 'art6.0_36.txt',\n",
       " 'art6.0_37.txt',\n",
       " 'art6.0_38.txt',\n",
       " 'art6.0_39.txt',\n",
       " 'art6.0_4.txt',\n",
       " 'art6.0_40.txt',\n",
       " 'art6.0_41.txt',\n",
       " 'art6.0_42.txt',\n",
       " 'art6.0_43.txt',\n",
       " 'art6.0_44.txt',\n",
       " 'art6.0_45.txt',\n",
       " 'art6.0_46.txt',\n",
       " 'art6.0_47.txt',\n",
       " 'art6.0_48.txt',\n",
       " 'art6.0_49.txt',\n",
       " 'art6.0_5.txt',\n",
       " 'art6.0_50.txt',\n",
       " 'art6.0_51.txt',\n",
       " 'art6.0_52.txt',\n",
       " 'art6.0_53.txt',\n",
       " 'art6.0_54.txt',\n",
       " 'art6.0_55.txt',\n",
       " 'art6.0_56.txt',\n",
       " 'art6.0_57.txt',\n",
       " 'art6.0_58.txt',\n",
       " 'art6.0_59.txt',\n",
       " 'art6.0_6.txt',\n",
       " 'art6.0_60.txt',\n",
       " 'art6.0_61.txt',\n",
       " 'art6.0_62.txt',\n",
       " 'art6.0_63.txt',\n",
       " 'art6.0_64.txt',\n",
       " 'art6.0_65.txt',\n",
       " 'art6.0_66.txt',\n",
       " 'art6.0_67.txt',\n",
       " 'art6.0_68.txt',\n",
       " 'art6.0_69.txt',\n",
       " 'art6.0_7.txt',\n",
       " 'art6.0_70.txt',\n",
       " 'art6.0_71.txt',\n",
       " 'art6.0_72.txt',\n",
       " 'art6.0_73.txt',\n",
       " 'art6.0_74.txt',\n",
       " 'art6.0_75.txt',\n",
       " 'art6.0_76.txt',\n",
       " 'art6.0_77.txt',\n",
       " 'art6.0_78.txt',\n",
       " 'art6.0_79.txt',\n",
       " 'art6.0_8.txt',\n",
       " 'art6.0_80.txt',\n",
       " 'art6.0_81.txt',\n",
       " 'art6.0_82.txt',\n",
       " 'art6.0_83.txt',\n",
       " 'art6.0_84.txt',\n",
       " 'art6.0_85.txt',\n",
       " 'art6.0_86.txt',\n",
       " 'art6.0_87.txt',\n",
       " 'art6.0_88.txt',\n",
       " 'art6.0_89.txt',\n",
       " 'art6.0_9.txt',\n",
       " 'art6.0_90.txt',\n",
       " 'art6.0_91.txt',\n",
       " 'art6.0_92.txt',\n",
       " 'art6.0_93.txt',\n",
       " 'art6.0_94.txt',\n",
       " 'art6.0_95.txt',\n",
       " 'art6.0_96.txt',\n",
       " 'art6.0_97.txt',\n",
       " 'art6.0_98.txt',\n",
       " 'art6.0_99.txt',\n",
       " 'art6.1_1_cc.txt',\n",
       " 'art6.1_2_cc.txt',\n",
       " 'art6.1_3_cc.txt',\n",
       " 'art6.1_4_cc.txt',\n",
       " 'art6.1_5_cc.txt',\n",
       " 'art8.1.txt',\n",
       " 'art8.2_1.txt',\n",
       " 'art8.2_2.txt',\n",
       " 'art8.3.txt',\n",
       " 'art9.3_1.txt',\n",
       " 'art9.3_2.txt',\n",
       " 'art9.3_3.txt']"
      ]
     },
     "execution_count": 46,
     "metadata": {},
     "output_type": "execute_result"
    }
   ],
   "source": [
    "txt_list"
   ]
  },
  {
   "cell_type": "code",
   "execution_count": 47,
   "metadata": {},
   "outputs": [],
   "source": [
    "merger_details_full = []\n",
    "for txt in txt_list:\n",
    "    article = txt[:6]\n",
    "    merger_details_list = get_merger_links(decision_type = txt)\n",
    "    merger_details_full.append([article, merger_details_list])"
   ]
  },
  {
   "cell_type": "code",
   "execution_count": 48,
   "metadata": {},
   "outputs": [],
   "source": [
    "merger_details_df = pd.DataFrame(merger_details_full, columns = ['article', 'link'])"
   ]
  },
  {
   "cell_type": "code",
   "execution_count": 49,
   "metadata": {},
   "outputs": [],
   "source": [
    "# split list to rows\n",
    "merger_details_df = merger_details_df.explode('link')\n",
    "merger_details_df = merger_details_df.reset_index(drop=True)"
   ]
  },
  {
   "cell_type": "code",
   "execution_count": 50,
   "metadata": {},
   "outputs": [],
   "source": [
    "# split list to columns\n",
    "merger_details_df[['case_num', 'link']] = pd.DataFrame(merger_details_df['link'].to_list(), index=merger_details_df.index)"
   ]
  },
  {
   "cell_type": "code",
   "execution_count": 51,
   "metadata": {},
   "outputs": [
    {
     "data": {
      "text/plain": [
       "art6.0    5734\n",
       "art6.1     240\n",
       "art9.3     129\n",
       "art8.2      73\n",
       "art8.1      36\n",
       "art8.3      13\n",
       "Name: article, dtype: int64"
      ]
     },
     "execution_count": 51,
     "metadata": {},
     "output_type": "execute_result"
    }
   ],
   "source": [
    "merger_details_df['article'].value_counts()"
   ]
  },
  {
   "cell_type": "code",
   "execution_count": 21,
   "metadata": {},
   "outputs": [],
   "source": [
    "# drop duplicates\n",
    "# merger_details_df = merger_details_df.drop_duplicates(subset='link', keep='first')"
   ]
  },
  {
   "cell_type": "code",
   "execution_count": 52,
   "metadata": {},
   "outputs": [
    {
     "name": "stdout",
     "output_type": "stream",
     "text": [
      "<class 'pandas.core.frame.DataFrame'>\n",
      "RangeIndex: 6225 entries, 0 to 6224\n",
      "Data columns (total 3 columns):\n",
      " #   Column    Non-Null Count  Dtype \n",
      "---  ------    --------------  ----- \n",
      " 0   article   6225 non-null   object\n",
      " 1   link      6225 non-null   object\n",
      " 2   case_num  6225 non-null   object\n",
      "dtypes: object(3)\n",
      "memory usage: 146.0+ KB\n"
     ]
    }
   ],
   "source": [
    "merger_details_df.info()"
   ]
  },
  {
   "cell_type": "code",
   "execution_count": 23,
   "metadata": {},
   "outputs": [
    {
     "data": {
      "text/html": [
       "<div>\n",
       "<style scoped>\n",
       "    .dataframe tbody tr th:only-of-type {\n",
       "        vertical-align: middle;\n",
       "    }\n",
       "\n",
       "    .dataframe tbody tr th {\n",
       "        vertical-align: top;\n",
       "    }\n",
       "\n",
       "    .dataframe thead th {\n",
       "        text-align: right;\n",
       "    }\n",
       "</style>\n",
       "<table border=\"1\" class=\"dataframe\">\n",
       "  <thead>\n",
       "    <tr style=\"text-align: right;\">\n",
       "      <th></th>\n",
       "      <th>article</th>\n",
       "      <th>link</th>\n",
       "      <th>case_num</th>\n",
       "    </tr>\n",
       "  </thead>\n",
       "  <tbody>\n",
       "    <tr>\n",
       "      <th>0</th>\n",
       "      <td>art6.0</td>\n",
       "      <td>case_details.cfm?proc_code=2_M_10000</td>\n",
       "      <td>M.10000</td>\n",
       "    </tr>\n",
       "    <tr>\n",
       "      <th>1</th>\n",
       "      <td>art6.0</td>\n",
       "      <td>case_details.cfm?proc_code=2_M_10001</td>\n",
       "      <td>M.10001</td>\n",
       "    </tr>\n",
       "    <tr>\n",
       "      <th>2</th>\n",
       "      <td>art6.0</td>\n",
       "      <td>case_details.cfm?proc_code=2_M_10002</td>\n",
       "      <td>M.10002</td>\n",
       "    </tr>\n",
       "    <tr>\n",
       "      <th>3</th>\n",
       "      <td>art6.0</td>\n",
       "      <td>case_details.cfm?proc_code=2_M_10003</td>\n",
       "      <td>M.10003</td>\n",
       "    </tr>\n",
       "    <tr>\n",
       "      <th>4</th>\n",
       "      <td>art6.0</td>\n",
       "      <td>case_details.cfm?proc_code=2_M_10004</td>\n",
       "      <td>M.10004</td>\n",
       "    </tr>\n",
       "    <tr>\n",
       "      <th>...</th>\n",
       "      <td>...</td>\n",
       "      <td>...</td>\n",
       "      <td>...</td>\n",
       "    </tr>\n",
       "    <tr>\n",
       "      <th>6244</th>\n",
       "      <td>art9.3</td>\n",
       "      <td>case_details.cfm?proc_code=2_M_9421</td>\n",
       "      <td>M.9421</td>\n",
       "    </tr>\n",
       "    <tr>\n",
       "      <th>6245</th>\n",
       "      <td>art9.3</td>\n",
       "      <td>case_details.cfm?proc_code=2_M_9545</td>\n",
       "      <td>M.9545</td>\n",
       "    </tr>\n",
       "    <tr>\n",
       "      <th>6246</th>\n",
       "      <td>art9.3</td>\n",
       "      <td>case_details.cfm?proc_code=2_M_9547</td>\n",
       "      <td>M.9547</td>\n",
       "    </tr>\n",
       "    <tr>\n",
       "      <th>6249</th>\n",
       "      <td>art9.3</td>\n",
       "      <td>case_details.cfm?proc_code=2_M_9871</td>\n",
       "      <td>M.9871</td>\n",
       "    </tr>\n",
       "    <tr>\n",
       "      <th>6250</th>\n",
       "      <td>art9.3</td>\n",
       "      <td>case_details.cfm?proc_code=2_M_9886</td>\n",
       "      <td>M.9886</td>\n",
       "    </tr>\n",
       "  </tbody>\n",
       "</table>\n",
       "<p>6130 rows × 3 columns</p>\n",
       "</div>"
      ],
      "text/plain": [
       "     article                                  link case_num\n",
       "0     art6.0  case_details.cfm?proc_code=2_M_10000  M.10000\n",
       "1     art6.0  case_details.cfm?proc_code=2_M_10001  M.10001\n",
       "2     art6.0  case_details.cfm?proc_code=2_M_10002  M.10002\n",
       "3     art6.0  case_details.cfm?proc_code=2_M_10003  M.10003\n",
       "4     art6.0  case_details.cfm?proc_code=2_M_10004  M.10004\n",
       "...      ...                                   ...      ...\n",
       "6244  art9.3   case_details.cfm?proc_code=2_M_9421   M.9421\n",
       "6245  art9.3   case_details.cfm?proc_code=2_M_9545   M.9545\n",
       "6246  art9.3   case_details.cfm?proc_code=2_M_9547   M.9547\n",
       "6249  art9.3   case_details.cfm?proc_code=2_M_9871   M.9871\n",
       "6250  art9.3   case_details.cfm?proc_code=2_M_9886   M.9886\n",
       "\n",
       "[6130 rows x 3 columns]"
      ]
     },
     "execution_count": 23,
     "metadata": {},
     "output_type": "execute_result"
    }
   ],
   "source": [
    "merger_details_df"
   ]
  },
  {
   "cell_type": "code",
   "execution_count": 53,
   "metadata": {},
   "outputs": [
    {
     "data": {
      "text/plain": [
       "art6.0    5734\n",
       "art6.1     240\n",
       "art9.3     129\n",
       "art8.2      73\n",
       "art8.1      36\n",
       "art8.3      13\n",
       "Name: article, dtype: int64"
      ]
     },
     "execution_count": 53,
     "metadata": {},
     "output_type": "execute_result"
    }
   ],
   "source": [
    "merger_details_df['article'].value_counts()"
   ]
  },
  {
   "cell_type": "code",
   "execution_count": 54,
   "metadata": {},
   "outputs": [],
   "source": [
    "# save merger details df\n",
    "date = datetime.date.today().strftime('%Y_%m_%d')\n",
    "\n",
    "file_name = f\"../../data/scraped/merger_details_{date}.csv\"\n",
    "if os.path.exists(file_name):\n",
    "    os.remove(file_name)\n",
    "\n",
    "# export data\n",
    "merger_details_df.to_csv(file_name, index=False)"
   ]
  },
  {
   "cell_type": "code",
   "execution_count": null,
   "metadata": {},
   "outputs": [],
   "source": []
  }
 ],
 "metadata": {
  "kernelspec": {
   "display_name": "thesis",
   "language": "python",
   "name": "python3"
  },
  "language_info": {
   "codemirror_mode": {
    "name": "ipython",
    "version": 3
   },
   "file_extension": ".py",
   "mimetype": "text/x-python",
   "name": "python",
   "nbconvert_exporter": "python",
   "pygments_lexer": "ipython3",
   "version": "3.10.4"
  },
  "orig_nbformat": 4,
  "vscode": {
   "interpreter": {
    "hash": "b8a34a3bb875764d64c764b9cffa891f179e7153a1578da198ecc075e870264c"
   }
  }
 },
 "nbformat": 4,
 "nbformat_minor": 2
}
