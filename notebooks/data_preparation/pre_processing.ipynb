{
 "cells": [
  {
   "cell_type": "code",
   "execution_count": 1,
   "metadata": {},
   "outputs": [],
   "source": [
    "# Data manipulation\n",
    "import pandas as pd\n",
    "import numpy as np"
   ]
  },
  {
   "cell_type": "code",
   "execution_count": 2,
   "metadata": {},
   "outputs": [],
   "source": [
    "# Pre-processing\n",
    "import glob, re, os, sys, random\n",
    "import datetime\n",
    "\n",
    "from gensim.parsing.preprocessing import preprocess_string, strip_tags, strip_punctuation, strip_numeric, strip_multiple_whitespaces, strip_non_alphanum, stem_text, remove_stopwords\n",
    "\n",
    "import nltk\n",
    "from nltk.corpus import stopwords\n",
    "from nltk.tokenize import sent_tokenize, word_tokenize\n",
    "from string import punctuation\n",
    "from nltk.stem.porter import PorterStemmer\n",
    "from nltk.stem import WordNetLemmatizer"
   ]
  },
  {
   "attachments": {},
   "cell_type": "markdown",
   "metadata": {},
   "source": [
    "## Data Pre-processing"
   ]
  },
  {
   "cell_type": "code",
   "execution_count": 3,
   "metadata": {},
   "outputs": [],
   "source": [
    "df = pd.read_json(r\"../../data/processed/df_eng_clean_filtered_2023_03_11.json\")"
   ]
  },
  {
   "cell_type": "code",
   "execution_count": 4,
   "metadata": {},
   "outputs": [],
   "source": [
    "df['count'] = df['sec_text'].str.split().apply(len)"
   ]
  },
  {
   "attachments": {},
   "cell_type": "markdown",
   "metadata": {},
   "source": [
    "Remove non-alphanum, digits, punctuations\n",
    "(Don't lowercase and remove stopwords yet)"
   ]
  },
  {
   "cell_type": "code",
   "execution_count": 5,
   "metadata": {},
   "outputs": [],
   "source": [
    "preprocess_function = [lambda x: x, strip_tags, strip_punctuation, strip_non_alphanum, strip_multiple_whitespaces, strip_numeric] #x.lower() remove_stopwords, stem_text\n",
    "\n",
    "df['text_clean'] = df['sec_text'].apply(lambda x: \" \".join(preprocess_string(str(x), preprocess_function)))"
   ]
  },
  {
   "attachments": {},
   "cell_type": "markdown",
   "metadata": {},
   "source": [
    "Lemmatize text, no stemming"
   ]
  },
  {
   "cell_type": "code",
   "execution_count": 6,
   "metadata": {},
   "outputs": [],
   "source": [
    "lemmatizer = WordNetLemmatizer()\n",
    "# stemmer = PorterStemmer()\n",
    "\n",
    "def stem_lemmatize(text):\n",
    "    #stemmed = [stemmer.stem(token) for token in word_tokenize(text)]\n",
    "    lemmatized = [lemmatizer.lemmatize(token) for token in word_tokenize(text)]\n",
    "    processed_text = ' '.join(lemmatized)\n",
    "    return processed_text"
   ]
  },
  {
   "cell_type": "code",
   "execution_count": 7,
   "metadata": {},
   "outputs": [],
   "source": [
    "df['text_clean'] = [stem_lemmatize(text) for text in df['text_clean']]"
   ]
  },
  {
   "attachments": {},
   "cell_type": "markdown",
   "metadata": {},
   "source": [
    "Get length of text_clean"
   ]
  },
  {
   "cell_type": "code",
   "execution_count": 8,
   "metadata": {},
   "outputs": [],
   "source": [
    "df['count_text'] = df['text_clean'].str.split().apply(len)"
   ]
  },
  {
   "cell_type": "code",
   "execution_count": 9,
   "metadata": {},
   "outputs": [
    {
     "name": "stdout",
     "output_type": "stream",
     "text": [
      "min: 13 \n",
      "max: 233652\n"
     ]
    }
   ],
   "source": [
    "print(\"min:\", min(df['count_text']), \n",
    "    \"\\nmax:\", max(df['count_text']))"
   ]
  },
  {
   "cell_type": "code",
   "execution_count": 10,
   "metadata": {},
   "outputs": [
    {
     "data": {
      "text/plain": [
       "simplified    112\n",
       "Name: article_new, dtype: int64"
      ]
     },
     "execution_count": 10,
     "metadata": {},
     "output_type": "execute_result"
    }
   ],
   "source": [
    "df[df['count_text']<=20].article_new.value_counts()"
   ]
  },
  {
   "cell_type": "code",
   "execution_count": 11,
   "metadata": {},
   "outputs": [
    {
     "data": {
      "text/plain": [
       "article_new\n",
       "article6(1)(b)    1284\n",
       "article6(2)        201\n",
       "article8(1)         32\n",
       "article8(2)         57\n",
       "article8(3)          9\n",
       "referral            59\n",
       "simplified        3194\n",
       "Name: case_num, dtype: int64"
      ]
     },
     "execution_count": 11,
     "metadata": {},
     "output_type": "execute_result"
    }
   ],
   "source": [
    "# no of cases by article_new\n",
    "df.groupby('article_new')['case_num'].nunique().sort_index()"
   ]
  },
  {
   "attachments": {},
   "cell_type": "markdown",
   "metadata": {},
   "source": [
    "Remove dups (again)"
   ]
  },
  {
   "cell_type": "code",
   "execution_count": 12,
   "metadata": {},
   "outputs": [],
   "source": [
    "# df = pd.read_json(r\"../../data/processed/pre-processed_2023_03_11.json\")\n",
    "\n",
    "df.drop_duplicates(subset=['article_new', 'case_num', 'section_fin'], keep='first', inplace=True)\n",
    "df=df.reset_index(drop=True)"
   ]
  },
  {
   "attachments": {},
   "cell_type": "markdown",
   "metadata": {},
   "source": [
    "Remove common words"
   ]
  },
  {
   "cell_type": "code",
   "execution_count": 13,
   "metadata": {},
   "outputs": [],
   "source": [
    "# Define a regular expression pattern to match the unwanted words\n",
    "remove_words = ['statement objection', 'en', 'phase ii', 'rfi', 'request information',\n",
    "                'european commission', 'commission européenne bruxelles', 'europese commissie brussel', 'belgium telephone',\n",
    "                'confidential information disclosed', 'bruxelles europese', 'européenne', 'commissie', 'europese', 'tele', 'brussel', 'bruxelles',\n",
    "                'belgique', 'tel', 'belgïë',\n",
    "                'enclosed square bracket', 'marked asterisk']\n",
    "remove_pattern = re.compile(r'\\b(' + '|'.join(remove_words) + r')\\b', flags=re.IGNORECASE)\n",
    "df['text_clean'] = df['text_clean'].replace(remove_pattern, '', regex=True)"
   ]
  },
  {
   "attachments": {},
   "cell_type": "markdown",
   "metadata": {},
   "source": [
    "Relabel wrong labels via merger_info"
   ]
  },
  {
   "cell_type": "code",
   "execution_count": 14,
   "metadata": {},
   "outputs": [],
   "source": [
    "# df = pd.read_json(r\"../../data/processed/pre-processed_2023_03_20.json\")\n",
    "df.loc[df['case_num'].isin(['M.4844', 'M.5020', 'M.8124']), 'article_new'] = 'article6(2)'"
   ]
  },
  {
   "attachments": {},
   "cell_type": "markdown",
   "metadata": {},
   "source": [
    "Add labels"
   ]
  },
  {
   "cell_type": "code",
   "execution_count": 15,
   "metadata": {},
   "outputs": [
    {
     "data": {
      "text/plain": [
       "phase2\n",
       "0             1485\n",
       "1               98\n",
       "referral        58\n",
       "simplified    3194\n",
       "Name: case_num, dtype: int64"
      ]
     },
     "execution_count": 15,
     "metadata": {},
     "output_type": "execute_result"
    }
   ],
   "source": [
    "# Phase 1 (0) vs. Phase 2 (1)\n",
    "df['phase2'] = np.where((df['article_new'].isin(['article6(1)(b)', 'article6(2)'])), 0, 1)\n",
    "df['phase2'] = np.where((df['article_new'].isin(['referral', 'simplified'])), df['article_new'], df['phase2'])\n",
    "\n",
    "df.groupby('phase2')['case_num'].nunique()"
   ]
  },
  {
   "cell_type": "code",
   "execution_count": 16,
   "metadata": {},
   "outputs": [
    {
     "data": {
      "text/plain": [
       "0             5070\n",
       "simplified    3194\n",
       "1              292\n",
       "referral       150\n",
       "Name: phase2, dtype: int64"
      ]
     },
     "execution_count": 16,
     "metadata": {},
     "output_type": "execute_result"
    }
   ],
   "source": [
    "df['phase2'].value_counts()"
   ]
  },
  {
   "cell_type": "code",
   "execution_count": 17,
   "metadata": {},
   "outputs": [],
   "source": [
    "# df['wc'] =\"\"\n",
    "# df['wc'] = np.where((df['article_new'].isin(['article6(2)', 'article8(2)'])), 1, 0)\n",
    "# df.groupby('wc')['case_num'].nunique()\n",
    "# df[(df['wc']==1)]['article_new'].value_counts()\n",
    "# df[(df['wc']==1)].groupby('article_new')['case_num'].nunique() # is there a duplicate by casse_num but different filename?"
   ]
  },
  {
   "cell_type": "code",
   "execution_count": 18,
   "metadata": {},
   "outputs": [
    {
     "data": {
      "text/plain": [
       "wc\n",
       "0              1313\n",
       "1               260\n",
       "article8(3)       9\n",
       "referral         58\n",
       "simplified     3194\n",
       "Name: case_num, dtype: int64"
      ]
     },
     "execution_count": 18,
     "metadata": {},
     "output_type": "execute_result"
    }
   ],
   "source": [
    "# With conditions (1) vs. Without conditions (0)\n",
    "df['wc'] = np.where((df['article_new'].isin(['article6(2)', 'article8(2)'])), 1, 0)\n",
    "df['wc'] = np.where((df['article_new'].isin(['referral', 'simplified', 'article8(3)'])), df['article_new'], df['wc'])\n",
    "\n",
    "df.groupby('wc')['case_num'].nunique()\n"
   ]
  },
  {
   "cell_type": "code",
   "execution_count": 19,
   "metadata": {},
   "outputs": [
    {
     "data": {
      "text/plain": [
       "0              4492\n",
       "simplified     3194\n",
       "1               842\n",
       "referral        150\n",
       "article8(3)      28\n",
       "Name: wc, dtype: int64"
      ]
     },
     "execution_count": 19,
     "metadata": {},
     "output_type": "execute_result"
    }
   ],
   "source": [
    "df['wc'].value_counts()"
   ]
  },
  {
   "cell_type": "code",
   "execution_count": 20,
   "metadata": {},
   "outputs": [
    {
     "data": {
      "text/plain": [
       "competition\n",
       "0             1313\n",
       "1              269\n",
       "referral        58\n",
       "simplified    3194\n",
       "Name: case_num, dtype: int64"
      ]
     },
     "execution_count": 20,
     "metadata": {},
     "output_type": "execute_result"
    }
   ],
   "source": [
    "# Potentially anticompetitive vs. No harm to competition\n",
    "df['competition'] = np.where((df['article_new'].isin(['article6(2)', 'article8(2)', 'article8(3)'])), 1, 0)\n",
    "df['competition'] = np.where((df['article_new'].isin(['referral', 'simplified'])), df['article_new'], df['competition'])\n",
    "\n",
    "df.groupby('competition')['case_num'].nunique()"
   ]
  },
  {
   "cell_type": "code",
   "execution_count": 21,
   "metadata": {},
   "outputs": [
    {
     "data": {
      "text/plain": [
       "0             4492\n",
       "simplified    3194\n",
       "1              870\n",
       "referral       150\n",
       "Name: competition, dtype: int64"
      ]
     },
     "execution_count": 21,
     "metadata": {},
     "output_type": "execute_result"
    }
   ],
   "source": [
    "df['competition'].value_counts()"
   ]
  },
  {
   "cell_type": "code",
   "execution_count": 22,
   "metadata": {},
   "outputs": [
    {
     "name": "stdout",
     "output_type": "stream",
     "text": [
      "<class 'pandas.core.frame.DataFrame'>\n",
      "RangeIndex: 8706 entries, 0 to 8705\n",
      "Data columns (total 13 columns):\n",
      " #   Column       Non-Null Count  Dtype \n",
      "---  ------       --------------  ----- \n",
      " 0   year         8706 non-null   int64 \n",
      " 1   article_new  8706 non-null   object\n",
      " 2   case_num     8706 non-null   object\n",
      " 3   file         8706 non-null   object\n",
      " 4   section_fin  8706 non-null   object\n",
      " 5   len_pdf      8706 non-null   int64 \n",
      " 6   sec_text     8706 non-null   object\n",
      " 7   count        8706 non-null   int64 \n",
      " 8   text_clean   8706 non-null   object\n",
      " 9   count_text   8706 non-null   int64 \n",
      " 10  phase2       8706 non-null   object\n",
      " 11  wc           8706 non-null   object\n",
      " 12  competition  8706 non-null   object\n",
      "dtypes: int64(4), object(9)\n",
      "memory usage: 884.3+ KB\n"
     ]
    }
   ],
   "source": [
    "df.info()"
   ]
  },
  {
   "cell_type": "code",
   "execution_count": 23,
   "metadata": {},
   "outputs": [],
   "source": [
    "# save json file name\n",
    "date = datetime.date.today().strftime('%Y_%m_%d')\n",
    "\n",
    "file_name = f\"../../data/processed/pre-processed_{date}.json\"\n",
    "if os.path.exists(file_name):\n",
    "    os.remove(file_name)\n",
    "\n",
    "# save file as json\n",
    "df.to_json(file_name)"
   ]
  },
  {
   "attachments": {},
   "cell_type": "markdown",
   "metadata": {},
   "source": [
    "Load merger_info with NACE code data"
   ]
  },
  {
   "cell_type": "code",
   "execution_count": 159,
   "metadata": {},
   "outputs": [],
   "source": [
    "directory = f\"../../data/decision_types/\"\n",
    "\n",
    "dfs = []\n",
    "\n",
    "for filename in os.listdir(directory):\n",
    "    if filename.endswith(\".xlsx\"):\n",
    "        info = pd.read_excel(os.path.join(directory, filename))\n",
    "        info.columns = map(str.lower, info.columns)\n",
    "        dfs.append(info)\n",
    "\n",
    "merger_info = pd.concat(dfs, ignore_index=True)\n"
   ]
  },
  {
   "cell_type": "code",
   "execution_count": 160,
   "metadata": {},
   "outputs": [],
   "source": [
    "# change to 6.2 for M.4719\n",
    "merger_info.loc[merger_info['case_code'].isin(['M.4719']), 'article'] = 'article6(2)'"
   ]
  },
  {
   "cell_type": "code",
   "execution_count": 161,
   "metadata": {},
   "outputs": [
    {
     "data": {
      "text/plain": [
       "article6(1)(b)    1598\n",
       "article6(2)        242\n",
       "article8(2)         73\n",
       "article8(1)         36\n",
       "article8(3)         13\n",
       "Name: article, dtype: int64"
      ]
     },
     "execution_count": 161,
     "metadata": {},
     "output_type": "execute_result"
    }
   ],
   "source": [
    "merger_info.article.value_counts()"
   ]
  },
  {
   "cell_type": "code",
   "execution_count": 162,
   "metadata": {},
   "outputs": [
    {
     "data": {
      "text/html": [
       "<div>\n",
       "<style scoped>\n",
       "    .dataframe tbody tr th:only-of-type {\n",
       "        vertical-align: middle;\n",
       "    }\n",
       "\n",
       "    .dataframe tbody tr th {\n",
       "        vertical-align: top;\n",
       "    }\n",
       "\n",
       "    .dataframe thead th {\n",
       "        text-align: right;\n",
       "    }\n",
       "</style>\n",
       "<table border=\"1\" class=\"dataframe\">\n",
       "  <thead>\n",
       "    <tr style=\"text-align: right;\">\n",
       "      <th></th>\n",
       "      <th>case_code</th>\n",
       "      <th>title</th>\n",
       "      <th>regulation_id</th>\n",
       "      <th>notification_date</th>\n",
       "      <th>simpl_proc</th>\n",
       "      <th>last_decision_date</th>\n",
       "      <th>deadline_date</th>\n",
       "      <th>nace_code</th>\n",
       "      <th>article</th>\n",
       "    </tr>\n",
       "  </thead>\n",
       "  <tbody>\n",
       "    <tr>\n",
       "      <th>0</th>\n",
       "      <td>M.7351</td>\n",
       "      <td>HENKEL / SPOTLESS GROUP</td>\n",
       "      <td>Council Regulation 139/2004</td>\n",
       "      <td>2014-08-25</td>\n",
       "      <td>0</td>\n",
       "      <td>2014-09-25</td>\n",
       "      <td>2014-09-29</td>\n",
       "      <td>Manufacture of soap and detergents, cleaning a...</td>\n",
       "      <td>article6(1)(b)</td>\n",
       "    </tr>\n",
       "    <tr>\n",
       "      <th>1</th>\n",
       "      <td>M.7395</td>\n",
       "      <td>MEXICHEM / VESTOLIT</td>\n",
       "      <td>Council Regulation 139/2004</td>\n",
       "      <td>2014-10-10</td>\n",
       "      <td>0</td>\n",
       "      <td>2014-11-13</td>\n",
       "      <td>2014-11-14</td>\n",
       "      <td>Manufacture of rubber and plastic products</td>\n",
       "      <td>article6(1)(b)</td>\n",
       "    </tr>\n",
       "    <tr>\n",
       "      <th>2</th>\n",
       "      <td>M.7369</td>\n",
       "      <td>SANTANDER / PSA / JVS</td>\n",
       "      <td>Council Regulation 139/2004</td>\n",
       "      <td>2014-11-05</td>\n",
       "      <td>0</td>\n",
       "      <td>2014-12-03</td>\n",
       "      <td>2014-12-10</td>\n",
       "      <td>Other financial service activities, except ins...</td>\n",
       "      <td>article6(1)(b)</td>\n",
       "    </tr>\n",
       "    <tr>\n",
       "      <th>3</th>\n",
       "      <td>M.7458</td>\n",
       "      <td>IBM / INF BUSINESS OF DEUTSCHE LUFTHANSA</td>\n",
       "      <td>Council Regulation 139/2004</td>\n",
       "      <td>2014-11-18</td>\n",
       "      <td>0</td>\n",
       "      <td>2014-12-15</td>\n",
       "      <td>2014-12-23</td>\n",
       "      <td>Computer programming, consultancy and related ...</td>\n",
       "      <td>article6(1)(b)</td>\n",
       "    </tr>\n",
       "    <tr>\n",
       "      <th>4</th>\n",
       "      <td>M.6242</td>\n",
       "      <td>LACTALIS / PARMALAT</td>\n",
       "      <td>Council Regulation 139/2004</td>\n",
       "      <td>2011-05-04</td>\n",
       "      <td>0</td>\n",
       "      <td>2011-06-14</td>\n",
       "      <td>2011-06-14</td>\n",
       "      <td>Manufacture of dairy products</td>\n",
       "      <td>article6(1)(b)</td>\n",
       "    </tr>\n",
       "  </tbody>\n",
       "</table>\n",
       "</div>"
      ],
      "text/plain": [
       "  case_code                                     title  \\\n",
       "0    M.7351                   HENKEL / SPOTLESS GROUP   \n",
       "1    M.7395                       MEXICHEM / VESTOLIT   \n",
       "2    M.7369                     SANTANDER / PSA / JVS   \n",
       "3    M.7458  IBM / INF BUSINESS OF DEUTSCHE LUFTHANSA   \n",
       "4    M.6242                       LACTALIS / PARMALAT   \n",
       "\n",
       "                 regulation_id notification_date  simpl_proc  \\\n",
       "0  Council Regulation 139/2004        2014-08-25           0   \n",
       "1  Council Regulation 139/2004        2014-10-10           0   \n",
       "2  Council Regulation 139/2004        2014-11-05           0   \n",
       "3  Council Regulation 139/2004        2014-11-18           0   \n",
       "4  Council Regulation 139/2004        2011-05-04           0   \n",
       "\n",
       "  last_decision_date deadline_date  \\\n",
       "0         2014-09-25    2014-09-29   \n",
       "1         2014-11-13    2014-11-14   \n",
       "2         2014-12-03    2014-12-10   \n",
       "3         2014-12-15    2014-12-23   \n",
       "4         2011-06-14    2011-06-14   \n",
       "\n",
       "                                           nace_code         article  \n",
       "0  Manufacture of soap and detergents, cleaning a...  article6(1)(b)  \n",
       "1         Manufacture of rubber and plastic products  article6(1)(b)  \n",
       "2  Other financial service activities, except ins...  article6(1)(b)  \n",
       "3  Computer programming, consultancy and related ...  article6(1)(b)  \n",
       "4                      Manufacture of dairy products  article6(1)(b)  "
      ]
     },
     "execution_count": 162,
     "metadata": {},
     "output_type": "execute_result"
    }
   ],
   "source": [
    "merger_info.head()"
   ]
  },
  {
   "cell_type": "code",
   "execution_count": 163,
   "metadata": {},
   "outputs": [],
   "source": [
    "# # save json file name\n",
    "# date = datetime.date.today().strftime('%Y_%m_%d')\n",
    "\n",
    "# file_name = f\"../../data/processed/merger_info_{date}.json\"\n",
    "# if os.path.exists(file_name):\n",
    "#     os.remove(file_name)\n",
    "\n",
    "# # save file as json\n",
    "# merger_info.to_json(file_name)"
   ]
  },
  {
   "cell_type": "code",
   "execution_count": 164,
   "metadata": {},
   "outputs": [],
   "source": [
    "df1=df[~df['article_new'].isin(['referral','simplified'])]"
   ]
  },
  {
   "cell_type": "code",
   "execution_count": 165,
   "metadata": {},
   "outputs": [
    {
     "data": {
      "text/plain": [
       "article6(1)(b)    4398\n",
       "article6(2)        672\n",
       "article8(2)        170\n",
       "article8(1)         94\n",
       "article8(3)         28\n",
       "Name: article_new, dtype: int64"
      ]
     },
     "execution_count": 165,
     "metadata": {},
     "output_type": "execute_result"
    }
   ],
   "source": [
    "df1.article_new.value_counts()"
   ]
  },
  {
   "cell_type": "code",
   "execution_count": 166,
   "metadata": {},
   "outputs": [],
   "source": [
    "merged_df = pd.merge(df1, merger_info, how='left', left_on=['case_num', 'article_new'], right_on=['case_code', 'article'])"
   ]
  },
  {
   "cell_type": "code",
   "execution_count": 167,
   "metadata": {},
   "outputs": [
    {
     "data": {
      "text/plain": [
       "1905    M.7000\n",
       "Name: case_code, dtype: object"
      ]
     },
     "execution_count": 167,
     "metadata": {},
     "output_type": "execute_result"
    }
   ],
   "source": [
    "merger_info['case_code'][merger_info['case_code'].duplicated()]"
   ]
  },
  {
   "cell_type": "code",
   "execution_count": 168,
   "metadata": {},
   "outputs": [
    {
     "data": {
      "text/html": [
       "<div>\n",
       "<style scoped>\n",
       "    .dataframe tbody tr th:only-of-type {\n",
       "        vertical-align: middle;\n",
       "    }\n",
       "\n",
       "    .dataframe tbody tr th {\n",
       "        vertical-align: top;\n",
       "    }\n",
       "\n",
       "    .dataframe thead th {\n",
       "        text-align: right;\n",
       "    }\n",
       "</style>\n",
       "<table border=\"1\" class=\"dataframe\">\n",
       "  <thead>\n",
       "    <tr style=\"text-align: right;\">\n",
       "      <th></th>\n",
       "      <th>case_code</th>\n",
       "      <th>title</th>\n",
       "      <th>regulation_id</th>\n",
       "      <th>notification_date</th>\n",
       "      <th>simpl_proc</th>\n",
       "      <th>last_decision_date</th>\n",
       "      <th>deadline_date</th>\n",
       "      <th>nace_code</th>\n",
       "      <th>article</th>\n",
       "    </tr>\n",
       "  </thead>\n",
       "  <tbody>\n",
       "    <tr>\n",
       "      <th>1675</th>\n",
       "      <td>M.7000</td>\n",
       "      <td>LIBERTY GLOBAL / ZIGGO</td>\n",
       "      <td>Council Regulation 139/2004</td>\n",
       "      <td>2018-04-04</td>\n",
       "      <td>0</td>\n",
       "      <td>2018-05-30</td>\n",
       "      <td>NaT</td>\n",
       "      <td>Information service activities; Programming an...</td>\n",
       "      <td>article6(2)</td>\n",
       "    </tr>\n",
       "    <tr>\n",
       "      <th>1905</th>\n",
       "      <td>M.7000</td>\n",
       "      <td>LIBERTY GLOBAL / ZIGGO</td>\n",
       "      <td>Council Regulation 139/2004</td>\n",
       "      <td>2018-04-04</td>\n",
       "      <td>0</td>\n",
       "      <td>2018-05-30</td>\n",
       "      <td>NaT</td>\n",
       "      <td>Information service activities; Programming an...</td>\n",
       "      <td>article8(2)</td>\n",
       "    </tr>\n",
       "  </tbody>\n",
       "</table>\n",
       "</div>"
      ],
      "text/plain": [
       "     case_code                   title                regulation_id  \\\n",
       "1675    M.7000  LIBERTY GLOBAL / ZIGGO  Council Regulation 139/2004   \n",
       "1905    M.7000  LIBERTY GLOBAL / ZIGGO  Council Regulation 139/2004   \n",
       "\n",
       "     notification_date  simpl_proc last_decision_date deadline_date  \\\n",
       "1675        2018-04-04           0         2018-05-30           NaT   \n",
       "1905        2018-04-04           0         2018-05-30           NaT   \n",
       "\n",
       "                                              nace_code      article  \n",
       "1675  Information service activities; Programming an...  article6(2)  \n",
       "1905  Information service activities; Programming an...  article8(2)  "
      ]
     },
     "execution_count": 168,
     "metadata": {},
     "output_type": "execute_result"
    }
   ],
   "source": [
    "merger_info[merger_info['case_code'] == 'M.7000']"
   ]
  },
  {
   "cell_type": "code",
   "execution_count": 169,
   "metadata": {},
   "outputs": [
    {
     "data": {
      "text/plain": [
       "array([], dtype=object)"
      ]
     },
     "execution_count": 169,
     "metadata": {},
     "output_type": "execute_result"
    }
   ],
   "source": [
    "merged_df[merged_df['case_code'].isnull()]['case_num'].unique()"
   ]
  },
  {
   "cell_type": "code",
   "execution_count": 170,
   "metadata": {},
   "outputs": [
    {
     "data": {
      "text/html": [
       "<div>\n",
       "<style scoped>\n",
       "    .dataframe tbody tr th:only-of-type {\n",
       "        vertical-align: middle;\n",
       "    }\n",
       "\n",
       "    .dataframe tbody tr th {\n",
       "        vertical-align: top;\n",
       "    }\n",
       "\n",
       "    .dataframe thead th {\n",
       "        text-align: right;\n",
       "    }\n",
       "</style>\n",
       "<table border=\"1\" class=\"dataframe\">\n",
       "  <thead>\n",
       "    <tr style=\"text-align: right;\">\n",
       "      <th></th>\n",
       "      <th>case_num</th>\n",
       "      <th>article_new</th>\n",
       "    </tr>\n",
       "  </thead>\n",
       "  <tbody>\n",
       "  </tbody>\n",
       "</table>\n",
       "</div>"
      ],
      "text/plain": [
       "Empty DataFrame\n",
       "Columns: [case_num, article_new]\n",
       "Index: []"
      ]
     },
     "execution_count": 170,
     "metadata": {},
     "output_type": "execute_result"
    }
   ],
   "source": [
    "merged_df[merged_df['case_code'].isnull()][['case_num','article_new']]"
   ]
  },
  {
   "cell_type": "code",
   "execution_count": 171,
   "metadata": {},
   "outputs": [
    {
     "data": {
      "text/html": [
       "<div>\n",
       "<style scoped>\n",
       "    .dataframe tbody tr th:only-of-type {\n",
       "        vertical-align: middle;\n",
       "    }\n",
       "\n",
       "    .dataframe tbody tr th {\n",
       "        vertical-align: top;\n",
       "    }\n",
       "\n",
       "    .dataframe thead th {\n",
       "        text-align: right;\n",
       "    }\n",
       "</style>\n",
       "<table border=\"1\" class=\"dataframe\">\n",
       "  <thead>\n",
       "    <tr style=\"text-align: right;\">\n",
       "      <th></th>\n",
       "      <th>case_code</th>\n",
       "      <th>title</th>\n",
       "      <th>regulation_id</th>\n",
       "      <th>notification_date</th>\n",
       "      <th>simpl_proc</th>\n",
       "      <th>last_decision_date</th>\n",
       "      <th>deadline_date</th>\n",
       "      <th>nace_code</th>\n",
       "      <th>article</th>\n",
       "    </tr>\n",
       "  </thead>\n",
       "  <tbody>\n",
       "    <tr>\n",
       "      <th>1089</th>\n",
       "      <td>M.4719</td>\n",
       "      <td>HEIDELBERGCEMENT / HANSON</td>\n",
       "      <td>Council Regulation 139/2004</td>\n",
       "      <td>2007-07-03</td>\n",
       "      <td>0</td>\n",
       "      <td>2007-08-07</td>\n",
       "      <td>2007-08-07</td>\n",
       "      <td>Manufacture of cement, lime and plaster; Manuf...</td>\n",
       "      <td>article6(2)</td>\n",
       "    </tr>\n",
       "  </tbody>\n",
       "</table>\n",
       "</div>"
      ],
      "text/plain": [
       "     case_code                      title                regulation_id  \\\n",
       "1089    M.4719  HEIDELBERGCEMENT / HANSON  Council Regulation 139/2004   \n",
       "\n",
       "     notification_date  simpl_proc last_decision_date deadline_date  \\\n",
       "1089        2007-07-03           0         2007-08-07    2007-08-07   \n",
       "\n",
       "                                              nace_code      article  \n",
       "1089  Manufacture of cement, lime and plaster; Manuf...  article6(2)  "
      ]
     },
     "execution_count": 171,
     "metadata": {},
     "output_type": "execute_result"
    }
   ],
   "source": [
    "merger_info[merger_info['case_code'].isin(['M.4719'])] # changed to actually 6.2"
   ]
  },
  {
   "attachments": {},
   "cell_type": "markdown",
   "metadata": {},
   "source": [
    "Merge pre-processed and NACE codes"
   ]
  },
  {
   "cell_type": "code",
   "execution_count": 24,
   "metadata": {},
   "outputs": [],
   "source": [
    "# df = pd.read_json(r\"../../data/processed/pre-processed_2023_04_04.json\")\n",
    "\n",
    "merger_info = pd.read_json(r\"../../data/processed/merger_info_2023_03_25.json\")"
   ]
  },
  {
   "cell_type": "code",
   "execution_count": 25,
   "metadata": {},
   "outputs": [],
   "source": [
    "df_merged = pd.merge(df, merger_info, how='left', left_on=['case_num', 'article_new'], right_on=['case_code', 'article'])"
   ]
  },
  {
   "cell_type": "code",
   "execution_count": 26,
   "metadata": {},
   "outputs": [
    {
     "name": "stdout",
     "output_type": "stream",
     "text": [
      "<class 'pandas.core.frame.DataFrame'>\n",
      "Int64Index: 8706 entries, 0 to 8705\n",
      "Data columns (total 22 columns):\n",
      " #   Column              Non-Null Count  Dtype  \n",
      "---  ------              --------------  -----  \n",
      " 0   year                8706 non-null   int64  \n",
      " 1   article_new         8706 non-null   object \n",
      " 2   case_num            8706 non-null   object \n",
      " 3   file                8706 non-null   object \n",
      " 4   section_fin         8706 non-null   object \n",
      " 5   len_pdf             8706 non-null   int64  \n",
      " 6   sec_text            8706 non-null   object \n",
      " 7   count               8706 non-null   int64  \n",
      " 8   text_clean          8706 non-null   object \n",
      " 9   count_text          8706 non-null   int64  \n",
      " 10  phase2              8706 non-null   object \n",
      " 11  wc                  8706 non-null   object \n",
      " 12  competition         8706 non-null   object \n",
      " 13  case_code           5362 non-null   object \n",
      " 14  title               5362 non-null   object \n",
      " 15  regulation_id       5362 non-null   object \n",
      " 16  notification_date   5362 non-null   float64\n",
      " 17  simpl_proc          5362 non-null   float64\n",
      " 18  last_decision_date  5362 non-null   float64\n",
      " 19  deadline_date       4493 non-null   float64\n",
      " 20  nace_code           5352 non-null   object \n",
      " 21  article             5362 non-null   object \n",
      "dtypes: float64(4), int64(4), object(14)\n",
      "memory usage: 1.5+ MB\n"
     ]
    }
   ],
   "source": [
    "df_merged.info()"
   ]
  },
  {
   "cell_type": "code",
   "execution_count": 27,
   "metadata": {},
   "outputs": [],
   "source": [
    "# save json file name\n",
    "date = datetime.date.today().strftime('%Y_%m_%d')\n",
    "\n",
    "file_name = f\"../../data/processed/pre-processed_merged_{date}.json\"\n",
    "if os.path.exists(file_name):\n",
    "    os.remove(file_name)\n",
    "\n",
    "# save file as json\n",
    "df_merged.to_json(file_name)"
   ]
  },
  {
   "cell_type": "code",
   "execution_count": null,
   "metadata": {},
   "outputs": [],
   "source": []
  },
  {
   "cell_type": "code",
   "execution_count": null,
   "metadata": {},
   "outputs": [],
   "source": []
  },
  {
   "attachments": {},
   "cell_type": "markdown",
   "metadata": {},
   "source": [
    "Pre-process with NLTk backup"
   ]
  },
  {
   "cell_type": "code",
   "execution_count": 103,
   "metadata": {},
   "outputs": [],
   "source": [
    "# nltk.download(\"stopwords\")\n",
    "# from nltk.corpus import stopwords"
   ]
  },
  {
   "cell_type": "code",
   "execution_count": 104,
   "metadata": {},
   "outputs": [],
   "source": [
    "# nltk.download('punkt')"
   ]
  },
  {
   "cell_type": "code",
   "execution_count": 105,
   "metadata": {},
   "outputs": [],
   "source": [
    "## Removal of stopwords, punctuations, numeric characters\n",
    "# def preprocess_corpus(texts):\n",
    "#     eng_stopwords = set(stopwords.words(\"english\"))\n",
    "#     def remove_stops_digits(tokens):\n",
    "#         token_list =  [token.lower() for token in tokens if token not in eng_stopwords and token not in punctuation and token.isdigit() == False]\n",
    "#         processed_text = ' '.join(token_list)\n",
    "#         return processed_text\n",
    "#     return [remove_stops_digits(word_tokenize(text)) for text in texts]"
   ]
  },
  {
   "attachments": {},
   "cell_type": "markdown",
   "metadata": {},
   "source": [
    "Coreference resolution"
   ]
  },
  {
   "cell_type": "code",
   "execution_count": null,
   "metadata": {},
   "outputs": [],
   "source": [
    "# df = pd.read_json(r\"../../data/processed/pre-processed_2023_03_11.json\")"
   ]
  },
  {
   "cell_type": "code",
   "execution_count": 89,
   "metadata": {},
   "outputs": [],
   "source": [
    "# #installing neuralcoref from source\n",
    "# !git clone https://github.com/huggingface/neuralcoref.git\n",
    "# !cd \"D:\\Desktop\\Thesis\\predicting-merger-decision-outcomes\\src\\python\\notebook\\neuralcoref\"\n",
    "# !pip install -r requirements.txt\n",
    "# !pip install -e .\n",
    "# !pip install spacy\n",
    "# !pip install -U neuralcoref"
   ]
  },
  {
   "cell_type": "code",
   "execution_count": 95,
   "metadata": {},
   "outputs": [],
   "source": [
    "# import neuralcoref"
   ]
  },
  {
   "cell_type": "code",
   "execution_count": 91,
   "metadata": {},
   "outputs": [],
   "source": [
    "# import spacy"
   ]
  },
  {
   "cell_type": "code",
   "execution_count": 92,
   "metadata": {},
   "outputs": [],
   "source": [
    "# nlp = spacy.load('en_core_web_lg') "
   ]
  },
  {
   "cell_type": "code",
   "execution_count": null,
   "metadata": {},
   "outputs": [],
   "source": [
    "# neuralcoref.add_to_pipe(nlp)"
   ]
  },
  {
   "cell_type": "code",
   "execution_count": 93,
   "metadata": {},
   "outputs": [],
   "source": [
    "# import spacy\n",
    "# nlp = spacy.load('en')"
   ]
  },
  {
   "cell_type": "code",
   "execution_count": null,
   "metadata": {},
   "outputs": [],
   "source": [
    "# def coref_res(texts):\n",
    "#     doc = nlp(texts)\n",
    "#     clean = doc._.coref_resolved\n",
    "#     return clean\n",
    "\n",
    "# df['text_clean'] = [coref_res(text) for text in df['text_clean']]"
   ]
  }
 ],
 "metadata": {
  "kernelspec": {
   "display_name": "thesis",
   "language": "python",
   "name": "python3"
  },
  "language_info": {
   "codemirror_mode": {
    "name": "ipython",
    "version": 3
   },
   "file_extension": ".py",
   "mimetype": "text/x-python",
   "name": "python",
   "nbconvert_exporter": "python",
   "pygments_lexer": "ipython3",
   "version": "3.10.4"
  },
  "orig_nbformat": 4,
  "vscode": {
   "interpreter": {
    "hash": "b8a34a3bb875764d64c764b9cffa891f179e7153a1578da198ecc075e870264c"
   }
  }
 },
 "nbformat": 4,
 "nbformat_minor": 2
}
