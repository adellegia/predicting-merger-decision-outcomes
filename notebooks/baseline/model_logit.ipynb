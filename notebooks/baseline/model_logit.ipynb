{
 "cells": [
  {
   "cell_type": "code",
   "execution_count": 1,
   "metadata": {},
   "outputs": [],
   "source": [
    "# Data visualization\n",
    "import matplotlib.pyplot as plt\n",
    "\n",
    "# Data manipulation\n",
    "import pandas as pd\n",
    "import numpy as np\n",
    "\n",
    "import glob, re, os, sys, random\n",
    "from random import shuffle\n",
    "import random\n",
    "from time import time\n",
    "\n",
    "# Vector representations and embeddings\n",
    "from sklearn.feature_extraction.text import TfidfVectorizer, CountVectorizer\n",
    "import gensim\n",
    "\n",
    "# Modeling - Logistic, XGBOOST, SVM\n",
    "from sklearn.model_selection import GridSearchCV, train_test_split, StratifiedShuffleSplit\n",
    "from sklearn.preprocessing import LabelEncoder\n",
    "\n",
    "from imblearn.over_sampling import RandomOverSampler\n",
    "from imblearn.under_sampling import RandomUnderSampler\n",
    "\n",
    "from sklearn.linear_model import LogisticRegression\n",
    "from sklearn.svm import LinearSVC\n",
    "\n",
    "from sklearn.model_selection import cross_val_predict, cross_val_score\n",
    "from sklearn.metrics import accuracy_score, precision_recall_fscore_support, precision_score, recall_score, f1_score\n",
    "from sklearn.metrics import classification_report, confusion_matrix, precision_recall_fscore_support\n",
    "\n",
    "from sklearn.pipeline import Pipeline, FeatureUnion\n",
    "\n",
    "from xgboost import XGBClassifier\n",
    "import pickle\n"
   ]
  },
  {
   "cell_type": "code",
   "execution_count": 2,
   "metadata": {},
   "outputs": [],
   "source": [
    "import sys\n",
    "sys.path.append(f'../../src/python')\n",
    "\n",
    "from balance_split_data import create_label, balance_unique_id, \\\n",
    "create_balanced_excluded, create_train_test_excluded, group_by_case, create_feature_label\n",
    "\n",
    "from grid_search import gridsearch, fit_best_model_train, evaluate, fit_best_model_test, get_feature_importance_cv\n",
    "\n",
    "from ml_model import train_model_cross_val, train_model_test, \\\n",
    "get_feature_importance, get_feature_importance10"
   ]
  },
  {
   "attachments": {},
   "cell_type": "markdown",
   "metadata": {},
   "source": [
    "### Load data"
   ]
  },
  {
   "cell_type": "code",
   "execution_count": 3,
   "metadata": {},
   "outputs": [],
   "source": [
    "df = pd.read_json(r\"../../data/processed/pre-processed_2023_03_11.json\")\n",
    "\n",
    "df.drop_duplicates(subset=['article_new', 'case_num', 'file', 'section_fin'], keep='first', inplace=True)\n",
    "df=df.reset_index(drop=True)"
   ]
  },
  {
   "attachments": {},
   "cell_type": "markdown",
   "metadata": {},
   "source": [
    "We need to remove some obvious words like 'european commission', 'statement objection', etc. These are most likely frequest terms as well."
   ]
  },
  {
   "cell_type": "code",
   "execution_count": 4,
   "metadata": {},
   "outputs": [],
   "source": [
    "# Define a regular expression pattern to match the unwanted words\n",
    "remove_words = ['statement objection', 'en', 'phase ii', 'rfi', 'request information',\n",
    "                'european commission']\n",
    "remove_pattern = re.compile(r'\\b(' + '|'.join(remove_words) + r')\\b', flags=re.IGNORECASE)\n",
    "df['text_clean'] = df['text_clean'].replace(remove_pattern, '', regex=True)"
   ]
  },
  {
   "attachments": {},
   "cell_type": "markdown",
   "metadata": {},
   "source": [
    "### Balance data and split to train and test set"
   ]
  },
  {
   "cell_type": "code",
   "execution_count": 5,
   "metadata": {},
   "outputs": [],
   "source": [
    "label_name = \"phase2\""
   ]
  },
  {
   "cell_type": "code",
   "execution_count": 6,
   "metadata": {},
   "outputs": [
    {
     "name": "stdout",
     "output_type": "stream",
     "text": [
      "Total decisions: 1583\n",
      "0    1485\n",
      "1      98\n",
      "Name: label, dtype: int64\n",
      "Balancing...\n",
      "Total decisions: 196\n",
      "Labels distribution: \n",
      " 0    98\n",
      "1    98\n",
      "Name: 0, dtype: int64\n",
      "Training set shape: (157,) (157,)\n",
      "Test set shape: (40,) (40,)\n",
      "Creating df_train 1: 78 0: 80\n",
      "Creating df_test1 1: 21 0: 20\n",
      "Creating df_test concatenated with df_excluded with len: 1386\n",
      "Creating df_test 1: 21 0: 1406\n",
      "Grouping df_train by case_num 1: 78 0: 80\n",
      "Grouping df_test by case_num 1: 21 0: 1406\n",
      "Grouping df_test1 by case_num 1: 21 0: 20\n",
      "Grouping df_excluded by case_num with len: 1386\n"
     ]
    }
   ],
   "source": [
    "df1 = create_label(df, label_name)\n",
    "df_unique = balance_unique_id(df1)\n",
    "df_balanced_unique, df_balanced, df_excluded = create_balanced_excluded(df_unique, df1)\n",
    "df_train, df_test, df_test1 = create_train_test_excluded(df_balanced, df_balanced_unique, df_excluded)\n",
    "df_train_grouped, df_test_grouped, df_test1_grouped, df_excluded_grouped = group_by_case(df_train, df_test, df_test1, df_excluded)"
   ]
  },
  {
   "cell_type": "code",
   "execution_count": 7,
   "metadata": {},
   "outputs": [],
   "source": [
    "X_train, y_train, X_test, y_test, X_test1, y_test1, X_test2, y_test2 = create_feature_label(df_train_grouped, df_test_grouped, df_test1_grouped, df_excluded_grouped)"
   ]
  },
  {
   "attachments": {},
   "cell_type": "markdown",
   "metadata": {},
   "source": [
    "### Hyperparameter tuning with GridSearch Cross Validation"
   ]
  },
  {
   "cell_type": "code",
   "execution_count": 8,
   "metadata": {},
   "outputs": [],
   "source": [
    "# Define model\n",
    "solver='liblinear'\n",
    "model = LogisticRegression(solver=solver)\n",
    "\n",
    "# Create a pipeline with TfidfVectorizer and Model\n",
    "pipeline = Pipeline([\n",
    "    ('tfidf', TfidfVectorizer(analyzer='word', max_features=5000, stop_words='english')),\n",
    "    ('clf', model)\n",
    "\n",
    "])\n",
    "\n",
    "# Define the grid of hyperparameters to search over\n",
    "parameters = {\n",
    "    'tfidf__ngram_range': [(2,2),(2,3), (2,4), (3,3), (3,4)], #(1,2),(1,1),(1,3),\n",
    "    #'tfidf__analyzer': ('word', 'char'),\n",
    "    #'tfidf__lowercase': (True, False),\n",
    "    'tfidf__max_df': [[0.01, 0.10, 0.2]], # (0.01, 1.0), # ignore words that occur as more than x% of corpus\n",
    "    # 'tfidf__min_df': (1, 2, 3), # we need to see a word at least (once, twice, thrice) in a document\n",
    "    'tfidf__use_idf': (False, True), # use inverse document frequency weighting\n",
    "    #'tfidf__sublinear_tf': (False, True),\n",
    "    'tfidf__binary': (False, True), #set term frequency binary (all non-zero terms are set to 1)\n",
    "    'tfidf__norm': ('l1', 'l2'), #norm used to normalize term vectors\n",
    "    # 'tfidf__max_features': (None, 2000, 5000),\n",
    "    #'tfidf__stop_words': (None, 'english'),\n",
    "\n",
    "    # 'clf__solver': ['liblinear', 'lbfgs'],\n",
    "    'clf__C':(0.1, 1, 5) # penalty parameter for the model\n",
    "}"
   ]
  },
  {
   "cell_type": "code",
   "execution_count": 10,
   "metadata": {},
   "outputs": [
    {
     "name": "stdout",
     "output_type": "stream",
     "text": [
      "Fitting 3 folds for each of 768 candidates, totalling 2304 fits\n",
      "done in 4093.514s\n",
      "Best cross-validation score:  0.9325116713352007\n",
      "Best parameters set:\n",
      "\tclf__C: 5\n",
      "\ttfidf__binary: True\n",
      "\ttfidf__max_df: 0.25\n",
      "\ttfidf__ngram_range: (1, 3)\n",
      "\ttfidf__norm: 'l2'\n",
      "\ttfidf__use_idf: True\n"
     ]
    }
   ],
   "source": [
    "grid_search, best_parameters = gridsearch(pipeline, parameters, X_train, y_train, cv=3, scoring='f1')"
   ]
  },
  {
   "attachments": {},
   "cell_type": "markdown",
   "metadata": {},
   "source": [
    "##### Model fitting and evaluation"
   ]
  },
  {
   "cell_type": "code",
   "execution_count": 74,
   "metadata": {},
   "outputs": [
    {
     "name": "stdout",
     "output_type": "stream",
     "text": [
      "fitting the best model\n",
      "Accuracy: 0.930379746835443\n",
      "\n",
      "Classification report:\n",
      "               precision    recall  f1-score   support\n",
      "\n",
      "           0       0.94      0.93      0.93        80\n",
      "           1       0.92      0.94      0.93        78\n",
      "\n",
      "    accuracy                           0.93       158\n",
      "   macro avg       0.93      0.93      0.93       158\n",
      "weighted avg       0.93      0.93      0.93       158\n",
      "\n",
      "\n",
      "CR: (0.9303797468354431, 0.930448717948718, 0.9303769578976887, None)\n",
      "\n",
      "Confusion matrix:\n",
      " [[74  6]\n",
      " [ 5 73]] \n",
      "\n",
      "_______________________\n",
      "\n",
      "\n",
      " Accuracy: 93.04 \n",
      " Precision: 0.924 \n",
      " Recall: 0.936 \n",
      " F1: 0.930\n"
     ]
    }
   ],
   "source": [
    "pipeline_cv, y_predict_cv = fit_best_model_train(X_train, y_train, model, best_parameters, cv=3)"
   ]
  },
  {
   "cell_type": "code",
   "execution_count": 76,
   "metadata": {},
   "outputs": [
    {
     "name": "stdout",
     "output_type": "stream",
     "text": [
      "Accuracy: 0.930379746835443\n",
      "\n",
      "Classification report:\n",
      "               precision    recall  f1-score   support\n",
      "\n",
      "           0       0.94      0.93      0.93        80\n",
      "           1       0.92      0.94      0.93        78\n",
      "\n",
      "    accuracy                           0.93       158\n",
      "   macro avg       0.93      0.93      0.93       158\n",
      "weighted avg       0.93      0.93      0.93       158\n",
      "\n",
      "\n",
      "CR: (0.9303797468354431, 0.930448717948718, 0.9303769578976887, None)\n",
      "\n",
      "Confusion matrix:\n",
      " [[74  6]\n",
      " [ 5 73]] \n",
      "\n",
      "_______________________\n",
      "\n",
      "\n",
      " Accuracy: 93.04 \n",
      " Precision: 0.924 \n",
      " Recall: 0.936 \n",
      " F1: 0.930\n"
     ]
    }
   ],
   "source": [
    "evaluate(y_train, y_predict_cv)"
   ]
  },
  {
   "attachments": {},
   "cell_type": "markdown",
   "metadata": {},
   "source": [
    "Saving the features and coefficients into a dataframe determined by gridsearchCV best_parameters."
   ]
  },
  {
   "cell_type": "code",
   "execution_count": 102,
   "metadata": {},
   "outputs": [
    {
     "data": {
      "text/html": [
       "<div>\n",
       "<style scoped>\n",
       "    .dataframe tbody tr th:only-of-type {\n",
       "        vertical-align: middle;\n",
       "    }\n",
       "\n",
       "    .dataframe tbody tr th {\n",
       "        vertical-align: top;\n",
       "    }\n",
       "\n",
       "    .dataframe thead th {\n",
       "        text-align: right;\n",
       "    }\n",
       "</style>\n",
       "<table border=\"1\" class=\"dataframe\">\n",
       "  <thead>\n",
       "    <tr style=\"text-align: right;\">\n",
       "      <th></th>\n",
       "      <th>feature</th>\n",
       "      <th>importance</th>\n",
       "    </tr>\n",
       "  </thead>\n",
       "  <tbody>\n",
       "    <tr>\n",
       "      <th>1691</th>\n",
       "      <td>europese</td>\n",
       "      <td>-0.805246</td>\n",
       "    </tr>\n",
       "    <tr>\n",
       "      <th>600</th>\n",
       "      <td>commissie</td>\n",
       "      <td>-0.805246</td>\n",
       "    </tr>\n",
       "    <tr>\n",
       "      <th>429</th>\n",
       "      <td>brussel</td>\n",
       "      <td>-0.805246</td>\n",
       "    </tr>\n",
       "    <tr>\n",
       "      <th>1692</th>\n",
       "      <td>europese commissie</td>\n",
       "      <td>-0.805246</td>\n",
       "    </tr>\n",
       "    <tr>\n",
       "      <th>434</th>\n",
       "      <td>bruxelles</td>\n",
       "      <td>-0.790418</td>\n",
       "    </tr>\n",
       "  </tbody>\n",
       "</table>\n",
       "</div>"
      ],
      "text/plain": [
       "                 feature  importance\n",
       "1691            europese   -0.805246\n",
       "600            commissie   -0.805246\n",
       "429              brussel   -0.805246\n",
       "1692  europese commissie   -0.805246\n",
       "434            bruxelles   -0.790418"
      ]
     },
     "execution_count": 102,
     "metadata": {},
     "output_type": "execute_result"
    }
   ],
   "source": [
    "df_features_cv = get_feature_importance_cv(pipeline_cv)\n",
    "df_features_cv.to_excel('../../../../output/features_logit_cv_full.xlsx', index=True)\n",
    "df_features_cv.head()"
   ]
  },
  {
   "cell_type": "code",
   "execution_count": 75,
   "metadata": {},
   "outputs": [
    {
     "name": "stdout",
     "output_type": "stream",
     "text": [
      "testing on test set\n",
      "Accuracy: 0.9482517482517483\n",
      "\n",
      "Classification report:\n",
      "               precision    recall  f1-score   support\n",
      "\n",
      "           0       1.00      0.95      0.97      1409\n",
      "           1       0.20      0.86      0.33        21\n",
      "\n",
      "    accuracy                           0.95      1430\n",
      "   macro avg       0.60      0.90      0.65      1430\n",
      "weighted avg       0.99      0.95      0.96      1430\n",
      "\n",
      "\n",
      "CR: (0.6000050272729558, 0.9033762546892425, 0.6501818181818182, None)\n",
      "\n",
      "Confusion matrix:\n",
      " [[1338   71]\n",
      " [   3   18]] \n",
      "\n",
      "_______________________\n",
      "\n",
      "\n",
      " Accuracy: 94.83 \n",
      " Precision: 0.202 \n",
      " Recall: 0.857 \n",
      " F1: 0.327\n"
     ]
    }
   ],
   "source": [
    "y_predict_cv_test = fit_best_model_test(X_test, y_test, pipeline_cv)"
   ]
  },
  {
   "cell_type": "code",
   "execution_count": null,
   "metadata": {},
   "outputs": [],
   "source": []
  },
  {
   "cell_type": "code",
   "execution_count": null,
   "metadata": {},
   "outputs": [],
   "source": []
  },
  {
   "cell_type": "code",
   "execution_count": null,
   "metadata": {},
   "outputs": [],
   "source": []
  },
  {
   "attachments": {},
   "cell_type": "markdown",
   "metadata": {},
   "source": [
    "### Model training (with 10-fold CV) using *best/chosen* parameters from GridSearch"
   ]
  },
  {
   "attachments": {},
   "cell_type": "markdown",
   "metadata": {},
   "source": [
    "Set parameters based on grdisearch or choose parameters to set"
   ]
  },
  {
   "cell_type": "code",
   "execution_count": 66,
   "metadata": {},
   "outputs": [
    {
     "name": "stdout",
     "output_type": "stream",
     "text": [
      "\tclf__C: 5\n",
      "\ttfidf__binary: True\n",
      "\ttfidf__max_df: 0.25\n",
      "\ttfidf__ngram_range: (1, 3)\n",
      "\ttfidf__norm: 'l2'\n",
      "\ttfidf__use_idf: True\n"
     ]
    }
   ],
   "source": [
    "for param_name in sorted(parameters.keys()):\n",
    "        print(\"\\t%s: %r\" % (param_name, best_parameters[param_name]))"
   ]
  },
  {
   "cell_type": "code",
   "execution_count": 312,
   "metadata": {},
   "outputs": [],
   "source": [
    "vec = ('wordvec', TfidfVectorizer(analyzer = 'word', max_features=5000, stop_words='english', ngram_range = (3,3), binary = True, max_df = 0.01, norm = 'l2', use_idf = True))\n",
    "c = 5\n",
    "solver = 'liblinear'\n",
    "model=LogisticRegression(C=c, solver=solver)"
   ]
  },
  {
   "cell_type": "code",
   "execution_count": 313,
   "metadata": {},
   "outputs": [
    {
     "name": "stdout",
     "output_type": "stream",
     "text": [
      "***10-fold cross-validation***\n",
      "Accuracy: 0.6329113924050633\n",
      "\n",
      "Classification report:\n",
      "               precision    recall  f1-score   support\n",
      "\n",
      "           0       0.59      0.94      0.72        80\n",
      "           1       0.83      0.32      0.46        78\n",
      "\n",
      "    accuracy                           0.63       158\n",
      "   macro avg       0.71      0.63      0.59       158\n",
      "weighted avg       0.71      0.63      0.59       158\n",
      "\n",
      "\n",
      "CR: (0.7096354166666667, 0.6290064102564102, 0.5920584045584045, None)\n",
      "\n",
      "Confusion matrix:\n",
      " [[75  5]\n",
      " [53 25]] \n",
      "\n",
      "_______________________\n",
      "\n",
      "\n",
      " Accuracy: 63.29 \n",
      " Precision: 0.833 \n",
      " Recall: 0.321 \n",
      " F1: 0.463\n"
     ]
    }
   ],
   "source": [
    "pipeline_train, trained_model, y_predict_train = train_model_cross_val(X_train, y_train, vec=vec, model=model, cv=10)"
   ]
  },
  {
   "cell_type": "code",
   "execution_count": 314,
   "metadata": {},
   "outputs": [
    {
     "name": "stdout",
     "output_type": "stream",
     "text": [
      "***testing on test set***\n",
      "Accuracy: 0.9657342657342657\n",
      "\n",
      "Classification report:\n",
      "               precision    recall  f1-score   support\n",
      "\n",
      "           0       0.99      0.98      0.98      1409\n",
      "           1       0.11      0.19      0.14        21\n",
      "\n",
      "    accuracy                           0.97      1430\n",
      "   macro avg       0.55      0.58      0.56      1430\n",
      "weighted avg       0.97      0.97      0.97      1430\n",
      "\n",
      "\n",
      "CR: (0.5494579945799458, 0.5838825239109129, 0.561434803562599, None)\n",
      "\n",
      "Confusion matrix:\n",
      " [[1377   32]\n",
      " [  17    4]] \n",
      "\n",
      "_______________________\n",
      "\n",
      "\n",
      " Accuracy: 96.57 \n",
      " Precision: 0.111 \n",
      " Recall: 0.190 \n",
      " F1: 0.140\n"
     ]
    }
   ],
   "source": [
    "pipeline_test, y_predict_test = train_model_test(X_train, y_train, X_test, y_test, model=model, vec=vec)"
   ]
  },
  {
   "cell_type": "code",
   "execution_count": null,
   "metadata": {},
   "outputs": [],
   "source": []
  },
  {
   "cell_type": "code",
   "execution_count": null,
   "metadata": {},
   "outputs": [],
   "source": []
  },
  {
   "attachments": {},
   "cell_type": "markdown",
   "metadata": {},
   "source": [
    "### Feature importance"
   ]
  },
  {
   "cell_type": "code",
   "execution_count": 319,
   "metadata": {},
   "outputs": [
    {
     "data": {
      "text/html": [
       "<div>\n",
       "<style scoped>\n",
       "    .dataframe tbody tr th:only-of-type {\n",
       "        vertical-align: middle;\n",
       "    }\n",
       "\n",
       "    .dataframe tbody tr th {\n",
       "        vertical-align: top;\n",
       "    }\n",
       "\n",
       "    .dataframe thead th {\n",
       "        text-align: right;\n",
       "    }\n",
       "</style>\n",
       "<table border=\"1\" class=\"dataframe\">\n",
       "  <thead>\n",
       "    <tr style=\"text-align: right;\">\n",
       "      <th></th>\n",
       "      <th>feature</th>\n",
       "      <th>importance</th>\n",
       "      <th>abs_importance</th>\n",
       "    </tr>\n",
       "  </thead>\n",
       "  <tbody>\n",
       "    <tr>\n",
       "      <th>2401</th>\n",
       "      <td>plastic pa ep</td>\n",
       "      <td>1.320381</td>\n",
       "      <td>1.320381</td>\n",
       "    </tr>\n",
       "    <tr>\n",
       "      <th>2353</th>\n",
       "      <td>plastic glass organic</td>\n",
       "      <td>-1.040707</td>\n",
       "      <td>1.040707</td>\n",
       "    </tr>\n",
       "    <tr>\n",
       "      <th>2988</th>\n",
       "      <td>platform collude coverage</td>\n",
       "      <td>-1.040707</td>\n",
       "      <td>1.040707</td>\n",
       "    </tr>\n",
       "    <tr>\n",
       "      <th>4909</th>\n",
       "      <td>player coverage region</td>\n",
       "      <td>-1.040707</td>\n",
       "      <td>1.040707</td>\n",
       "    </tr>\n",
       "    <tr>\n",
       "      <th>3603</th>\n",
       "      <td>platform technical manufacturing</td>\n",
       "      <td>-1.040707</td>\n",
       "      <td>1.040707</td>\n",
       "    </tr>\n",
       "    <tr>\n",
       "      <th>3604</th>\n",
       "      <td>platform technology chrysler</td>\n",
       "      <td>-1.040707</td>\n",
       "      <td>1.040707</td>\n",
       "    </tr>\n",
       "    <tr>\n",
       "      <th>3294</th>\n",
       "      <td>platform larger range</td>\n",
       "      <td>-1.040707</td>\n",
       "      <td>1.040707</td>\n",
       "    </tr>\n",
       "    <tr>\n",
       "      <th>4642</th>\n",
       "      <td>player bat jt</td>\n",
       "      <td>-1.040707</td>\n",
       "      <td>1.040707</td>\n",
       "    </tr>\n",
       "    <tr>\n",
       "      <th>2207</th>\n",
       "      <td>plasma gas traditional</td>\n",
       "      <td>-1.040707</td>\n",
       "      <td>1.040707</td>\n",
       "    </tr>\n",
       "    <tr>\n",
       "      <th>4978</th>\n",
       "      <td>player depends business</td>\n",
       "      <td>-1.040707</td>\n",
       "      <td>1.040707</td>\n",
       "    </tr>\n",
       "  </tbody>\n",
       "</table>\n",
       "</div>"
      ],
      "text/plain": [
       "                               feature  importance  abs_importance\n",
       "2401                     plastic pa ep    1.320381        1.320381\n",
       "2353             plastic glass organic   -1.040707        1.040707\n",
       "2988         platform collude coverage   -1.040707        1.040707\n",
       "4909            player coverage region   -1.040707        1.040707\n",
       "3603  platform technical manufacturing   -1.040707        1.040707\n",
       "3604      platform technology chrysler   -1.040707        1.040707\n",
       "3294             platform larger range   -1.040707        1.040707\n",
       "4642                     player bat jt   -1.040707        1.040707\n",
       "2207            plasma gas traditional   -1.040707        1.040707\n",
       "4978           player depends business   -1.040707        1.040707"
      ]
     },
     "execution_count": 319,
     "metadata": {},
     "output_type": "execute_result"
    }
   ],
   "source": [
    "df_features_train, feature_importance, feature_names = get_feature_importance(trained_model, pipeline_train)\n",
    "df_features_train.head(10)"
   ]
  },
  {
   "cell_type": "code",
   "execution_count": 320,
   "metadata": {},
   "outputs": [],
   "source": [
    "# df_features_train = df_features_train.sort_values(by='abs_importance', ascending=False)\n",
    "# df_features_train_top10 = df_features_train.nlargest(10, 'abs_importance') #importance\n",
    "\n",
    "# fig, ax = plt.subplots(figsize=(8, 6))\n",
    "# ax.bar(df_features_train_top10['feature'], df_features_train_top10['importance'], color='darkgreen')\n",
    "# ax.set_xlabel('Importance')\n",
    "# ax.set_title('Top 10 Features by Absolute Importance')\n",
    "\n",
    "# plt.show()\n"
   ]
  },
  {
   "attachments": {},
   "cell_type": "markdown",
   "metadata": {},
   "source": [
    "Get features for label = 1 and label = 0"
   ]
  },
  {
   "cell_type": "code",
   "execution_count": 321,
   "metadata": {},
   "outputs": [],
   "source": [
    "df_features_train1, df_features_train0 = get_feature_importance10(df_features_train)"
   ]
  },
  {
   "cell_type": "code",
   "execution_count": 322,
   "metadata": {},
   "outputs": [
    {
     "data": {
      "image/png": "[encoded data removed]",
      "text/plain": [
       "<Figure size 1200x800 with 1 Axes>"
      ]
     },
     "metadata": {},
     "output_type": "display_data"
    }
   ],
   "source": [
    "# Sort the features by absolute importance for label=1\n",
    "df_features_train1 = df_features_train1.sort_values(by='abs_importance', ascending=False)\n",
    "df_features_train1_top10 = df_features_train1.nlargest(10, 'abs_importance')\n",
    "\n",
    "# Sort the features by absolute importance for label=0\n",
    "df_features_train0 = df_features_train0.sort_values(by='abs_importance', ascending=False)\n",
    "df_features_train0_top10 = df_features_train0.nlargest(10, 'abs_importance')\n",
    "\n",
    "# Create a combined bar chart\n",
    "fig, ax = plt.subplots(figsize=(12, 8))\n",
    "ax.barh(df_features_train1_top10['feature'], df_features_train1_top10['importance'], color='maroon', label='Phase 2=1')\n",
    "ax.barh(df_features_train0_top10['feature'], df_features_train0_top10['importance'], color='darkblue', label='Phase 2=0')\n",
    "ax.set_xlabel('Features')\n",
    "ax.set_ylabel('Importance')\n",
    "ax.set_title('Top 10 Features by Importance')\n",
    "ax.legend()\n",
    "plt.xticks(rotation=90)\n",
    "plt.show()\n"
   ]
  },
  {
   "cell_type": "code",
   "execution_count": 306,
   "metadata": {},
   "outputs": [],
   "source": [
    "df_features_train.to_excel('../../../../output/features_logit_train_full.xlsx', index=True)\n",
    "# df_features_train1.to_excel('../../../../output/features_logit_train1_full.xlsx', index=True)\n",
    "# df_features_train0.to_excel('../../../../output/features_logit_train0_full.xlsx', index=True)"
   ]
  },
  {
   "cell_type": "code",
   "execution_count": 229,
   "metadata": {},
   "outputs": [],
   "source": []
  },
  {
   "cell_type": "code",
   "execution_count": null,
   "metadata": {},
   "outputs": [],
   "source": []
  }
 ],
 "metadata": {
  "kernelspec": {
   "display_name": "thesis",
   "language": "python",
   "name": "python3"
  },
  "language_info": {
   "codemirror_mode": {
    "name": "ipython",
    "version": 3
   },
   "file_extension": ".py",
   "mimetype": "text/x-python",
   "name": "python",
   "nbconvert_exporter": "python",
   "pygments_lexer": "ipython3",
   "version": "3.10.4"
  },
  "orig_nbformat": 4
 },
 "nbformat": 4,
 "nbformat_minor": 2
}
