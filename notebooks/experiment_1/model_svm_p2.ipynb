{
 "cells": [
  {
   "cell_type": "code",
   "execution_count": 1,
   "metadata": {},
   "outputs": [],
   "source": [
    "# Data visualization\n",
    "import matplotlib.pyplot as plt\n",
    "\n",
    "# Data manipulation\n",
    "import pandas as pd\n",
    "import numpy as np\n",
    "\n",
    "# Vector representations and embeddings\n",
    "from sklearn.feature_extraction.text import TfidfVectorizer, CountVectorizer\n",
    "import gensim\n",
    "\n",
    "# Modeling - Logistic, XGBOOST, SVM\n",
    "from sklearn.linear_model import LogisticRegression\n",
    "from sklearn.svm import LinearSVC"
   ]
  },
  {
   "cell_type": "code",
   "execution_count": 2,
   "metadata": {},
   "outputs": [],
   "source": [
    "import sys\n",
    "sys.path.append(f'../../../python')\n",
    "\n",
    "from balance_split_data import create_label, balance_unique_id, \\\n",
    "create_balanced_excluded, create_train_test_excluded, group_by_case, create_feature_label\n",
    "\n",
    "from grid_search import gridsearch, fit_best_model_train, evaluate, fit_best_model_test, get_feature_importance_cv\n",
    "\n",
    "from ml_model import train_model_cross_val, train_model_test, get_feature_importance, get_feature_importance10, eval_matrix"
   ]
  },
  {
   "attachments": {},
   "cell_type": "markdown",
   "metadata": {},
   "source": [
    "### Load data"
   ]
  },
  {
   "cell_type": "code",
   "execution_count": 3,
   "metadata": {},
   "outputs": [],
   "source": [
    "df = pd.read_json(r\"../../../../data/processed/pre-processed_merged_2023_04_04.json\")\n",
    "random_seed=42\n",
    "random_state=42"
   ]
  },
  {
   "attachments": {},
   "cell_type": "markdown",
   "metadata": {},
   "source": [
    "### Balance data and split to train and test set"
   ]
  },
  {
   "cell_type": "code",
   "execution_count": 4,
   "metadata": {},
   "outputs": [],
   "source": [
    "label_name = \"phase2\""
   ]
  },
  {
   "cell_type": "code",
   "execution_count": 5,
   "metadata": {},
   "outputs": [
    {
     "name": "stdout",
     "output_type": "stream",
     "text": [
      "Total decisions: 1583\n",
      "0    1485\n",
      "1      98\n",
      "Name: label, dtype: int64\n",
      "Balancing...\n",
      "Total decisions: 196\n",
      "Labels distribution: \n",
      " 0    98\n",
      "1    98\n",
      "Name: 0, dtype: int64\n",
      "Training set shape: (157,) (157,)\n",
      "Test set shape: (40,) (40,)\n",
      "Creating df_train 1: 78 0: 79\n",
      "Creating df_test1 1: 20 0: 20\n",
      "Creating df_test concatenated with df_excluded with len: 1386\n",
      "Creating df_test 1: 20 0: 1406\n",
      "Grouping df_train by case_num 1: 78 0: 79\n",
      "Grouping df_test by case_num 1: 20 0: 1406\n",
      "Grouping df_test1 by case_num 1: 20 0: 20\n",
      "Grouping df_excluded by case_num with len: 1386\n"
     ]
    }
   ],
   "source": [
    "df1 = create_label(df, label_name)\n",
    "df_unique = balance_unique_id(df1)\n",
    "df_balanced_unique, df_balanced, df_excluded = create_balanced_excluded(df_unique, df1, random_seed=42)\n",
    "df_train, df_test, df_test1 = create_train_test_excluded(df_balanced, df_balanced_unique, df_excluded, random_state=42)\n",
    "df_train_grouped, df_test_grouped, df_test1_grouped, df_excluded_grouped = group_by_case(df_train, df_test, df_test1, df_excluded)"
   ]
  },
  {
   "cell_type": "code",
   "execution_count": 6,
   "metadata": {},
   "outputs": [],
   "source": [
    "X_train, y_train, X_test, y_test, X_test1, y_test1, X_test2, y_test2 = create_feature_label(df_train_grouped, df_test_grouped, df_test1_grouped, df_excluded_grouped)"
   ]
  },
  {
   "attachments": {},
   "cell_type": "markdown",
   "metadata": {},
   "source": [
    "### Model training (with 10-fold CV) using best parameters from GridSearch"
   ]
  },
  {
   "cell_type": "code",
   "execution_count": 7,
   "metadata": {},
   "outputs": [],
   "source": [
    "# for param_name in sorted(parameters.keys()):\n",
    "#         print(\"\\t%s: %r\" % (param_name, best_parameters[param_name]))\n",
    "\n",
    "# \tclf__C: 0.1\n",
    "# \ttfidf__binary: True\n",
    "# \ttfidf__max_df: 0.05\n",
    "# \ttfidf__ngram_range: (1, 2)\n",
    "# \ttfidf__norm: 'l2'\n",
    "# \ttfidf__use_idf: False"
   ]
  },
  {
   "cell_type": "code",
   "execution_count": 8,
   "metadata": {},
   "outputs": [],
   "source": [
    "vec = ('wordvec', TfidfVectorizer(analyzer = 'word', max_features=5000, lowercase=False, stop_words=None, \\ \n",
    "                                  ngram_range = (1,2), binary = True, max_df = 0.05, norm = 'l2', use_idf = False))\n",
    "c = 0.1\n",
    "# solver = 'liblinear'\n",
    "model=LinearSVC(C=c)"
   ]
  },
  {
   "cell_type": "code",
   "execution_count": 9,
   "metadata": {},
   "outputs": [],
   "source": [
    "df_metrics = pd.DataFrame(columns = ['set', 'tn', 'fp', 'fn', 'tp', 'recall', 'precision', 'f_score', 'fpr', 'accuracy', 'roc_auc'])"
   ]
  },
  {
   "cell_type": "code",
   "execution_count": 10,
   "metadata": {},
   "outputs": [
    {
     "name": "stdout",
     "output_type": "stream",
     "text": [
      "***10-fold cross-validation***\n",
      "Accuracy: 0.8726114649681529\n",
      "\n",
      "Classification report:\n",
      "               precision    recall  f1-score   support\n",
      "\n",
      "           0       0.83      0.94      0.88        79\n",
      "           1       0.93      0.81      0.86        78\n",
      "\n",
      "    accuracy                           0.87       157\n",
      "   macro avg       0.88      0.87      0.87       157\n",
      "weighted avg       0.88      0.87      0.87       157\n",
      "\n",
      "\n",
      "CR: (0.8789656311962988, 0.8722005842259006, 0.871983039791259, None)\n",
      "\n",
      "Confusion matrix:\n",
      " [[74  5]\n",
      " [15 63]] \n",
      "\n",
      "_______________________\n",
      "\n",
      "\n",
      " Accuracy: 87.261 \n",
      " Precision: 0.926 \n",
      " Recall: 0.808 \n",
      " F1: 0.863 \n",
      " FPR: 0.063 \n",
      " ROC_AUC: 0.872\n",
      "Accuracy: 0.8726114649681529\n",
      "\n",
      "Classification report:\n",
      "               precision    recall  f1-score   support\n",
      "\n",
      "           0       0.83      0.94      0.88        79\n",
      "           1       0.93      0.81      0.86        78\n",
      "\n",
      "    accuracy                           0.87       157\n",
      "   macro avg       0.88      0.87      0.87       157\n",
      "weighted avg       0.88      0.87      0.87       157\n",
      "\n",
      "\n",
      "CR: (0.8789656311962988, 0.8722005842259006, 0.871983039791259, None)\n",
      "\n",
      "Confusion matrix:\n",
      " [[74  5]\n",
      " [15 63]] \n",
      "\n",
      "_______________________\n",
      "\n",
      "\n",
      "Recall: 0.808 \n",
      " Precision: 0.926 \n",
      " F1: 0.863 \n",
      " FPR: 0.063 \n",
      " Accuracy: 87.261 \n",
      " ROC_AUC: 0.872\n",
      "***testing on test set***\n",
      "Accuracy: 0.9\n",
      "\n",
      "Classification report:\n",
      "               precision    recall  f1-score   support\n",
      "\n",
      "           0       0.83      1.00      0.91        20\n",
      "           1       1.00      0.80      0.89        20\n",
      "\n",
      "    accuracy                           0.90        40\n",
      "   macro avg       0.92      0.90      0.90        40\n",
      "weighted avg       0.92      0.90      0.90        40\n",
      "\n",
      "\n",
      "CR: (0.9166666666666667, 0.9, 0.898989898989899, None)\n",
      "\n",
      "Confusion matrix:\n",
      " [[20  0]\n",
      " [ 4 16]] \n",
      "\n",
      "_______________________\n",
      "\n",
      "\n",
      " Accuracy: 90.000 \n",
      " Precision: 1.000 \n",
      " Recall: 0.800 \n",
      " F1: 0.889 \n",
      " FPR: 0.000 \n",
      " ROC_AUC: 0.900\n",
      "Accuracy: 0.9\n",
      "\n",
      "Classification report:\n",
      "               precision    recall  f1-score   support\n",
      "\n",
      "           0       0.83      1.00      0.91        20\n",
      "           1       1.00      0.80      0.89        20\n",
      "\n",
      "    accuracy                           0.90        40\n",
      "   macro avg       0.92      0.90      0.90        40\n",
      "weighted avg       0.92      0.90      0.90        40\n",
      "\n",
      "\n",
      "CR: (0.9166666666666667, 0.9, 0.898989898989899, None)\n",
      "\n",
      "Confusion matrix:\n",
      " [[20  0]\n",
      " [ 4 16]] \n",
      "\n",
      "_______________________\n",
      "\n",
      "\n",
      "Recall: 0.800 \n",
      " Precision: 1.000 \n",
      " F1: 0.889 \n",
      " FPR: 0.000 \n",
      " Accuracy: 90.000 \n",
      " ROC_AUC: 0.900\n",
      "***testing on test set***\n",
      "Accuracy: 0.9403927068723703\n",
      "\n",
      "Classification report:\n",
      "               precision    recall  f1-score   support\n",
      "\n",
      "           0       1.00      0.94      0.97      1406\n",
      "           1       0.16      0.80      0.27        20\n",
      "\n",
      "    accuracy                           0.94      1426\n",
      "   macro avg       0.58      0.87      0.62      1426\n",
      "weighted avg       0.99      0.94      0.96      1426\n",
      "\n",
      "\n",
      "CR: (0.5809693359087137, 0.871194879089616, 0.6212128314504914, None)\n",
      "\n",
      "Confusion matrix:\n",
      " [[1325   81]\n",
      " [   4   16]] \n",
      "\n",
      "_______________________\n",
      "\n",
      "\n",
      " Accuracy: 94.039 \n",
      " Precision: 0.165 \n",
      " Recall: 0.800 \n",
      " F1: 0.274 \n",
      " FPR: 0.058 \n",
      " ROC_AUC: 0.871\n",
      "Accuracy: 0.9403927068723703\n",
      "\n",
      "Classification report:\n",
      "               precision    recall  f1-score   support\n",
      "\n",
      "           0       1.00      0.94      0.97      1406\n",
      "           1       0.16      0.80      0.27        20\n",
      "\n",
      "    accuracy                           0.94      1426\n",
      "   macro avg       0.58      0.87      0.62      1426\n",
      "weighted avg       0.99      0.94      0.96      1426\n",
      "\n",
      "\n",
      "CR: (0.5809693359087137, 0.871194879089616, 0.6212128314504914, None)\n",
      "\n",
      "Confusion matrix:\n",
      " [[1325   81]\n",
      " [   4   16]] \n",
      "\n",
      "_______________________\n",
      "\n",
      "\n",
      "Recall: 0.800 \n",
      " Precision: 0.165 \n",
      " F1: 0.274 \n",
      " FPR: 0.058 \n",
      " Accuracy: 94.039 \n",
      " ROC_AUC: 0.871\n"
     ]
    }
   ],
   "source": [
    "# balanced train\n",
    "pipeline_train, trained_model, y_predict_train = train_model_cross_val(X_train, y_train, vec=vec, model=model, cv=10)\n",
    "set = \"balanced train\"\n",
    "metrics_train=evaluate(y_train, y_predict_train)\n",
    "row_train = pd.DataFrame({'set':set, 'tn':metrics_train[0], 'fp':metrics_train[1], 'fn':metrics_train[2], 'tp':metrics_train[3], \\\n",
    "                    'recall':metrics_train[4], 'precision':metrics_train[5], 'f_score':metrics_train[6], \\\n",
    "                    'fpr':metrics_train[7], 'accuracy':metrics_train[8], 'roc_auc':metrics_train[9]}, index=[0])\n",
    "\n",
    "\n",
    "# balanced test\n",
    "pipeline_test1, y_predict_test1 = train_model_test(X_train, y_train, X_test1, y_test1, model=model, vec=vec)\n",
    "set = \"balanced test\"\n",
    "metrics_test1=evaluate(y_test1, y_predict_test1)\n",
    "row_test1 = pd.DataFrame({'set':set, 'tn':metrics_test1[0], 'fp':metrics_test1[1], 'fn':metrics_test1[2], 'tp':metrics_test1[3], \\\n",
    "                        'recall':metrics_test1[4], 'precision':metrics_test1[5], 'f_score':metrics_test1[6], \\\n",
    "                        'fpr':metrics_test1[7], 'accuracy':metrics_test1[8], 'roc_auc':metrics_test1[9]}, index=[0])\n",
    "\n",
    "\n",
    "# imbalanced test\n",
    "pipeline_test, y_predict_test = train_model_test(X_train, y_train, X_test, y_test, model=model, vec=vec)\n",
    "set = \"imbalanced test\"\n",
    "metrics_test=evaluate(y_test, y_predict_test)\n",
    "row_test = pd.DataFrame({'set':set, 'tn':metrics_test[0], 'fp':metrics_test[1], 'fn':metrics_test[2], 'tp':metrics_test[3], \\\n",
    "                    'recall':metrics_test[4], 'precision':metrics_test[5], 'f_score':metrics_test[6], \\\n",
    "                    'fpr':metrics_test[7], 'accuracy':metrics_test[8], 'roc_auc':metrics_test[9]}, index=[0])\n",
    "\n",
    "df_metrics = pd.concat([df_metrics.loc[:], row_train, row_test1, row_test]).reset_index(drop=True)\n",
    "df_metrics['n'] = df_metrics['tn'] + df_metrics['fp'] + df_metrics['fn'] + df_metrics['tp']"
   ]
  },
  {
   "cell_type": "code",
   "execution_count": 11,
   "metadata": {},
   "outputs": [
    {
     "data": {
      "text/html": [
       "<div>\n",
       "<style scoped>\n",
       "    .dataframe tbody tr th:only-of-type {\n",
       "        vertical-align: middle;\n",
       "    }\n",
       "\n",
       "    .dataframe tbody tr th {\n",
       "        vertical-align: top;\n",
       "    }\n",
       "\n",
       "    .dataframe thead th {\n",
       "        text-align: right;\n",
       "    }\n",
       "</style>\n",
       "<table border=\"1\" class=\"dataframe\">\n",
       "  <thead>\n",
       "    <tr style=\"text-align: right;\">\n",
       "      <th></th>\n",
       "      <th>set</th>\n",
       "      <th>tn</th>\n",
       "      <th>fp</th>\n",
       "      <th>fn</th>\n",
       "      <th>tp</th>\n",
       "      <th>recall</th>\n",
       "      <th>precision</th>\n",
       "      <th>f_score</th>\n",
       "      <th>fpr</th>\n",
       "      <th>accuracy</th>\n",
       "      <th>roc_auc</th>\n",
       "      <th>n</th>\n",
       "    </tr>\n",
       "  </thead>\n",
       "  <tbody>\n",
       "    <tr>\n",
       "      <th>0</th>\n",
       "      <td>balanced train</td>\n",
       "      <td>74</td>\n",
       "      <td>5</td>\n",
       "      <td>15</td>\n",
       "      <td>63</td>\n",
       "      <td>0.807692</td>\n",
       "      <td>0.926471</td>\n",
       "      <td>0.863014</td>\n",
       "      <td>0.063291</td>\n",
       "      <td>87.261146</td>\n",
       "      <td>0.872201</td>\n",
       "      <td>157</td>\n",
       "    </tr>\n",
       "    <tr>\n",
       "      <th>1</th>\n",
       "      <td>balanced test</td>\n",
       "      <td>20</td>\n",
       "      <td>0</td>\n",
       "      <td>4</td>\n",
       "      <td>16</td>\n",
       "      <td>0.800000</td>\n",
       "      <td>1.000000</td>\n",
       "      <td>0.888889</td>\n",
       "      <td>0.000000</td>\n",
       "      <td>90.000000</td>\n",
       "      <td>0.900000</td>\n",
       "      <td>40</td>\n",
       "    </tr>\n",
       "    <tr>\n",
       "      <th>2</th>\n",
       "      <td>imbalanced test</td>\n",
       "      <td>1325</td>\n",
       "      <td>81</td>\n",
       "      <td>4</td>\n",
       "      <td>16</td>\n",
       "      <td>0.800000</td>\n",
       "      <td>0.164948</td>\n",
       "      <td>0.273504</td>\n",
       "      <td>0.057610</td>\n",
       "      <td>94.039271</td>\n",
       "      <td>0.871195</td>\n",
       "      <td>1426</td>\n",
       "    </tr>\n",
       "  </tbody>\n",
       "</table>\n",
       "</div>"
      ],
      "text/plain": [
       "               set    tn  fp  fn  tp    recall  precision   f_score       fpr  \\\n",
       "0   balanced train    74   5  15  63  0.807692   0.926471  0.863014  0.063291   \n",
       "1    balanced test    20   0   4  16  0.800000   1.000000  0.888889  0.000000   \n",
       "2  imbalanced test  1325  81   4  16  0.800000   0.164948  0.273504  0.057610   \n",
       "\n",
       "    accuracy   roc_auc     n  \n",
       "0  87.261146  0.872201   157  \n",
       "1  90.000000  0.900000    40  \n",
       "2  94.039271  0.871195  1426  "
      ]
     },
     "execution_count": 11,
     "metadata": {},
     "output_type": "execute_result"
    }
   ],
   "source": [
    "df_metrics"
   ]
  },
  {
   "cell_type": "code",
   "execution_count": 13,
   "metadata": {},
   "outputs": [],
   "source": [
    "df_metrics.to_excel('../../../../output/tables/svm_metrics_p2.xlsx', index=True)"
   ]
  },
  {
   "attachments": {},
   "cell_type": "markdown",
   "metadata": {},
   "source": [
    "### Confusion matrix and model performance"
   ]
  },
  {
   "cell_type": "code",
   "execution_count": 14,
   "metadata": {},
   "outputs": [],
   "source": [
    "merger_info = pd.read_json(r\"../../../../data/processed/merger_info_2023_03_25.json\")"
   ]
  },
  {
   "cell_type": "code",
   "execution_count": 15,
   "metadata": {},
   "outputs": [],
   "source": [
    "results_train, tn, fp, fn, tp = eval_matrix(df_train_grouped, merger_info, X_train, y_train, y_predict_train)"
   ]
  },
  {
   "cell_type": "code",
   "execution_count": 16,
   "metadata": {},
   "outputs": [],
   "source": [
    "results1, tn, fp, fn, tp = eval_matrix(df_test1_grouped, merger_info, X_test1, y_test1, y_predict_test1)"
   ]
  },
  {
   "cell_type": "code",
   "execution_count": 17,
   "metadata": {},
   "outputs": [],
   "source": [
    "results2, tn, fp, fn, tp = eval_matrix(df_test_grouped, merger_info, X_test, y_test, y_predict_test)"
   ]
  },
  {
   "cell_type": "code",
   "execution_count": 18,
   "metadata": {},
   "outputs": [
    {
     "name": "stdout",
     "output_type": "stream",
     "text": [
      "TN: 1325\n",
      "FP: 81\n",
      "FN: 4\n",
      "TP: 16\n"
     ]
    }
   ],
   "source": [
    "print(\"TN:\", len(tn))\n",
    "print(\"FP:\", len(fp))\n",
    "\n",
    "print(\"FN:\", len(fn))\n",
    "print(\"TP:\", len(tp))"
   ]
  },
  {
   "cell_type": "code",
   "execution_count": 19,
   "metadata": {},
   "outputs": [
    {
     "data": {
      "text/plain": [
       "Manufacture of basic pharmaceutical products and pharmaceutical preparations                                          38\n",
       "Telecommunications                                                                                                    38\n",
       "Manufacture of chemicals and chemical products                                                                        35\n",
       "Manufacture of other parts and accessories for motor vehicles                                                         23\n",
       "Financial service activities, except insurance and pension funding                                                    17\n",
       "Computer programming, consultancy and related activities                                                              13\n",
       "Manufacture of pharmaceutical preparations                                                                            12\n",
       "Manufacture of basic chemicals, fertilisers and nitrogen compounds, plastics and synthetic rubber in primary forms    12\n",
       "Manufacture of parts and accessories for motor vehicles                                                               11\n",
       "Manufacture of refined petroleum products                                                                             11\n",
       "Name: nace_code, dtype: int64"
      ]
     },
     "execution_count": 19,
     "metadata": {},
     "output_type": "execute_result"
    }
   ],
   "source": [
    "tn['nace_code'].value_counts().head(10)"
   ]
  },
  {
   "cell_type": "code",
   "execution_count": 20,
   "metadata": {},
   "outputs": [
    {
     "data": {
      "text/plain": [
       "Manufacture of medical and dental instruments and supplies                                                                                    5\n",
       "Telecommunications                                                                                                                            4\n",
       "Manufacture of basic pharmaceutical products and pharmaceutical preparations                                                                  2\n",
       "Manufacture of chemicals and chemical products                                                                                                2\n",
       "Television programming and broadcasting activities; Wired telecommunications activities; Wireless telecommunications activities               2\n",
       "Manufacture of basic chemicals, fertilisers and nitrogen compounds, plastics and synthetic rubber in primary forms                            2\n",
       "Pre-press and pre-media services                                                                                                              1\n",
       "Manufacture of communication equipment; Manufacture of computers and peripheral equipment; Manufacture of electronic components and boards    1\n",
       "Other non-ferrous metal production                                                                                                            1\n",
       "Manufacture of computer, electronic and optical products                                                                                      1\n",
       "Name: nace_code, dtype: int64"
      ]
     },
     "execution_count": 20,
     "metadata": {},
     "output_type": "execute_result"
    }
   ],
   "source": [
    "fp['nace_code'].value_counts().head(10)"
   ]
  },
  {
   "cell_type": "code",
   "execution_count": 21,
   "metadata": {},
   "outputs": [
    {
     "data": {
      "text/plain": [
       "Electric power generation, transmission and distribution; Manufacture of gas; distribution of gaseous fuels through mains    1\n",
       "Sound recording and music publishing activities                                                                              1\n",
       "Manufacture of railway locomotives and rolling stock                                                                         1\n",
       "Electricity, gas, steam and air conditioning supply; Retail sale of automotive fuel in specialised stores                    1\n",
       "Name: nace_code, dtype: int64"
      ]
     },
     "execution_count": 21,
     "metadata": {},
     "output_type": "execute_result"
    }
   ],
   "source": [
    "fn['nace_code'].value_counts().head(10)"
   ]
  },
  {
   "cell_type": "code",
   "execution_count": 22,
   "metadata": {},
   "outputs": [
    {
     "data": {
      "text/plain": [
       "Printing and service activities related to printing                                                                                                                                                                                                                                                                                                                                                                                                         1\n",
       "Computer programming, consultancy and related activities; Construction of residential and non-residential buildings; Construction of water projects; Electrical installation; Manufacture of electric motors, generators and transformers; Manufacture of electricity distribution and control apparatus; Manufacture of engines and turbines, except aircraft, vehicle and cycle engines; Manufacture of other electronic and electric wires and cables    1\n",
       "Warehousing and storage                                                                                                                                                                                                                                                                                                                                                                                                                                     1\n",
       "Manufacture of other non-metallic mineral products n.e.c.                                                                                                                                                                                                                                                                                                                                                                                                   1\n",
       "Tour operator activities                                                                                                                                                                                                                                                                                                                                                                                                                                    1\n",
       "Manufacture of other products of wood; manufacture of articles of cork, straw and plaiting materials; Manufacture of veneer sheets and wood-based panels                                                                                                                                                                                                                                                                                                    1\n",
       "Telecommunications                                                                                                                                                                                                                                                                                                                                                                                                                                          1\n",
       "Manufacture of paper and paper products                                                                                                                                                                                                                                                                                                                                                                                                                     1\n",
       "Computer programming activities; Computer programming, consultancy and related activities                                                                                                                                                                                                                                                                                                                                                                   1\n",
       "Manufacture of basic chemicals, fertilisers and nitrogen compounds, plastics and synthetic rubber in primary forms; Manufacture of plastics in primary forms                                                                                                                                                                                                                                                                                                1\n",
       "Name: nace_code, dtype: int64"
      ]
     },
     "execution_count": 22,
     "metadata": {},
     "output_type": "execute_result"
    }
   ],
   "source": [
    "tp['nace_code'].value_counts().head(10)"
   ]
  },
  {
   "attachments": {},
   "cell_type": "markdown",
   "metadata": {},
   "source": [
    "### Feature importance"
   ]
  },
  {
   "cell_type": "code",
   "execution_count": 23,
   "metadata": {},
   "outputs": [
    {
     "data": {
      "text/html": [
       "<div>\n",
       "<style scoped>\n",
       "    .dataframe tbody tr th:only-of-type {\n",
       "        vertical-align: middle;\n",
       "    }\n",
       "\n",
       "    .dataframe tbody tr th {\n",
       "        vertical-align: top;\n",
       "    }\n",
       "\n",
       "    .dataframe thead th {\n",
       "        text-align: right;\n",
       "    }\n",
       "</style>\n",
       "<table border=\"1\" class=\"dataframe\">\n",
       "  <thead>\n",
       "    <tr style=\"text-align: right;\">\n",
       "      <th></th>\n",
       "      <th>feature</th>\n",
       "      <th>importance</th>\n",
       "      <th>abs_importance</th>\n",
       "    </tr>\n",
       "  </thead>\n",
       "  <tbody>\n",
       "    <tr>\n",
       "      <th>2436</th>\n",
       "      <td>lead horizontally</td>\n",
       "      <td>-0.146497</td>\n",
       "      <td>0.146497</td>\n",
       "    </tr>\n",
       "    <tr>\n",
       "      <th>52</th>\n",
       "      <td>achieve community</td>\n",
       "      <td>-0.143744</td>\n",
       "      <td>0.143744</td>\n",
       "    </tr>\n",
       "    <tr>\n",
       "      <th>4373</th>\n",
       "      <td>spain germany</td>\n",
       "      <td>0.131202</td>\n",
       "      <td>0.131202</td>\n",
       "    </tr>\n",
       "    <tr>\n",
       "      <th>1611</th>\n",
       "      <td>electricity retail</td>\n",
       "      <td>-0.130769</td>\n",
       "      <td>0.130769</td>\n",
       "    </tr>\n",
       "    <tr>\n",
       "      <th>658</th>\n",
       "      <td>committee concentration</td>\n",
       "      <td>0.122421</td>\n",
       "      <td>0.122421</td>\n",
       "    </tr>\n",
       "    <tr>\n",
       "      <th>1612</th>\n",
       "      <td>electricity sector</td>\n",
       "      <td>-0.118813</td>\n",
       "      <td>0.118813</td>\n",
       "    </tr>\n",
       "    <tr>\n",
       "      <th>2706</th>\n",
       "      <td>market electricity</td>\n",
       "      <td>-0.114313</td>\n",
       "      <td>0.114313</td>\n",
       "    </tr>\n",
       "    <tr>\n",
       "      <th>4951</th>\n",
       "      <td>wide wider</td>\n",
       "      <td>-0.112787</td>\n",
       "      <td>0.112787</td>\n",
       "    </tr>\n",
       "    <tr>\n",
       "      <th>1141</th>\n",
       "      <td>dairy product</td>\n",
       "      <td>-0.112463</td>\n",
       "      <td>0.112463</td>\n",
       "    </tr>\n",
       "    <tr>\n",
       "      <th>3036</th>\n",
       "      <td>opinion advisory</td>\n",
       "      <td>0.111708</td>\n",
       "      <td>0.111708</td>\n",
       "    </tr>\n",
       "  </tbody>\n",
       "</table>\n",
       "</div>"
      ],
      "text/plain": [
       "                      feature  importance  abs_importance\n",
       "2436        lead horizontally   -0.146497        0.146497\n",
       "52          achieve community   -0.143744        0.143744\n",
       "4373            spain germany    0.131202        0.131202\n",
       "1611       electricity retail   -0.130769        0.130769\n",
       "658   committee concentration    0.122421        0.122421\n",
       "1612       electricity sector   -0.118813        0.118813\n",
       "2706       market electricity   -0.114313        0.114313\n",
       "4951               wide wider   -0.112787        0.112787\n",
       "1141            dairy product   -0.112463        0.112463\n",
       "3036         opinion advisory    0.111708        0.111708"
      ]
     },
     "execution_count": 23,
     "metadata": {},
     "output_type": "execute_result"
    }
   ],
   "source": [
    "df_features_train, feature_importance, feature_names = get_feature_importance(trained_model, pipeline_train)\n",
    "df_features_train.head(10)"
   ]
  },
  {
   "attachments": {},
   "cell_type": "markdown",
   "metadata": {},
   "source": [
    "Get features for label = 1 and label = 0"
   ]
  },
  {
   "cell_type": "code",
   "execution_count": 24,
   "metadata": {},
   "outputs": [],
   "source": [
    "df_features_train1, df_features_train0 = get_feature_importance10(df_features_train)"
   ]
  },
  {
   "cell_type": "code",
   "execution_count": 25,
   "metadata": {},
   "outputs": [
    {
     "data": {
      "image/png": "[encoded data removed]",
      "text/plain": [
       "<Figure size 1200x800 with 1 Axes>"
      ]
     },
     "metadata": {},
     "output_type": "display_data"
    }
   ],
   "source": [
    "# Sort the features by absolute importance for label=1\n",
    "df_features_train1 = df_features_train1.sort_values(by='abs_importance', ascending=False)\n",
    "df_features_train1_top10 = df_features_train1.nlargest(20, 'abs_importance')\n",
    "df_features_train1_top10 = df_features_train1_top10.sort_values('importance', ascending=True)\n",
    "\n",
    "# Sort the features by absolute importance for label=0\n",
    "df_features_train0 = df_features_train0.sort_values(by='abs_importance', ascending=False)\n",
    "df_features_train0_top10 = df_features_train0.nlargest(20, 'abs_importance')\n",
    "\n",
    "# Create a combined bar chart\n",
    "fig, ax = plt.subplots(figsize=(12, 8))\n",
    "ax.barh(df_features_train0_top10['feature'], df_features_train0_top10['importance'], color='darkblue', label='Phase 2=0')\n",
    "ax.barh(df_features_train1_top10['feature'], df_features_train1_top10['importance'], color='maroon', label='Phase 2=1')\n",
    "ax.set_xlabel('Importance')\n",
    "ax.set_ylabel('Features')\n",
    "ax.set_title('Top 20 Features by Importance for Phase2 =0 and =1')\n",
    "ax.legend()\n",
    "plt.xticks(rotation=90)\n",
    "# plt.show()\n",
    "\n",
    "plt.savefig('../../../../output/figures/svm_full_p2.png', bbox_inches='tight')"
   ]
  },
  {
   "cell_type": "code",
   "execution_count": 26,
   "metadata": {},
   "outputs": [],
   "source": [
    "df_features_train.to_excel('../../../../output/tables/features_svm_train_full_p2.xlsx', index=True)"
   ]
  },
  {
   "cell_type": "code",
   "execution_count": null,
   "metadata": {},
   "outputs": [],
   "source": []
  }
 ],
 "metadata": {
  "kernelspec": {
   "display_name": "thesis",
   "language": "python",
   "name": "python3"
  },
  "language_info": {
   "codemirror_mode": {
    "name": "ipython",
    "version": 3
   },
   "file_extension": ".py",
   "mimetype": "text/x-python",
   "name": "python",
   "nbconvert_exporter": "python",
   "pygments_lexer": "ipython3",
   "version": "3.10.4"
  },
  "orig_nbformat": 4
 },
 "nbformat": 4,
 "nbformat_minor": 2
}
