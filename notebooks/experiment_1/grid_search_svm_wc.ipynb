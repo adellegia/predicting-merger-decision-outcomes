{
 "cells": [
  {
   "cell_type": "code",
   "execution_count": 1,
   "metadata": {},
   "outputs": [],
   "source": [
    "# Data visualization\n",
    "import matplotlib.pyplot as plt\n",
    "\n",
    "# Data manipulation\n",
    "import pandas as pd\n",
    "import numpy as np\n",
    "\n",
    "import glob, re, os, sys, random\n",
    "from random import shuffle\n",
    "import random\n",
    "from time import time\n",
    "\n",
    "# Vector representations and embeddings\n",
    "from sklearn.feature_extraction.text import TfidfVectorizer, CountVectorizer\n",
    "\n",
    "# Modeling - Logistic, XGBOOST, SVM\n",
    "from sklearn.linear_model import LogisticRegression\n",
    "from sklearn.svm import LinearSVC\n",
    "\n",
    "from sklearn.pipeline import Pipeline, FeatureUnion\n",
    "import pickle\n",
    "\n",
    "from gensim.parsing.preprocessing import preprocess_string, remove_stopwords\n"
   ]
  },
  {
   "cell_type": "code",
   "execution_count": 2,
   "metadata": {},
   "outputs": [],
   "source": [
    "import sys\n",
    "sys.path.append(f'../../src/python')\n",
    "\n",
    "from balance_split_data import create_label, balance_unique_id, \\\n",
    "create_balanced_excluded, create_train_test_excluded, group_by_case, create_feature_label\n",
    "\n",
    "from grid_search import gridsearch, fit_best_model_train, evaluate, fit_best_model_test, get_feature_importance_cv\n",
    "\n",
    "from ml_model import train_model_cross_val, train_model_test, \\\n",
    "get_feature_importance, get_feature_importance10"
   ]
  },
  {
   "attachments": {},
   "cell_type": "markdown",
   "metadata": {},
   "source": [
    "### Load data"
   ]
  },
  {
   "cell_type": "code",
   "execution_count": 3,
   "metadata": {},
   "outputs": [],
   "source": [
    "df = pd.read_json(r\"../../data/processed/pre-processed_merged_2023_04_04.json\")"
   ]
  },
  {
   "cell_type": "code",
   "execution_count": 4,
   "metadata": {},
   "outputs": [],
   "source": [
    "# lowercase\n",
    "df['text_clean'] = df['text_clean'].str.lower()"
   ]
  },
  {
   "cell_type": "code",
   "execution_count": 5,
   "metadata": {},
   "outputs": [],
   "source": [
    "# # remove stopwords\n",
    "# preprocess_function = [lambda x: x, remove_stopwords]\n",
    "# df['text_clean'] = df['text_clean'].apply(lambda x: \" \".join(preprocess_string(str(x), preprocess_function)))"
   ]
  },
  {
   "attachments": {},
   "cell_type": "markdown",
   "metadata": {},
   "source": [
    "### Balance data and split to train and test set"
   ]
  },
  {
   "cell_type": "code",
   "execution_count": 6,
   "metadata": {},
   "outputs": [],
   "source": [
    "label_name = \"wc\"\n",
    "random_seed=42\n",
    "random_state=42"
   ]
  },
  {
   "cell_type": "code",
   "execution_count": 7,
   "metadata": {},
   "outputs": [
    {
     "name": "stdout",
     "output_type": "stream",
     "text": [
      "Total decisions: 1574\n",
      "0    1313\n",
      "1     261\n",
      "Name: label, dtype: int64\n",
      "Balancing...\n",
      "Total decisions: 522\n",
      "Labels distribution: \n",
      " 0    261\n",
      "1    261\n",
      "Name: 0, dtype: int64\n",
      "Training set shape: (417,) (417,)\n",
      "Test set shape: (105,) (105,)\n",
      "Creating df_train 1: 208 0: 209\n",
      "Creating df_test1 1: 53 0: 52\n",
      "Creating df_test concatenated with df_excluded with len: 1052\n",
      "Creating df_test 1: 53 0: 1104\n",
      "Grouping df_train by case_num 1: 208 0: 209\n",
      "Grouping df_test by case_num 1: 53 0: 1104\n",
      "Grouping df_test1 by case_num 1: 53 0: 52\n",
      "Grouping df_excluded by case_num with len: 1052\n"
     ]
    }
   ],
   "source": [
    "df1 = create_label(df, label_name)\n",
    "df_unique = balance_unique_id(df1)\n",
    "df_balanced_unique, df_balanced, df_excluded = create_balanced_excluded(df_unique, df1, random_seed=random_seed)\n",
    "df_train, df_test, df_test1 = create_train_test_excluded(df_balanced, df_balanced_unique, df_excluded, random_state=random_state)\n",
    "df_train_grouped, df_test_grouped, df_test1_grouped, df_excluded_grouped = group_by_case(df_train, df_test, df_test1, df_excluded, text='text_clean')"
   ]
  },
  {
   "cell_type": "code",
   "execution_count": 8,
   "metadata": {},
   "outputs": [],
   "source": [
    "X_train, y_train, X_test, y_test, X_test1, y_test1, X_test2, y_test2 = create_feature_label(df_train_grouped, df_test_grouped, df_test1_grouped, df_excluded_grouped, text='text_clean')"
   ]
  },
  {
   "attachments": {},
   "cell_type": "markdown",
   "metadata": {},
   "source": [
    "### Hyperparameter tuning with GridSearch Cross Validation"
   ]
  },
  {
   "cell_type": "code",
   "execution_count": 9,
   "metadata": {},
   "outputs": [],
   "source": [
    "# Define model\n",
    "model = LinearSVC()\n",
    "\n",
    "# Create a pipeline with TfidfVectorizer and Model\n",
    "pipeline = Pipeline([\n",
    "    ('tfidf', TfidfVectorizer(analyzer='word', max_features=5000, stop_words='english')),\n",
    "    ('clf', model)\n",
    "\n",
    "])\n",
    "\n",
    "# Define the grid of hyperparameters to search over\n",
    "parameters = {\n",
    "    'tfidf__ngram_range': [(1,2),(1,1),(1,3), (2,2),(2,3), (3,3)], # limit to trigrams\n",
    "    #'tfidf__analyzer': ('word', 'char'),\n",
    "    # 'tfidf__lowercase': (True, False),\n",
    "    'tfidf__max_df': [0.01, 0.025, 0.05], # (0.01, 1.0), # ignore words that occur as more than x% of corpus\n",
    "    # 'tfidf__min_df': (1, 2, 3), # we need to see a word at least (once, twice, thrice) in a document\n",
    "    'tfidf__use_idf': (False, True), # use inverse document frequency weighting\n",
    "    #'tfidf__sublinear_tf': (False, True),\n",
    "    'tfidf__binary': (False, True), #set term frequency binary (all non-zero terms are set to 1)\n",
    "    'tfidf__norm': ('l1', 'l2'), #norm used to normalize term vectors\n",
    "    # 'tfidf__max_features': (None, 2000, 5000),\n",
    "    # 'tfidf__stop_words': (None, 'english'),\n",
    "\n",
    "    # 'clf__solver': ['liblinear', 'lbfgs'],\n",
    "    'clf__C':(0.1, 1, 5) # penalty parameter for the model\n",
    "}"
   ]
  },
  {
   "cell_type": "code",
   "execution_count": 10,
   "metadata": {},
   "outputs": [
    {
     "name": "stdout",
     "output_type": "stream",
     "text": [
      "Fitting 5 folds for each of 432 candidates, totalling 2160 fits\n",
      "done in 5291.554s\n",
      "Best cross-validation score:  0.7479811961660147\n",
      "Best parameters set:\n",
      "\tclf__C: 0.1\n",
      "\ttfidf__binary: True\n",
      "\ttfidf__max_df: 0.05\n",
      "\ttfidf__ngram_range: (1, 3)\n",
      "\ttfidf__norm: 'l2'\n",
      "\ttfidf__use_idf: True\n"
     ]
    }
   ],
   "source": [
    "grid_search, best_parameters = gridsearch(pipeline, parameters, X_train, y_train, cv=5, scoring='f1')"
   ]
  },
  {
   "cell_type": "code",
   "execution_count": null,
   "metadata": {},
   "outputs": [],
   "source": [
    "# Fitting 5 folds for each of 432 candidates, totalling 2160 fits\n",
    "# done in 5291.554s\n",
    "# Best cross-validation score:  0.7479811961660147\n",
    "# Best parameters set:\n",
    "# \tclf__C: 0.1\n",
    "# \ttfidf__binary: True\n",
    "# \ttfidf__max_df: 0.05\n",
    "# \ttfidf__ngram_range: (1, 3)\n",
    "# \ttfidf__norm: 'l2'\n",
    "# \ttfidf__use_idf: True"
   ]
  },
  {
   "cell_type": "code",
   "execution_count": 22,
   "metadata": {},
   "outputs": [
    {
     "name": "stdout",
     "output_type": "stream",
     "text": [
      "Fitting 5 folds for each of 432 candidates, totalling 2160 fits\n",
      "done in 5628.176s\n",
      "Best cross-validation score:  0.7765947755745944\n",
      "Best parameters set:\n",
      "\tclf__C: 1\n",
      "\ttfidf__binary: True\n",
      "\ttfidf__max_df: 0.025\n",
      "\ttfidf__ngram_range: (2, 2)\n",
      "\ttfidf__norm: 'l1'\n",
      "\ttfidf__use_idf: False\n"
     ]
    }
   ],
   "source": [
    "# grid_search, best_parameters = gridsearch(pipeline, parameters, X_train, y_train, cv=5, scoring='f1')"
   ]
  },
  {
   "cell_type": "code",
   "execution_count": null,
   "metadata": {},
   "outputs": [],
   "source": [
    "# Fitting 5 folds for each of 432 candidates, totalling 2160 fits\n",
    "# done in 5628.176s\n",
    "# Best cross-validation score:  0.7765947755745944\n",
    "# Best parameters set:\n",
    "# \tclf__C: 1\n",
    "# \ttfidf__binary: True\n",
    "# \ttfidf__max_df: 0.025\n",
    "# \ttfidf__ngram_range: (2, 2)\n",
    "# \ttfidf__norm: 'l1'\n",
    "# \ttfidf__use_idf: False"
   ]
  },
  {
   "attachments": {},
   "cell_type": "markdown",
   "metadata": {},
   "source": [
    "##### Model fitting and evaluation"
   ]
  },
  {
   "cell_type": "code",
   "execution_count": 11,
   "metadata": {},
   "outputs": [
    {
     "name": "stdout",
     "output_type": "stream",
     "text": [
      "fitting the best model\n",
      "Accuracy: 0.7464114832535885\n",
      "\n",
      "Classification report:\n",
      "               precision    recall  f1-score   support\n",
      "\n",
      "           0       0.75      0.75      0.75       209\n",
      "           1       0.75      0.75      0.75       209\n",
      "\n",
      "    accuracy                           0.75       418\n",
      "   macro avg       0.75      0.75      0.75       418\n",
      "weighted avg       0.75      0.75      0.75       418\n",
      "\n",
      "\n",
      "CR: (0.7464114832535885, 0.7464114832535885, 0.7464114832535886, None)\n",
      "\n",
      "Confusion matrix:\n",
      " [[156  53]\n",
      " [ 53 156]] \n",
      "\n",
      "_______________________\n",
      "\n",
      "\n",
      "Recall: 0.746 \n",
      " Precision: 0.746 \n",
      " F1: 0.746 \n",
      " FPR: 0.254 \n",
      " Accuracy: 74.641 \n",
      " ROC_AUC: 0.746\n"
     ]
    }
   ],
   "source": [
    "pipeline_cv, y_predict_cv = fit_best_model_train(X_train, y_train, model, best_parameters, cv=5)"
   ]
  },
  {
   "attachments": {},
   "cell_type": "markdown",
   "metadata": {},
   "source": [
    "Saving the features and coefficients into a dataframe determined by gridsearchCV best_parameters."
   ]
  },
  {
   "cell_type": "code",
   "execution_count": 13,
   "metadata": {},
   "outputs": [
    {
     "data": {
      "text/html": [
       "<div>\n",
       "<style scoped>\n",
       "    .dataframe tbody tr th:only-of-type {\n",
       "        vertical-align: middle;\n",
       "    }\n",
       "\n",
       "    .dataframe tbody tr th {\n",
       "        vertical-align: top;\n",
       "    }\n",
       "\n",
       "    .dataframe thead th {\n",
       "        text-align: right;\n",
       "    }\n",
       "</style>\n",
       "<table border=\"1\" class=\"dataframe\">\n",
       "  <thead>\n",
       "    <tr style=\"text-align: right;\">\n",
       "      <th></th>\n",
       "      <th>feature</th>\n",
       "      <th>importance</th>\n",
       "    </tr>\n",
       "  </thead>\n",
       "  <tbody>\n",
       "    <tr>\n",
       "      <th>81</th>\n",
       "      <td>active pharmaceutical</td>\n",
       "      <td>0.191774</td>\n",
       "    </tr>\n",
       "    <tr>\n",
       "      <th>3961</th>\n",
       "      <td>remedy proposed</td>\n",
       "      <td>0.189685</td>\n",
       "    </tr>\n",
       "    <tr>\n",
       "      <th>672</th>\n",
       "      <td>community dimension relevant</td>\n",
       "      <td>-0.186865</td>\n",
       "    </tr>\n",
       "    <tr>\n",
       "      <th>1410</th>\n",
       "      <td>doubt identified</td>\n",
       "      <td>0.186813</td>\n",
       "    </tr>\n",
       "    <tr>\n",
       "      <th>487</th>\n",
       "      <td>case relevant geographic</td>\n",
       "      <td>-0.173370</td>\n",
       "    </tr>\n",
       "  </tbody>\n",
       "</table>\n",
       "</div>"
      ],
      "text/plain": [
       "                           feature  importance\n",
       "81           active pharmaceutical    0.191774\n",
       "3961               remedy proposed    0.189685\n",
       "672   community dimension relevant   -0.186865\n",
       "1410              doubt identified    0.186813\n",
       "487       case relevant geographic   -0.173370"
      ]
     },
     "execution_count": 13,
     "metadata": {},
     "output_type": "execute_result"
    }
   ],
   "source": [
    "df_features_cv = get_feature_importance_cv(pipeline_cv)\n",
    "df_features_cv.to_excel('../../output/tables/features_svm_cv_full_wc_2.xlsx', index=True)\n",
    "df_features_cv.head()"
   ]
  },
  {
   "cell_type": "code",
   "execution_count": null,
   "metadata": {},
   "outputs": [
    {
     "name": "stdout",
     "output_type": "stream",
     "text": [
      "testing on test set\n",
      "Accuracy: 0.5425623387790198\n",
      "\n",
      "Classification report:\n",
      "               precision    recall  f1-score   support\n",
      "\n",
      "           0       0.99      0.53      0.69      1110\n",
      "           1       0.08      0.91      0.15        53\n",
      "\n",
      "    accuracy                           0.54      1163\n",
      "   macro avg       0.54      0.72      0.42      1163\n",
      "weighted avg       0.95      0.54      0.66      1163\n",
      "\n",
      "\n",
      "CR: (0.5374874297545105, 0.7154428012918579, 0.4197782329154569, None)\n",
      "\n",
      "Confusion matrix:\n",
      " [[583 527]\n",
      " [  5  48]] \n",
      "\n",
      "_______________________\n",
      "\n",
      "\n",
      " Accuracy: 54.256 \n",
      " Precision: 0.083 \n",
      " Recall: 0.906 \n",
      " F1: 0.153 \n",
      " FPR: 0.475 \n",
      " ROC_AUC: 0.715\n"
     ]
    }
   ],
   "source": [
    "y_predict_cv_test = fit_best_model_test(X_test, y_test, pipeline_cv)"
   ]
  },
  {
   "cell_type": "code",
   "execution_count": null,
   "metadata": {},
   "outputs": [
    {
     "name": "stdout",
     "output_type": "stream",
     "text": [
      "testing on test set\n",
      "Accuracy: 0.7142857142857143\n",
      "\n",
      "Classification report:\n",
      "               precision    recall  f1-score   support\n",
      "\n",
      "           0       0.84      0.52      0.64        52\n",
      "           1       0.66      0.91      0.76        53\n",
      "\n",
      "    accuracy                           0.71       105\n",
      "   macro avg       0.75      0.71      0.70       105\n",
      "weighted avg       0.75      0.71      0.70       105\n",
      "\n",
      "\n",
      "CR: (0.7506421232876712, 0.71244557329463, 0.7023809523809524, None)\n",
      "\n",
      "Confusion matrix:\n",
      " [[27 25]\n",
      " [ 5 48]] \n",
      "\n",
      "_______________________\n",
      "\n",
      "\n",
      " Accuracy: 71.429 \n",
      " Precision: 0.658 \n",
      " Recall: 0.906 \n",
      " F1: 0.762 \n",
      " FPR: 0.481 \n",
      " ROC_AUC: 0.712\n"
     ]
    }
   ],
   "source": [
    "y_predict_cv_test1 = fit_best_model_test(X_test1, y_test1, pipeline_cv)"
   ]
  },
  {
   "cell_type": "code",
   "execution_count": null,
   "metadata": {},
   "outputs": [],
   "source": []
  },
  {
   "cell_type": "code",
   "execution_count": null,
   "metadata": {},
   "outputs": [],
   "source": []
  }
 ],
 "metadata": {
  "kernelspec": {
   "display_name": "thesis",
   "language": "python",
   "name": "python3"
  },
  "language_info": {
   "codemirror_mode": {
    "name": "ipython",
    "version": 3
   },
   "file_extension": ".py",
   "mimetype": "text/x-python",
   "name": "python",
   "nbconvert_exporter": "python",
   "pygments_lexer": "ipython3",
   "version": "3.10.4"
  },
  "orig_nbformat": 4,
  "vscode": {
   "interpreter": {
    "hash": "b8a34a3bb875764d64c764b9cffa891f179e7153a1578da198ecc075e870264c"
   }
  }
 },
 "nbformat": 4,
 "nbformat_minor": 2
}
