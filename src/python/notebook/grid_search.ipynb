{
 "cells": [
  {
   "cell_type": "code",
   "execution_count": 1,
   "metadata": {},
   "outputs": [],
   "source": [
    "# Data visualization\n",
    "import matplotlib.pyplot as plt\n",
    "\n",
    "# Data manipulation\n",
    "import pandas as pd\n",
    "import numpy as np\n",
    "import csv\n",
    "from zipfile import ZipFile\n",
    "\n",
    "from time import time\n",
    "import datetime\n",
    "from pandas.core.common import flatten\n",
    "from itertools import chain\n",
    "from tqdm import tqdm\n",
    "import warnings\n",
    "\n",
    "# Parsing and pre-processing\n",
    "import glob, re, os, sys, random\n",
    "from random import shuffle\n",
    "\n",
    "from langdetect import detect, DetectorFactory\n",
    "\n",
    "import nltk\n",
    "from nltk.corpus import stopwords\n",
    "from nltk.tokenize import sent_tokenize, word_tokenize\n",
    "from string import punctuation\n",
    "from nltk.stem.porter import PorterStemmer\n",
    "from nltk.stem import WordNetLemmatizer\n",
    "\n",
    "\n",
    "# Vector representations and embeddings\n",
    "from sklearn.feature_extraction.text import TfidfVectorizer, CountVectorizer\n",
    "import gensim\n",
    "\n",
    "# Modeling - Logistic, XGBOOST, SVM\n",
    "from sklearn.model_selection import GridSearchCV, train_test_split, StratifiedShuffleSplit\n",
    "from sklearn.preprocessing import LabelEncoder\n",
    "\n",
    "from imblearn.over_sampling import RandomOverSampler\n",
    "from imblearn.under_sampling import RandomUnderSampler\n",
    "\n",
    "from sklearn.linear_model import LogisticRegression\n",
    "from sklearn.svm import LinearSVC\n",
    "\n",
    "from sklearn.model_selection import cross_val_predict, cross_val_score\n",
    "from sklearn.metrics import accuracy_score, precision_recall_fscore_support, precision_score, recall_score, f1_score\n",
    "from sklearn.metrics import classification_report, confusion_matrix, precision_recall_fscore_support\n",
    "\n",
    "from sklearn.pipeline import Pipeline, FeatureUnion\n",
    "\n",
    "from xgboost import XGBClassifier\n",
    "import pickle"
   ]
  },
  {
   "attachments": {},
   "cell_type": "markdown",
   "metadata": {},
   "source": [
    "Load data"
   ]
  },
  {
   "cell_type": "code",
   "execution_count": 2,
   "metadata": {},
   "outputs": [],
   "source": [
    "df = pd.read_json(r\"../../../data/processed/pre-processed_2023_03_11.json\")\n",
    "\n",
    "df.drop_duplicates(subset=['article_new', 'case_num'], keep='first', inplace=True)\n",
    "df=df.reset_index(drop=True)"
   ]
  },
  {
   "attachments": {},
   "cell_type": "markdown",
   "metadata": {},
   "source": [
    "Phase1 vs. Phase2"
   ]
  },
  {
   "cell_type": "code",
   "execution_count": 3,
   "metadata": {},
   "outputs": [],
   "source": [
    "df1 = df[df['phase2'].isin([0,1])].reset_index(drop=True)\n",
    "\n",
    "le = LabelEncoder()\n",
    "df1['label'] = le.fit_transform(df1['phase2'])"
   ]
  },
  {
   "attachments": {},
   "cell_type": "markdown",
   "metadata": {},
   "source": [
    "Balance data\n",
    "- undersample minority class\n",
    "- use excluded cases as test_set"
   ]
  },
  {
   "cell_type": "code",
   "execution_count": 4,
   "metadata": {},
   "outputs": [
    {
     "name": "stdout",
     "output_type": "stream",
     "text": [
      "label\n",
      "0    1485\n",
      "1      98\n",
      "Name: case_num, dtype: int64 \n",
      " 0    1485\n",
      "1      98\n",
      "Name: label, dtype: int64\n"
     ]
    }
   ],
   "source": [
    "print(df1.groupby('label')['case_num'].nunique(), \"\\n\",\n",
    "df1['label'].value_counts())"
   ]
  },
  {
   "cell_type": "code",
   "execution_count": 5,
   "metadata": {},
   "outputs": [
    {
     "name": "stdout",
     "output_type": "stream",
     "text": [
      "Total decisions: 1583\n",
      "0    1485\n",
      "1      98\n",
      "Name: label, dtype: int64\n",
      "article6(1)(b)    1284\n",
      "article6(2)        201\n",
      "article8(2)         57\n",
      "article8(1)         32\n",
      "article8(3)          9\n",
      "Name: article_new, dtype: int64\n",
      "   label case_num     article_new\n",
      "0      0  M.10001  article6(1)(b)\n"
     ]
    }
   ],
   "source": [
    "# Get unique number of decisions\n",
    "df_unique = df1.groupby(['label', 'case_num','article_new']).first().reset_index()[['label', 'case_num', 'article_new']]\n",
    "print(\"Total decisions:\", len(df_unique.index))\n",
    "print(df_unique['label'].value_counts())\n",
    "print(df_unique['article_new'].value_counts())\n",
    "print(df_unique.head(1))"
   ]
  },
  {
   "cell_type": "code",
   "execution_count": 6,
   "metadata": {},
   "outputs": [],
   "source": [
    "import random\n",
    "\n",
    "def balance(decision_id, Ytrain, random_seed):\n",
    "    print('Balancing...')\n",
    "    v = [i for i, val in enumerate(Ytrain) if val == 1]\n",
    "    nv = [i for i, val in enumerate(Ytrain) if val == 0]\n",
    "\n",
    "    if len(nv) < len(v):\n",
    "        v = random.sample(v, len(nv))\n",
    "    else:\n",
    "        nv = random.sample(nv, len(v))\n",
    "\n",
    "    indices = v + nv\n",
    "    random.seed(random_seed)  # Set the random seed\n",
    "    random.shuffle(indices)\n",
    "\n",
    "    decision_id = [decision_id[i] for i in indices]\n",
    "    Ytrain = [Ytrain[i] for i in indices]\n",
    "\n",
    "    print(\"Total decisions:\", len(decision_id))\n",
    "    print(\"Labels distribution:\", \"\\n\", (pd.DataFrame(Ytrain)[0].value_counts()))\n",
    "    return decision_id, Ytrain\n"
   ]
  },
  {
   "cell_type": "code",
   "execution_count": 7,
   "metadata": {},
   "outputs": [
    {
     "name": "stdout",
     "output_type": "stream",
     "text": [
      "Balancing...\n",
      "Total decisions: 196\n",
      "Labels distribution: \n",
      " 0    98\n",
      "1    98\n",
      "Name: 0, dtype: int64\n"
     ]
    }
   ],
   "source": [
    "decision_id_rus, y_train_rus = balance(df_unique['case_num'], df_unique['label'], random_seed=42)"
   ]
  },
  {
   "cell_type": "code",
   "execution_count": 8,
   "metadata": {},
   "outputs": [],
   "source": [
    "df_balanced = df1[df1['case_num'].isin(decision_id_rus) & df1['label'].isin(y_train_rus)].reset_index(drop=True)"
   ]
  },
  {
   "cell_type": "code",
   "execution_count": 9,
   "metadata": {},
   "outputs": [
    {
     "name": "stdout",
     "output_type": "stream",
     "text": [
      "label\n",
      "0    1386\n",
      "Name: case_num, dtype: int64 \n",
      " 0    1386\n",
      "Name: label, dtype: int64\n"
     ]
    }
   ],
   "source": [
    "df_excluded = df1[~(df1['case_num'].isin(decision_id_rus) & df1['label'].isin(y_train_rus))]\n",
    "print(df_excluded.groupby('label')['case_num'].nunique(), \"\\n\",\n",
    "df_excluded['label'].value_counts())"
   ]
  },
  {
   "attachments": {},
   "cell_type": "markdown",
   "metadata": {},
   "source": [
    "Split balanced data into train (80%) and test (20%)\n",
    "- Match case_num and phase2 to get Train set in df1\n",
    "- Use df_excluded to test the system(?)"
   ]
  },
  {
   "cell_type": "code",
   "execution_count": 10,
   "metadata": {},
   "outputs": [
    {
     "name": "stdout",
     "output_type": "stream",
     "text": [
      "Training set shape: (157,) (157, 2)\n",
      "Test set shape: (40,) (40, 2)\n"
     ]
    }
   ],
   "source": [
    "# Separate the data into features (text) and labels (phase and section_fin)\n",
    "X = df_balanced['text_clean']\n",
    "y = df_balanced[['label', 'article_new']]\n",
    "case_num = df_balanced[['case_num', 'year', 'section_fin', 'file']]\n",
    "\n",
    "# Split the data into train and test sets based on phase2 and section_fin\n",
    "X_train, X_test, y_train, y_test, case_num_train, case_num_test = train_test_split(X, y, case_num, test_size=0.2, stratify=y, random_state=42)\n",
    "\n",
    "# Print the shape of each set to verify that the data has been split correctly\n",
    "print(\"Training set shape:\", X_train.shape, y_train.shape)\n",
    "print(\"Test set shape:\", X_test.shape, y_test.shape)"
   ]
  },
  {
   "cell_type": "code",
   "execution_count": 11,
   "metadata": {},
   "outputs": [
    {
     "name": "stdout",
     "output_type": "stream",
     "text": [
      "label\n",
      "0    79\n",
      "1    78\n",
      "Name: case_num, dtype: int64 \n",
      " Total rows: 157 \n",
      " 0    79\n",
      "1    78\n",
      "Name: label, dtype: int64\n",
      "label\n",
      "0    20\n",
      "1    20\n",
      "Name: case_num, dtype: int64 \n",
      " Total rows: 40 \n",
      " 0    20\n",
      "1    20\n",
      "Name: label, dtype: int64\n"
     ]
    }
   ],
   "source": [
    "# Concatenate X_train, y_train, and case_num_train along axis=1\n",
    "df_train = pd.concat([X_train, y_train, case_num_train], axis=1)\n",
    "\n",
    "# Concatenate X_test, y_test, and case_num_test along axis=1\n",
    "df_test = pd.concat([X_test, y_test, case_num_test], axis=1)\n",
    "\n",
    "print(df_train.groupby('label')['case_num'].nunique(), \"\\n\",\n",
    "    \"Total rows:\", len(df_train.index), \"\\n\",\n",
    "    df_train['label'].value_counts())\n",
    "\n",
    "print(df_test.groupby('label')['case_num'].nunique(), \"\\n\",\n",
    "    \"Total rows:\", len(df_test.index), \"\\n\",\n",
    "    df_test['label'].value_counts())"
   ]
  },
  {
   "cell_type": "code",
   "execution_count": 12,
   "metadata": {},
   "outputs": [
    {
     "name": "stdout",
     "output_type": "stream",
     "text": [
      "Cases label\n",
      "0    79\n",
      "1    78\n",
      "Name: case_num, dtype: int64 \n",
      " Total rows: 157 \n",
      " Rows 0    79\n",
      "1    78\n",
      "Name: label, dtype: int64\n",
      "Cases label\n",
      "0    1406\n",
      "1      20\n",
      "Name: case_num, dtype: int64 \n",
      " Total rows: 1426 \n",
      " Rows 0    1406\n",
      "1      20\n",
      "Name: label, dtype: int64\n"
     ]
    }
   ],
   "source": [
    "# Add excluded cases to df_test\n",
    "df_concat = df_excluded[['text_clean', 'label', 'article_new', 'case_num', 'year', 'section_fin', 'file']]\n",
    "df_test = pd.concat([df_test, df_concat], axis=0)\n",
    "df_test = df_test.reset_index(drop=True)\n",
    "\n",
    "print(\"Cases\", df_train.groupby('label')['case_num'].nunique(), \"\\n\",\n",
    "    \"Total rows:\", len(df_train.index), \"\\n\",\n",
    "    \"Rows\", df_train['label'].value_counts())\n",
    "\n",
    "print(\"Cases\", df_test.groupby('label')['case_num'].nunique(), \"\\n\",\n",
    "    \"Total rows:\", len(df_test.index), \"\\n\",\n",
    "    \"Rows\", df_test['label'].value_counts())"
   ]
  },
  {
   "cell_type": "code",
   "execution_count": 13,
   "metadata": {},
   "outputs": [
    {
     "name": "stdout",
     "output_type": "stream",
     "text": [
      "label\n",
      "0    79\n",
      "1    78\n",
      "Name: case_num, dtype: int64\n"
     ]
    }
   ],
   "source": [
    "# Group df_train by 'case_num', 'article_new', 'file', and join the 'text_clean' column\n",
    "df_train_grouped = df_train.groupby(['year', 'case_num', 'file', 'article_new', 'label'])['text_clean'].agg(' '.join).reset_index()\n",
    "print(df_train_grouped.groupby('label')['case_num'].nunique())"
   ]
  },
  {
   "cell_type": "code",
   "execution_count": 14,
   "metadata": {},
   "outputs": [
    {
     "data": {
      "text/html": [
       "<div>\n",
       "<style scoped>\n",
       "    .dataframe tbody tr th:only-of-type {\n",
       "        vertical-align: middle;\n",
       "    }\n",
       "\n",
       "    .dataframe tbody tr th {\n",
       "        vertical-align: top;\n",
       "    }\n",
       "\n",
       "    .dataframe thead th {\n",
       "        text-align: right;\n",
       "    }\n",
       "</style>\n",
       "<table border=\"1\" class=\"dataframe\">\n",
       "  <thead>\n",
       "    <tr style=\"text-align: right;\">\n",
       "      <th></th>\n",
       "      <th>year</th>\n",
       "      <th>case_num</th>\n",
       "      <th>file</th>\n",
       "      <th>article_new</th>\n",
       "      <th>label</th>\n",
       "      <th>text_clean</th>\n",
       "    </tr>\n",
       "  </thead>\n",
       "  <tbody>\n",
       "    <tr>\n",
       "      <th>0</th>\n",
       "      <td>2004</td>\n",
       "      <td>M.3558</td>\n",
       "      <td>\\m3558_20041217_20212_en</td>\n",
       "      <td>article6(2)</td>\n",
       "      <td>0</td>\n",
       "      <td>undertaking concerned combined aggregate world...</td>\n",
       "    </tr>\n",
       "    <tr>\n",
       "      <th>1</th>\n",
       "      <td>2004</td>\n",
       "      <td>M.3561</td>\n",
       "      <td>\\m3561_20041215_20310_en</td>\n",
       "      <td>article6(1)(b)</td>\n",
       "      <td>0</td>\n",
       "      <td>introduction st eurotel effectively dt group n...</td>\n",
       "    </tr>\n",
       "    <tr>\n",
       "      <th>2</th>\n",
       "      <td>2005</td>\n",
       "      <td>M.3625</td>\n",
       "      <td>\\m3625_20050713_20682_en</td>\n",
       "      <td>article8(1)</td>\n",
       "      <td>1</td>\n",
       "      <td>celanese acetex signed arrangement agreement p...</td>\n",
       "    </tr>\n",
       "  </tbody>\n",
       "</table>\n",
       "</div>"
      ],
      "text/plain": [
       "   year case_num                      file     article_new  label  \\\n",
       "0  2004   M.3558  \\m3558_20041217_20212_en     article6(2)      0   \n",
       "1  2004   M.3561  \\m3561_20041215_20310_en  article6(1)(b)      0   \n",
       "2  2005   M.3625  \\m3625_20050713_20682_en     article8(1)      1   \n",
       "\n",
       "                                          text_clean  \n",
       "0  undertaking concerned combined aggregate world...  \n",
       "1  introduction st eurotel effectively dt group n...  \n",
       "2  celanese acetex signed arrangement agreement p...  "
      ]
     },
     "execution_count": 14,
     "metadata": {},
     "output_type": "execute_result"
    }
   ],
   "source": [
    "df_train_grouped.head(3)"
   ]
  },
  {
   "cell_type": "code",
   "execution_count": 15,
   "metadata": {},
   "outputs": [
    {
     "name": "stdout",
     "output_type": "stream",
     "text": [
      "label\n",
      "0    1406\n",
      "1      20\n",
      "Name: case_num, dtype: int64\n"
     ]
    }
   ],
   "source": [
    "# Group df_test by 'case_num', 'article_new', 'file', and join the 'text_clean' column\n",
    "df_test_grouped = df_test.groupby(['year', 'article_new', 'case_num', 'file', 'label'])['text_clean'].agg(' '.join).reset_index()\n",
    "print(df_test_grouped.groupby('label')['case_num'].nunique())"
   ]
  },
  {
   "cell_type": "code",
   "execution_count": 16,
   "metadata": {},
   "outputs": [
    {
     "data": {
      "text/html": [
       "<div>\n",
       "<style scoped>\n",
       "    .dataframe tbody tr th:only-of-type {\n",
       "        vertical-align: middle;\n",
       "    }\n",
       "\n",
       "    .dataframe tbody tr th {\n",
       "        vertical-align: top;\n",
       "    }\n",
       "\n",
       "    .dataframe thead th {\n",
       "        text-align: right;\n",
       "    }\n",
       "</style>\n",
       "<table border=\"1\" class=\"dataframe\">\n",
       "  <thead>\n",
       "    <tr style=\"text-align: right;\">\n",
       "      <th></th>\n",
       "      <th>year</th>\n",
       "      <th>article_new</th>\n",
       "      <th>case_num</th>\n",
       "      <th>file</th>\n",
       "      <th>label</th>\n",
       "      <th>text_clean</th>\n",
       "    </tr>\n",
       "  </thead>\n",
       "  <tbody>\n",
       "    <tr>\n",
       "      <th>0</th>\n",
       "      <td>2004</td>\n",
       "      <td>article6(1)(b)</td>\n",
       "      <td>M.3355</td>\n",
       "      <td>\\m3355_20040615_310_en</td>\n",
       "      <td>0</td>\n",
       "      <td>transmission market assumption narrow market d...</td>\n",
       "    </tr>\n",
       "    <tr>\n",
       "      <th>1</th>\n",
       "      <td>2004</td>\n",
       "      <td>article6(1)(b)</td>\n",
       "      <td>M.3439</td>\n",
       "      <td>\\m3439_20040809_20310_en</td>\n",
       "      <td>0</td>\n",
       "      <td>proposed concentration involves acquisition so...</td>\n",
       "    </tr>\n",
       "    <tr>\n",
       "      <th>2</th>\n",
       "      <td>2004</td>\n",
       "      <td>article6(1)(b)</td>\n",
       "      <td>M.3448</td>\n",
       "      <td>\\m3448_en</td>\n",
       "      <td>0</td>\n",
       "      <td>present transaction result edp having sole con...</td>\n",
       "    </tr>\n",
       "  </tbody>\n",
       "</table>\n",
       "</div>"
      ],
      "text/plain": [
       "   year     article_new case_num                      file  label  \\\n",
       "0  2004  article6(1)(b)   M.3355    \\m3355_20040615_310_en      0   \n",
       "1  2004  article6(1)(b)   M.3439  \\m3439_20040809_20310_en      0   \n",
       "2  2004  article6(1)(b)   M.3448                 \\m3448_en      0   \n",
       "\n",
       "                                          text_clean  \n",
       "0  transmission market assumption narrow market d...  \n",
       "1  proposed concentration involves acquisition so...  \n",
       "2  present transaction result edp having sole con...  "
      ]
     },
     "execution_count": 16,
     "metadata": {},
     "output_type": "execute_result"
    }
   ],
   "source": [
    "df_test_grouped.head(3)"
   ]
  },
  {
   "attachments": {},
   "cell_type": "markdown",
   "metadata": {},
   "source": [
    "Baseline - Logit, SVC"
   ]
  },
  {
   "cell_type": "code",
   "execution_count": 17,
   "metadata": {},
   "outputs": [],
   "source": [
    "vectorizer = TfidfVectorizer()\n",
    "\n",
    "X_train = vectorizer.fit_transform(df_train['text_clean'])\n",
    "y_train = df_train['label']\n",
    "\n",
    "# Transform the test data using the same vectorizer as the training data\n",
    "X_test = vectorizer.transform(df_test['text_clean'])\n",
    "y_test = df_test['label']"
   ]
  },
  {
   "cell_type": "code",
   "execution_count": 18,
   "metadata": {},
   "outputs": [
    {
     "name": "stdout",
     "output_type": "stream",
     "text": [
      " Accuracy: 86.75 \n",
      " Precision: 0.067 \n",
      " Recall: 0.650 \n",
      " F1: 0.121\n"
     ]
    }
   ],
   "source": [
    "# Fit the logistic regression model\n",
    "clf = LogisticRegression(random_state=0).fit(X_train, y_train)\n",
    "\n",
    "# Predict the class labels for the test data\n",
    "y_pred = clf.predict(X_test)\n",
    "\n",
    "# Evaluate the performance of the model\n",
    "accuracy = accuracy_score(y_test, y_pred) *100.0\n",
    "precision = precision_score(y_test, y_pred, average='binary')\n",
    "recall = recall_score(y_test, y_pred, average='binary')\n",
    "f_score = 2 * (precision * recall) / (precision + recall)\n",
    "\n",
    "print(f' Accuracy: {accuracy:.2f} \\n Precision: {precision:.3f} \\n Recall: {recall:.3f} \\n F1: {f_score:.3f}')\n"
   ]
  },
  {
   "cell_type": "code",
   "execution_count": 19,
   "metadata": {},
   "outputs": [
    {
     "name": "stdout",
     "output_type": "stream",
     "text": [
      " Accuracy: 86.40 \n",
      " Precision: 0.074 \n",
      " Recall: 0.750 \n",
      " F1: 0.134\n"
     ]
    }
   ],
   "source": [
    "# Fit the SVC\n",
    "clf = LinearSVC().fit(X_train, y_train)\n",
    "\n",
    "# Predict the class labels for the test data\n",
    "y_pred = clf.predict(X_test)\n",
    "\n",
    "# Evaluate the performance of the model\n",
    "accuracy = accuracy_score(y_test, y_pred) *100.0\n",
    "precision = precision_score(y_test, y_pred, average='binary')\n",
    "recall = recall_score(y_test, y_pred, average='binary')\n",
    "f_score = 2 * (precision * recall) / (precision + recall)\n",
    "\n",
    "print(f' Accuracy: {accuracy:.2f} \\n Precision: {precision:.3f} \\n Recall: {recall:.3f} \\n F1: {f_score:.3f}')"
   ]
  },
  {
   "attachments": {},
   "cell_type": "markdown",
   "metadata": {},
   "source": [
    "Grid Search - SVC"
   ]
  },
  {
   "cell_type": "code",
   "execution_count": 20,
   "metadata": {},
   "outputs": [],
   "source": [
    "X_train = df_train['text_clean']\n",
    "y_train = df_train['label']\n",
    "\n",
    "X_test = df_test['text_clean']\n",
    "y_test = df_test['label']"
   ]
  },
  {
   "cell_type": "code",
   "execution_count": 26,
   "metadata": {},
   "outputs": [
    {
     "name": "stdout",
     "output_type": "stream",
     "text": [
      "Fitting 3 folds for each of 54 candidates, totalling 162 fits\n",
      "done in 108.081s\n",
      "Best cross-validation score:  0.7960812772133526\n",
      "Best parameters set:\n",
      "\tclf__C: 1\n",
      "\ttfidf__min_df: 2\n",
      "\ttfidf__ngram_range: (1, 2)\n",
      "\ttfidf__norm: 'l1'\n"
     ]
    }
   ],
   "source": [
    "from sklearn.model_selection import GridSearchCV\n",
    "from sklearn.svm import LinearSVC\n",
    "from sklearn.pipeline import Pipeline\n",
    "from sklearn.feature_extraction.text import TfidfVectorizer\n",
    "\n",
    "# Create a pipeline with TfidfVectorizer and LinearSVC\n",
    "pipeline = Pipeline([\n",
    "    ('tfidf', TfidfVectorizer(analyzer='word')),\n",
    "    ('clf', LinearSVC())\n",
    "])\n",
    "\n",
    "# Define the grid of hyperparameters to search over\n",
    "parameters = {\n",
    "\t'tfidf__ngram_range': [(1,2),(1,1),(1,3)], #(1,4),(2,2),(2,3),(2,4),(3,3),(3,4),(4,4)\n",
    "\t#'tfidf__analyzer': ('word', 'char'),\n",
    "\t#'tfidf__lowercase': (True, False),\n",
    "\t#'tfidf__max_df': (0.01, 1.0), # ignore words that occur as more than 1% of corpus\n",
    "\t'tfidf__min_df': (1, 2, 3), # we need to see a word at least (once, twice, thrice) in a document\n",
    "\t#'tfidf__use_idf': (False, True), # use inverse document frequency weighting\n",
    "\t#'tfidf__sublinear_tf': (False, True),\n",
    "\t#'tfidf__binary': (False, True), #set term frequency binary (all non-zero terms are set to 1)\n",
    "\t'tfidf__norm': ('l1', 'l2'), #norm used to normalize term vectors\n",
    "\t#'tfidf__max_features': (None, 2000, 5000),\n",
    "\t#'tfidf__stop_words': (None, 'english'),\n",
    "\n",
    "\t#'tfidfchar_ngram_range': ((1,1),(1,2),(1,3),(1,4),(1,5),(1,6),(2,2),(2,3),(2,4),(2,5),(2,6),(3,3),(3,4),(3,5),(3,6),(4,4),(4,5),(4,6),(5,5),(5,6),(1,7),(2,7),(3,7),(4,7),(5,7),(6,7),(7,7)),\n",
    "\t\n",
    "\t\n",
    "\t'clf__C':(0.1, 1, 5) # penalty parameter for the SVM\n",
    "}\n",
    "\n",
    "# Create a GridSearchCV object with the pipeline and hyperparameters\n",
    "grid_search = GridSearchCV(pipeline, parameters, cv=3, n_jobs=24, verbose=1)\n",
    "t0 = time()\n",
    "\n",
    "# Fit the GridSearchCV object to the training data\n",
    "grid_search.fit(X_train, y_train)"
   ]
  },
  {
   "cell_type": "code",
   "execution_count": 27,
   "metadata": {},
   "outputs": [
    {
     "name": "stdout",
     "output_type": "stream",
     "text": [
      "done in 138.933s\n",
      "Best cross-validation score:  0.7960812772133526\n",
      "Best parameters set:\n",
      "\tclf__C: 1\n",
      "\ttfidf__min_df: 2\n",
      "\ttfidf__ngram_range: (1, 2)\n",
      "\ttfidf__norm: 'l1'\n"
     ]
    }
   ],
   "source": [
    "print(\"done in %0.3fs\" % (time() - t0))\n",
    "\n",
    "# Print the best hyperparameters and the corresponding mean cross-validated score\n",
    "print(\"Best cross-validation score: \", grid_search.best_score_)\n",
    "print(\"Best parameters set:\")\n",
    "best_parameters = grid_search.best_estimator_.get_params()\n",
    "for param_name in sorted(parameters.keys()):\n",
    "\tprint(\"\\t%s: %r\" % (param_name, best_parameters[param_name]))"
   ]
  },
  {
   "cell_type": "code",
   "execution_count": 28,
   "metadata": {},
   "outputs": [
    {
     "name": "stdout",
     "output_type": "stream",
     "text": [
      "fitting the best model\n",
      "Accuracy: 0.7961783439490446\n",
      "\n",
      "Classification report:\n",
      "               precision    recall  f1-score   support\n",
      "\n",
      "           0       0.78      0.82      0.80        79\n",
      "           1       0.81      0.77      0.79        78\n",
      "\n",
      "    accuracy                           0.80       157\n",
      "   macro avg       0.80      0.80      0.80       157\n",
      "weighted avg       0.80      0.80      0.80       157\n",
      "\n",
      "\n",
      "Confusion matrix:\n",
      " [[65 14]\n",
      " [18 60]] \n",
      "\n",
      "_______________________\n",
      "\n",
      "\n"
     ]
    }
   ],
   "source": [
    "k = sorted(parameters.keys())\n",
    "vec = TfidfVectorizer()\n",
    "clf = LinearSVC()\n",
    "pipeline_test = Pipeline([('tfidf', vec), ('clf', clf)])\n",
    "pipeline_test.set_params(**best_parameters)\n",
    "print('fitting the best model')\n",
    "pipeline_test.fit(X_train, y_train)\n",
    "\n",
    "y_predict = cross_val_predict(pipeline_test, X_train, y_train, cv=3)\n",
    "print('Accuracy:', accuracy_score(y_train, y_predict) )\n",
    "print('\\nClassification report:\\n', classification_report(y_train, y_predict))\n",
    "print('\\nConfusion matrix:\\n', confusion_matrix(y_train, y_predict), '\\n\\n_______________________\\n\\n')\n",
    "accuracies = []\n",
    "accuracies.append(accuracy_score(y_train, y_predict))"
   ]
  },
  {
   "cell_type": "code",
   "execution_count": 44,
   "metadata": {},
   "outputs": [],
   "source": [
    "def evaluate(Ytest, Ypredict): #evaluate the model (accuracy, precision, recall, f-score, confusion matrix)\n",
    "        print('Accuracy:', accuracy_score(Ytest, Ypredict) )\n",
    "        print('\\nClassification report:\\n', classification_report(Ytest, Ypredict))\n",
    "        print('\\nCR:', precision_recall_fscore_support(Ytest, Ypredict, average='macro'))\n",
    "        print('\\nConfusion matrix:\\n', confusion_matrix(Ytest, Ypredict), '\\n\\n_______________________\\n\\n')\n",
    "        \n",
    "        # Evaluate the performance of the model\n",
    "        accuracy = accuracy_score(Ytest, Ypredict) *100.0\n",
    "        precision = precision_score(Ytest, Ypredict, average='binary')\n",
    "        recall = recall_score(Ytest, Ypredict, average='binary')\n",
    "        f_score = 2 * (precision * recall) / (precision + recall)\n",
    "\n",
    "        print(f' Accuracy: {accuracy:.2f} \\n Precision: {precision:.3f} \\n Recall: {recall:.3f} \\n F1: {f_score:.3f}')"
   ]
  },
  {
   "cell_type": "code",
   "execution_count": 45,
   "metadata": {},
   "outputs": [],
   "source": [
    "def train_model_cross_val(Xtrain, Ytrain, vec, c): #Linear SVC model cross-validation\n",
    "    print('***10-fold cross-validation***')\n",
    "    pipeline = Pipeline([\n",
    "        ('features', FeatureUnion(\n",
    "            [vec],\n",
    "        )),\n",
    "        ('classifier', LinearSVC(C=c))\n",
    "        ])\n",
    "    Ypredict = cross_val_predict(pipeline, Xtrain, Ytrain, cv=10) #10-fold cross-validation\n",
    "    evaluate(Ytrain, Ypredict)"
   ]
  },
  {
   "cell_type": "code",
   "execution_count": 46,
   "metadata": {},
   "outputs": [],
   "source": [
    "def train_model_test(Xtrain, Ytrain, Xtest_v, Ytest_v, vec, c): #test on 'violations' test set\n",
    "    pipeline = Pipeline([\n",
    "        ('features', FeatureUnion([vec]\n",
    "        )),\n",
    "        ('classifier', LinearSVC(C=c))\n",
    "        ])\n",
    "    pipeline.fit(Xtrain, Ytrain)\n",
    "    print('***testing on test set***')\n",
    "    Ypredict = pipeline.predict(Xtest_v)\n",
    "    evaluate(Ytest_v, Ypredict)"
   ]
  },
  {
   "cell_type": "code",
   "execution_count": 37,
   "metadata": {},
   "outputs": [
    {
     "data": {
      "text/plain": [
       "{'clf__C': 1,\n",
       " 'tfidf__min_df': 2,\n",
       " 'tfidf__ngram_range': (1, 2),\n",
       " 'tfidf__norm': 'l1'}"
      ]
     },
     "execution_count": 37,
     "metadata": {},
     "output_type": "execute_result"
    }
   ],
   "source": [
    "grid_search.best_params_"
   ]
  },
  {
   "cell_type": "code",
   "execution_count": 38,
   "metadata": {},
   "outputs": [],
   "source": [
    "vec = ('wordvec', TfidfVectorizer(analyzer = 'word', ngram_range = (1,2),  min_df = 2, norm = 'l1'))\n",
    "c=1"
   ]
  },
  {
   "cell_type": "code",
   "execution_count": 39,
   "metadata": {},
   "outputs": [
    {
     "name": "stdout",
     "output_type": "stream",
     "text": [
      "***10-fold cross-validation***\n",
      "Accuracy: 0.7388535031847133\n",
      "\n",
      "Classification report:\n",
      "               precision    recall  f1-score   support\n",
      "\n",
      "           0       0.73      0.76      0.75        79\n",
      "           1       0.75      0.72      0.73        78\n",
      "\n",
      "    accuracy                           0.74       157\n",
      "   macro avg       0.74      0.74      0.74       157\n",
      "weighted avg       0.74      0.74      0.74       157\n",
      "\n",
      "\n",
      "CR: (0.7391869918699188, 0.738721194417397, 0.738683879348841, None)\n",
      "\n",
      "Confusion matrix:\n",
      " [[60 19]\n",
      " [22 56]] \n",
      "\n",
      "_______________________\n",
      "\n",
      "\n"
     ]
    }
   ],
   "source": [
    "train_model_cross_val(X_train, y_train, vec, c)"
   ]
  },
  {
   "cell_type": "code",
   "execution_count": 47,
   "metadata": {},
   "outputs": [
    {
     "name": "stdout",
     "output_type": "stream",
     "text": [
      "***testing on test set***\n",
      "Accuracy: 0.7601683029453016\n",
      "\n",
      "Classification report:\n",
      "               precision    recall  f1-score   support\n",
      "\n",
      "           0       0.99      0.76      0.86      1406\n",
      "           1       0.04      0.70      0.08        20\n",
      "\n",
      "    accuracy                           0.76      1426\n",
      "   macro avg       0.52      0.73      0.47      1426\n",
      "weighted avg       0.98      0.76      0.85      1426\n",
      "\n",
      "\n",
      "CR: (0.5172118959107807, 0.7305120910384069, 0.4689417862665244, None)\n",
      "\n",
      "Confusion matrix:\n",
      " [[1070  336]\n",
      " [   6   14]] \n",
      "\n",
      "_______________________\n",
      "\n",
      "\n",
      " Accuracy: 76.02 \n",
      " Precision: 0.040 \n",
      " Recall: 0.700 \n",
      " F1: 0.076\n"
     ]
    }
   ],
   "source": [
    "train_model_test(X_train, y_train, X_test, y_test, vec, c)"
   ]
  },
  {
   "attachments": {},
   "cell_type": "markdown",
   "metadata": {},
   "source": [
    "Get feature importance"
   ]
  },
  {
   "cell_type": "code",
   "execution_count": null,
   "metadata": {},
   "outputs": [],
   "source": []
  },
  {
   "cell_type": "code",
   "execution_count": null,
   "metadata": {},
   "outputs": [],
   "source": []
  },
  {
   "cell_type": "code",
   "execution_count": null,
   "metadata": {},
   "outputs": [],
   "source": []
  },
  {
   "cell_type": "code",
   "execution_count": null,
   "metadata": {},
   "outputs": [],
   "source": []
  }
 ],
 "metadata": {
  "kernelspec": {
   "display_name": "thesis",
   "language": "python",
   "name": "python3"
  },
  "language_info": {
   "codemirror_mode": {
    "name": "ipython",
    "version": 3
   },
   "file_extension": ".py",
   "mimetype": "text/x-python",
   "name": "python",
   "nbconvert_exporter": "python",
   "pygments_lexer": "ipython3",
   "version": "3.10.4"
  },
  "orig_nbformat": 4
 },
 "nbformat": 4,
 "nbformat_minor": 2
}
