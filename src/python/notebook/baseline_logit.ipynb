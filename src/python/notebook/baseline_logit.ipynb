{
 "cells": [
  {
   "cell_type": "code",
   "execution_count": 14,
   "metadata": {},
   "outputs": [],
   "source": [
    "# Data visualization\n",
    "import matplotlib.pyplot as plt\n",
    "\n",
    "# Data manipulation|\n",
    "import pandas as pd\n",
    "import numpy as np\n",
    "\n",
    "import glob, re, os, sys, random\n",
    "from random import shuffle\n",
    "import random\n",
    "from time import time\n",
    "\n",
    "# Vector representations and embeddings\n",
    "from sklearn.feature_extraction.text import TfidfVectorizer, CountVectorizer\n",
    "import gensim\n",
    "\n",
    "# Modeling - Logistic, XGBOOST, SVM\n",
    "from sklearn.model_selection import GridSearchCV, train_test_split, StratifiedShuffleSplit\n",
    "from sklearn.preprocessing import LabelEncoder\n",
    "\n",
    "from imblearn.over_sampling import RandomOverSampler\n",
    "from imblearn.under_sampling import RandomUnderSampler\n",
    "\n",
    "from sklearn.linear_model import LogisticRegression\n",
    "from sklearn.svm import LinearSVC\n",
    "\n",
    "from sklearn.model_selection import cross_val_predict, cross_val_score\n",
    "from sklearn.metrics import accuracy_score, precision_recall_fscore_support, precision_score, recall_score, f1_score\n",
    "from sklearn.metrics import classification_report, confusion_matrix, precision_recall_fscore_support\n",
    "\n",
    "from sklearn.pipeline import Pipeline, FeatureUnion\n",
    "\n",
    "from xgboost import XGBClassifier\n",
    "import pickle\n"
   ]
  },
  {
   "cell_type": "code",
   "execution_count": 15,
   "metadata": {},
   "outputs": [],
   "source": [
    "import sys\n",
    "sys.path.append(f'../../python')\n",
    "from grid_search import create_label, balance_unique_id, \\\n",
    "create_balanced_excluded, create_train_test_excluded, group_by_case, \\\n",
    "create_feature_label, gridsearch, fit_best_model_train, evaluate, \\\n",
    "train_model_cross_val, train_model_test"
   ]
  },
  {
   "cell_type": "code",
   "execution_count": 16,
   "metadata": {},
   "outputs": [],
   "source": [
    "df = pd.read_json(r\"../../../data/processed/pre-processed_2023_03_11.json\")\n",
    "\n",
    "df.drop_duplicates(subset=['article_new', 'case_num', 'file', 'section_fin'], keep='first', inplace=True)\n",
    "df=df.reset_index(drop=True)"
   ]
  },
  {
   "cell_type": "code",
   "execution_count": 17,
   "metadata": {},
   "outputs": [],
   "source": [
    "# Define a regular expression pattern to match the unwanted words\n",
    "remove_words = ['statement objection', 'en', 'phase ii', 'rfi', 'request information']\n",
    "remove_pattern = re.compile(r'\\b(' + '|'.join(remove_words) + r')\\b', flags=re.IGNORECASE)\n",
    "df['text_clean'] = df['text_clean'].replace(remove_pattern, '', regex=True)"
   ]
  },
  {
   "cell_type": "code",
   "execution_count": 7,
   "metadata": {},
   "outputs": [],
   "source": [
    "label_name = \"phase2\""
   ]
  },
  {
   "cell_type": "code",
   "execution_count": 8,
   "metadata": {},
   "outputs": [
    {
     "name": "stdout",
     "output_type": "stream",
     "text": [
      "Total decisions: 1583\n",
      "0    1485\n",
      "1      98\n",
      "Name: label, dtype: int64\n",
      "Balancing...\n",
      "Total decisions: 196\n",
      "Labels distribution: \n",
      " 0    98\n",
      "1    98\n",
      "Name: 0, dtype: int64\n",
      "Training set shape: (157,) (157,)\n",
      "Test set shape: (40,) (40,)\n",
      "Creating df_train 1: 78 0: 79\n",
      "Creating df_test1 1: 20 0: 20\n",
      "Creating df_test concatenated with df_excluded with len: 1386\n",
      "Creating df_test 1: 20 0: 1406\n",
      "Grouping df_train by case_num 1: 78 0: 79\n",
      "Grouping df_test by case_num 1: 20 0: 1406\n",
      "Grouping df_test1 by case_num 1: 20 0: 20\n",
      "Grouping df_excluded by case_num with len: 1386\n"
     ]
    }
   ],
   "source": [
    "df1 = create_label(df, label_name)\n",
    "df_unique = balance_unique_id(df1)\n",
    "df_balanced_unique, df_balanced, df_excluded = create_balanced_excluded(df_unique, df1)\n",
    "df_train, df_test, df_test1 = create_train_test_excluded(df_balanced, df_balanced_unique, df_excluded)\n",
    "df_train_grouped, df_test_grouped, df_test1_grouped, df_excluded_grouped = group_by_case(df_train, df_test, df_test1, df_excluded)"
   ]
  },
  {
   "cell_type": "code",
   "execution_count": 9,
   "metadata": {},
   "outputs": [],
   "source": [
    "X_train, y_train, X_test, y_test, X_test1, y_test1, X_test2, y_test2 = create_feature_label(df_train_grouped, df_test_grouped, df_test1_grouped, df_excluded_grouped)"
   ]
  },
  {
   "cell_type": "code",
   "execution_count": 12,
   "metadata": {},
   "outputs": [],
   "source": [
    "# Define model\n",
    "model = LogisticRegression()\n",
    "\n",
    "# Create a pipeline with TfidfVectorizer and Logit\n",
    "pipeline = Pipeline([\n",
    "    ('tfidf', TfidfVectorizer(analyzer='word', stop_words='english')),\n",
    "    ('clf', model)\n",
    "\n",
    "])\n",
    "\n",
    "# Define the grid of hyperparameters to search over\n",
    "parameters = {\n",
    "    'tfidf__ngram_range': [(1,2),(1,1),(1,3), (2,2),(2,3), (2,4), (3,3), (3,4)],\n",
    "    #'tfidf__analyzer': ('word', 'char'),\n",
    "    #'tfidf__lowercase': (True, False),\n",
    "    'tfidf__max_df': [0.25, 0.5, 0.75, 1.0], # (0.01, 1.0), # ignore words that occur as more than x% of corpus\n",
    "    # 'tfidf__min_df': (1, 2, 3), # we need to see a word at least (once, twice, thrice) in a document\n",
    "    'tfidf__use_idf': (False, True), # use inverse document frequency weighting\n",
    "    #'tfidf__sublinear_tf': (False, True),\n",
    "    'tfidf__binary': (False, True), #set term frequency binary (all non-zero terms are set to 1)\n",
    "    'tfidf__norm': ('l1', 'l2'), #norm used to normalize term vectors\n",
    "    'tfidf__max_features': (None, 2000, 5000),\n",
    "    #'tfidf__stop_words': (None, 'english'),\n",
    "\n",
    "    'clf__solver': ['liblinear', 'lbfgs'],\n",
    "    'clf__C':(0.1, 1, 5) # penalty parameter for the logit\n",
    "}"
   ]
  },
  {
   "cell_type": "code",
   "execution_count": 11,
   "metadata": {},
   "outputs": [],
   "source": [
    "# c = 5\n",
    "# solver = 'liblinear'\n",
    "# model = LogisticRegression(C=c, solver=solver)\n",
    "\n",
    "# # Create a pipeline with TfidfVectorizer and Logit\n",
    "# pipeline = Pipeline([\n",
    "#     ('tfidf', TfidfVectorizer(analyzer='word', max_features=5000, stop_words='english')),\n",
    "#     ('clf', model)\n",
    "\n",
    "# ])\n",
    "\n",
    "# # Define the grid of hyperparameters to search over\n",
    "# parameters = {\n",
    "#     'tfidf__ngram_range': [(3,3),(3,4)],\n",
    "#     'tfidf__max_df': [0.25, 0.5, 0.75, 1.0], # ignore words that occur as more than 1% of corpus\n",
    "#     # 'tfidf__use_idf': (False, True), # use inverse document frequency weighting\n",
    "#     # 'tfidf__binary': (False, True), #set term frequency binary (all non-zero terms are set to 1)\n",
    "#     'tfidf__norm': ('l1', 'l2'), #norm used to normalize term vectors\n",
    "# }"
   ]
  },
  {
   "cell_type": "code",
   "execution_count": null,
   "metadata": {},
   "outputs": [],
   "source": [
    "grid_search, best_parameters = gridsearch(pipeline, parameters, X_train, y_train, cv=3, scoring='f1')"
   ]
  },
  {
   "cell_type": "code",
   "execution_count": 13,
   "metadata": {},
   "outputs": [
    {
     "name": "stdout",
     "output_type": "stream",
     "text": [
      "Top 10 features by importance:\n",
      "1. commission request information: 1.008\n",
      "2. large industrial customer: 0.868\n",
      "3. oe spinning machine: 0.861\n",
      "4. coal iron ore: 0.845\n",
      "5. digital map database: 0.798\n",
      "6. di benzoate plasticizer: 0.794\n",
      "7. time sensitive passenger: 0.791\n",
      "8. quarter year index: 0.778\n",
      "9. cruise ship market: 0.756\n",
      "10. company issued equity: 0.750\n"
     ]
    },
    {
     "data": {
      "image/png": "[encoded data removed]",
      "text/plain": [
       "<Figure size 800x500 with 1 Axes>"
      ]
     },
     "metadata": {},
     "output_type": "display_data"
    }
   ],
   "source": [
    "best_pipeline = grid_search.best_estimator_ # get the best pipeline from GridSearchCV\n",
    "best_model = best_pipeline.named_steps['clf'] # get the best model from the pipeline\n",
    "\n",
    "if isinstance(best_model, LogisticRegression):\n",
    "    feature_importances = best_model.coef_[0]\n",
    "# elif isinstance(best_model, DecisionTreeClassifier) or isinstance(best_model, RandomForestClassifier):\n",
    "#     feature_importances = best_model.feature_importances_\n",
    "else:\n",
    "    raise ValueError(\"Unsupported model type\")\n",
    "\n",
    "# Get the TfidfVectorizer object from the pipeline\n",
    "tfidf_vectorizer = best_pipeline.named_steps['tfidf']\n",
    "feature_names = tfidf_vectorizer.get_feature_names_out()\n",
    "\n",
    "# Create a dictionary of feature names and their corresponding coefficients\n",
    "coef_dict = dict(zip(feature_names, feature_importances))\n",
    "\n",
    "# Sort the dictionary by the absolute value of the coefficients\n",
    "sorted_coef_dict = {k: v for k, v in sorted(coef_dict.items(), key=lambda item: (item[1]), reverse=True)} # should I use absolute value?\n",
    "\n",
    "# Print the top 10 most important features\n",
    "print(\"Top 10 features by importance:\")\n",
    "for i, (feature, coef) in enumerate(sorted_coef_dict.items()):\n",
    "    if i == 10:\n",
    "        break\n",
    "    print(f\"{i+1}. {feature}: {coef:.3f}\")\n",
    "\n",
    "# Get the top 10 features and their coefficients\n",
    "top_features_0 = list(sorted_coef_dict.keys())[:10]\n",
    "top_coefs_0 = list(sorted_coef_dict.values())[:10]\n",
    "\n",
    "# Create a horizontal bar chart\n",
    "fig, ax = plt.subplots(figsize=(8, 5))\n",
    "y_pos = range(len(top_features_0))\n",
    "ax.barh(y_pos, top_coefs_0, align='center', color='darkblue')\n",
    "ax.set_yticks(y_pos)\n",
    "ax.set_yticklabels(top_features_0)\n",
    "ax.invert_yaxis()\n",
    "ax.set_xlabel('Coefficient')\n",
    "ax.set_title('Top 10 predictors')\n",
    "plt.show()"
   ]
  },
  {
   "cell_type": "code",
   "execution_count": 26,
   "metadata": {},
   "outputs": [
    {
     "name": "stdout",
     "output_type": "stream",
     "text": [
      "fitting the best model\n",
      "Accuracy: 0.7834394904458599\n",
      "\n",
      "Classification report:\n",
      "               precision    recall  f1-score   support\n",
      "\n",
      "           0       0.85      0.70      0.76        79\n",
      "           1       0.74      0.87      0.80        78\n",
      "\n",
      "    accuracy                           0.78       157\n",
      "   macro avg       0.79      0.78      0.78       157\n",
      "weighted avg       0.79      0.78      0.78       157\n",
      "\n",
      "\n",
      "CR: (0.7926421404682273, 0.7839987017202208, 0.7819444444444444, None)\n",
      "\n",
      "Confusion matrix:\n",
      " [[55 24]\n",
      " [10 68]] \n",
      "\n",
      "_______________________\n",
      "\n",
      "\n",
      " Accuracy: 78.34 \n",
      " Precision: 0.739 \n",
      " Recall: 0.872 \n",
      " F1: 0.800\n"
     ]
    }
   ],
   "source": [
    "pipeline_cv, y_predict_cv = fit_best_model_train(X_train, y_train, model, best_parameters, cv=3)"
   ]
  },
  {
   "cell_type": "code",
   "execution_count": 14,
   "metadata": {},
   "outputs": [
    {
     "name": "stdout",
     "output_type": "stream",
     "text": [
      "\ttfidf__max_df: 0.5\n",
      "\ttfidf__ngram_range: (3, 4)\n",
      "\ttfidf__norm: 'l2'\n"
     ]
    }
   ],
   "source": [
    "for param_name in sorted(parameters.keys()):\n",
    "        print(\"\\t%s: %r\" % (param_name, best_parameters[param_name]))"
   ]
  },
  {
   "cell_type": "code",
   "execution_count": 15,
   "metadata": {},
   "outputs": [],
   "source": [
    "vec = ('wordvec', TfidfVectorizer(analyzer = 'word', ngram_range = (3,4), binary = True, max_df = 0.4, norm = 'l2', use_idf = False))\n",
    "c = 5\n",
    "solver = 'liblinear'"
   ]
  },
  {
   "cell_type": "code",
   "execution_count": 37,
   "metadata": {},
   "outputs": [
    {
     "name": "stdout",
     "output_type": "stream",
     "text": [
      "***10-fold cross-validation***\n",
      "Accuracy: 0.9171974522292994\n",
      "\n",
      "Classification report:\n",
      "               precision    recall  f1-score   support\n",
      "\n",
      "           0       0.91      0.92      0.92        79\n",
      "           1       0.92      0.91      0.92        78\n",
      "\n",
      "    accuracy                           0.92       157\n",
      "   macro avg       0.92      0.92      0.92       157\n",
      "weighted avg       0.92      0.92      0.92       157\n",
      "\n",
      "\n",
      "CR: (0.917288961038961, 0.9171535215839013, 0.9171840129843781, None)\n",
      "\n",
      "Confusion matrix:\n",
      " [[73  6]\n",
      " [ 7 71]] \n",
      "\n",
      "_______________________\n",
      "\n",
      "\n",
      " Accuracy: 91.72 \n",
      " Precision: 0.922 \n",
      " Recall: 0.910 \n",
      " F1: 0.916\n"
     ]
    }
   ],
   "source": [
    "pipeline_train, y_predict_train = train_model_cross_val(X_train, y_train, vec=vec, model=model, cv=10)"
   ]
  },
  {
   "cell_type": "code",
   "execution_count": 49,
   "metadata": {},
   "outputs": [
    {
     "name": "stdout",
     "output_type": "stream",
     "text": [
      "Accuracy: 0.9171974522292994\n",
      "\n",
      "Classification report:\n",
      "               precision    recall  f1-score   support\n",
      "\n",
      "           0       0.91      0.92      0.92        79\n",
      "           1       0.92      0.91      0.92        78\n",
      "\n",
      "    accuracy                           0.92       157\n",
      "   macro avg       0.92      0.92      0.92       157\n",
      "weighted avg       0.92      0.92      0.92       157\n",
      "\n",
      "\n",
      "CR: (0.917288961038961, 0.9171535215839013, 0.9171840129843781, None)\n",
      "\n",
      "Confusion matrix:\n",
      " [[73  6]\n",
      " [ 7 71]] \n",
      "\n",
      "_______________________\n",
      "\n",
      "\n",
      " Accuracy: 91.72 \n",
      " Precision: 0.922 \n",
      " Recall: 0.910 \n",
      " F1: 0.916\n"
     ]
    }
   ],
   "source": [
    "evaluate(y_train, y_predict_train)"
   ]
  },
  {
   "cell_type": "code",
   "execution_count": 38,
   "metadata": {},
   "outputs": [
    {
     "name": "stdout",
     "output_type": "stream",
     "text": [
      "***testing on test set***\n",
      "Accuracy: 0.9384184744576627\n",
      "\n",
      "Classification report:\n",
      "               precision    recall  f1-score   support\n",
      "\n",
      "           0       1.00      0.94      0.97      1409\n",
      "           1       0.17      0.90      0.29        20\n",
      "\n",
      "    accuracy                           0.94      1429\n",
      "   macro avg       0.59      0.92      0.63      1429\n",
      "weighted avg       0.99      0.94      0.96      1429\n",
      "\n",
      "\n",
      "CR: (0.5857837445573295, 0.9194819020581972, 0.6290676546239706, None)\n",
      "\n",
      "Confusion matrix:\n",
      " [[1323   86]\n",
      " [   2   18]] \n",
      "\n",
      "_______________________\n",
      "\n",
      "\n",
      " Accuracy: 93.84 \n",
      " Precision: 0.173 \n",
      " Recall: 0.900 \n",
      " F1: 0.290\n"
     ]
    }
   ],
   "source": [
    "pipeline_test, y_predict_test = train_model_test(X_train, y_train, X_test, y_test, model=model, vec=vec)"
   ]
  },
  {
   "cell_type": "code",
   "execution_count": null,
   "metadata": {},
   "outputs": [],
   "source": []
  }
 ],
 "metadata": {
  "kernelspec": {
   "display_name": "thesis",
   "language": "python",
   "name": "python3"
  },
  "language_info": {
   "codemirror_mode": {
    "name": "ipython",
    "version": 3
   },
   "file_extension": ".py",
   "mimetype": "text/x-python",
   "name": "python",
   "nbconvert_exporter": "python",
   "pygments_lexer": "ipython3",
   "version": "3.10.4"
  },
  "orig_nbformat": 4
 },
 "nbformat": 4,
 "nbformat_minor": 2
}
