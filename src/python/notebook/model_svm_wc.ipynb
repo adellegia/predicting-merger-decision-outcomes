{
 "cells": [
  {
   "cell_type": "code",
   "execution_count": 4,
   "metadata": {},
   "outputs": [],
   "source": [
    "# Data visualization\n",
    "import matplotlib.pyplot as plt\n",
    "\n",
    "# Data manipulation\n",
    "import pandas as pd\n",
    "import numpy as np\n",
    "\n",
    "import glob, re, os, sys, random\n",
    "from random import shuffle\n",
    "import random\n",
    "from time import time\n",
    "\n",
    "# Vector representations and embeddings\n",
    "from sklearn.feature_extraction.text import TfidfVectorizer, CountVectorizer\n",
    "import gensim\n",
    "\n",
    "# Modeling - Logistic, XGBOOST, SVM\n",
    "from sklearn.model_selection import GridSearchCV, train_test_split, StratifiedShuffleSplit\n",
    "from sklearn.preprocessing import LabelEncoder\n",
    "\n",
    "from imblearn.over_sampling import RandomOverSampler\n",
    "from imblearn.under_sampling import RandomUnderSampler\n",
    "\n",
    "from sklearn.linear_model import LogisticRegression\n",
    "from sklearn.svm import LinearSVC\n",
    "\n",
    "from sklearn.model_selection import cross_val_predict, cross_val_score\n",
    "from sklearn.metrics import accuracy_score, precision_recall_fscore_support, precision_score, recall_score, f1_score\n",
    "from sklearn.metrics import classification_report, confusion_matrix, precision_recall_fscore_support\n",
    "\n",
    "from sklearn.pipeline import Pipeline, FeatureUnion\n",
    "\n",
    "from xgboost import XGBClassifier\n",
    "import pickle\n"
   ]
  },
  {
   "cell_type": "code",
   "execution_count": 5,
   "metadata": {},
   "outputs": [],
   "source": [
    "import sys\n",
    "sys.path.append(f'../../python')\n",
    "from grid_search import create_label, balance_unique_id, \\\n",
    "create_balanced_excluded, create_train_test_excluded, group_by_case, \\\n",
    "create_feature_label, gridsearch, fit_best_model_train, evaluate, fit_best_model_test, get_feature_importance_cv\n",
    "\n",
    "from ml_model import train_model_cross_val, train_model_test, \\\n",
    "get_feature_importance, get_feature_importance10"
   ]
  },
  {
   "attachments": {},
   "cell_type": "markdown",
   "metadata": {},
   "source": [
    "### Load data"
   ]
  },
  {
   "cell_type": "code",
   "execution_count": 21,
   "metadata": {},
   "outputs": [],
   "source": [
    "df = pd.read_json(r\"../../../data/processed/pre-processed_2023_03_25.json\")\n",
    "\n",
    "merger_info = pd.read_json(r\"../../../data/processed/merger_info_2023_03_25.json\")"
   ]
  },
  {
   "attachments": {},
   "cell_type": "markdown",
   "metadata": {},
   "source": [
    "### Balance data and split to train and test set"
   ]
  },
  {
   "cell_type": "code",
   "execution_count": 22,
   "metadata": {},
   "outputs": [],
   "source": [
    "label_name = \"wc\""
   ]
  },
  {
   "cell_type": "code",
   "execution_count": 23,
   "metadata": {},
   "outputs": [
    {
     "name": "stdout",
     "output_type": "stream",
     "text": [
      "Total decisions: 1574\n",
      "0    1313\n",
      "1     261\n",
      "Name: label, dtype: int64\n",
      "Balancing...\n",
      "Total decisions: 522\n",
      "Labels distribution: \n",
      " 0    261\n",
      "1    261\n",
      "Name: 0, dtype: int64\n",
      "Training set shape: (417,) (417,)\n",
      "Test set shape: (105,) (105,)\n",
      "Creating df_train 1: 208 0: 209\n",
      "Creating df_test1 1: 53 0: 52\n",
      "Creating df_test concatenated with df_excluded with len: 1052\n",
      "Creating df_test 1: 53 0: 1104\n",
      "Grouping df_train by case_num 1: 208 0: 209\n",
      "Grouping df_test by case_num 1: 53 0: 1104\n",
      "Grouping df_test1 by case_num 1: 53 0: 52\n",
      "Grouping df_excluded by case_num with len: 1052\n"
     ]
    }
   ],
   "source": [
    "df1 = create_label(df, label_name)\n",
    "df_unique = balance_unique_id(df1)\n",
    "df_balanced_unique, df_balanced, df_excluded = create_balanced_excluded(df_unique, df1)\n",
    "df_train, df_test, df_test1 = create_train_test_excluded(df_balanced, df_balanced_unique, df_excluded)\n",
    "df_train_grouped, df_test_grouped, df_test1_grouped, df_excluded_grouped = group_by_case(df_train, df_test, df_test1, df_excluded)"
   ]
  },
  {
   "cell_type": "code",
   "execution_count": 24,
   "metadata": {},
   "outputs": [],
   "source": [
    "df_train_grouped = pd.merge(df_train_grouped, merger_info, how='left', left_on=['case_num', 'article_new'], right_on=['case_code', 'article'])\n",
    "df_test_grouped = pd.merge(df_test_grouped, merger_info, how='left', left_on=['case_num', 'article_new'], right_on=['case_code', 'article'])\n",
    "df_test1_grouped = pd.merge(df_test1_grouped, merger_info, how='left', left_on=['case_num', 'article_new'], right_on=['case_code', 'article'])\n",
    "df_excluded_grouped = pd.merge(df_excluded_grouped, merger_info, how='left', left_on=['case_num', 'article_new'], right_on=['case_code', 'article'])"
   ]
  },
  {
   "cell_type": "code",
   "execution_count": 25,
   "metadata": {},
   "outputs": [],
   "source": [
    "X_train, y_train, X_test, y_test, X_test1, y_test1, X_test2, y_test2 = create_feature_label(df_train_grouped, df_test_grouped, df_test1_grouped, df_excluded_grouped)"
   ]
  },
  {
   "attachments": {},
   "cell_type": "markdown",
   "metadata": {},
   "source": [
    "### Hyperparameter tuning with GridSearch Cross Validation"
   ]
  },
  {
   "cell_type": "code",
   "execution_count": 13,
   "metadata": {},
   "outputs": [],
   "source": [
    "# Define model\n",
    "model = LinearSVC()\n",
    "\n",
    "# Create a pipeline with TfidfVectorizer and Model\n",
    "pipeline = Pipeline([\n",
    "    ('tfidf', TfidfVectorizer(analyzer='word', max_features=5000, stop_words='english')),\n",
    "    ('clf', model)\n",
    "\n",
    "])\n",
    "\n",
    "# Define the grid of hyperparameters to search over\n",
    "parameters = {\n",
    "    'tfidf__ngram_range': [(1,2),(1,1),(1,3), (2,2),(2,3), (3,3)], # limit to trigrams\n",
    "    #'tfidf__analyzer': ('word', 'char'),\n",
    "    #'tfidf__lowercase': (True, False),\n",
    "    'tfidf__max_df': [0.01, 0.025, 0.05], # (0.01, 1.0), # ignore words that occur as more than x% of corpus\n",
    "    # 'tfidf__min_df': (1, 2, 3), # we need to see a word at least (once, twice, thrice) in a document\n",
    "    'tfidf__use_idf': (False, True), # use inverse document frequency weighting\n",
    "    #'tfidf__sublinear_tf': (False, True),\n",
    "    'tfidf__binary': (False, True), #set term frequency binary (all non-zero terms are set to 1)\n",
    "    'tfidf__norm': ('l1', 'l2'), #norm used to normalize term vectors\n",
    "    # 'tfidf__max_features': (None, 2000, 5000),\n",
    "    #'tfidf__stop_words': (None, 'english'),\n",
    "\n",
    "    # 'clf__solver': ['liblinear', 'lbfgs'],\n",
    "    'clf__C':(0.1, 1, 5) # penalty parameter for the model\n",
    "}"
   ]
  },
  {
   "cell_type": "code",
   "execution_count": 22,
   "metadata": {},
   "outputs": [
    {
     "name": "stdout",
     "output_type": "stream",
     "text": [
      "Fitting 5 folds for each of 432 candidates, totalling 2160 fits\n",
      "done in 5628.176s\n",
      "Best cross-validation score:  0.7765947755745944\n",
      "Best parameters set:\n",
      "\tclf__C: 1\n",
      "\ttfidf__binary: True\n",
      "\ttfidf__max_df: 0.025\n",
      "\ttfidf__ngram_range: (2, 2)\n",
      "\ttfidf__norm: 'l1'\n",
      "\ttfidf__use_idf: False\n"
     ]
    }
   ],
   "source": [
    "grid_search, best_parameters = gridsearch(pipeline, parameters, X_train, y_train, cv=5, scoring='f1')"
   ]
  },
  {
   "attachments": {},
   "cell_type": "markdown",
   "metadata": {},
   "source": [
    "##### Model fitting and evaluation"
   ]
  },
  {
   "cell_type": "code",
   "execution_count": 23,
   "metadata": {},
   "outputs": [
    {
     "name": "stdout",
     "output_type": "stream",
     "text": [
      "fitting the best model\n",
      "Accuracy: 0.7360774818401937\n",
      "\n",
      "Classification report:\n",
      "               precision    recall  f1-score   support\n",
      "\n",
      "           0       0.86      0.56      0.68       206\n",
      "           1       0.68      0.91      0.78       207\n",
      "\n",
      "    accuracy                           0.74       413\n",
      "   macro avg       0.77      0.74      0.73       413\n",
      "weighted avg       0.77      0.74      0.73       413\n",
      "\n",
      "\n",
      "CR: (0.7677591260325074, 0.7356596782514891, 0.7278048190585603, None)\n",
      "\n",
      "Confusion matrix:\n",
      " [[116  90]\n",
      " [ 19 188]] \n",
      "\n",
      "_______________________\n",
      "\n",
      "\n",
      " Accuracy: 73.608 \n",
      " Precision: 0.676 \n",
      " Recall: 0.908 \n",
      " F1: 0.775 \n",
      " FPR: 0.437 \n",
      " ROC_AUC: 0.736\n"
     ]
    }
   ],
   "source": [
    "pipeline_cv, y_predict_cv = fit_best_model_train(X_train, y_train, model, best_parameters, cv=5)"
   ]
  },
  {
   "attachments": {},
   "cell_type": "markdown",
   "metadata": {},
   "source": [
    "Saving the features and coefficients into a dataframe determined by gridsearchCV best_parameters."
   ]
  },
  {
   "cell_type": "code",
   "execution_count": 24,
   "metadata": {},
   "outputs": [
    {
     "data": {
      "text/html": [
       "<div>\n",
       "<style scoped>\n",
       "    .dataframe tbody tr th:only-of-type {\n",
       "        vertical-align: middle;\n",
       "    }\n",
       "\n",
       "    .dataframe tbody tr th {\n",
       "        vertical-align: top;\n",
       "    }\n",
       "\n",
       "    .dataframe thead th {\n",
       "        text-align: right;\n",
       "    }\n",
       "</style>\n",
       "<table border=\"1\" class=\"dataframe\">\n",
       "  <thead>\n",
       "    <tr style=\"text-align: right;\">\n",
       "      <th></th>\n",
       "      <th>feature</th>\n",
       "      <th>importance</th>\n",
       "    </tr>\n",
       "  </thead>\n",
       "  <tbody>\n",
       "    <tr>\n",
       "      <th>2283</th>\n",
       "      <td>indirect subsidiary</td>\n",
       "      <td>0.686710</td>\n",
       "    </tr>\n",
       "    <tr>\n",
       "      <th>4912</th>\n",
       "      <td>vehicle company</td>\n",
       "      <td>-0.682168</td>\n",
       "    </tr>\n",
       "    <tr>\n",
       "      <th>2074</th>\n",
       "      <td>healthcare company</td>\n",
       "      <td>0.648330</td>\n",
       "    </tr>\n",
       "    <tr>\n",
       "      <th>1298</th>\n",
       "      <td>decision belgië</td>\n",
       "      <td>-0.613657</td>\n",
       "    </tr>\n",
       "    <tr>\n",
       "      <th>4021</th>\n",
       "      <td>risk covered</td>\n",
       "      <td>-0.557041</td>\n",
       "    </tr>\n",
       "  </tbody>\n",
       "</table>\n",
       "</div>"
      ],
      "text/plain": [
       "                  feature  importance\n",
       "2283  indirect subsidiary    0.686710\n",
       "4912      vehicle company   -0.682168\n",
       "2074   healthcare company    0.648330\n",
       "1298      decision belgië   -0.613657\n",
       "4021         risk covered   -0.557041"
      ]
     },
     "execution_count": 24,
     "metadata": {},
     "output_type": "execute_result"
    }
   ],
   "source": [
    "df_features_cv = get_feature_importance_cv(pipeline_cv)\n",
    "df_features_cv.to_excel('../../../output/tables/features_svm_cv_full_wc.xlsx', index=True)\n",
    "df_features_cv.head()"
   ]
  },
  {
   "cell_type": "code",
   "execution_count": 25,
   "metadata": {},
   "outputs": [
    {
     "name": "stdout",
     "output_type": "stream",
     "text": [
      "testing on test set\n",
      "Accuracy: 0.5425623387790198\n",
      "\n",
      "Classification report:\n",
      "               precision    recall  f1-score   support\n",
      "\n",
      "           0       0.99      0.53      0.69      1110\n",
      "           1       0.08      0.91      0.15        53\n",
      "\n",
      "    accuracy                           0.54      1163\n",
      "   macro avg       0.54      0.72      0.42      1163\n",
      "weighted avg       0.95      0.54      0.66      1163\n",
      "\n",
      "\n",
      "CR: (0.5374874297545105, 0.7154428012918579, 0.4197782329154569, None)\n",
      "\n",
      "Confusion matrix:\n",
      " [[583 527]\n",
      " [  5  48]] \n",
      "\n",
      "_______________________\n",
      "\n",
      "\n",
      " Accuracy: 54.256 \n",
      " Precision: 0.083 \n",
      " Recall: 0.906 \n",
      " F1: 0.153 \n",
      " FPR: 0.475 \n",
      " ROC_AUC: 0.715\n"
     ]
    }
   ],
   "source": [
    "y_predict_cv_test = fit_best_model_test(X_test, y_test, pipeline_cv)"
   ]
  },
  {
   "cell_type": "code",
   "execution_count": 26,
   "metadata": {},
   "outputs": [
    {
     "name": "stdout",
     "output_type": "stream",
     "text": [
      "testing on test set\n",
      "Accuracy: 0.7142857142857143\n",
      "\n",
      "Classification report:\n",
      "               precision    recall  f1-score   support\n",
      "\n",
      "           0       0.84      0.52      0.64        52\n",
      "           1       0.66      0.91      0.76        53\n",
      "\n",
      "    accuracy                           0.71       105\n",
      "   macro avg       0.75      0.71      0.70       105\n",
      "weighted avg       0.75      0.71      0.70       105\n",
      "\n",
      "\n",
      "CR: (0.7506421232876712, 0.71244557329463, 0.7023809523809524, None)\n",
      "\n",
      "Confusion matrix:\n",
      " [[27 25]\n",
      " [ 5 48]] \n",
      "\n",
      "_______________________\n",
      "\n",
      "\n",
      " Accuracy: 71.429 \n",
      " Precision: 0.658 \n",
      " Recall: 0.906 \n",
      " F1: 0.762 \n",
      " FPR: 0.481 \n",
      " ROC_AUC: 0.712\n"
     ]
    }
   ],
   "source": [
    "y_predict_cv_test1 = fit_best_model_test(X_test1, y_test1, pipeline_cv)"
   ]
  },
  {
   "cell_type": "code",
   "execution_count": null,
   "metadata": {},
   "outputs": [],
   "source": []
  },
  {
   "cell_type": "code",
   "execution_count": null,
   "metadata": {},
   "outputs": [],
   "source": []
  },
  {
   "attachments": {},
   "cell_type": "markdown",
   "metadata": {},
   "source": [
    "### Model training (with 10-fold CV) using best parameters from GridSearch"
   ]
  },
  {
   "cell_type": "code",
   "execution_count": 27,
   "metadata": {},
   "outputs": [
    {
     "name": "stdout",
     "output_type": "stream",
     "text": [
      "\tclf__C: 1\n",
      "\ttfidf__binary: True\n",
      "\ttfidf__max_df: 0.025\n",
      "\ttfidf__ngram_range: (2, 2)\n",
      "\ttfidf__norm: 'l1'\n",
      "\ttfidf__use_idf: False\n"
     ]
    }
   ],
   "source": [
    "for param_name in sorted(parameters.keys()):\n",
    "        print(\"\\t%s: %r\" % (param_name, best_parameters[param_name]))"
   ]
  },
  {
   "cell_type": "code",
   "execution_count": 26,
   "metadata": {},
   "outputs": [],
   "source": [
    "vec = ('wordvec', TfidfVectorizer(analyzer = 'word', max_features=5000, stop_words='english', ngram_range = (2,2), binary = True, max_df = 0.05, norm = 'l1', use_idf = False))\n",
    "c = 1\n",
    "# solver = 'liblinear'\n",
    "model=LinearSVC(C=c)"
   ]
  },
  {
   "cell_type": "code",
   "execution_count": 27,
   "metadata": {},
   "outputs": [
    {
     "name": "stdout",
     "output_type": "stream",
     "text": [
      "***10-fold cross-validation***\n",
      "Accuracy: 0.7177033492822966\n",
      "\n",
      "Classification report:\n",
      "               precision    recall  f1-score   support\n",
      "\n",
      "           0       0.81      0.56      0.67       209\n",
      "           1       0.67      0.87      0.76       209\n",
      "\n",
      "    accuracy                           0.72       418\n",
      "   macro avg       0.74      0.72      0.71       418\n",
      "weighted avg       0.74      0.72      0.71       418\n",
      "\n",
      "\n",
      "CR: (0.7402298850574712, 0.7177033492822966, 0.7109266943291839, None)\n",
      "\n",
      "Confusion matrix:\n",
      " [[118  91]\n",
      " [ 27 182]] \n",
      "\n",
      "_______________________\n",
      "\n",
      "\n",
      " Accuracy: 71.770 \n",
      " Precision: 0.667 \n",
      " Recall: 0.871 \n",
      " F1: 0.755 \n",
      " FPR: 0.435 \n",
      " ROC_AUC: 0.718\n"
     ]
    }
   ],
   "source": [
    "pipeline_train, trained_model, y_predict_train = train_model_cross_val(X_train, y_train, vec=vec, model=model, cv=10)"
   ]
  },
  {
   "cell_type": "code",
   "execution_count": 30,
   "metadata": {},
   "outputs": [
    {
     "name": "stdout",
     "output_type": "stream",
     "text": [
      "Accuracy: 0.7177033492822966\n",
      "\n",
      "Classification report:\n",
      "               precision    recall  f1-score   support\n",
      "\n",
      "           0       0.81      0.56      0.67       209\n",
      "           1       0.67      0.87      0.76       209\n",
      "\n",
      "    accuracy                           0.72       418\n",
      "   macro avg       0.74      0.72      0.71       418\n",
      "weighted avg       0.74      0.72      0.71       418\n",
      "\n",
      "\n",
      "CR: (0.7402298850574712, 0.7177033492822966, 0.7109266943291839, None)\n",
      "\n",
      "Confusion matrix:\n",
      " [[118  91]\n",
      " [ 27 182]] \n",
      "\n",
      "_______________________\n",
      "\n",
      "\n",
      " Accuracy: 71.770 \n",
      " Precision: 0.667 \n",
      " Recall: 0.871 \n",
      " F1: 0.755 \n",
      " FPR: 0.435 \n",
      " ROC_AUC: 0.718\n"
     ]
    }
   ],
   "source": [
    "evaluate(y_train, y_predict_train)"
   ]
  },
  {
   "cell_type": "code",
   "execution_count": 28,
   "metadata": {},
   "outputs": [
    {
     "name": "stdout",
     "output_type": "stream",
     "text": [
      "***testing on test set***\n",
      "Accuracy: 0.6433506044905009\n",
      "\n",
      "Classification report:\n",
      "               precision    recall  f1-score   support\n",
      "\n",
      "           0       0.99      0.63      0.77      1104\n",
      "           1       0.11      0.91      0.19        54\n",
      "\n",
      "    accuracy                           0.64      1158\n",
      "   macro avg       0.55      0.77      0.48      1158\n",
      "weighted avg       0.95      0.64      0.74      1158\n",
      "\n",
      "\n",
      "CR: (0.5500441694734312, 0.7689210950080516, 0.4814859788259401, None)\n",
      "\n",
      "Confusion matrix:\n",
      " [[696 408]\n",
      " [  5  49]] \n",
      "\n",
      "_______________________\n",
      "\n",
      "\n",
      " Accuracy: 64.335 \n",
      " Precision: 0.107 \n",
      " Recall: 0.907 \n",
      " F1: 0.192 \n",
      " FPR: 0.370 \n",
      " ROC_AUC: 0.769\n"
     ]
    }
   ],
   "source": [
    "pipeline_test, y_predict_test = train_model_test(X_train, y_train, X_test, y_test, model=model, vec=vec)"
   ]
  },
  {
   "cell_type": "code",
   "execution_count": 29,
   "metadata": {},
   "outputs": [
    {
     "name": "stdout",
     "output_type": "stream",
     "text": [
      "***testing on test set***\n",
      "Accuracy: 0.7830188679245284\n",
      "\n",
      "Classification report:\n",
      "               precision    recall  f1-score   support\n",
      "\n",
      "           0       0.87      0.65      0.75        52\n",
      "           1       0.73      0.91      0.81        54\n",
      "\n",
      "    accuracy                           0.78       106\n",
      "   macro avg       0.80      0.78      0.78       106\n",
      "weighted avg       0.80      0.78      0.78       106\n",
      "\n",
      "\n",
      "CR: (0.8015690776884807, 0.7806267806267806, 0.778585051312324, None)\n",
      "\n",
      "Confusion matrix:\n",
      " [[34 18]\n",
      " [ 5 49]] \n",
      "\n",
      "_______________________\n",
      "\n",
      "\n",
      " Accuracy: 78.302 \n",
      " Precision: 0.731 \n",
      " Recall: 0.907 \n",
      " F1: 0.810 \n",
      " FPR: 0.346 \n",
      " ROC_AUC: 0.781\n"
     ]
    }
   ],
   "source": [
    "pipeline_test1, y_predict_test1 = train_model_test(X_train, y_train, X_test1, y_test1, model=model, vec=vec)"
   ]
  },
  {
   "attachments": {},
   "cell_type": "markdown",
   "metadata": {},
   "source": [
    "### Confusion matrix and model performance"
   ]
  },
  {
   "cell_type": "code",
   "execution_count": 31,
   "metadata": {},
   "outputs": [],
   "source": [
    "def eval_matrix(df, X, y_true, y_pred):\n",
    "    results = pd.DataFrame(np.column_stack((X, y_true, y_pred)), columns=['text', 'target', 'y_predict'])\n",
    "    results = pd.concat([df, results], axis=1)\n",
    "\n",
    "    tn=results[(results.target == 0) & (results.y_predict == 0)]\n",
    "    fp=results[(results.target == 0) & (results.y_predict == 1)]\n",
    "    fn=results[(results.target == 1) & (results.y_predict == 0)]\n",
    "    tp=results[(results.target == 1) & (results.y_predict == 1)]\n",
    "\n",
    "    return (results, tn, fp, fn, tp)\n"
   ]
  },
  {
   "cell_type": "code",
   "execution_count": 32,
   "metadata": {},
   "outputs": [],
   "source": [
    "results_train, tn, fp, fn, tp = eval_matrix(df_train_grouped, X_train, y_train, y_predict_train)"
   ]
  },
  {
   "cell_type": "code",
   "execution_count": 76,
   "metadata": {},
   "outputs": [],
   "source": [
    "results1, tn, fp, fn, tp = eval_matrix(df_test1_grouped, X_test1, y_test1, y_predict_test1)"
   ]
  },
  {
   "cell_type": "code",
   "execution_count": 78,
   "metadata": {},
   "outputs": [],
   "source": [
    "results2, tn, fp, fn, tp = eval_matrix(df_test_grouped, X_test, y_test, y_predict_test)"
   ]
  },
  {
   "cell_type": "code",
   "execution_count": 79,
   "metadata": {},
   "outputs": [
    {
     "name": "stdout",
     "output_type": "stream",
     "text": [
      "TN: 696\n",
      "FP: 408\n",
      "FN: 5\n",
      "TP: 49\n"
     ]
    }
   ],
   "source": [
    "print(\"TN:\", len(tn))\n",
    "print(\"FP:\", len(fp))\n",
    "\n",
    "print(\"FN:\", len(fn))\n",
    "print(\"TP:\", len(tp))"
   ]
  },
  {
   "cell_type": "code",
   "execution_count": 80,
   "metadata": {},
   "outputs": [
    {
     "data": {
      "text/plain": [
       "Manufacture of chemicals and chemical products                                   18\n",
       "Manufacture of other parts and accessories for motor vehicles                    17\n",
       "Telecommunications                                                               14\n",
       "Financial service activities, except insurance and pension funding               11\n",
       "Insurance, reinsurance and pension funding, except compulsory social security     9\n",
       "Wholesale of computers, computer peripheral equipment and software                8\n",
       "Name: nace_code, dtype: int64"
      ]
     },
     "execution_count": 80,
     "metadata": {},
     "output_type": "execute_result"
    }
   ],
   "source": [
    "tn['nace_code'].value_counts().head(6)"
   ]
  },
  {
   "cell_type": "code",
   "execution_count": 81,
   "metadata": {},
   "outputs": [
    {
     "data": {
      "text/plain": [
       "Telecommunications                                                                                                    23\n",
       "Manufacture of basic pharmaceutical products and pharmaceutical preparations                                          12\n",
       "Manufacture of chemicals and chemical products                                                                        10\n",
       "Manufacture of pharmaceutical preparations                                                                             7\n",
       "Manufacture of basic chemicals, fertilisers and nitrogen compounds, plastics and synthetic rubber in primary forms     6\n",
       "Manufacture of paints, varnishes and similar coatings, printing ink and mastics                                        5\n",
       "Name: nace_code, dtype: int64"
      ]
     },
     "execution_count": 81,
     "metadata": {},
     "output_type": "execute_result"
    }
   ],
   "source": [
    "fp['nace_code'].value_counts().head(6)"
   ]
  },
  {
   "cell_type": "code",
   "execution_count": 83,
   "metadata": {},
   "outputs": [
    {
     "data": {
      "text/plain": [
       "32"
      ]
     },
     "execution_count": 83,
     "metadata": {},
     "output_type": "execute_result"
    }
   ],
   "source": [
    "fp['nace_code'].str.contains(\"pharma\").sum()"
   ]
  },
  {
   "cell_type": "code",
   "execution_count": 84,
   "metadata": {},
   "outputs": [
    {
     "data": {
      "text/plain": [
       "Manufacture of chemicals and chemical products                                                                                                                                                       1\n",
       "Electric power generation, transmission and distribution                                                                                                                                             1\n",
       "Cargo handling; Land transport and transport via pipelines; Sea and coastal freight water transport; Service activities incidental to water transportation; Support activities for transportation    1\n",
       "Manufacture of basic pharmaceutical products and pharmaceutical preparations                                                                                                                         1\n",
       "Other telecommunications activities; Wired telecommunications activities; Wireless telecommunications activities                                                                                     1\n",
       "Name: nace_code, dtype: int64"
      ]
     },
     "execution_count": 84,
     "metadata": {},
     "output_type": "execute_result"
    }
   ],
   "source": [
    "fn['nace_code'].value_counts().head(6)"
   ]
  },
  {
   "cell_type": "code",
   "execution_count": 85,
   "metadata": {},
   "outputs": [
    {
     "data": {
      "text/plain": [
       "Manufacture of basic pharmaceutical products and pharmaceutical preparations                   6\n",
       "Manufacture of chemicals and chemical products                                                 3\n",
       "Aquaculture                                                                                    2\n",
       "Information service activities; Programming and broadcasting activities; Telecommunications    2\n",
       "Wireless telecommunications activities                                                         2\n",
       "Computer programming, consultancy and related activities                                       2\n",
       "Name: nace_code, dtype: int64"
      ]
     },
     "execution_count": 85,
     "metadata": {},
     "output_type": "execute_result"
    }
   ],
   "source": [
    "tp['nace_code'].value_counts().head(6)"
   ]
  },
  {
   "attachments": {},
   "cell_type": "markdown",
   "metadata": {},
   "source": [
    "### Feature importance"
   ]
  },
  {
   "cell_type": "code",
   "execution_count": 44,
   "metadata": {},
   "outputs": [
    {
     "data": {
      "text/html": [
       "<div>\n",
       "<style scoped>\n",
       "    .dataframe tbody tr th:only-of-type {\n",
       "        vertical-align: middle;\n",
       "    }\n",
       "\n",
       "    .dataframe tbody tr th {\n",
       "        vertical-align: top;\n",
       "    }\n",
       "\n",
       "    .dataframe thead th {\n",
       "        text-align: right;\n",
       "    }\n",
       "</style>\n",
       "<table border=\"1\" class=\"dataframe\">\n",
       "  <thead>\n",
       "    <tr style=\"text-align: right;\">\n",
       "      <th></th>\n",
       "      <th>feature</th>\n",
       "      <th>importance</th>\n",
       "      <th>abs_importance</th>\n",
       "    </tr>\n",
       "  </thead>\n",
       "  <tbody>\n",
       "    <tr>\n",
       "      <th>458</th>\n",
       "      <td>care product</td>\n",
       "      <td>0.715537</td>\n",
       "      <td>0.715537</td>\n",
       "    </tr>\n",
       "    <tr>\n",
       "      <th>4248</th>\n",
       "      <td>share asset</td>\n",
       "      <td>0.613459</td>\n",
       "      <td>0.613459</td>\n",
       "    </tr>\n",
       "    <tr>\n",
       "      <th>2061</th>\n",
       "      <td>hold minority</td>\n",
       "      <td>0.587249</td>\n",
       "      <td>0.587249</td>\n",
       "    </tr>\n",
       "    <tr>\n",
       "      <th>4714</th>\n",
       "      <td>term new</td>\n",
       "      <td>0.584416</td>\n",
       "      <td>0.584416</td>\n",
       "    </tr>\n",
       "    <tr>\n",
       "      <th>2004</th>\n",
       "      <td>group eur</td>\n",
       "      <td>-0.461435</td>\n",
       "      <td>0.461435</td>\n",
       "    </tr>\n",
       "    <tr>\n",
       "      <th>4842</th>\n",
       "      <td>ultimate parent</td>\n",
       "      <td>-0.456595</td>\n",
       "      <td>0.456595</td>\n",
       "    </tr>\n",
       "    <tr>\n",
       "      <th>1306</th>\n",
       "      <td>decision belgië</td>\n",
       "      <td>-0.445218</td>\n",
       "      <td>0.445218</td>\n",
       "    </tr>\n",
       "    <tr>\n",
       "      <th>1519</th>\n",
       "      <td>economic entity</td>\n",
       "      <td>-0.422327</td>\n",
       "      <td>0.422327</td>\n",
       "    </tr>\n",
       "    <tr>\n",
       "      <th>2301</th>\n",
       "      <td>investment banking</td>\n",
       "      <td>-0.419932</td>\n",
       "      <td>0.419932</td>\n",
       "    </tr>\n",
       "    <tr>\n",
       "      <th>323</th>\n",
       "      <td>banking financial</td>\n",
       "      <td>-0.390281</td>\n",
       "      <td>0.390281</td>\n",
       "    </tr>\n",
       "  </tbody>\n",
       "</table>\n",
       "</div>"
      ],
      "text/plain": [
       "                 feature  importance  abs_importance\n",
       "458         care product    0.715537        0.715537\n",
       "4248         share asset    0.613459        0.613459\n",
       "2061       hold minority    0.587249        0.587249\n",
       "4714            term new    0.584416        0.584416\n",
       "2004           group eur   -0.461435        0.461435\n",
       "4842     ultimate parent   -0.456595        0.456595\n",
       "1306     decision belgië   -0.445218        0.445218\n",
       "1519     economic entity   -0.422327        0.422327\n",
       "2301  investment banking   -0.419932        0.419932\n",
       "323    banking financial   -0.390281        0.390281"
      ]
     },
     "execution_count": 44,
     "metadata": {},
     "output_type": "execute_result"
    }
   ],
   "source": [
    "df_features_train, feature_importance, feature_names = get_feature_importance(trained_model, pipeline_train)\n",
    "df_features_train.head(10)"
   ]
  },
  {
   "cell_type": "code",
   "execution_count": 45,
   "metadata": {},
   "outputs": [],
   "source": [
    "# df_features_train['abs_importance'] = abs(df_features_train['importance'])\n",
    "# df_features_train = df_features_train.sort_values(by='abs_importance', ascending=False)\n",
    "# df_features_train_top10 = df_features_train.nlargest(10, 'abs_importance') #importance\n",
    "\n",
    "# fig, ax = plt.subplots(figsize=(8, 6))\n",
    "# ax.barh(df_features_train_top10['feature'], df_features_train_top10['importance'], color='darkblue')\n",
    "# ax.set_xlabel('Importance')\n",
    "# ax.set_title('Top 10 Features by Importance')\n",
    "\n",
    "# plt.show()\n"
   ]
  },
  {
   "attachments": {},
   "cell_type": "markdown",
   "metadata": {},
   "source": [
    "Get features for label = 1 and label = 0"
   ]
  },
  {
   "cell_type": "code",
   "execution_count": 46,
   "metadata": {},
   "outputs": [],
   "source": [
    "df_features_train1, df_features_train0 = get_feature_importance10(df_features_train)"
   ]
  },
  {
   "cell_type": "code",
   "execution_count": 47,
   "metadata": {},
   "outputs": [
    {
     "data": {
      "image/png": "[encoded data removed]",
      "text/plain": [
       "<Figure size 1200x800 with 1 Axes>"
      ]
     },
     "metadata": {},
     "output_type": "display_data"
    }
   ],
   "source": [
    "# Sort the features by absolute importance for label=1\n",
    "df_features_train1 = df_features_train1.sort_values(by='abs_importance', ascending=False)\n",
    "df_features_train1_top10 = df_features_train1.nlargest(20, 'abs_importance')\n",
    "df_features_train1_top10 = df_features_train1_top10.sort_values('importance', ascending=True)\n",
    "\n",
    "# Sort the features by absolute importance for label=0\n",
    "df_features_train0 = df_features_train0.sort_values(by='abs_importance', ascending=False)\n",
    "df_features_train0_top10 = df_features_train0.nlargest(20, 'abs_importance')\n",
    "\n",
    "# Create a combined bar chart\n",
    "fig, ax = plt.subplots(figsize=(12, 8))\n",
    "ax.barh(df_features_train0_top10['feature'], df_features_train0_top10['importance'], color='darkblue', label='With Conditions=0')\n",
    "ax.barh(df_features_train1_top10['feature'], df_features_train1_top10['importance'], color='maroon', label='With Conditions=1')\n",
    "ax.set_xlabel('Importance')\n",
    "ax.set_ylabel('Features')\n",
    "ax.set_title('Top 20 Features by Importance for With Conditions =0 and =1')\n",
    "ax.legend()\n",
    "plt.xticks(rotation=90)\n",
    "plt.show()"
   ]
  },
  {
   "cell_type": "code",
   "execution_count": 35,
   "metadata": {},
   "outputs": [],
   "source": [
    "df_features_train.to_excel('../../../output/tables/features_svm_train_full_wc.xlsx', index=True)"
   ]
  },
  {
   "cell_type": "code",
   "execution_count": null,
   "metadata": {},
   "outputs": [],
   "source": []
  }
 ],
 "metadata": {
  "kernelspec": {
   "display_name": "thesis",
   "language": "python",
   "name": "python3"
  },
  "language_info": {
   "codemirror_mode": {
    "name": "ipython",
    "version": 3
   },
   "file_extension": ".py",
   "mimetype": "text/x-python",
   "name": "python",
   "nbconvert_exporter": "python",
   "pygments_lexer": "ipython3",
   "version": "3.10.4"
  },
  "orig_nbformat": 4
 },
 "nbformat": 4,
 "nbformat_minor": 2
}
