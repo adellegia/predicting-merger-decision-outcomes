{
 "cells": [
  {
   "cell_type": "code",
   "execution_count": 1,
   "metadata": {},
   "outputs": [],
   "source": [
    "# Data visualization\n",
    "import matplotlib.pyplot as plt\n",
    "\n",
    "# Data manipulation\n",
    "import pandas as pd\n",
    "import numpy as np\n",
    "\n",
    "import glob, re, os, sys, random\n",
    "from random import shuffle\n",
    "import random\n",
    "from time import time\n",
    "\n",
    "# Vector representations and embeddings\n",
    "from sklearn.feature_extraction.text import TfidfVectorizer, CountVectorizer\n",
    "import gensim\n",
    "\n",
    "# Modeling - Logistic, XGBOOST, SVM\n",
    "from sklearn.model_selection import GridSearchCV, train_test_split, StratifiedShuffleSplit\n",
    "from sklearn.preprocessing import LabelEncoder\n",
    "\n",
    "from imblearn.over_sampling import RandomOverSampler\n",
    "from imblearn.under_sampling import RandomUnderSampler\n",
    "\n",
    "from sklearn.linear_model import LogisticRegression\n",
    "from sklearn.svm import LinearSVC\n",
    "\n",
    "from sklearn.model_selection import cross_val_predict, cross_val_score\n",
    "from sklearn.metrics import accuracy_score, precision_recall_fscore_support, precision_score, recall_score, f1_score\n",
    "from sklearn.metrics import classification_report, confusion_matrix, precision_recall_fscore_support\n",
    "\n",
    "from sklearn.pipeline import Pipeline, FeatureUnion\n",
    "\n",
    "from xgboost import XGBClassifier\n",
    "import pickle\n"
   ]
  },
  {
   "cell_type": "code",
   "execution_count": 2,
   "metadata": {},
   "outputs": [],
   "source": [
    "import sys\n",
    "sys.path.append(f'../../../python')\n",
    "from grid_search import create_label, balance_unique_id, \\\n",
    "create_balanced_excluded, create_train_test_excluded, group_by_case, \\\n",
    "create_feature_label, gridsearch, fit_best_model_train, evaluate, fit_best_model_test, \\\n",
    "train_model_cross_val, train_model_test, \\\n",
    "get_feature_importance_cv, get_feature_importance, get_feature_importance10"
   ]
  },
  {
   "attachments": {},
   "cell_type": "markdown",
   "metadata": {},
   "source": [
    "### Load data"
   ]
  },
  {
   "cell_type": "code",
   "execution_count": 420,
   "metadata": {},
   "outputs": [],
   "source": [
    "df = pd.read_json(r\"../../../../data/processed/pre-processed_2023_03_20.json\")"
   ]
  },
  {
   "attachments": {},
   "cell_type": "markdown",
   "metadata": {},
   "source": [
    "### Balance data and split to train and test set"
   ]
  },
  {
   "cell_type": "code",
   "execution_count": 422,
   "metadata": {},
   "outputs": [],
   "source": [
    "label_name = \"phase2\""
   ]
  },
  {
   "cell_type": "code",
   "execution_count": 423,
   "metadata": {},
   "outputs": [
    {
     "name": "stdout",
     "output_type": "stream",
     "text": [
      "Total decisions: 1583\n",
      "0    1485\n",
      "1      98\n",
      "Name: label, dtype: int64\n",
      "Balancing...\n",
      "Total decisions: 196\n",
      "Labels distribution: \n",
      " 0    98\n",
      "1    98\n",
      "Name: 0, dtype: int64\n",
      "Training set shape: (157,) (157,)\n",
      "Test set shape: (40,) (40,)\n",
      "Creating df_train 1: 78 0: 79\n",
      "Creating df_test1 1: 20 0: 20\n",
      "Creating df_test concatenated with df_excluded with len: 1386\n",
      "Creating df_test 1: 20 0: 1406\n",
      "Grouping df_train by case_num 1: 78 0: 79\n",
      "Grouping df_test by case_num 1: 20 0: 1406\n",
      "Grouping df_test1 by case_num 1: 20 0: 20\n",
      "Grouping df_excluded by case_num with len: 1386\n"
     ]
    }
   ],
   "source": [
    "df1 = create_label(df, label_name)\n",
    "df_unique = balance_unique_id(df1)\n",
    "df_balanced_unique, df_balanced, df_excluded = create_balanced_excluded(df_unique, df1)\n",
    "df_train, df_test, df_test1 = create_train_test_excluded(df_balanced, df_balanced_unique, df_excluded)\n",
    "df_train_grouped, df_test_grouped, df_test1_grouped, df_excluded_grouped = group_by_case(df_train, df_test, df_test1, df_excluded)"
   ]
  },
  {
   "cell_type": "code",
   "execution_count": 424,
   "metadata": {},
   "outputs": [],
   "source": [
    "X_train, y_train, X_test, y_test, X_test1, y_test1, X_test2, y_test2 = create_feature_label(df_train_grouped, df_test_grouped, df_test1_grouped, df_excluded_grouped)"
   ]
  },
  {
   "attachments": {},
   "cell_type": "markdown",
   "metadata": {},
   "source": [
    "### Hyperparameter tuning with GridSearch Cross Validation"
   ]
  },
  {
   "cell_type": "code",
   "execution_count": 8,
   "metadata": {},
   "outputs": [],
   "source": [
    "# Define model\n",
    "solver='liblinear'\n",
    "model = LogisticRegression(solver=solver)\n",
    "\n",
    "# Create a pipeline with TfidfVectorizer and Model\n",
    "pipeline = Pipeline([\n",
    "    ('tfidf', TfidfVectorizer(analyzer='word', max_features=5000, stop_words='english')),\n",
    "    ('clf', model)\n",
    "\n",
    "])\n",
    "\n",
    "# Define the grid of hyperparameters to search over\n",
    "parameters = {\n",
    "    'tfidf__ngram_range': [(2,2),(2,3), (2,4), (3,3), (3,4)], #(1,2),(1,1),(1,3),\n",
    "    #'tfidf__analyzer': ('word', 'char'),\n",
    "    #'tfidf__lowercase': (True, False),\n",
    "    'tfidf__max_df': [0.01, 0.02, 0.05], # (0.01, 1.0), # ignore words that occur as more than x% of corpus\n",
    "    # 'tfidf__min_df': (1, 2, 3), # we need to see a word at least (once, twice, thrice) in a document\n",
    "    'tfidf__use_idf': (False, True), # use inverse document frequency weighting\n",
    "    #'tfidf__sublinear_tf': (False, True),\n",
    "    'tfidf__binary': (False, True), #set term frequency binary (all non-zero terms are set to 1)\n",
    "    'tfidf__norm': ('l1', 'l2'), #norm used to normalize term vectors\n",
    "    # 'tfidf__max_features': (None, 2000, 5000),\n",
    "    #'tfidf__stop_words': (None, 'english'),\n",
    "\n",
    "    # 'clf__solver': ['liblinear', 'lbfgs'],\n",
    "    'clf__C':(0.1, 1, 5) # penalty parameter for the model\n",
    "}"
   ]
  },
  {
   "cell_type": "code",
   "execution_count": 10,
   "metadata": {},
   "outputs": [
    {
     "name": "stdout",
     "output_type": "stream",
     "text": [
      "Fitting 3 folds for each of 768 candidates, totalling 2304 fits\n",
      "done in 4093.514s\n",
      "Best cross-validation score:  0.9325116713352007\n",
      "Best parameters set:\n",
      "\tclf__C: 5\n",
      "\ttfidf__binary: True\n",
      "\ttfidf__max_df: 0.25\n",
      "\ttfidf__ngram_range: (1, 3)\n",
      "\ttfidf__norm: 'l2'\n",
      "\ttfidf__use_idf: True\n"
     ]
    }
   ],
   "source": [
    "grid_search, best_parameters = gridsearch(pipeline, parameters, X_train, y_train, cv=3, scoring='f1')"
   ]
  },
  {
   "attachments": {},
   "cell_type": "markdown",
   "metadata": {},
   "source": [
    "##### Model fitting and evaluation"
   ]
  },
  {
   "cell_type": "code",
   "execution_count": 74,
   "metadata": {},
   "outputs": [
    {
     "name": "stdout",
     "output_type": "stream",
     "text": [
      "fitting the best model\n",
      "Accuracy: 0.930379746835443\n",
      "\n",
      "Classification report:\n",
      "               precision    recall  f1-score   support\n",
      "\n",
      "           0       0.94      0.93      0.93        80\n",
      "           1       0.92      0.94      0.93        78\n",
      "\n",
      "    accuracy                           0.93       158\n",
      "   macro avg       0.93      0.93      0.93       158\n",
      "weighted avg       0.93      0.93      0.93       158\n",
      "\n",
      "\n",
      "CR: (0.9303797468354431, 0.930448717948718, 0.9303769578976887, None)\n",
      "\n",
      "Confusion matrix:\n",
      " [[74  6]\n",
      " [ 5 73]] \n",
      "\n",
      "_______________________\n",
      "\n",
      "\n",
      " Accuracy: 93.04 \n",
      " Precision: 0.924 \n",
      " Recall: 0.936 \n",
      " F1: 0.930\n"
     ]
    }
   ],
   "source": [
    "pipeline_cv, y_predict_cv = fit_best_model_train(X_train, y_train, model, best_parameters, cv=3)"
   ]
  },
  {
   "cell_type": "code",
   "execution_count": 76,
   "metadata": {},
   "outputs": [
    {
     "name": "stdout",
     "output_type": "stream",
     "text": [
      "Accuracy: 0.930379746835443\n",
      "\n",
      "Classification report:\n",
      "               precision    recall  f1-score   support\n",
      "\n",
      "           0       0.94      0.93      0.93        80\n",
      "           1       0.92      0.94      0.93        78\n",
      "\n",
      "    accuracy                           0.93       158\n",
      "   macro avg       0.93      0.93      0.93       158\n",
      "weighted avg       0.93      0.93      0.93       158\n",
      "\n",
      "\n",
      "CR: (0.9303797468354431, 0.930448717948718, 0.9303769578976887, None)\n",
      "\n",
      "Confusion matrix:\n",
      " [[74  6]\n",
      " [ 5 73]] \n",
      "\n",
      "_______________________\n",
      "\n",
      "\n",
      " Accuracy: 93.04 \n",
      " Precision: 0.924 \n",
      " Recall: 0.936 \n",
      " F1: 0.930\n"
     ]
    }
   ],
   "source": [
    "evaluate(y_train, y_predict_cv)"
   ]
  },
  {
   "attachments": {},
   "cell_type": "markdown",
   "metadata": {},
   "source": [
    "Saving the features and coefficients into a dataframe determined by gridsearchCV best_parameters."
   ]
  },
  {
   "cell_type": "code",
   "execution_count": 102,
   "metadata": {},
   "outputs": [
    {
     "data": {
      "text/html": [
       "<div>\n",
       "<style scoped>\n",
       "    .dataframe tbody tr th:only-of-type {\n",
       "        vertical-align: middle;\n",
       "    }\n",
       "\n",
       "    .dataframe tbody tr th {\n",
       "        vertical-align: top;\n",
       "    }\n",
       "\n",
       "    .dataframe thead th {\n",
       "        text-align: right;\n",
       "    }\n",
       "</style>\n",
       "<table border=\"1\" class=\"dataframe\">\n",
       "  <thead>\n",
       "    <tr style=\"text-align: right;\">\n",
       "      <th></th>\n",
       "      <th>feature</th>\n",
       "      <th>importance</th>\n",
       "    </tr>\n",
       "  </thead>\n",
       "  <tbody>\n",
       "    <tr>\n",
       "      <th>1691</th>\n",
       "      <td>europese</td>\n",
       "      <td>-0.805246</td>\n",
       "    </tr>\n",
       "    <tr>\n",
       "      <th>600</th>\n",
       "      <td>commissie</td>\n",
       "      <td>-0.805246</td>\n",
       "    </tr>\n",
       "    <tr>\n",
       "      <th>429</th>\n",
       "      <td>brussel</td>\n",
       "      <td>-0.805246</td>\n",
       "    </tr>\n",
       "    <tr>\n",
       "      <th>1692</th>\n",
       "      <td>europese commissie</td>\n",
       "      <td>-0.805246</td>\n",
       "    </tr>\n",
       "    <tr>\n",
       "      <th>434</th>\n",
       "      <td>bruxelles</td>\n",
       "      <td>-0.790418</td>\n",
       "    </tr>\n",
       "  </tbody>\n",
       "</table>\n",
       "</div>"
      ],
      "text/plain": [
       "                 feature  importance\n",
       "1691            europese   -0.805246\n",
       "600            commissie   -0.805246\n",
       "429              brussel   -0.805246\n",
       "1692  europese commissie   -0.805246\n",
       "434            bruxelles   -0.790418"
      ]
     },
     "execution_count": 102,
     "metadata": {},
     "output_type": "execute_result"
    }
   ],
   "source": [
    "df_features_cv = get_feature_importance_cv(pipeline_cv)\n",
    "df_features_cv.to_excel('../../../../output/tables/features_logit_cv_full.xlsx', index=True)\n",
    "df_features_cv.head()"
   ]
  },
  {
   "cell_type": "code",
   "execution_count": 75,
   "metadata": {},
   "outputs": [
    {
     "name": "stdout",
     "output_type": "stream",
     "text": [
      "testing on test set\n",
      "Accuracy: 0.9482517482517483\n",
      "\n",
      "Classification report:\n",
      "               precision    recall  f1-score   support\n",
      "\n",
      "           0       1.00      0.95      0.97      1409\n",
      "           1       0.20      0.86      0.33        21\n",
      "\n",
      "    accuracy                           0.95      1430\n",
      "   macro avg       0.60      0.90      0.65      1430\n",
      "weighted avg       0.99      0.95      0.96      1430\n",
      "\n",
      "\n",
      "CR: (0.6000050272729558, 0.9033762546892425, 0.6501818181818182, None)\n",
      "\n",
      "Confusion matrix:\n",
      " [[1338   71]\n",
      " [   3   18]] \n",
      "\n",
      "_______________________\n",
      "\n",
      "\n",
      " Accuracy: 94.83 \n",
      " Precision: 0.202 \n",
      " Recall: 0.857 \n",
      " F1: 0.327\n"
     ]
    }
   ],
   "source": [
    "y_predict_cv_test = fit_best_model_test(X_test, y_test, pipeline_cv)"
   ]
  },
  {
   "cell_type": "code",
   "execution_count": null,
   "metadata": {},
   "outputs": [],
   "source": []
  },
  {
   "cell_type": "code",
   "execution_count": null,
   "metadata": {},
   "outputs": [],
   "source": []
  },
  {
   "cell_type": "code",
   "execution_count": null,
   "metadata": {},
   "outputs": [],
   "source": []
  },
  {
   "attachments": {},
   "cell_type": "markdown",
   "metadata": {},
   "source": [
    "### Model training (with 10-fold CV) using *best/chosen* parameters from GridSearch"
   ]
  },
  {
   "attachments": {},
   "cell_type": "markdown",
   "metadata": {},
   "source": [
    "Set parameters based on grdisearch or choose parameters to set"
   ]
  },
  {
   "cell_type": "code",
   "execution_count": 66,
   "metadata": {},
   "outputs": [
    {
     "name": "stdout",
     "output_type": "stream",
     "text": [
      "\tclf__C: 5\n",
      "\ttfidf__binary: True\n",
      "\ttfidf__max_df: 0.25\n",
      "\ttfidf__ngram_range: (1, 3)\n",
      "\ttfidf__norm: 'l2'\n",
      "\ttfidf__use_idf: True\n"
     ]
    }
   ],
   "source": [
    "for param_name in sorted(parameters.keys()):\n",
    "        print(\"\\t%s: %r\" % (param_name, best_parameters[param_name]))"
   ]
  },
  {
   "cell_type": "code",
   "execution_count": 459,
   "metadata": {},
   "outputs": [],
   "source": [
    "vec = ('wordvec', TfidfVectorizer(analyzer = 'word', max_features=5000, stop_words='english', ngram_range = (1,3), binary = True, max_df = 0.025, norm = 'l2', use_idf = True))\n",
    "c = 5\n",
    "solver = 'liblinear'\n",
    "model=LogisticRegression(C=c, solver=solver)"
   ]
  },
  {
   "cell_type": "code",
   "execution_count": 460,
   "metadata": {},
   "outputs": [
    {
     "name": "stdout",
     "output_type": "stream",
     "text": [
      "***10-fold cross-validation***\n",
      "Accuracy: 0.7961783439490446\n",
      "\n",
      "Classification report:\n",
      "               precision    recall  f1-score   support\n",
      "\n",
      "           0       0.78      0.82      0.80        79\n",
      "           1       0.81      0.77      0.79        78\n",
      "\n",
      "    accuracy                           0.80       157\n",
      "   macro avg       0.80      0.80      0.80       157\n",
      "weighted avg       0.80      0.80      0.80       157\n",
      "\n",
      "\n",
      "CR: (0.7969716704656464, 0.7960077896786758, 0.7959714100064978, None)\n",
      "\n",
      "Confusion matrix:\n",
      " [[65 14]\n",
      " [18 60]] \n",
      "\n",
      "_______________________\n",
      "\n",
      "\n",
      " Accuracy: 79.62 \n",
      " Precision: 0.811 \n",
      " Recall: 0.769 \n",
      " F1: 0.789\n"
     ]
    }
   ],
   "source": [
    "pipeline_train, trained_model, y_predict_train = train_model_cross_val(X_train, y_train, vec=vec, model=model, cv=10)"
   ]
  },
  {
   "cell_type": "code",
   "execution_count": 461,
   "metadata": {},
   "outputs": [
    {
     "name": "stdout",
     "output_type": "stream",
     "text": [
      "***testing on test set***\n",
      "Accuracy: 0.8516445066480056\n",
      "\n",
      "Classification report:\n",
      "               precision    recall  f1-score   support\n",
      "\n",
      "           0       1.00      0.85      0.92      1409\n",
      "           1       0.08      0.90      0.15        20\n",
      "\n",
      "    accuracy                           0.85      1429\n",
      "   macro avg       0.54      0.88      0.53      1429\n",
      "weighted avg       0.99      0.85      0.91      1429\n",
      "\n",
      "\n",
      "CR: (0.5386410447434156, 0.8754790631653655, 0.5319676183413669, None)\n",
      "\n",
      "Confusion matrix:\n",
      " [[1199  210]\n",
      " [   2   18]] \n",
      "\n",
      "_______________________\n",
      "\n",
      "\n",
      " Accuracy: 85.16 \n",
      " Precision: 0.079 \n",
      " Recall: 0.900 \n",
      " F1: 0.145\n"
     ]
    }
   ],
   "source": [
    "pipeline_test, y_predict_test = train_model_test(X_train, y_train, X_test, y_test, model=model, vec=vec)"
   ]
  },
  {
   "cell_type": "code",
   "execution_count": 476,
   "metadata": {},
   "outputs": [
    {
     "name": "stdout",
     "output_type": "stream",
     "text": [
      "***testing on test set***\n",
      "Accuracy: 0.925\n",
      "\n",
      "Classification report:\n",
      "               precision    recall  f1-score   support\n",
      "\n",
      "           0       0.90      0.95      0.93        20\n",
      "           1       0.95      0.90      0.92        20\n",
      "\n",
      "    accuracy                           0.93        40\n",
      "   macro avg       0.93      0.93      0.92        40\n",
      "weighted avg       0.93      0.93      0.92        40\n",
      "\n",
      "\n",
      "CR: (0.9260651629072681, 0.925, 0.924953095684803, None)\n",
      "\n",
      "Confusion matrix:\n",
      " [[19  1]\n",
      " [ 2 18]] \n",
      "\n",
      "_______________________\n",
      "\n",
      "\n",
      " Accuracy: 92.50 \n",
      " Precision: 0.947 \n",
      " Recall: 0.900 \n",
      " F1: 0.923\n"
     ]
    }
   ],
   "source": [
    "pipeline_test1, y_predict_test1 = train_model_test(X_train, y_train, X_test1, y_test1, model=model, vec=vec)"
   ]
  },
  {
   "attachments": {},
   "cell_type": "markdown",
   "metadata": {},
   "source": [
    "### Feature importance"
   ]
  },
  {
   "cell_type": "code",
   "execution_count": 462,
   "metadata": {},
   "outputs": [
    {
     "data": {
      "text/html": [
       "<div>\n",
       "<style scoped>\n",
       "    .dataframe tbody tr th:only-of-type {\n",
       "        vertical-align: middle;\n",
       "    }\n",
       "\n",
       "    .dataframe tbody tr th {\n",
       "        vertical-align: top;\n",
       "    }\n",
       "\n",
       "    .dataframe thead th {\n",
       "        text-align: right;\n",
       "    }\n",
       "</style>\n",
       "<table border=\"1\" class=\"dataframe\">\n",
       "  <thead>\n",
       "    <tr style=\"text-align: right;\">\n",
       "      <th></th>\n",
       "      <th>feature</th>\n",
       "      <th>importance</th>\n",
       "      <th>abs_importance</th>\n",
       "    </tr>\n",
       "  </thead>\n",
       "  <tbody>\n",
       "    <tr>\n",
       "      <th>3931</th>\n",
       "      <td>requested examined</td>\n",
       "      <td>-1.199247</td>\n",
       "      <td>1.199247</td>\n",
       "    </tr>\n",
       "    <tr>\n",
       "      <th>1737</th>\n",
       "      <td>exceeding eur million</td>\n",
       "      <td>0.917236</td>\n",
       "      <td>0.917236</td>\n",
       "    </tr>\n",
       "    <tr>\n",
       "      <th>2957</th>\n",
       "      <td>member state operation</td>\n",
       "      <td>-0.896385</td>\n",
       "      <td>0.896385</td>\n",
       "    </tr>\n",
       "    <tr>\n",
       "      <th>18</th>\n",
       "      <td>active retail sale</td>\n",
       "      <td>-0.849178</td>\n",
       "      <td>0.849178</td>\n",
       "    </tr>\n",
       "    <tr>\n",
       "      <th>430</th>\n",
       "      <td>billion aggregate community</td>\n",
       "      <td>-0.751640</td>\n",
       "      <td>0.751640</td>\n",
       "    </tr>\n",
       "    <tr>\n",
       "      <th>1560</th>\n",
       "      <td>engaged production</td>\n",
       "      <td>-0.751182</td>\n",
       "      <td>0.751182</td>\n",
       "    </tr>\n",
       "    <tr>\n",
       "      <th>4241</th>\n",
       "      <td>sh</td>\n",
       "      <td>0.742808</td>\n",
       "      <td>0.742808</td>\n",
       "    </tr>\n",
       "    <tr>\n",
       "      <th>4876</th>\n",
       "      <td>view oems</td>\n",
       "      <td>-0.727875</td>\n",
       "      <td>0.727875</td>\n",
       "    </tr>\n",
       "    <tr>\n",
       "      <th>1738</th>\n",
       "      <td>exceeds cid</td>\n",
       "      <td>-0.713603</td>\n",
       "      <td>0.713603</td>\n",
       "    </tr>\n",
       "    <tr>\n",
       "      <th>1739</th>\n",
       "      <td>exceeds cid million</td>\n",
       "      <td>-0.713603</td>\n",
       "      <td>0.713603</td>\n",
       "    </tr>\n",
       "  </tbody>\n",
       "</table>\n",
       "</div>"
      ],
      "text/plain": [
       "                          feature  importance  abs_importance\n",
       "3931           requested examined   -1.199247        1.199247\n",
       "1737        exceeding eur million    0.917236        0.917236\n",
       "2957       member state operation   -0.896385        0.896385\n",
       "18             active retail sale   -0.849178        0.849178\n",
       "430   billion aggregate community   -0.751640        0.751640\n",
       "1560           engaged production   -0.751182        0.751182\n",
       "4241                           sh    0.742808        0.742808\n",
       "4876                    view oems   -0.727875        0.727875\n",
       "1738                  exceeds cid   -0.713603        0.713603\n",
       "1739          exceeds cid million   -0.713603        0.713603"
      ]
     },
     "execution_count": 462,
     "metadata": {},
     "output_type": "execute_result"
    }
   ],
   "source": [
    "df_features_train, feature_importance, feature_names = get_feature_importance(trained_model, pipeline_train)\n",
    "df_features_train.head(10)"
   ]
  },
  {
   "cell_type": "code",
   "execution_count": 463,
   "metadata": {},
   "outputs": [],
   "source": [
    "# df_features_train = df_features_train.sort_values(by='abs_importance', ascending=False)\n",
    "# df_features_train_top10 = df_features_train.nlargest(10, 'abs_importance') #importance\n",
    "\n",
    "# fig, ax = plt.subplots(figsize=(8, 6))\n",
    "# ax.bar(df_features_train_top10['feature'], df_features_train_top10['importance'], color='darkgreen')\n",
    "# ax.set_xlabel('Importance')\n",
    "# ax.set_title('Top 10 Features by Absolute Importance')\n",
    "\n",
    "# plt.show()\n"
   ]
  },
  {
   "attachments": {},
   "cell_type": "markdown",
   "metadata": {},
   "source": [
    "Get features for label = 1 and label = 0"
   ]
  },
  {
   "cell_type": "code",
   "execution_count": 464,
   "metadata": {},
   "outputs": [],
   "source": [
    "df_features_train1, df_features_train0 = get_feature_importance10(df_features_train)"
   ]
  },
  {
   "cell_type": "code",
   "execution_count": 472,
   "metadata": {},
   "outputs": [
    {
     "data": {
      "image/png": "[encoded data removed]",
      "text/plain": [
       "<Figure size 1200x800 with 1 Axes>"
      ]
     },
     "metadata": {},
     "output_type": "display_data"
    }
   ],
   "source": [
    "# Sort the features by absolute importance for label=1\n",
    "df_features_train1 = df_features_train1.sort_values(by='abs_importance', ascending=False)\n",
    "df_features_train1_top10 = df_features_train1.nlargest(20, 'abs_importance')\n",
    "df_features_train1_top10 = df_features_train1_top10.sort_values('importance', ascending=True)\n",
    "\n",
    "# Sort the features by absolute importance for label=0\n",
    "df_features_train0 = df_features_train0.sort_values(by='abs_importance', ascending=False)\n",
    "df_features_train0_top10 = df_features_train0.nlargest(20, 'abs_importance')\n",
    "\n",
    "# Create a combined bar chart\n",
    "fig, ax = plt.subplots(figsize=(12, 8))\n",
    "ax.barh(df_features_train0_top10['feature'], df_features_train0_top10['importance'], color='darkblue', label='Phase 2=0')\n",
    "ax.barh(df_features_train1_top10['feature'], df_features_train1_top10['importance'], color='maroon', label='Phase 2=1')\n",
    "ax.set_xlabel('Features')\n",
    "ax.set_ylabel('Importance')\n",
    "ax.set_title('Top 20 Features by Importance for Phase2 =0 and =1')\n",
    "ax.legend()\n",
    "plt.xticks(rotation=90)\n",
    "plt.show()\n"
   ]
  },
  {
   "cell_type": "code",
   "execution_count": 473,
   "metadata": {},
   "outputs": [],
   "source": [
    "df_features_train.to_excel('../../../../output/tables/features_logit_train_full_baseline.xlsx', index=True)"
   ]
  },
  {
   "cell_type": "code",
   "execution_count": 475,
   "metadata": {},
   "outputs": [
    {
     "data": {
      "text/html": [
       "<div>\n",
       "<style scoped>\n",
       "    .dataframe tbody tr th:only-of-type {\n",
       "        vertical-align: middle;\n",
       "    }\n",
       "\n",
       "    .dataframe tbody tr th {\n",
       "        vertical-align: top;\n",
       "    }\n",
       "\n",
       "    .dataframe thead th {\n",
       "        text-align: right;\n",
       "    }\n",
       "</style>\n",
       "<table border=\"1\" class=\"dataframe\">\n",
       "  <thead>\n",
       "    <tr style=\"text-align: right;\">\n",
       "      <th></th>\n",
       "      <th>year</th>\n",
       "      <th>case_num</th>\n",
       "      <th>file</th>\n",
       "      <th>article_new</th>\n",
       "      <th>label</th>\n",
       "      <th>text_clean</th>\n",
       "    </tr>\n",
       "  </thead>\n",
       "  <tbody>\n",
       "    <tr>\n",
       "      <th>0</th>\n",
       "      <td>2004</td>\n",
       "      <td>M.3476</td>\n",
       "      <td>\\m3476_20041028_20310_en</td>\n",
       "      <td>article6(1)(b)</td>\n",
       "      <td>0</td>\n",
       "      <td>horizontal overlap case comp m danish crown st...</td>\n",
       "    </tr>\n",
       "    <tr>\n",
       "      <th>1</th>\n",
       "      <td>2004</td>\n",
       "      <td>M.3571</td>\n",
       "      <td>\\m3571_20041118_20310_en</td>\n",
       "      <td>article6(1)(b)</td>\n",
       "      <td>0</td>\n",
       "      <td>party submitted data year basis sale party add...</td>\n",
       "    </tr>\n",
       "    <tr>\n",
       "      <th>2</th>\n",
       "      <td>2005</td>\n",
       "      <td>M.3511</td>\n",
       "      <td>\\m3511_20050322_20310_en</td>\n",
       "      <td>article6(1)(b)</td>\n",
       "      <td>0</td>\n",
       "      <td>approximately million euro hvb group share bce...</td>\n",
       "    </tr>\n",
       "    <tr>\n",
       "      <th>3</th>\n",
       "      <td>2005</td>\n",
       "      <td>M.3556</td>\n",
       "      <td>\\m3556_20050119_20310_en</td>\n",
       "      <td>article6(1)(b)</td>\n",
       "      <td>0</td>\n",
       "      <td>product market definition joint venture active...</td>\n",
       "    </tr>\n",
       "    <tr>\n",
       "      <th>4</th>\n",
       "      <td>2005</td>\n",
       "      <td>M.3595</td>\n",
       "      <td>\\m3595_20050330_20310_en</td>\n",
       "      <td>article6(1)(b)</td>\n",
       "      <td>0</td>\n",
       "      <td>proposed operation constitutes concentration m...</td>\n",
       "    </tr>\n",
       "    <tr>\n",
       "      <th>...</th>\n",
       "      <td>...</td>\n",
       "      <td>...</td>\n",
       "      <td>...</td>\n",
       "      <td>...</td>\n",
       "      <td>...</td>\n",
       "      <td>...</td>\n",
       "    </tr>\n",
       "    <tr>\n",
       "      <th>152</th>\n",
       "      <td>2021</td>\n",
       "      <td>M.10123</td>\n",
       "      <td>\\m10123_404_3</td>\n",
       "      <td>article6(1)(b)</td>\n",
       "      <td>0</td>\n",
       "      <td>party active manufacture wholesale supply deco...</td>\n",
       "    </tr>\n",
       "    <tr>\n",
       "      <th>153</th>\n",
       "      <td>2021</td>\n",
       "      <td>M.10450</td>\n",
       "      <td>\\M_10450_8093401_193_3</td>\n",
       "      <td>article6(1)(b)</td>\n",
       "      <td>0</td>\n",
       "      <td>specific change brought transaction open fiber...</td>\n",
       "    </tr>\n",
       "    <tr>\n",
       "      <th>154</th>\n",
       "      <td>2021</td>\n",
       "      <td>M.9820</td>\n",
       "      <td>\\M_9820_8034733_3778_3</td>\n",
       "      <td>article8(2)</td>\n",
       "      <td>1</td>\n",
       "      <td>annex analysis party ’ opportunity data submit...</td>\n",
       "    </tr>\n",
       "    <tr>\n",
       "      <th>155</th>\n",
       "      <td>2021</td>\n",
       "      <td>M.9971</td>\n",
       "      <td>\\M_9971_8045489_693_3</td>\n",
       "      <td>article6(1)(b)</td>\n",
       "      <td>0</td>\n",
       "      <td>assessment horizontal effect transaction give ...</td>\n",
       "    </tr>\n",
       "    <tr>\n",
       "      <th>156</th>\n",
       "      <td>2022</td>\n",
       "      <td>M.10262</td>\n",
       "      <td>\\M_10262_8559915_3054_3</td>\n",
       "      <td>article8(2)</td>\n",
       "      <td>1</td>\n",
       "      <td>transaction union dimension meaning article me...</td>\n",
       "    </tr>\n",
       "  </tbody>\n",
       "</table>\n",
       "<p>157 rows × 6 columns</p>\n",
       "</div>"
      ],
      "text/plain": [
       "     year case_num                      file     article_new  label  \\\n",
       "0    2004   M.3476  \\m3476_20041028_20310_en  article6(1)(b)      0   \n",
       "1    2004   M.3571  \\m3571_20041118_20310_en  article6(1)(b)      0   \n",
       "2    2005   M.3511  \\m3511_20050322_20310_en  article6(1)(b)      0   \n",
       "3    2005   M.3556  \\m3556_20050119_20310_en  article6(1)(b)      0   \n",
       "4    2005   M.3595  \\m3595_20050330_20310_en  article6(1)(b)      0   \n",
       "..    ...      ...                       ...             ...    ...   \n",
       "152  2021  M.10123             \\m10123_404_3  article6(1)(b)      0   \n",
       "153  2021  M.10450    \\M_10450_8093401_193_3  article6(1)(b)      0   \n",
       "154  2021   M.9820    \\M_9820_8034733_3778_3     article8(2)      1   \n",
       "155  2021   M.9971     \\M_9971_8045489_693_3  article6(1)(b)      0   \n",
       "156  2022  M.10262   \\M_10262_8559915_3054_3     article8(2)      1   \n",
       "\n",
       "                                            text_clean  \n",
       "0    horizontal overlap case comp m danish crown st...  \n",
       "1    party submitted data year basis sale party add...  \n",
       "2    approximately million euro hvb group share bce...  \n",
       "3    product market definition joint venture active...  \n",
       "4    proposed operation constitutes concentration m...  \n",
       "..                                                 ...  \n",
       "152  party active manufacture wholesale supply deco...  \n",
       "153  specific change brought transaction open fiber...  \n",
       "154  annex analysis party ’ opportunity data submit...  \n",
       "155  assessment horizontal effect transaction give ...  \n",
       "156  transaction union dimension meaning article me...  \n",
       "\n",
       "[157 rows x 6 columns]"
      ]
     },
     "execution_count": 475,
     "metadata": {},
     "output_type": "execute_result"
    }
   ],
   "source": [
    "df_train_grouped"
   ]
  },
  {
   "cell_type": "code",
   "execution_count": null,
   "metadata": {},
   "outputs": [],
   "source": []
  }
 ],
 "metadata": {
  "kernelspec": {
   "display_name": "thesis",
   "language": "python",
   "name": "python3"
  },
  "language_info": {
   "codemirror_mode": {
    "name": "ipython",
    "version": 3
   },
   "file_extension": ".py",
   "mimetype": "text/x-python",
   "name": "python",
   "nbconvert_exporter": "python",
   "pygments_lexer": "ipython3",
   "version": "3.10.4"
  },
  "orig_nbformat": 4
 },
 "nbformat": 4,
 "nbformat_minor": 2
}
