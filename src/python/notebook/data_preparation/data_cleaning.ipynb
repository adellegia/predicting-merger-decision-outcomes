{
 "cells": [
  {
   "cell_type": "code",
   "execution_count": 2,
   "metadata": {},
   "outputs": [],
   "source": [
    "# Data manipulation\n",
    "import pandas as pd\n",
    "import numpy as np"
   ]
  },
  {
   "cell_type": "code",
   "execution_count": 3,
   "metadata": {},
   "outputs": [],
   "source": [
    "import time\n",
    "import datetime\n",
    "import os\n",
    "from tqdm import tqdm\n",
    "import json"
   ]
  },
  {
   "cell_type": "code",
   "execution_count": 4,
   "metadata": {},
   "outputs": [],
   "source": [
    "# Parsing and pre-processing\n",
    "import os\n",
    "import re\n",
    "\n",
    "from langdetect import detect, DetectorFactory"
   ]
  },
  {
   "cell_type": "code",
   "execution_count": 6,
   "metadata": {},
   "outputs": [],
   "source": [
    "df = pd.read_json(r\"../../../../data/processed/data_merged_2023_03_08.json\")"
   ]
  },
  {
   "attachments": {},
   "cell_type": "markdown",
   "metadata": {},
   "source": [
    "### I. Clean Simplified Text and Create sec_text"
   ]
  },
  {
   "cell_type": "code",
   "execution_count": 10,
   "metadata": {},
   "outputs": [],
   "source": [
    "import re\n",
    "\n",
    "def _parse_simplified_text2(text):\n",
    "    # Define the start and end patterns\n",
    "    start_pattern = re.compile(r'(?i)business activities of the undertakings concerned are|business activities')\n",
    "    end_pattern = re.compile(r'(?i)after examination of the notification|\\n \\n|\\n\\n')\n",
    "\n",
    "    result = \"None\"\n",
    "    try:\n",
    "        # Find the start and end positions of the patterns\n",
    "        start_pos = start_pattern.search(text).end()\n",
    "        end_match = end_pattern.search(text[start_pos:])\n",
    "        if end_match is None:\n",
    "            end_pos = len(text)\n",
    "        else:\n",
    "            end_pos = start_pos + end_match.start()\n",
    "\n",
    "        # Extract the text between the patterns\n",
    "        result = text[start_pos:end_pos].strip()\n",
    "    except AttributeError:\n",
    "        pass\n",
    "    except UnboundLocalError:\n",
    "        pass\n",
    "\n",
    "    return result\n"
   ]
  },
  {
   "cell_type": "code",
   "execution_count": 11,
   "metadata": {},
   "outputs": [],
   "source": [
    "# Simplified: parse again business activities\n",
    "df.loc[df['section_text'] == \"None\", \"section_text\"] = df.loc[df['section_text'] == \"None\", \"bsn_act\"].apply(_parse_simplified_text2)"
   ]
  },
  {
   "cell_type": "code",
   "execution_count": 12,
   "metadata": {},
   "outputs": [],
   "source": [
    "# Simplified: change section_text to simp_text where len_pdf <= 5 or section == \"None\"\n",
    "df.loc[df[\"len_pdf\"] <= 5, \"section_text\"] = df.loc[df[\"len_pdf\"] <= 5, \"simp_text\"]"
   ]
  },
  {
   "cell_type": "code",
   "execution_count": 13,
   "metadata": {},
   "outputs": [],
   "source": [
    "# Simplified: change sec_text to simp_text where len_pdf <= 5 or section == \"None\"\n",
    "df.loc[df[\"len_pdf\"] <= 5, \"sec_text\"] = df.loc[df[\"len_pdf\"] <= 5, \"simp_text\"]"
   ]
  },
  {
   "cell_type": "code",
   "execution_count": 14,
   "metadata": {},
   "outputs": [],
   "source": [
    "# Non-Simplified: Join the texts in 'section_text' using '\\n' as the separator\n",
    "df.loc[df[\"len_pdf\"] > 5, 'sec_text'] = df.loc[df[\"len_pdf\"] > 5, 'section_text'].apply(lambda lst: '\\n'.join(lst))"
   ]
  },
  {
   "cell_type": "code",
   "execution_count": 15,
   "metadata": {},
   "outputs": [],
   "source": [
    "df = df.reset_index(drop=True)"
   ]
  },
  {
   "cell_type": "code",
   "execution_count": 16,
   "metadata": {},
   "outputs": [
    {
     "data": {
      "text/plain": [
       "109"
      ]
     },
     "execution_count": 16,
     "metadata": {},
     "output_type": "execute_result"
    }
   ],
   "source": [
    "len(df[df['section_text'] == \"None\"])"
   ]
  },
  {
   "cell_type": "code",
   "execution_count": 17,
   "metadata": {},
   "outputs": [
    {
     "data": {
      "text/plain": [
       "0"
      ]
     },
     "execution_count": 17,
     "metadata": {},
     "output_type": "execute_result"
    }
   ],
   "source": [
    "len(df[df['sec_text'] == \"\"])"
   ]
  },
  {
   "attachments": {},
   "cell_type": "markdown",
   "metadata": {},
   "source": [
    "#### Drop if section_text is \"None\" or sec_text is \"\""
   ]
  },
  {
   "cell_type": "code",
   "execution_count": 18,
   "metadata": {},
   "outputs": [],
   "source": [
    "# Drop if section_text is \"None\"\n",
    "df = df[df['section_text'] != \"None\"].reset_index(drop=True)"
   ]
  },
  {
   "cell_type": "code",
   "execution_count": 19,
   "metadata": {},
   "outputs": [],
   "source": [
    "# Drop if sec_text is \"\"\n",
    "df = df[df['sec_text'] != \"\"].reset_index(drop=True)"
   ]
  },
  {
   "cell_type": "code",
   "execution_count": 20,
   "metadata": {},
   "outputs": [
    {
     "name": "stdout",
     "output_type": "stream",
     "text": [
      "<class 'pandas.core.frame.DataFrame'>\n",
      "RangeIndex: 15694 entries, 0 to 15693\n",
      "Data columns (total 15 columns):\n",
      " #   Column        Non-Null Count  Dtype  \n",
      "---  ------        --------------  -----  \n",
      " 0   date          15694 non-null  object \n",
      " 1   year          15601 non-null  float64\n",
      " 2   len_pdf       15694 non-null  int64  \n",
      " 3   article       15694 non-null  object \n",
      " 4   article_txt   15694 non-null  object \n",
      " 5   article_62    15694 non-null  object \n",
      " 6   article_new   15694 non-null  object \n",
      " 7   case_num      15694 non-null  object \n",
      " 8   filename      15694 non-null  object \n",
      " 9   file          15694 non-null  object \n",
      " 10  section_text  15694 non-null  object \n",
      " 11  bsn_act       15694 non-null  object \n",
      " 12  simp_text     15694 non-null  object \n",
      " 13  section       12236 non-null  object \n",
      " 14  sec_text      15694 non-null  object \n",
      "dtypes: float64(1), int64(1), object(13)\n",
      "memory usage: 1.8+ MB\n"
     ]
    }
   ],
   "source": [
    "df.info()"
   ]
  },
  {
   "cell_type": "code",
   "execution_count": 21,
   "metadata": {},
   "outputs": [
    {
     "data": {
      "text/plain": [
       "0        : \\n  for SL04: a private equity firm indirec...\n",
       "1        : \\n  for K+N: a globally active logistics co...\n",
       "7        : \\n−  for  BANKIA:  financial  services  and ...\n",
       "8        : \\n  for  KKR  :  investment  firm  that  pr...\n",
       "9        : \\n  Whirlpool  is  active  in  the  manufac...\n",
       "                               ...                        \n",
       "15240    : \\n  for  Cordes  &  Graefe:  wholesale  and...\n",
       "15310    : \\n  for Onex: a private equity firm control...\n",
       "15340    : \\n  REWE is mainly active in the retail dis...\n",
       "15478    : \\n– for Cargill: the international  producti...\n",
       "15504    : \\n  for AMC: AMC is active in cinema exhibi...\n",
       "Name: sec_text, Length: 3458, dtype: object"
      ]
     },
     "execution_count": 21,
     "metadata": {},
     "output_type": "execute_result"
    }
   ],
   "source": [
    "df[df['bsn_act']!=\"\"]['sec_text']"
   ]
  },
  {
   "cell_type": "code",
   "execution_count": 22,
   "metadata": {},
   "outputs": [
    {
     "data": {
      "text/plain": [
       "3458"
      ]
     },
     "execution_count": 22,
     "metadata": {},
     "output_type": "execute_result"
    }
   ],
   "source": [
    "len(df[df['bsn_act']!=\"\"]['sec_text'])"
   ]
  },
  {
   "cell_type": "code",
   "execution_count": 23,
   "metadata": {},
   "outputs": [
    {
     "data": {
      "text/plain": [
       "3438"
      ]
     },
     "execution_count": 23,
     "metadata": {},
     "output_type": "execute_result"
    }
   ],
   "source": [
    "# no. of cases under Simplified Procedure\n",
    "df[df['bsn_act']!=\"\"]['case_num'].nunique()"
   ]
  },
  {
   "attachments": {},
   "cell_type": "markdown",
   "metadata": {},
   "source": [
    "### II. Add length of sec_text"
   ]
  },
  {
   "cell_type": "code",
   "execution_count": 24,
   "metadata": {},
   "outputs": [],
   "source": [
    "df['count'] = df['sec_text'].str.split().apply(len)"
   ]
  },
  {
   "cell_type": "code",
   "execution_count": 25,
   "metadata": {},
   "outputs": [
    {
     "data": {
      "text/plain": [
       "<AxesSubplot: >"
      ]
     },
     "execution_count": 25,
     "metadata": {},
     "output_type": "execute_result"
    },
    {
     "data": {
      "image/png": "[encoded data removed]",
      "text/plain": [
       "<Figure size 640x480 with 1 Axes>"
      ]
     },
     "metadata": {},
     "output_type": "display_data"
    }
   ],
   "source": [
    "pd.Series(df['count']).hist(bins = 50)"
   ]
  },
  {
   "cell_type": "code",
   "execution_count": 26,
   "metadata": {},
   "outputs": [
    {
     "data": {
      "text/plain": [
       "13543"
      ]
     },
     "execution_count": 26,
     "metadata": {},
     "output_type": "execute_result"
    }
   ],
   "source": [
    "len(df[df['count']<=2500])"
   ]
  },
  {
   "cell_type": "code",
   "execution_count": 27,
   "metadata": {},
   "outputs": [
    {
     "data": {
      "text/plain": [
       "8        : \\n  for  KKR  :  investment  firm  that  pr...\n",
       "10       : \\n–  for GIC: GIC is the holding company for...\n",
       "11       : \\n–  MAGNA is an automotive supplier which m...\n",
       "13       (6)  Pursuant to an agreement and plan of merg...\n",
       "18       : \\n  Huaxin is a wholly PRC State-owned indu...\n",
       "                               ...                        \n",
       "15590    38.  For the above mentioned reasons, the Comm...\n",
       "15598    (1258)  The Commission concludes that it is li...\n",
       "15660    29.  For the above mentioned reasons, the Comm...\n",
       "15665    26.  For the above mentioned reasons, the Comm...\n",
       "15681    (25)  For the above mentioned reasons, the Com...\n",
       "Name: sec_text, Length: 1478, dtype: object"
      ]
     },
     "execution_count": 27,
     "metadata": {},
     "output_type": "execute_result"
    }
   ],
   "source": [
    "df[df['count']<50]['sec_text']"
   ]
  },
  {
   "attachments": {},
   "cell_type": "markdown",
   "metadata": {},
   "source": [
    "#### Drop count with sec_text <=20"
   ]
  },
  {
   "cell_type": "code",
   "execution_count": 28,
   "metadata": {},
   "outputs": [],
   "source": [
    "df = df[df['count']>20].reset_index(drop=True)"
   ]
  },
  {
   "attachments": {},
   "cell_type": "markdown",
   "metadata": {},
   "source": [
    "### III. Drop duplicates based on file and sec_text"
   ]
  },
  {
   "cell_type": "code",
   "execution_count": 29,
   "metadata": {},
   "outputs": [],
   "source": [
    "df.drop_duplicates(subset=['file', 'sec_text'], keep='first', inplace=True)\n",
    "\n",
    "df=df.reset_index(drop=True)"
   ]
  },
  {
   "attachments": {},
   "cell_type": "markdown",
   "metadata": {},
   "source": [
    "### IV. Rename Articles"
   ]
  },
  {
   "cell_type": "code",
   "execution_count": 30,
   "metadata": {},
   "outputs": [],
   "source": [
    "df['article'] = df['article'].replace('art6.1', 'article6(2)')\n",
    "df['article'] = df['article'].replace('art6.0', 'article6(1)(b)')\n",
    "df['article'] = df['article'].replace('art8.1', 'article8(1)')\n",
    "df['article'] = df['article'].replace('art8.2', 'article8(2)')\n",
    "df['article'] = df['article'].replace('art8.3', 'article8(3)')\n",
    "df['article'] = df['article'].replace('art9.3', 'referral')"
   ]
  },
  {
   "cell_type": "code",
   "execution_count": 31,
   "metadata": {},
   "outputs": [
    {
     "data": {
      "text/plain": [
       "article_txt\n",
       "None                83\n",
       "article17(2)         8\n",
       "article21            1\n",
       "article22            4\n",
       "article22(1)         1\n",
       "article22(3)        13\n",
       "article232           1\n",
       "article4(4)         12\n",
       "article6(1)          9\n",
       "article6(1)(a)       1\n",
       "article6(1)(b)    4657\n",
       "article6(2)         55\n",
       "article6(4)          1\n",
       "article7(3)         28\n",
       "article8(1)         33\n",
       "article8(2)         63\n",
       "article8(3)         10\n",
       "article8(4)          1\n",
       "article9             3\n",
       "article9(2)          1\n",
       "article9(3)         24\n",
       "article9(3)(b)       2\n",
       "Name: case_num, dtype: int64"
      ]
     },
     "execution_count": 31,
     "metadata": {},
     "output_type": "execute_result"
    }
   ],
   "source": [
    "# no. of cases by article_txt\n",
    "df.groupby('article_txt')['case_num'].nunique().sort_index()"
   ]
  },
  {
   "cell_type": "code",
   "execution_count": 32,
   "metadata": {},
   "outputs": [],
   "source": [
    "# change 6(1) to 6.2\n",
    "df['article_txt'] = df['article_txt'].replace(\"article6(1)\", \"article6(2)\") "
   ]
  },
  {
   "cell_type": "code",
   "execution_count": 33,
   "metadata": {},
   "outputs": [
    {
     "data": {
      "text/plain": [
       "None                            13273\n",
       "inconjunctionwithart6(2)         1225\n",
       "inconjunctionwitharticle6(2)      120\n",
       "Name: article_62, dtype: int64"
      ]
     },
     "execution_count": 33,
     "metadata": {},
     "output_type": "execute_result"
    }
   ],
   "source": [
    "df['article_62'].value_counts()"
   ]
  },
  {
   "cell_type": "code",
   "execution_count": 34,
   "metadata": {},
   "outputs": [],
   "source": [
    "# change to 6.2 with in conjunction\n",
    "df['article_txt'] = np.where(df['article_62'].isin(['inconjunctionwitharticle6(2)', 'inconjunctionwithart6(2)']), 'article6(2)', df['article_txt'])"
   ]
  },
  {
   "attachments": {},
   "cell_type": "markdown",
   "metadata": {},
   "source": [
    "#### Clean article_new"
   ]
  },
  {
   "cell_type": "code",
   "execution_count": 35,
   "metadata": {},
   "outputs": [],
   "source": [
    "# referral\n",
    "mask = (df['article_txt'].isin([\"article4(4)\", \"article22(3)\", \"article22\", \"article9(3)\", \"article9(3)(b)\", \"article9\", \"article9(2)\"]))"
   ]
  },
  {
   "cell_type": "code",
   "execution_count": 36,
   "metadata": {},
   "outputs": [],
   "source": [
    "# article_new\n",
    "df['article_new'] = np.where(mask, 'referral', df['article_txt'])"
   ]
  },
  {
   "cell_type": "code",
   "execution_count": 37,
   "metadata": {},
   "outputs": [],
   "source": [
    "# refusal - Article 7.3\n",
    "mask73 = (df['article_txt'].isin([\"article7(3)\"]))\n",
    "df['article_new'] = np.where(mask73, 'article7(3)', df['article_new'])"
   ]
  },
  {
   "cell_type": "code",
   "execution_count": 38,
   "metadata": {},
   "outputs": [
    {
     "data": {
      "text/plain": [
       "article_new\n",
       "None                83\n",
       "article17(2)         8\n",
       "article21            1\n",
       "article22(1)         1\n",
       "article232           1\n",
       "article6(1)(a)       1\n",
       "article6(1)(b)    4505\n",
       "article6(2)        214\n",
       "article6(4)          1\n",
       "article7(3)         28\n",
       "article8(1)         33\n",
       "article8(2)         63\n",
       "article8(3)         10\n",
       "article8(4)          1\n",
       "referral            59\n",
       "Name: case_num, dtype: int64"
      ]
     },
     "execution_count": 38,
     "metadata": {},
     "output_type": "execute_result"
    }
   ],
   "source": [
    "# no. of cases by article_new\n",
    "df.groupby('article_new')['case_num'].nunique().sort_index()"
   ]
  },
  {
   "attachments": {},
   "cell_type": "markdown",
   "metadata": {},
   "source": [
    "### V. Subset based on articles"
   ]
  },
  {
   "attachments": {},
   "cell_type": "markdown",
   "metadata": {},
   "source": [
    "#### Subset only \"article6(1)(b)\", \"article6(2)\", \"article8(1)\", \"article8(2)\", \"article8(3)\", \"referral\", \"article7(3)\""
   ]
  },
  {
   "cell_type": "code",
   "execution_count": 39,
   "metadata": {},
   "outputs": [],
   "source": [
    "# subset based on article_new (only main articles)\n",
    "df1 = df[df['article_new'].isin([\"article6(1)(b)\", \"article6(2)\", \"article8(1)\", \"article8(2)\", \"article8(3)\", \"referral\", \"article7(3)\"])]"
   ]
  },
  {
   "attachments": {},
   "cell_type": "markdown",
   "metadata": {},
   "source": [
    "#### Replace Simplified Procedure"
   ]
  },
  {
   "cell_type": "code",
   "execution_count": 40,
   "metadata": {},
   "outputs": [],
   "source": [
    "df1.loc[df1['len_pdf'] <= 5, 'article_new'] = 'simplified'"
   ]
  },
  {
   "cell_type": "code",
   "execution_count": 41,
   "metadata": {},
   "outputs": [
    {
     "data": {
      "text/plain": [
       "3220"
      ]
     },
     "execution_count": 41,
     "metadata": {},
     "output_type": "execute_result"
    }
   ],
   "source": [
    "len(df1[df1['len_pdf']<=5]['sec_text'])"
   ]
  },
  {
   "cell_type": "code",
   "execution_count": 42,
   "metadata": {},
   "outputs": [
    {
     "data": {
      "text/plain": [
       "article_new\n",
       "article6(1)(b)    1285\n",
       "article6(2)        214\n",
       "article7(3)         28\n",
       "article8(1)         33\n",
       "article8(2)         63\n",
       "article8(3)         10\n",
       "referral            59\n",
       "simplified        3220\n",
       "Name: case_num, dtype: int64"
      ]
     },
     "execution_count": 42,
     "metadata": {},
     "output_type": "execute_result"
    }
   ],
   "source": [
    "# no of cases by article_new\n",
    "df1.groupby('article_new')['case_num'].nunique()"
   ]
  },
  {
   "cell_type": "code",
   "execution_count": 43,
   "metadata": {},
   "outputs": [
    {
     "data": {
      "text/plain": [
       "article_new\n",
       "article6(1)(b)    1287\n",
       "article6(2)        218\n",
       "article7(3)         29\n",
       "article8(1)         33\n",
       "article8(2)         64\n",
       "article8(3)         10\n",
       "referral            92\n",
       "simplified        3220\n",
       "Name: file, dtype: int64"
      ]
     },
     "execution_count": 43,
     "metadata": {},
     "output_type": "execute_result"
    }
   ],
   "source": [
    "# no of documents by article_new\n",
    "df1.groupby('article_new')['file'].nunique()"
   ]
  },
  {
   "attachments": {},
   "cell_type": "markdown",
   "metadata": {},
   "source": [
    "### VI. Detect English sec_text and subset to English merger decisions"
   ]
  },
  {
   "cell_type": "code",
   "execution_count": 44,
   "metadata": {},
   "outputs": [
    {
     "name": "stderr",
     "output_type": "stream",
     "text": [
      "C:\\Users\\admin\\AppData\\Local\\Temp\\ipykernel_10320\\2238364212.py:4: SettingWithCopyWarning: \n",
      "A value is trying to be set on a copy of a slice from a DataFrame.\n",
      "Try using .loc[row_indexer,col_indexer] = value instead\n",
      "\n",
      "See the caveats in the documentation: https://pandas.pydata.org/pandas-docs/stable/user_guide/indexing.html#returning-a-view-versus-a-copy\n",
      "  df1[\"lang\"] = df1[\"sec_text\"].apply(lambda x: detect(x) if x is not None else None)\n"
     ]
    }
   ],
   "source": [
    "df1[\"lang\"] = df1[\"sec_text\"].apply(lambda x: detect(x) if x is not None else None)"
   ]
  },
  {
   "cell_type": "code",
   "execution_count": 45,
   "metadata": {},
   "outputs": [
    {
     "data": {
      "text/plain": [
       "14107"
      ]
     },
     "execution_count": 45,
     "metadata": {},
     "output_type": "execute_result"
    }
   ],
   "source": [
    "len(df1.index)"
   ]
  },
  {
   "cell_type": "code",
   "execution_count": 46,
   "metadata": {},
   "outputs": [
    {
     "data": {
      "text/plain": [
       "en    14094\n",
       "fr       10\n",
       "no        1\n",
       "de        1\n",
       "id        1\n",
       "Name: lang, dtype: int64"
      ]
     },
     "execution_count": 46,
     "metadata": {},
     "output_type": "execute_result"
    }
   ],
   "source": [
    "df1['lang'].value_counts()"
   ]
  },
  {
   "attachments": {},
   "cell_type": "markdown",
   "metadata": {},
   "source": [
    "#### Drop non-English"
   ]
  },
  {
   "cell_type": "code",
   "execution_count": 47,
   "metadata": {},
   "outputs": [],
   "source": [
    "df_eng = df1[df1['lang']==\"en\"]\n",
    "df_eng = df_eng.reset_index(drop=True)"
   ]
  },
  {
   "cell_type": "code",
   "execution_count": 48,
   "metadata": {},
   "outputs": [
    {
     "data": {
      "text/plain": [
       "14094"
      ]
     },
     "execution_count": 48,
     "metadata": {},
     "output_type": "execute_result"
    }
   ],
   "source": [
    "len(df_eng.index)"
   ]
  },
  {
   "cell_type": "code",
   "execution_count": 49,
   "metadata": {},
   "outputs": [
    {
     "data": {
      "text/plain": [
       "article_new\n",
       "article6(1)(b)    1287\n",
       "article6(2)        218\n",
       "article7(3)         29\n",
       "article8(1)         33\n",
       "article8(2)         64\n",
       "article8(3)         10\n",
       "referral            92\n",
       "simplified        3210\n",
       "Name: file, dtype: int64"
      ]
     },
     "execution_count": 49,
     "metadata": {},
     "output_type": "execute_result"
    }
   ],
   "source": [
    "df_eng.groupby('article_new')['file'].nunique()"
   ]
  },
  {
   "attachments": {},
   "cell_type": "markdown",
   "metadata": {},
   "source": [
    "### VII. Clean Section headings"
   ]
  },
  {
   "attachments": {},
   "cell_type": "markdown",
   "metadata": {},
   "source": [
    "#### Save headings to excel file"
   ]
  },
  {
   "cell_type": "code",
   "execution_count": 50,
   "metadata": {},
   "outputs": [],
   "source": [
    "df_eng['section2'] = df_eng['section'].str.findall(r'\\b[A-Z\\s]+\\b').str.join(' ').str.strip()"
   ]
  },
  {
   "cell_type": "code",
   "execution_count": 51,
   "metadata": {},
   "outputs": [],
   "source": [
    "headings = df_eng['section'].value_counts()"
   ]
  },
  {
   "cell_type": "code",
   "execution_count": 52,
   "metadata": {},
   "outputs": [],
   "source": [
    "headings2 = pd.DataFrame(df_eng['section2'].value_counts()).reset_index()\n",
    "headings2.columns = ['section', 'count']\n",
    "headings2 = headings2.explode('section')"
   ]
  },
  {
   "cell_type": "code",
   "execution_count": 53,
   "metadata": {},
   "outputs": [],
   "source": [
    "headings2.to_excel('D:\\Desktop\\Thesis\\predicting-merger-decision-outcomes\\output\\headings.xlsx')"
   ]
  },
  {
   "cell_type": "code",
   "execution_count": 54,
   "metadata": {},
   "outputs": [
    {
     "data": {
      "text/html": [
       "<div>\n",
       "<style scoped>\n",
       "    .dataframe tbody tr th:only-of-type {\n",
       "        vertical-align: middle;\n",
       "    }\n",
       "\n",
       "    .dataframe tbody tr th {\n",
       "        vertical-align: top;\n",
       "    }\n",
       "\n",
       "    .dataframe thead th {\n",
       "        text-align: right;\n",
       "    }\n",
       "</style>\n",
       "<table border=\"1\" class=\"dataframe\">\n",
       "  <thead>\n",
       "    <tr style=\"text-align: right;\">\n",
       "      <th></th>\n",
       "      <th>section</th>\n",
       "      <th>count</th>\n",
       "    </tr>\n",
       "  </thead>\n",
       "  <tbody>\n",
       "    <tr>\n",
       "      <th>0</th>\n",
       "      <td>CONCLUSION</td>\n",
       "      <td>730</td>\n",
       "    </tr>\n",
       "    <tr>\n",
       "      <th>1</th>\n",
       "      <td>COMPETITIVE ASSESSMENT</td>\n",
       "      <td>557</td>\n",
       "    </tr>\n",
       "    <tr>\n",
       "      <th>2</th>\n",
       "      <td>I THE PARTIES</td>\n",
       "      <td>547</td>\n",
       "    </tr>\n",
       "    <tr>\n",
       "      <th>3</th>\n",
       "      <td>THE PARTIES</td>\n",
       "      <td>497</td>\n",
       "    </tr>\n",
       "    <tr>\n",
       "      <th>4</th>\n",
       "      <td>EU DIMENSION</td>\n",
       "      <td>436</td>\n",
       "    </tr>\n",
       "    <tr>\n",
       "      <th>5</th>\n",
       "      <td>VI CONCLUSION</td>\n",
       "      <td>380</td>\n",
       "    </tr>\n",
       "    <tr>\n",
       "      <th>6</th>\n",
       "      <td>V COMPETITIVE ASSESSMENT</td>\n",
       "      <td>321</td>\n",
       "    </tr>\n",
       "    <tr>\n",
       "      <th>7</th>\n",
       "      <td>II THE OPERATION</td>\n",
       "      <td>275</td>\n",
       "    </tr>\n",
       "    <tr>\n",
       "      <th>8</th>\n",
       "      <td>RELEVANT MARKETS</td>\n",
       "      <td>251</td>\n",
       "    </tr>\n",
       "    <tr>\n",
       "      <th>9</th>\n",
       "      <td>III COMMUNITY DIMENSION</td>\n",
       "      <td>251</td>\n",
       "    </tr>\n",
       "  </tbody>\n",
       "</table>\n",
       "</div>"
      ],
      "text/plain": [
       "                    section  count\n",
       "0                CONCLUSION    730\n",
       "1    COMPETITIVE ASSESSMENT    557\n",
       "2             I THE PARTIES    547\n",
       "3               THE PARTIES    497\n",
       "4              EU DIMENSION    436\n",
       "5             VI CONCLUSION    380\n",
       "6  V COMPETITIVE ASSESSMENT    321\n",
       "7          II THE OPERATION    275\n",
       "8          RELEVANT MARKETS    251\n",
       "9   III COMMUNITY DIMENSION    251"
      ]
     },
     "execution_count": 54,
     "metadata": {},
     "output_type": "execute_result"
    }
   ],
   "source": [
    "headings2.head(10)"
   ]
  },
  {
   "attachments": {},
   "cell_type": "markdown",
   "metadata": {},
   "source": [
    "#### Rename Sections into 7 general subheadings"
   ]
  },
  {
   "cell_type": "code",
   "execution_count": 55,
   "metadata": {},
   "outputs": [],
   "source": [
    "df_eng['section_fin'] = \"\""
   ]
  },
  {
   "attachments": {},
   "cell_type": "markdown",
   "metadata": {},
   "source": [
    "DROP subheadings"
   ]
  },
  {
   "cell_type": "code",
   "execution_count": 56,
   "metadata": {},
   "outputs": [],
   "source": [
    "df_eng['section_fin'] = np.where((df_eng['section2']==\"\"), 'DROP', df_eng['section_fin'])"
   ]
  },
  {
   "cell_type": "code",
   "execution_count": 57,
   "metadata": {},
   "outputs": [
    {
     "data": {
      "text/plain": [
       "15"
      ]
     },
     "execution_count": 57,
     "metadata": {},
     "output_type": "execute_result"
    }
   ],
   "source": [
    "len(df_eng[df_eng['section_fin']==\"DROP\"])"
   ]
  },
  {
   "attachments": {},
   "cell_type": "markdown",
   "metadata": {},
   "source": [
    "1. Introduction, Background, Summary"
   ]
  },
  {
   "cell_type": "code",
   "execution_count": 58,
   "metadata": {},
   "outputs": [],
   "source": [
    "mask_intro = df_eng['section2'].str.lower().str.contains('introduction|summary|background')"
   ]
  },
  {
   "cell_type": "code",
   "execution_count": 59,
   "metadata": {},
   "outputs": [],
   "source": [
    "df_eng['section_fin'] = np.where(mask_intro, 'Introduction/ Summary', \"\")"
   ]
  },
  {
   "attachments": {},
   "cell_type": "markdown",
   "metadata": {},
   "source": [
    "2. Parties, Operation, Transaction"
   ]
  },
  {
   "cell_type": "code",
   "execution_count": 60,
   "metadata": {},
   "outputs": [],
   "source": [
    "mask_party = df_eng['section2'].str.lower().str.contains('parties|operation|transaction|joint venture')"
   ]
  },
  {
   "cell_type": "code",
   "execution_count": 61,
   "metadata": {},
   "outputs": [],
   "source": [
    "df_eng['section_fin'] = np.where(mask_party, 'Parties & Operation', df_eng['section_fin'])"
   ]
  },
  {
   "attachments": {},
   "cell_type": "markdown",
   "metadata": {},
   "source": [
    "3. Concentration & Dimension"
   ]
  },
  {
   "cell_type": "code",
   "execution_count": 62,
   "metadata": {},
   "outputs": [],
   "source": [
    "mask_dim = df_eng['section2'].str.lower().str.contains('concentration|dimension|community dimmension|jurisdiction of the commission')"
   ]
  },
  {
   "cell_type": "code",
   "execution_count": 63,
   "metadata": {},
   "outputs": [],
   "source": [
    "df_eng['section_fin'] = np.where(mask_dim, 'Concentration & Dimension', df_eng['section_fin'])"
   ]
  },
  {
   "attachments": {},
   "cell_type": "markdown",
   "metadata": {},
   "source": [
    "4. Market Definition"
   ]
  },
  {
   "cell_type": "code",
   "execution_count": 64,
   "metadata": {},
   "outputs": [],
   "source": [
    "mask_market = df_eng['section2'].str.lower().str.contains('relevant market|product|geographic|industry|market definition|marketdefinition|marketdefinitions|market|\\\n",
    "                definition|definitions|united kingdom|germany|slovakia|hungary|czechia|london|\\\n",
    "                applicability of the eea agreement|wholesale|retail|telecommunications sector|upstream|downstream|\\\n",
    "                cargo transport and freight forwarding|\\\n",
    "                cementitious materials|fluid catalytic cracking fcc trains|adgt  driven|adgt|steam turbines|greycement|high and very high speedbananas|\\\n",
    "                bananas|\\\n",
    "                bagged salad|\\\n",
    "                london heathrow|\\\n",
    "                iv away from home|\\\n",
    "                iv cell culture|\\\n",
    "                iv parent reels|\\\n",
    "                iv laboratory chemicals|\\\n",
    "                iv vaccines|\\\n",
    "                v smoking cessation|\\\n",
    "                v cold sore management|\\\n",
    "                v cold and flu treatments|\\\n",
    "                v allergic rhinitis treatments|\\\n",
    "                v pain management|\\\n",
    "                v gastrointestinal treatments|\\\n",
    "                v antifungals|\\\n",
    "                iv targeted therapies|\\\n",
    "                v chemotherapies|\\\n",
    "                batteries|\\\n",
    "                iv analgesics|\\\n",
    "                iv throat preparations|\\\n",
    "                iv antipruritics|\\\n",
    "                v analgesics|\\\n",
    "                v throat preparations|\\\n",
    "                v antipruritics|\\\n",
    "                iv biosimilars|\\\n",
    "                iv other molecules|\\\n",
    "                resins')"
   ]
  },
  {
   "cell_type": "code",
   "execution_count": 65,
   "metadata": {},
   "outputs": [],
   "source": [
    "df_eng['section_fin'] = np.where(mask_market, 'Market Definition', df_eng['section_fin'])"
   ]
  },
  {
   "attachments": {},
   "cell_type": "markdown",
   "metadata": {},
   "source": [
    "5. Competitive Assessment"
   ]
  },
  {
   "cell_type": "code",
   "execution_count": 66,
   "metadata": {},
   "outputs": [],
   "source": [
    "mask_assess = df_eng['section2'].str.lower().str.contains('competitive assessment|analysis|analyses|assessment|investigation|\\\n",
    "            effect|horizontal|vertical|conglomerate|coordinated|foreclosure|nash|bertrand|data|robustness tests|methodology|method|efficiencies|\\\n",
    "            competitive assesment|competitiveassesment|competitiveasessment|competitive asessment|share|competitive  structure|merger simulation|simulation|\\\n",
    "            recent studies|overview of the commission s approach|cashinstruments|\\\n",
    "            appendix')"
   ]
  },
  {
   "cell_type": "code",
   "execution_count": 67,
   "metadata": {},
   "outputs": [],
   "source": [
    "df_eng['section_fin'] = np.where(mask_assess, 'Competitive Assessment', df_eng['section_fin'])"
   ]
  },
  {
   "attachments": {},
   "cell_type": "markdown",
   "metadata": {},
   "source": [
    "6. Conclusion"
   ]
  },
  {
   "cell_type": "code",
   "execution_count": 68,
   "metadata": {},
   "outputs": [],
   "source": [
    "mask_conclusion = df_eng['section2'].str.lower().str.contains('conclusion')"
   ]
  },
  {
   "cell_type": "code",
   "execution_count": 69,
   "metadata": {},
   "outputs": [],
   "source": [
    "df_eng['section_fin'] = np.where(mask_conclusion, 'Conclusion', df_eng['section_fin'])"
   ]
  },
  {
   "attachments": {},
   "cell_type": "markdown",
   "metadata": {},
   "source": [
    "7. Conditions for Art 6.2 and 8.2, 8.3 only"
   ]
  },
  {
   "cell_type": "code",
   "execution_count": 70,
   "metadata": {},
   "outputs": [],
   "source": [
    "mask_commit = df_eng['section2'].str.lower().str.contains('commitment|remedies|remedy|obligation|condition|general provisions|slots|fare combinability')"
   ]
  },
  {
   "cell_type": "code",
   "execution_count": 71,
   "metadata": {},
   "outputs": [],
   "source": [
    "df_eng['section_fin'] = np.where(df_eng['article_new'].isin(['article6(2)','article8(2)', 'article8(3)']) & mask_commit, 'Conditions', df_eng['section_fin'])"
   ]
  },
  {
   "cell_type": "code",
   "execution_count": 72,
   "metadata": {},
   "outputs": [
    {
     "data": {
      "text/plain": [
       "article6(2)    356\n",
       "article8(2)     92\n",
       "article8(3)      8\n",
       "Name: article_new, dtype: int64"
      ]
     },
     "execution_count": 72,
     "metadata": {},
     "output_type": "execute_result"
    }
   ],
   "source": [
    "df_eng[df_eng['section_fin']==\"Conditions\"].article_new.value_counts()"
   ]
  },
  {
   "attachments": {},
   "cell_type": "markdown",
   "metadata": {},
   "source": [
    "8. Decision"
   ]
  },
  {
   "cell_type": "code",
   "execution_count": 73,
   "metadata": {},
   "outputs": [],
   "source": [
    "mask_decision = df_eng['section2'].str.lower().str.contains('facts|fact|procedure|procedures|decision')"
   ]
  },
  {
   "cell_type": "code",
   "execution_count": 74,
   "metadata": {},
   "outputs": [],
   "source": [
    "df_eng['section_fin'] = np.where(mask_decision, 'Decision', df_eng['section_fin'])"
   ]
  },
  {
   "attachments": {},
   "cell_type": "markdown",
   "metadata": {},
   "source": [
    "9. Requests"
   ]
  },
  {
   "cell_type": "code",
   "execution_count": 75,
   "metadata": {},
   "outputs": [],
   "source": [
    "mask_req = df_eng['section2'].str.lower().str.contains('request|requests|referral|review clause')"
   ]
  },
  {
   "cell_type": "code",
   "execution_count": 76,
   "metadata": {},
   "outputs": [],
   "source": [
    "df_eng['section_fin'] = np.where(mask_req, 'Request', df_eng['section_fin'])"
   ]
  },
  {
   "attachments": {},
   "cell_type": "markdown",
   "metadata": {},
   "source": [
    "10. Monitoring Trustee"
   ]
  },
  {
   "cell_type": "code",
   "execution_count": 77,
   "metadata": {},
   "outputs": [],
   "source": [
    "mask_monitor = df_eng['section2'].str.lower().str.contains('monitor|monitoring|termination mandate|relationship with state aid rules|termination of mandate')"
   ]
  },
  {
   "cell_type": "code",
   "execution_count": 78,
   "metadata": {},
   "outputs": [],
   "source": [
    "df_eng['section_fin'] = np.where(mask_monitor, 'Monitoring', df_eng['section_fin'])"
   ]
  },
  {
   "attachments": {},
   "cell_type": "markdown",
   "metadata": {},
   "source": [
    "11. None for Simplified Procedure"
   ]
  },
  {
   "cell_type": "code",
   "execution_count": 79,
   "metadata": {},
   "outputs": [],
   "source": [
    "df_eng.loc[df_eng['len_pdf'] <= 5, 'section_fin'] = 'simplified'"
   ]
  },
  {
   "attachments": {},
   "cell_type": "markdown",
   "metadata": {},
   "source": [
    "12. For remaining Art 6.2 and 8.2 - Conditions - DONT RUN"
   ]
  },
  {
   "cell_type": "code",
   "execution_count": 80,
   "metadata": {},
   "outputs": [
    {
     "data": {
      "text/plain": [
       "article6(2)       194\n",
       "article8(2)       139\n",
       "article6(1)(b)    109\n",
       "article7(3)        70\n",
       "referral           22\n",
       "article8(3)        19\n",
       "article8(1)         5\n",
       "Name: article_new, dtype: int64"
      ]
     },
     "execution_count": 80,
     "metadata": {},
     "output_type": "execute_result"
    }
   ],
   "source": [
    "df_eng[df_eng['section_fin']==\"\"]['article_new'].value_counts()"
   ]
  },
  {
   "cell_type": "code",
   "execution_count": 81,
   "metadata": {},
   "outputs": [],
   "source": [
    "# headings3 = pd.DataFrame(df_eng[(df_eng['section_fin']==\"\") & (df_eng['article_new'].isin(['article6(2)','article8(2)']))]['section2'].value_counts()).reset_index()\n",
    "# headings3.columns = ['section', 'count']\n",
    "# headings3 = headings3.explode('section')\n",
    "\n",
    "# headings3.to_excel('D:\\Desktop\\Thesis\\predicting-merger-decision-outcomes\\output\\headings_filtered.xlsx')"
   ]
  },
  {
   "cell_type": "code",
   "execution_count": 82,
   "metadata": {},
   "outputs": [],
   "source": [
    "# df_eng[df_eng['section2']==\"TERMINATION OF MANDATE\"][['sec_text','article_new']]\n"
   ]
  },
  {
   "cell_type": "code",
   "execution_count": 83,
   "metadata": {},
   "outputs": [],
   "source": [
    "# print(df_eng['section_fin'][10895])"
   ]
  },
  {
   "cell_type": "code",
   "execution_count": 84,
   "metadata": {},
   "outputs": [],
   "source": [
    "# df_eng.loc[(df_eng['article_new'].isin([\"article6(2)\", \"article8(2)\"]) & (df_eng['section_fin']==\"\")), 'section_fin'] = 'Conditions'"
   ]
  },
  {
   "attachments": {},
   "cell_type": "markdown",
   "metadata": {},
   "source": [
    "13. For remaining Art 6.1(b) and 8.3, Art 6.2 and 8.2 - Competitive Assessment"
   ]
  },
  {
   "cell_type": "code",
   "execution_count": 85,
   "metadata": {},
   "outputs": [],
   "source": [
    "df_eng.loc[((df_eng['article_new'].isin([\"article6(1)(b)\",\"article8(3)\",\"article6(2)\",\"article8(2)\"])) & (df_eng['section_fin']==\"\")), 'section_fin'] = 'Competitive Assessment'"
   ]
  },
  {
   "attachments": {},
   "cell_type": "markdown",
   "metadata": {},
   "source": [
    "Others - 7.3 and Referral"
   ]
  },
  {
   "cell_type": "code",
   "execution_count": 86,
   "metadata": {},
   "outputs": [],
   "source": [
    "df_eng.loc[((df_eng['article_new'].isin([\"referral\",\"article7(3)\"])) & (df_eng['section_fin']==\"\")), 'section_fin'] = 'Others'"
   ]
  },
  {
   "attachments": {},
   "cell_type": "markdown",
   "metadata": {},
   "source": [
    "DROP subheadings"
   ]
  },
  {
   "cell_type": "code",
   "execution_count": 87,
   "metadata": {},
   "outputs": [],
   "source": [
    "df_eng.loc[((df_eng['section_fin']==\"\") & (df_eng['section2']==\"\")), 'section_fin'] = 'DROP'"
   ]
  },
  {
   "cell_type": "code",
   "execution_count": 88,
   "metadata": {},
   "outputs": [],
   "source": [
    "mask_drop = df_eng['section2'].str.lower().str.contains('comp m|cash instruments|derivatives')\n",
    "df_eng['section_fin'] = np.where(mask_drop, 'DROP', df_eng['section_fin'])"
   ]
  },
  {
   "cell_type": "code",
   "execution_count": 89,
   "metadata": {},
   "outputs": [],
   "source": [
    "# drop table of contents\n",
    "# df_eng['section_fin'] = np.where(df_eng['sec_text'].str.contains('.........................'), 'DROP', df_eng['section_fin'])"
   ]
  },
  {
   "cell_type": "code",
   "execution_count": 90,
   "metadata": {},
   "outputs": [
    {
     "data": {
      "text/plain": [
       "simplified                   3210\n",
       "Concentration & Dimension    2609\n",
       "Competitive Assessment       2259\n",
       "Parties & Operation          2185\n",
       "Conclusion                   1686\n",
       "Market Definition            1069\n",
       "Conditions                    456\n",
       "Introduction/ Summary         170\n",
       "DROP                          117\n",
       "Request                       113\n",
       "Decision                      106\n",
       "Others                         83\n",
       "Monitoring                     29\n",
       "                                2\n",
       "Name: section_fin, dtype: int64"
      ]
     },
     "execution_count": 90,
     "metadata": {},
     "output_type": "execute_result"
    }
   ],
   "source": [
    "df_eng['section_fin'].value_counts()"
   ]
  },
  {
   "attachments": {},
   "cell_type": "markdown",
   "metadata": {},
   "source": [
    "#### Clean section further via sec_text"
   ]
  },
  {
   "attachments": {},
   "cell_type": "markdown",
   "metadata": {},
   "source": [
    "1. Introduction"
   ]
  },
  {
   "cell_type": "code",
   "execution_count": 91,
   "metadata": {},
   "outputs": [],
   "source": [
    "mask_int = df_eng['sec_text'].str.contains('INTRODUCTION')"
   ]
  },
  {
   "cell_type": "code",
   "execution_count": 92,
   "metadata": {},
   "outputs": [],
   "source": [
    "df_eng['section_fin'] = np.where(mask_int, 'Introduction/ Summary', df_eng['section_fin'])"
   ]
  },
  {
   "attachments": {},
   "cell_type": "markdown",
   "metadata": {},
   "source": [
    "2. Market Definition"
   ]
  },
  {
   "cell_type": "code",
   "execution_count": 93,
   "metadata": {},
   "outputs": [],
   "source": [
    "mask_def = df_eng['sec_text'].str.contains('Market definition|Market definitions|Market Definition|Market Definitions|Relevant product market|Relevant geographic market|Relevant Product Market|Relevant Geographic Market|\\\n",
    "    RELEVANT PRODUCT MARKET|RELEVANT GEOGRAPHIC MARKET|RELEVANT MARKET|Relevant Market|Relevant market|Relevant markets')"
   ]
  },
  {
   "cell_type": "code",
   "execution_count": 94,
   "metadata": {},
   "outputs": [],
   "source": [
    "df_eng['section_fin'] = np.where(mask_def, 'Market Definition', df_eng['section_fin'])"
   ]
  },
  {
   "attachments": {},
   "cell_type": "markdown",
   "metadata": {},
   "source": [
    "3. Competitive Assessment"
   ]
  },
  {
   "cell_type": "code",
   "execution_count": 95,
   "metadata": {},
   "outputs": [],
   "source": [
    "mask_comp = df_eng['sec_text'].str.contains('Competitive Assessment|Competitive assessment|Competition analysis')"
   ]
  },
  {
   "cell_type": "code",
   "execution_count": 96,
   "metadata": {},
   "outputs": [],
   "source": [
    "df_eng['section_fin'] = np.where(mask_comp, 'Competitive Assessment', df_eng['section_fin'])"
   ]
  },
  {
   "cell_type": "code",
   "execution_count": 97,
   "metadata": {},
   "outputs": [
    {
     "data": {
      "text/plain": [
       "simplified                   3208\n",
       "Concentration & Dimension    2598\n",
       "Parties & Operation          2180\n",
       "Competitive Assessment       2022\n",
       "Conclusion                   1666\n",
       "Market Definition            1345\n",
       "Conditions                    444\n",
       "Introduction/ Summary         195\n",
       "DROP                          114\n",
       "Request                       111\n",
       "Decision                      104\n",
       "Others                         78\n",
       "Monitoring                     29\n",
       "Name: section_fin, dtype: int64"
      ]
     },
     "execution_count": 97,
     "metadata": {},
     "output_type": "execute_result"
    }
   ],
   "source": [
    "df_eng['section_fin'].value_counts()"
   ]
  },
  {
   "attachments": {},
   "cell_type": "markdown",
   "metadata": {},
   "source": [
    "4. Conclusion"
   ]
  },
  {
   "cell_type": "code",
   "execution_count": 98,
   "metadata": {},
   "outputs": [],
   "source": [
    "# mask_conc = df_eng['sec_text'].str.contains('Conclusion')"
   ]
  },
  {
   "cell_type": "code",
   "execution_count": 99,
   "metadata": {},
   "outputs": [],
   "source": [
    "# df_eng['section_fin'] = np.where(mask_conc, 'Conclus', df_eng['section_fin'])"
   ]
  },
  {
   "attachments": {},
   "cell_type": "markdown",
   "metadata": {},
   "source": [
    "5. Conditions - Art 6.2 and 8.2, 8.3"
   ]
  },
  {
   "cell_type": "code",
   "execution_count": 100,
   "metadata": {},
   "outputs": [],
   "source": [
    "mask_cond = df_eng['sec_text'].str.contains('Remedies Notice|Commitments|Conditions')"
   ]
  },
  {
   "cell_type": "code",
   "execution_count": 101,
   "metadata": {},
   "outputs": [],
   "source": [
    "df_eng['section_fin'] = np.where(df_eng['article_new'].isin(['article6(2)','article8(2)','article8(3)']) & mask_cond, 'Conditions', df_eng['section_fin'])"
   ]
  },
  {
   "cell_type": "code",
   "execution_count": 102,
   "metadata": {},
   "outputs": [
    {
     "data": {
      "text/plain": [
       "Competitive Assessment       1872\n",
       "Concentration & Dimension    2596\n",
       "Conclusion                   1448\n",
       "Conditions                    947\n",
       "DROP                          114\n",
       "Decision                       77\n",
       "Introduction/ Summary         184\n",
       "Market Definition            1297\n",
       "Monitoring                      5\n",
       "Others                         78\n",
       "Parties & Operation          2168\n",
       "Request                       100\n",
       "simplified                   3208\n",
       "Name: section_fin, dtype: int64"
      ]
     },
     "execution_count": 102,
     "metadata": {},
     "output_type": "execute_result"
    }
   ],
   "source": [
    "df_eng['section_fin'].value_counts().sort_index()"
   ]
  },
  {
   "attachments": {},
   "cell_type": "markdown",
   "metadata": {},
   "source": [
    "Simplified"
   ]
  },
  {
   "cell_type": "code",
   "execution_count": 103,
   "metadata": {},
   "outputs": [],
   "source": [
    "df_eng.loc[df_eng['len_pdf'] <= 5, 'section_fin'] = 'simplified'"
   ]
  },
  {
   "cell_type": "code",
   "execution_count": 104,
   "metadata": {},
   "outputs": [],
   "source": [
    "# df_eng[df_eng['section_fin']==\"Introduction/ Summary\"][['sec_text','article_new', 'case_num']].tail(30)"
   ]
  },
  {
   "cell_type": "code",
   "execution_count": 105,
   "metadata": {},
   "outputs": [],
   "source": [
    "# print(df_eng['sec_text'][13859])"
   ]
  },
  {
   "cell_type": "code",
   "execution_count": 106,
   "metadata": {},
   "outputs": [
    {
     "data": {
      "text/plain": [
       "article6(2)    702\n",
       "article8(2)    224\n",
       "article8(3)     21\n",
       "Name: article_new, dtype: int64"
      ]
     },
     "execution_count": 106,
     "metadata": {},
     "output_type": "execute_result"
    }
   ],
   "source": [
    "df_eng[df_eng['section_fin']==\"Conditions\"]['article_new'].value_counts()"
   ]
  },
  {
   "cell_type": "code",
   "execution_count": 107,
   "metadata": {},
   "outputs": [
    {
     "data": {
      "text/plain": [
       "article_new\n",
       "article6(1)(b)    1100\n",
       "article6(2)        157\n",
       "article7(3)          2\n",
       "article8(1)         17\n",
       "article8(2)         49\n",
       "article8(3)          9\n",
       "referral            19\n",
       "Name: case_num, dtype: int64"
      ]
     },
     "execution_count": 107,
     "metadata": {},
     "output_type": "execute_result"
    }
   ],
   "source": [
    "# no of cases by article_new\n",
    "df_eng[df_eng['section_fin']==\"Competitive Assessment\"].groupby('article_new')['case_num'].nunique().sort_index()"
   ]
  },
  {
   "cell_type": "code",
   "execution_count": 108,
   "metadata": {},
   "outputs": [],
   "source": [
    "# save json file name\n",
    "date = datetime.date.today().strftime('%Y_%m_%d')\n",
    "\n",
    "file_name = f\"../../../../data/processed/df_eng_cleaned_full_{date}.json\"\n",
    "if os.path.exists(file_name):\n",
    "    os.remove(file_name)\n",
    "\n",
    "# save file as json\n",
    "df_eng.to_json(file_name)"
   ]
  },
  {
   "attachments": {},
   "cell_type": "markdown",
   "metadata": {},
   "source": [
    "### IX. Join by case_num and section"
   ]
  },
  {
   "cell_type": "code",
   "execution_count": 109,
   "metadata": {},
   "outputs": [
    {
     "data": {
      "text/plain": [
       "simplified                   3210\n",
       "Concentration & Dimension    2596\n",
       "Parties & Operation          2168\n",
       "Competitive Assessment       1872\n",
       "Conclusion                   1448\n",
       "Market Definition            1295\n",
       "Conditions                    947\n",
       "Introduction/ Summary         184\n",
       "DROP                          114\n",
       "Request                       100\n",
       "Others                         78\n",
       "Decision                       77\n",
       "Monitoring                      5\n",
       "Name: section_fin, dtype: int64"
      ]
     },
     "execution_count": 109,
     "metadata": {},
     "output_type": "execute_result"
    }
   ],
   "source": [
    "df_eng['section_fin'].value_counts()"
   ]
  },
  {
   "cell_type": "code",
   "execution_count": 110,
   "metadata": {},
   "outputs": [],
   "source": [
    "# df_eng['text_order'] = df_eng.groupby(['year', 'article_new', 'case_num', 'file', 'section_fin']).cumcount() + 1"
   ]
  },
  {
   "cell_type": "code",
   "execution_count": 111,
   "metadata": {},
   "outputs": [],
   "source": [
    "# Group the dataframe by 'case_num', 'article_new', and 'section_fin', and join the 'sec_text' column\n",
    "df_grouped = df_eng.groupby(['year', 'article_new', 'case_num', 'file', 'section_fin', 'len_pdf'])['sec_text'].agg(' '.join).reset_index()"
   ]
  },
  {
   "cell_type": "code",
   "execution_count": 112,
   "metadata": {},
   "outputs": [
    {
     "data": {
      "text/plain": [
       "article_new\n",
       "article6(1)(b)    1285\n",
       "article6(2)        212\n",
       "article7(3)         28\n",
       "article8(1)         33\n",
       "article8(2)         63\n",
       "article8(3)         10\n",
       "referral            59\n",
       "simplified        3194\n",
       "Name: case_num, dtype: int64"
      ]
     },
     "execution_count": 112,
     "metadata": {},
     "output_type": "execute_result"
    }
   ],
   "source": [
    "# no of cases by article_new\n",
    "df_grouped.groupby('article_new')['case_num'].nunique().sort_index()"
   ]
  },
  {
   "cell_type": "code",
   "execution_count": 113,
   "metadata": {},
   "outputs": [
    {
     "data": {
      "text/plain": [
       "simplified                   3194\n",
       "Concentration & Dimension    1622\n",
       "Parties & Operation          1558\n",
       "Conclusion                   1439\n",
       "Competitive Assessment       1356\n",
       "Market Definition            1088\n",
       "Conditions                    283\n",
       "Introduction/ Summary         175\n",
       "DROP                          114\n",
       "Request                        96\n",
       "Decision                       74\n",
       "Others                         38\n",
       "Monitoring                      5\n",
       "Name: section_fin, dtype: int64"
      ]
     },
     "execution_count": 113,
     "metadata": {},
     "output_type": "execute_result"
    }
   ],
   "source": [
    "df_grouped['section_fin'].value_counts()"
   ]
  },
  {
   "cell_type": "code",
   "execution_count": 114,
   "metadata": {},
   "outputs": [
    {
     "name": "stdout",
     "output_type": "stream",
     "text": [
      "<class 'pandas.core.frame.DataFrame'>\n",
      "RangeIndex: 11042 entries, 0 to 11041\n",
      "Data columns (total 7 columns):\n",
      " #   Column       Non-Null Count  Dtype  \n",
      "---  ------       --------------  -----  \n",
      " 0   year         11042 non-null  float64\n",
      " 1   article_new  11042 non-null  object \n",
      " 2   case_num     11042 non-null  object \n",
      " 3   file         11042 non-null  object \n",
      " 4   section_fin  11042 non-null  object \n",
      " 5   len_pdf      11042 non-null  int64  \n",
      " 6   sec_text     11042 non-null  object \n",
      "dtypes: float64(1), int64(1), object(5)\n",
      "memory usage: 604.0+ KB\n"
     ]
    }
   ],
   "source": [
    "df_grouped.info()"
   ]
  },
  {
   "cell_type": "code",
   "execution_count": 115,
   "metadata": {},
   "outputs": [],
   "source": [
    "# save json file name\n",
    "date = datetime.date.today().strftime('%Y_%m_%d')\n",
    "\n",
    "file_name = f\"../../../../data/processed/df_eng_grouped_full_{date}.json\"\n",
    "if os.path.exists(file_name):\n",
    "    os.remove(file_name)\n",
    "\n",
    "# save file as json\n",
    "df_grouped.to_json(file_name)"
   ]
  },
  {
   "attachments": {},
   "cell_type": "markdown",
   "metadata": {},
   "source": [
    "### VIII. Filter based on 'section'/subheading and article_new"
   ]
  },
  {
   "cell_type": "code",
   "execution_count": 116,
   "metadata": {},
   "outputs": [],
   "source": [
    "df_eng_filtered = df_grouped[(~df_grouped['article_new'].isin([\"article7(3)\"]) & \n",
    "                          ~df_grouped['section_fin'].isin([\"DROP\", \"Conclusion\", \"Decision\",\n",
    "                                                       \"Conditions\", \"Request\", \"Monitoring\",\n",
    "                                                       \"Introduction/ Summary\", \"Others\"]))]"
   ]
  },
  {
   "cell_type": "code",
   "execution_count": 117,
   "metadata": {},
   "outputs": [
    {
     "data": {
      "text/plain": [
       "simplified                   3194\n",
       "Concentration & Dimension    1602\n",
       "Parties & Operation          1532\n",
       "Competitive Assessment       1354\n",
       "Market Definition            1087\n",
       "Name: section_fin, dtype: int64"
      ]
     },
     "execution_count": 117,
     "metadata": {},
     "output_type": "execute_result"
    }
   ],
   "source": [
    "df_eng_filtered['section_fin'].value_counts()"
   ]
  },
  {
   "cell_type": "code",
   "execution_count": 118,
   "metadata": {},
   "outputs": [
    {
     "data": {
      "text/plain": [
       "article6(1)(b)    4415\n",
       "simplified        3194\n",
       "article6(2)        664\n",
       "referral           204\n",
       "article8(2)        170\n",
       "article8(1)         94\n",
       "article8(3)         28\n",
       "Name: article_new, dtype: int64"
      ]
     },
     "execution_count": 118,
     "metadata": {},
     "output_type": "execute_result"
    }
   ],
   "source": [
    "df_eng_filtered['article_new'].value_counts()"
   ]
  },
  {
   "cell_type": "code",
   "execution_count": 119,
   "metadata": {},
   "outputs": [
    {
     "data": {
      "text/plain": [
       "article_new\n",
       "article6(1)(b)    1284\n",
       "article6(2)        201\n",
       "article8(1)         32\n",
       "article8(2)         57\n",
       "article8(3)          9\n",
       "referral            59\n",
       "simplified        3194\n",
       "Name: case_num, dtype: int64"
      ]
     },
     "execution_count": 119,
     "metadata": {},
     "output_type": "execute_result"
    }
   ],
   "source": [
    "# no. of cases by article_new\n",
    "df_eng_filtered.groupby('article_new')['case_num'].nunique().sort_index()"
   ]
  },
  {
   "cell_type": "code",
   "execution_count": 120,
   "metadata": {},
   "outputs": [
    {
     "data": {
      "text/plain": [
       "Concentration & Dimension    195\n",
       "Parties & Operation          180\n",
       "Competitive Assessment       157\n",
       "Market Definition            132\n",
       "Name: section_fin, dtype: int64"
      ]
     },
     "execution_count": 120,
     "metadata": {},
     "output_type": "execute_result"
    }
   ],
   "source": [
    "df_eng_filtered[df_eng_filtered['article_new']==\"article6(2)\"]['section_fin'].value_counts()"
   ]
  },
  {
   "cell_type": "code",
   "execution_count": 121,
   "metadata": {},
   "outputs": [
    {
     "data": {
      "text/plain": [
       "article_new\n",
       "article6(1)(b)    1284\n",
       "article6(2)        201\n",
       "article8(1)         32\n",
       "article8(2)         57\n",
       "article8(3)          9\n",
       "referral            59\n",
       "simplified        3194\n",
       "Name: case_num, dtype: int64"
      ]
     },
     "execution_count": 121,
     "metadata": {},
     "output_type": "execute_result"
    }
   ],
   "source": [
    "# no. of cases by article_new\n",
    "df_eng_filtered.groupby('article_new')['case_num'].nunique().sort_index()"
   ]
  },
  {
   "cell_type": "code",
   "execution_count": 122,
   "metadata": {},
   "outputs": [
    {
     "name": "stdout",
     "output_type": "stream",
     "text": [
      "<class 'pandas.core.frame.DataFrame'>\n",
      "Int64Index: 8769 entries, 0 to 11041\n",
      "Data columns (total 7 columns):\n",
      " #   Column       Non-Null Count  Dtype  \n",
      "---  ------       --------------  -----  \n",
      " 0   year         8769 non-null   float64\n",
      " 1   article_new  8769 non-null   object \n",
      " 2   case_num     8769 non-null   object \n",
      " 3   file         8769 non-null   object \n",
      " 4   section_fin  8769 non-null   object \n",
      " 5   len_pdf      8769 non-null   int64  \n",
      " 6   sec_text     8769 non-null   object \n",
      "dtypes: float64(1), int64(1), object(5)\n",
      "memory usage: 548.1+ KB\n"
     ]
    }
   ],
   "source": [
    "df_eng_filtered.info()"
   ]
  },
  {
   "attachments": {},
   "cell_type": "markdown",
   "metadata": {},
   "source": [
    "### X. Drop unnecessary columns"
   ]
  },
  {
   "cell_type": "code",
   "execution_count": 123,
   "metadata": {},
   "outputs": [
    {
     "name": "stdout",
     "output_type": "stream",
     "text": [
      "<class 'pandas.core.frame.DataFrame'>\n",
      "Int64Index: 8769 entries, 0 to 11041\n",
      "Data columns (total 7 columns):\n",
      " #   Column       Non-Null Count  Dtype  \n",
      "---  ------       --------------  -----  \n",
      " 0   year         8769 non-null   float64\n",
      " 1   article_new  8769 non-null   object \n",
      " 2   case_num     8769 non-null   object \n",
      " 3   file         8769 non-null   object \n",
      " 4   section_fin  8769 non-null   object \n",
      " 5   len_pdf      8769 non-null   int64  \n",
      " 6   sec_text     8769 non-null   object \n",
      "dtypes: float64(1), int64(1), object(5)\n",
      "memory usage: 548.1+ KB\n"
     ]
    }
   ],
   "source": [
    "df_eng_filtered.info()"
   ]
  },
  {
   "cell_type": "code",
   "execution_count": 124,
   "metadata": {},
   "outputs": [],
   "source": [
    "# df_eng_filtered = df_eng_filtered.drop(columns=['date', 'article', 'article_txt', 'article_62', 'filename',\n",
    "#                                                 'section_text', 'bsn_act', 'simp_text','section','section2'])"
   ]
  },
  {
   "cell_type": "code",
   "execution_count": 125,
   "metadata": {},
   "outputs": [],
   "source": [
    "# save json file name\n",
    "date = datetime.date.today().strftime('%Y_%m_%d')\n",
    "\n",
    "file_name = f\"../../../../data/processed/df_eng_clean_filtered_{date}.json\"\n",
    "if os.path.exists(file_name):\n",
    "    os.remove(file_name)\n",
    "\n",
    "# save file as json\n",
    "df_eng_filtered.to_json(file_name)"
   ]
  },
  {
   "cell_type": "code",
   "execution_count": null,
   "metadata": {},
   "outputs": [],
   "source": []
  }
 ],
 "metadata": {
  "kernelspec": {
   "display_name": "thesis",
   "language": "python",
   "name": "python3"
  },
  "language_info": {
   "codemirror_mode": {
    "name": "ipython",
    "version": 3
   },
   "file_extension": ".py",
   "mimetype": "text/x-python",
   "name": "python",
   "nbconvert_exporter": "python",
   "pygments_lexer": "ipython3",
   "version": "3.10.4"
  },
  "orig_nbformat": 4,
  "vscode": {
   "interpreter": {
    "hash": "b8a34a3bb875764d64c764b9cffa891f179e7153a1578da198ecc075e870264c"
   }
  }
 },
 "nbformat": 4,
 "nbformat_minor": 2
}
