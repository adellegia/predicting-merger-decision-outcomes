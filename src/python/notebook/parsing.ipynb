{
 "cells": [
  {
   "cell_type": "code",
   "execution_count": 1,
   "metadata": {},
   "outputs": [],
   "source": [
    "# Data visualization\n",
    "import matplotlib.pyplot as plt \n",
    "\n",
    "# Data manipulation\n",
    "import pandas as pd\n",
    "import numpy as np\n",
    "import csv\n",
    "from zipfile import ZipFile"
   ]
  },
  {
   "cell_type": "code",
   "execution_count": 2,
   "metadata": {},
   "outputs": [],
   "source": [
    "# Webscraping\n",
    "import glob\n",
    "import requests\n",
    "from bs4 import BeautifulSoup\n",
    "import time\n",
    "import datetime\n",
    "from pandas.core.common import flatten\n",
    "import os\n",
    "from itertools import chain\n",
    "from tqdm import tqdm\n",
    "import json\n",
    "import urllib.request"
   ]
  },
  {
   "cell_type": "code",
   "execution_count": 3,
   "metadata": {},
   "outputs": [],
   "source": [
    "# Parsing and pre-processing\n",
    "from glob import glob\n",
    "import os \n",
    "import re\n",
    "\n",
    "from pdfminer.high_level import extract_text\n",
    "import pdfplumber\n",
    "from langdetect import detect, DetectorFactory\n",
    "\n",
    "import nltk\n",
    "from nltk.corpus import stopwords\n",
    "from nltk.tokenize import sent_tokenize, word_tokenize\n",
    "from string import punctuation\n",
    "from nltk.stem.porter import PorterStemmer\n",
    "from nltk.stem import WordNetLemmatizer"
   ]
  },
  {
   "cell_type": "code",
   "execution_count": 4,
   "metadata": {},
   "outputs": [],
   "source": [
    "import sys\n",
    "sys.path.append(f'../../python')\n",
    "from scraper import createFolder, get_merger_links, download_pdf, get_merger_info, parse_pdf"
   ]
  },
  {
   "cell_type": "code",
   "execution_count": 5,
   "metadata": {},
   "outputs": [],
   "source": [
    "pdf_dir = f\"../../../data/pdfs/\"\n",
    "art8_1_pdf_list = glob(os.path.join(pdf_dir, \"art8.1/*/*.pdf\")) #36\n",
    "art8_1_pdf_list.sort(key=lambda x: os.path.getctime(x))\n",
    "\n",
    "art8_2_pdf_list = glob(os.path.join(pdf_dir, \"art8.2/*/*.pdf\")) #72\n",
    "art8_2_pdf_list.sort(key=lambda x: os.path.getctime(x))\n",
    "\n",
    "art8_3_pdf_list = glob(os.path.join(pdf_dir, \"art8.3/*/*.pdf\")) #14\n",
    "art8_3_pdf_list.sort(key=lambda x: os.path.getctime(x))\n",
    "\n",
    "art6_1_pdf_list = glob(os.path.join(pdf_dir, \"art6.1/*/*.pdf\"))\n",
    "art6_1_pdf_list.sort(key=lambda x: os.path.getctime(x))\n",
    "\n",
    "art6_0_pdf_list = glob(os.path.join(pdf_dir, \"art6.0/*/*.pdf\"))\n",
    "art6_0_pdf_list.sort(key=lambda x: os.path.getctime(x))\n",
    "\n",
    "art9_3_pdf_list = glob(os.path.join(pdf_dir, \"art9.3/*/*.pdf\"))\n",
    "art9_3_pdf_list.sort(key=lambda x: os.path.getctime(x))\n"
   ]
  },
  {
   "attachments": {},
   "cell_type": "markdown",
   "metadata": {},
   "source": [
    "#### Article 8.1 (36 cases)"
   ]
  },
  {
   "cell_type": "code",
   "execution_count": 14,
   "metadata": {},
   "outputs": [
    {
     "name": "stderr",
     "output_type": "stream",
     "text": [
      "100%|██████████| 47/47 [08:59<00:00, 11.48s/it]\n"
     ]
    }
   ],
   "source": [
    "df1=parse_pdf(art8_1_pdf_list)"
   ]
  },
  {
   "cell_type": "code",
   "execution_count": 15,
   "metadata": {},
   "outputs": [],
   "source": [
    "# save json file name\n",
    "date = datetime.date.today().strftime('%Y_%m_%d')\n",
    "\n",
    "file_name = f\"../../../data/parsed/parsed_art8.1_{date}.json\"\n",
    "if os.path.exists(file_name):\n",
    "    os.remove(file_name)\n",
    "\n",
    "# save file as json\n",
    "df1.to_json(file_name)"
   ]
  },
  {
   "attachments": {},
   "cell_type": "markdown",
   "metadata": {},
   "source": [
    "#### Article 8.2 (73 cases)"
   ]
  },
  {
   "cell_type": "code",
   "execution_count": 14,
   "metadata": {},
   "outputs": [],
   "source": [
    "# create dataframe\n",
    "df_82 = pd.DataFrame(art8_2_pdf_list, columns = ['pdf_file'])\n",
    "\n",
    "df_82['id'] = df_82.index\n",
    "df_82['batch'] = ((df_82['id'])/100).astype(int)"
   ]
  },
  {
   "cell_type": "code",
   "execution_count": 15,
   "metadata": {},
   "outputs": [
    {
     "data": {
      "text/plain": [
       "0    100\n",
       "1     14\n",
       "Name: batch, dtype: int64"
      ]
     },
     "execution_count": 15,
     "metadata": {},
     "output_type": "execute_result"
    }
   ],
   "source": [
    "df_82['batch'].value_counts()"
   ]
  },
  {
   "cell_type": "code",
   "execution_count": 16,
   "metadata": {},
   "outputs": [
    {
     "name": "stderr",
     "output_type": "stream",
     "text": [
      "  4%|▍         | 4/100 [01:24<33:54, 21.20s/it]\n",
      "  4%|▍         | 4/100 [01:24<33:54, 21.19s/it]\n"
     ]
    },
    {
     "ename": "KeyboardInterrupt",
     "evalue": "",
     "output_type": "error",
     "traceback": [
      "\u001b[1;31m---------------------------------------------------------------------------\u001b[0m",
      "\u001b[1;31mKeyboardInterrupt\u001b[0m                         Traceback (most recent call last)",
      "Cell \u001b[1;32mIn[16], line 3\u001b[0m\n\u001b[0;32m      1\u001b[0m \u001b[39m# parse pdf\u001b[39;00m\n\u001b[0;32m      2\u001b[0m \u001b[39mfor\u001b[39;00m i \u001b[39min\u001b[39;00m \u001b[39mrange\u001b[39m(\u001b[39m0\u001b[39m,\u001b[39m2\u001b[39m): \u001b[39m# 0-1\u001b[39;00m\n\u001b[1;32m----> 3\u001b[0m     \u001b[39mglobals\u001b[39m()[\u001b[39mf\u001b[39m\u001b[39m'\u001b[39m\u001b[39mdf_8.2_\u001b[39m\u001b[39m{\u001b[39;00mi\u001b[39m}\u001b[39;00m\u001b[39m'\u001b[39m] \u001b[39m=\u001b[39m parse_pdf(tqdm(df_82[df_82[\u001b[39m'\u001b[39;49m\u001b[39mbatch\u001b[39;49m\u001b[39m'\u001b[39;49m]\u001b[39m==\u001b[39;49mi][\u001b[39m'\u001b[39;49m\u001b[39mpdf_file\u001b[39;49m\u001b[39m'\u001b[39;49m]))\n\u001b[0;32m      4\u001b[0m     \u001b[39mprint\u001b[39m(\u001b[39m\"\u001b[39m\u001b[39mBatch \u001b[39m\u001b[39m{}\u001b[39;00m\u001b[39m completed\u001b[39m\u001b[39m\"\u001b[39m\u001b[39m.\u001b[39mformat(i))\n\u001b[0;32m      6\u001b[0m     \u001b[39m# save json file name\u001b[39;00m\n",
      "File \u001b[1;32md:\\Desktop\\Thesis\\predicting-merger-decision-outcomes\\src\\python\\notebook\\../../python\\scraper.py:261\u001b[0m, in \u001b[0;36mparse_pdf\u001b[1;34m(pdf_list)\u001b[0m\n\u001b[0;32m    259\u001b[0m \u001b[39mfor\u001b[39;00m i \u001b[39min\u001b[39;00m \u001b[39mrange\u001b[39m(\u001b[39mlen\u001b[39m(pdf\u001b[39m.\u001b[39mpages)):\n\u001b[0;32m    260\u001b[0m     page \u001b[39m=\u001b[39m pdf\u001b[39m.\u001b[39mpages[i]\n\u001b[1;32m--> 261\u001b[0m     page_text \u001b[39m=\u001b[39m page\u001b[39m.\u001b[39;49mextract_text()\n\u001b[0;32m    262\u001b[0m     text\u001b[39m.\u001b[39mappend(page_text)\n\u001b[0;32m    263\u001b[0m text \u001b[39m=\u001b[39m \u001b[39m'\u001b[39m\u001b[39m \u001b[39m\u001b[39m'\u001b[39m\u001b[39m.\u001b[39mjoin(text)\n",
      "File \u001b[1;32mc:\\Users\\admin\\anaconda3\\envs\\thesis\\lib\\site-packages\\pdfplumber\\page.py:329\u001b[0m, in \u001b[0;36mPage.extract_text\u001b[1;34m(self, **kwargs)\u001b[0m\n\u001b[0;32m    327\u001b[0m     \u001b[39mreturn\u001b[39;00m text_layout\u001b[39m.\u001b[39mto_string()\n\u001b[0;32m    328\u001b[0m \u001b[39melse\u001b[39;00m:\n\u001b[1;32m--> 329\u001b[0m     \u001b[39mreturn\u001b[39;00m utils\u001b[39m.\u001b[39mextract_text(\u001b[39mself\u001b[39;49m\u001b[39m.\u001b[39;49mchars, \u001b[39m*\u001b[39m\u001b[39m*\u001b[39mkwargs)\n",
      "File \u001b[1;32mc:\\Users\\admin\\anaconda3\\envs\\thesis\\lib\\site-packages\\pdfplumber\\container.py:50\u001b[0m, in \u001b[0;36mContainer.chars\u001b[1;34m(self)\u001b[0m\n\u001b[0;32m     48\u001b[0m \u001b[39m@property\u001b[39m\n\u001b[0;32m     49\u001b[0m \u001b[39mdef\u001b[39;00m \u001b[39mchars\u001b[39m(\u001b[39mself\u001b[39m) \u001b[39m-\u001b[39m\u001b[39m>\u001b[39m T_obj_list:\n\u001b[1;32m---> 50\u001b[0m     \u001b[39mreturn\u001b[39;00m \u001b[39mself\u001b[39;49m\u001b[39m.\u001b[39;49mobjects\u001b[39m.\u001b[39mget(\u001b[39m\"\u001b[39m\u001b[39mchar\u001b[39m\u001b[39m\"\u001b[39m, [])\n",
      "File \u001b[1;32mc:\\Users\\admin\\anaconda3\\envs\\thesis\\lib\\site-packages\\pdfplumber\\page.py:196\u001b[0m, in \u001b[0;36mPage.objects\u001b[1;34m(self)\u001b[0m\n\u001b[0;32m    194\u001b[0m \u001b[39mif\u001b[39;00m \u001b[39mhasattr\u001b[39m(\u001b[39mself\u001b[39m, \u001b[39m\"\u001b[39m\u001b[39m_objects\u001b[39m\u001b[39m\"\u001b[39m):\n\u001b[0;32m    195\u001b[0m     \u001b[39mreturn\u001b[39;00m \u001b[39mself\u001b[39m\u001b[39m.\u001b[39m_objects\n\u001b[1;32m--> 196\u001b[0m \u001b[39mself\u001b[39m\u001b[39m.\u001b[39m_objects: Dict[\u001b[39mstr\u001b[39m, T_obj_list] \u001b[39m=\u001b[39m \u001b[39mself\u001b[39;49m\u001b[39m.\u001b[39;49mparse_objects()\n\u001b[0;32m    197\u001b[0m \u001b[39mreturn\u001b[39;00m \u001b[39mself\u001b[39m\u001b[39m.\u001b[39m_objects\n",
      "File \u001b[1;32mc:\\Users\\admin\\anaconda3\\envs\\thesis\\lib\\site-packages\\pdfplumber\\page.py:254\u001b[0m, in \u001b[0;36mPage.parse_objects\u001b[1;34m(self)\u001b[0m\n\u001b[0;32m    252\u001b[0m \u001b[39mdef\u001b[39;00m \u001b[39mparse_objects\u001b[39m(\u001b[39mself\u001b[39m) \u001b[39m-\u001b[39m\u001b[39m>\u001b[39m Dict[\u001b[39mstr\u001b[39m, T_obj_list]:\n\u001b[0;32m    253\u001b[0m     objects: Dict[\u001b[39mstr\u001b[39m, T_obj_list] \u001b[39m=\u001b[39m {}\n\u001b[1;32m--> 254\u001b[0m     \u001b[39mfor\u001b[39;00m obj \u001b[39min\u001b[39;00m \u001b[39mself\u001b[39m\u001b[39m.\u001b[39miter_layout_objects(\u001b[39mself\u001b[39m\u001b[39m.\u001b[39mlayout\u001b[39m.\u001b[39m_objs):\n\u001b[0;32m    255\u001b[0m         kind \u001b[39m=\u001b[39m obj[\u001b[39m\"\u001b[39m\u001b[39mobject_type\u001b[39m\u001b[39m\"\u001b[39m]\n\u001b[0;32m    256\u001b[0m         \u001b[39mif\u001b[39;00m kind \u001b[39min\u001b[39;00m [\u001b[39m\"\u001b[39m\u001b[39manno\u001b[39m\u001b[39m\"\u001b[39m]:\n",
      "File \u001b[1;32mc:\\Users\\admin\\anaconda3\\envs\\thesis\\lib\\site-packages\\pdfplumber\\page.py:250\u001b[0m, in \u001b[0;36mPage.iter_layout_objects\u001b[1;34m(self, layout_objects)\u001b[0m\n\u001b[0;32m    248\u001b[0m     \u001b[39myield from\u001b[39;00m \u001b[39mself\u001b[39m\u001b[39m.\u001b[39miter_layout_objects(obj\u001b[39m.\u001b[39m_objs)\n\u001b[0;32m    249\u001b[0m \u001b[39melse\u001b[39;00m:\n\u001b[1;32m--> 250\u001b[0m     \u001b[39myield\u001b[39;00m \u001b[39mself\u001b[39;49m\u001b[39m.\u001b[39;49mprocess_object(obj)\n",
      "File \u001b[1;32mc:\\Users\\admin\\anaconda3\\envs\\thesis\\lib\\site-packages\\pdfplumber\\page.py:210\u001b[0m, in \u001b[0;36mPage.process_object\u001b[1;34m(self, obj)\u001b[0m\n\u001b[0;32m    207\u001b[0m     \u001b[39melse\u001b[39;00m:\n\u001b[0;32m    208\u001b[0m         \u001b[39mreturn\u001b[39;00m \u001b[39mNone\u001b[39;00m\n\u001b[1;32m--> 210\u001b[0m attr \u001b[39m=\u001b[39m \u001b[39mdict\u001b[39;49m(\u001b[39mfilter\u001b[39;49m(\u001b[39mNone\u001b[39;49;00m, \u001b[39mmap\u001b[39;49m(process_attr, obj\u001b[39m.\u001b[39;49m\u001b[39m__dict__\u001b[39;49m\u001b[39m.\u001b[39;49mitems())))\n\u001b[0;32m    212\u001b[0m attr[\u001b[39m\"\u001b[39m\u001b[39mobject_type\u001b[39m\u001b[39m\"\u001b[39m] \u001b[39m=\u001b[39m kind\n\u001b[0;32m    213\u001b[0m attr[\u001b[39m\"\u001b[39m\u001b[39mpage_number\u001b[39m\u001b[39m\"\u001b[39m] \u001b[39m=\u001b[39m \u001b[39mself\u001b[39m\u001b[39m.\u001b[39mpage_number\n",
      "File \u001b[1;32mc:\\Users\\admin\\anaconda3\\envs\\thesis\\lib\\site-packages\\pdfplumber\\page.py:205\u001b[0m, in \u001b[0;36mPage.process_object.<locals>.process_attr\u001b[1;34m(item)\u001b[0m\n\u001b[0;32m    203\u001b[0m k, v \u001b[39m=\u001b[39m item\n\u001b[0;32m    204\u001b[0m \u001b[39mif\u001b[39;00m k \u001b[39min\u001b[39;00m ALL_ATTRS:\n\u001b[1;32m--> 205\u001b[0m     res \u001b[39m=\u001b[39m resolve_all(v)\n\u001b[0;32m    206\u001b[0m     \u001b[39mreturn\u001b[39;00m (k, res)\n\u001b[0;32m    207\u001b[0m \u001b[39melse\u001b[39;00m:\n",
      "File \u001b[1;32mc:\\Users\\admin\\anaconda3\\envs\\thesis\\lib\\site-packages\\pdfplumber\\utils.py:154\u001b[0m, in \u001b[0;36mresolve_all\u001b[1;34m(x)\u001b[0m\n\u001b[0;32m    151\u001b[0m         \u001b[39mreturn\u001b[39;00m x\n\u001b[0;32m    153\u001b[0m     \u001b[39mreturn\u001b[39;00m resolve_all(resolved)\n\u001b[1;32m--> 154\u001b[0m \u001b[39melif\u001b[39;00m \u001b[39misinstance\u001b[39m(x, (\u001b[39mlist\u001b[39m, \u001b[39mtuple\u001b[39m)):\n\u001b[0;32m    155\u001b[0m     \u001b[39mreturn\u001b[39;00m \u001b[39mtype\u001b[39m(x)(resolve_all(v) \u001b[39mfor\u001b[39;00m v \u001b[39min\u001b[39;00m x)\n\u001b[0;32m    156\u001b[0m \u001b[39melif\u001b[39;00m \u001b[39misinstance\u001b[39m(x, \u001b[39mdict\u001b[39m):\n",
      "\u001b[1;31mKeyboardInterrupt\u001b[0m: "
     ]
    }
   ],
   "source": [
    "# parse pdf\n",
    "for i in range(0,2): # 0-1\n",
    "    globals()[f'df_8.2_{i}'] = parse_pdf(tqdm(df_82[df_82['batch']==i]['pdf_file']))\n",
    "    print(\"Batch {} completed\".format(i))\n",
    "\n",
    "    # save json file name\n",
    "    date = datetime.date.today().strftime('%Y_%m_%d')\n",
    "\n",
    "    file_name = f\"../../../data/parsed/parsed_art8.2_batch{i}_{date}.json\"\n",
    "    if os.path.exists(file_name):\n",
    "        os.remove(file_name)\n",
    "\n",
    "    # save file as json\n",
    "    globals()[f'df_8.2_{i}'].to_json(file_name)"
   ]
  },
  {
   "attachments": {},
   "cell_type": "markdown",
   "metadata": {},
   "source": [
    "#### Article 8.3 (13 cases)"
   ]
  },
  {
   "cell_type": "code",
   "execution_count": 6,
   "metadata": {},
   "outputs": [
    {
     "name": "stderr",
     "output_type": "stream",
     "text": [
      "100%|██████████| 14/14 [11:28<00:00, 49.21s/it]\n"
     ]
    }
   ],
   "source": [
    "df3 = parse_pdf(art8_3_pdf_list)"
   ]
  },
  {
   "cell_type": "code",
   "execution_count": 13,
   "metadata": {},
   "outputs": [],
   "source": [
    "# save json file name\n",
    "date = datetime.date.today().strftime('%Y_%m_%d')\n",
    "\n",
    "file_name = f\"../../../data/parsed/parsed_art8.3_{date}.json\"\n",
    "if os.path.exists(file_name):\n",
    "    os.remove(file_name)\n",
    "\n",
    "# save file as json\n",
    "df3.to_json(file_name)"
   ]
  },
  {
   "attachments": {},
   "cell_type": "markdown",
   "metadata": {},
   "source": [
    "#### Article 6.1(b)_cc (240 cases)"
   ]
  },
  {
   "cell_type": "code",
   "execution_count": 6,
   "metadata": {},
   "outputs": [],
   "source": [
    "# create dataframe\n",
    "df_61 = pd.DataFrame(art6_1_pdf_list, columns = ['pdf_file'])\n",
    "\n",
    "df_61['id'] = df_61.index\n",
    "df_61['batch'] = ((df_61['id'])/100).astype(int)"
   ]
  },
  {
   "cell_type": "code",
   "execution_count": 12,
   "metadata": {},
   "outputs": [
    {
     "data": {
      "text/plain": [
       "0    100\n",
       "1    100\n",
       "2    100\n",
       "3     59\n",
       "Name: batch, dtype: int64"
      ]
     },
     "execution_count": 12,
     "metadata": {},
     "output_type": "execute_result"
    }
   ],
   "source": [
    "df_61['batch'].value_counts()"
   ]
  },
  {
   "cell_type": "code",
   "execution_count": 7,
   "metadata": {},
   "outputs": [
    {
     "name": "stderr",
     "output_type": "stream",
     "text": [
      "100%|██████████| 100/100 [10:03<00:00,  6.03s/it]\n",
      "100%|██████████| 100/100 [10:03<00:00,  6.03s/it]\n"
     ]
    },
    {
     "name": "stdout",
     "output_type": "stream",
     "text": [
      "Batch 0 completed\n"
     ]
    },
    {
     "name": "stderr",
     "output_type": "stream",
     "text": [
      "100%|██████████| 100/100 [13:46<00:00,  8.27s/it]\n",
      "100%|██████████| 100/100 [13:46<00:00,  8.27s/it]\n"
     ]
    },
    {
     "name": "stdout",
     "output_type": "stream",
     "text": [
      "Batch 1 completed\n"
     ]
    },
    {
     "name": "stderr",
     "output_type": "stream",
     "text": [
      "100%|██████████| 100/100 [12:28<00:00,  7.48s/it]\n",
      "100%|██████████| 100/100 [12:28<00:00,  7.48s/it]\n"
     ]
    },
    {
     "name": "stdout",
     "output_type": "stream",
     "text": [
      "Batch 2 completed\n"
     ]
    },
    {
     "name": "stderr",
     "output_type": "stream",
     "text": [
      "100%|██████████| 59/59 [06:51<00:00,  6.97s/it]\n",
      "100%|██████████| 59/59 [06:51<00:00,  6.97s/it]"
     ]
    },
    {
     "name": "stdout",
     "output_type": "stream",
     "text": [
      "Batch 3 completed\n"
     ]
    },
    {
     "name": "stderr",
     "output_type": "stream",
     "text": [
      "\n"
     ]
    }
   ],
   "source": [
    "# parse pdf\n",
    "for i in range(0,4): # 0-3\n",
    "    globals()[f'df_6.1_{i}'] = parse_pdf(tqdm(df_61[df_61['batch']==i]['pdf_file']))\n",
    "    print(\"Batch {} completed\".format(i))\n",
    "\n",
    "    # save json file name\n",
    "    date = datetime.date.today().strftime('%Y_%m_%d')\n",
    "\n",
    "    file_name = f\"../../../data/parsed/parsed_art6.1_batch{i}_{date}.json\"\n",
    "    if os.path.exists(file_name):\n",
    "        os.remove(file_name)\n",
    "\n",
    "    # save file as json\n",
    "    globals()[f'df_6.1_{i}'].to_json(file_name)"
   ]
  },
  {
   "attachments": {},
   "cell_type": "markdown",
   "metadata": {},
   "source": [
    "#### Article 6(b)_uc (5734 cases)"
   ]
  },
  {
   "cell_type": "code",
   "execution_count": 11,
   "metadata": {},
   "outputs": [],
   "source": [
    "# create dataframe\n",
    "df_60 = pd.DataFrame(art6_0_pdf_list, columns = ['pdf_file'])\n",
    "\n",
    "df_60['id'] = df_60.index\n",
    "df_60['batch'] = ((df_60['id'])/100).astype(int)"
   ]
  },
  {
   "cell_type": "code",
   "execution_count": 12,
   "metadata": {},
   "outputs": [
    {
     "name": "stdout",
     "output_type": "stream",
     "text": [
      "<class 'pandas.core.frame.DataFrame'>\n",
      "RangeIndex: 4908 entries, 0 to 4907\n",
      "Data columns (total 3 columns):\n",
      " #   Column    Non-Null Count  Dtype \n",
      "---  ------    --------------  ----- \n",
      " 0   pdf_file  4908 non-null   object\n",
      " 1   id        4908 non-null   int64 \n",
      " 2   batch     4908 non-null   int32 \n",
      "dtypes: int32(1), int64(1), object(1)\n",
      "memory usage: 96.0+ KB\n"
     ]
    }
   ],
   "source": [
    "df_60.info()"
   ]
  },
  {
   "cell_type": "code",
   "execution_count": 13,
   "metadata": {},
   "outputs": [
    {
     "data": {
      "text/plain": [
       "0     100\n",
       "37    100\n",
       "27    100\n",
       "28    100\n",
       "29    100\n",
       "30    100\n",
       "31    100\n",
       "32    100\n",
       "33    100\n",
       "34    100\n",
       "35    100\n",
       "36    100\n",
       "38    100\n",
       "1     100\n",
       "39    100\n",
       "40    100\n",
       "41    100\n",
       "42    100\n",
       "43    100\n",
       "44    100\n",
       "45    100\n",
       "46    100\n",
       "47    100\n",
       "48    100\n",
       "26    100\n",
       "25    100\n",
       "24    100\n",
       "23    100\n",
       "2     100\n",
       "3     100\n",
       "4     100\n",
       "5     100\n",
       "6     100\n",
       "7     100\n",
       "8     100\n",
       "9     100\n",
       "10    100\n",
       "11    100\n",
       "12    100\n",
       "13    100\n",
       "14    100\n",
       "15    100\n",
       "16    100\n",
       "17    100\n",
       "18    100\n",
       "19    100\n",
       "20    100\n",
       "21    100\n",
       "22    100\n",
       "49      8\n",
       "Name: batch, dtype: int64"
      ]
     },
     "execution_count": 13,
     "metadata": {},
     "output_type": "execute_result"
    }
   ],
   "source": [
    "df_60['batch'].value_counts()"
   ]
  },
  {
   "cell_type": "code",
   "execution_count": 12,
   "metadata": {},
   "outputs": [
    {
     "name": "stderr",
     "output_type": "stream",
     "text": [
      "100%|██████████| 100/100 [01:25<00:00,  1.18it/s]\n",
      "100%|██████████| 100/100 [01:25<00:00,  1.18it/s]\n"
     ]
    },
    {
     "name": "stdout",
     "output_type": "stream",
     "text": [
      "Batch 0 completed\n"
     ]
    },
    {
     "name": "stderr",
     "output_type": "stream",
     "text": [
      "100%|██████████| 100/100 [01:38<00:00,  1.02it/s]\n",
      "100%|██████████| 100/100 [01:38<00:00,  1.02it/s]\n"
     ]
    },
    {
     "name": "stdout",
     "output_type": "stream",
     "text": [
      "Batch 1 completed\n"
     ]
    },
    {
     "name": "stderr",
     "output_type": "stream",
     "text": [
      "100%|██████████| 100/100 [01:04<00:00,  1.55it/s]\n",
      "100%|██████████| 100/100 [01:04<00:00,  1.55it/s]\n"
     ]
    },
    {
     "name": "stdout",
     "output_type": "stream",
     "text": [
      "Batch 2 completed\n"
     ]
    },
    {
     "name": "stderr",
     "output_type": "stream",
     "text": [
      "100%|██████████| 100/100 [03:37<00:00,  2.17s/it]\n",
      "100%|██████████| 100/100 [03:36<00:00,  2.17s/it]\n"
     ]
    },
    {
     "name": "stdout",
     "output_type": "stream",
     "text": [
      "Batch 3 completed\n"
     ]
    },
    {
     "name": "stderr",
     "output_type": "stream",
     "text": [
      "100%|██████████| 100/100 [02:26<00:00,  1.46s/it]\n",
      "100%|██████████| 100/100 [02:26<00:00,  1.46s/it]\n"
     ]
    },
    {
     "name": "stdout",
     "output_type": "stream",
     "text": [
      "Batch 4 completed\n"
     ]
    },
    {
     "name": "stderr",
     "output_type": "stream",
     "text": [
      "100%|██████████| 100/100 [02:50<00:00,  1.70s/it]\n",
      "100%|██████████| 100/100 [02:50<00:00,  1.70s/it]\n"
     ]
    },
    {
     "name": "stdout",
     "output_type": "stream",
     "text": [
      "Batch 5 completed\n"
     ]
    },
    {
     "name": "stderr",
     "output_type": "stream",
     "text": [
      "100%|██████████| 100/100 [02:21<00:00,  1.41s/it]\n",
      "100%|██████████| 100/100 [02:21<00:00,  1.41s/it]\n"
     ]
    },
    {
     "name": "stdout",
     "output_type": "stream",
     "text": [
      "Batch 6 completed\n"
     ]
    },
    {
     "name": "stderr",
     "output_type": "stream",
     "text": [
      "100%|██████████| 100/100 [01:32<00:00,  1.08it/s]\n",
      "100%|██████████| 100/100 [01:32<00:00,  1.08it/s]\n"
     ]
    },
    {
     "name": "stdout",
     "output_type": "stream",
     "text": [
      "Batch 7 completed\n"
     ]
    },
    {
     "name": "stderr",
     "output_type": "stream",
     "text": [
      "100%|██████████| 100/100 [01:28<00:00,  1.13it/s]\n",
      "100%|██████████| 100/100 [01:28<00:00,  1.13it/s]\n"
     ]
    },
    {
     "name": "stdout",
     "output_type": "stream",
     "text": [
      "Batch 8 completed\n"
     ]
    },
    {
     "name": "stderr",
     "output_type": "stream",
     "text": [
      "100%|██████████| 100/100 [00:44<00:00,  2.25it/s]\n",
      "100%|██████████| 100/100 [00:44<00:00,  2.25it/s]\n"
     ]
    },
    {
     "name": "stdout",
     "output_type": "stream",
     "text": [
      "Batch 9 completed\n"
     ]
    },
    {
     "name": "stderr",
     "output_type": "stream",
     "text": [
      "100%|██████████| 100/100 [00:52<00:00,  1.92it/s]\n",
      "100%|██████████| 100/100 [00:52<00:00,  1.92it/s]\n"
     ]
    },
    {
     "name": "stdout",
     "output_type": "stream",
     "text": [
      "Batch 10 completed\n"
     ]
    },
    {
     "name": "stderr",
     "output_type": "stream",
     "text": [
      "100%|██████████| 100/100 [01:45<00:00,  1.06s/it]\n",
      "100%|██████████| 100/100 [01:45<00:00,  1.06s/it]\n"
     ]
    },
    {
     "name": "stdout",
     "output_type": "stream",
     "text": [
      "Batch 11 completed\n"
     ]
    },
    {
     "name": "stderr",
     "output_type": "stream",
     "text": [
      "100%|██████████| 100/100 [00:58<00:00,  1.70it/s]\n",
      "100%|██████████| 100/100 [00:58<00:00,  1.70it/s]\n"
     ]
    },
    {
     "name": "stdout",
     "output_type": "stream",
     "text": [
      "Batch 12 completed\n"
     ]
    },
    {
     "name": "stderr",
     "output_type": "stream",
     "text": [
      "100%|██████████| 100/100 [01:00<00:00,  1.65it/s]\n",
      "100%|██████████| 100/100 [01:00<00:00,  1.65it/s]\n"
     ]
    },
    {
     "name": "stdout",
     "output_type": "stream",
     "text": [
      "Batch 13 completed\n"
     ]
    },
    {
     "name": "stderr",
     "output_type": "stream",
     "text": [
      "100%|██████████| 100/100 [00:55<00:00,  1.79it/s]\n",
      "100%|██████████| 100/100 [00:55<00:00,  1.79it/s]\n"
     ]
    },
    {
     "name": "stdout",
     "output_type": "stream",
     "text": [
      "Batch 14 completed\n"
     ]
    },
    {
     "name": "stderr",
     "output_type": "stream",
     "text": [
      "100%|██████████| 100/100 [02:10<00:00,  1.30s/it]\n",
      "100%|██████████| 100/100 [02:10<00:00,  1.30s/it]\n"
     ]
    },
    {
     "name": "stdout",
     "output_type": "stream",
     "text": [
      "Batch 15 completed\n"
     ]
    },
    {
     "name": "stderr",
     "output_type": "stream",
     "text": [
      "100%|██████████| 100/100 [00:56<00:00,  1.76it/s]\n",
      "100%|██████████| 100/100 [00:56<00:00,  1.76it/s]\n"
     ]
    },
    {
     "name": "stdout",
     "output_type": "stream",
     "text": [
      "Batch 16 completed\n"
     ]
    },
    {
     "name": "stderr",
     "output_type": "stream",
     "text": [
      "100%|██████████| 100/100 [00:55<00:00,  1.81it/s]\n",
      "100%|██████████| 100/100 [00:55<00:00,  1.81it/s]\n"
     ]
    },
    {
     "name": "stdout",
     "output_type": "stream",
     "text": [
      "Batch 17 completed\n"
     ]
    },
    {
     "name": "stderr",
     "output_type": "stream",
     "text": [
      "100%|██████████| 100/100 [00:59<00:00,  1.68it/s]\n",
      "100%|██████████| 100/100 [00:59<00:00,  1.68it/s]\n"
     ]
    },
    {
     "name": "stdout",
     "output_type": "stream",
     "text": [
      "Batch 18 completed\n"
     ]
    },
    {
     "name": "stderr",
     "output_type": "stream",
     "text": [
      "100%|██████████| 100/100 [01:49<00:00,  1.09s/it]\n",
      "100%|██████████| 100/100 [01:49<00:00,  1.09s/it]\n"
     ]
    },
    {
     "name": "stdout",
     "output_type": "stream",
     "text": [
      "Batch 19 completed\n"
     ]
    },
    {
     "name": "stderr",
     "output_type": "stream",
     "text": [
      "100%|██████████| 100/100 [01:04<00:00,  1.54it/s]\n",
      "100%|██████████| 100/100 [01:04<00:00,  1.54it/s]\n"
     ]
    },
    {
     "name": "stdout",
     "output_type": "stream",
     "text": [
      "Batch 20 completed\n"
     ]
    },
    {
     "name": "stderr",
     "output_type": "stream",
     "text": [
      "100%|██████████| 100/100 [00:58<00:00,  1.71it/s]\n",
      "100%|██████████| 100/100 [00:58<00:00,  1.71it/s]\n"
     ]
    },
    {
     "name": "stdout",
     "output_type": "stream",
     "text": [
      "Batch 21 completed\n"
     ]
    },
    {
     "name": "stderr",
     "output_type": "stream",
     "text": [
      "100%|██████████| 100/100 [01:00<00:00,  1.66it/s]\n",
      "100%|██████████| 100/100 [01:00<00:00,  1.66it/s]\n"
     ]
    },
    {
     "name": "stdout",
     "output_type": "stream",
     "text": [
      "Batch 22 completed\n"
     ]
    },
    {
     "name": "stderr",
     "output_type": "stream",
     "text": [
      " 41%|████      | 41/100 [00:45<01:05,  1.11s/it]\n",
      " 41%|████      | 41/100 [00:45<01:05,  1.11s/it]\n"
     ]
    },
    {
     "ename": "PSEOF",
     "evalue": "Unexpected EOF",
     "output_type": "error",
     "traceback": [
      "\u001b[1;31m---------------------------------------------------------------------------\u001b[0m",
      "\u001b[1;31mPDFNoValidXRef\u001b[0m                            Traceback (most recent call last)",
      "File \u001b[1;32mc:\\Users\\admin\\anaconda3\\envs\\thesis\\lib\\site-packages\\pdfminer\\pdfdocument.py:722\u001b[0m, in \u001b[0;36mPDFDocument.__init__\u001b[1;34m(self, parser, password, caching, fallback)\u001b[0m\n\u001b[0;32m    721\u001b[0m     pos \u001b[39m=\u001b[39m \u001b[39mself\u001b[39m\u001b[39m.\u001b[39mfind_xref(parser)\n\u001b[1;32m--> 722\u001b[0m     \u001b[39mself\u001b[39;49m\u001b[39m.\u001b[39;49mread_xref_from(parser, pos, \u001b[39mself\u001b[39;49m\u001b[39m.\u001b[39;49mxrefs)\n\u001b[0;32m    723\u001b[0m \u001b[39mexcept\u001b[39;00m PDFNoValidXRef:\n",
      "File \u001b[1;32mc:\\Users\\admin\\anaconda3\\envs\\thesis\\lib\\site-packages\\pdfminer\\pdfdocument.py:1000\u001b[0m, in \u001b[0;36mPDFDocument.read_xref_from\u001b[1;34m(self, parser, start, xrefs)\u001b[0m\n\u001b[0;32m    999\u001b[0m     xref: PDFBaseXRef \u001b[39m=\u001b[39m PDFXRefStream()\n\u001b[1;32m-> 1000\u001b[0m     xref\u001b[39m.\u001b[39;49mload(parser)\n\u001b[0;32m   1001\u001b[0m \u001b[39melse\u001b[39;00m:\n",
      "File \u001b[1;32mc:\\Users\\admin\\anaconda3\\envs\\thesis\\lib\\site-packages\\pdfminer\\pdfdocument.py:282\u001b[0m, in \u001b[0;36mPDFXRefStream.load\u001b[1;34m(self, parser)\u001b[0m\n\u001b[0;32m    281\u001b[0m \u001b[39mif\u001b[39;00m \u001b[39mnot\u001b[39;00m \u001b[39misinstance\u001b[39m(stream, PDFStream) \u001b[39mor\u001b[39;00m stream\u001b[39m.\u001b[39mget(\u001b[39m\"\u001b[39m\u001b[39mType\u001b[39m\u001b[39m\"\u001b[39m) \u001b[39mis\u001b[39;00m \u001b[39mnot\u001b[39;00m LITERAL_XREF:\n\u001b[1;32m--> 282\u001b[0m     \u001b[39mraise\u001b[39;00m PDFNoValidXRef(\u001b[39m\"\u001b[39m\u001b[39mInvalid PDF stream spec.\u001b[39m\u001b[39m\"\u001b[39m)\n\u001b[0;32m    283\u001b[0m size \u001b[39m=\u001b[39m stream[\u001b[39m\"\u001b[39m\u001b[39mSize\u001b[39m\u001b[39m\"\u001b[39m]\n",
      "\u001b[1;31mPDFNoValidXRef\u001b[0m: Invalid PDF stream spec.",
      "\nDuring handling of the above exception, another exception occurred:\n",
      "\u001b[1;31mPSEOF\u001b[0m                                     Traceback (most recent call last)",
      "Cell \u001b[1;32mIn[12], line 3\u001b[0m\n\u001b[0;32m      1\u001b[0m \u001b[39m# parse pdf\u001b[39;00m\n\u001b[0;32m      2\u001b[0m \u001b[39mfor\u001b[39;00m i \u001b[39min\u001b[39;00m \u001b[39mrange\u001b[39m(\u001b[39m0\u001b[39m,\u001b[39m50\u001b[39m): \u001b[39m#0-49\u001b[39;00m\n\u001b[1;32m----> 3\u001b[0m     \u001b[39mglobals\u001b[39m()[\u001b[39mf\u001b[39m\u001b[39m'\u001b[39m\u001b[39mdf_6.0_\u001b[39m\u001b[39m{\u001b[39;00mi\u001b[39m}\u001b[39;00m\u001b[39m'\u001b[39m] \u001b[39m=\u001b[39m parse_pdf(tqdm(df_60[df_60[\u001b[39m'\u001b[39;49m\u001b[39mbatch\u001b[39;49m\u001b[39m'\u001b[39;49m]\u001b[39m==\u001b[39;49mi][\u001b[39m'\u001b[39;49m\u001b[39mpdf_file\u001b[39;49m\u001b[39m'\u001b[39;49m]))\n\u001b[0;32m      4\u001b[0m     \u001b[39mprint\u001b[39m(\u001b[39m\"\u001b[39m\u001b[39mBatch \u001b[39m\u001b[39m{}\u001b[39;00m\u001b[39m completed\u001b[39m\u001b[39m\"\u001b[39m\u001b[39m.\u001b[39mformat(i))\n\u001b[0;32m      6\u001b[0m     \u001b[39m# save json file name\u001b[39;00m\n",
      "File \u001b[1;32md:\\Desktop\\Thesis\\predicting-merger-decision-outcomes\\src\\python\\notebook\\../../python\\scraper.py:257\u001b[0m, in \u001b[0;36mparse_pdf\u001b[1;34m(pdf_list)\u001b[0m\n\u001b[0;32m    254\u001b[0m filename \u001b[39m=\u001b[39m match\u001b[39m.\u001b[39mgroup()\n\u001b[0;32m    256\u001b[0m \u001b[39mtry\u001b[39;00m:\n\u001b[1;32m--> 257\u001b[0m     \u001b[39mwith\u001b[39;00m pdfplumber\u001b[39m.\u001b[39;49mopen(pdf_file) \u001b[39mas\u001b[39;00m pdf:\n\u001b[0;32m    258\u001b[0m         text \u001b[39m=\u001b[39m []\n\u001b[0;32m    259\u001b[0m         \u001b[39mfor\u001b[39;00m i \u001b[39min\u001b[39;00m \u001b[39mrange\u001b[39m(\u001b[39mlen\u001b[39m(pdf\u001b[39m.\u001b[39mpages)):\n",
      "File \u001b[1;32mc:\\Users\\admin\\anaconda3\\envs\\thesis\\lib\\site-packages\\pdfplumber\\pdf.py:78\u001b[0m, in \u001b[0;36mPDF.open\u001b[1;34m(cls, path_or_fp, pages, laparams, password, strict_metadata)\u001b[0m\n\u001b[0;32m     75\u001b[0m     stream_is_external \u001b[39m=\u001b[39m \u001b[39mTrue\u001b[39;00m\n\u001b[0;32m     77\u001b[0m \u001b[39mtry\u001b[39;00m:\n\u001b[1;32m---> 78\u001b[0m     \u001b[39mreturn\u001b[39;00m \u001b[39mcls\u001b[39;49m(\n\u001b[0;32m     79\u001b[0m         stream,\n\u001b[0;32m     80\u001b[0m         pages\u001b[39m=\u001b[39;49mpages,\n\u001b[0;32m     81\u001b[0m         laparams\u001b[39m=\u001b[39;49mlaparams,\n\u001b[0;32m     82\u001b[0m         password\u001b[39m=\u001b[39;49mpassword,\n\u001b[0;32m     83\u001b[0m         strict_metadata\u001b[39m=\u001b[39;49mstrict_metadata,\n\u001b[0;32m     84\u001b[0m         stream_is_external\u001b[39m=\u001b[39;49mstream_is_external,\n\u001b[0;32m     85\u001b[0m     )\n\u001b[0;32m     87\u001b[0m \u001b[39mexcept\u001b[39;00m PSException:\n\u001b[0;32m     88\u001b[0m     \u001b[39mif\u001b[39;00m \u001b[39mnot\u001b[39;00m stream_is_external:\n",
      "File \u001b[1;32mc:\\Users\\admin\\anaconda3\\envs\\thesis\\lib\\site-packages\\pdfplumber\\pdf.py:40\u001b[0m, in \u001b[0;36mPDF.__init__\u001b[1;34m(self, stream, stream_is_external, pages, laparams, password, strict_metadata)\u001b[0m\n\u001b[0;32m     37\u001b[0m \u001b[39mself\u001b[39m\u001b[39m.\u001b[39mpages_to_parse \u001b[39m=\u001b[39m pages\n\u001b[0;32m     38\u001b[0m \u001b[39mself\u001b[39m\u001b[39m.\u001b[39mlaparams \u001b[39m=\u001b[39m \u001b[39mNone\u001b[39;00m \u001b[39mif\u001b[39;00m laparams \u001b[39mis\u001b[39;00m \u001b[39mNone\u001b[39;00m \u001b[39melse\u001b[39;00m LAParams(\u001b[39m*\u001b[39m\u001b[39m*\u001b[39mlaparams)\n\u001b[1;32m---> 40\u001b[0m \u001b[39mself\u001b[39m\u001b[39m.\u001b[39mdoc \u001b[39m=\u001b[39m PDFDocument(PDFParser(stream), password\u001b[39m=\u001b[39;49mpassword)\n\u001b[0;32m     41\u001b[0m \u001b[39mself\u001b[39m\u001b[39m.\u001b[39mrsrcmgr \u001b[39m=\u001b[39m PDFResourceManager()\n\u001b[0;32m     42\u001b[0m \u001b[39mself\u001b[39m\u001b[39m.\u001b[39mmetadata \u001b[39m=\u001b[39m {}\n",
      "File \u001b[1;32mc:\\Users\\admin\\anaconda3\\envs\\thesis\\lib\\site-packages\\pdfminer\\pdfdocument.py:727\u001b[0m, in \u001b[0;36mPDFDocument.__init__\u001b[1;34m(self, parser, password, caching, fallback)\u001b[0m\n\u001b[0;32m    725\u001b[0m         parser\u001b[39m.\u001b[39mfallback \u001b[39m=\u001b[39m \u001b[39mTrue\u001b[39;00m\n\u001b[0;32m    726\u001b[0m         newxref \u001b[39m=\u001b[39m PDFXRefFallback()\n\u001b[1;32m--> 727\u001b[0m         newxref\u001b[39m.\u001b[39;49mload(parser)\n\u001b[0;32m    728\u001b[0m         \u001b[39mself\u001b[39m\u001b[39m.\u001b[39mxrefs\u001b[39m.\u001b[39mappend(newxref)\n\u001b[0;32m    730\u001b[0m \u001b[39mfor\u001b[39;00m xref \u001b[39min\u001b[39;00m \u001b[39mself\u001b[39m\u001b[39m.\u001b[39mxrefs:\n",
      "File \u001b[1;32mc:\\Users\\admin\\anaconda3\\envs\\thesis\\lib\\site-packages\\pdfminer\\pdfdocument.py:241\u001b[0m, in \u001b[0;36mPDFXRefFallback.load\u001b[1;34m(self, parser)\u001b[0m\n\u001b[0;32m    239\u001b[0m \u001b[39m# expand ObjStm.\u001b[39;00m\n\u001b[0;32m    240\u001b[0m parser\u001b[39m.\u001b[39mseek(pos)\n\u001b[1;32m--> 241\u001b[0m (_, obj) \u001b[39m=\u001b[39m parser\u001b[39m.\u001b[39;49mnextobject()\n\u001b[0;32m    242\u001b[0m \u001b[39mif\u001b[39;00m \u001b[39misinstance\u001b[39m(obj, PDFStream) \u001b[39mand\u001b[39;00m obj\u001b[39m.\u001b[39mget(\u001b[39m\"\u001b[39m\u001b[39mType\u001b[39m\u001b[39m\"\u001b[39m) \u001b[39mis\u001b[39;00m LITERAL_OBJSTM:\n\u001b[0;32m    243\u001b[0m     stream \u001b[39m=\u001b[39m stream_value(obj)\n",
      "File \u001b[1;32mc:\\Users\\admin\\anaconda3\\envs\\thesis\\lib\\site-packages\\pdfminer\\psparser.py:609\u001b[0m, in \u001b[0;36mPSStackParser.nextobject\u001b[1;34m(self)\u001b[0m\n\u001b[0;32m    601\u001b[0m \u001b[39m\u001b[39m\u001b[39m\"\"\"Yields a list of objects.\u001b[39;00m\n\u001b[0;32m    602\u001b[0m \n\u001b[0;32m    603\u001b[0m \u001b[39mArrays and dictionaries are represented as Python lists and\u001b[39;00m\n\u001b[1;32m   (...)\u001b[0m\n\u001b[0;32m    606\u001b[0m \u001b[39m:return: keywords, literals, strings, numbers, arrays and dictionaries.\u001b[39;00m\n\u001b[0;32m    607\u001b[0m \u001b[39m\"\"\"\u001b[39;00m\n\u001b[0;32m    608\u001b[0m \u001b[39mwhile\u001b[39;00m \u001b[39mnot\u001b[39;00m \u001b[39mself\u001b[39m\u001b[39m.\u001b[39mresults:\n\u001b[1;32m--> 609\u001b[0m     (pos, token) \u001b[39m=\u001b[39m \u001b[39mself\u001b[39;49m\u001b[39m.\u001b[39;49mnexttoken()\n\u001b[0;32m    610\u001b[0m     \u001b[39mif\u001b[39;00m \u001b[39misinstance\u001b[39m(token, (\u001b[39mint\u001b[39m, \u001b[39mfloat\u001b[39m, \u001b[39mbool\u001b[39m, \u001b[39mstr\u001b[39m, \u001b[39mbytes\u001b[39m, PSLiteral)):\n\u001b[0;32m    611\u001b[0m         \u001b[39m# normal token\u001b[39;00m\n\u001b[0;32m    612\u001b[0m         \u001b[39mself\u001b[39m\u001b[39m.\u001b[39mpush((pos, token))\n",
      "File \u001b[1;32mc:\\Users\\admin\\anaconda3\\envs\\thesis\\lib\\site-packages\\pdfminer\\psparser.py:526\u001b[0m, in \u001b[0;36mPSBaseParser.nexttoken\u001b[1;34m(self)\u001b[0m\n\u001b[0;32m    524\u001b[0m \u001b[39mdef\u001b[39;00m \u001b[39mnexttoken\u001b[39m(\u001b[39mself\u001b[39m) \u001b[39m-\u001b[39m\u001b[39m>\u001b[39m Tuple[\u001b[39mint\u001b[39m, PSBaseParserToken]:\n\u001b[0;32m    525\u001b[0m     \u001b[39mwhile\u001b[39;00m \u001b[39mnot\u001b[39;00m \u001b[39mself\u001b[39m\u001b[39m.\u001b[39m_tokens:\n\u001b[1;32m--> 526\u001b[0m         \u001b[39mself\u001b[39;49m\u001b[39m.\u001b[39;49mfillbuf()\n\u001b[0;32m    527\u001b[0m         \u001b[39mself\u001b[39m\u001b[39m.\u001b[39mcharpos \u001b[39m=\u001b[39m \u001b[39mself\u001b[39m\u001b[39m.\u001b[39m_parse1(\u001b[39mself\u001b[39m\u001b[39m.\u001b[39mbuf, \u001b[39mself\u001b[39m\u001b[39m.\u001b[39mcharpos)\n\u001b[0;32m    528\u001b[0m     token \u001b[39m=\u001b[39m \u001b[39mself\u001b[39m\u001b[39m.\u001b[39m_tokens\u001b[39m.\u001b[39mpop(\u001b[39m0\u001b[39m)\n",
      "File \u001b[1;32mc:\\Users\\admin\\anaconda3\\envs\\thesis\\lib\\site-packages\\pdfminer\\psparser.py:239\u001b[0m, in \u001b[0;36mPSBaseParser.fillbuf\u001b[1;34m(self)\u001b[0m\n\u001b[0;32m    237\u001b[0m \u001b[39mself\u001b[39m\u001b[39m.\u001b[39mbuf \u001b[39m=\u001b[39m \u001b[39mself\u001b[39m\u001b[39m.\u001b[39mfp\u001b[39m.\u001b[39mread(\u001b[39mself\u001b[39m\u001b[39m.\u001b[39mBUFSIZ)\n\u001b[0;32m    238\u001b[0m \u001b[39mif\u001b[39;00m \u001b[39mnot\u001b[39;00m \u001b[39mself\u001b[39m\u001b[39m.\u001b[39mbuf:\n\u001b[1;32m--> 239\u001b[0m     \u001b[39mraise\u001b[39;00m PSEOF(\u001b[39m\"\u001b[39m\u001b[39mUnexpected EOF\u001b[39m\u001b[39m\"\u001b[39m)\n\u001b[0;32m    240\u001b[0m \u001b[39mself\u001b[39m\u001b[39m.\u001b[39mcharpos \u001b[39m=\u001b[39m \u001b[39m0\u001b[39m\n\u001b[0;32m    241\u001b[0m \u001b[39mreturn\u001b[39;00m\n",
      "\u001b[1;31mPSEOF\u001b[0m: Unexpected EOF"
     ]
    }
   ],
   "source": [
    "# parse pdf\n",
    "for i in range(0,50): #0-49\n",
    "    globals()[f'df_6.0_{i}'] = parse_pdf(tqdm(df_60[df_60['batch']==i]['pdf_file']))\n",
    "    print(\"Batch {} completed\".format(i))\n",
    "\n",
    "    # save json file name\n",
    "    date = datetime.date.today().strftime('%Y_%m_%d')\n",
    "\n",
    "    file_name = f\"../../../data/parsed/parsed_art6.0_batch{i}_{date}.json\"\n",
    "    if os.path.exists(file_name):\n",
    "        os.remove(file_name)\n",
    "\n",
    "    # save file as json\n",
    "    globals()[f'df_6.0_{i}'].to_json(file_name)"
   ]
  },
  {
   "cell_type": "code",
   "execution_count": 16,
   "metadata": {},
   "outputs": [
    {
     "name": "stderr",
     "output_type": "stream",
     "text": [
      " 41%|████      | 41/100 [00:45<00:45,  1.30it/s]"
     ]
    },
    {
     "name": "stdout",
     "output_type": "stream",
     "text": [
      "Skipping corrupted PDF file:  [Errno 2] No such file or directory: '../../../data/pdfs/art6.0\\\\M.10261\\\\m10261_55_3.pdf'\n"
     ]
    },
    {
     "name": "stderr",
     "output_type": "stream",
     "text": [
      "100%|██████████| 100/100 [01:39<00:00,  1.00it/s]\n",
      "100%|██████████| 100/100 [01:39<00:00,  1.00it/s]\n"
     ]
    },
    {
     "name": "stdout",
     "output_type": "stream",
     "text": [
      "Batch 23 completed\n"
     ]
    },
    {
     "name": "stderr",
     "output_type": "stream",
     "text": [
      "100%|██████████| 100/100 [01:25<00:00,  1.16it/s]\n",
      "100%|██████████| 100/100 [01:25<00:00,  1.16it/s]\n"
     ]
    },
    {
     "name": "stdout",
     "output_type": "stream",
     "text": [
      "Batch 24 completed\n"
     ]
    },
    {
     "name": "stderr",
     "output_type": "stream",
     "text": [
      "100%|██████████| 100/100 [01:05<00:00,  1.52it/s]\n",
      "100%|██████████| 100/100 [01:05<00:00,  1.52it/s]\n"
     ]
    },
    {
     "name": "stdout",
     "output_type": "stream",
     "text": [
      "Batch 25 completed\n"
     ]
    },
    {
     "name": "stderr",
     "output_type": "stream",
     "text": [
      "100%|██████████| 100/100 [01:27<00:00,  1.14it/s]\n",
      "100%|██████████| 100/100 [01:27<00:00,  1.14it/s]\n"
     ]
    },
    {
     "name": "stdout",
     "output_type": "stream",
     "text": [
      "Batch 26 completed\n"
     ]
    },
    {
     "name": "stderr",
     "output_type": "stream",
     "text": [
      "100%|██████████| 100/100 [01:47<00:00,  1.07s/it]\n",
      "100%|██████████| 100/100 [01:47<00:00,  1.07s/it]\n"
     ]
    },
    {
     "name": "stdout",
     "output_type": "stream",
     "text": [
      "Batch 27 completed\n"
     ]
    },
    {
     "name": "stderr",
     "output_type": "stream",
     "text": [
      "100%|██████████| 100/100 [00:55<00:00,  1.82it/s]\n",
      "100%|██████████| 100/100 [00:55<00:00,  1.82it/s]\n"
     ]
    },
    {
     "name": "stdout",
     "output_type": "stream",
     "text": [
      "Batch 28 completed\n"
     ]
    },
    {
     "name": "stderr",
     "output_type": "stream",
     "text": [
      "100%|██████████| 100/100 [01:23<00:00,  1.20it/s]\n",
      "100%|██████████| 100/100 [01:23<00:00,  1.20it/s]\n"
     ]
    },
    {
     "name": "stdout",
     "output_type": "stream",
     "text": [
      "Batch 29 completed\n"
     ]
    },
    {
     "name": "stderr",
     "output_type": "stream",
     "text": [
      "100%|██████████| 100/100 [01:10<00:00,  1.41it/s]\n",
      "100%|██████████| 100/100 [01:10<00:00,  1.41it/s]\n"
     ]
    },
    {
     "name": "stdout",
     "output_type": "stream",
     "text": [
      "Batch 30 completed\n"
     ]
    },
    {
     "name": "stderr",
     "output_type": "stream",
     "text": [
      "100%|██████████| 100/100 [01:28<00:00,  1.13it/s]\n",
      "100%|██████████| 100/100 [01:28<00:00,  1.13it/s]\n"
     ]
    },
    {
     "name": "stdout",
     "output_type": "stream",
     "text": [
      "Batch 31 completed\n"
     ]
    },
    {
     "name": "stderr",
     "output_type": "stream",
     "text": [
      "100%|██████████| 100/100 [01:29<00:00,  1.11it/s]\n",
      "100%|██████████| 100/100 [01:29<00:00,  1.11it/s]\n"
     ]
    },
    {
     "name": "stdout",
     "output_type": "stream",
     "text": [
      "Batch 32 completed\n"
     ]
    },
    {
     "name": "stderr",
     "output_type": "stream",
     "text": [
      "100%|██████████| 100/100 [01:42<00:00,  1.03s/it]\n",
      "100%|██████████| 100/100 [01:42<00:00,  1.03s/it]\n"
     ]
    },
    {
     "name": "stdout",
     "output_type": "stream",
     "text": [
      "Batch 33 completed\n"
     ]
    },
    {
     "name": "stderr",
     "output_type": "stream",
     "text": [
      "100%|██████████| 100/100 [01:27<00:00,  1.14it/s]\n",
      "100%|██████████| 100/100 [01:27<00:00,  1.14it/s]\n"
     ]
    },
    {
     "name": "stdout",
     "output_type": "stream",
     "text": [
      "Batch 34 completed\n"
     ]
    },
    {
     "name": "stderr",
     "output_type": "stream",
     "text": [
      "100%|██████████| 100/100 [01:53<00:00,  1.13s/it]\n",
      "100%|██████████| 100/100 [01:53<00:00,  1.13s/it]\n"
     ]
    },
    {
     "name": "stdout",
     "output_type": "stream",
     "text": [
      "Batch 35 completed\n"
     ]
    },
    {
     "name": "stderr",
     "output_type": "stream",
     "text": [
      "100%|██████████| 100/100 [01:53<00:00,  1.14s/it]\n",
      "100%|██████████| 100/100 [01:53<00:00,  1.14s/it]\n"
     ]
    },
    {
     "name": "stdout",
     "output_type": "stream",
     "text": [
      "Batch 36 completed\n"
     ]
    },
    {
     "name": "stderr",
     "output_type": "stream",
     "text": [
      "100%|██████████| 100/100 [01:38<00:00,  1.02it/s]\n",
      "100%|██████████| 100/100 [01:38<00:00,  1.02it/s]\n"
     ]
    },
    {
     "name": "stdout",
     "output_type": "stream",
     "text": [
      "Batch 37 completed\n"
     ]
    },
    {
     "name": "stderr",
     "output_type": "stream",
     "text": [
      "100%|██████████| 100/100 [01:22<00:00,  1.21it/s]\n",
      "100%|██████████| 100/100 [01:22<00:00,  1.21it/s]\n"
     ]
    },
    {
     "name": "stdout",
     "output_type": "stream",
     "text": [
      "Batch 38 completed\n"
     ]
    },
    {
     "name": "stderr",
     "output_type": "stream",
     "text": [
      "100%|██████████| 100/100 [00:55<00:00,  1.81it/s]\n",
      "100%|██████████| 100/100 [00:55<00:00,  1.81it/s]\n"
     ]
    },
    {
     "name": "stdout",
     "output_type": "stream",
     "text": [
      "Batch 39 completed\n"
     ]
    },
    {
     "name": "stderr",
     "output_type": "stream",
     "text": [
      "100%|██████████| 100/100 [01:34<00:00,  1.06it/s]\n",
      "100%|██████████| 100/100 [01:34<00:00,  1.06it/s]\n"
     ]
    },
    {
     "name": "stdout",
     "output_type": "stream",
     "text": [
      "Batch 40 completed\n"
     ]
    },
    {
     "name": "stderr",
     "output_type": "stream",
     "text": [
      "100%|██████████| 100/100 [01:04<00:00,  1.56it/s]\n",
      "100%|██████████| 100/100 [01:04<00:00,  1.56it/s]\n"
     ]
    },
    {
     "name": "stdout",
     "output_type": "stream",
     "text": [
      "Batch 41 completed\n"
     ]
    },
    {
     "name": "stderr",
     "output_type": "stream",
     "text": [
      "100%|██████████| 100/100 [01:30<00:00,  1.11it/s]\n",
      "100%|██████████| 100/100 [01:30<00:00,  1.11it/s]\n"
     ]
    },
    {
     "name": "stdout",
     "output_type": "stream",
     "text": [
      "Batch 42 completed\n"
     ]
    },
    {
     "name": "stderr",
     "output_type": "stream",
     "text": [
      "100%|██████████| 100/100 [01:48<00:00,  1.08s/it]\n",
      "100%|██████████| 100/100 [01:48<00:00,  1.08s/it]\n"
     ]
    },
    {
     "name": "stdout",
     "output_type": "stream",
     "text": [
      "Batch 43 completed\n"
     ]
    },
    {
     "name": "stderr",
     "output_type": "stream",
     "text": [
      "100%|██████████| 100/100 [02:31<00:00,  1.52s/it]\n",
      "100%|██████████| 100/100 [02:31<00:00,  1.52s/it]\n"
     ]
    },
    {
     "name": "stdout",
     "output_type": "stream",
     "text": [
      "Batch 44 completed\n"
     ]
    },
    {
     "name": "stderr",
     "output_type": "stream",
     "text": [
      "100%|██████████| 100/100 [01:13<00:00,  1.37it/s]\n",
      "100%|██████████| 100/100 [01:13<00:00,  1.37it/s]\n"
     ]
    },
    {
     "name": "stdout",
     "output_type": "stream",
     "text": [
      "Batch 45 completed\n"
     ]
    },
    {
     "name": "stderr",
     "output_type": "stream",
     "text": [
      "100%|██████████| 100/100 [02:12<00:00,  1.33s/it]\n",
      "100%|██████████| 100/100 [02:12<00:00,  1.33s/it]\n"
     ]
    },
    {
     "name": "stdout",
     "output_type": "stream",
     "text": [
      "Batch 46 completed\n"
     ]
    },
    {
     "name": "stderr",
     "output_type": "stream",
     "text": [
      "100%|██████████| 100/100 [01:36<00:00,  1.04it/s]\n",
      "100%|██████████| 100/100 [01:36<00:00,  1.04it/s]\n"
     ]
    },
    {
     "name": "stdout",
     "output_type": "stream",
     "text": [
      "Batch 47 completed\n"
     ]
    },
    {
     "name": "stderr",
     "output_type": "stream",
     "text": [
      "100%|██████████| 100/100 [01:50<00:00,  1.10s/it]\n",
      "100%|██████████| 100/100 [01:50<00:00,  1.10s/it]\n"
     ]
    },
    {
     "name": "stdout",
     "output_type": "stream",
     "text": [
      "Batch 48 completed\n"
     ]
    },
    {
     "name": "stderr",
     "output_type": "stream",
     "text": [
      "100%|██████████| 9/9 [00:06<00:00,  1.49it/s]\n",
      "100%|██████████| 9/9 [00:06<00:00,  1.49it/s]"
     ]
    },
    {
     "name": "stdout",
     "output_type": "stream",
     "text": [
      "Batch 49 completed\n"
     ]
    },
    {
     "name": "stderr",
     "output_type": "stream",
     "text": [
      "\n"
     ]
    }
   ],
   "source": [
    "# parse pdf\n",
    "for i in range(23,50): #0-49\n",
    "    globals()[f'df_6.0_{i}'] = parse_pdf(tqdm(df_60[df_60['batch']==i]['pdf_file']))\n",
    "    print(\"Batch {} completed\".format(i))\n",
    "\n",
    "    # save json file name\n",
    "    date = datetime.date.today().strftime('%Y_%m_%d')\n",
    "\n",
    "    file_name = f\"../../../data/parsed/parsed_art6.0_batch{i}_{date}.json\"\n",
    "    if os.path.exists(file_name):\n",
    "        os.remove(file_name)\n",
    "\n",
    "    # save file as json\n",
    "    globals()[f'df_6.0_{i}'].to_json(file_name)"
   ]
  },
  {
   "cell_type": "code",
   "execution_count": 91,
   "metadata": {},
   "outputs": [
    {
     "data": {
      "text/plain": [
       "<bound method NDFrame.tail of                                                pdf_file    id  batch\n",
       "0     ../../../data/pdfs/art6.0\\M.10000\\m10000_41_3.pdf     0      0\n",
       "1     ../../../data/pdfs/art6.0\\M.10001\\m10001_438_3...     1      0\n",
       "2     ../../../data/pdfs/art6.0\\M.10003\\m10003_69_3.pdf     2      0\n",
       "3     ../../../data/pdfs/art6.0\\M.10004\\m10004_67_3.pdf     3      0\n",
       "4     ../../../data/pdfs/art6.0\\M.10005\\m10005_109_3...     4      0\n",
       "...                                                 ...   ...    ...\n",
       "1242    ../../../data/pdfs/art6.0\\M.9994\\m9994_81_3.pdf  1242     12\n",
       "1243   ../../../data/pdfs/art6.0\\M.9995\\m9995_148_3.pdf  1243     12\n",
       "1244   ../../../data/pdfs/art6.0\\M.9996\\m9996_114_3.pdf  1244     12\n",
       "1245    ../../../data/pdfs/art6.0\\M.9998\\m9998_51_3.pdf  1245     12\n",
       "1246   ../../../data/pdfs/art6.0\\M.9999\\m9999_110_3.pdf  1246     12\n",
       "\n",
       "[1247 rows x 3 columns]>"
      ]
     },
     "execution_count": 91,
     "metadata": {},
     "output_type": "execute_result"
    }
   ],
   "source": [
    "df_60.tail"
   ]
  },
  {
   "cell_type": "code",
   "execution_count": 15,
   "metadata": {},
   "outputs": [
    {
     "data": {
      "text/html": [
       "<div>\n",
       "<style scoped>\n",
       "    .dataframe tbody tr th:only-of-type {\n",
       "        vertical-align: middle;\n",
       "    }\n",
       "\n",
       "    .dataframe tbody tr th {\n",
       "        vertical-align: top;\n",
       "    }\n",
       "\n",
       "    .dataframe thead th {\n",
       "        text-align: right;\n",
       "    }\n",
       "</style>\n",
       "<table border=\"1\" class=\"dataframe\">\n",
       "  <thead>\n",
       "    <tr style=\"text-align: right;\">\n",
       "      <th></th>\n",
       "      <th>pdf_file</th>\n",
       "      <th>id</th>\n",
       "      <th>batch</th>\n",
       "    </tr>\n",
       "  </thead>\n",
       "  <tbody>\n",
       "    <tr>\n",
       "      <th>2341</th>\n",
       "      <td>../../../data/pdfs/art6.0\\M.10261\\m10261_55_3.pdf</td>\n",
       "      <td>2341</td>\n",
       "      <td>23</td>\n",
       "    </tr>\n",
       "  </tbody>\n",
       "</table>\n",
       "</div>"
      ],
      "text/plain": [
       "                                               pdf_file    id  batch\n",
       "2341  ../../../data/pdfs/art6.0\\M.10261\\m10261_55_3.pdf  2341     23"
      ]
     },
     "execution_count": 15,
     "metadata": {},
     "output_type": "execute_result"
    }
   ],
   "source": [
    "df_60[df_60['id']==2341]"
   ]
  },
  {
   "cell_type": "code",
   "execution_count": 108,
   "metadata": {},
   "outputs": [
    {
     "data": {
      "text/html": [
       "<div>\n",
       "<style scoped>\n",
       "    .dataframe tbody tr th:only-of-type {\n",
       "        vertical-align: middle;\n",
       "    }\n",
       "\n",
       "    .dataframe tbody tr th {\n",
       "        vertical-align: top;\n",
       "    }\n",
       "\n",
       "    .dataframe thead th {\n",
       "        text-align: right;\n",
       "    }\n",
       "</style>\n",
       "<table border=\"1\" class=\"dataframe\">\n",
       "  <thead>\n",
       "    <tr style=\"text-align: right;\">\n",
       "      <th></th>\n",
       "      <th>pdf_file</th>\n",
       "      <th>id</th>\n",
       "      <th>batch</th>\n",
       "    </tr>\n",
       "  </thead>\n",
       "  <tbody>\n",
       "    <tr>\n",
       "      <th>1199</th>\n",
       "      <td>../../../data/pdfs/art6.0\\M.9935\\m9935_130_3.pdf</td>\n",
       "      <td>1199</td>\n",
       "      <td>11</td>\n",
       "    </tr>\n",
       "  </tbody>\n",
       "</table>\n",
       "</div>"
      ],
      "text/plain": [
       "                                              pdf_file    id  batch\n",
       "1199  ../../../data/pdfs/art6.0\\M.9935\\m9935_130_3.pdf  1199     11"
      ]
     },
     "execution_count": 108,
     "metadata": {},
     "output_type": "execute_result"
    }
   ],
   "source": [
    "df_60[df_60['pdf_file']==\"../../../data/pdfs/art6.0\\M.9935\\m9935_130_3.pdf\"]"
   ]
  },
  {
   "attachments": {},
   "cell_type": "markdown",
   "metadata": {},
   "source": [
    "#### Article 9.3 (129 cases)"
   ]
  },
  {
   "cell_type": "code",
   "execution_count": 6,
   "metadata": {},
   "outputs": [],
   "source": [
    "# create dataframe\n",
    "df_93 = pd.DataFrame(art9_3_pdf_list, columns = ['pdf_file'])\n",
    "\n",
    "df_93['id'] = df_93.index\n",
    "df_93['batch'] = ((df_93['id'])/100).astype(int)"
   ]
  },
  {
   "cell_type": "code",
   "execution_count": 7,
   "metadata": {},
   "outputs": [
    {
     "data": {
      "text/plain": [
       "0    100\n",
       "1     93\n",
       "Name: batch, dtype: int64"
      ]
     },
     "execution_count": 7,
     "metadata": {},
     "output_type": "execute_result"
    }
   ],
   "source": [
    "df_93['batch'].value_counts()"
   ]
  },
  {
   "cell_type": "code",
   "execution_count": 9,
   "metadata": {},
   "outputs": [
    {
     "name": "stderr",
     "output_type": "stream",
     "text": [
      "100%|██████████| 93/93 [09:54<00:00,  6.39s/it]\n",
      "100%|██████████| 93/93 [09:54<00:00,  6.39s/it]"
     ]
    },
    {
     "name": "stdout",
     "output_type": "stream",
     "text": [
      "Batch 1 completed\n"
     ]
    },
    {
     "name": "stderr",
     "output_type": "stream",
     "text": [
      "\n"
     ]
    }
   ],
   "source": [
    "# parse pdf\n",
    "for i in range(1,2): #0-1\n",
    "    globals()[f'df_9.3_{i}'] = parse_pdf(tqdm(df_93[df_93['batch']==i]['pdf_file']))\n",
    "    print(\"Batch {} completed\".format(i))\n",
    "\n",
    "    # save json file name\n",
    "    date = datetime.date.today().strftime('%Y_%m_%d')\n",
    "\n",
    "    file_name = f\"../../../data/parsed/parsed_art9.3_batch{i}_{date}.json\"\n",
    "    if os.path.exists(file_name):\n",
    "        os.remove(file_name)\n",
    "\n",
    "    # save file as json\n",
    "    globals()[f'df_9.3_{i}'].to_json(file_name)"
   ]
  },
  {
   "attachments": {},
   "cell_type": "markdown",
   "metadata": {},
   "source": [
    "# Append all dataframes"
   ]
  },
  {
   "cell_type": "code",
   "execution_count": 17,
   "metadata": {},
   "outputs": [],
   "source": [
    "import glob\n",
    "import os \n",
    "\n",
    "path = f\"../../../data/parsed/*.json\"\n",
    "files = glob.glob(path)"
   ]
  },
  {
   "cell_type": "code",
   "execution_count": 18,
   "metadata": {},
   "outputs": [],
   "source": [
    "data_merged = pd.concat([pd.read_json(f) for f in files])"
   ]
  },
  {
   "cell_type": "code",
   "execution_count": 19,
   "metadata": {},
   "outputs": [],
   "source": [
    "data_merged=data_merged.reset_index(drop=True)"
   ]
  },
  {
   "cell_type": "code",
   "execution_count": 20,
   "metadata": {},
   "outputs": [
    {
     "name": "stdout",
     "output_type": "stream",
     "text": [
      "<class 'pandas.core.frame.DataFrame'>\n",
      "RangeIndex: 5635 entries, 0 to 5634\n",
      "Data columns (total 5 columns):\n",
      " #   Column    Non-Null Count  Dtype \n",
      "---  ------    --------------  ----- \n",
      " 0   article   5635 non-null   object\n",
      " 1   case_num  5635 non-null   object\n",
      " 2   filename  5635 non-null   object\n",
      " 3   text      5635 non-null   object\n",
      " 4   lang      5635 non-null   object\n",
      "dtypes: object(5)\n",
      "memory usage: 220.2+ KB\n"
     ]
    }
   ],
   "source": [
    "data_merged.info()"
   ]
  },
  {
   "cell_type": "code",
   "execution_count": 21,
   "metadata": {},
   "outputs": [
    {
     "data": {
      "text/plain": [
       "art6.0    4908\n",
       "art6.1     359\n",
       "art9.3     193\n",
       "art8.2     114\n",
       "art8.1      47\n",
       "art8.3      14\n",
       "Name: article, dtype: int64"
      ]
     },
     "execution_count": 21,
     "metadata": {},
     "output_type": "execute_result"
    }
   ],
   "source": [
    "data_merged['article'].value_counts()"
   ]
  },
  {
   "cell_type": "code",
   "execution_count": 22,
   "metadata": {},
   "outputs": [],
   "source": [
    "# save json file name\n",
    "date = datetime.date.today().strftime('%Y_%m_%d')\n",
    "\n",
    "file_name = f\"../../../data/processed/data_merged_{date}.json\"\n",
    "if os.path.exists(file_name):\n",
    "    os.remove(file_name)\n",
    "\n",
    "# save file as json\n",
    "data_merged.to_json(file_name)"
   ]
  },
  {
   "cell_type": "code",
   "execution_count": 23,
   "metadata": {},
   "outputs": [
    {
     "data": {
      "text/plain": [
       "en    5623\n",
       "fr       5\n",
       "de       4\n",
       "sv       2\n",
       "es       1\n",
       "Name: lang, dtype: int64"
      ]
     },
     "execution_count": 23,
     "metadata": {},
     "output_type": "execute_result"
    }
   ],
   "source": [
    "data_merged['lang'].value_counts()"
   ]
  },
  {
   "cell_type": "code",
   "execution_count": 24,
   "metadata": {},
   "outputs": [
    {
     "data": {
      "text/html": [
       "<div>\n",
       "<style scoped>\n",
       "    .dataframe tbody tr th:only-of-type {\n",
       "        vertical-align: middle;\n",
       "    }\n",
       "\n",
       "    .dataframe tbody tr th {\n",
       "        vertical-align: top;\n",
       "    }\n",
       "\n",
       "    .dataframe thead th {\n",
       "        text-align: right;\n",
       "    }\n",
       "</style>\n",
       "<table border=\"1\" class=\"dataframe\">\n",
       "  <thead>\n",
       "    <tr style=\"text-align: right;\">\n",
       "      <th></th>\n",
       "      <th>article</th>\n",
       "      <th>case_num</th>\n",
       "      <th>filename</th>\n",
       "      <th>text</th>\n",
       "      <th>lang</th>\n",
       "    </tr>\n",
       "  </thead>\n",
       "  <tbody>\n",
       "    <tr>\n",
       "      <th>0</th>\n",
       "      <td>art6.0</td>\n",
       "      <td>M.9004</td>\n",
       "      <td>art6.0\\M.9004\\m9004_65_3</td>\n",
       "      <td>\\nEUROPEAN COMMISSION \\nDG Competition \\n \\n ...</td>\n",
       "      <td>en</td>\n",
       "    </tr>\n",
       "    <tr>\n",
       "      <th>1</th>\n",
       "      <td>art6.0</td>\n",
       "      <td>M.9001</td>\n",
       "      <td>art6.0\\M.9001\\m9001_54_3</td>\n",
       "      <td>\\nEUROPEAN COMMISSION \\nDG Competition \\n \\n ...</td>\n",
       "      <td>en</td>\n",
       "    </tr>\n",
       "    <tr>\n",
       "      <th>2</th>\n",
       "      <td>art6.0</td>\n",
       "      <td>M.9000</td>\n",
       "      <td>art6.0\\M.9000\\m9000_104_3</td>\n",
       "      <td>\\n \\nEUROPEAN COMMISSION \\nDG Competition \\n ...</td>\n",
       "      <td>en</td>\n",
       "    </tr>\n",
       "    <tr>\n",
       "      <th>3</th>\n",
       "      <td>art6.0</td>\n",
       "      <td>M.8999</td>\n",
       "      <td>art6.0\\M.8999\\m8999_63_8</td>\n",
       "      <td>\\nEUROPEAN COMMISSION \\nDG Competition \\n \\n ...</td>\n",
       "      <td>en</td>\n",
       "    </tr>\n",
       "    <tr>\n",
       "      <th>4</th>\n",
       "      <td>art6.0</td>\n",
       "      <td>M.8998</td>\n",
       "      <td>art6.0\\M.8998\\m8998_71_3</td>\n",
       "      <td>\\nEUROPEAN COMMISSION \\nDG Competition \\n \\n ...</td>\n",
       "      <td>en</td>\n",
       "    </tr>\n",
       "  </tbody>\n",
       "</table>\n",
       "</div>"
      ],
      "text/plain": [
       "  article case_num                   filename  \\\n",
       "0  art6.0   M.9004   art6.0\\M.9004\\m9004_65_3   \n",
       "1  art6.0   M.9001   art6.0\\M.9001\\m9001_54_3   \n",
       "2  art6.0   M.9000  art6.0\\M.9000\\m9000_104_3   \n",
       "3  art6.0   M.8999   art6.0\\M.8999\\m8999_63_8   \n",
       "4  art6.0   M.8998   art6.0\\M.8998\\m8998_71_3   \n",
       "\n",
       "                                                text lang  \n",
       "0   \\nEUROPEAN COMMISSION \\nDG Competition \\n \\n ...   en  \n",
       "1   \\nEUROPEAN COMMISSION \\nDG Competition \\n \\n ...   en  \n",
       "2   \\n \\nEUROPEAN COMMISSION \\nDG Competition \\n ...   en  \n",
       "3   \\nEUROPEAN COMMISSION \\nDG Competition \\n \\n ...   en  \n",
       "4   \\nEUROPEAN COMMISSION \\nDG Competition \\n \\n ...   en  "
      ]
     },
     "execution_count": 24,
     "metadata": {},
     "output_type": "execute_result"
    }
   ],
   "source": [
    "data_merged.head()"
   ]
  },
  {
   "cell_type": "code",
   "execution_count": 25,
   "metadata": {},
   "outputs": [
    {
     "data": {
      "text/html": [
       "<div>\n",
       "<style scoped>\n",
       "    .dataframe tbody tr th:only-of-type {\n",
       "        vertical-align: middle;\n",
       "    }\n",
       "\n",
       "    .dataframe tbody tr th {\n",
       "        vertical-align: top;\n",
       "    }\n",
       "\n",
       "    .dataframe thead th {\n",
       "        text-align: right;\n",
       "    }\n",
       "</style>\n",
       "<table border=\"1\" class=\"dataframe\">\n",
       "  <thead>\n",
       "    <tr style=\"text-align: right;\">\n",
       "      <th></th>\n",
       "      <th>article</th>\n",
       "      <th>case_num</th>\n",
       "      <th>filename</th>\n",
       "      <th>text</th>\n",
       "      <th>lang</th>\n",
       "    </tr>\n",
       "  </thead>\n",
       "  <tbody>\n",
       "  </tbody>\n",
       "</table>\n",
       "</div>"
      ],
      "text/plain": [
       "Empty DataFrame\n",
       "Columns: [article, case_num, filename, text, lang]\n",
       "Index: []"
      ]
     },
     "execution_count": 25,
     "metadata": {},
     "output_type": "execute_result"
    }
   ],
   "source": [
    "data_merged[data_merged['case_num'] == \"M.10261\"]"
   ]
  },
  {
   "cell_type": "code",
   "execution_count": 26,
   "metadata": {},
   "outputs": [
    {
     "data": {
      "text/plain": [
       "'M.5183'"
      ]
     },
     "execution_count": 26,
     "metadata": {},
     "output_type": "execute_result"
    }
   ],
   "source": [
    "data_merged['case_num'][1244]"
   ]
  },
  {
   "cell_type": "code",
   "execution_count": 27,
   "metadata": {},
   "outputs": [
    {
     "name": "stdout",
     "output_type": "stream",
     "text": [
      "EN\n",
      "Case No COMP/M.5181 (cid:150)\n",
      "Delta Air Lines/ Northwest\n",
      "Airlines\n",
      "Only the English text is available and authentic.\n",
      "REGULATION (EC) No 139/2004\n",
      "MERGER PROCEDURE\n",
      "Article 6(1)(b) NON-OPPOSITION\n",
      "Date: 06/08/2008\n",
      "In electronic form on the EUR-Lex website under document\n",
      "number 32008M5181\n",
      "Office for Official Publications of the European Communities\n",
      "L-2985 Luxembourg COMMISSION OF THE EUROPEAN COMMUNITIES\n",
      "Brussels, 06-VIII-2008\n",
      "SG-Greffe (2008) D/205034\n",
      "C(2008) 4359\n",
      "In the published version of this decision, some PUBLIC VERSION\n",
      "information has been omitted pursuant to Article\n",
      "17(2) of Council Regulation (EC) No 139/2004\n",
      "concerning  non-disclosure  of  business  secrets\n",
      "and  other  confidential  information.  The\n",
      "MERGER PROCEDURE\n",
      "omissions are shown thus [(cid:133)]. Where possible\n",
      "the information omitted has been replaced by ARTICLE 6(1)(b) DECISION\n",
      "ranges of figures or a general description.\n",
      "To the notifying party:\n",
      "Dear Sir/ Madam,\n",
      "Subject: Case  No  COMP/M.5181  (cid:150)  Delta  Air  Lines/  Northwest  Airlines\n",
      "Notification  of  23  June  2008  pursuant  to  Article  4  of  Council  Regulation\n",
      "No 139/20041\n",
      "1.  On 23 June 2008, the Commission received a notification of a proposed concentration\n",
      "pursuant to Article 4 of Council Regulation (EC) No 139/2004 (\"EC Merger Regulation\") by\n",
      "which the undertaking Delta Air Lines, Inc. (\"Delta\", U.S.) acquires within the meaning of\n",
      "Article 3(1)(b) of the Council Regulation control of the whole of the undertaking Northwest\n",
      "Airline Corporation (\"NWA\", U.S.) by way of purchase of shares.\n",
      "I. THE PARTIES\n",
      "2.  Delta is a U.S. flag commercial airline that provides scheduled air passenger and cargo\n",
      "transport  and  related  services.  In  2007,  Delta  flew  to  119  international  destinations,\n",
      "including 32 destinations to/from the European Union. Delta has hubs at the following\n",
      "airports: Atlanta, Cincinnati, New York-JFK and Salt Lake City. Delta is a member of the\n",
      "SkyTeam alliance.\n",
      "                                                \n",
      "1  OJ L 24, 29.1.2004, p. 1.\n",
      "Commission europØenne, B-1049 Bruxelles / Europese Commissie, B-1049 Brussel - Belgium. Telephone: (32-2) 299 11 11. 3.  NWA is also a U.S. flag commercial airline that provides scheduled air passenger and cargo\n",
      "transport and related services. In 2007, NWA offered scheduled air transportation services to\n",
      "50 international destinations, including 15 routes to/from the European Union. NWA has\n",
      "hubs at the following airports: Detroit, Memphis, Minneapolis-St. Paul and Tokyo-Narita.\n",
      "Northwest is also a member of the SkyTeam alliance since 2004.\n",
      "II. THE OPERATION\n",
      "4.  Pursuant to the Merger Agreement entered by Delta and NWA on 14 April 2008, NWA will\n",
      "merge  with  a  wholly-owned  subsidiary  of  Delta,  as  a  result  of  which  NWA  and  its\n",
      "subsidiaries will become wholly-owned subsidiaries of Delta.\n",
      "III. THE CONCENTRATION\n",
      "5.  Following the merger of NWA with a wholly-owned subsidiary of Delta, Delta will acquire\n",
      "sole control of NWA and its subsidiaries. The proposed operation constitutes a concentration\n",
      "within the meaning of Article 3(1)(b) of the Merger Regulation.\n",
      " IV. COMMUNITY DIMENSION\n",
      "6.  The undertakings concerned have a combined aggregate worldwide turnover of more than\n",
      "EUR 5 000 million2 (Delta EUR [CONFIDENTIAL] and NWA EUR [CONFIDENTIAL]).\n",
      "Each of them have a Community-wide turnover in excess of EUR 250 million (Delta EUR\n",
      "[CONFIDENTIAL] million and NWA EUR [CONFIDENTIAL] million), but they do not\n",
      "achieve more than two-thirds of their aggregate Community-wide turnover within one and\n",
      "the same Member State. The notified concentration has a Community dimension within the\n",
      "meaning of Article 1(2) of the Merger Regulation.\n",
      "V. THE RELEVANT PRODUCT AND GEOGRAPHIC MARKETS\n",
      "7.  As far as European markets are concerned, Delta and Northwest are both active in air\n",
      "passenger  and  cargo  transport  between  Europe  and  the  United  States.  The  proposed\n",
      "transaction thus leads to overlaps in two areas in the EEA: (i) scheduled passenger air\n",
      "transport; and (ii) air cargo transport.\n",
      "A. Scheduled air transport of passengers\n",
      "                                                \n",
      "2  Turnover  calculated  in  accordance  with  Article  5(1)  of  the  Merger  Regulation  and  the  Commission\n",
      "Consolidated Jurisdictional Notice (OJ C 95, 16.4.2008, p. 1). The parties’ turnover figures are based on a 50:50\n",
      "split between the country of departure and the country of final destination (see also Case COMP/M.4439 -\n",
      "Ryanair/Aer Lingus, at paragraphs 16 and following). Should the turnover figures be based on the point of\n",
      "origin of the flights as considered in Ryanair/Aer Lingus case, the Community dimension thresholds would be\n",
      "equally satisfied.. (1)  Point of origin/point of destination (\"O&D\") pairs\n",
      "8.  The Commission has in the past defined the relevant market for scheduled passenger air\n",
      "transport services on the basis of the (cid:147)point of origin/point of destination(cid:148) (O&D) city-pair\n",
      "approach3.  This  market  definition  corresponds  to  the  demand-side  perspective  whereby\n",
      "customers consider all possible alternatives of travelling from a point of origin (\"O\") to a\n",
      "point of destination (\"D\"), which they do not consider substitutable to a different city-pair.\n",
      "On this basis, every combination of a point of origin and a point of destination is considered\n",
      "to be a separate market.\n",
      "9.  The Commission has nevertheless in the past also taken into consideration supply-side\n",
      "elements  such  as  network  competition  between  airlines  based  on  the  hub-and-spoke\n",
      "structure of traditional carriers. Although in theory from a supply-side perspective a carrier\n",
      "could fly from any point of origin to any point of destination, in practice the network carriers\n",
      "construct their network and take decisions to fly almost exclusively on routes connecting to\n",
      "their hubs. From a demand-side perspective, it was generally considered that while networks\n",
      "have some importance for corporate customers whose demand is driven both by network\n",
      "effects and O&D considerations, their role remains rather limited for individual customers\n",
      "who are normally concerned with finding the cheapest and most convenient connection\n",
      "between two cities4.\n",
      "10.  The market investigation has generally confirmed that the market should be defined on the\n",
      "basis  of  the  Commission’s  traditional  O&D  city  pair  approach.  Indeed,  the  market\n",
      "investigation indicated that individual customers would not substitute one O&D for another.\n",
      "While the scope of a network is one of the decisive parameters taken into account by\n",
      "corporate customers when contracting with airlines and the discounts granted by airlines to\n",
      "corporate  customers  are  conditional  upon  corporate  customers  purchasing  the  tickets\n",
      "generally  on  a  network  (rather  than  on  a  route-by-route  basis),  corporate  customers’\n",
      "employees needs still revolve around transport from one point to another and competition\n",
      "still takes place on an O&D city pair basis.\n",
      "11.  Accordingly, for the purpose of this decision, the relevant markets should be defined on an\n",
      "O&D basis.\n",
      "(2)  Time-sensitive v. non time-sensitive passengers\n",
      "12.  The Commission has traditionally found that passengers travelling on unrestricted tickets,\n",
      "i.e.  time-sensitive  passengers  which  are  mainly  business  customers  having  a  need  for\n",
      "flexibility, may be in a different market from passengers travelling on restricted tickets, so-\n",
      "called non time-sensitive passengers attaching more importance to the price than to the\n",
      "frequency or direct/indirect itinerary of the flight5.\n",
      "                                                \n",
      "3  See, e.g., Case COMP/M.3280 - Air France/KLM, at paragraphs 9 and following, and Case COMP/M.3770 -\n",
      "Lufthansa/Swiss, at paragraphs 12 and following.\n",
      "4  See Case COMP/M.3280 - Air France/KLM, at paragraphs 11-16.\n",
      "5  See, e.g., Case COMP/M.3280 - Air France/KLM, at paragraph 19 and Case COMP/M.3770 - Lufthansa/Swiss,\n",
      "at paragraph 15. 13.  In its recent Ryaniar/Aer Lingus6 decision the Commission did not distinguish between\n",
      "time-sensitive and non time-sensitive passengers. However, there is a clear difference with\n",
      "the present case as in Europe both Ryanair and Aer Lingus are low-frills short-haul point-to-\n",
      "point operators selling one type of tickets whereas the case at hand relates to a merger\n",
      "between two network airlines offering transatlantic long haul flights, selling different types\n",
      "of tickets targeting different categories of passengers and achieving a considerable part of\n",
      "their turnover through sales to business or time-sensitive passengers.\n",
      "14.  The market investigation in the present case has confirmed that this distinction is still\n",
      "relevant although the boundaries between time-sensitive and non time-sensitive passengers\n",
      "have become more blurred over time and there is rather a continuum of types of passengers\n",
      "having various combinations of preferences with respect to price, flexibility of ticket and\n",
      "frequency of flights. In particular, there is a trend among corporate customers, representing\n",
      "most of the time-sensitive passengers, to be more flexible and prioritise the price of the\n",
      "ticket  over  other  factors,  such  as  time.  One  respondent  to  the  Commission’s  market\n",
      "investigation indicated that the \"companies tend to move towards the \"cheapest logical fare\"\n",
      "meaning that companies are still willing to pay more for improved flexibility and travel\n",
      "convenience  as  long  as  amounts  are  perceived  reasonable.\"  However,  this  distinction\n",
      "remains still important due to different needs and requirements of time-sensitive passengers\n",
      "as concerns the flexibility of tickets, possibility of late bookings and the service offered on\n",
      "the aircraft. In addition, from a supply-side perspective, airlines’ yield and their business\n",
      "strategy are to a large extent driven by this distinction.\n",
      "15.  In any case, the existence of distinct markets for time sensitive and non-time sensitive\n",
      "passengers can be left open as it does not alter the competition assessment in the present\n",
      "case.\n",
      "(3)  Substitutability of direct and indirect flights\n",
      "16.  With respect to long-haul flights the Commission has found in the past7 that indirect flights\n",
      "constitute  a  competitive  alternative  to  non-stop  services  under  certain  conditions  in\n",
      "particular when they are marketed as connecting flights on an O&D pair in the computer\n",
      "reservation systems, they operate on a daily basis and they only result in a limited increase\n",
      "of travelling time (max. 150 minutes of waiting time).\n",
      "17.  The market investigation has largely confirmed that indirect flights constitute an alternative\n",
      "to direct flights for the transatlantic city-pairs considered. This is particularly true for non\n",
      "time-sensitive passengers. With respect to time-sensitive passengers, it is clear that in case\n",
      "both direct and indirect flights are offered, there is a clear preference for a direct flight.\n",
      "However, in some circumstances, and in particular where the frequencies/schedules of an\n",
      "indirect service are more convenient or when there is a company policy whereby some\n",
      "airlines are preferred over the others, an indirect service may constitute a substitute even for\n",
      "                                                \n",
      "6  See Case COMP/M.4439 Ryanair/Aer Lingus, at paragraphs 85 and 316-319.\n",
      "7  See, e.g., Case COMP/M.2041 - United/US Airways, at paragraphs 13-19 as regards specifically transatlantic\n",
      "city-pairs. time-sensitive passengers. Moreover, in line with the increased price-sensitivity of corporate\n",
      "customers the market investigation indicated that some corporate customers have policies\n",
      "whereby they incite their employees to take reasonable connecting flights, in particular when\n",
      "the price difference is substantial.\n",
      "18.  Accordingly, for the purposes of the present decision, indirect flights resulting in only a\n",
      "limited increase in time are considered to be part of the same relevant market on each\n",
      "relevant transatlantic city-pair.\n",
      "B. Air cargo transport\n",
      "19.  With respect to air cargo market, the Commission has previously found that O&D approach\n",
      "to market definition is inappropriate given that cargo is generally less time-sensitive than\n",
      "passengers and that cargo is commonly transported by trans-modal methods beyond and\n",
      "behind the origin and destination points. Accordingly, the geographic market can be defined\n",
      "wider  and  as  concerns  the  intercontinental  routes,  the  corresponding  catchment  areas\n",
      "broadly correspond to continents, at least for those continents where local infrastructure is\n",
      "adequate to allow for onward connections8. This is the case of the North Atlantic routes\n",
      "(routes between Europe and North America) affected by the present transaction. In this\n",
      "respect it should be noted that the cargo transport is by nature unidirectional as the demand\n",
      "on each end of the route differs substantially. Accordingly, the relevant markets have to be\n",
      "defined on this basis.\n",
      "20.  The Commission in previous cases left open the question whether the market for air cargo\n",
      "transport should be further subdivided depending on the nature of transported goods. The\n",
      "Commission however indicated that some type of goods, such as dangerous goods, may\n",
      "require special handling so that they can be transported only on full-freighter aircraft9.\n",
      "However, on the transatlantic routes concerned by the present transaction neither of the\n",
      "parties operates dedicated cargo aircraft which could allow for this special treatment and\n",
      "thus typically they transport general cargo. In light of this and the parties’ limited activities\n",
      "in the transport of air cargo between Europe and the U.S., it is irrelevant for the purposes of\n",
      "this case to further subdivide the cargo market.\n",
      "21.  Accordingly, the relevant markets for the purpose of this case are the transport of air cargo\n",
      "from Europe to North America and the transport of air cargo from North America to Europe.\n",
      "                                                \n",
      "8  See Case COMP/M.3280 - Air France/KLM, at paragraph 36 and Case COMP/M.3770 -Lufthansa/Swiss, at\n",
      "paragraph 19.\n",
      "9  See Case COMP/M.3280 - Air France/KLM, at paragraph 37. VI. COMPETITIVE ASSESSMENT\n",
      "A. Scheduled air transport of passengers\n",
      "1.  Conceptual framework for the competitive assessment of the merger between Delta\n",
      "and Northwest\n",
      "22.  When assessing the competitive impact of a transaction, the Commission is required to\n",
      "conduct a prospective analysis in which it has to compare the competitive conditions that\n",
      "would result from the notified merger with the conditions that would have prevailed without\n",
      "the merger (\"the counterfactual\"), so as to determine whether the proposed concentration\n",
      "would significantly impede effective competition, in particular as a result of the creation or\n",
      "strengthening of a dominant position.10 The competitive conditions existing at the time of\n",
      "the merger, as well as future changes to the market that can reasonably be predicted,\n",
      "constitute the relevant point of comparison11.\n",
      "The position of the notifying party\n",
      "23.  The  notifying  party  submits  that,  as  a  result  of  a  significant  number  of  cooperation\n",
      "agreements, Northwest and Delta already do not compete on a certain number of routes and\n",
      "notably on all transatlantic routes between the U.S. and the EEA. They therefore claim that\n",
      "the relevant counterfactual is a situation characterized by the absence of competition, at least\n",
      "on  these  markets,  to  conclude  that  \"the  merger  does  not  therefore  eliminate  existing\n",
      "competition such that an SIEC could conceivably result\".\n",
      "The Commission’s position\n",
      "24.  Delta and NWA are both members of the SkyTeam alliance12. Airline alliances such as\n",
      "SkyTeam provide the framework for numerous bilateral and/or multilateral cooperation\n",
      "agreements between the alliance members which amount to various degrees of cooperation\n",
      "between members. The alliance agreement lists a number of areas for potential cooperation,\n",
      "which may range from plain code-sharing on a single route to worldwide network and fare\n",
      "coordination. Accordingly, the degree of cooperation varies not only between alliances but\n",
      "also within one alliance between its various members. It can range from a simple marketing\n",
      "alliance in which the airlines cooperate through the use of a common alliance brand, product\n",
      "development,  code-sharing,  frequent  flyer  participation  agreements,  and  airport  lounge\n",
      "access agreements, to alliances in which the airlines closely co-ordinate pricing, sales,\n",
      "                                                \n",
      "10  See Horizontal Merger Guidelines, at paragraph 9.\n",
      "11  See Horizontal Merger Guidelines, at paragraph 9.\n",
      "12  SkyTeam  alliance  has  11  full  members:  Aeroflot,  Aeromexico,  Air  France,  Alitalia,  China  Southern,\n",
      "Continental Airlines, CSA Czech Airlines, Delta airlines, KLM, Korean Airlines and Northwest Airlines.\n",
      "Associate members of SkyTeam are: Air Europa, Copa Airlines and Kenya Airways. It should be noted that\n",
      "SkyTeam alliance provides for a framework within which various members have concluded bilateral and\n",
      "multilateral cooperation agreements whereby they cooperate more or less extensively. On 19 June 2008,\n",
      "Continental Airlines has publicly announced its plans to leave SkyTeam and join the Star Alliance in a closely\n",
      "coordinated marketing and alliance relationship with United Airlines and Lufthansa. network planning, and other marketing activities, and up to joint ventures in which the\n",
      "participants combine their networks and share a common bottom line.\n",
      "25.  The degree of cooperation existing between various alliance members determines the level\n",
      "of competition between them. In past merger  and  antitrust  cases,  the  Commission  has\n",
      "considered that alliance members with a loose degree of cooperation compete13 whilst other\n",
      "members belonging to highly integrated alliance cannot be considered as competitors as\n",
      "their cooperation affects their incentives to compete to an extent that they no longer exert\n",
      "any competitive pressure on each other14. As a result, the Commission for the purpose of the\n",
      "assessment of airline mergers has aggregated the market shares of those alliance partners\n",
      "which cooperate extensively and thus do not have an incentive to compete.\n",
      "26.  As regards SkyTeam more specifically, the Commission found in its 2004 review of the Air\n",
      "France/KLM merger that due to Air France and KLM’s respective cooperation agreements\n",
      "(the SkyTeam alliance and the KLM/Northwest joint venture), the merger would not only\n",
      "eliminate competition between Air France and KLM, but also between their respective\n",
      "partners Delta, Alitalia, CSA Czech Airlines, Northwest and Kenya Airlines15.\n",
      "27.  Accordingly, as regards transatlantic routes, the Commission assessed not only the overlaps\n",
      "between Air France and KLM but also the overlap between KLM and Delta (Air France’s\n",
      "close partner)16 and between Air France and Northwest (KLM’s joint venture partner for\n",
      "transatlantic routes17)18, and added the market share of all SkyTeam partners on the affected\n",
      "routes. On this basis, the Commission found that the merger risked creating a dominant\n",
      "position on the transatlantic routes Amsterdam-New York (between hubs of KLM and\n",
      "Delta), Amsterdam-Atlanta (between hubs of KLM and Delta), and Paris-Detroit (between\n",
      "hubs of Air France and NWA). Following commitments offered by the parties and including\n",
      "slot  releases  at  Amsterdam  and  Paris  airports  for  operations  on  these  3  routes,  the\n",
      "Commission approved the merger.\n",
      "28.  As a result of the merger of Air France and KLM, NWA and Delta each cooperate closely\n",
      "on transatlantic routes with Air France/KLM. Therefore, indirectly through their respective\n",
      "close cooperation with the same legal entity Air France/KLM, Delta and NWA already do\n",
      "not have any incentive to compete on transatlantic routes despite the lack of U.S. antitrust\n",
      "immunity limiting their direct cooperation until recently (see below paragraph 29).\n",
      "                                                \n",
      "13  See Commission decision in Case COMP/M. 3280 - Air France/KLM, at paragraphs  56 and 63, where the\n",
      "existing degree of commercial cooperation between KLM/Northwest on the one hand and Continental on the\n",
      "other hand (namely cooperation limited to code-sharing) allowed the Commission to conclude that these entities\n",
      "competed and maintained an incentive to compete on transatlantic routes.\n",
      "14  See, e.g., Commission decision in Case COMP/M.3770 - Lufthansa/Swiss, at paragraph 22 finding that Austrian\n",
      "Airlines, bmi, SAS, and United Airlines cannot be considered as competitors of Lufthansa.\n",
      "15  See Case COMP/M. 3280 - Air France/KLM, paragraphs 43 and following, in particular at paragraph 62.\n",
      "16  See in particular paragraph 109 as regards the overlap between KLM/NW and Delta on Amsterdam-New York.\n",
      "17  The KLM/NWA joint venture is centred on Amsterdam-Schiphol airport from which the two airlines operate\n",
      "joint venture flights to 20 cities in the U.S., Canada, and Mexico and two cities in India. The joint venture also\n",
      "includes NWA’s flights from the U.S. to four European destinations (D(cid:252)sseldorf, Frankfurt, London and Paris).\n",
      "Under the terms of this joint venture, all pricing, sales and marketing of NWA’s passenger operations in Europe\n",
      "are carried out by KLM.\n",
      "18  See in particular paragraph 113 as regards the overlap between Air France and Delta on the one hand and\n",
      "Northwest on Paris-Detroit. 29.  Since 2004, the cooperation between Delta, NWA and Air France/KLM has become more\n",
      "intense. KLM and NWA have joined the SkyTeam alliance, as anticipated in the competitive\n",
      "assessment for the Air France/KLM merger. Furthermore, Delta, NWA, Air France and\n",
      "KLM (\"SkyTeam 4\") also plan to establish a four-way joint venture for transatlantic routes,\n",
      "which  will  allow  the  four  carriers  to  coordinate  sales,  fares,  seat  allocations,  revenue\n",
      "management, schedules, flights, route network, and will pool costs and revenues for a\n",
      "common bottom line (so-called \"metal neutrality\" whereby a carrier selling a ticket becomes\n",
      "indifferent to which carrier actually operates the service). All these agreements are being\n",
      "investigated by the Commission in the SkyTeam case19, however the Commission has not\n",
      "yet taken a position on the compatibility of these agreements with Article 81 EC. The\n",
      "alliance agreements between Air France, KLM, Alitalia, CSA Czech Airlines, Delta and\n",
      "NWA (\"SkyTeam 6\") for transatlantic routes were granted antitrust immunity by the U.S.\n",
      "Department of Transportation on 22 May20. Accordingly, Delta and NWA are no longer\n",
      "limited in their direct cooperation on transatlantic routes by the U.S. antitrust rules (as\n",
      "previously only the KLM/NWA joint venture and the Delta/Air France/Alitalia/CSA Czech\n",
      "Airlines had formal U.S. antitrust immunity).\n",
      "30.  The limited incentive for Delta and NWA to compete due to their respective extensive\n",
      "cooperation  with  Air  France/KLM,  reinforced  by  the  planned  four-way  joint  venture\n",
      "between these carriers on transatlantic routes, constitutes the relevant counterfactual against\n",
      "which to assess the competitive impact of the merger of Delta and NWA.\n",
      "31.  For the purpose of assessing the impact of the Delta/Northwest merger, the Commission\n",
      "must therefore focus on merger-specific changes to the pre-merger competitive situation\n",
      "characterised by extensive cooperation on transatlantic routes between Delta, Northwest,\n",
      "France/KLM, Alitalia and CSA Czech Airlines, as recognized by the Commission in 2004.\n",
      "32.  The only change brought about by the merger as regards competition between Delta and\n",
      "Northwest is that the absence of effective competition between them will no longer result\n",
      "from cooperation agreements but from their integration into a single economic unit. The\n",
      "merger will create a permanent structural link between Delta and Northwest that replaces the\n",
      "extensive cooperation on transatlantic routes that currently takes place within the framework\n",
      "of SkyTeam.\n",
      "33.  Depending on the market position of the merging parties on the routes concerned, it cannot\n",
      "be excluded that a merger between two alliance partners could significantly affect the\n",
      "competitive situation on some routes, in particular on hub-to-hub routes. The Commission\n",
      "therefore analyzes below on a route by route basis the specific effects of the creation of a\n",
      "permanent structural link between the two merging parties in order to assess the extent to\n",
      "which competition may be affected post-merger. In this assessment, the Commission does\n",
      "not take a position on the compatibility of the existing cooperation agreements with Article\n",
      "81 EC, as it does not change the assessment, given the respective market position of the\n",
      "parties on the routes concerned. By focusing on the market position of Delta and NWA, the\n",
      "Commission aims at assessing the impact of removing these parties as potential competitors\n",
      "on the markets concerned post-merger (to the extent that the merger creates a permanent\n",
      "                                                \n",
      "19  Case COMP/37984.\n",
      "20   The granting of antitrust immunity is conditional on the implementation of the four-way joint venture within\n",
      "18 months. structural link between these two companies, independently of the future of the SkyTeam\n",
      "alliance).\n",
      "34.  In this respect, it can be noted from the outset that, as the present case relates to a merger\n",
      "between  two  U.S.  network  carriers  with  different  hubs  and  with  services  that  are\n",
      "complementary rather than competing, there are actually very few O&D city pairs where\n",
      "Delta and Northwest have a direct overlap and there are no routes where they both have a\n",
      "significant market share.\n",
      "Conclusion on conceptual framework\n",
      "35.  Accordingly, in the competitive assessment below, the Commission has identified all the\n",
      "affected transatlantic O&D routes where Delta and Northwest overlap and their combined\n",
      "market share (taking into account their SkyTeam 4 partners) exceeds 25%.\n",
      "36.  However, for each of the affected routes, the Commission assesses below whether the\n",
      "creation of a permanent structural link between Delta and Northwest would give rise to any\n",
      "competition concerns by focussing on the overlaps between Delta and Northwest alone on a\n",
      "route, and disregarding the position of their SkyTeam partners.\n",
      "37.  By doing so, the Commission has focussed its assessment on the specific change brought\n",
      "about by the merger of Delta and Northwest. This assessment is without prejudice of the\n",
      "application of Article 81 EC to the SkyTeam cooperation agreements.\n",
      "2.  Route-by-route assessment\n",
      "38.  The  present  transaction  only  affects  long-haul  transatlantic  services.  The  parties  have\n",
      "identified 89 affected transatlantic routes between Europe and the U.S. where the parties\n",
      "have direct/direct overlaps (3 routes), direct/indirect overlaps (78 routes) or indirect/indirect\n",
      "overlaps (8 routes)21. Both \"operating overlaps\" (i.e., where a party actually operates the\n",
      "flights itself) and \"marketing overlaps\" (i.e., where a party sells seats on the flight of another\n",
      "airline) are taken into account for the purpose of the competitive assessment of the present\n",
      "transaction.\n",
      "39.  On 17 of the 89 overlap routes, the combined market share of SkyTeam 4 partners is below\n",
      "25% and thus the effect of the present transaction is de minimis. These routes are not further\n",
      "analysed below.\n",
      "40.  Should the market shares of  SkyTeam 6 partners, i.e. including CSA Czech Airlines and\n",
      "Alitalia, be aggregated on these routes, the situation would not change substantially as only\n",
      "few routes connect one of Alitalia or CSA Czech Airlines’ hubs. The fact that the tables\n",
      "below refer to SkyTeam 4 combined market shares is without prejudice to the counterfactual\n",
      "for the assessment of this merger, i.e. the situation where the SkyTeam 6 partners do not\n",
      "compete. Given that the parties have even tighter joint venture agreements with KLM/AF,\n",
      "the SkyTeam 4 market shares are included in the tables for indicative purposes. It should be\n",
      "borne in mind that the Commission’s analysis in this case focuses only on the merger-\n",
      "                                                \n",
      "21  As regards indirect/indirect overlaps, long-haul routes with an annual passenger traffic less than 30,000\n",
      "passengers are not regarded as economically significant and were not taken into account in the Commission’s\n",
      "assessment, in line with previous Commission practice (see, e.g., Case COMP/MP.2041 - United Airlines/US\n",
      "Airways, at paragraph 64; Case COMP/M.3280 (cid:150) Air France/KLM, at paragraph 106). specific effects this transaction is bringing to the status quo characterized by the lack of\n",
      "competition on transatlantic routes between SkyTeam 6 members.\n",
      "41.  As a preliminary remark to the competitive assessment of this case it should be noted that\n",
      "the figures used are based on MIDT data which do not include direct sales, such as sales\n",
      "made on the airlines’ own websites. While the parties have corrected their own market share\n",
      "data to reflect their real sales, competitors(cid:146) market shares remained unaltered. It follows that\n",
      "the overall market sizes are underestimated (some airlines apply + 20% factor to correct the\n",
      "MIDT data) and the parties’ estimated market shares slightly overestimate their real position.\n",
      "a)  Routes where both parties offer a direct service\n",
      "42.  There  are  only  three  routes  affected  by  the  present  transaction  where  both  Delta  and\n",
      "Northwest offer competing direct services: Amsterdam/Atlanta, Amsterdam/New York and\n",
      "Paris/Detroit.\n",
      "43.  Amsterdam/Atlanta ([30 000 (cid:150) 40 000] passengers in 2007): Delta, NWA and KLM offer\n",
      "the only direct services on this route. Indirect flights are offered, in addition to these three\n",
      "carriers, by British Airways, Continental, Lufthansa, United Airlines and US Airways (all\n",
      "with market shares below [0-5]%). The competitive situation on this route is outlined in the\n",
      "following table.\n",
      " Table 1:  Market shares on Amsterdam/Atlanta route\n",
      "Market share 2007 (%)\n",
      "Amsterdam/Atlanta TSP NTSP All passengers\n",
      "(direct + indirect flights) ([0-10 000] pax) ([20 000-30 000]) pax) ([30 000-40 000] pax)\n",
      "DL [50-60]% [40-50]% [40-50]%\n",
      "NWA [0-5]% [5-10]% [5-10]%\n",
      "DL+NWA [60-70]% [50-60]% [50-60]%\n",
      "KL [30-40]% [30-40]% [30-40]%\n",
      "AF [0-5]% [0-5]% [0-5]%\n",
      "AF+KL [30-40]% [30-40]% [30-40]%\n",
      "TOTAL SkyTeam 4 [90-100]% [80-90]% [80-90]%\n",
      "TOTAL SkyTeam 6 [90-100]% [80-90]% [80-90]%\n",
      "TOTAL others [5-10]% [10-20]% [10-20]%\n",
      "TOTAL 100% 100% 100%\n",
      "Source: Information compiled from the Form CO. Figures based on MIDT data.\n",
      "44.  The combined market share of Delta and Northwest on this route amounts to [60-70]% for\n",
      "time-sensitive  passengers  and  to  [50-60]%  for  non  time-sensitive  passengers.  Delta’s\n",
      "substantial market share on this route results from the fact that Atlanta is its main hub in the\n",
      "U.S. The SkyTeam 4’s combined market share is very high amounting to [80-90]% which is\n",
      "due to the strong position of KLM (close to [30-40]% for all passengers) which operates this\n",
      "route from its hub in Amsterdam.\n",
      "45.  As mentioned above, this route was assessed in the Air France-KLM merger decision and\n",
      "commitments were submitted including the release of slots at the Amsterdam airport to\n",
      "allow  competitors  to  operate  a  daily  direct  or  indirect  service  on  this  city-pair.  These\n",
      "commitments are still in place. 46.  The only change brought about by the present transaction, as compared to pre-merger\n",
      "situation, relates to the creation of a structural, permanent link between Delta and Northwest\n",
      "which replaces their pre-existing cooperation. The creation of this permanent structural link\n",
      "between the parties is unlikely to have a significant impact on the competitive situation on\n",
      "this route, given NWA’s limited position with  a  [5-10]%  market  share  and  its  limited\n",
      "presence in Atlanta. This is confirmed by the market investigation which did not identify\n",
      "any competition concerns with respect to this route.\n",
      "47.  Therefore, with respect to this route, the proposed concentration does not raise serious\n",
      "doubts as to its compatibility with the common market.\n",
      "48.  Amsterdam/New York ([250 000 (cid:150) 300 000] passengers in 2007): Delta, NWA, KLM and\n",
      "Continental offer the only direct services on this  route. Indirect  flights  are  offered,  in\n",
      "addition to these four carriers, by British Airways, Lufthansa, United Airlines and American\n",
      "Airlines (all with market shares below [0-5]%). The competitive situation on this route is\n",
      "outlined in the table below.\n",
      "Table 2:  Market shares on Amsterdam/New York route\n",
      "Market share 2007 (%)\n",
      "TSP NTSP All passengers\n",
      "Amsterdam/New York ([40 000-50 000] ([200 000-250 000] ([250 000-300\n",
      "(direct + indirect flights) pax) pax) 000] pax)\n",
      "DL [10-20]% [20-30]% [20-30]%\n",
      "NW [0-5]% [0-5]% [5-10]%\n",
      "DL+NW [10-20]% [30-40]% [20-30]%\n",
      "KL [50-60]% [30-40]% [30-40]%\n",
      "AF [0-5]% [0-5]% [0-5]%\n",
      "AF+KL [50-60]% [30-40]% [30-40]%\n",
      "TOTAL SkyTeam 4 [60-70]% [60-70]% [60-70]%\n",
      "TOTAL SkyTeam 6 [60-70]% [60-70]% [60-70]%\n",
      "CO [20-30]% [20-30]% [20-30]%\n",
      "TOTAL others [30-40]% [30-40]% [30-40]%\n",
      "TOTAL 100,0% 100,0% 100,0%\n",
      "Source: Information compiled from the Form CO. Figures based on MIDT data.\n",
      "49.  The combined market share of Delta and Northwest on this route amounts to [10-20]% for\n",
      "time-sensitive and to [30-40]% for non time-sensitive passengers. Delta’s relatively high\n",
      "market share on this route is explained by the fact that New York is one of its U.S. hubs.\n",
      "The  creation  of  a  permanent  structural  link  between  the  parties  is  unlikely  to  have  a\n",
      "significant impact on the competitive situation on this route given NWA’s limited position\n",
      "with a [0-5]% market share. SkyTeam 4’s combined market share on this route reaches [60-\n",
      "70]% due to the high market share of KLM operating this route from its hub in Amsterdam.\n",
      "Continental is a strong competitor on this route having a market share just above [10-20]%.\n",
      "In  the  Air  France/KLM  merger  decision,  Continental  was  found  to  be  an  effective\n",
      "competitor to the merging parties on transatlantic routes and it is even more a competitor\n",
      "today. Although Continental is still part of the SkyTeam alliance it has publicly announced\n",
      "on 19 June 2008 its intention to join the Star alliance. Moreover, as a result of the entry into effect of the EU-U.S. Air Transport Agreement it is expected that British Airways will\n",
      "launch a direct service on this route as of 15 October 200822.\n",
      "50.  As mentioned above, this route was assessed in the Air France-KLM merger decision and\n",
      "commitments were submitted including the release of slots at the Amsterdam airport to\n",
      "allow  competitors  to  operate  a  daily  direct  or  indirect  service  on  this  city-pair.  These\n",
      "commitments are still in place. The market investigation did not identify any competition\n",
      "concerns with respect to this route.\n",
      "51.  Therefore, with respect to this route, the proposed concentration does not raise serious\n",
      "doubts as to its compatibility with the common market.\n",
      "52.  Paris/Detroit ([30 000-40 000] passengers in 2007): NWA, Air France and Delta operate\n",
      "the only direct services on this route. Indirect flights are offered, in addition to these three\n",
      "carriers, by KLM, British Airways, Lufthansa, United Airlines, Continental and American\n",
      "Airlines (all with market shares below [0-5]%). The competitive situation on this route is\n",
      "outlined in the following table.\n",
      "Table 3:  Market shares on Paris/Detroit route\n",
      "Market share 2007 (%)\n",
      "NTSP\n",
      "Paris/Detroit TSP ([20 000-30 000] All passengers\n",
      "(direct + indirect flights) ([0-10 000] pax) pax) ([30 000-40 000] pax)\n",
      "DL [0-5]% [0-5]% [0-5]%\n",
      "NW [40-50]% [50-60]% [40-50]%\n",
      "DL+NW [40-50]% [50-60]% [50-60]%\n",
      "KL [0-5]% [0-5]% [0-5]%\n",
      "AF [40-50]% [20-30]% [20-30]%\n",
      "AF+KL [40-50]% [20-30]% [20-30]%\n",
      "TOTAL SkyTeam 4 [90-100]% [70-80]% [80-90]%\n",
      "TOTAL SkyTeam 6 [90-100]% [70-80]% [80-90]%\n",
      "TOTAL others [5-10]% [20-30]% [10-20]%\n",
      "TOTAL 100,0% 100,0% 100,0%\n",
      "Source: Information compiled from the Form CO. Figures based on MIDT data.\n",
      "53.  The parties’ combined market share on this route amounts to [40-50]% for time-sensitive\n",
      "and to [50-60]% for non-time passengers in 2007. NWA’s high market share on this route\n",
      "can be explained by the fact that Detroit is one of its hubs in the U.S. The creation of a\n",
      "permanent structural link between the parties is unlikely to have a significant impact on the\n",
      "competitive situation on this route given Delta’s limited position with a [0-5]% market share\n",
      "for time-sensitive passengers and [0-5]% market share for non time-sensitive passengers.\n",
      "Air France serves this route from its hub in Paris and has a market share close to [20-30]%\n",
      "for  all  passengers  ([40-50]%  for  time-sensitive  and  [20-30]%  for  non  time-sensitive\n",
      "passengers). Accordingly, SkyTeam 4’s combined market share is very high and reaches\n",
      "[90-100]% for time-sensitive and [70-80]% for non time-sensitive passengers.\n",
      "54.  As mentioned above, this route was assessed in the Air France-KLM merger decision and\n",
      "commitments were submitted including the release of slots at the Amsterdam airport to\n",
      "                                                \n",
      "22  See article in Aviation Daily of 29 July 2008, \"British Airways Adds Amsterdam to OpenSkies Network\", p.\n",
      "3. allow  competitors  to  operate  a  daily  direct  or  indirect  service  on  this  city-pair.  These\n",
      "commitments are still in place. The market investigation did not identify any competition\n",
      "concerns with respect to this route.\n",
      "55.  Therefore, with respect to this route, the proposed concentration does not raise serious\n",
      "doubts as to its compatibility with the common market.\n",
      "b)  Routes where one party offers a direct service and the other\n",
      "party indirect service\n",
      "56.  There are 72 routes affected by the present transaction where either Delta or Northwest\n",
      "offers direct services, and the other party offers indirect services. The Commission has\n",
      "examined the competitive impact of the concentration on each of these routes separately for\n",
      "time-sensitive and non-time sensitive passengers, and found that the result of the assessment\n",
      "was the same for both kinds of passengers. This was confirmed by the respondents to the\n",
      "market  investigation.  As  a  result,  due  to  the  large  number  of  routes  involved,  only\n",
      "aggregated market shares for all passengers are presented below.\n",
      "(i)  Routes connecting to Delta’s hub in Atlanta\n",
      "57.  The present transaction affects in total 19 transatlantic routes connecting a European city to\n",
      "Delta’s hub in Atlanta. Except for Amsterdam/Atlanta which was assessed above, all these\n",
      "routes relate to direct-indirect overlaps, i.e. to situations where one party offers a direct\n",
      "service and the other party an indirect service. Table 4:  Market shares on routes connecting to Delta’s hub in Atlanta (all passengers 2007)\n",
      "DL NW DL + NW Sky Team 4\n",
      "Route (direct+indirect (direct+indirect (direct+indirect (direct+indirect\n",
      "(number of passengers in 2007) flights) flights) flights) flights)\n",
      "Stuttgart- Atlanta [(10 000-20 000]) [80-90]% [0-5]% [80-90]% [90-100]%\n",
      "Brussels- Atlanta ([20 000-30 000]) [80-90]% [0-5]% [80-90]% [80-90]%\n",
      "Dusseldorf- Atlanta [(10 000-20 000[) [70-80]% [0-5]% [80-90]% [80-90]%\n",
      "Manchester- Atlanta ([20 000-30 000]) [80-90]% [0-5]% [80-90]% [80-90]%\n",
      "Munich- Atlanta ([20 000-30 000]) [70-80]% [0-5]% [70-80]% [80-90]%\n",
      "Dublin- Atlanta [(10 000-20 000[) [70-80]% [0-5]% [70-80]% [70-80]%\n",
      "Edinburgh- Atlanta ([0-10 000]) [70-80]% [0-5]% [70-80]% [80-90]%\n",
      "Copenhagen- Atlanta [(10 000-20 000]) [70-80]% [0-5]% [70-80]% [80-90]%\n",
      "Milan- Atlanta [(10 000-20 000])23 [60-70]% [0-5]% [60-70]% [70-80]%\n",
      "Madrid- Atlanta [(10 000-20 000]) [60-70]% [0-5]% [60-70]% [70-80]%\n",
      "Vienna- Atlanta ([0-10 000]) [60-70]% [0-5]% [60-70]% [70-80]%\n",
      "Barcelona- Atlanta [(10 000-20 000]) [60-70]% [0-5]% [60-70]% [80-90]%\n",
      "Prague - Atlanta [(10 000-20 000])24 [60-70]% [0-5]% [60-70]% [70-80]%\n",
      "Rome- Atlanta ([30 000-40 000]) [60-70]% [0-5]% [60-70]% [70-80]%\n",
      "Venice- Atlanta [(10 000-20 000]) [50-60]% [0-5]% [60-70]% [70-80]%\n",
      "Frankfurt- Atlanta ([60 000-70 000]) [50-60]% [0-5]% [50-60]% [50-60]%\n",
      "Athens- Atlanta [(10 000-20 000]) [50-60]% [0-5]% [50-60]% [70-80]%\n",
      "London- Atlanta [(100 000-150 000]) [40-50]% [0-5]% [40-50]% [40-50]%\n",
      "Paris- Atlanta [(40 000-50 000]) [40-50]% [0-5]% [40-50]% [80-90]%\n",
      "Source: Information compiled from the Form CO. Figures based on MIDT data.\n",
      "58.  Given that Atlanta is Delta’s strong U.S. hub, Delta’s pre-merger market shares on all of\n",
      "these  routes  are  substantial,  ranging  from  [40-50]%  on  Paris/Atlanta  to  [80-90]%  on\n",
      "Stuttgart/Atlanta. NWA’s market shares on these routes remain very limited ranging from\n",
      "[0-5]% to [0-5]%. This is in line with the fact that NWA flies these routes only indirectly,\n",
      "via one of its own U.S. hubs.\n",
      "59.  Accordingly, the permanent structural change brought about by the present transaction is in\n",
      "most minimal. In fact, on all routes connecting to Delta’s hub in Atlanta, NW’s market share\n",
      "and thus the structural link created by this merger, does not exceed [0-5]% and only on three\n",
      "routes, namely Dusseldorf/Atlanta, London/Atlanta and Paris/Atlanta it is higher than [0-\n",
      "5]%.\n",
      "60.  Although a few respondents to the market investigation expressed general concerns about\n",
      "the strength of SkyTeam on the bundle of these routes, no specific concerns were identified\n",
      "with respect to any of these routes. In fact, as already mentioned, SkyTeam’s strength on this\n",
      "bundle is due to a large extent to Delta’s strength at its hub in Atlanta. In any case, the\n",
      "present transaction does not materially alter the competitive conditions on these O&D city\n",
      "pairs as compared to the pre-merger situation.\n",
      "                                                \n",
      "23  This route connects Alitalia’s hub in Milan to Delta’s hub in the U.S. Alitalia’s market share on this route\n",
      "amounts to [10-20]% for all passengers which brings SkyTeam 6 combined market share to [80-90]% for all\n",
      "passengers.\n",
      "24  This route connects CSA Czech Airlines’ hub in Prague to Delta’s hub in the U.S. Czech Airlines’ market\n",
      "share on this route amounts to [0-5]% for all passengers. SkyTeam 6 combined market share reaches  [80-\n",
      "90]% for all passengers. 61.  Therefore, with respect to this bundle of routes, the proposed concentration does not raise\n",
      "serious doubts as to its compatibility with the common market.\n",
      "(ii)  Routes connecting to Delta’s hub in New York\n",
      "62.  The present transaction affects in total 12 transatlantic routes connecting a European city to\n",
      "Delta’s hub in New York. Except for Amsterdam/New York which was assessed above and\n",
      "which relates to a direct/direct overlap of the parties, all these routes relate to direct-indirect\n",
      "overlaps, i.e. to situations where one party offers a direct service and the other an indirect\n",
      "service.\n",
      "Table 5:  Market shares on routes connecting to Delta’s hub in New York (all passengers 2007)\n",
      "DL NW DL + NW Sky Team 4\n",
      "Route (direct+indirect (direct+indirect (direct+indirect (direct+indirect\n",
      "(number of passengers in 2007) flights) flights) flights) flights)\n",
      "Pisa- New York ([30 000-40 000]) [60-70]% [0-5]% [60-70]% [60-70]%\n",
      "Nice- New- York ([60 000-70 000]) [40-50]% [0-5]% [40-50]% [60-70]%\n",
      "Bucharest- New York ([40 000-50 000]) [40-50]% [0-5]% [40-50]% [60-70]%\n",
      "Venice- New York ([90 000-100 000]) [40-50]% [0-5]% [40-50]% [50-60]%\n",
      "Berlin- New York ([100 000-150 000]) [30-40]% [0-5]% [30-40]% [40-50]%\n",
      "Budapest- New York ([80 000-90 000]) [30-40]% [0-5]% [30-40]% [40-50]%\n",
      "Dublin- New York (150 000-200 000]) [20-30]% [0-5]% [20-30]% [20-30]%\n",
      "Brussels- New York ([150 000-200 000]) [20-30]% [0-5]% [20-30]% [20-30]%\n",
      "Barcelona- New York [(200 000-250 000)] [20-30]% [0-5]% [20-30]% [30-40]%\n",
      "Madrid- New York [(250 000-300 000)] [20-30]% [0-5]% [20-30]% [20-30]%\n",
      "Athens- New York ([150 000-200 000]) [20-30]% [0-5]% [20-30]% [20-30]%\n",
      "Paris- New York ([600 000-650 000]) [10-20]% [0-5]% [10-20]% [40-50]%\n",
      "Source: Information compiled from the Form CO. Figures based on MIDT data.\n",
      "63.  Given that New York JFK is a strong hub of Delta in the U.S., Delta’s pre-merger market\n",
      "shares on all of these routes are rather high, ranging from [10-20]% on Paris/New York to\n",
      "[60-70]% on Pisa/New York. As Northwest does not have a hub in New York while New\n",
      "York is a hub to other carriers such as American Airlines, NWA’s market shares on these\n",
      "routes remain very limited ranging from close to [0-5]% to [0-5]%. This is in line with the\n",
      "fact that NWA flies these routes only indirectly, via one of its own U.S. hubs. SkyTeam’s 4\n",
      "combined market share broadly correspond to DL’s market shares with the exception of\n",
      "Paris/New York, Nice/New York and Pisa/New York where Air France has a good market\n",
      "position with its direct (in case of its flight from its hub in Paris) and indirect services and\n",
      "Bucharest/New York where KLM operates an indirect service via its hub in Amsterdam and\n",
      "has a close to [10-20]% market share.\n",
      "64.  Accordingly,  the  permanent  structural  change  brought  about  by  the  present transaction\n",
      "remains very limited and in the worst case scenario slightly exceeds [0-5]%. Moreover, on\n",
      "most of these routes there are other strong competitors present, such as Continental (strong\n",
      "for  instance  on  Barcelona/New  York,  Madrid/New  York,  Brussels/New  York  and\n",
      "Berlin/New York reaching market shares above [20-30%), Lufthansa (strong on Berlin/New York and Budapest New York) or Iberia (strong on Barcelona/New York and Madrid/New\n",
      "York).\n",
      "65.  In light of the above and consistently with the results of the market investigation which did\n",
      "not identify competition concerns with respect to any of these routes, the present transaction\n",
      "is unlikely to have a significant impact the competitive situation on any of O&D city pairs as\n",
      "compared to the pre-merger situation.\n",
      "66.  Therefore, with respect to this bundle of routes, the proposed concentration does not raise\n",
      "serious doubts as to its compatibility with the common market.\n",
      "(iii)  Routes connecting to Delta’s hub in Cincinnati\n",
      "67.  The present transaction affects in total 5 transatlantic routes connecting a European city to\n",
      "Delta’s hub in Cincinnati. All these routes relate to direct-indirect overlaps, i.e. to situations\n",
      "where one party offers a direct service and the other party an indirect service.\n",
      "Table 6:  Market shares on routes connecting to Delta’s hub in Cincinnati (all passengers 2007)\n",
      "DL NW DL + NW Sky Team 4\n",
      "Route (direct+indirect (direct+indirect (direct+indirect (direct+indirect\n",
      " (number of passengers in 2007) flights) flights) flights) flights)\n",
      "Frankfurt- Cincinnati ([20 000-30 000]) [80-90]% [0-5]% [80-90]% [80-90]%\n",
      "London- Cincinnati ([30 000-40 000]) [70-80]% [0-5]% [70-80]% [70-80]%\n",
      "Rome- Cincinnati ([10 000-20 000])25 [70-80]% [0-5]% [70-80]% [70-80]%\n",
      "Paris- Cincinnati ([10 000-20 000]) [60-70]% [0-5]% [60-70]% [80-90]%\n",
      "Amsterdam- Cincinnati ([0-10 000]) [40-50]% [10-20]% [60-70]% [70-80]%\n",
      "Source: Information compiled from the Form CO. Figures based on MIDT data.\n",
      "68.  Given that Cincinnati is one of Delta(cid:146)s hubs in the U.S., Delta(cid:146)s presence on these routes is\n",
      "strong and its market shares significant. With the exception of Amsterdam/Cincinnati route\n",
      "where its market share reaches [10-20]%, NWA(cid:146)s presence on these routes is rather limited,\n",
      "its market share ranges from [0-5]% on Rome/Cincinnati to [0-5]% on London/Cincinnati.\n",
      "69.  As regards Amsterdam/Cincinnati, only Delta operates a direct service on this very thin\n",
      "route (with [0-10 000] passengers in 2007) and this only during the summer season. During\n",
      "the  remainder  of  the  year,  indirect  services  are  offered  by  Delta  and  other  major\n",
      "international carriers, such as NWA, KLM, Continental, United Airlines and US Airways.\n",
      "70.  The combined market share of the parties on this route amounts to [70-80]% for time-\n",
      "sensitive and to [60-70]% for non time-sensitive passengers. Another strong competitor on\n",
      "this route is United Airlines with a market share of [5-10]% for time-sensitive and [10-20]%\n",
      "for non time-sensitive passengers. SkyTeam 4’s combined market share amounts to [70-\n",
      "80]% for all passengers and is due to KLM(cid:146)s strong position at its Amsterdam hub from\n",
      "which it operates an indirect service on this route.\n",
      "                                                \n",
      "25  This route connects Alitalia’s hub in Rome to Delta’s hub in the U.S. Alitalia’s market share on this route\n",
      "amounts to [5-10]% for all passengers which brings SkyTeam 6 combined market share to [80-90]% for all\n",
      "passengers. 71.  Although the permanent structural link created by this transaction on this route is relatively\n",
      "high ([10-20]% for time sensitive and [10-20]% for non time-sensitive passengers), major\n",
      "airlines such as United Airlines, Continental and US Airways offer competing indirect\n",
      "services which can be further expanded. Moreover, as already mentioned, Delta offers a\n",
      "direct service on this route only during the summer season.\n",
      "72.  .In light of the above and consistently with the results of the market investigation which did\n",
      "not identify any competition concerns with respect to these routes26, the present transaction\n",
      "does not materially alter the competitive conditions prevailing on any of these routes pre-\n",
      "merger.\n",
      "73.  Therefore, with respect to this bundle of routes, the proposed concentration does not raise\n",
      "serious doubts as to its compatibility with the common market.\n",
      "(iv)  Routes connecting to Delta’s hub in Salt Lake City\n",
      "74.  The present transaction affects only 1 transatlantic route connecting a European city to\n",
      "Delta’s hub in Salt Lake City, namely Paris-Salt Lake city route where Delta offers a direct\n",
      "service and NWA an indirect service.\n",
      "Table 7:  Market shares on routes connecting to Delta’s hub in Cincinnati (all passengers 2007)\n",
      "DL NW DL + NW Sky Team 4\n",
      "Route (direct+indirect (direct+indirect (direct+indirect (direct+indirect\n",
      "(number of passengers in 2007) flights) flights) flights) flights)\n",
      "Paris- Salt Lake City ([10 000-20 000]) [40-50] % [0-5] % [40-50] % [60-70]%\n",
      "Source: Information compiled from the Form CO. Figures based on MIDT data.\n",
      "75.  The parties(cid:146) combined market share on this route amounts to [50-60]% for time-sensitive\n",
      "and to [40-50]% for non time-sensitive passengers. It should be noted that Delta(cid:146)s direct\n",
      "service only represents [0-5]% for all passengers and the remaining share is held through its\n",
      "indirect service via Atlanta. NWA(cid:146)s presence on this route is very limited and its market\n",
      "share amounts to [0-5]% for time-sensitive and [0-5]% for non-time sensitive passengers.\n",
      "SkyTeam 4’s combined market share amounts to [60-70]% for all passengers which is\n",
      "mainly due to Air France(cid:146)s share of [10-20]% on this route. A number of other airlines offer\n",
      "competing  indirect  services,  the  strongest  competitors  being  Continental  and  American\n",
      "Airlines with market share of [10-20]% and [10-20]% for all passengers respectively.\n",
      "76.  In light of the above and consistently with the results of the market investigation which did\n",
      "not identify any competition concerns with respect to this route, the present transaction does\n",
      "not materially alter the competitive conditions prevailing on this route pre-merger.\n",
      "                                                \n",
      "26  Although it raised some concerns that direct flights may be reduced due to the proximity to the Detroit hub,\n",
      "a major corporate customer acknowledged that the merger will not lead to any loss in competition as there is\n",
      "currently no competition for direct flights out of or to Cincinnati. 77.  Therefore, with respect to this route, the proposed concentration does not raise serious\n",
      "doubts as to its compatibility with the common market.\n",
      "(v)  Routes connecting to NWA’s hub in Detroit\n",
      "78.  The present transaction affects in total 5 transatlantic routes connecting a European city to\n",
      "NWA’s hub in Detroit. Except for the route Paris-Detroit which was assessed above, all\n",
      "these routes relate to direct-indirect overlaps, i.e. to situations where one party offers a direct\n",
      "service and the other party an indirect service.\n",
      "Table 8:  Market shares on routes connecting to NWA’s hub in Detroit (all passengers 2007)\n",
      "DL NW DL + NW Sky Team 4\n",
      "Route (direct+indirect (direct+indirect (direct+indirect (direct+indirect\n",
      "(number of passengers in 2007) flights) flights) flights) flights)\n",
      "Dusseldorf- Detroit ([10 000-20 000]) [0-5]% [70-80]% [80-90]% [80-90]%\n",
      "Amsterdam- Detroit ([20 000-30 000]) [0-5]% [50-60]% [50-60]% [80-90]%\n",
      "London- Detroit ([60 000-70 000]) [0-5]% [40-50]% [50-60]% [50-60]%\n",
      "Brussels- Detroit ([0-10 000]) [10-20]% [40-50]% [40-50]% [60-70]%\n",
      "Frankfurt- Detroit ([80 000-90 000]) [0-5]% [40-50]% [40-50]% [40-50]%\n",
      "Source: Information compiled from the Form CO. Figures based on MIDT data.\n",
      "79.  Given that Detroit is one of NWA(cid:146)s hubs in the U.S. its presence on these routes is relatively\n",
      "strong  with  market  shares  ranging  from  [40-50]%  on  Brussels/Detroit  to  [70-80]%  on\n",
      "Dusseldorf/Detroit.  Delta(cid:146)s  presence  on  these  routes  is  marginal.  Except  for  the  route\n",
      "Brussels/Detroit where Delta(cid:146)s market share amounts to [5-10]% ([0-5]% for time-sensitive\n",
      "passengers and [5-10]% for non time-sensitive passengers), the structural link brought about\n",
      "by the present transaction remains very limited ranging from [0-5]% to [0-5]%.\n",
      "80.  On the basis of the foregoing and consistently with the results of the market investigation\n",
      "which did not identify competition concerns with respect to any of these routes, the present\n",
      "transaction does not materially alter the competitive conditions prevailing on these routes\n",
      "pre-merger.\n",
      "81.  Therefore, with respect to this bundle of routes, the proposed concentration does not raise\n",
      "serious doubts as to its compatibility with the common market.\n",
      "(vi)  Routes connecting to NWA’s hub in Memphis\n",
      "82.  The present transaction affects only 1 transatlantic route connecting a European city to\n",
      "NWA’s hub in Memphis, namely Amsterdam/Memphis where NWA offers a direct service\n",
      "and DL an indirect service. Table 9:  Market shares on routes connecting to NWA’s hub in Memphis (all passengers 2007)\n",
      "DL NW DL + NW Sky Team 4\n",
      "Route (direct+indirect (direct+indirect (direct+indirect (direct+indirect\n",
      " (number of passengers in 2007) flights) flights) flights) flights)\n",
      "Amsterdam- Memphis ([0-10 000]) [5-10]% [40-50]% [50-60] % [80-90]%\n",
      "Source: Information compiled from the Form CO. Figures based on MIDT data.\n",
      "83.  NWA and KLM are the only carriers flying this route directly. The parties’ combined market\n",
      "share on this very thin route amounts to [60-70]% for time-sensitive and to [50-60]% for\n",
      "non time-sensitive passengers. NWA’s high market share on this route is due to the fact that\n",
      "Memphis is one of its U.S. hubs. Delta’s presence is only due to its indirect service and\n",
      "amounts to [0-5]% for time-sensitive and [5-10]% for non time-sensitive passengers. Thus,\n",
      "the structural change brought about by this transaction remains rather limited. SkyTeam 4’s\n",
      "combined market share is relatively high as KLM flies this route from its hub in Amsterdam.\n",
      "84.  On the basis of the foregoing and consistently with the results of the market investigation\n",
      "which did not identify any competition concerns with respect to this route, the present\n",
      "transaction does not materially alter the competitive conditions prevailing on this route pre-\n",
      "merger.\n",
      "85.  Therefore, with respect to this route, the proposed concentration does not raise serious\n",
      "doubts as to its compatibility with the common market.\n",
      "(vii)  Routes connecting to NWA’s hub in Minneapolis\n",
      "86.  The present transaction affects only 2 transatlantic routes connecting a European city to\n",
      "NWA’s hub in Minneapolis, namely London/Minneapolis and Amsterdam/Minneapolis on\n",
      "which NWA offers a direct service and DL an indirect service.\n",
      "Table 10:  Market shares on routes connecting to NWA’s hub in Minneapolis (all passengers 2007)\n",
      "DL NW DL + NW Sky Team 4\n",
      "Route (direct+indirect (direct+indirect (direct+indirect (direct+indirect\n",
      " (number of passengers in 2007) flights) flights) flights) flights)\n",
      "London- Minneapolis ([60 000-70 000]) [0-5]% [60-70]% [60-70]% [60-70]%\n",
      "Amsterdam- Minneapolis ([20 000-30 000]) [0-5]% [50-60]% [50-60]% [80-90]%\n",
      "Source: Information compiled from the Form CO. Figures based on MIDT data.\n",
      "87.  The combined market shares of the parties on these two routes are quite high. This is due\n",
      "mainly to NWA’s strong presence on these routes which can be explained by the fact that\n",
      "these routes connect to its hub in Minneapolis. Delta’s presence on these routes is limited, its\n",
      "market share not exceeding [0-5]%. Accordingly the structural link brought about by the\n",
      "present transaction is marginal. 88.  With respect to Amsterdam/Minneapolis route, SkyTeam 4’s combined market share is high\n",
      "which is due to the fact that KLM operates on this route a direct service from its hub in\n",
      "Amsterdam on which it has a strong position.\n",
      "89.  In light of the above and consistently with the results of the market investigation which did\n",
      "not identify any competition concerns with respect to these routes, the present transaction\n",
      "does not materially alter the competitive conditions prevailing on any of these routes pre-\n",
      "merger.\n",
      "90.  Therefore, with respect to this bundle of routes, the proposed concentration does not raise\n",
      "serious doubts as to its compatibility with the common market.\n",
      "(viii)  Routes connecting to Delta partner Air France’s hub in Paris\n",
      "91.  The present transaction affects in total 9 transatlantic routes connecting a city in the U.S. to\n",
      "Delta partner Air France’s hub in Paris. All these routes relate to direct-indirect overlaps, i.e.\n",
      "to situations where one party offers a direct service and the other party an indirect service.\n",
      "Table 11:  Market shares on routes connecting to Delta partner Air France’s hub in Paris (all passengers 2007)\n",
      "DL NW DL + NW Sky Team 4\n",
      "Route (direct+indirect (direct+indirect (direct+indirect (direct+indirect\n",
      " (number of passengers in 2007) flights) flights) flights) flights)\n",
      "Paris- Seattle ([40 000-50 000]) [10-20]% [5-10]% [20-30]% [50-60]%\n",
      "Paris- San Francisco ([150 000-200 000]) [5-10]% [5-10]% [10-20]% [50-60]%\n",
      "Paris- Boston ([100 000-150 000]) [5-10]% [0-5]% [10-20]% [50-60]%\n",
      "Paris- Washington ([100 000-150 000]) [5-10]% [0-5]% [10-20]% [50-60]%\n",
      "Paris- Miami ([100 000-150 000]) [5-10]% [0-5]% [5-10]% [40-50]%\n",
      "Paris- Philadelphia ([50 000-100 000]) [5-10]% [0-5]% [5-10]% [40-50]%\n",
      "Paris- Houston ([50 000-100 000]) [0-5]% [0-5]% [5-10]% [50-60]%\n",
      "Paris- Chicago ([100 000-150 000]) [0-5]% [0-5]% [5-10]% [20-30]%\n",
      "Paris- Los Angeles ([200 000-250 000]) [5-10]% [0-5]% [10-20]% [40-50]%\n",
      "Source: Information compiled from the Form CO. Figures based on MIDT data.\n",
      "92.  On all of these routes Delta offers a direct service due to a code-sharing agreement it has\n",
      "with its partner Air France, the actual operator of these flights. There are other competitors\n",
      "active on these markets which offer both direct and indirect services. The parties’ combined\n",
      "market shares on these routes remain limited, ranging from [5-10]% on Paris/Chicago to\n",
      "[20-30]% on Paris/Seattle. SkyTeam 4’s market shares are higher because of the fact that\n",
      "Paris is Air France’s hub.\n",
      "93.  In light of the above and consistently with the results of the market investigation which did\n",
      "not identify any competition concerns with respect to these routes, the present transaction\n",
      "does not materially alter the competitive conditions prevailing on any of these routes pre-\n",
      "merger.\n",
      "94.  Therefore, with respect to this bundle of routes, the proposed concentration does not raise\n",
      "serious doubts as to its compatibility with the common market. (ix)  Routes connecting to NWA partner KLM’s hub in Amsterdam\n",
      "95.  The present transaction affects in total 10 transatlantic routes connecting a city in the U.S. to\n",
      "NWA’s partner KLM’s hub in Paris. All these routes relate to direct-indirect overlaps, i.e. to\n",
      "situations where one party offers a direct service and the other party indirect service.\n",
      "Table 12:  Market shares on routes connecting to NWA partner KLM’s hub in Amsterdam (all passengers 2007)\n",
      "DL NW DL + NW Sky Team 4\n",
      "Route (direct+indirect (direct+indirect (direct+indir (direct+indirect\n",
      " (number of passengers in 2007) flights) flights) ect flights) flights)\n",
      "Amsterdam- Seattle ([30 000-40 000]) [5-10]% [40-50]% [40-50]% [70-80]%\n",
      "Amsterdam- Hartford ([0-10 000]) [0-5]% [50-60]% [60-70] % [90-100]%\n",
      "Amsterdam- Boston ([60 000-70 000]) [0-5]% [30-40]% [40-50]% [70-80]%\n",
      "Amsterdam- Houston ([40 000-50 000]) [0-5]% [0-5]% [30-40]% [40-50]%\n",
      "Amsterdam- Portland ([10 000-20 000]) [5-10]% [20-30]% [20-30]% [40-50]%\n",
      "Amsterdam- Dallas ([10 000-20 000]) [5-10]% [10-20]% [20-30]% [30-40]%\n",
      "Amsterdam- San Francisco ([80 000-90 000]) [0-5]% [5-10]% [10-20]% [60-70] %\n",
      "Amsterdam- Chicago ([60 000-70 000]) [0-5]% [5-10]% [5-10]% [40-50]%\n",
      "Amsterdam- Los Angeles ([80 000-90 000]) [5-10]% [5-10]% [10-20]% [70-80]%\n",
      "Amsterdam- Washington ([60 000-70 000]) [0-5]% [5-10]% [5-10]% [30-40]%\n",
      "Source: Information compiled from the Form CO. Figures based on MIDT data.\n",
      "96.  On all of these routes NWA offers a direct service. On all of these routes several other\n",
      "competitors are offering direct and/or indirect services. Except for three routes namely\n",
      "Amsterdam/Seattle,  Amsterdam/Hartford  and  Amsterdam/Boston,  the  parties’  combined\n",
      "market shares remain limited, not exceeding [30-40]%. With respect to the three routes\n",
      "where  the  parties’  combined  market  shares  are  higher  and  reach  [60-70]%  on\n",
      "Amsterdam/Hartford route, it should be noted that DL’s market share is rather low and\n",
      "relates solely to indirect services. SkyTeam 4’s market shares are higher due to the fact that\n",
      "Amsterdam is KLM’s hub.\n",
      "97.  In light of the above and consistently with the results of the market investigation which did\n",
      "not identify any competition concerns with respect to these routes, the present transaction\n",
      "does not materially alter the competitive conditions prevailing on any of these routes pre-\n",
      "merger.\n",
      "98.  Therefore, with respect to this bundle of routes, the proposed concentration does not raise\n",
      "serious doubts as to its compatibility with the common market.\n",
      "c)  Routes where both parties offer an indirect service\n",
      "99.  The present transaction affects 5 transatlantic routes where the horizontal overlap between\n",
      "the parties’ indirect services. Table 13:  Routes where both parties offer only an indirect service (all passengers 2007)\n",
      "DL NW DL + NW Sky Team 4\n",
      "Route (direct+indirect (direct+indirect (direct+indirect (direct+indirect\n",
      "(number of passengers in 2007) flights) flights) flights) flights)\n",
      "Rome- Los Angeles ([100 000-150 000])27 [10-20]% [0-5]% [10-20]% [20-30]%\n",
      "Copenhagen- Miami ([30 000-40 000]) [20-30]% [0-5]% [20-30]% [30-40]%\n",
      "Lyon- New- York ([30 000-40 000]) [5-10]% [0-5]% [5-10]% [30-40]%\n",
      "Florence- New York ([30 000-40 000]) [5-10]% [0-5]% [5-10]% [20-30]%\n",
      "Paris- Orlando ([20 000-30 000]) [10-20]% [10-20]% [30-40] % [40-50]%\n",
      "Source: Information compiled from the Form CO. Figures based on MIDT data.\n",
      "100. The combined market shares of the parties and of all SkyTeam 4 and SkyTeam 6 (Alitalia\n",
      "being present on Rome/Los Angeles route) remain limited post-merger. On all of these\n",
      "routes several competitors offer direct and/or indirect services.\n",
      "101. In light of the above and consistently with the results of the market investigation which did\n",
      "not identify any competition concerns with respect to these routes, the present transaction\n",
      "does not materially alter the competitive conditions prevailing on any of these routes pre-\n",
      "merger.\n",
      "102. Therefore, with respect to this bundle of routes, the proposed concentration does not raise\n",
      "serious doubts as to its compatibility with the common market.\n",
      "Conclusion on route-by-route assessment\n",
      "103. In light of the relevant counterfactual for the assessment of the present case, the parties and\n",
      "other Sky Team 6 members cannot be considered as effective competitors on transatlantic\n",
      "routes.  Accordingly,  the  present  transaction  does  not  eliminate  actual  or  potential\n",
      "competition. The only effect this merger has is that it changes the nature of the parties’\n",
      "relationship from cooperation and coordination of their activities to a structural integration.\n",
      "104. The  market  investigation  has  confirmed  that  due  to  the  complementarity  of  parties’\n",
      "networks,  the  effect  of  this  transaction  on  transatlantic  routes  will  remain  limited.\n",
      "Respondents to the market investigation have not provided indications that as a result of this\n",
      "merger  the  competitive  structure  prevailing  on  affected  transatlantic  routes  would  be\n",
      "significantly altered as there is an adequate number of airlines offering sufficient number of\n",
      "competing direct and indirect alternative services.\n",
      "105. On 30 April 2007, the EU and the U.S. entered into an Air Transport Agreement (\"Open\n",
      "Skies  Agreement\")28,  which  entered  into  effect  on  30  March  2008.  The  Open  Skies\n",
      "Agreement aims at increasing competition for flights between the EU and the U.S. by\n",
      "removing the regulatory barriers that previously restricted EU airlines to operate only from\n",
      "                                                \n",
      "27  This route connects Alitalia’s hub in Milan to Los Angeles. Alitalia’s market share on this route amounts to\n",
      "[0-5]% for all passengers which brings SkyTeam 6 combined market share to [30-40]% for all passengers.\n",
      "28  OJ l 134, 25.5.2007, p. 4. their home countries. Any EU or U.S. airlines can now operate flights from any EU airport\n",
      "to any U.S. airport. While most respondents to the market investigation expect that in the\n",
      "current  economic  situation  its  immediate  impact  would  be  limited,  the  Open  Skies\n",
      "Agreement removes the regulatory barriers to entry on EU-U.S. routes. Its impact can\n",
      "already be seen, for example, by British Airways’ new service from Paris to New York and\n",
      "BA’s announcement to launch a service from Amsterdam to New York in October 2008 or\n",
      "new services from London Heathrow to New York.\n",
      "106. In any case, the permanent structural link created by the present merger is limited on all\n",
      "affected  routes  and  the  proposed  transaction  does  not  therefore  result  in  a  substantial\n",
      "alteration of the competitive conditions compared to the pre-merger situation. Therefore,\n",
      "with respect to air transport of passengers, the proposed concentration does not raise serious\n",
      "doubts as to its compatibility with the common market.\n",
      "B. Air cargo transport\n",
      "107. The parties’ activities overlap on the market for air cargo transport from Europe to North\n",
      "America and from North America to Europe.\n",
      "1.  Conceptual framework for the competitive assessment of the merger with respect\n",
      "to air cargo transport\n",
      "108. As for the transport of passengers market, the existing cooperation agreements between the\n",
      "parties and third parties must be taken into account for the purpose of the assessment of the\n",
      "impact  of  this  transaction  on  air  cargo  transport  markets  between  Europe  and  North\n",
      "America.\n",
      "109. In fact, Delta, Northwest, AF/KLM, Alitalia and CSA Czech Airlines have an alliance for\n",
      "cargo  on  transatlantic  routes  (\"SkyTeam  Cargo\")  whereby  they  extensively  cooperate.\n",
      "However, given the modest market position of the parties (and the SkyTeam 6 members) on\n",
      "the air cargo transport market, it is unnecessary for the purpose of the present decision to\n",
      "consider to what extent the parties and the SkyTeam members do or not compete amongst\n",
      "each other as the assessment of the impact of the merger would not change. 2.  Assessment of relevant markets\n",
      "110. As already mentioned for North Atlantic routes both parties rely solely on the belly space of\n",
      "their passenger aircraft and therefore their cargo operations in terms of routes and the\n",
      "amount of space available are determined by their passenger operations.\n",
      "111. Delta is not ranked among the 50 leading air cargo transport providers in IATA ranking;\n",
      "Northwest occupied the 19th position in 2007.\n",
      "Table 14:  Market shares on the air cargo markets  (2007)\n",
      "North America to Europe Europe to North America\n",
      "  (Volume: [1 000 000-1 500 000] t) (Volume: [1 000 000-1 500 000] t)\n",
      "DL [0-5]% [0-5]%\n",
      "NW [0-5]% [0-5]%\n",
      "Total DL+NW [5-10]% [5-10]%\n",
      "AF/KLM [5-10]% [5-10]%\n",
      "Total SkyTeam 4 [10-20]% [10-20]%\n",
      "AZ [0-5]% [0-5]%\n",
      "OK [0-5]% [0-5]%\n",
      "Total SkyTeam 6 [10-20]% [10-20]%\n",
      "Source: Information provided by the parties. Figures based on the data published by the US DOT\n",
      "Bureau of Transportation Statistics and parties’ best estimates.\n",
      "112. With respect to transport of cargo between Europe and North America, both parties have\n",
      "limited presence. In the direction from North America to Europe, their combined market\n",
      "shares amounted to [5-10]% in 2007. SkyTeam 6’s combined market share amounts to\n",
      "slightly over [10-20]%. Accordingly, SkyTeam Cargo is not a significant player on this\n",
      "market.\n",
      "113. Similarly, in the direct from Europe to North America, the combined market shares of the\n",
      "parties remain rather low, amounting to [5-10]% in 2007. SkyTeam 6 combined market\n",
      "share is just below [20-30]%.\n",
      "114. Given the limited presence of the parties and their SkyTeam partners on this market, the\n",
      "creation of a permanent structural link between Delta and Northwest is unlikely to have any\n",
      "significant impact on the market.\n",
      "115. Therefore, with respect to air transport of cargo, the proposed concentration does not raise\n",
      "serious doubts as to its compatibility with the common market. VII. CONCLUSION\n",
      "116. For the above reasons, the Commission has decided not to oppose the notified operation and\n",
      "to declare it compatible with the common market and with the EEA Agreement. This\n",
      "decision  is  adopted  in  application  of  Article  6(1)(b)  of  Council  Regulation  (EC)  No\n",
      "139/2004.\n",
      "For the Commission\n",
      "(signed)\n",
      "Benita FERRERO-WALDNER\n",
      "Member of the Commission\n"
     ]
    }
   ],
   "source": [
    "print(data_merged['text'][1246])"
   ]
  },
  {
   "cell_type": "code",
   "execution_count": null,
   "metadata": {},
   "outputs": [],
   "source": []
  }
 ],
 "metadata": {
  "kernelspec": {
   "display_name": "thesis",
   "language": "python",
   "name": "python3"
  },
  "language_info": {
   "codemirror_mode": {
    "name": "ipython",
    "version": 3
   },
   "file_extension": ".py",
   "mimetype": "text/x-python",
   "name": "python",
   "nbconvert_exporter": "python",
   "pygments_lexer": "ipython3",
   "version": "3.10.4"
  },
  "orig_nbformat": 4,
  "vscode": {
   "interpreter": {
    "hash": "b8a34a3bb875764d64c764b9cffa891f179e7153a1578da198ecc075e870264c"
   }
  }
 },
 "nbformat": 4,
 "nbformat_minor": 2
}
