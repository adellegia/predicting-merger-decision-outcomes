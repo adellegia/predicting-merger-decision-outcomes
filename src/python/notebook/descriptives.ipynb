{
 "cells": [
  {
   "attachments": {},
   "cell_type": "markdown",
   "metadata": {},
   "source": [
    "\n",
    "- distribution of length of texts by article\n",
    "- distribution of length of texts in all\n",
    "\n",
    "- no. of cases per article\n",
    "- no. of documents per article\n",
    "\n",
    "- distribution of cases by year"
   ]
  },
  {
   "cell_type": "code",
   "execution_count": 1,
   "metadata": {},
   "outputs": [],
   "source": [
    "# Data visualization\n",
    "import matplotlib.pyplot as plt \n",
    "\n",
    "# Data manipulation\n",
    "import pandas as pd\n",
    "import numpy as np\n",
    "\n",
    "import re"
   ]
  },
  {
   "cell_type": "code",
   "execution_count": 2,
   "metadata": {},
   "outputs": [],
   "source": [
    "import sys\n",
    "sys.path.append(f'../../python')\n",
    "from grid_search import create_label, balance_unique_id, \\\n",
    "create_balanced_excluded, create_train_test_excluded, group_by_case"
   ]
  },
  {
   "cell_type": "code",
   "execution_count": 3,
   "metadata": {},
   "outputs": [],
   "source": [
    "df = pd.read_json(r\"../../../data/processed/pre-processed_2023_03_11.json\")\n",
    "\n",
    "df.drop_duplicates(subset=['article_new', 'case_num', 'file', 'section_fin'], keep='first', inplace=True)\n",
    "df=df.reset_index(drop=True)"
   ]
  },
  {
   "cell_type": "code",
   "execution_count": 4,
   "metadata": {},
   "outputs": [],
   "source": [
    "# Define a regular expression pattern to match the unwanted words\n",
    "remove_words = ['statement objection', 'en', 'phase ii', 'rfi', 'request information',\n",
    "                'european commission', 'commission européenne bruxelles', 'europese commissie brussel', 'belgium telephone',\n",
    "                'confidential information disclosed', 'bruxelles europese', 'européenne', 'commissie', 'europese', 'tele', 'brussel', 'bruxelles',\n",
    "                'belgique', 'tel', 'belgïë',\n",
    "                'enclosed square bracket', 'marked asterisk']\n",
    "remove_pattern = re.compile(r'\\b(' + '|'.join(remove_words) + r')\\b', flags=re.IGNORECASE)\n",
    "df['text_clean'] = df['text_clean'].replace(remove_pattern, '', regex=True)"
   ]
  },
  {
   "cell_type": "code",
   "execution_count": 5,
   "metadata": {},
   "outputs": [
    {
     "name": "stdout",
     "output_type": "stream",
     "text": [
      "<class 'pandas.core.frame.DataFrame'>\n",
      "RangeIndex: 8769 entries, 0 to 8768\n",
      "Data columns (total 13 columns):\n",
      " #   Column       Non-Null Count  Dtype \n",
      "---  ------       --------------  ----- \n",
      " 0   year         8769 non-null   int64 \n",
      " 1   article_new  8769 non-null   object\n",
      " 2   case_num     8769 non-null   object\n",
      " 3   file         8769 non-null   object\n",
      " 4   section_fin  8769 non-null   object\n",
      " 5   len_pdf      8769 non-null   int64 \n",
      " 6   sec_text     8769 non-null   object\n",
      " 7   count        8769 non-null   int64 \n",
      " 8   text_clean   8769 non-null   object\n",
      " 9   count_text   8769 non-null   int64 \n",
      " 10  phase2       8769 non-null   object\n",
      " 11  wc           8769 non-null   object\n",
      " 12  competition  8769 non-null   object\n",
      "dtypes: int64(4), object(9)\n",
      "memory usage: 890.7+ KB\n"
     ]
    }
   ],
   "source": [
    "df.info()"
   ]
  },
  {
   "cell_type": "code",
   "execution_count": 6,
   "metadata": {},
   "outputs": [
    {
     "data": {
      "text/plain": [
       "3194"
      ]
     },
     "execution_count": 6,
     "metadata": {},
     "output_type": "execute_result"
    }
   ],
   "source": [
    "len(df[df['len_pdf']<=5])"
   ]
  },
  {
   "cell_type": "code",
   "execution_count": 7,
   "metadata": {},
   "outputs": [
    {
     "data": {
      "text/plain": [
       "article_new\n",
       "article6(1)(b)    1284\n",
       "article6(2)        201\n",
       "article8(1)         32\n",
       "article8(2)         57\n",
       "article8(3)          9\n",
       "referral            59\n",
       "simplified        3194\n",
       "Name: case_num, dtype: int64"
      ]
     },
     "execution_count": 7,
     "metadata": {},
     "output_type": "execute_result"
    }
   ],
   "source": [
    "# no of cases by article_new\n",
    "df.groupby('article_new')['case_num'].nunique().sort_index()"
   ]
  },
  {
   "cell_type": "code",
   "execution_count": 8,
   "metadata": {},
   "outputs": [
    {
     "data": {
      "text/plain": [
       "article_new\n",
       "article6(1)(b)    1286\n",
       "article6(2)        202\n",
       "article8(1)         32\n",
       "article8(2)         57\n",
       "article8(3)          9\n",
       "referral            92\n",
       "simplified        3194\n",
       "Name: file, dtype: int64"
      ]
     },
     "execution_count": 8,
     "metadata": {},
     "output_type": "execute_result"
    }
   ],
   "source": [
    "# no of documents by article_new\n",
    "df.groupby('article_new')['file'].nunique().sort_index()"
   ]
  },
  {
   "cell_type": "code",
   "execution_count": 9,
   "metadata": {},
   "outputs": [
    {
     "data": {
      "text/plain": [
       "article6(1)(b)    4415\n",
       "article6(2)        664\n",
       "article8(1)         94\n",
       "article8(2)        170\n",
       "article8(3)         28\n",
       "referral           204\n",
       "simplified        3194\n",
       "Name: article_new, dtype: int64"
      ]
     },
     "execution_count": 9,
     "metadata": {},
     "output_type": "execute_result"
    }
   ],
   "source": [
    "# no of rows by article\n",
    "df['article_new'].value_counts().sort_index()"
   ]
  },
  {
   "cell_type": "code",
   "execution_count": 21,
   "metadata": {},
   "outputs": [
    {
     "data": {
      "text/plain": [
       "Competitive Assessment       1354\n",
       "Concentration & Dimension    1602\n",
       "Market Definition            1087\n",
       "Parties & Operation          1532\n",
       "simplified                   3194\n",
       "Name: section_fin, dtype: int64"
      ]
     },
     "execution_count": 21,
     "metadata": {},
     "output_type": "execute_result"
    }
   ],
   "source": [
    "df['section_fin'].value_counts().sort_index()"
   ]
  },
  {
   "cell_type": "code",
   "execution_count": 10,
   "metadata": {},
   "outputs": [
    {
     "data": {
      "text/plain": [
       "year\n",
       "2004     99\n",
       "2005    232\n",
       "2006    277\n",
       "2007    303\n",
       "2008    241\n",
       "2009    178\n",
       "2010    203\n",
       "2011    254\n",
       "2012    174\n",
       "2013    198\n",
       "2014    232\n",
       "2015    261\n",
       "2016    303\n",
       "2017    264\n",
       "2018    335\n",
       "2019    319\n",
       "2020    305\n",
       "2021    337\n",
       "2022    287\n",
       "2023      6\n",
       "Name: case_num, dtype: int64"
      ]
     },
     "execution_count": 10,
     "metadata": {},
     "output_type": "execute_result"
    }
   ],
   "source": [
    "# no of cases by year\n",
    "df.groupby('year')['case_num'].nunique()"
   ]
  },
  {
   "attachments": {},
   "cell_type": "markdown",
   "metadata": {},
   "source": [
    "Labels"
   ]
  },
  {
   "cell_type": "code",
   "execution_count": 22,
   "metadata": {},
   "outputs": [],
   "source": [
    "from sklearn.preprocessing import LabelEncoder\n",
    "\n",
    "def create_label(data, label_name):\n",
    "    df = data.copy()\n",
    "\n",
    "    df1 = df[df[label_name].isin([0,1])].reset_index(drop=True)\n",
    "\n",
    "    le = LabelEncoder()\n",
    "    df1['label'] = le.fit_transform(df1[label_name])\n",
    "\n",
    "    return(df1)"
   ]
  },
  {
   "cell_type": "code",
   "execution_count": 26,
   "metadata": {},
   "outputs": [
    {
     "name": "stdout",
     "output_type": "stream",
     "text": [
      "Total decisions: 1331\n",
      "0    1256\n",
      "1      75\n",
      "Name: label, dtype: int64\n",
      "Balancing...\n",
      "Total decisions: 150\n",
      "Labels distribution: \n",
      " 1    75\n",
      "0    75\n",
      "Name: 0, dtype: int64\n",
      "Training set shape: (120,) (120,)\n",
      "Test set shape: (30,) (30,)\n",
      "Creating df_train 1: 60 0: 60\n",
      "Creating df_test1 1: 15 0: 15\n",
      "Creating df_test concatenated with df_excluded with len: 1181\n",
      "Creating df_test 1: 15 0: 1196\n"
     ]
    }
   ],
   "source": [
    "data = df.copy()\n",
    "data = data[data['section_fin']==\"Competitive Assessment\"]\n",
    "label_name = \"phase2\"\n",
    "df1 = create_label(data, label_name)\n",
    "df_unique = balance_unique_id(df1)\n",
    "df_balanced_unique, df_balanced, df_excluded = create_balanced_excluded(df_unique, df1)\n",
    "df_train, df_test, df_test1 = create_train_test_excluded(df_balanced, df_balanced_unique, df_excluded)"
   ]
  },
  {
   "cell_type": "code",
   "execution_count": 17,
   "metadata": {},
   "outputs": [
    {
     "name": "stdout",
     "output_type": "stream",
     "text": [
      "Total decisions: 1574\n",
      "0    1316\n",
      "1     258\n",
      "Name: label, dtype: int64\n",
      "Balancing...\n",
      "Total decisions: 516\n",
      "Labels distribution: \n",
      " 0    258\n",
      "1    258\n",
      "Name: 0, dtype: int64\n",
      "Training set shape: (412,) (412,)\n",
      "Test set shape: (104,) (104,)\n",
      "Creating df_train 1: 206 0: 206\n",
      "Creating df_test1 1: 52 0: 52\n",
      "Creating df_test concatenated with df_excluded with len: 1058\n",
      "Creating df_test 1: 52 0: 1110\n"
     ]
    }
   ],
   "source": [
    "data = df.copy()\n",
    "label_name = \"wc\"\n",
    "df1 = create_label(data, label_name)\n",
    "df_unique = balance_unique_id(df1)\n",
    "df_balanced_unique, df_balanced, df_excluded = create_balanced_excluded(df_unique, df1)\n",
    "df_train, df_test, df_test1 = create_train_test_excluded(df_balanced, df_balanced_unique, df_excluded)"
   ]
  },
  {
   "cell_type": "code",
   "execution_count": 20,
   "metadata": {},
   "outputs": [
    {
     "name": "stdout",
     "output_type": "stream",
     "text": [
      "Total decisions: 1583\n",
      "1    1316\n",
      "0     267\n",
      "Name: label, dtype: int64\n",
      "Balancing...\n",
      "Total decisions: 534\n",
      "Labels distribution: \n",
      " 1    267\n",
      "0    267\n",
      "Name: 0, dtype: int64\n",
      "Training set shape: (427,) (427,)\n",
      "Test set shape: (107,) (107,)\n",
      "Creating df_train 1: 213 0: 213\n",
      "Creating df_test1 1: 54 0: 53\n",
      "Creating df_test concatenated with df_excluded with len: 1049\n",
      "Creating df_test 1: 1103 0: 53\n"
     ]
    }
   ],
   "source": [
    "data = df.copy()\n",
    "label_name = \"competition\"\n",
    "df1 = create_label(df, label_name)\n",
    "df_unique = balance_unique_id(df1)\n",
    "df_balanced_unique, df_balanced, df_excluded = create_balanced_excluded(df_unique, df1)\n",
    "df_train, df_test, df_test1 = create_train_test_excluded(df_balanced, df_balanced_unique, df_excluded)"
   ]
  },
  {
   "cell_type": "code",
   "execution_count": 137,
   "metadata": {},
   "outputs": [
    {
     "data": {
      "image/png": "[encoded data removed]",
      "text/plain": [
       "<Figure size 800x600 with 1 Axes>"
      ]
     },
     "metadata": {},
     "output_type": "display_data"
    }
   ],
   "source": [
    "import matplotlib.pyplot as plt\n",
    "\n",
    "# Group the DataFrame by year_text and count the number of unique case_num values\n",
    "grouped = df.groupby('year')['case_num'].nunique()\n",
    "\n",
    "# Create a bar chart of the grouped data\n",
    "ax = grouped.plot(kind='bar', figsize=(8,6))\n",
    "\n",
    "# Set the chart title and axis labels\n",
    "ax.set_title('Merger Cases per Year')\n",
    "ax.set_xlabel('Year')\n",
    "ax.set_ylabel('Number of Merger Cases')\n",
    "\n",
    "# Display the chart\n",
    "plt.show()"
   ]
  },
  {
   "attachments": {},
   "cell_type": "markdown",
   "metadata": {},
   "source": [
    "### Distribution of length of texts"
   ]
  },
  {
   "cell_type": "code",
   "execution_count": 138,
   "metadata": {},
   "outputs": [
    {
     "data": {
      "text/plain": [
       "<AxesSubplot: >"
      ]
     },
     "execution_count": 138,
     "metadata": {},
     "output_type": "execute_result"
    },
    {
     "data": {
      "image/png": "[encoded data removed]",
      "text/plain": [
       "<Figure size 640x480 with 1 Axes>"
      ]
     },
     "metadata": {},
     "output_type": "display_data"
    }
   ],
   "source": [
    "pd.Series(df['count_text']).hist(bins = 10)"
   ]
  },
  {
   "attachments": {},
   "cell_type": "markdown",
   "metadata": {},
   "source": [
    "\n",
    "Distribution without simplified and referral"
   ]
  },
  {
   "cell_type": "code",
   "execution_count": 139,
   "metadata": {},
   "outputs": [
    {
     "data": {
      "text/plain": [
       "<AxesSubplot: >"
      ]
     },
     "execution_count": 139,
     "metadata": {},
     "output_type": "execute_result"
    },
    {
     "data": {
      "image/png": "[encoded data removed]",
      "text/plain": [
       "<Figure size 640x480 with 1 Axes>"
      ]
     },
     "metadata": {},
     "output_type": "display_data"
    }
   ],
   "source": [
    "pd.Series(df[~df['article_new'].isin(['referral','simplified'])]['count_text']).hist(bins = 100)"
   ]
  },
  {
   "cell_type": "code",
   "execution_count": 140,
   "metadata": {},
   "outputs": [
    {
     "data": {
      "text/plain": [
       "5371"
      ]
     },
     "execution_count": 140,
     "metadata": {},
     "output_type": "execute_result"
    }
   ],
   "source": [
    "len(df[~df['article_new'].isin(['referral','simplified'])]['count_text'])"
   ]
  },
  {
   "cell_type": "code",
   "execution_count": 141,
   "metadata": {},
   "outputs": [
    {
     "data": {
      "text/plain": [
       "0.612498574523891"
      ]
     },
     "execution_count": 141,
     "metadata": {},
     "output_type": "execute_result"
    }
   ],
   "source": [
    "len(df[~df['article_new'].isin(['referral','simplified'])]['count_text'])/len(df.index)"
   ]
  },
  {
   "cell_type": "code",
   "execution_count": 142,
   "metadata": {},
   "outputs": [
    {
     "data": {
      "text/plain": [
       "<AxesSubplot: >"
      ]
     },
     "execution_count": 142,
     "metadata": {},
     "output_type": "execute_result"
    },
    {
     "data": {
      "image/png": "[encoded data removed]",
      "text/plain": [
       "<Figure size 640x480 with 1 Axes>"
      ]
     },
     "metadata": {},
     "output_type": "display_data"
    }
   ],
   "source": [
    "pd.Series(df[df['count_text']<5000]['count_text']).hist(bins = 100)"
   ]
  },
  {
   "cell_type": "code",
   "execution_count": 143,
   "metadata": {},
   "outputs": [
    {
     "data": {
      "text/plain": [
       "<AxesSubplot: >"
      ]
     },
     "execution_count": 143,
     "metadata": {},
     "output_type": "execute_result"
    },
    {
     "data": {
      "image/png": "[encoded data removed]",
      "text/plain": [
       "<Figure size 640x480 with 1 Axes>"
      ]
     },
     "metadata": {},
     "output_type": "display_data"
    }
   ],
   "source": [
    "pd.Series(df[(df['count_text'] >= 100) & (df['count_text'] <= 5000)]['count_text']).hist(bins = 100)"
   ]
  },
  {
   "cell_type": "code",
   "execution_count": 144,
   "metadata": {},
   "outputs": [
    {
     "data": {
      "text/plain": [
       "8095"
      ]
     },
     "execution_count": 144,
     "metadata": {},
     "output_type": "execute_result"
    }
   ],
   "source": [
    "len(df[(df['count_text'] >= 21) & (df['count_text'] <= 5000)])\n"
   ]
  },
  {
   "cell_type": "code",
   "execution_count": 145,
   "metadata": {},
   "outputs": [
    {
     "name": "stdout",
     "output_type": "stream",
     "text": [
      "0.47724940130003424\n"
     ]
    }
   ],
   "source": [
    "print(len(df[(df['count_text'] >= 100) & (df['count_text'] <= 5000)])/len(df.index))"
   ]
  },
  {
   "cell_type": "code",
   "execution_count": 146,
   "metadata": {},
   "outputs": [
    {
     "data": {
      "text/plain": [
       "7        A. General overview\\ni) Pre-press printing tec...\n",
       "121      A.  Relevant markets\\n9.  The parties claim th...\n",
       "134      28.  News Corp and BSkyB are active in various...\n",
       "331      7.  The  main  markets  concerned  with  the  ...\n",
       "580      V.3.1 (cid:150) INTRODUCTION\\nV.3.1.1 (cid:150...\n",
       "                               ...                        \n",
       "10750    4.1.  Legal framework\\n(101)  When the parties...\n",
       "10754    (7)  The Parties’ activities overlap in aerosp...\n",
       "10755    5.1.  Legal framework\\n(114)  Under paragraphs...\n",
       "10759    4.1.  Introduction\\n(6)  The Parties are activ...\n",
       "10768    5.1.  Quay cranes\\n(38)  Quay cranes are crane...\n",
       "Name: sec_text, Length: 359, dtype: object"
      ]
     },
     "execution_count": 146,
     "metadata": {},
     "output_type": "execute_result"
    }
   ],
   "source": [
    "df[(df['count_text'] > 5000)]['sec_text']"
   ]
  },
  {
   "cell_type": "code",
   "execution_count": 147,
   "metadata": {},
   "outputs": [
    {
     "name": "stdout",
     "output_type": "stream",
     "text": [
      "min: 9 \n",
      "max: 138766\n"
     ]
    }
   ],
   "source": [
    "print(\"min:\", min(df['count_text']), \n",
    "    \"\\nmax:\", max(df['count_text']))"
   ]
  },
  {
   "cell_type": "code",
   "execution_count": 148,
   "metadata": {},
   "outputs": [
    {
     "data": {
      "text/html": [
       "<div>\n",
       "<style scoped>\n",
       "    .dataframe tbody tr th:only-of-type {\n",
       "        vertical-align: middle;\n",
       "    }\n",
       "\n",
       "    .dataframe tbody tr th {\n",
       "        vertical-align: top;\n",
       "    }\n",
       "\n",
       "    .dataframe thead th {\n",
       "        text-align: right;\n",
       "    }\n",
       "</style>\n",
       "<table border=\"1\" class=\"dataframe\">\n",
       "  <thead>\n",
       "    <tr style=\"text-align: right;\">\n",
       "      <th></th>\n",
       "      <th>year</th>\n",
       "      <th>article_new</th>\n",
       "      <th>case_num</th>\n",
       "      <th>file</th>\n",
       "      <th>section_fin</th>\n",
       "      <th>len_pdf</th>\n",
       "      <th>sec_text</th>\n",
       "      <th>count</th>\n",
       "      <th>text_clean</th>\n",
       "      <th>count_text</th>\n",
       "      <th>phase2</th>\n",
       "      <th>wc</th>\n",
       "      <th>competition</th>\n",
       "    </tr>\n",
       "  </thead>\n",
       "  <tbody>\n",
       "    <tr>\n",
       "      <th>10231</th>\n",
       "      <td>2021</td>\n",
       "      <td>article8(2)</td>\n",
       "      <td>M.9564</td>\n",
       "      <td>\\M_9564_7982342_9230_3</td>\n",
       "      <td>Competitive Assessment</td>\n",
       "      <td>810</td>\n",
       "      <td>(705)  Under Article 2(2) and (3) of the Merge...</td>\n",
       "      <td>238795</td>\n",
       "      <td>article merger regulation commission ass propo...</td>\n",
       "      <td>138766</td>\n",
       "      <td>1</td>\n",
       "      <td>1</td>\n",
       "      <td>0</td>\n",
       "    </tr>\n",
       "  </tbody>\n",
       "</table>\n",
       "</div>"
      ],
      "text/plain": [
       "       year  article_new case_num                    file  \\\n",
       "10231  2021  article8(2)   M.9564  \\M_9564_7982342_9230_3   \n",
       "\n",
       "                  section_fin  len_pdf  \\\n",
       "10231  Competitive Assessment      810   \n",
       "\n",
       "                                                sec_text   count  \\\n",
       "10231  (705)  Under Article 2(2) and (3) of the Merge...  238795   \n",
       "\n",
       "                                              text_clean  count_text phase2  \\\n",
       "10231  article merger regulation commission ass propo...      138766      1   \n",
       "\n",
       "      wc competition  \n",
       "10231  1           0  "
      ]
     },
     "execution_count": 148,
     "metadata": {},
     "output_type": "execute_result"
    }
   ],
   "source": [
    "df[df['count_text']==max(df['count_text'])]"
   ]
  },
  {
   "cell_type": "code",
   "execution_count": null,
   "metadata": {},
   "outputs": [],
   "source": []
  }
 ],
 "metadata": {
  "kernelspec": {
   "display_name": "thesis",
   "language": "python",
   "name": "python3"
  },
  "language_info": {
   "codemirror_mode": {
    "name": "ipython",
    "version": 3
   },
   "file_extension": ".py",
   "mimetype": "text/x-python",
   "name": "python",
   "nbconvert_exporter": "python",
   "pygments_lexer": "ipython3",
   "version": "3.10.4"
  },
  "orig_nbformat": 4,
  "vscode": {
   "interpreter": {
    "hash": "b8a34a3bb875764d64c764b9cffa891f179e7153a1578da198ecc075e870264c"
   }
  }
 },
 "nbformat": 4,
 "nbformat_minor": 2
}
