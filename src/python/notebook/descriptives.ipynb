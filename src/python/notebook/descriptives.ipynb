{
 "cells": [
  {
   "cell_type": "code",
   "execution_count": null,
   "metadata": {},
   "outputs": [],
   "source": [
    "# distribution of length of texts by article\n",
    "# distribution of length of texts in all\n",
    "\n",
    "# no. of cases per article\n",
    "# no. of documents per article\n",
    "\n",
    "\n",
    "# distribution of cases by year\n"
   ]
  },
  {
   "cell_type": "code",
   "execution_count": 1,
   "metadata": {},
   "outputs": [],
   "source": [
    "# Data visualization\n",
    "import matplotlib.pyplot as plt \n",
    "\n",
    "# Data manipulation\n",
    "import pandas as pd\n",
    "import numpy as np\n",
    "import csv\n",
    "from zipfile import ZipFile"
   ]
  },
  {
   "cell_type": "code",
   "execution_count": 2,
   "metadata": {},
   "outputs": [],
   "source": [
    "# Webscraping\n",
    "import glob\n",
    "import requests\n",
    "from bs4 import BeautifulSoup\n",
    "import time\n",
    "import datetime\n",
    "from pandas.core.common import flatten\n",
    "import os\n",
    "from itertools import chain\n",
    "from tqdm import tqdm\n",
    "import json\n",
    "import urllib.request"
   ]
  },
  {
   "cell_type": "code",
   "execution_count": 3,
   "metadata": {},
   "outputs": [],
   "source": [
    "# Parsing and pre-processing\n",
    "from glob import glob\n",
    "import os \n",
    "import re\n",
    "\n",
    "from pdfminer.high_level import extract_text\n",
    "import pdfplumber\n",
    "from langdetect import detect, DetectorFactory\n",
    "\n",
    "import nltk\n",
    "from nltk.corpus import stopwords\n",
    "from nltk.tokenize import sent_tokenize, word_tokenize\n",
    "from string import punctuation\n",
    "from nltk.stem.porter import PorterStemmer\n",
    "from nltk.stem import WordNetLemmatizer"
   ]
  },
  {
   "cell_type": "code",
   "execution_count": 4,
   "metadata": {},
   "outputs": [],
   "source": [
    "df = pd.read_json(r\"../../../data/processed/df1_2023_02_28.json\")"
   ]
  },
  {
   "cell_type": "code",
   "execution_count": 5,
   "metadata": {},
   "outputs": [
    {
     "name": "stdout",
     "output_type": "stream",
     "text": [
      "<class 'pandas.core.frame.DataFrame'>\n",
      "Int64Index: 25122 entries, 0 to 25642\n",
      "Data columns (total 19 columns):\n",
      " #   Column         Non-Null Count  Dtype  \n",
      "---  ------         --------------  -----  \n",
      " 0   date           25122 non-null  object \n",
      " 1   year           22710 non-null  float64\n",
      " 2   len_pdf        25122 non-null  int64  \n",
      " 3   article        25122 non-null  object \n",
      " 4   article_txt    25122 non-null  object \n",
      " 5   article_62     25122 non-null  object \n",
      " 6   case_num       25122 non-null  object \n",
      " 7   filename       25122 non-null  object \n",
      " 8   section_text   25122 non-null  object \n",
      " 9   bsn_act        25122 non-null  object \n",
      " 10  simp_text      25122 non-null  object \n",
      " 11  section        21731 non-null  object \n",
      " 12  sec_text       25122 non-null  object \n",
      " 13  count          25122 non-null  int64  \n",
      " 14  file           25122 non-null  object \n",
      " 15  id             25122 non-null  int64  \n",
      " 16  year_text      25050 non-null  float64\n",
      " 17  article_new    25122 non-null  object \n",
      " 18  article_match  25122 non-null  bool   \n",
      "dtypes: bool(1), float64(2), int64(3), object(13)\n",
      "memory usage: 3.7+ MB\n"
     ]
    }
   ],
   "source": [
    "df.info()"
   ]
  },
  {
   "cell_type": "code",
   "execution_count": 46,
   "metadata": {},
   "outputs": [
    {
     "data": {
      "text/plain": [
       "article_new\n",
       "article6(1)(b)    4736\n",
       "article6(2)        206\n",
       "article8(1)         29\n",
       "article8(2)         65\n",
       "article8(3)          6\n",
       "referral            57\n",
       "Name: case_num, dtype: int64"
      ]
     },
     "execution_count": 46,
     "metadata": {},
     "output_type": "execute_result"
    }
   ],
   "source": [
    "# no of cases by article_new\n",
    "df.groupby('article_new')['case_num'].nunique()"
   ]
  },
  {
   "cell_type": "code",
   "execution_count": 47,
   "metadata": {},
   "outputs": [
    {
     "data": {
      "text/plain": [
       "article_new\n",
       "article6(1)(b)    4736\n",
       "article6(2)        207\n",
       "article8(1)         29\n",
       "article8(2)         66\n",
       "article8(3)          6\n",
       "referral            62\n",
       "Name: file, dtype: int64"
      ]
     },
     "execution_count": 47,
     "metadata": {},
     "output_type": "execute_result"
    }
   ],
   "source": [
    "# no of documents by article_new\n",
    "df.groupby('article_new')['file'].nunique()"
   ]
  },
  {
   "cell_type": "code",
   "execution_count": 48,
   "metadata": {},
   "outputs": [
    {
     "data": {
      "text/plain": [
       "article6(1)(b)    17016\n",
       "article6(2)        4414\n",
       "article8(1)         541\n",
       "article8(2)        2165\n",
       "article8(3)         413\n",
       "referral            573\n",
       "Name: article_new, dtype: int64"
      ]
     },
     "execution_count": 48,
     "metadata": {},
     "output_type": "execute_result"
    }
   ],
   "source": [
    "# no of rows by article\n",
    "df['article_new'].value_counts().sort_index()"
   ]
  },
  {
   "cell_type": "code",
   "execution_count": 7,
   "metadata": {},
   "outputs": [
    {
     "data": {
      "text/plain": [
       "year_text\n",
       "2004.0    109\n",
       "2005.0    241\n",
       "2006.0    303\n",
       "2007.0    335\n",
       "2008.0    256\n",
       "2009.0    198\n",
       "2010.0    219\n",
       "2011.0    268\n",
       "2012.0    195\n",
       "2013.0    233\n",
       "2014.0    255\n",
       "2015.0    270\n",
       "2016.0    311\n",
       "2017.0    267\n",
       "2018.0    344\n",
       "2019.0    320\n",
       "2020.0    307\n",
       "2021.0    346\n",
       "2022.0    292\n",
       "2023.0      6\n",
       "Name: case_num, dtype: int64"
      ]
     },
     "execution_count": 7,
     "metadata": {},
     "output_type": "execute_result"
    }
   ],
   "source": [
    "# no of cases by year\n",
    "df.groupby('year_text')['case_num'].nunique()"
   ]
  },
  {
   "attachments": {},
   "cell_type": "markdown",
   "metadata": {},
   "source": [
    "### Distribution of length of texts"
   ]
  },
  {
   "cell_type": "code",
   "execution_count": 8,
   "metadata": {},
   "outputs": [
    {
     "data": {
      "text/plain": [
       "<AxesSubplot: >"
      ]
     },
     "execution_count": 8,
     "metadata": {},
     "output_type": "execute_result"
    },
    {
     "data": {
      "image/png": "[encoded data removed]",
      "text/plain": [
       "<Figure size 640x480 with 1 Axes>"
      ]
     },
     "metadata": {},
     "output_type": "display_data"
    }
   ],
   "source": [
    "pd.Series(df['count']).hist(bins = 1000)"
   ]
  },
  {
   "cell_type": "code",
   "execution_count": 9,
   "metadata": {},
   "outputs": [
    {
     "data": {
      "text/plain": [
       "<AxesSubplot: >"
      ]
     },
     "execution_count": 9,
     "metadata": {},
     "output_type": "execute_result"
    },
    {
     "data": {
      "image/png": "[encoded data removed]",
      "text/plain": [
       "<Figure size 640x480 with 1 Axes>"
      ]
     },
     "metadata": {},
     "output_type": "display_data"
    }
   ],
   "source": [
    "pd.Series(df[df['count']>=500]['count']).hist(bins = 1000)"
   ]
  },
  {
   "cell_type": "code",
   "execution_count": 10,
   "metadata": {},
   "outputs": [
    {
     "data": {
      "text/plain": [
       "<AxesSubplot: >"
      ]
     },
     "execution_count": 10,
     "metadata": {},
     "output_type": "execute_result"
    },
    {
     "data": {
      "image/png": "[encoded data removed]",
      "text/plain": [
       "<Figure size 640x480 with 1 Axes>"
      ]
     },
     "metadata": {},
     "output_type": "display_data"
    }
   ],
   "source": [
    "pd.Series(df[(df['count'] >= 100) & (df['count'] <= 3000)]['count']).hist(bins = 1000)"
   ]
  },
  {
   "cell_type": "code",
   "execution_count": 11,
   "metadata": {},
   "outputs": [
    {
     "data": {
      "text/plain": [
       "17984"
      ]
     },
     "execution_count": 11,
     "metadata": {},
     "output_type": "execute_result"
    }
   ],
   "source": [
    "len(df[(df['count'] >= 100) & (df['count'] <= 5000)])\n"
   ]
  },
  {
   "cell_type": "code",
   "execution_count": 45,
   "metadata": {},
   "outputs": [
    {
     "data": {
      "text/plain": [
       "24429"
      ]
     },
     "execution_count": 45,
     "metadata": {},
     "output_type": "execute_result"
    }
   ],
   "source": [
    "len(df[(df['count'] <= 3000)])"
   ]
  },
  {
   "cell_type": "code",
   "execution_count": null,
   "metadata": {},
   "outputs": [],
   "source": [
    "df[(df['count'] <= 3000)]"
   ]
  },
  {
   "cell_type": "code",
   "execution_count": 44,
   "metadata": {},
   "outputs": [
    {
     "data": {
      "text/plain": [
       "693"
      ]
     },
     "execution_count": 44,
     "metadata": {},
     "output_type": "execute_result"
    }
   ],
   "source": [
    "len(df[(df['count'] > 3000)])"
   ]
  },
  {
   "cell_type": "code",
   "execution_count": 50,
   "metadata": {},
   "outputs": [
    {
     "data": {
      "text/plain": [
       "article_new\n",
       "article6(1)(b)    4736\n",
       "article6(2)        206\n",
       "article8(1)         29\n",
       "article8(2)         65\n",
       "article8(3)          6\n",
       "referral            57\n",
       "Name: case_num, dtype: int64"
      ]
     },
     "execution_count": 50,
     "metadata": {},
     "output_type": "execute_result"
    }
   ],
   "source": [
    "df.groupby('article_new')['case_num'].nunique()"
   ]
  },
  {
   "cell_type": "code",
   "execution_count": 68,
   "metadata": {},
   "outputs": [
    {
     "data": {
      "text/plain": [
       "article_new\n",
       "article6(1)(b)    54\n",
       "article6(2)       43\n",
       "article8(1)       16\n",
       "article8(2)       31\n",
       "article8(3)        2\n",
       "referral           2\n",
       "Name: case_num, dtype: int64"
      ]
     },
     "execution_count": 68,
     "metadata": {},
     "output_type": "execute_result"
    }
   ],
   "source": [
    "# no of cases by article_new\n",
    "df[(df['count'] > 5000)].groupby('article_new')['case_num'].nunique()"
   ]
  },
  {
   "cell_type": "code",
   "execution_count": 64,
   "metadata": {},
   "outputs": [
    {
     "data": {
      "text/plain": [
       "101      imports\\n5.2.1.  Analytical framework\\n(62)  U...\n",
       "168      Source: Form CO\\n(90)  In primary carpet backi...\n",
       "172      [70- [70- [70- [70-\\n80] [70-80]%\\n80]%  80]% ...\n",
       "235      6.3.1.  Introduction\\n(135)  A merger giving r...\n",
       "262      [Confidential information regarding NENT’s bus...\n",
       "                               ...                        \n",
       "25006    Source: Aer Lingus454\\n(507)  In the analysis ...\n",
       "25009    (‘000)\\nAer Lingus  32565  7,780  73\\nRyanair ...\n",
       "25087    10.3.1.  General description by Ryanair\\n(1760...\n",
       "25128    speed  speed\\nkm/h)  km/h)  km/h)  km/h)\\nAlst...\n",
       "25378    competition\\n4.3.1.  The BKartA’s submission\\n...\n",
       "Name: sec_text, Length: 275, dtype: object"
      ]
     },
     "execution_count": 64,
     "metadata": {},
     "output_type": "execute_result"
    }
   ],
   "source": [
    "df[(df['count'] > 5000)]['sec_text']"
   ]
  },
  {
   "cell_type": "code",
   "execution_count": 12,
   "metadata": {},
   "outputs": [
    {
     "data": {
      "text/plain": [
       "21"
      ]
     },
     "execution_count": 12,
     "metadata": {},
     "output_type": "execute_result"
    }
   ],
   "source": [
    "min(df['count'])"
   ]
  },
  {
   "cell_type": "code",
   "execution_count": 59,
   "metadata": {},
   "outputs": [
    {
     "data": {
      "text/plain": [
       "40322"
      ]
     },
     "execution_count": 59,
     "metadata": {},
     "output_type": "execute_result"
    }
   ],
   "source": [
    "max(df['count'])"
   ]
  },
  {
   "cell_type": "code",
   "execution_count": 62,
   "metadata": {},
   "outputs": [
    {
     "data": {
      "text/html": [
       "<div>\n",
       "<style scoped>\n",
       "    .dataframe tbody tr th:only-of-type {\n",
       "        vertical-align: middle;\n",
       "    }\n",
       "\n",
       "    .dataframe tbody tr th {\n",
       "        vertical-align: top;\n",
       "    }\n",
       "\n",
       "    .dataframe thead th {\n",
       "        text-align: right;\n",
       "    }\n",
       "</style>\n",
       "<table border=\"1\" class=\"dataframe\">\n",
       "  <thead>\n",
       "    <tr style=\"text-align: right;\">\n",
       "      <th></th>\n",
       "      <th>date</th>\n",
       "      <th>year</th>\n",
       "      <th>len_pdf</th>\n",
       "      <th>article</th>\n",
       "      <th>article_txt</th>\n",
       "      <th>article_62</th>\n",
       "      <th>case_num</th>\n",
       "      <th>filename</th>\n",
       "      <th>section_text</th>\n",
       "      <th>bsn_act</th>\n",
       "      <th>simp_text</th>\n",
       "      <th>section</th>\n",
       "      <th>sec_text</th>\n",
       "      <th>count</th>\n",
       "      <th>file</th>\n",
       "      <th>id</th>\n",
       "      <th>year_text</th>\n",
       "      <th>article_new</th>\n",
       "      <th>article_match</th>\n",
       "    </tr>\n",
       "  </thead>\n",
       "  <tbody>\n",
       "    <tr>\n",
       "      <th>21918</th>\n",
       "      <td>Date: 22/04/2020</td>\n",
       "      <td>2020.0</td>\n",
       "      <td>237</td>\n",
       "      <td>article6(2)</td>\n",
       "      <td>article6(2)</td>\n",
       "      <td>inconjunctionwithart6(2)</td>\n",
       "      <td>M.9517</td>\n",
       "      <td>art6.1\\M.9517\\m9517_2719_3</td>\n",
       "      <td>[Commitment to divest, (2)  To maintain effect...</td>\n",
       "      <td></td>\n",
       "      <td>None</td>\n",
       "      <td>SECTION B – THE COMMITMENT TO DIVEST AND THE D...</td>\n",
       "      <td>Commitment to divest\\n(2)  To maintain effecti...</td>\n",
       "      <td>40322</td>\n",
       "      <td>m9517_2719_3</td>\n",
       "      <td>21918</td>\n",
       "      <td>2020.0</td>\n",
       "      <td>article6(2)</td>\n",
       "      <td>True</td>\n",
       "    </tr>\n",
       "  </tbody>\n",
       "</table>\n",
       "</div>"
      ],
      "text/plain": [
       "                   date    year  len_pdf      article  article_txt  \\\n",
       "21918  Date: 22/04/2020  2020.0      237  article6(2)  article6(2)   \n",
       "\n",
       "                     article_62 case_num                    filename  \\\n",
       "21918  inconjunctionwithart6(2)   M.9517  art6.1\\M.9517\\m9517_2719_3   \n",
       "\n",
       "                                            section_text bsn_act simp_text  \\\n",
       "21918  [Commitment to divest, (2)  To maintain effect...              None   \n",
       "\n",
       "                                                 section  \\\n",
       "21918  SECTION B – THE COMMITMENT TO DIVEST AND THE D...   \n",
       "\n",
       "                                                sec_text  count          file  \\\n",
       "21918  Commitment to divest\\n(2)  To maintain effecti...  40322  m9517_2719_3   \n",
       "\n",
       "          id  year_text  article_new  article_match  \n",
       "21918  21918     2020.0  article6(2)           True  "
      ]
     },
     "execution_count": 62,
     "metadata": {},
     "output_type": "execute_result"
    }
   ],
   "source": [
    "df[df['count']==max(df['count'])]"
   ]
  },
  {
   "cell_type": "code",
   "execution_count": 63,
   "metadata": {},
   "outputs": [
    {
     "data": {
      "text/html": [
       "<div>\n",
       "<style scoped>\n",
       "    .dataframe tbody tr th:only-of-type {\n",
       "        vertical-align: middle;\n",
       "    }\n",
       "\n",
       "    .dataframe tbody tr th {\n",
       "        vertical-align: top;\n",
       "    }\n",
       "\n",
       "    .dataframe thead th {\n",
       "        text-align: right;\n",
       "    }\n",
       "</style>\n",
       "<table border=\"1\" class=\"dataframe\">\n",
       "  <thead>\n",
       "    <tr style=\"text-align: right;\">\n",
       "      <th></th>\n",
       "      <th>date</th>\n",
       "      <th>year</th>\n",
       "      <th>len_pdf</th>\n",
       "      <th>article</th>\n",
       "      <th>article_txt</th>\n",
       "      <th>article_62</th>\n",
       "      <th>case_num</th>\n",
       "      <th>filename</th>\n",
       "      <th>section_text</th>\n",
       "      <th>bsn_act</th>\n",
       "      <th>simp_text</th>\n",
       "      <th>section</th>\n",
       "      <th>sec_text</th>\n",
       "      <th>count</th>\n",
       "      <th>file</th>\n",
       "      <th>id</th>\n",
       "      <th>year_text</th>\n",
       "      <th>article_new</th>\n",
       "      <th>article_match</th>\n",
       "    </tr>\n",
       "  </thead>\n",
       "  <tbody>\n",
       "    <tr>\n",
       "      <th>21911</th>\n",
       "      <td>Date: 22/04/2020</td>\n",
       "      <td>2020.0</td>\n",
       "      <td>237</td>\n",
       "      <td>article6(2)</td>\n",
       "      <td>article6(2)</td>\n",
       "      <td>inconjunctionwithart6(2)</td>\n",
       "      <td>M.9517</td>\n",
       "      <td>art6.1\\M.9517\\m9517_2719_3</td>\n",
       "      <td>[In the published version of this decision,, s...</td>\n",
       "      <td></td>\n",
       "      <td>None</td>\n",
       "      <td>PUBLIC VERSION</td>\n",
       "      <td>In the published version of this decision,\\nso...</td>\n",
       "      <td>53</td>\n",
       "      <td>m9517_2719_3</td>\n",
       "      <td>21911</td>\n",
       "      <td>2020.0</td>\n",
       "      <td>article6(2)</td>\n",
       "      <td>True</td>\n",
       "    </tr>\n",
       "    <tr>\n",
       "      <th>21912</th>\n",
       "      <td>Date: 22/04/2020</td>\n",
       "      <td>2020.0</td>\n",
       "      <td>237</td>\n",
       "      <td>article6(2)</td>\n",
       "      <td>article6(2)</td>\n",
       "      <td>inconjunctionwithart6(2)</td>\n",
       "      <td>M.9517</td>\n",
       "      <td>art6.1\\M.9517\\m9517_2719_3</td>\n",
       "      <td>[1   OJ L 24, 29.1.2004, p. 1 (the \"Merger Reg...</td>\n",
       "      <td></td>\n",
       "      <td>None</td>\n",
       "      <td>Agreement on the European Economic Area2</td>\n",
       "      <td>1   OJ L 24, 29.1.2004, p. 1 (the \"Merger Regu...</td>\n",
       "      <td>24915</td>\n",
       "      <td>m9517_2719_3</td>\n",
       "      <td>21912</td>\n",
       "      <td>2020.0</td>\n",
       "      <td>article6(2)</td>\n",
       "      <td>True</td>\n",
       "    </tr>\n",
       "    <tr>\n",
       "      <th>21913</th>\n",
       "      <td>Date: 22/04/2020</td>\n",
       "      <td>2020.0</td>\n",
       "      <td>237</td>\n",
       "      <td>article6(2)</td>\n",
       "      <td>article6(2)</td>\n",
       "      <td>inconjunctionwithart6(2)</td>\n",
       "      <td>M.9517</td>\n",
       "      <td>art6.1\\M.9517\\m9517_2719_3</td>\n",
       "      <td>[TABLE OF CONTENTS, SECTION A – DEFINITIONS .....</td>\n",
       "      <td></td>\n",
       "      <td>None</td>\n",
       "      <td>17 April 2019</td>\n",
       "      <td>TABLE OF CONTENTS\\nSECTION A – DEFINITIONS ......</td>\n",
       "      <td>445</td>\n",
       "      <td>m9517_2719_3</td>\n",
       "      <td>21913</td>\n",
       "      <td>2020.0</td>\n",
       "      <td>article6(2)</td>\n",
       "      <td>True</td>\n",
       "    </tr>\n",
       "    <tr>\n",
       "      <th>21914</th>\n",
       "      <td>Date: 22/04/2020</td>\n",
       "      <td>2020.0</td>\n",
       "      <td>237</td>\n",
       "      <td>article6(2)</td>\n",
       "      <td>article6(2)</td>\n",
       "      <td>inconjunctionwithart6(2)</td>\n",
       "      <td>M.9517</td>\n",
       "      <td>art6.1\\M.9517\\m9517_2719_3</td>\n",
       "      <td>[Pursuant  to  Article  6(2)  of  Council  Reg...</td>\n",
       "      <td></td>\n",
       "      <td>None</td>\n",
       "      <td>COMMITMENTS TO THE EUROPEAN COMMISSION</td>\n",
       "      <td>Pursuant  to  Article  6(2)  of  Council  Regu...</td>\n",
       "      <td>266</td>\n",
       "      <td>m9517_2719_3</td>\n",
       "      <td>21914</td>\n",
       "      <td>2020.0</td>\n",
       "      <td>article6(2)</td>\n",
       "      <td>True</td>\n",
       "    </tr>\n",
       "    <tr>\n",
       "      <th>21915</th>\n",
       "      <td>Date: 22/04/2020</td>\n",
       "      <td>2020.0</td>\n",
       "      <td>237</td>\n",
       "      <td>article6(2)</td>\n",
       "      <td>article6(2)</td>\n",
       "      <td>inconjunctionwithart6(2)</td>\n",
       "      <td>M.9517</td>\n",
       "      <td>art6.1\\M.9517\\m9517_2719_3</td>\n",
       "      <td>[and the terms of sale by the Commission., Con...</td>\n",
       "      <td></td>\n",
       "      <td>None</td>\n",
       "      <td>Divestment Closing Period: the period of […] m...</td>\n",
       "      <td>and the terms of sale by the Commission.\\nConf...</td>\n",
       "      <td>248</td>\n",
       "      <td>m9517_2719_3</td>\n",
       "      <td>21915</td>\n",
       "      <td>2020.0</td>\n",
       "      <td>article6(2)</td>\n",
       "      <td>True</td>\n",
       "    </tr>\n",
       "    <tr>\n",
       "      <th>21916</th>\n",
       "      <td>Date: 22/04/2020</td>\n",
       "      <td>2020.0</td>\n",
       "      <td>237</td>\n",
       "      <td>article6(2)</td>\n",
       "      <td>article6(2)</td>\n",
       "      <td>inconjunctionwithart6(2)</td>\n",
       "      <td>M.9517</td>\n",
       "      <td>art6.1\\M.9517\\m9517_2719_3</td>\n",
       "      <td>[development,  manufacturing  and  marketing  ...</td>\n",
       "      <td></td>\n",
       "      <td>None</td>\n",
       "      <td>Pfizer:  Pfizer  Inc.  a  pharmaceutical  comp...</td>\n",
       "      <td>development,  manufacturing  and  marketing  o...</td>\n",
       "      <td>68</td>\n",
       "      <td>m9517_2719_3</td>\n",
       "      <td>21916</td>\n",
       "      <td>2020.0</td>\n",
       "      <td>article6(2)</td>\n",
       "      <td>True</td>\n",
       "    </tr>\n",
       "    <tr>\n",
       "      <th>21917</th>\n",
       "      <td>Date: 22/04/2020</td>\n",
       "      <td>2020.0</td>\n",
       "      <td>237</td>\n",
       "      <td>article6(2)</td>\n",
       "      <td>article6(2)</td>\n",
       "      <td>inconjunctionwithart6(2)</td>\n",
       "      <td>M.9517</td>\n",
       "      <td>art6.1\\M.9517\\m9517_2719_3</td>\n",
       "      <td>[which  give  rise  to  the  need  for  a  div...</td>\n",
       "      <td></td>\n",
       "      <td>None</td>\n",
       "      <td>Retained  Business(es):  Upjohn’s  overlapping...</td>\n",
       "      <td>which  give  rise  to  the  need  for  a  dive...</td>\n",
       "      <td>134</td>\n",
       "      <td>m9517_2719_3</td>\n",
       "      <td>21917</td>\n",
       "      <td>2020.0</td>\n",
       "      <td>article6(2)</td>\n",
       "      <td>True</td>\n",
       "    </tr>\n",
       "    <tr>\n",
       "      <th>21918</th>\n",
       "      <td>Date: 22/04/2020</td>\n",
       "      <td>2020.0</td>\n",
       "      <td>237</td>\n",
       "      <td>article6(2)</td>\n",
       "      <td>article6(2)</td>\n",
       "      <td>inconjunctionwithart6(2)</td>\n",
       "      <td>M.9517</td>\n",
       "      <td>art6.1\\M.9517\\m9517_2719_3</td>\n",
       "      <td>[Commitment to divest, (2)  To maintain effect...</td>\n",
       "      <td></td>\n",
       "      <td>None</td>\n",
       "      <td>SECTION B – THE COMMITMENT TO DIVEST AND THE D...</td>\n",
       "      <td>Commitment to divest\\n(2)  To maintain effecti...</td>\n",
       "      <td>40322</td>\n",
       "      <td>m9517_2719_3</td>\n",
       "      <td>21918</td>\n",
       "      <td>2020.0</td>\n",
       "      <td>article6(2)</td>\n",
       "      <td>True</td>\n",
       "    </tr>\n",
       "  </tbody>\n",
       "</table>\n",
       "</div>"
      ],
      "text/plain": [
       "                   date    year  len_pdf      article  article_txt  \\\n",
       "21911  Date: 22/04/2020  2020.0      237  article6(2)  article6(2)   \n",
       "21912  Date: 22/04/2020  2020.0      237  article6(2)  article6(2)   \n",
       "21913  Date: 22/04/2020  2020.0      237  article6(2)  article6(2)   \n",
       "21914  Date: 22/04/2020  2020.0      237  article6(2)  article6(2)   \n",
       "21915  Date: 22/04/2020  2020.0      237  article6(2)  article6(2)   \n",
       "21916  Date: 22/04/2020  2020.0      237  article6(2)  article6(2)   \n",
       "21917  Date: 22/04/2020  2020.0      237  article6(2)  article6(2)   \n",
       "21918  Date: 22/04/2020  2020.0      237  article6(2)  article6(2)   \n",
       "\n",
       "                     article_62 case_num                    filename  \\\n",
       "21911  inconjunctionwithart6(2)   M.9517  art6.1\\M.9517\\m9517_2719_3   \n",
       "21912  inconjunctionwithart6(2)   M.9517  art6.1\\M.9517\\m9517_2719_3   \n",
       "21913  inconjunctionwithart6(2)   M.9517  art6.1\\M.9517\\m9517_2719_3   \n",
       "21914  inconjunctionwithart6(2)   M.9517  art6.1\\M.9517\\m9517_2719_3   \n",
       "21915  inconjunctionwithart6(2)   M.9517  art6.1\\M.9517\\m9517_2719_3   \n",
       "21916  inconjunctionwithart6(2)   M.9517  art6.1\\M.9517\\m9517_2719_3   \n",
       "21917  inconjunctionwithart6(2)   M.9517  art6.1\\M.9517\\m9517_2719_3   \n",
       "21918  inconjunctionwithart6(2)   M.9517  art6.1\\M.9517\\m9517_2719_3   \n",
       "\n",
       "                                            section_text bsn_act simp_text  \\\n",
       "21911  [In the published version of this decision,, s...              None   \n",
       "21912  [1   OJ L 24, 29.1.2004, p. 1 (the \"Merger Reg...              None   \n",
       "21913  [TABLE OF CONTENTS, SECTION A – DEFINITIONS .....              None   \n",
       "21914  [Pursuant  to  Article  6(2)  of  Council  Reg...              None   \n",
       "21915  [and the terms of sale by the Commission., Con...              None   \n",
       "21916  [development,  manufacturing  and  marketing  ...              None   \n",
       "21917  [which  give  rise  to  the  need  for  a  div...              None   \n",
       "21918  [Commitment to divest, (2)  To maintain effect...              None   \n",
       "\n",
       "                                                 section  \\\n",
       "21911                                     PUBLIC VERSION   \n",
       "21912           Agreement on the European Economic Area2   \n",
       "21913                                      17 April 2019   \n",
       "21914             COMMITMENTS TO THE EUROPEAN COMMISSION   \n",
       "21915  Divestment Closing Period: the period of […] m...   \n",
       "21916  Pfizer:  Pfizer  Inc.  a  pharmaceutical  comp...   \n",
       "21917  Retained  Business(es):  Upjohn’s  overlapping...   \n",
       "21918  SECTION B – THE COMMITMENT TO DIVEST AND THE D...   \n",
       "\n",
       "                                                sec_text  count          file  \\\n",
       "21911  In the published version of this decision,\\nso...     53  m9517_2719_3   \n",
       "21912  1   OJ L 24, 29.1.2004, p. 1 (the \"Merger Regu...  24915  m9517_2719_3   \n",
       "21913  TABLE OF CONTENTS\\nSECTION A – DEFINITIONS ......    445  m9517_2719_3   \n",
       "21914  Pursuant  to  Article  6(2)  of  Council  Regu...    266  m9517_2719_3   \n",
       "21915  and the terms of sale by the Commission.\\nConf...    248  m9517_2719_3   \n",
       "21916  development,  manufacturing  and  marketing  o...     68  m9517_2719_3   \n",
       "21917  which  give  rise  to  the  need  for  a  dive...    134  m9517_2719_3   \n",
       "21918  Commitment to divest\\n(2)  To maintain effecti...  40322  m9517_2719_3   \n",
       "\n",
       "          id  year_text  article_new  article_match  \n",
       "21911  21911     2020.0  article6(2)           True  \n",
       "21912  21912     2020.0  article6(2)           True  \n",
       "21913  21913     2020.0  article6(2)           True  \n",
       "21914  21914     2020.0  article6(2)           True  \n",
       "21915  21915     2020.0  article6(2)           True  \n",
       "21916  21916     2020.0  article6(2)           True  \n",
       "21917  21917     2020.0  article6(2)           True  \n",
       "21918  21918     2020.0  article6(2)           True  "
      ]
     },
     "execution_count": 63,
     "metadata": {},
     "output_type": "execute_result"
    }
   ],
   "source": [
    "df[df['case_num']=='M.9517']"
   ]
  },
  {
   "cell_type": "code",
   "execution_count": 14,
   "metadata": {},
   "outputs": [
    {
     "data": {
      "image/png": "[encoded data removed]",
      "text/plain": [
       "<Figure size 800x600 with 1 Axes>"
      ]
     },
     "metadata": {},
     "output_type": "display_data"
    }
   ],
   "source": [
    "import matplotlib.pyplot as plt\n",
    "\n",
    "# Group the DataFrame by year_text and count the number of unique case_num values\n",
    "grouped = df.groupby('year_text')['case_num'].nunique()\n",
    "\n",
    "# Create a bar chart of the grouped data\n",
    "ax = grouped.plot(kind='bar', figsize=(8,6))\n",
    "\n",
    "# Set the chart title and axis labels\n",
    "ax.set_title('Merger Cases per Year')\n",
    "ax.set_xlabel('Year')\n",
    "ax.set_ylabel('Number of Merger Cases')\n",
    "\n",
    "# Display the chart\n",
    "plt.show()\n"
   ]
  },
  {
   "cell_type": "code",
   "execution_count": 15,
   "metadata": {},
   "outputs": [
    {
     "data": {
      "text/plain": [
       "3486"
      ]
     },
     "execution_count": 15,
     "metadata": {},
     "output_type": "execute_result"
    }
   ],
   "source": [
    "len(df[df['len_pdf']<=5])"
   ]
  },
  {
   "cell_type": "code",
   "execution_count": 16,
   "metadata": {},
   "outputs": [
    {
     "data": {
      "text/plain": [
       "3481"
      ]
     },
     "execution_count": 16,
     "metadata": {},
     "output_type": "execute_result"
    }
   ],
   "source": [
    "df[df['len_pdf']<=5]['case_num'].nunique()"
   ]
  },
  {
   "cell_type": "code",
   "execution_count": 17,
   "metadata": {},
   "outputs": [
    {
     "data": {
      "text/plain": [
       "3481"
      ]
     },
     "execution_count": 17,
     "metadata": {},
     "output_type": "execute_result"
    }
   ],
   "source": [
    "df[df['len_pdf']<=5]['file'].nunique()"
   ]
  },
  {
   "cell_type": "code",
   "execution_count": 22,
   "metadata": {},
   "outputs": [],
   "source": [
    "headings = df['section'].value_counts()"
   ]
  },
  {
   "cell_type": "code",
   "execution_count": 24,
   "metadata": {},
   "outputs": [
    {
     "data": {
      "text/plain": [
       "No 139/20041                                                 489\n",
       "1.  THE PARTIES                                              409\n",
       "I.  THE PARTIES                                              278\n",
       "3.  EU DIMENSION                                             259\n",
       "PUBLIC VERSION                                               222\n",
       "                                                            ... \n",
       "7.  ARTICLE 2(4) ASSESSMENT (POSSIBLE SPILL-OVER EFFECTS)      1\n",
       "document number 32017M8486                                     1\n",
       "3.2  Hearing protection                                        1\n",
       "4  COMPETITIVE ASSESSMENT                                      1\n",
       "5.2.  Market for (e-)bike sharing services                     1\n",
       "Name: section, Length: 13921, dtype: int64"
      ]
     },
     "execution_count": 24,
     "metadata": {},
     "output_type": "execute_result"
    }
   ],
   "source": [
    "headings"
   ]
  },
  {
   "cell_type": "code",
   "execution_count": 27,
   "metadata": {},
   "outputs": [
    {
     "data": {
      "text/plain": [
       "No 139/20041             489\n",
       "1.  THE PARTIES          409\n",
       "I.  THE PARTIES          278\n",
       "3.  EU DIMENSION         259\n",
       "PUBLIC VERSION           222\n",
       "I. THE PARTIES           206\n",
       "2.  THE OPERATION        176\n",
       "3.  UNION DIMENSION      164\n",
       "Area2                    134\n",
       "2.  THE CONCENTRATION    131\n",
       "Name: section, dtype: int64"
      ]
     },
     "execution_count": 27,
     "metadata": {},
     "output_type": "execute_result"
    }
   ],
   "source": [
    "headings.head(10)"
   ]
  },
  {
   "cell_type": "code",
   "execution_count": 74,
   "metadata": {},
   "outputs": [
    {
     "data": {
      "text/html": [
       "<div>\n",
       "<style scoped>\n",
       "    .dataframe tbody tr th:only-of-type {\n",
       "        vertical-align: middle;\n",
       "    }\n",
       "\n",
       "    .dataframe tbody tr th {\n",
       "        vertical-align: top;\n",
       "    }\n",
       "\n",
       "    .dataframe thead th {\n",
       "        text-align: right;\n",
       "    }\n",
       "</style>\n",
       "<table border=\"1\" class=\"dataframe\">\n",
       "  <thead>\n",
       "    <tr style=\"text-align: right;\">\n",
       "      <th></th>\n",
       "      <th>sec_text</th>\n",
       "      <th>count</th>\n",
       "    </tr>\n",
       "  </thead>\n",
       "  <tbody>\n",
       "    <tr>\n",
       "      <th>3217</th>\n",
       "      <td>5.  The transaction involves the acquisition b...</td>\n",
       "      <td>140</td>\n",
       "    </tr>\n",
       "    <tr>\n",
       "      <th>3934</th>\n",
       "      <td>4.  The operation entails the acquisition of s...</td>\n",
       "      <td>39</td>\n",
       "    </tr>\n",
       "    <tr>\n",
       "      <th>4793</th>\n",
       "      <td>5.  On 23/04/2007 Barclays announced its inten...</td>\n",
       "      <td>41</td>\n",
       "    </tr>\n",
       "    <tr>\n",
       "      <th>4815</th>\n",
       "      <td>5.  The operation concerns the acquisition of ...</td>\n",
       "      <td>59</td>\n",
       "    </tr>\n",
       "    <tr>\n",
       "      <th>4932</th>\n",
       "      <td>4.  According to the \"Stock and Asset Sale Agr...</td>\n",
       "      <td>105</td>\n",
       "    </tr>\n",
       "    <tr>\n",
       "      <th>5371</th>\n",
       "      <td>5.  Pursuant to a Memorandum of Understanding ...</td>\n",
       "      <td>49</td>\n",
       "    </tr>\n",
       "    <tr>\n",
       "      <th>5887</th>\n",
       "      <td>4.  On 13 May 2008, HP and MergerCo, a Delawar...</td>\n",
       "      <td>62</td>\n",
       "    </tr>\n",
       "    <tr>\n",
       "      <th>5934</th>\n",
       "      <td>5.  The envisaged transaction concerns the acq...</td>\n",
       "      <td>102</td>\n",
       "    </tr>\n",
       "    <tr>\n",
       "      <th>6317</th>\n",
       "      <td>4.  The Proposed Transaction concerns the acqu...</td>\n",
       "      <td>360</td>\n",
       "    </tr>\n",
       "    <tr>\n",
       "      <th>6376</th>\n",
       "      <td>4.  According to a Sale and Purchase Agreement...</td>\n",
       "      <td>39</td>\n",
       "    </tr>\n",
       "    <tr>\n",
       "      <th>13629</th>\n",
       "      <td>4.  On 15 December 2008 ABF and Ebro Puleva si...</td>\n",
       "      <td>55</td>\n",
       "    </tr>\n",
       "    <tr>\n",
       "      <th>13751</th>\n",
       "      <td>5.  The parties intend to establish a 50-50% J...</td>\n",
       "      <td>450</td>\n",
       "    </tr>\n",
       "    <tr>\n",
       "      <th>19285</th>\n",
       "      <td>4.  The  transaction  is  an  acquisition  of ...</td>\n",
       "      <td>205</td>\n",
       "    </tr>\n",
       "  </tbody>\n",
       "</table>\n",
       "</div>"
      ],
      "text/plain": [
       "                                                sec_text  count\n",
       "3217   5.  The transaction involves the acquisition b...    140\n",
       "3934   4.  The operation entails the acquisition of s...     39\n",
       "4793   5.  On 23/04/2007 Barclays announced its inten...     41\n",
       "4815   5.  The operation concerns the acquisition of ...     59\n",
       "4932   4.  According to the \"Stock and Asset Sale Agr...    105\n",
       "5371   5.  Pursuant to a Memorandum of Understanding ...     49\n",
       "5887   4.  On 13 May 2008, HP and MergerCo, a Delawar...     62\n",
       "5934   5.  The envisaged transaction concerns the acq...    102\n",
       "6317   4.  The Proposed Transaction concerns the acqu...    360\n",
       "6376   4.  According to a Sale and Purchase Agreement...     39\n",
       "13629  4.  On 15 December 2008 ABF and Ebro Puleva si...     55\n",
       "13751  5.  The parties intend to establish a 50-50% J...    450\n",
       "19285  4.  The  transaction  is  an  acquisition  of ...    205"
      ]
     },
     "execution_count": 74,
     "metadata": {},
     "output_type": "execute_result"
    }
   ],
   "source": [
    "df[df['section']=='Commission européenne, B-1049 Bruxelles / Europese Commissie, B-1049 Brussel - Belgium. Telephone: (32-2) 299 11 11.  II.  THE OPERATION'][['sec_text', 'count']]\n"
   ]
  },
  {
   "cell_type": "code",
   "execution_count": null,
   "metadata": {},
   "outputs": [],
   "source": []
  }
 ],
 "metadata": {
  "kernelspec": {
   "display_name": "thesis",
   "language": "python",
   "name": "python3"
  },
  "language_info": {
   "codemirror_mode": {
    "name": "ipython",
    "version": 3
   },
   "file_extension": ".py",
   "mimetype": "text/x-python",
   "name": "python",
   "nbconvert_exporter": "python",
   "pygments_lexer": "ipython3",
   "version": "3.10.4"
  },
  "orig_nbformat": 4,
  "vscode": {
   "interpreter": {
    "hash": "b8a34a3bb875764d64c764b9cffa891f179e7153a1578da198ecc075e870264c"
   }
  }
 },
 "nbformat": 4,
 "nbformat_minor": 2
}
