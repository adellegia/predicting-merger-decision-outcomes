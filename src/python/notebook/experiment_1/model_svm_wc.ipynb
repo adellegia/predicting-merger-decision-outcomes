{
 "cells": [
  {
   "cell_type": "code",
   "execution_count": 1,
   "metadata": {},
   "outputs": [],
   "source": [
    "# Data visualization\n",
    "import matplotlib.pyplot as plt\n",
    "\n",
    "# Data manipulation\n",
    "import pandas as pd\n",
    "import numpy as np\n",
    "\n",
    "# Vector representations and embeddings\n",
    "from sklearn.feature_extraction.text import TfidfVectorizer, CountVectorizer\n",
    "\n",
    "# Modeling - Logistic, XGBOOST, SVM\n",
    "from sklearn.linear_model import LogisticRegression\n",
    "from sklearn.svm import LinearSVC"
   ]
  },
  {
   "cell_type": "code",
   "execution_count": 2,
   "metadata": {},
   "outputs": [],
   "source": [
    "import sys\n",
    "sys.path.append(f'../../../python')\n",
    "\n",
    "from balance_split_data import create_label, balance_unique_id, \\\n",
    "create_balanced_excluded, create_train_test_excluded, group_by_case, create_feature_label\n",
    "\n",
    "from grid_search import gridsearch, fit_best_model_train, evaluate, fit_best_model_test, get_feature_importance_cv\n",
    "\n",
    "from ml_model import train_model_cross_val, train_model_test, get_feature_importance, get_feature_importance10, eval_matrix"
   ]
  },
  {
   "attachments": {},
   "cell_type": "markdown",
   "metadata": {},
   "source": [
    "### Load data"
   ]
  },
  {
   "cell_type": "code",
   "execution_count": 3,
   "metadata": {},
   "outputs": [],
   "source": [
    "df = pd.read_json(r\"../../../../data/processed/pre-processed_merged_2023_04_04.json\")"
   ]
  },
  {
   "cell_type": "code",
   "execution_count": 4,
   "metadata": {},
   "outputs": [
    {
     "data": {
      "text/plain": [
       "Index(['year', 'article_new', 'case_num', 'file', 'section_fin', 'len_pdf',\n",
       "       'sec_text', 'count', 'text_clean', 'count_text', 'phase2', 'wc',\n",
       "       'competition', 'case_code', 'title', 'regulation_id',\n",
       "       'notification_date', 'simpl_proc', 'last_decision_date',\n",
       "       'deadline_date', 'nace_code', 'article'],\n",
       "      dtype='object')"
      ]
     },
     "execution_count": 4,
     "metadata": {},
     "output_type": "execute_result"
    }
   ],
   "source": [
    "df.columns"
   ]
  },
  {
   "attachments": {},
   "cell_type": "markdown",
   "metadata": {},
   "source": [
    "### Balance data and split to train and test set"
   ]
  },
  {
   "cell_type": "code",
   "execution_count": 5,
   "metadata": {},
   "outputs": [],
   "source": [
    "label_name = \"wc\"\n",
    "random_seed=42\n",
    "random_state=42"
   ]
  },
  {
   "cell_type": "code",
   "execution_count": 6,
   "metadata": {},
   "outputs": [
    {
     "name": "stdout",
     "output_type": "stream",
     "text": [
      "Total decisions: 1574\n",
      "0    1313\n",
      "1     261\n",
      "Name: label, dtype: int64\n",
      "Balancing...\n",
      "Total decisions: 522\n",
      "Labels distribution: \n",
      " 0    261\n",
      "1    261\n",
      "Name: 0, dtype: int64\n",
      "Training set shape: (417,) (417,)\n",
      "Test set shape: (105,) (105,)\n",
      "Creating df_train 1: 209 0: 208\n",
      "Creating df_test1 1: 52 0: 53\n",
      "Creating df_test concatenated with df_excluded with len: 1052\n",
      "Creating df_test 1: 52 0: 1105\n",
      "Grouping df_train by case_num 1: 209 0: 208\n",
      "Grouping df_test by case_num 1: 52 0: 1105\n",
      "Grouping df_test1 by case_num 1: 52 0: 53\n",
      "Grouping df_excluded by case_num with len: 1052\n"
     ]
    }
   ],
   "source": [
    "df1 = create_label(df, label_name)\n",
    "df_unique = balance_unique_id(df1)\n",
    "df_balanced_unique, df_balanced, df_excluded = create_balanced_excluded(df_unique, df1, random_seed=random_seed)\n",
    "df_train, df_test, df_test1 = create_train_test_excluded(df_balanced, df_balanced_unique, df_excluded, random_state=random_state)\n",
    "df_train_grouped, df_test_grouped, df_test1_grouped, df_excluded_grouped = group_by_case(df_train, df_test, df_test1, df_excluded, text='text_clean')"
   ]
  },
  {
   "cell_type": "code",
   "execution_count": 7,
   "metadata": {},
   "outputs": [],
   "source": [
    "X_train, y_train, X_test, y_test, X_test1, y_test1, X_test2, y_test2 = create_feature_label(df_train_grouped, df_test_grouped, df_test1_grouped, df_excluded_grouped, text='text_clean')"
   ]
  },
  {
   "attachments": {},
   "cell_type": "markdown",
   "metadata": {},
   "source": [
    "### Model training (with 10-fold CV) using best parameters from GridSearch"
   ]
  },
  {
   "cell_type": "code",
   "execution_count": 27,
   "metadata": {},
   "outputs": [
    {
     "name": "stdout",
     "output_type": "stream",
     "text": [
      "\tclf__C: 1\n",
      "\ttfidf__binary: True\n",
      "\ttfidf__max_df: 0.025\n",
      "\ttfidf__ngram_range: (2, 2)\n",
      "\ttfidf__norm: 'l1'\n",
      "\ttfidf__use_idf: False\n"
     ]
    }
   ],
   "source": [
    "# for param_name in sorted(parameters.keys()):\n",
    "#         print(\"\\t%s: %r\" % (param_name, best_parameters[param_name]))\n",
    "\n",
    "# clf__C: 1\n",
    "# tfidf__binary: True\n",
    "# tfidf__max_df: 0.025\n",
    "# tfidf__ngram_range: (2, 2)\n",
    "# tfidf__norm: 'l1'\n",
    "# tfidf__use_idf: False\n",
    "# tfidf__lowercase': True\n",
    "# tfidf__stop_words': 'english'"
   ]
  },
  {
   "cell_type": "code",
   "execution_count": 15,
   "metadata": {},
   "outputs": [],
   "source": [
    "vec = ('wordvec', TfidfVectorizer(analyzer = 'word', max_features=5000, lowercase=False, stop_words=None, \\\n",
    "                                  ngram_range = (2,2), binary = True, max_df = 0.025, norm = 'l1', use_idf = False))\n",
    "c = 1\n",
    "# solver = 'liblinear'\n",
    "model=LinearSVC(C=c)"
   ]
  },
  {
   "cell_type": "code",
   "execution_count": 16,
   "metadata": {},
   "outputs": [],
   "source": [
    "df_metrics = pd.DataFrame(columns = ['set', 'tn', 'fp', 'fn', 'tp', 'recall', 'precision', 'f_score', 'fpr', 'accuracy', 'roc_auc'])"
   ]
  },
  {
   "cell_type": "code",
   "execution_count": 17,
   "metadata": {},
   "outputs": [
    {
     "name": "stdout",
     "output_type": "stream",
     "text": [
      "***10-fold cross-validation***\n",
      "Accuracy: 0.5143540669856459\n",
      "\n",
      "Classification report:\n",
      "               precision    recall  f1-score   support\n",
      "\n",
      "           0       0.56      0.12      0.20       208\n",
      "           1       0.51      0.90      0.65       210\n",
      "\n",
      "    accuracy                           0.51       418\n",
      "   macro avg       0.53      0.51      0.42       418\n",
      "weighted avg       0.53      0.51      0.43       418\n",
      "\n",
      "\n",
      "CR: (0.5324694667858207, 0.5124771062271062, 0.4247147438287717, None)\n",
      "\n",
      "Confusion matrix:\n",
      " [[ 25 183]\n",
      " [ 20 190]] \n",
      "\n",
      "_______________________\n",
      "\n",
      "\n",
      " Accuracy: 51.435 \n",
      " Precision: 0.509 \n",
      " Recall: 0.905 \n",
      " F1: 0.652 \n",
      " FPR: 0.880 \n",
      " ROC_AUC: 0.512\n",
      "Accuracy: 0.5143540669856459\n",
      "\n",
      "Classification report:\n",
      "               precision    recall  f1-score   support\n",
      "\n",
      "           0       0.56      0.12      0.20       208\n",
      "           1       0.51      0.90      0.65       210\n",
      "\n",
      "    accuracy                           0.51       418\n",
      "   macro avg       0.53      0.51      0.42       418\n",
      "weighted avg       0.53      0.51      0.43       418\n",
      "\n",
      "\n",
      "CR: (0.5324694667858207, 0.5124771062271062, 0.4247147438287717, None)\n",
      "\n",
      "Confusion matrix:\n",
      " [[ 25 183]\n",
      " [ 20 190]] \n",
      "\n",
      "_______________________\n",
      "\n",
      "\n",
      "Recall: 0.905 \n",
      " Precision: 0.509 \n",
      " F1: 0.652 \n",
      " FPR: 0.880 \n",
      " Accuracy: 51.435 \n",
      " ROC_AUC: 0.512\n",
      "***testing on test set***\n",
      "Accuracy: 0.6132075471698113\n",
      "\n",
      "Classification report:\n",
      "               precision    recall  f1-score   support\n",
      "\n",
      "           0       0.73      0.36      0.48        53\n",
      "           1       0.57      0.87      0.69        53\n",
      "\n",
      "    accuracy                           0.61       106\n",
      "   macro avg       0.65      0.61      0.59       106\n",
      "weighted avg       0.65      0.61      0.59       106\n",
      "\n",
      "\n",
      "CR: (0.6528846153846153, 0.6132075471698113, 0.5863709907680594, None)\n",
      "\n",
      "Confusion matrix:\n",
      " [[19 34]\n",
      " [ 7 46]] \n",
      "\n",
      "_______________________\n",
      "\n",
      "\n",
      " Accuracy: 61.321 \n",
      " Precision: 0.575 \n",
      " Recall: 0.868 \n",
      " F1: 0.692 \n",
      " FPR: 0.642 \n",
      " ROC_AUC: 0.613\n",
      "Accuracy: 0.6132075471698113\n",
      "\n",
      "Classification report:\n",
      "               precision    recall  f1-score   support\n",
      "\n",
      "           0       0.73      0.36      0.48        53\n",
      "           1       0.57      0.87      0.69        53\n",
      "\n",
      "    accuracy                           0.61       106\n",
      "   macro avg       0.65      0.61      0.59       106\n",
      "weighted avg       0.65      0.61      0.59       106\n",
      "\n",
      "\n",
      "CR: (0.6528846153846153, 0.6132075471698113, 0.5863709907680594, None)\n",
      "\n",
      "Confusion matrix:\n",
      " [[19 34]\n",
      " [ 7 46]] \n",
      "\n",
      "_______________________\n",
      "\n",
      "\n",
      "Recall: 0.868 \n",
      " Precision: 0.575 \n",
      " F1: 0.692 \n",
      " FPR: 0.642 \n",
      " Accuracy: 61.321 \n",
      " ROC_AUC: 0.613\n",
      "***testing on test set***\n",
      "Accuracy: 0.21675302245250433\n",
      "\n",
      "Classification report:\n",
      "               precision    recall  f1-score   support\n",
      "\n",
      "           0       0.97      0.19      0.31      1105\n",
      "           1       0.05      0.87      0.09        53\n",
      "\n",
      "    accuracy                           0.22      1158\n",
      "   macro avg       0.51      0.53      0.20      1158\n",
      "weighted avg       0.92      0.22      0.30      1158\n",
      "\n",
      "\n",
      "CR: (0.5078034624436555, 0.5267224451464185, 0.20170284179395798, None)\n",
      "\n",
      "Confusion matrix:\n",
      " [[205 900]\n",
      " [  7  46]] \n",
      "\n",
      "_______________________\n",
      "\n",
      "\n",
      " Accuracy: 21.675 \n",
      " Precision: 0.049 \n",
      " Recall: 0.868 \n",
      " F1: 0.092 \n",
      " FPR: 0.814 \n",
      " ROC_AUC: 0.527\n",
      "Accuracy: 0.21675302245250433\n",
      "\n",
      "Classification report:\n",
      "               precision    recall  f1-score   support\n",
      "\n",
      "           0       0.97      0.19      0.31      1105\n",
      "           1       0.05      0.87      0.09        53\n",
      "\n",
      "    accuracy                           0.22      1158\n",
      "   macro avg       0.51      0.53      0.20      1158\n",
      "weighted avg       0.92      0.22      0.30      1158\n",
      "\n",
      "\n",
      "CR: (0.5078034624436555, 0.5267224451464185, 0.20170284179395798, None)\n",
      "\n",
      "Confusion matrix:\n",
      " [[205 900]\n",
      " [  7  46]] \n",
      "\n",
      "_______________________\n",
      "\n",
      "\n",
      "Recall: 0.868 \n",
      " Precision: 0.049 \n",
      " F1: 0.092 \n",
      " FPR: 0.814 \n",
      " Accuracy: 21.675 \n",
      " ROC_AUC: 0.527\n"
     ]
    }
   ],
   "source": [
    "# balanced train\n",
    "pipeline_train, trained_model, y_predict_train = train_model_cross_val(X_train, y_train, vec=vec, model=model, cv=10)\n",
    "set = \"balanced train\"\n",
    "metrics_train=evaluate(y_train, y_predict_train)\n",
    "row_train = pd.DataFrame({'set':set, 'tn':metrics_train[0], 'fp':metrics_train[1], 'fn':metrics_train[2], 'tp':metrics_train[3], \\\n",
    "                    'recall':metrics_train[4], 'precision':metrics_train[5], 'f_score':metrics_train[6], \\\n",
    "                    'fpr':metrics_train[7], 'accuracy':metrics_train[8], 'roc_auc':metrics_train[9]}, index=[0])\n",
    "\n",
    "\n",
    "# balanced test\n",
    "pipeline_test1, y_predict_test1 = train_model_test(X_train, y_train, X_test1, y_test1, model=model, vec=vec)\n",
    "set = \"balanced test\"\n",
    "metrics_test1=evaluate(y_test1, y_predict_test1)\n",
    "row_test1 = pd.DataFrame({'set':set, 'tn':metrics_test1[0], 'fp':metrics_test1[1], 'fn':metrics_test1[2], 'tp':metrics_test1[3], \\\n",
    "                        'recall':metrics_test1[4], 'precision':metrics_test1[5], 'f_score':metrics_test1[6], \\\n",
    "                        'fpr':metrics_test1[7], 'accuracy':metrics_test1[8], 'roc_auc':metrics_test1[9]}, index=[0])\n",
    "\n",
    "\n",
    "# imbalanced test\n",
    "pipeline_test, y_predict_test = train_model_test(X_train, y_train, X_test, y_test, model=model, vec=vec)\n",
    "set = \"imbalanced test\"\n",
    "metrics_test=evaluate(y_test, y_predict_test)\n",
    "row_test = pd.DataFrame({'set':set, 'tn':metrics_test[0], 'fp':metrics_test[1], 'fn':metrics_test[2], 'tp':metrics_test[3], \\\n",
    "                    'recall':metrics_test[4], 'precision':metrics_test[5], 'f_score':metrics_test[6], \\\n",
    "                    'fpr':metrics_test[7], 'accuracy':metrics_test[8], 'roc_auc':metrics_test[9]}, index=[0])\n",
    "\n",
    "df_metrics = pd.concat([df_metrics.loc[:], row_train, row_test1, row_test]).reset_index(drop=True)\n",
    "df_metrics['n'] = df_metrics['tn'] + df_metrics['fp'] + df_metrics['fn'] + df_metrics['tp']"
   ]
  },
  {
   "cell_type": "code",
   "execution_count": 18,
   "metadata": {},
   "outputs": [
    {
     "data": {
      "text/html": [
       "<div>\n",
       "<style scoped>\n",
       "    .dataframe tbody tr th:only-of-type {\n",
       "        vertical-align: middle;\n",
       "    }\n",
       "\n",
       "    .dataframe tbody tr th {\n",
       "        vertical-align: top;\n",
       "    }\n",
       "\n",
       "    .dataframe thead th {\n",
       "        text-align: right;\n",
       "    }\n",
       "</style>\n",
       "<table border=\"1\" class=\"dataframe\">\n",
       "  <thead>\n",
       "    <tr style=\"text-align: right;\">\n",
       "      <th></th>\n",
       "      <th>set</th>\n",
       "      <th>tn</th>\n",
       "      <th>fp</th>\n",
       "      <th>fn</th>\n",
       "      <th>tp</th>\n",
       "      <th>recall</th>\n",
       "      <th>precision</th>\n",
       "      <th>f_score</th>\n",
       "      <th>fpr</th>\n",
       "      <th>accuracy</th>\n",
       "      <th>roc_auc</th>\n",
       "      <th>n</th>\n",
       "    </tr>\n",
       "  </thead>\n",
       "  <tbody>\n",
       "    <tr>\n",
       "      <th>0</th>\n",
       "      <td>balanced train</td>\n",
       "      <td>25</td>\n",
       "      <td>183</td>\n",
       "      <td>20</td>\n",
       "      <td>190</td>\n",
       "      <td>0.904762</td>\n",
       "      <td>0.509383</td>\n",
       "      <td>0.651801</td>\n",
       "      <td>0.879808</td>\n",
       "      <td>51.435407</td>\n",
       "      <td>0.512477</td>\n",
       "      <td>418</td>\n",
       "    </tr>\n",
       "    <tr>\n",
       "      <th>1</th>\n",
       "      <td>balanced test</td>\n",
       "      <td>19</td>\n",
       "      <td>34</td>\n",
       "      <td>7</td>\n",
       "      <td>46</td>\n",
       "      <td>0.867925</td>\n",
       "      <td>0.575000</td>\n",
       "      <td>0.691729</td>\n",
       "      <td>0.641509</td>\n",
       "      <td>61.320755</td>\n",
       "      <td>0.613208</td>\n",
       "      <td>106</td>\n",
       "    </tr>\n",
       "    <tr>\n",
       "      <th>2</th>\n",
       "      <td>imbalanced test</td>\n",
       "      <td>205</td>\n",
       "      <td>900</td>\n",
       "      <td>7</td>\n",
       "      <td>46</td>\n",
       "      <td>0.867925</td>\n",
       "      <td>0.048626</td>\n",
       "      <td>0.092092</td>\n",
       "      <td>0.814480</td>\n",
       "      <td>21.675302</td>\n",
       "      <td>0.526722</td>\n",
       "      <td>1158</td>\n",
       "    </tr>\n",
       "  </tbody>\n",
       "</table>\n",
       "</div>"
      ],
      "text/plain": [
       "               set   tn   fp  fn   tp    recall  precision   f_score  \\\n",
       "0   balanced train   25  183  20  190  0.904762   0.509383  0.651801   \n",
       "1    balanced test   19   34   7   46  0.867925   0.575000  0.691729   \n",
       "2  imbalanced test  205  900   7   46  0.867925   0.048626  0.092092   \n",
       "\n",
       "        fpr   accuracy   roc_auc     n  \n",
       "0  0.879808  51.435407  0.512477   418  \n",
       "1  0.641509  61.320755  0.613208   106  \n",
       "2  0.814480  21.675302  0.526722  1158  "
      ]
     },
     "execution_count": 18,
     "metadata": {},
     "output_type": "execute_result"
    }
   ],
   "source": [
    "df_metrics"
   ]
  },
  {
   "cell_type": "code",
   "execution_count": 12,
   "metadata": {},
   "outputs": [],
   "source": [
    "df_metrics.to_excel('../../../../output/tables/svm_metrics_wc.xlsx', index=True)"
   ]
  },
  {
   "attachments": {},
   "cell_type": "markdown",
   "metadata": {},
   "source": [
    "### Confusion matrix and model performance"
   ]
  },
  {
   "cell_type": "code",
   "execution_count": 13,
   "metadata": {},
   "outputs": [],
   "source": [
    "merger_info = pd.read_json(r\"../../../../data/processed/merger_info_2023_03_25.json\")"
   ]
  },
  {
   "cell_type": "code",
   "execution_count": 14,
   "metadata": {},
   "outputs": [],
   "source": [
    "results_train, tn, fp, fn, tp = eval_matrix(df_train_grouped, merger_info, X_train, y_train, y_predict_train)"
   ]
  },
  {
   "cell_type": "code",
   "execution_count": 15,
   "metadata": {},
   "outputs": [],
   "source": [
    "results1, tn, fp, fn, tp = eval_matrix(df_test1_grouped, merger_info, X_test1, y_test1, y_predict_test1)"
   ]
  },
  {
   "cell_type": "code",
   "execution_count": 16,
   "metadata": {},
   "outputs": [],
   "source": [
    "results2, tn, fp, fn, tp = eval_matrix(df_test_grouped, merger_info, X_test, y_test, y_predict_test)"
   ]
  },
  {
   "cell_type": "code",
   "execution_count": 17,
   "metadata": {},
   "outputs": [
    {
     "name": "stdout",
     "output_type": "stream",
     "text": [
      "TN: 656\n",
      "FP: 448\n",
      "FN: 4\n",
      "TP: 50\n"
     ]
    }
   ],
   "source": [
    "print(\"TN:\", len(tn))\n",
    "print(\"FP:\", len(fp))\n",
    "\n",
    "print(\"FN:\", len(fn))\n",
    "print(\"TP:\", len(tp))"
   ]
  },
  {
   "cell_type": "code",
   "execution_count": 18,
   "metadata": {},
   "outputs": [
    {
     "data": {
      "text/plain": [
       "Telecommunications                                                    22\n",
       "Manufacture of other parts and accessories for motor vehicles         15\n",
       "Financial service activities, except insurance and pension funding    15\n",
       "Manufacture of chemicals and chemical products                        14\n",
       "Wholesale of computers, computer peripheral equipment and software     9\n",
       "Computer programming, consultancy and related activities               8\n",
       "Name: nace_code, dtype: int64"
      ]
     },
     "execution_count": 18,
     "metadata": {},
     "output_type": "execute_result"
    }
   ],
   "source": [
    "tn['nace_code'].value_counts().head(6)"
   ]
  },
  {
   "cell_type": "code",
   "execution_count": 19,
   "metadata": {},
   "outputs": [
    {
     "data": {
      "text/plain": [
       "Telecommunications                                                                                                    17\n",
       "Manufacture of chemicals and chemical products                                                                        15\n",
       "Manufacture of basic pharmaceutical products and pharmaceutical preparations                                          15\n",
       "Manufacture of basic chemicals, fertilisers and nitrogen compounds, plastics and synthetic rubber in primary forms     9\n",
       "Manufacture of pharmaceutical preparations                                                                             8\n",
       "Manufacture of other parts and accessories for motor vehicles                                                          6\n",
       "Name: nace_code, dtype: int64"
      ]
     },
     "execution_count": 19,
     "metadata": {},
     "output_type": "execute_result"
    }
   ],
   "source": [
    "fp['nace_code'].value_counts().head(6)"
   ]
  },
  {
   "cell_type": "code",
   "execution_count": 20,
   "metadata": {},
   "outputs": [
    {
     "data": {
      "text/plain": [
       "43"
      ]
     },
     "execution_count": 20,
     "metadata": {},
     "output_type": "execute_result"
    }
   ],
   "source": [
    "fp['nace_code'].str.contains(\"pharma\").sum()"
   ]
  },
  {
   "cell_type": "code",
   "execution_count": 21,
   "metadata": {},
   "outputs": [
    {
     "data": {
      "text/plain": [
       "Manufacture of chemicals and chemical products                                                                                                                                                                                                                                                                                1\n",
       "Electric power generation, transmission and distribution                                                                                                                                                                                                                                                                      1\n",
       "Cargo handling; Land transport and transport via pipelines; Sea and coastal freight water transport; Service activities incidental to water transportation; Support activities for transportation                                                                                                                             1\n",
       "Electric power generation, transmission and distribution; Electricity, gas, steam and air conditioning supply; Extraction of crude petroleum and natural gas; Manufacture of refined petroleum products; Retail sale of automotive fuel in specialised stores; Support activities for petroleum and natural gas extraction    1\n",
       "Name: nace_code, dtype: int64"
      ]
     },
     "execution_count": 21,
     "metadata": {},
     "output_type": "execute_result"
    }
   ],
   "source": [
    "fn['nace_code'].value_counts().head(6)"
   ]
  },
  {
   "cell_type": "code",
   "execution_count": 22,
   "metadata": {},
   "outputs": [
    {
     "data": {
      "text/plain": [
       "Manufacture of basic pharmaceutical products and pharmaceutical preparations                   6\n",
       "Manufacture of chemicals and chemical products                                                 3\n",
       "Computer programming, consultancy and related activities                                       2\n",
       "Wireless telecommunications activities                                                         2\n",
       "Aquaculture                                                                                    2\n",
       "Information service activities; Programming and broadcasting activities; Telecommunications    2\n",
       "Name: nace_code, dtype: int64"
      ]
     },
     "execution_count": 22,
     "metadata": {},
     "output_type": "execute_result"
    }
   ],
   "source": [
    "tp['nace_code'].value_counts().head(6)"
   ]
  },
  {
   "attachments": {},
   "cell_type": "markdown",
   "metadata": {},
   "source": [
    "### Feature importance"
   ]
  },
  {
   "cell_type": "code",
   "execution_count": 19,
   "metadata": {},
   "outputs": [
    {
     "data": {
      "text/html": [
       "<div>\n",
       "<style scoped>\n",
       "    .dataframe tbody tr th:only-of-type {\n",
       "        vertical-align: middle;\n",
       "    }\n",
       "\n",
       "    .dataframe tbody tr th {\n",
       "        vertical-align: top;\n",
       "    }\n",
       "\n",
       "    .dataframe thead th {\n",
       "        text-align: right;\n",
       "    }\n",
       "</style>\n",
       "<table border=\"1\" class=\"dataframe\">\n",
       "  <thead>\n",
       "    <tr style=\"text-align: right;\">\n",
       "      <th></th>\n",
       "      <th>feature</th>\n",
       "      <th>importance</th>\n",
       "      <th>abs_importance</th>\n",
       "    </tr>\n",
       "  </thead>\n",
       "  <tbody>\n",
       "    <tr>\n",
       "      <th>4282</th>\n",
       "      <td>monomer including</td>\n",
       "      <td>-0.728844</td>\n",
       "      <td>0.728844</td>\n",
       "    </tr>\n",
       "    <tr>\n",
       "      <th>533</th>\n",
       "      <td>million Aviva</td>\n",
       "      <td>-0.728843</td>\n",
       "      <td>0.728843</td>\n",
       "    </tr>\n",
       "    <tr>\n",
       "      <th>921</th>\n",
       "      <td>million Suntory</td>\n",
       "      <td>-0.728842</td>\n",
       "      <td>0.728842</td>\n",
       "    </tr>\n",
       "    <tr>\n",
       "      <th>611</th>\n",
       "      <td>million Cunningham</td>\n",
       "      <td>-0.728841</td>\n",
       "      <td>0.728841</td>\n",
       "    </tr>\n",
       "    <tr>\n",
       "      <th>860</th>\n",
       "      <td>million Repsol</td>\n",
       "      <td>-0.728840</td>\n",
       "      <td>0.728840</td>\n",
       "    </tr>\n",
       "    <tr>\n",
       "      <th>913</th>\n",
       "      <td>million Sonepar</td>\n",
       "      <td>-0.728839</td>\n",
       "      <td>0.728839</td>\n",
       "    </tr>\n",
       "    <tr>\n",
       "      <th>4676</th>\n",
       "      <td>monthly auction</td>\n",
       "      <td>-0.728839</td>\n",
       "      <td>0.728839</td>\n",
       "    </tr>\n",
       "    <tr>\n",
       "      <th>494</th>\n",
       "      <td>million ARDIAN</td>\n",
       "      <td>-0.728838</td>\n",
       "      <td>0.728838</td>\n",
       "    </tr>\n",
       "    <tr>\n",
       "      <th>2693</th>\n",
       "      <td>mobile initiated</td>\n",
       "      <td>-0.728838</td>\n",
       "      <td>0.728838</td>\n",
       "    </tr>\n",
       "    <tr>\n",
       "      <th>3517</th>\n",
       "      <td>modular analysis</td>\n",
       "      <td>-0.728838</td>\n",
       "      <td>0.728838</td>\n",
       "    </tr>\n",
       "  </tbody>\n",
       "</table>\n",
       "</div>"
      ],
      "text/plain": [
       "                 feature  importance  abs_importance\n",
       "4282   monomer including   -0.728844        0.728844\n",
       "533        million Aviva   -0.728843        0.728843\n",
       "921      million Suntory   -0.728842        0.728842\n",
       "611   million Cunningham   -0.728841        0.728841\n",
       "860       million Repsol   -0.728840        0.728840\n",
       "913      million Sonepar   -0.728839        0.728839\n",
       "4676     monthly auction   -0.728839        0.728839\n",
       "494       million ARDIAN   -0.728838        0.728838\n",
       "2693    mobile initiated   -0.728838        0.728838\n",
       "3517    modular analysis   -0.728838        0.728838"
      ]
     },
     "execution_count": 19,
     "metadata": {},
     "output_type": "execute_result"
    }
   ],
   "source": [
    "df_features_train, feature_importance, feature_names = get_feature_importance(trained_model, pipeline_train)\n",
    "df_features_train.head(10)"
   ]
  },
  {
   "attachments": {},
   "cell_type": "markdown",
   "metadata": {},
   "source": [
    "Get features for label = 1 and label = 0"
   ]
  },
  {
   "cell_type": "code",
   "execution_count": 20,
   "metadata": {},
   "outputs": [],
   "source": [
    "df_features_train1, df_features_train0 = get_feature_importance10(df_features_train)"
   ]
  },
  {
   "cell_type": "code",
   "execution_count": 14,
   "metadata": {},
   "outputs": [
    {
     "data": {
      "text/plain": [
       "(array([-0.6, -0.4, -0.2,  0. ,  0.2,  0.4,  0.6,  0.8]),\n",
       " [Text(-0.6000000000000001, 0, '−0.6'),\n",
       "  Text(-0.4000000000000001, 0, '−0.4'),\n",
       "  Text(-0.20000000000000007, 0, '−0.2'),\n",
       "  Text(0.0, 0, '0.0'),\n",
       "  Text(0.19999999999999996, 0, '0.2'),\n",
       "  Text(0.3999999999999999, 0, '0.4'),\n",
       "  Text(0.6000000000000001, 0, '0.6'),\n",
       "  Text(0.8, 0, '0.8')])"
      ]
     },
     "execution_count": 14,
     "metadata": {},
     "output_type": "execute_result"
    },
    {
     "data": {
      "image/png": "[encoded data removed]",
      "text/plain": [
       "<Figure size 1200x800 with 1 Axes>"
      ]
     },
     "metadata": {},
     "output_type": "display_data"
    }
   ],
   "source": [
    "# Sort the features by absolute importance for label=1\n",
    "df_features_train1 = df_features_train1.sort_values(by='abs_importance', ascending=False)\n",
    "df_features_train1_top10 = df_features_train1.nlargest(20, 'abs_importance')\n",
    "df_features_train1_top10 = df_features_train1_top10.sort_values('importance', ascending=True)\n",
    "\n",
    "# Sort the features by absolute importance for label=0\n",
    "df_features_train0 = df_features_train0.sort_values(by='abs_importance', ascending=False)\n",
    "df_features_train0_top10 = df_features_train0.nlargest(20, 'abs_importance')\n",
    "\n",
    "# Create a combined bar chart\n",
    "fig, ax = plt.subplots(figsize=(12, 8))\n",
    "ax.barh(df_features_train0_top10['feature'], df_features_train0_top10['importance'], color='darkblue', label='With Conditions=0')\n",
    "ax.barh(df_features_train1_top10['feature'], df_features_train1_top10['importance'], color='maroon', label='With Conditions=1')\n",
    "ax.set_xlabel('Importance')\n",
    "ax.set_ylabel('Features')\n",
    "ax.set_title('Top 20 Features by Importance for With Conditions =0 and =1')\n",
    "ax.legend()\n",
    "plt.xticks(rotation=90)\n",
    "# plt.show()\n",
    "\n",
    "# plt.savefig('../../../../output/figures/svm_full_wc.png', bbox_inches='tight')"
   ]
  },
  {
   "cell_type": "code",
   "execution_count": 26,
   "metadata": {},
   "outputs": [],
   "source": [
    "df_features_train.to_excel('../../../../output/tables/features_svm_train_full_wc.xlsx', index=True)"
   ]
  },
  {
   "cell_type": "code",
   "execution_count": null,
   "metadata": {},
   "outputs": [],
   "source": []
  }
 ],
 "metadata": {
  "kernelspec": {
   "display_name": "thesis",
   "language": "python",
   "name": "python3"
  },
  "language_info": {
   "codemirror_mode": {
    "name": "ipython",
    "version": 3
   },
   "file_extension": ".py",
   "mimetype": "text/x-python",
   "name": "python",
   "nbconvert_exporter": "python",
   "pygments_lexer": "ipython3",
   "version": "3.10.4"
  },
  "orig_nbformat": 4
 },
 "nbformat": 4,
 "nbformat_minor": 2
}
