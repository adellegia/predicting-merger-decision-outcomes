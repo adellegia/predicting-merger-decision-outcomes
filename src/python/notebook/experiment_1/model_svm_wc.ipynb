{
 "cells": [
  {
   "cell_type": "code",
   "execution_count": 1,
   "metadata": {},
   "outputs": [],
   "source": [
    "# Data visualization\n",
    "import matplotlib.pyplot as plt\n",
    "\n",
    "# Data manipulation\n",
    "import pandas as pd\n",
    "import numpy as np\n",
    "\n",
    "import glob, re, os, sys, random\n",
    "from random import shuffle\n",
    "import random\n",
    "from time import time\n",
    "\n",
    "# Vector representations and embeddings\n",
    "from sklearn.feature_extraction.text import TfidfVectorizer, CountVectorizer\n",
    "import gensim\n",
    "\n",
    "# Modeling - Logistic, XGBOOST, SVM\n",
    "from sklearn.model_selection import GridSearchCV, train_test_split, StratifiedShuffleSplit\n",
    "from sklearn.preprocessing import LabelEncoder\n",
    "\n",
    "from imblearn.over_sampling import RandomOverSampler\n",
    "from imblearn.under_sampling import RandomUnderSampler\n",
    "\n",
    "from sklearn.linear_model import LogisticRegression\n",
    "from sklearn.svm import LinearSVC\n",
    "\n",
    "from sklearn.model_selection import cross_val_predict, cross_val_score\n",
    "from sklearn.metrics import accuracy_score, precision_recall_fscore_support, precision_score, recall_score, f1_score\n",
    "from sklearn.metrics import classification_report, confusion_matrix, precision_recall_fscore_support\n",
    "\n",
    "from sklearn.pipeline import Pipeline, FeatureUnion\n",
    "\n",
    "from xgboost import XGBClassifier\n",
    "import pickle\n"
   ]
  },
  {
   "cell_type": "code",
   "execution_count": 2,
   "metadata": {},
   "outputs": [],
   "source": [
    "import sys\n",
    "sys.path.append(f'../../../python')\n",
    "\n",
    "from balance_split_data import create_label, balance_unique_id, \\\n",
    "create_balanced_excluded, create_train_test_excluded, group_by_case, create_feature_label\n",
    "\n",
    "from grid_search import gridsearch, fit_best_model_train, evaluate, fit_best_model_test, get_feature_importance_cv\n",
    "\n",
    "from ml_model import train_model_cross_val, train_model_test, \\\n",
    "get_feature_importance, get_feature_importance10"
   ]
  },
  {
   "attachments": {},
   "cell_type": "markdown",
   "metadata": {},
   "source": [
    "### Load data"
   ]
  },
  {
   "cell_type": "code",
   "execution_count": 3,
   "metadata": {},
   "outputs": [],
   "source": [
    "df = pd.read_json(r\"../../../../data/processed/pre-processed_merged_2023_04_03.json\")"
   ]
  },
  {
   "attachments": {},
   "cell_type": "markdown",
   "metadata": {},
   "source": [
    "### Balance data and split to train and test set"
   ]
  },
  {
   "cell_type": "code",
   "execution_count": 4,
   "metadata": {},
   "outputs": [],
   "source": [
    "label_name = \"wc\"\n",
    "random_seed=42\n",
    "random_state=42"
   ]
  },
  {
   "cell_type": "code",
   "execution_count": 5,
   "metadata": {},
   "outputs": [
    {
     "name": "stdout",
     "output_type": "stream",
     "text": [
      "Total decisions: 1574\n",
      "0    1313\n",
      "1     261\n",
      "Name: label, dtype: int64\n",
      "Balancing...\n",
      "Total decisions: 522\n",
      "Labels distribution: \n",
      " 0    261\n",
      "1    261\n",
      "Name: 0, dtype: int64\n",
      "Training set shape: (417,) (417,)\n",
      "Test set shape: (105,) (105,)\n",
      "Creating df_train 1: 209 0: 208\n",
      "Creating df_test1 1: 52 0: 53\n",
      "Creating df_test concatenated with df_excluded with len: 1052\n",
      "Creating df_test 1: 52 0: 1105\n",
      "Grouping df_train by case_num 1: 209 0: 208\n",
      "Grouping df_test by case_num 1: 52 0: 1105\n",
      "Grouping df_test1 by case_num 1: 52 0: 53\n",
      "Grouping df_excluded by case_num with len: 1052\n"
     ]
    }
   ],
   "source": [
    "df1 = create_label(df, label_name)\n",
    "df_unique = balance_unique_id(df1)\n",
    "df_balanced_unique, df_balanced, df_excluded = create_balanced_excluded(df_unique, df1, random_seed=random_seed)\n",
    "df_train, df_test, df_test1 = create_train_test_excluded(df_balanced, df_balanced_unique, df_excluded, random_state=random_state)\n",
    "df_train_grouped, df_test_grouped, df_test1_grouped, df_excluded_grouped = group_by_case(df_train, df_test, df_test1, df_excluded)"
   ]
  },
  {
   "cell_type": "code",
   "execution_count": 6,
   "metadata": {},
   "outputs": [],
   "source": [
    "X_train, y_train, X_test, y_test, X_test1, y_test1, X_test2, y_test2 = create_feature_label(df_train_grouped, df_test_grouped, df_test1_grouped, df_excluded_grouped)"
   ]
  },
  {
   "attachments": {},
   "cell_type": "markdown",
   "metadata": {},
   "source": [
    "### Model training (with 10-fold CV) using best parameters from GridSearch"
   ]
  },
  {
   "cell_type": "code",
   "execution_count": 27,
   "metadata": {},
   "outputs": [
    {
     "name": "stdout",
     "output_type": "stream",
     "text": [
      "\tclf__C: 1\n",
      "\ttfidf__binary: True\n",
      "\ttfidf__max_df: 0.025\n",
      "\ttfidf__ngram_range: (2, 2)\n",
      "\ttfidf__norm: 'l1'\n",
      "\ttfidf__use_idf: False\n"
     ]
    }
   ],
   "source": [
    "# for param_name in sorted(parameters.keys()):\n",
    "#         print(\"\\t%s: %r\" % (param_name, best_parameters[param_name]))\n",
    "\n",
    "# clf__C: 1\n",
    "# tfidf__binary: True\n",
    "# tfidf__max_df: 0.025\n",
    "# tfidf__ngram_range: (2, 2)\n",
    "# tfidf__norm: 'l1'\n",
    "# tfidf__use_idf: False"
   ]
  },
  {
   "cell_type": "code",
   "execution_count": 7,
   "metadata": {},
   "outputs": [],
   "source": [
    "vec = ('wordvec', TfidfVectorizer(analyzer = 'word', max_features=5000, stop_words='english', ngram_range = (2,2), binary = True, max_df = 0.05, norm = 'l1', use_idf = False))\n",
    "c = 1\n",
    "# solver = 'liblinear'\n",
    "model=LinearSVC(C=c)"
   ]
  },
  {
   "cell_type": "code",
   "execution_count": 8,
   "metadata": {},
   "outputs": [],
   "source": [
    "df_metrics = pd.DataFrame(columns = ['set', 'tn', 'fp', 'fn', 'tp', 'recall', 'precision', 'f_score', 'fpr', 'accuracy', 'roc_auc'])"
   ]
  },
  {
   "cell_type": "code",
   "execution_count": 9,
   "metadata": {},
   "outputs": [
    {
     "name": "stdout",
     "output_type": "stream",
     "text": [
      "***10-fold cross-validation***\n",
      "Accuracy: 0.6363636363636364\n",
      "\n",
      "Classification report:\n",
      "               precision    recall  f1-score   support\n",
      "\n",
      "           0       0.79      0.37      0.50       208\n",
      "           1       0.59      0.90      0.71       210\n",
      "\n",
      "    accuracy                           0.64       418\n",
      "   macro avg       0.69      0.64      0.61       418\n",
      "weighted avg       0.69      0.64      0.61       418\n",
      "\n",
      "\n",
      "CR: (0.6881696428571429, 0.6350961538461539, 0.6082377605130102, None)\n",
      "\n",
      "Confusion matrix:\n",
      " [[ 77 131]\n",
      " [ 21 189]] \n",
      "\n",
      "_______________________\n",
      "\n",
      "\n",
      " Accuracy: 63.636 \n",
      " Precision: 0.591 \n",
      " Recall: 0.900 \n",
      " F1: 0.713 \n",
      " FPR: 0.630 \n",
      " ROC_AUC: 0.635\n",
      "Accuracy: 0.6363636363636364\n",
      "\n",
      "Classification report:\n",
      "               precision    recall  f1-score   support\n",
      "\n",
      "           0       0.79      0.37      0.50       208\n",
      "           1       0.59      0.90      0.71       210\n",
      "\n",
      "    accuracy                           0.64       418\n",
      "   macro avg       0.69      0.64      0.61       418\n",
      "weighted avg       0.69      0.64      0.61       418\n",
      "\n",
      "\n",
      "CR: (0.6881696428571429, 0.6350961538461539, 0.6082377605130102, None)\n",
      "\n",
      "Confusion matrix:\n",
      " [[ 77 131]\n",
      " [ 21 189]] \n",
      "\n",
      "_______________________\n",
      "\n",
      "\n",
      "Recall: 0.900 \n",
      " Precision: 0.591 \n",
      " F1: 0.713 \n",
      " FPR: 0.630 \n",
      " Accuracy: 63.636 \n",
      " ROC_AUC: 0.635\n",
      "***testing on test set***\n",
      "Accuracy: 0.7169811320754716\n",
      "\n",
      "Classification report:\n",
      "               precision    recall  f1-score   support\n",
      "\n",
      "           0       0.90      0.49      0.63        53\n",
      "           1       0.65      0.94      0.77        53\n",
      "\n",
      "    accuracy                           0.72       106\n",
      "   macro avg       0.77      0.72      0.70       106\n",
      "weighted avg       0.77      0.72      0.70       106\n",
      "\n",
      "\n",
      "CR: (0.7729511867442902, 0.7169811320754718, 0.701688555347092, None)\n",
      "\n",
      "Confusion matrix:\n",
      " [[26 27]\n",
      " [ 3 50]] \n",
      "\n",
      "_______________________\n",
      "\n",
      "\n",
      " Accuracy: 71.698 \n",
      " Precision: 0.649 \n",
      " Recall: 0.943 \n",
      " F1: 0.769 \n",
      " FPR: 0.509 \n",
      " ROC_AUC: 0.717\n",
      "Accuracy: 0.7169811320754716\n",
      "\n",
      "Classification report:\n",
      "               precision    recall  f1-score   support\n",
      "\n",
      "           0       0.90      0.49      0.63        53\n",
      "           1       0.65      0.94      0.77        53\n",
      "\n",
      "    accuracy                           0.72       106\n",
      "   macro avg       0.77      0.72      0.70       106\n",
      "weighted avg       0.77      0.72      0.70       106\n",
      "\n",
      "\n",
      "CR: (0.7729511867442902, 0.7169811320754718, 0.701688555347092, None)\n",
      "\n",
      "Confusion matrix:\n",
      " [[26 27]\n",
      " [ 3 50]] \n",
      "\n",
      "_______________________\n",
      "\n",
      "\n",
      "Recall: 0.943 \n",
      " Precision: 0.649 \n",
      " F1: 0.769 \n",
      " FPR: 0.509 \n",
      " Accuracy: 71.698 \n",
      " ROC_AUC: 0.717\n",
      "***testing on test set***\n",
      "Accuracy: 0.5854922279792746\n",
      "\n",
      "Classification report:\n",
      "               precision    recall  f1-score   support\n",
      "\n",
      "           0       1.00      0.57      0.72      1105\n",
      "           1       0.09      0.94      0.17        53\n",
      "\n",
      "    accuracy                           0.59      1158\n",
      "   macro avg       0.55      0.76      0.45      1158\n",
      "weighted avg       0.95      0.59      0.70      1158\n",
      "\n",
      "\n",
      "CR: (0.5450611510899539, 0.755861009135149, 0.44795804862545685, None)\n",
      "\n",
      "Confusion matrix:\n",
      " [[628 477]\n",
      " [  3  50]] \n",
      "\n",
      "_______________________\n",
      "\n",
      "\n",
      " Accuracy: 58.549 \n",
      " Precision: 0.095 \n",
      " Recall: 0.943 \n",
      " F1: 0.172 \n",
      " FPR: 0.432 \n",
      " ROC_AUC: 0.756\n",
      "Accuracy: 0.5854922279792746\n",
      "\n",
      "Classification report:\n",
      "               precision    recall  f1-score   support\n",
      "\n",
      "           0       1.00      0.57      0.72      1105\n",
      "           1       0.09      0.94      0.17        53\n",
      "\n",
      "    accuracy                           0.59      1158\n",
      "   macro avg       0.55      0.76      0.45      1158\n",
      "weighted avg       0.95      0.59      0.70      1158\n",
      "\n",
      "\n",
      "CR: (0.5450611510899539, 0.755861009135149, 0.44795804862545685, None)\n",
      "\n",
      "Confusion matrix:\n",
      " [[628 477]\n",
      " [  3  50]] \n",
      "\n",
      "_______________________\n",
      "\n",
      "\n",
      "Recall: 0.943 \n",
      " Precision: 0.095 \n",
      " F1: 0.172 \n",
      " FPR: 0.432 \n",
      " Accuracy: 58.549 \n",
      " ROC_AUC: 0.756\n"
     ]
    }
   ],
   "source": [
    "# balanced train\n",
    "pipeline_train, trained_model, y_predict_train = train_model_cross_val(X_train, y_train, vec=vec, model=model, cv=10)\n",
    "set = \"balanced train\"\n",
    "metrics_train=evaluate(y_train, y_predict_train)\n",
    "row_train = pd.DataFrame({'set':set, 'tn':metrics_train[0], 'fp':metrics_train[1], 'fn':metrics_train[2], 'tp':metrics_train[3], \\\n",
    "                    'recall':metrics_train[4], 'precision':metrics_train[5], 'f_score':metrics_train[6], \\\n",
    "                    'fpr':metrics_train[7], 'accuracy':metrics_train[8], 'roc_auc':metrics_train[9]}, index=[0])\n",
    "\n",
    "\n",
    "# balanced test\n",
    "pipeline_test1, y_predict_test1 = train_model_test(X_train, y_train, X_test1, y_test1, model=model, vec=vec)\n",
    "set = \"balanced test\"\n",
    "metrics_test1=evaluate(y_test1, y_predict_test1)\n",
    "row_test1 = pd.DataFrame({'set':set, 'tn':metrics_test1[0], 'fp':metrics_test1[1], 'fn':metrics_test1[2], 'tp':metrics_test1[3], \\\n",
    "                        'recall':metrics_test1[4], 'precision':metrics_test1[5], 'f_score':metrics_test1[6], \\\n",
    "                        'fpr':metrics_test1[7], 'accuracy':metrics_test1[8], 'roc_auc':metrics_test1[9]}, index=[0])\n",
    "\n",
    "\n",
    "# imbalanced test\n",
    "pipeline_test, y_predict_test = train_model_test(X_train, y_train, X_test, y_test, model=model, vec=vec)\n",
    "set = \"imbalanced test\"\n",
    "metrics_test=evaluate(y_test, y_predict_test)\n",
    "row_test = pd.DataFrame({'set':set, 'tn':metrics_test[0], 'fp':metrics_test[1], 'fn':metrics_test[2], 'tp':metrics_test[3], \\\n",
    "                    'recall':metrics_test[4], 'precision':metrics_test[5], 'f_score':metrics_test[6], \\\n",
    "                    'fpr':metrics_test[7], 'accuracy':metrics_test[8], 'roc_auc':metrics_test[9]}, index=[0])\n",
    "\n",
    "df_metrics = pd.concat([df_metrics.loc[:], row_train, row_test1, row_test]).reset_index(drop=True)\n",
    "df_metrics['n'] = df_metrics['tn'] + df_metrics['fp'] + df_metrics['fn'] + df_metrics['tp']"
   ]
  },
  {
   "cell_type": "code",
   "execution_count": 12,
   "metadata": {},
   "outputs": [
    {
     "data": {
      "text/html": [
       "<div>\n",
       "<style scoped>\n",
       "    .dataframe tbody tr th:only-of-type {\n",
       "        vertical-align: middle;\n",
       "    }\n",
       "\n",
       "    .dataframe tbody tr th {\n",
       "        vertical-align: top;\n",
       "    }\n",
       "\n",
       "    .dataframe thead th {\n",
       "        text-align: right;\n",
       "    }\n",
       "</style>\n",
       "<table border=\"1\" class=\"dataframe\">\n",
       "  <thead>\n",
       "    <tr style=\"text-align: right;\">\n",
       "      <th></th>\n",
       "      <th>set</th>\n",
       "      <th>tn</th>\n",
       "      <th>fp</th>\n",
       "      <th>fn</th>\n",
       "      <th>tp</th>\n",
       "      <th>recall</th>\n",
       "      <th>precision</th>\n",
       "      <th>f_score</th>\n",
       "      <th>fpr</th>\n",
       "      <th>accuracy</th>\n",
       "      <th>roc_auc</th>\n",
       "      <th>n</th>\n",
       "    </tr>\n",
       "  </thead>\n",
       "  <tbody>\n",
       "    <tr>\n",
       "      <th>0</th>\n",
       "      <td>balanced train</td>\n",
       "      <td>77</td>\n",
       "      <td>131</td>\n",
       "      <td>21</td>\n",
       "      <td>189</td>\n",
       "      <td>0.900000</td>\n",
       "      <td>0.590625</td>\n",
       "      <td>0.713208</td>\n",
       "      <td>0.629808</td>\n",
       "      <td>63.636364</td>\n",
       "      <td>0.635096</td>\n",
       "      <td>418</td>\n",
       "    </tr>\n",
       "    <tr>\n",
       "      <th>1</th>\n",
       "      <td>balanced test</td>\n",
       "      <td>26</td>\n",
       "      <td>27</td>\n",
       "      <td>3</td>\n",
       "      <td>50</td>\n",
       "      <td>0.943396</td>\n",
       "      <td>0.649351</td>\n",
       "      <td>0.769231</td>\n",
       "      <td>0.509434</td>\n",
       "      <td>71.698113</td>\n",
       "      <td>0.716981</td>\n",
       "      <td>106</td>\n",
       "    </tr>\n",
       "    <tr>\n",
       "      <th>2</th>\n",
       "      <td>imbalanced test</td>\n",
       "      <td>628</td>\n",
       "      <td>477</td>\n",
       "      <td>3</td>\n",
       "      <td>50</td>\n",
       "      <td>0.943396</td>\n",
       "      <td>0.094877</td>\n",
       "      <td>0.172414</td>\n",
       "      <td>0.431674</td>\n",
       "      <td>58.549223</td>\n",
       "      <td>0.755861</td>\n",
       "      <td>1158</td>\n",
       "    </tr>\n",
       "  </tbody>\n",
       "</table>\n",
       "</div>"
      ],
      "text/plain": [
       "               set   tn   fp  fn   tp    recall  precision   f_score  \\\n",
       "0   balanced train   77  131  21  189  0.900000   0.590625  0.713208   \n",
       "1    balanced test   26   27   3   50  0.943396   0.649351  0.769231   \n",
       "2  imbalanced test  628  477   3   50  0.943396   0.094877  0.172414   \n",
       "\n",
       "        fpr   accuracy   roc_auc     n  \n",
       "0  0.629808  63.636364  0.635096   418  \n",
       "1  0.509434  71.698113  0.716981   106  \n",
       "2  0.431674  58.549223  0.755861  1158  "
      ]
     },
     "execution_count": 12,
     "metadata": {},
     "output_type": "execute_result"
    }
   ],
   "source": [
    "df_metrics"
   ]
  },
  {
   "cell_type": "code",
   "execution_count": 13,
   "metadata": {},
   "outputs": [],
   "source": [
    "df_metrics.to_excel('../../../../output/tables/svm_metrics_wc.xlsx', index=True)"
   ]
  },
  {
   "attachments": {},
   "cell_type": "markdown",
   "metadata": {},
   "source": [
    "### Confusion matrix and model performance"
   ]
  },
  {
   "cell_type": "code",
   "execution_count": 14,
   "metadata": {},
   "outputs": [],
   "source": [
    "merger_info = pd.read_json(r\"../../../../data/processed/merger_info_2023_03_25.json\")"
   ]
  },
  {
   "cell_type": "code",
   "execution_count": 21,
   "metadata": {},
   "outputs": [],
   "source": [
    "def eval_matrix(df, X, y_true, y_pred):\n",
    "    results = pd.DataFrame(np.column_stack((X, y_true, y_pred)), columns=['text', 'target', 'y_predict'])\n",
    "    results = pd.concat([df, results], axis=1)\n",
    "    results = pd.merge(results, merger_info, how='left', left_on=['case_num', 'article'], right_on=['case_code', 'article'])\n",
    "\n",
    "    tn=results[(results.target == 0) & (results.y_predict == 0)]\n",
    "    fp=results[(results.target == 0) & (results.y_predict == 1)]\n",
    "    fn=results[(results.target == 1) & (results.y_predict == 0)]\n",
    "    tp=results[(results.target == 1) & (results.y_predict == 1)]\n",
    "\n",
    "    return (results, tn, fp, fn, tp)\n"
   ]
  },
  {
   "cell_type": "code",
   "execution_count": 22,
   "metadata": {},
   "outputs": [],
   "source": [
    "results_train, tn, fp, fn, tp = eval_matrix(df_train_grouped, X_train, y_train, y_predict_train)"
   ]
  },
  {
   "cell_type": "code",
   "execution_count": 23,
   "metadata": {},
   "outputs": [],
   "source": [
    "results1, tn, fp, fn, tp = eval_matrix(df_test1_grouped, X_test1, y_test1, y_predict_test1)"
   ]
  },
  {
   "cell_type": "code",
   "execution_count": 24,
   "metadata": {},
   "outputs": [],
   "source": [
    "results2, tn, fp, fn, tp = eval_matrix(df_test_grouped, X_test, y_test, y_predict_test)"
   ]
  },
  {
   "cell_type": "code",
   "execution_count": 27,
   "metadata": {},
   "outputs": [
    {
     "name": "stdout",
     "output_type": "stream",
     "text": [
      "TN: 628\n",
      "FP: 477\n",
      "FN: 3\n",
      "TP: 50\n"
     ]
    }
   ],
   "source": [
    "print(\"TN:\", len(tn))\n",
    "print(\"FP:\", len(fp))\n",
    "\n",
    "print(\"FN:\", len(fn))\n",
    "print(\"TP:\", len(tp))"
   ]
  },
  {
   "cell_type": "code",
   "execution_count": 29,
   "metadata": {},
   "outputs": [
    {
     "data": {
      "text/plain": [
       "Manufacture of chemicals and chemical products                                   15\n",
       "Manufacture of other parts and accessories for motor vehicles                    12\n",
       "Financial service activities, except insurance and pension funding                9\n",
       "Wholesale of computers, computer peripheral equipment and software                9\n",
       "Insurance, reinsurance and pension funding, except compulsory social security     9\n",
       "Electric power generation, transmission and distribution                          8\n",
       "Name: nace_code, dtype: int64"
      ]
     },
     "execution_count": 29,
     "metadata": {},
     "output_type": "execute_result"
    }
   ],
   "source": [
    "tn['nace_code'].value_counts().head(6)"
   ]
  },
  {
   "cell_type": "code",
   "execution_count": 30,
   "metadata": {},
   "outputs": [
    {
     "data": {
      "text/plain": [
       "Telecommunications                                                                                                    32\n",
       "Manufacture of basic pharmaceutical products and pharmaceutical preparations                                          14\n",
       "Manufacture of chemicals and chemical products                                                                        11\n",
       "Manufacture of basic chemicals, fertilisers and nitrogen compounds, plastics and synthetic rubber in primary forms     9\n",
       "Manufacture of other parts and accessories for motor vehicles                                                          8\n",
       "Computer programming, consultancy and related activities                                                               7\n",
       "Name: nace_code, dtype: int64"
      ]
     },
     "execution_count": 30,
     "metadata": {},
     "output_type": "execute_result"
    }
   ],
   "source": [
    "fp['nace_code'].value_counts().head(6)"
   ]
  },
  {
   "cell_type": "code",
   "execution_count": 31,
   "metadata": {},
   "outputs": [
    {
     "data": {
      "text/plain": [
       "30"
      ]
     },
     "execution_count": 31,
     "metadata": {},
     "output_type": "execute_result"
    }
   ],
   "source": [
    "fp['nace_code'].str.contains(\"pharma\").sum()"
   ]
  },
  {
   "cell_type": "code",
   "execution_count": 32,
   "metadata": {},
   "outputs": [
    {
     "data": {
      "text/plain": [
       "Manufacture of chemicals and chemical products                                                                                                                                                       1\n",
       "Electric power generation, transmission and distribution                                                                                                                                             1\n",
       "Cargo handling; Land transport and transport via pipelines; Sea and coastal freight water transport; Service activities incidental to water transportation; Support activities for transportation    1\n",
       "Name: nace_code, dtype: int64"
      ]
     },
     "execution_count": 32,
     "metadata": {},
     "output_type": "execute_result"
    }
   ],
   "source": [
    "fn['nace_code'].value_counts().head(6)"
   ]
  },
  {
   "cell_type": "code",
   "execution_count": 33,
   "metadata": {},
   "outputs": [
    {
     "data": {
      "text/plain": [
       "Manufacture of basic pharmaceutical products and pharmaceutical preparations                   8\n",
       "Manufacture of chemicals and chemical products                                                 3\n",
       "Information service activities; Programming and broadcasting activities; Telecommunications    2\n",
       "Wireless telecommunications activities                                                         2\n",
       "Aquaculture                                                                                    2\n",
       "Processing and preserving of fruit and vegetables; Wholesale of fruit and vegetables           1\n",
       "Name: nace_code, dtype: int64"
      ]
     },
     "execution_count": 33,
     "metadata": {},
     "output_type": "execute_result"
    }
   ],
   "source": [
    "tp['nace_code'].value_counts().head(6)"
   ]
  },
  {
   "attachments": {},
   "cell_type": "markdown",
   "metadata": {},
   "source": [
    "### Feature importance"
   ]
  },
  {
   "cell_type": "code",
   "execution_count": 34,
   "metadata": {},
   "outputs": [
    {
     "data": {
      "text/html": [
       "<div>\n",
       "<style scoped>\n",
       "    .dataframe tbody tr th:only-of-type {\n",
       "        vertical-align: middle;\n",
       "    }\n",
       "\n",
       "    .dataframe tbody tr th {\n",
       "        vertical-align: top;\n",
       "    }\n",
       "\n",
       "    .dataframe thead th {\n",
       "        text-align: right;\n",
       "    }\n",
       "</style>\n",
       "<table border=\"1\" class=\"dataframe\">\n",
       "  <thead>\n",
       "    <tr style=\"text-align: right;\">\n",
       "      <th></th>\n",
       "      <th>feature</th>\n",
       "      <th>importance</th>\n",
       "      <th>abs_importance</th>\n",
       "    </tr>\n",
       "  </thead>\n",
       "  <tbody>\n",
       "    <tr>\n",
       "      <th>3321</th>\n",
       "      <td>personal care</td>\n",
       "      <td>0.550350</td>\n",
       "      <td>0.550350</td>\n",
       "    </tr>\n",
       "    <tr>\n",
       "      <th>82</th>\n",
       "      <td>acquire joint</td>\n",
       "      <td>-0.539889</td>\n",
       "      <td>0.539889</td>\n",
       "    </tr>\n",
       "    <tr>\n",
       "      <th>734</th>\n",
       "      <td>company headquartered</td>\n",
       "      <td>0.523181</td>\n",
       "      <td>0.523181</td>\n",
       "    </tr>\n",
       "    <tr>\n",
       "      <th>726</th>\n",
       "      <td>company controlled</td>\n",
       "      <td>-0.505672</td>\n",
       "      <td>0.505672</td>\n",
       "    </tr>\n",
       "    <tr>\n",
       "      <th>2078</th>\n",
       "      <td>hold minority</td>\n",
       "      <td>0.491876</td>\n",
       "      <td>0.491876</td>\n",
       "    </tr>\n",
       "    <tr>\n",
       "      <th>4242</th>\n",
       "      <td>share asset</td>\n",
       "      <td>0.482619</td>\n",
       "      <td>0.482619</td>\n",
       "    </tr>\n",
       "    <tr>\n",
       "      <th>3114</th>\n",
       "      <td>otc pharmaceutical</td>\n",
       "      <td>0.480743</td>\n",
       "      <td>0.480743</td>\n",
       "    </tr>\n",
       "    <tr>\n",
       "      <th>2325</th>\n",
       "      <td>investment banking</td>\n",
       "      <td>-0.418974</td>\n",
       "      <td>0.418974</td>\n",
       "    </tr>\n",
       "    <tr>\n",
       "      <th>2330</th>\n",
       "      <td>investment management</td>\n",
       "      <td>-0.404025</td>\n",
       "      <td>0.404025</td>\n",
       "    </tr>\n",
       "    <tr>\n",
       "      <th>2365</th>\n",
       "      <td>jv comp</td>\n",
       "      <td>-0.397829</td>\n",
       "      <td>0.397829</td>\n",
       "    </tr>\n",
       "  </tbody>\n",
       "</table>\n",
       "</div>"
      ],
      "text/plain": [
       "                    feature  importance  abs_importance\n",
       "3321          personal care    0.550350        0.550350\n",
       "82            acquire joint   -0.539889        0.539889\n",
       "734   company headquartered    0.523181        0.523181\n",
       "726      company controlled   -0.505672        0.505672\n",
       "2078          hold minority    0.491876        0.491876\n",
       "4242            share asset    0.482619        0.482619\n",
       "3114     otc pharmaceutical    0.480743        0.480743\n",
       "2325     investment banking   -0.418974        0.418974\n",
       "2330  investment management   -0.404025        0.404025\n",
       "2365                jv comp   -0.397829        0.397829"
      ]
     },
     "execution_count": 34,
     "metadata": {},
     "output_type": "execute_result"
    }
   ],
   "source": [
    "df_features_train, feature_importance, feature_names = get_feature_importance(trained_model, pipeline_train)\n",
    "df_features_train.head(10)"
   ]
  },
  {
   "attachments": {},
   "cell_type": "markdown",
   "metadata": {},
   "source": [
    "Get features for label = 1 and label = 0"
   ]
  },
  {
   "cell_type": "code",
   "execution_count": 35,
   "metadata": {},
   "outputs": [],
   "source": [
    "df_features_train1, df_features_train0 = get_feature_importance10(df_features_train)"
   ]
  },
  {
   "cell_type": "code",
   "execution_count": 37,
   "metadata": {},
   "outputs": [
    {
     "data": {
      "image/png": "[encoded data removed]",
      "text/plain": [
       "<Figure size 1200x800 with 1 Axes>"
      ]
     },
     "metadata": {},
     "output_type": "display_data"
    },
    {
     "data": {
      "text/plain": [
       "<Figure size 640x480 with 0 Axes>"
      ]
     },
     "metadata": {},
     "output_type": "display_data"
    }
   ],
   "source": [
    "# Sort the features by absolute importance for label=1\n",
    "df_features_train1 = df_features_train1.sort_values(by='abs_importance', ascending=False)\n",
    "df_features_train1_top10 = df_features_train1.nlargest(20, 'abs_importance')\n",
    "df_features_train1_top10 = df_features_train1_top10.sort_values('importance', ascending=True)\n",
    "\n",
    "# Sort the features by absolute importance for label=0\n",
    "df_features_train0 = df_features_train0.sort_values(by='abs_importance', ascending=False)\n",
    "df_features_train0_top10 = df_features_train0.nlargest(20, 'abs_importance')\n",
    "\n",
    "# Create a combined bar chart\n",
    "fig, ax = plt.subplots(figsize=(12, 8))\n",
    "ax.barh(df_features_train0_top10['feature'], df_features_train0_top10['importance'], color='darkblue', label='With Conditions=0')\n",
    "ax.barh(df_features_train1_top10['feature'], df_features_train1_top10['importance'], color='maroon', label='With Conditions=1')\n",
    "ax.set_xlabel('Importance')\n",
    "ax.set_ylabel('Features')\n",
    "ax.set_title('Top 20 Features by Importance for With Conditions =0 and =1')\n",
    "ax.legend()\n",
    "plt.xticks(rotation=90)\n",
    "plt.show()\n",
    "\n",
    "plt.savefig('../../../../output/figures/svm_full_wc.png', bbox_inches='tight')"
   ]
  },
  {
   "cell_type": "code",
   "execution_count": 38,
   "metadata": {},
   "outputs": [],
   "source": [
    "df_features_train.to_excel('../../../../output/tables/features_svm_train_full_wc.xlsx', index=True)"
   ]
  },
  {
   "cell_type": "code",
   "execution_count": null,
   "metadata": {},
   "outputs": [],
   "source": []
  }
 ],
 "metadata": {
  "kernelspec": {
   "display_name": "thesis",
   "language": "python",
   "name": "python3"
  },
  "language_info": {
   "codemirror_mode": {
    "name": "ipython",
    "version": 3
   },
   "file_extension": ".py",
   "mimetype": "text/x-python",
   "name": "python",
   "nbconvert_exporter": "python",
   "pygments_lexer": "ipython3",
   "version": "3.10.4"
  },
  "orig_nbformat": 4
 },
 "nbformat": 4,
 "nbformat_minor": 2
}
