{
 "cells": [
  {
   "cell_type": "code",
   "execution_count": 1,
   "metadata": {},
   "outputs": [],
   "source": [
    "# Data visualization\n",
    "import matplotlib.pyplot as plt\n",
    "\n",
    "# Data manipulation\n",
    "import pandas as pd\n",
    "import numpy as np\n",
    "\n",
    "import glob, re, os, sys, random\n",
    "from random import shuffle\n",
    "import random\n",
    "from time import time\n",
    "\n",
    "# Vector representations and embeddings\n",
    "from sklearn.feature_extraction.text import TfidfVectorizer, CountVectorizer\n",
    "import gensim\n",
    "\n",
    "# Modeling - Logistic, XGBOOST, SVM\n",
    "from sklearn.model_selection import GridSearchCV, train_test_split, StratifiedShuffleSplit\n",
    "from sklearn.preprocessing import LabelEncoder\n",
    "\n",
    "from imblearn.over_sampling import RandomOverSampler\n",
    "from imblearn.under_sampling import RandomUnderSampler\n",
    "\n",
    "from sklearn.linear_model import LogisticRegression\n",
    "from sklearn.svm import LinearSVC\n",
    "\n",
    "from sklearn.model_selection import cross_val_predict, cross_val_score\n",
    "from sklearn.metrics import accuracy_score, precision_recall_fscore_support, precision_score, recall_score, f1_score\n",
    "from sklearn.metrics import classification_report, confusion_matrix, precision_recall_fscore_support\n",
    "\n",
    "from sklearn.pipeline import Pipeline, FeatureUnion\n",
    "\n",
    "from xgboost import XGBClassifier\n",
    "import pickle\n"
   ]
  },
  {
   "cell_type": "code",
   "execution_count": 2,
   "metadata": {},
   "outputs": [],
   "source": [
    "import sys\n",
    "sys.path.append(f'../../../python')\n",
    "\n",
    "from balance_split_data import create_label, balance_unique_id, \\\n",
    "create_balanced_excluded, create_train_test_excluded, group_by_case, create_feature_label\n",
    "\n",
    "from grid_search import gridsearch, fit_best_model_train, evaluate, fit_best_model_test, get_feature_importance_cv\n",
    "\n",
    "from ml_model import train_model_cross_val, train_model_test, \\\n",
    "get_feature_importance, get_feature_importance10"
   ]
  },
  {
   "attachments": {},
   "cell_type": "markdown",
   "metadata": {},
   "source": [
    "### Load data"
   ]
  },
  {
   "cell_type": "code",
   "execution_count": 3,
   "metadata": {},
   "outputs": [],
   "source": [
    "df = pd.read_json(r\"../../../../data/processed/pre-processed_merged_2023_04_03.json\")"
   ]
  },
  {
   "attachments": {},
   "cell_type": "markdown",
   "metadata": {},
   "source": [
    "### Balance data and split to train and test set"
   ]
  },
  {
   "cell_type": "code",
   "execution_count": 6,
   "metadata": {},
   "outputs": [],
   "source": [
    "label_name = \"wc\""
   ]
  },
  {
   "cell_type": "code",
   "execution_count": 7,
   "metadata": {},
   "outputs": [
    {
     "name": "stdout",
     "output_type": "stream",
     "text": [
      "Total decisions: 1574\n",
      "0    1313\n",
      "1     261\n",
      "Name: label, dtype: int64\n",
      "Balancing...\n",
      "Total decisions: 522\n",
      "Labels distribution: \n",
      " 0    261\n",
      "1    261\n",
      "Name: 0, dtype: int64\n",
      "Training set shape: (417,) (417,)\n",
      "Test set shape: (105,) (105,)\n",
      "Creating df_train 1: 208 0: 209\n",
      "Creating df_test1 1: 53 0: 52\n",
      "Creating df_test concatenated with df_excluded with len: 1052\n",
      "Creating df_test 1: 53 0: 1104\n",
      "Grouping df_train by case_num 1: 208 0: 209\n",
      "Grouping df_test by case_num 1: 53 0: 1104\n",
      "Grouping df_test1 by case_num 1: 53 0: 52\n",
      "Grouping df_excluded by case_num with len: 1052\n"
     ]
    }
   ],
   "source": [
    "df1 = create_label(df, label_name)\n",
    "df_unique = balance_unique_id(df1)\n",
    "df_balanced_unique, df_balanced, df_excluded = create_balanced_excluded(df_unique, df1, random_seed=42)\n",
    "df_train, df_test, df_test1 = create_train_test_excluded(df_balanced, df_balanced_unique, df_excluded, random_state=42)\n",
    "df_train_grouped, df_test_grouped, df_test1_grouped, df_excluded_grouped = group_by_case(df_train, df_test, df_test1, df_excluded)"
   ]
  },
  {
   "cell_type": "code",
   "execution_count": 9,
   "metadata": {},
   "outputs": [],
   "source": [
    "X_train, y_train, X_test, y_test, X_test1, y_test1, X_test2, y_test2 = create_feature_label(df_train_grouped, df_test_grouped, df_test1_grouped, df_excluded_grouped)"
   ]
  },
  {
   "attachments": {},
   "cell_type": "markdown",
   "metadata": {},
   "source": [
    "### Hyperparameter tuning with GridSearch Cross Validation"
   ]
  },
  {
   "cell_type": "code",
   "execution_count": 13,
   "metadata": {},
   "outputs": [],
   "source": [
    "# Define model\n",
    "model = LinearSVC()\n",
    "\n",
    "# Create a pipeline with TfidfVectorizer and Model\n",
    "pipeline = Pipeline([\n",
    "    ('tfidf', TfidfVectorizer(analyzer='word', max_features=5000, stop_words='english')),\n",
    "    ('clf', model)\n",
    "\n",
    "])\n",
    "\n",
    "# Define the grid of hyperparameters to search over\n",
    "parameters = {\n",
    "    'tfidf__ngram_range': [(1,2),(1,1),(1,3), (2,2),(2,3), (3,3)], # limit to trigrams\n",
    "    #'tfidf__analyzer': ('word', 'char'),\n",
    "    #'tfidf__lowercase': (True, False),\n",
    "    'tfidf__max_df': [0.01, 0.025, 0.05], # (0.01, 1.0), # ignore words that occur as more than x% of corpus\n",
    "    # 'tfidf__min_df': (1, 2, 3), # we need to see a word at least (once, twice, thrice) in a document\n",
    "    'tfidf__use_idf': (False, True), # use inverse document frequency weighting\n",
    "    #'tfidf__sublinear_tf': (False, True),\n",
    "    'tfidf__binary': (False, True), #set term frequency binary (all non-zero terms are set to 1)\n",
    "    'tfidf__norm': ('l1', 'l2'), #norm used to normalize term vectors\n",
    "    # 'tfidf__max_features': (None, 2000, 5000),\n",
    "    #'tfidf__stop_words': (None, 'english'),\n",
    "\n",
    "    # 'clf__solver': ['liblinear', 'lbfgs'],\n",
    "    'clf__C':(0.1, 1, 5) # penalty parameter for the model\n",
    "}"
   ]
  },
  {
   "cell_type": "code",
   "execution_count": 22,
   "metadata": {},
   "outputs": [
    {
     "name": "stdout",
     "output_type": "stream",
     "text": [
      "Fitting 5 folds for each of 432 candidates, totalling 2160 fits\n",
      "done in 5628.176s\n",
      "Best cross-validation score:  0.7765947755745944\n",
      "Best parameters set:\n",
      "\tclf__C: 1\n",
      "\ttfidf__binary: True\n",
      "\ttfidf__max_df: 0.025\n",
      "\ttfidf__ngram_range: (2, 2)\n",
      "\ttfidf__norm: 'l1'\n",
      "\ttfidf__use_idf: False\n"
     ]
    }
   ],
   "source": [
    "grid_search, best_parameters = gridsearch(pipeline, parameters, X_train, y_train, cv=5, scoring='f1')"
   ]
  },
  {
   "attachments": {},
   "cell_type": "markdown",
   "metadata": {},
   "source": [
    "##### Model fitting and evaluation"
   ]
  },
  {
   "cell_type": "code",
   "execution_count": 23,
   "metadata": {},
   "outputs": [
    {
     "name": "stdout",
     "output_type": "stream",
     "text": [
      "fitting the best model\n",
      "Accuracy: 0.7360774818401937\n",
      "\n",
      "Classification report:\n",
      "               precision    recall  f1-score   support\n",
      "\n",
      "           0       0.86      0.56      0.68       206\n",
      "           1       0.68      0.91      0.78       207\n",
      "\n",
      "    accuracy                           0.74       413\n",
      "   macro avg       0.77      0.74      0.73       413\n",
      "weighted avg       0.77      0.74      0.73       413\n",
      "\n",
      "\n",
      "CR: (0.7677591260325074, 0.7356596782514891, 0.7278048190585603, None)\n",
      "\n",
      "Confusion matrix:\n",
      " [[116  90]\n",
      " [ 19 188]] \n",
      "\n",
      "_______________________\n",
      "\n",
      "\n",
      " Accuracy: 73.608 \n",
      " Precision: 0.676 \n",
      " Recall: 0.908 \n",
      " F1: 0.775 \n",
      " FPR: 0.437 \n",
      " ROC_AUC: 0.736\n"
     ]
    }
   ],
   "source": [
    "pipeline_cv, y_predict_cv = fit_best_model_train(X_train, y_train, model, best_parameters, cv=5)"
   ]
  },
  {
   "attachments": {},
   "cell_type": "markdown",
   "metadata": {},
   "source": [
    "Saving the features and coefficients into a dataframe determined by gridsearchCV best_parameters."
   ]
  },
  {
   "cell_type": "code",
   "execution_count": 24,
   "metadata": {},
   "outputs": [
    {
     "data": {
      "text/html": [
       "<div>\n",
       "<style scoped>\n",
       "    .dataframe tbody tr th:only-of-type {\n",
       "        vertical-align: middle;\n",
       "    }\n",
       "\n",
       "    .dataframe tbody tr th {\n",
       "        vertical-align: top;\n",
       "    }\n",
       "\n",
       "    .dataframe thead th {\n",
       "        text-align: right;\n",
       "    }\n",
       "</style>\n",
       "<table border=\"1\" class=\"dataframe\">\n",
       "  <thead>\n",
       "    <tr style=\"text-align: right;\">\n",
       "      <th></th>\n",
       "      <th>feature</th>\n",
       "      <th>importance</th>\n",
       "    </tr>\n",
       "  </thead>\n",
       "  <tbody>\n",
       "    <tr>\n",
       "      <th>2283</th>\n",
       "      <td>indirect subsidiary</td>\n",
       "      <td>0.686710</td>\n",
       "    </tr>\n",
       "    <tr>\n",
       "      <th>4912</th>\n",
       "      <td>vehicle company</td>\n",
       "      <td>-0.682168</td>\n",
       "    </tr>\n",
       "    <tr>\n",
       "      <th>2074</th>\n",
       "      <td>healthcare company</td>\n",
       "      <td>0.648330</td>\n",
       "    </tr>\n",
       "    <tr>\n",
       "      <th>1298</th>\n",
       "      <td>decision belgië</td>\n",
       "      <td>-0.613657</td>\n",
       "    </tr>\n",
       "    <tr>\n",
       "      <th>4021</th>\n",
       "      <td>risk covered</td>\n",
       "      <td>-0.557041</td>\n",
       "    </tr>\n",
       "  </tbody>\n",
       "</table>\n",
       "</div>"
      ],
      "text/plain": [
       "                  feature  importance\n",
       "2283  indirect subsidiary    0.686710\n",
       "4912      vehicle company   -0.682168\n",
       "2074   healthcare company    0.648330\n",
       "1298      decision belgië   -0.613657\n",
       "4021         risk covered   -0.557041"
      ]
     },
     "execution_count": 24,
     "metadata": {},
     "output_type": "execute_result"
    }
   ],
   "source": [
    "df_features_cv = get_feature_importance_cv(pipeline_cv)\n",
    "df_features_cv.to_excel('../../../../output/tables/features_svm_cv_full_wc.xlsx', index=True)\n",
    "df_features_cv.head()"
   ]
  },
  {
   "cell_type": "code",
   "execution_count": 25,
   "metadata": {},
   "outputs": [
    {
     "name": "stdout",
     "output_type": "stream",
     "text": [
      "testing on test set\n",
      "Accuracy: 0.5425623387790198\n",
      "\n",
      "Classification report:\n",
      "               precision    recall  f1-score   support\n",
      "\n",
      "           0       0.99      0.53      0.69      1110\n",
      "           1       0.08      0.91      0.15        53\n",
      "\n",
      "    accuracy                           0.54      1163\n",
      "   macro avg       0.54      0.72      0.42      1163\n",
      "weighted avg       0.95      0.54      0.66      1163\n",
      "\n",
      "\n",
      "CR: (0.5374874297545105, 0.7154428012918579, 0.4197782329154569, None)\n",
      "\n",
      "Confusion matrix:\n",
      " [[583 527]\n",
      " [  5  48]] \n",
      "\n",
      "_______________________\n",
      "\n",
      "\n",
      " Accuracy: 54.256 \n",
      " Precision: 0.083 \n",
      " Recall: 0.906 \n",
      " F1: 0.153 \n",
      " FPR: 0.475 \n",
      " ROC_AUC: 0.715\n"
     ]
    }
   ],
   "source": [
    "y_predict_cv_test = fit_best_model_test(X_test, y_test, pipeline_cv)"
   ]
  },
  {
   "cell_type": "code",
   "execution_count": 26,
   "metadata": {},
   "outputs": [
    {
     "name": "stdout",
     "output_type": "stream",
     "text": [
      "testing on test set\n",
      "Accuracy: 0.7142857142857143\n",
      "\n",
      "Classification report:\n",
      "               precision    recall  f1-score   support\n",
      "\n",
      "           0       0.84      0.52      0.64        52\n",
      "           1       0.66      0.91      0.76        53\n",
      "\n",
      "    accuracy                           0.71       105\n",
      "   macro avg       0.75      0.71      0.70       105\n",
      "weighted avg       0.75      0.71      0.70       105\n",
      "\n",
      "\n",
      "CR: (0.7506421232876712, 0.71244557329463, 0.7023809523809524, None)\n",
      "\n",
      "Confusion matrix:\n",
      " [[27 25]\n",
      " [ 5 48]] \n",
      "\n",
      "_______________________\n",
      "\n",
      "\n",
      " Accuracy: 71.429 \n",
      " Precision: 0.658 \n",
      " Recall: 0.906 \n",
      " F1: 0.762 \n",
      " FPR: 0.481 \n",
      " ROC_AUC: 0.712\n"
     ]
    }
   ],
   "source": [
    "y_predict_cv_test1 = fit_best_model_test(X_test1, y_test1, pipeline_cv)"
   ]
  },
  {
   "cell_type": "code",
   "execution_count": null,
   "metadata": {},
   "outputs": [],
   "source": []
  },
  {
   "cell_type": "code",
   "execution_count": null,
   "metadata": {},
   "outputs": [],
   "source": []
  }
 ],
 "metadata": {
  "kernelspec": {
   "display_name": "thesis",
   "language": "python",
   "name": "python3"
  },
  "language_info": {
   "codemirror_mode": {
    "name": "ipython",
    "version": 3
   },
   "file_extension": ".py",
   "mimetype": "text/x-python",
   "name": "python",
   "nbconvert_exporter": "python",
   "pygments_lexer": "ipython3",
   "version": "3.10.4"
  },
  "orig_nbformat": 4
 },
 "nbformat": 4,
 "nbformat_minor": 2
}
