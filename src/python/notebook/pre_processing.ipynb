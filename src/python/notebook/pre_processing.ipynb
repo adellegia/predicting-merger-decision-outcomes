{
 "cells": [
  {
   "attachments": {},
   "cell_type": "markdown",
   "metadata": {},
   "source": [
    "## Software Requirements"
   ]
  },
  {
   "cell_type": "code",
   "execution_count": null,
   "metadata": {},
   "outputs": [],
   "source": [
    "!conda env create -f environment.yml"
   ]
  },
  {
   "cell_type": "code",
   "execution_count": null,
   "metadata": {},
   "outputs": [],
   "source": [
    "!conda activate thesis"
   ]
  },
  {
   "cell_type": "code",
   "execution_count": 1,
   "metadata": {},
   "outputs": [],
   "source": [
    "# Data visualization\n",
    "import matplotlib.pyplot as plt \n",
    "\n",
    "# Data manipulation\n",
    "import pandas as pd\n",
    "import numpy as np\n",
    "import csv\n",
    "from zipfile import ZipFile"
   ]
  },
  {
   "cell_type": "code",
   "execution_count": 2,
   "metadata": {},
   "outputs": [],
   "source": [
    "# Webscraping\n",
    "import glob\n",
    "import requests\n",
    "from bs4 import BeautifulSoup\n",
    "import time\n",
    "import datetime\n",
    "from pandas.core.common import flatten\n",
    "import os\n",
    "from itertools import chain\n",
    "from tqdm import tqdm\n",
    "import json\n",
    "import urllib.request"
   ]
  },
  {
   "cell_type": "code",
   "execution_count": 3,
   "metadata": {},
   "outputs": [],
   "source": [
    "# Parsing and pre-processing\n",
    "from glob import glob\n",
    "import os \n",
    "import re\n",
    "\n",
    "from pdfminer.high_level import extract_text\n",
    "import pdfplumber\n",
    "from langdetect import detect, DetectorFactory\n",
    "\n",
    "import nltk\n",
    "from nltk.corpus import stopwords\n",
    "from nltk.tokenize import sent_tokenize, word_tokenize\n",
    "from string import punctuation\n",
    "from nltk.stem.porter import PorterStemmer\n",
    "from nltk.stem import WordNetLemmatizer"
   ]
  },
  {
   "cell_type": "code",
   "execution_count": 4,
   "metadata": {},
   "outputs": [],
   "source": [
    "# Vector representations and embeddings\n",
    "from sklearn.feature_extraction.text import TfidfVectorizer\n",
    "import gensim"
   ]
  },
  {
   "cell_type": "code",
   "execution_count": 5,
   "metadata": {},
   "outputs": [],
   "source": [
    "# Logistic and XGboost\n",
    "from sklearn.model_selection import train_test_split\n",
    "from sklearn.preprocessing import LabelEncoder\n",
    "from sklearn.linear_model import LogisticRegression\n",
    "from sklearn.metrics import accuracy_score, precision_recall_fscore_support, precision_score, recall_score\n",
    "from xgboost import XGBClassifier\n",
    "import pickle"
   ]
  },
  {
   "cell_type": "code",
   "execution_count": 6,
   "metadata": {},
   "outputs": [
    {
     "name": "stderr",
     "output_type": "stream",
     "text": [
      "c:\\Users\\admin\\anaconda3\\envs\\thesis\\lib\\site-packages\\tqdm\\auto.py:22: TqdmWarning: IProgress not found. Please update jupyter and ipywidgets. See https://ipywidgets.readthedocs.io/en/stable/user_install.html\n",
      "  from .autonotebook import tqdm as notebook_tqdm\n"
     ]
    }
   ],
   "source": [
    "# LSTM \n",
    "from torchtext.data.utils import get_tokenizer\n",
    "from torchtext.vocab import build_vocab_from_iterator\n",
    "from torch.utils.data import DataLoader\n",
    "\n",
    "import torch\n",
    "import torch.nn as nn\n",
    "from torch.nn import functional as F\n",
    "import torch.optim as optim\n",
    "import gc"
   ]
  },
  {
   "cell_type": "code",
   "execution_count": 7,
   "metadata": {},
   "outputs": [],
   "source": [
    "# BERT models\n",
    "from torch.utils.data import TensorDataset, RandomSampler, SequentialSampler\n",
    "import transformers\n",
    "from transformers import AutoModel, BertTokenizerFast"
   ]
  },
  {
   "cell_type": "code",
   "execution_count": 8,
   "metadata": {},
   "outputs": [],
   "source": [
    "# specify GPU\n",
    "device = \"cuda\" if torch.cuda.is_available() else \"cpu\""
   ]
  },
  {
   "attachments": {},
   "cell_type": "markdown",
   "metadata": {},
   "source": [
    "## Data Pre-processing"
   ]
  },
  {
   "cell_type": "code",
   "execution_count": 33,
   "metadata": {},
   "outputs": [],
   "source": [
    "df = pd.read_json(r\"../../../data/processed/data_merged_2023_02_28.json\")"
   ]
  },
  {
   "attachments": {},
   "cell_type": "markdown",
   "metadata": {},
   "source": [
    "### Add length of sec_text"
   ]
  },
  {
   "cell_type": "code",
   "execution_count": 34,
   "metadata": {},
   "outputs": [],
   "source": [
    "df['count'] = df['sec_text'].str.split().apply(len)"
   ]
  },
  {
   "cell_type": "code",
   "execution_count": 35,
   "metadata": {},
   "outputs": [
    {
     "data": {
      "text/plain": [
       "<AxesSubplot: >"
      ]
     },
     "execution_count": 35,
     "metadata": {},
     "output_type": "execute_result"
    },
    {
     "data": {
      "image/png": "[encoded data removed]",
      "text/plain": [
       "<Figure size 640x480 with 1 Axes>"
      ]
     },
     "metadata": {},
     "output_type": "display_data"
    }
   ],
   "source": [
    "pd.Series(df['count']).hist(bins = 20)"
   ]
  },
  {
   "cell_type": "code",
   "execution_count": 36,
   "metadata": {},
   "outputs": [
    {
     "data": {
      "text/plain": [
       "28051"
      ]
     },
     "execution_count": 36,
     "metadata": {},
     "output_type": "execute_result"
    }
   ],
   "source": [
    "len(df[df['count']<=2500])"
   ]
  },
  {
   "cell_type": "code",
   "execution_count": 37,
   "metadata": {},
   "outputs": [
    {
     "data": {
      "text/plain": [
       "0        EUROPEAN COMMISSION\\nBrussels, 05.03.2021\\nC(2...\n",
       "9        EUROPEAN COMMISSION\\nBrussels, 19.1.2021\\nC(20...\n",
       "21       INTERNATIONAL\\nOnly the English  text is avail...\n",
       "22       EUROPEAN COMMISSION\\nBrussels,  29.3.2022\\nC(2...\n",
       "35       East  Coast  South  America-Mediterranean  ([4...\n",
       "                               ...                        \n",
       "28913    Ref.:   Letter of the Bundeskartellamt of 7 Fe...\n",
       "28921    (10)  On 25 October 2019, Discovery and Polsat...\n",
       "28943    […]\\nSource: Form CO, Annex 22A – Triton 5.4 D...\n",
       "28967    (9)  Both Parties will contribute all of their...\n",
       "28977    (16)  The UOKiK made a request under Article 9...\n",
       "Name: sec_text, Length: 4433, dtype: object"
      ]
     },
     "execution_count": 37,
     "metadata": {},
     "output_type": "execute_result"
    }
   ],
   "source": [
    "df[df['count']<50]['sec_text']"
   ]
  },
  {
   "attachments": {},
   "cell_type": "markdown",
   "metadata": {},
   "source": [
    "### Drop count with sec_text <=20"
   ]
  },
  {
   "cell_type": "code",
   "execution_count": 38,
   "metadata": {},
   "outputs": [],
   "source": [
    "df = df[df['count']>20].reset_index(drop=True)"
   ]
  },
  {
   "attachments": {},
   "cell_type": "markdown",
   "metadata": {},
   "source": [
    "#### Drop based on 'section'/subheading"
   ]
  },
  {
   "cell_type": "code",
   "execution_count": 39,
   "metadata": {},
   "outputs": [],
   "source": [
    "headings = df['section'].value_counts()"
   ]
  },
  {
   "cell_type": "code",
   "execution_count": 54,
   "metadata": {},
   "outputs": [],
   "source": [
    "# remove based on subheading/section\n",
    "section_list = ['en', 'merger procedure', 'commission decision', 'No 139/20041',\n",
    "                                             'PUBLIC VERSION', 'Area2', 'N', 'REGULATION (EC) No 139/2004',\n",
    "                                             'Regulation No 139/20041',\n",
    "                                             'REGULATION (EC) 139/2004', 'Economic Area3']\n",
    "                                            #  'Commission europØenne, B-1049 Bruxelles / Europese Commissie, B-1049 Brussel - Belgium. Telephone: (32-2) 299 11 11. II. THE OPERATION',\n",
    "                                            #  'Commission européenne, B-1049 Bruxelles / Europese Commissie, B-1049 Brussel - Belgium. Telephone: (32-2) 299 11 11.  I.  THE PARTIES',\n",
    "                                            #  'Commission européenne, B-1049 Bruxelles / Europese Commissie, B-1049 Brussel - Belgium. Telephone: (32-2) 299 11 11.  II.  THE OPERATION',\n",
    "                                            #  'Tel: +32 229-91111. Fax: +32 229-64301. E-mail: COMP-MERGER-REGISTRY@ec.europa.eu.  I.  THE PARTIES',\n",
    "                                            #  'Commission européenne, 1049 Bruxelles, BELGIQUE / Europese Commissie, 1049 Brussel, BELGIË. Tel.: +32 229-91111.  1.  THE PARTIES'\n",
    "\n",
    "lowercase_list = [text.lower() for text in section_list]\n",
    "\n",
    "\n",
    "keep_mask = ~df['section'].str.lower().isin(lowercase_list)\n",
    "df = df[keep_mask].reset_index(drop=True)"
   ]
  },
  {
   "cell_type": "code",
   "execution_count": 55,
   "metadata": {},
   "outputs": [
    {
     "data": {
      "text/plain": [
       "article\n",
       "art6.0    4684\n",
       "art6.1     219\n",
       "art8.1      32\n",
       "art8.2      61\n",
       "art8.3       7\n",
       "art9.3      91\n",
       "Name: case_num, dtype: int64"
      ]
     },
     "execution_count": 55,
     "metadata": {},
     "output_type": "execute_result"
    }
   ],
   "source": [
    "# no of cases by article\n",
    "df.groupby('article')['case_num'].nunique()"
   ]
  },
  {
   "attachments": {},
   "cell_type": "markdown",
   "metadata": {},
   "source": [
    "### Detect English sec_text and subset to English merger decisions"
   ]
  },
  {
   "cell_type": "code",
   "execution_count": 62,
   "metadata": {},
   "outputs": [
    {
     "data": {
      "text/plain": [
       "':\\n \\n\\n\\n\\uf02d\\n \\n \\nf\\no\\nr\\n \\n \\nC\\no\\nr\\nd\\ne\\ns\\n \\n \\n&\\n \\n \\nG\\nr\\na\\ne\\nf\\ne\\n:\\n \\n \\nw\\nh\\no\\nl\\ne\\ns\\na\\nl\\ne\\n \\n \\na\\nn\\nd\\n \\n \\nr\\ne\\nt\\na\\ni\\nl\\n \\n \\ns\\nu\\np\\np\\nl\\ny\\n \\n \\no\\nf\\n \\n \\ns\\na\\nn\\ni\\nt\\na\\nr\\ny\\n,\\n \\n \\np\\nl\\nu\\nm\\nb\\ni\\nn\\ng\\n,\\n \\n\\n\\nv\\ne\\nn\\nt\\ni\\nl\\na\\nt\\ni\\no\\nn\\n,\\n \\nh\\ne\\na\\nt\\ni\\nn\\ng\\n \\na\\nn\\nd\\n \\na\\ni\\nr\\n \\nc\\no\\nn\\nd\\ni\\nt\\ni\\no\\nn\\ni\\nn\\ng\\n \\np\\nr\\no\\nd\\nu\\nc\\nt\\ns\\n,\\n \\ne\\nl\\ne\\nc\\nt\\nr\\ni\\nc\\na\\nl\\n \\ne\\nq\\nu\\ni\\np\\nm\\ne\\nn\\nt\\n,\\n \\nr\\no\\no\\nf\\ni\\nn\\ng\\n,\\n \\n\\n\\ne\\nx\\nc\\na\\nv\\na\\nt\\ni\\no\\nn\\n \\na\\nn\\nd\\n \\ni\\nn\\nd\\nu\\ns\\nt\\nr\\ni\\na\\nl\\n \\nt\\ne\\nc\\nh\\nn\\no\\nl\\no\\ng\\ni\\ne\\ns\\n,\\n \\nm\\na\\ni\\nn\\nl\\ny\\n \\nt\\no\\n \\np\\nr\\no\\nf\\ne\\ns\\ns\\ni\\no\\nn\\na\\nl\\n \\nc\\nu\\ns\\nt\\no\\nm\\ne\\nr\\ns\\n;\\n \\na\\nn\\nd\\n \\n\\n\\n\\uf02d\\n \\n \\nf\\no\\nr\\n \\n \\nF\\nA\\nC\\nQ\\n:\\n \\n \\nr\\ne\\nt\\na\\ni\\nl\\n \\n \\ns\\nu\\np\\np\\nl\\ny\\n \\n \\no\\nf\\n \\n \\ns\\na\\nn\\ni\\nt\\na\\nr\\ny\\n,\\n \\n \\np\\nl\\nu\\nm\\nb\\ni\\nn\\ng\\n,\\n \\n \\nv\\ne\\nn\\nt\\ni\\nl\\na\\nt\\ni\\no\\nn\\n,\\n \\n \\nh\\ne\\na\\nt\\ni\\nn\\ng\\n \\n \\na\\nn\\nd\\n \\n \\na\\ni\\nr\\n \\n\\n\\nc\\no\\nn\\nd\\ni\\nt\\ni\\no\\nn\\ni\\nn\\ng\\n \\np\\nr\\no\\nd\\nu\\nc\\nt\\ns\\n \\nt\\no\\n \\np\\nr\\no\\nf\\ne\\ns\\ns\\ni\\no\\nn\\na\\nl\\n \\na\\nn\\nd\\n \\nn\\no\\nn\\n-\\np\\nr\\no\\nf\\ne\\ns\\ns\\ni\\no\\nn\\na\\nl\\n \\nc\\nu\\ns\\nt\\no\\nm\\ne\\nr\\ns\\n.\\n \\n\\n\\n5\\n.'"
      ]
     },
     "execution_count": 62,
     "metadata": {},
     "output_type": "execute_result"
    }
   ],
   "source": [
    "df['sec_text'][25182]"
   ]
  },
  {
   "cell_type": "code",
   "execution_count": 117,
   "metadata": {},
   "outputs": [],
   "source": [
    "# # add language\n",
    "# from langdetect import detect\n",
    "\n",
    "# df[\"sec_text_lang\"] = df[\"sec_text\"].apply(lambda x: detect(x) if x is not None else None)"
   ]
  },
  {
   "cell_type": "code",
   "execution_count": 118,
   "metadata": {},
   "outputs": [],
   "source": [
    "# df = df[df['lang']==\"en\"]\n",
    "# df = df.reset_index(drop=True)"
   ]
  },
  {
   "cell_type": "code",
   "execution_count": 119,
   "metadata": {},
   "outputs": [
    {
     "name": "stdout",
     "output_type": "stream",
     "text": [
      "<class 'pandas.core.frame.DataFrame'>\n",
      "RangeIndex: 26317 entries, 0 to 26316\n",
      "Data columns (total 14 columns):\n",
      " #   Column        Non-Null Count  Dtype  \n",
      "---  ------        --------------  -----  \n",
      " 0   date          26317 non-null  object \n",
      " 1   year          23655 non-null  float64\n",
      " 2   len_pdf       26317 non-null  int64  \n",
      " 3   article       26317 non-null  object \n",
      " 4   article_txt   26317 non-null  object \n",
      " 5   article_62    26317 non-null  object \n",
      " 6   case_num      26317 non-null  object \n",
      " 7   filename      26317 non-null  object \n",
      " 8   section_text  26317 non-null  object \n",
      " 9   bsn_act       26317 non-null  object \n",
      " 10  simp_text     26317 non-null  object \n",
      " 11  section       22907 non-null  object \n",
      " 12  sec_text      26317 non-null  object \n",
      " 13  count         26317 non-null  int64  \n",
      "dtypes: float64(1), int64(2), object(11)\n",
      "memory usage: 2.8+ MB\n"
     ]
    }
   ],
   "source": [
    "df.info()"
   ]
  },
  {
   "attachments": {},
   "cell_type": "markdown",
   "metadata": {},
   "source": [
    "### Drop duplicates based on file and sec_text"
   ]
  },
  {
   "cell_type": "code",
   "execution_count": 120,
   "metadata": {},
   "outputs": [],
   "source": [
    "# define regular expression pattern\n",
    "pattern = r\"\\\\([^\\\\]*)$\"\n",
    "\n",
    "# apply regular expression to each row in \"filename\" column\n",
    "df['file'] = df['filename'].apply(lambda x: re.findall(pattern, x)[0])"
   ]
  },
  {
   "cell_type": "code",
   "execution_count": 121,
   "metadata": {},
   "outputs": [],
   "source": [
    "df.drop_duplicates(subset=['file', 'sec_text'], keep='first', inplace=True)\n",
    "\n",
    "df=df.reset_index(drop=True)"
   ]
  },
  {
   "cell_type": "code",
   "execution_count": 122,
   "metadata": {},
   "outputs": [],
   "source": [
    "df['id'] = df.index"
   ]
  },
  {
   "attachments": {},
   "cell_type": "markdown",
   "metadata": {},
   "source": [
    "### Parse year_text again"
   ]
  },
  {
   "cell_type": "code",
   "execution_count": 123,
   "metadata": {},
   "outputs": [],
   "source": [
    "# Function to get year\n",
    "def _extract_year_text2(text):\n",
    "    # Define a regular expression pattern to match years between 2004 and 2022\n",
    "    pattern = r'\\b([2][0][0-2][0-9])\\b' #[2][0][0-2][0-9]\n",
    "\n",
    "    # Use re.search() to extract the first match of the pattern in the subheading\n",
    "    match = re.search(pattern, text)\n",
    "\n",
    "    # If a match is found, extract the matched string, otherwise return None\n",
    "    year = match.group(0) if match else None\n",
    "\n",
    "    return year"
   ]
  },
  {
   "cell_type": "code",
   "execution_count": 124,
   "metadata": {},
   "outputs": [],
   "source": [
    "df['year_text'] = df['date'].apply(_extract_year_text2)"
   ]
  },
  {
   "attachments": {},
   "cell_type": "markdown",
   "metadata": {},
   "source": [
    "### Rename article"
   ]
  },
  {
   "cell_type": "code",
   "execution_count": 125,
   "metadata": {},
   "outputs": [],
   "source": [
    "df['article'] = df['article'].replace('art6.1', 'article6(2)')\n",
    "df['article'] = df['article'].replace('art6.0', 'article6(1)(b)')\n",
    "df['article'] = df['article'].replace('art8.1', 'article8(1)')\n",
    "df['article'] = df['article'].replace('art8.2', 'article8(2)')\n",
    "df['article'] = df['article'].replace('art8.3', 'article8(3)')\n",
    "df['article'] = df['article'].replace('art9.3', 'referral')"
   ]
  },
  {
   "cell_type": "code",
   "execution_count": 126,
   "metadata": {},
   "outputs": [
    {
     "data": {
      "text/plain": [
       "year_text\n",
       "2004    110\n",
       "2005    242\n",
       "2006    304\n",
       "2007    336\n",
       "2008    261\n",
       "2009    200\n",
       "2010    219\n",
       "2011    268\n",
       "2012    196\n",
       "2013    233\n",
       "2014    257\n",
       "2015    272\n",
       "2016    311\n",
       "2017    271\n",
       "2018    347\n",
       "2019    325\n",
       "2020    312\n",
       "2021    348\n",
       "2022    295\n",
       "2023      6\n",
       "Name: case_num, dtype: int64"
      ]
     },
     "execution_count": 126,
     "metadata": {},
     "output_type": "execute_result"
    }
   ],
   "source": [
    "# no of cases by year\n",
    "df.groupby('year_text')['case_num'].nunique()"
   ]
  },
  {
   "cell_type": "code",
   "execution_count": 128,
   "metadata": {},
   "outputs": [
    {
     "data": {
      "text/plain": [
       "article\n",
       "article6(1)(b)    4776\n",
       "article6(2)        219\n",
       "article8(1)         33\n",
       "article8(2)         67\n",
       "article8(3)          9\n",
       "referral            35\n",
       "Name: case_num, dtype: int64"
      ]
     },
     "execution_count": 128,
     "metadata": {},
     "output_type": "execute_result"
    }
   ],
   "source": [
    "# no of cases by article\n",
    "df.groupby('article')['case_num'].nunique()"
   ]
  },
  {
   "cell_type": "code",
   "execution_count": 129,
   "metadata": {},
   "outputs": [
    {
     "data": {
      "text/plain": [
       "article\n",
       "article6(1)(b)    4797\n",
       "article6(2)        231\n",
       "article8(1)         33\n",
       "article8(2)         74\n",
       "article8(3)          9\n",
       "referral            36\n",
       "Name: file, dtype: int64"
      ]
     },
     "execution_count": 129,
     "metadata": {},
     "output_type": "execute_result"
    }
   ],
   "source": [
    "# no of documents by article\n",
    "df.groupby('article')['file'].nunique()"
   ]
  },
  {
   "cell_type": "code",
   "execution_count": 130,
   "metadata": {},
   "outputs": [
    {
     "data": {
      "text/plain": [
       "article6(1)(b)    17528\n",
       "article6(2)        4620\n",
       "article8(1)         571\n",
       "article8(2)        2218\n",
       "article8(3)         435\n",
       "referral            271\n",
       "Name: article, dtype: int64"
      ]
     },
     "execution_count": 130,
     "metadata": {},
     "output_type": "execute_result"
    }
   ],
   "source": [
    "# no of rows by article\n",
    "df['article'].value_counts().sort_index()"
   ]
  },
  {
   "attachments": {},
   "cell_type": "markdown",
   "metadata": {},
   "source": [
    "### Clean labels"
   ]
  },
  {
   "cell_type": "code",
   "execution_count": 131,
   "metadata": {},
   "outputs": [
    {
     "data": {
      "text/plain": [
       "article6(1)(b)    20221\n",
       "article8(2)        2165\n",
       "article6(2)        1006\n",
       "article8(1)         541\n",
       "article8(3)         413\n",
       "article9(3)         260\n",
       "article7(3)         244\n",
       "article6(1)         203\n",
       "None                155\n",
       "article4(4)         135\n",
       "article22(3)        110\n",
       "article17(2)         63\n",
       "article22            46\n",
       "article9(3)(b)       22\n",
       "article9             20\n",
       "article6(4)          11\n",
       "article9(2)           9\n",
       "article22(1)          7\n",
       "article6              5\n",
       "article232            4\n",
       "article6(1)(a)        3\n",
       "Name: article_txt, dtype: int64"
      ]
     },
     "execution_count": 131,
     "metadata": {},
     "output_type": "execute_result"
    }
   ],
   "source": [
    "df['article_txt'].value_counts()"
   ]
  },
  {
   "cell_type": "code",
   "execution_count": 133,
   "metadata": {},
   "outputs": [],
   "source": [
    "# change 6(1) to 6.2\n",
    "df['article_txt'] = df['article_txt'].replace(\"article6(1)\", \"article6(2)\") "
   ]
  },
  {
   "cell_type": "code",
   "execution_count": 134,
   "metadata": {},
   "outputs": [
    {
     "data": {
      "text/plain": [
       "None                            22301\n",
       "inconjunctionwithart6(2)         3014\n",
       "inconjunctionwitharticle6(2)      328\n",
       "Name: article_62, dtype: int64"
      ]
     },
     "execution_count": 134,
     "metadata": {},
     "output_type": "execute_result"
    }
   ],
   "source": [
    "df['article_62'].value_counts()"
   ]
  },
  {
   "cell_type": "code",
   "execution_count": 135,
   "metadata": {},
   "outputs": [],
   "source": [
    "# change to 6.2 with in conjunction\n",
    "df['article_txt'] = np.where(df['article_62'].isin(['inconjunctionwitharticle6(2)', 'inconjunctionwithart6(2)']), 'article6(2)', df['article_txt'])"
   ]
  },
  {
   "cell_type": "code",
   "execution_count": 138,
   "metadata": {},
   "outputs": [
    {
     "data": {
      "text/plain": [
       "article_txt\n",
       "None                17\n",
       "article17(2)         6\n",
       "article22            4\n",
       "article22(1)         1\n",
       "article22(3)        13\n",
       "article232           1\n",
       "article4(4)         14\n",
       "article6             5\n",
       "article6(1)(a)       1\n",
       "article6(1)(b)    4738\n",
       "article6(2)        204\n",
       "article6(4)          1\n",
       "article7(3)         28\n",
       "article8(1)         29\n",
       "article8(2)         65\n",
       "article8(3)          6\n",
       "article9             3\n",
       "article9(2)          1\n",
       "article9(3)         24\n",
       "article9(3)(b)       2\n",
       "Name: case_num, dtype: int64"
      ]
     },
     "execution_count": 138,
     "metadata": {},
     "output_type": "execute_result"
    }
   ],
   "source": [
    "# no. of cases by article_txt\n",
    "df.groupby('article_txt')['case_num'].nunique().sort_index()"
   ]
  },
  {
   "cell_type": "code",
   "execution_count": 139,
   "metadata": {},
   "outputs": [],
   "source": [
    "# is referral if article == referral and not in 5 categories\n",
    "mask = (df['article_txt'].isin([\"article4(4)\", \"article22(3)\", \"article22\", \"article9(3)\", \"article9(3)(b)\"]))\n",
    "# df.loc[mask, 'article_txt'] = \"referral\""
   ]
  },
  {
   "cell_type": "code",
   "execution_count": 140,
   "metadata": {},
   "outputs": [],
   "source": [
    "# article_new\n",
    "df['article_new'] = np.where(mask, 'referral', df['article_txt'])"
   ]
  },
  {
   "cell_type": "code",
   "execution_count": 141,
   "metadata": {},
   "outputs": [
    {
     "data": {
      "text/plain": [
       "article_new\n",
       "None                17\n",
       "article17(2)         6\n",
       "article22(1)         1\n",
       "article232           1\n",
       "article6             5\n",
       "article6(1)(a)       1\n",
       "article6(1)(b)    4738\n",
       "article6(2)        204\n",
       "article6(4)          1\n",
       "article7(3)         28\n",
       "article8(1)         29\n",
       "article8(2)         65\n",
       "article8(3)          6\n",
       "article9             3\n",
       "article9(2)          1\n",
       "referral            57\n",
       "Name: case_num, dtype: int64"
      ]
     },
     "execution_count": 141,
     "metadata": {},
     "output_type": "execute_result"
    }
   ],
   "source": [
    "# no. of cases by article_new\n",
    "df.groupby('article_new')['case_num'].nunique().sort_index()"
   ]
  },
  {
   "attachments": {},
   "cell_type": "markdown",
   "metadata": {},
   "source": [
    "#### Subset only \"article6(1)(b)\", \"article6(2)\", \"article8(1)\", \"article8(2)\", \"article8(3)\", \"referral\""
   ]
  },
  {
   "cell_type": "code",
   "execution_count": 152,
   "metadata": {},
   "outputs": [],
   "source": [
    "# subset based on article_new (only main articles)\n",
    "df1 = df[df['article_new'].isin([\"article6(1)(b)\", \"article6(2)\", \"article8(1)\", \"article8(2)\", \"article8(3)\", \"referral\"])]"
   ]
  },
  {
   "cell_type": "code",
   "execution_count": 153,
   "metadata": {},
   "outputs": [
    {
     "data": {
      "text/plain": [
       "article_new\n",
       "article6(1)(b)    4738\n",
       "article6(2)        204\n",
       "article8(1)         29\n",
       "article8(2)         65\n",
       "article8(3)          6\n",
       "referral            57\n",
       "Name: case_num, dtype: int64"
      ]
     },
     "execution_count": 153,
     "metadata": {},
     "output_type": "execute_result"
    }
   ],
   "source": [
    "# no of cases by article_new\n",
    "df1.groupby('article_new')['case_num'].nunique()"
   ]
  },
  {
   "cell_type": "code",
   "execution_count": 154,
   "metadata": {},
   "outputs": [
    {
     "data": {
      "text/plain": [
       "article_new\n",
       "article6(1)(b)    4738\n",
       "article6(2)        205\n",
       "article8(1)         29\n",
       "article8(2)         66\n",
       "article8(3)          6\n",
       "referral            62\n",
       "Name: file, dtype: int64"
      ]
     },
     "execution_count": 154,
     "metadata": {},
     "output_type": "execute_result"
    }
   ],
   "source": [
    "# no of documents by article_new\n",
    "df1.groupby('article_new')['file'].nunique()"
   ]
  },
  {
   "cell_type": "code",
   "execution_count": 168,
   "metadata": {},
   "outputs": [
    {
     "data": {
      "text/plain": [
       "article6(1)(b)    17016\n",
       "article6(2)        4414\n",
       "article8(1)         541\n",
       "article8(2)        2165\n",
       "article8(3)         413\n",
       "referral            573\n",
       "Name: article_new, dtype: int64"
      ]
     },
     "execution_count": 168,
     "metadata": {},
     "output_type": "execute_result"
    }
   ],
   "source": [
    "# no of rows by article\n",
    "df1['article_new'].value_counts().sort_index()"
   ]
  },
  {
   "cell_type": "code",
   "execution_count": 156,
   "metadata": {},
   "outputs": [
    {
     "name": "stderr",
     "output_type": "stream",
     "text": [
      "C:\\Users\\admin\\AppData\\Local\\Temp\\ipykernel_26908\\1571934345.py:1: SettingWithCopyWarning: \n",
      "A value is trying to be set on a copy of a slice from a DataFrame.\n",
      "Try using .loc[row_indexer,col_indexer] = value instead\n",
      "\n",
      "See the caveats in the documentation: https://pandas.pydata.org/pandas-docs/stable/user_guide/indexing.html#returning-a-view-versus-a-copy\n",
      "  df1['article_match'] = df1['article'] == df1['article_new']\n"
     ]
    }
   ],
   "source": [
    "df1['article_match'] = df1['article'] == df1['article_new']"
   ]
  },
  {
   "cell_type": "code",
   "execution_count": 157,
   "metadata": {},
   "outputs": [
    {
     "data": {
      "text/plain": [
       "True     24649\n",
       "False      473\n",
       "Name: article_match, dtype: int64"
      ]
     },
     "execution_count": 157,
     "metadata": {},
     "output_type": "execute_result"
    }
   ],
   "source": [
    "df1['article_match'].value_counts()"
   ]
  },
  {
   "cell_type": "code",
   "execution_count": 159,
   "metadata": {},
   "outputs": [
    {
     "data": {
      "text/plain": [
       "article_new\n",
       "article6(1)(b)    10\n",
       "article6(2)        1\n",
       "referral          39\n",
       "Name: case_num, dtype: int64"
      ]
     },
     "execution_count": 159,
     "metadata": {},
     "output_type": "execute_result"
    }
   ],
   "source": [
    "df1[df1['article_match']==False].groupby('article_new')['case_num'].nunique()"
   ]
  },
  {
   "cell_type": "code",
   "execution_count": 160,
   "metadata": {},
   "outputs": [
    {
     "data": {
      "text/html": [
       "<div>\n",
       "<style scoped>\n",
       "    .dataframe tbody tr th:only-of-type {\n",
       "        vertical-align: middle;\n",
       "    }\n",
       "\n",
       "    .dataframe tbody tr th {\n",
       "        vertical-align: top;\n",
       "    }\n",
       "\n",
       "    .dataframe thead th {\n",
       "        text-align: right;\n",
       "    }\n",
       "</style>\n",
       "<table border=\"1\" class=\"dataframe\">\n",
       "  <thead>\n",
       "    <tr style=\"text-align: right;\">\n",
       "      <th></th>\n",
       "      <th>date</th>\n",
       "      <th>year</th>\n",
       "      <th>len_pdf</th>\n",
       "      <th>article</th>\n",
       "      <th>article_txt</th>\n",
       "      <th>article_62</th>\n",
       "      <th>case_num</th>\n",
       "      <th>filename</th>\n",
       "      <th>section_text</th>\n",
       "      <th>bsn_act</th>\n",
       "      <th>simp_text</th>\n",
       "      <th>section</th>\n",
       "      <th>sec_text</th>\n",
       "      <th>count</th>\n",
       "      <th>file</th>\n",
       "      <th>id</th>\n",
       "      <th>year_text</th>\n",
       "      <th>article_new</th>\n",
       "      <th>article_match</th>\n",
       "    </tr>\n",
       "  </thead>\n",
       "  <tbody>\n",
       "    <tr>\n",
       "      <th>18599</th>\n",
       "      <td>Date: 03/10/2007</td>\n",
       "      <td>2007.0</td>\n",
       "      <td>85</td>\n",
       "      <td>article6(2)</td>\n",
       "      <td>article6(1)(b)</td>\n",
       "      <td>None</td>\n",
       "      <td>M.4844</td>\n",
       "      <td>art6.1\\M.4844\\m4844_20071003_20212_en</td>\n",
       "      <td>[Office for Official Publications of the Europ...</td>\n",
       "      <td></td>\n",
       "      <td>None</td>\n",
       "      <td>number 32007M4844</td>\n",
       "      <td>Office for Official Publications of the Europe...</td>\n",
       "      <td>84</td>\n",
       "      <td>m4844_20071003_20212_en</td>\n",
       "      <td>18599</td>\n",
       "      <td>2007</td>\n",
       "      <td>article6(1)(b)</td>\n",
       "      <td>False</td>\n",
       "    </tr>\n",
       "    <tr>\n",
       "      <th>18600</th>\n",
       "      <td>Date: 03/10/2007</td>\n",
       "      <td>2007.0</td>\n",
       "      <td>85</td>\n",
       "      <td>article6(2)</td>\n",
       "      <td>article6(1)(b)</td>\n",
       "      <td>None</td>\n",
       "      <td>M.4844</td>\n",
       "      <td>art6.1\\M.4844\\m4844_20071003_20212_en</td>\n",
       "      <td>[Dear Sirs,, 1.  On 14 August 2007, the Commis...</td>\n",
       "      <td></td>\n",
       "      <td>None</td>\n",
       "      <td>No 139/20041</td>\n",
       "      <td>Dear Sirs,\\n1.  On 14 August 2007, the Commiss...</td>\n",
       "      <td>164</td>\n",
       "      <td>m4844_20071003_20212_en</td>\n",
       "      <td>18600</td>\n",
       "      <td>2007</td>\n",
       "      <td>article6(1)(b)</td>\n",
       "      <td>False</td>\n",
       "    </tr>\n",
       "    <tr>\n",
       "      <th>18601</th>\n",
       "      <td>Date: 03/10/2007</td>\n",
       "      <td>2007.0</td>\n",
       "      <td>85</td>\n",
       "      <td>article6(2)</td>\n",
       "      <td>article6(1)(b)</td>\n",
       "      <td>None</td>\n",
       "      <td>M.4844</td>\n",
       "      <td>art6.1\\M.4844\\m4844_20071003_20212_en</td>\n",
       "      <td>[3.  Fortis is a Belgo-Dutch financial service...</td>\n",
       "      <td></td>\n",
       "      <td>None</td>\n",
       "      <td>I.  THE PARTIES</td>\n",
       "      <td>3.  Fortis is a Belgo-Dutch financial services...</td>\n",
       "      <td>116</td>\n",
       "      <td>m4844_20071003_20212_en</td>\n",
       "      <td>18601</td>\n",
       "      <td>2007</td>\n",
       "      <td>article6(1)(b)</td>\n",
       "      <td>False</td>\n",
       "    </tr>\n",
       "    <tr>\n",
       "      <th>18602</th>\n",
       "      <td>Date: 03/10/2007</td>\n",
       "      <td>2007.0</td>\n",
       "      <td>85</td>\n",
       "      <td>article6(2)</td>\n",
       "      <td>article6(1)(b)</td>\n",
       "      <td>None</td>\n",
       "      <td>M.4844</td>\n",
       "      <td>art6.1\\M.4844\\m4844_20071003_20212_en</td>\n",
       "      <td>[5.  On 29 May 2007 a Consortium formed by the...</td>\n",
       "      <td></td>\n",
       "      <td>None</td>\n",
       "      <td>II.  THE OPERATION</td>\n",
       "      <td>5.  On 29 May 2007 a Consortium formed by the ...</td>\n",
       "      <td>244</td>\n",
       "      <td>m4844_20071003_20212_en</td>\n",
       "      <td>18602</td>\n",
       "      <td>2007</td>\n",
       "      <td>article6(1)(b)</td>\n",
       "      <td>False</td>\n",
       "    </tr>\n",
       "    <tr>\n",
       "      <th>18603</th>\n",
       "      <td>Date: 03/10/2007</td>\n",
       "      <td>2007.0</td>\n",
       "      <td>85</td>\n",
       "      <td>article6(2)</td>\n",
       "      <td>article6(1)(b)</td>\n",
       "      <td>None</td>\n",
       "      <td>M.4844</td>\n",
       "      <td>art6.1\\M.4844\\m4844_20071003_20212_en</td>\n",
       "      <td>[9.  As a result of this transaction, Fortis w...</td>\n",
       "      <td></td>\n",
       "      <td>None</td>\n",
       "      <td>III.  CONCENTRATION</td>\n",
       "      <td>9.  As a result of this transaction, Fortis wo...</td>\n",
       "      <td>33</td>\n",
       "      <td>m4844_20071003_20212_en</td>\n",
       "      <td>18603</td>\n",
       "      <td>2007</td>\n",
       "      <td>article6(1)(b)</td>\n",
       "      <td>False</td>\n",
       "    </tr>\n",
       "    <tr>\n",
       "      <th>...</th>\n",
       "      <td>...</td>\n",
       "      <td>...</td>\n",
       "      <td>...</td>\n",
       "      <td>...</td>\n",
       "      <td>...</td>\n",
       "      <td>...</td>\n",
       "      <td>...</td>\n",
       "      <td>...</td>\n",
       "      <td>...</td>\n",
       "      <td>...</td>\n",
       "      <td>...</td>\n",
       "      <td>...</td>\n",
       "      <td>...</td>\n",
       "      <td>...</td>\n",
       "      <td>...</td>\n",
       "      <td>...</td>\n",
       "      <td>...</td>\n",
       "      <td>...</td>\n",
       "      <td>...</td>\n",
       "    </tr>\n",
       "    <tr>\n",
       "      <th>25544</th>\n",
       "      <td>Date: 04/03/2013</td>\n",
       "      <td>2013.0</td>\n",
       "      <td>23</td>\n",
       "      <td>referral</td>\n",
       "      <td>article6(1)(b)</td>\n",
       "      <td>None</td>\n",
       "      <td>M.6753</td>\n",
       "      <td>art9.3\\M.6753\\m6753_20130304_20310_3027543_EN</td>\n",
       "      <td>[114.  Orkla’s Finnish subsidiary, Chips AB, d...</td>\n",
       "      <td></td>\n",
       "      <td>None</td>\n",
       "      <td>4.2.2.  Distribution of frozen cakes in Finland</td>\n",
       "      <td>114.  Orkla’s Finnish subsidiary, Chips AB, di...</td>\n",
       "      <td>485</td>\n",
       "      <td>m6753_20130304_20310_3027543_EN</td>\n",
       "      <td>25544</td>\n",
       "      <td>2013</td>\n",
       "      <td>article6(1)(b)</td>\n",
       "      <td>False</td>\n",
       "    </tr>\n",
       "    <tr>\n",
       "      <th>25545</th>\n",
       "      <td>Date: 12/10/2022</td>\n",
       "      <td>NaN</td>\n",
       "      <td>3</td>\n",
       "      <td>referral</td>\n",
       "      <td>article6(1)(b)</td>\n",
       "      <td>None</td>\n",
       "      <td>M.10852</td>\n",
       "      <td>art9.3\\M.10852\\M_10852_8566740_145_4</td>\n",
       "      <td>the following:  \\n—  Scintia is an investment ...</td>\n",
       "      <td>\\n \\nEUROPEAN COMMISSION \\nDG Competition \\n ...</td>\n",
       "      <td>the following:  \\n—  Scintia is an investment ...</td>\n",
       "      <td>None</td>\n",
       "      <td>t\\nh\\ne\\n \\nf\\no\\nl\\nl\\no\\nw\\ni\\nn\\ng\\n:\\n \\n ...</td>\n",
       "      <td>776</td>\n",
       "      <td>M_10852_8566740_145_4</td>\n",
       "      <td>25545</td>\n",
       "      <td>2022</td>\n",
       "      <td>article6(1)(b)</td>\n",
       "      <td>False</td>\n",
       "    </tr>\n",
       "    <tr>\n",
       "      <th>25546</th>\n",
       "      <td>Date: 09/02/2022</td>\n",
       "      <td>NaN</td>\n",
       "      <td>3</td>\n",
       "      <td>referral</td>\n",
       "      <td>article6(1)(b)</td>\n",
       "      <td>None</td>\n",
       "      <td>M.10564</td>\n",
       "      <td>art9.3\\M.10564\\M_10564_8314902_264_3</td>\n",
       "      <td>: \\n−  for Blackstone: global asset management...</td>\n",
       "      <td>\\n \\nEUROPEAN COMMISSION \\nDG Competition \\n ...</td>\n",
       "      <td>: \\n−  for Blackstone: global asset management...</td>\n",
       "      <td>None</td>\n",
       "      <td>:\\n \\n\\n\\n−\\n \\n \\nf\\no\\nr\\n \\nB\\nl\\na\\nc\\nk\\n...</td>\n",
       "      <td>1005</td>\n",
       "      <td>M_10564_8314902_264_3</td>\n",
       "      <td>25546</td>\n",
       "      <td>2022</td>\n",
       "      <td>article6(1)(b)</td>\n",
       "      <td>False</td>\n",
       "    </tr>\n",
       "    <tr>\n",
       "      <th>25547</th>\n",
       "      <td>Date: 21/01/2022</td>\n",
       "      <td>NaN</td>\n",
       "      <td>3</td>\n",
       "      <td>referral</td>\n",
       "      <td>article6(1)(b)</td>\n",
       "      <td>None</td>\n",
       "      <td>M.10491</td>\n",
       "      <td>art9.3\\M.10491\\M_10491_8142129_101_3</td>\n",
       "      <td>: \\n−  for the Goldman Sachs Group, Inc.: glob...</td>\n",
       "      <td>\\n \\nEUROPEAN COMMISSION \\nDG Competition \\n ...</td>\n",
       "      <td>: \\n−  for the Goldman Sachs Group, Inc.: glob...</td>\n",
       "      <td>None</td>\n",
       "      <td>:\\n \\n\\n\\n−\\n \\n \\nf\\no\\nr\\n \\nt\\nh\\ne\\n \\nG\\n...</td>\n",
       "      <td>377</td>\n",
       "      <td>M_10491_8142129_101_3</td>\n",
       "      <td>25547</td>\n",
       "      <td>2022</td>\n",
       "      <td>article6(1)(b)</td>\n",
       "      <td>False</td>\n",
       "    </tr>\n",
       "    <tr>\n",
       "      <th>25642</th>\n",
       "      <td>Date: 15/11/2017</td>\n",
       "      <td>2017.0</td>\n",
       "      <td>3</td>\n",
       "      <td>referral</td>\n",
       "      <td>article6(1)(b)</td>\n",
       "      <td>None</td>\n",
       "      <td>M.8562</td>\n",
       "      <td>art9.3\\M.8562\\m8562_220_3</td>\n",
       "      <td>: \\n– for Cargill: the international  producti...</td>\n",
       "      <td>\\n \\nEUROPEAN COMMISSION \\nDG Competition \\n ...</td>\n",
       "      <td>: \\n– for Cargill: the international  producti...</td>\n",
       "      <td>None</td>\n",
       "      <td>:\\n \\n\\n\\n–\\n \\nf\\no\\nr\\n \\nC\\na\\nr\\ng\\ni\\nl\\n...</td>\n",
       "      <td>1480</td>\n",
       "      <td>m8562_220_3</td>\n",
       "      <td>25642</td>\n",
       "      <td>2017</td>\n",
       "      <td>article6(1)(b)</td>\n",
       "      <td>False</td>\n",
       "    </tr>\n",
       "  </tbody>\n",
       "</table>\n",
       "<p>89 rows × 19 columns</p>\n",
       "</div>"
      ],
      "text/plain": [
       "                   date    year  len_pdf      article     article_txt  \\\n",
       "18599  Date: 03/10/2007  2007.0       85  article6(2)  article6(1)(b)   \n",
       "18600  Date: 03/10/2007  2007.0       85  article6(2)  article6(1)(b)   \n",
       "18601  Date: 03/10/2007  2007.0       85  article6(2)  article6(1)(b)   \n",
       "18602  Date: 03/10/2007  2007.0       85  article6(2)  article6(1)(b)   \n",
       "18603  Date: 03/10/2007  2007.0       85  article6(2)  article6(1)(b)   \n",
       "...                 ...     ...      ...          ...             ...   \n",
       "25544  Date: 04/03/2013  2013.0       23     referral  article6(1)(b)   \n",
       "25545  Date: 12/10/2022     NaN        3     referral  article6(1)(b)   \n",
       "25546  Date: 09/02/2022     NaN        3     referral  article6(1)(b)   \n",
       "25547  Date: 21/01/2022     NaN        3     referral  article6(1)(b)   \n",
       "25642  Date: 15/11/2017  2017.0        3     referral  article6(1)(b)   \n",
       "\n",
       "      article_62 case_num                                       filename  \\\n",
       "18599       None   M.4844          art6.1\\M.4844\\m4844_20071003_20212_en   \n",
       "18600       None   M.4844          art6.1\\M.4844\\m4844_20071003_20212_en   \n",
       "18601       None   M.4844          art6.1\\M.4844\\m4844_20071003_20212_en   \n",
       "18602       None   M.4844          art6.1\\M.4844\\m4844_20071003_20212_en   \n",
       "18603       None   M.4844          art6.1\\M.4844\\m4844_20071003_20212_en   \n",
       "...          ...      ...                                            ...   \n",
       "25544       None   M.6753  art9.3\\M.6753\\m6753_20130304_20310_3027543_EN   \n",
       "25545       None  M.10852           art9.3\\M.10852\\M_10852_8566740_145_4   \n",
       "25546       None  M.10564           art9.3\\M.10564\\M_10564_8314902_264_3   \n",
       "25547       None  M.10491           art9.3\\M.10491\\M_10491_8142129_101_3   \n",
       "25642       None   M.8562                      art9.3\\M.8562\\m8562_220_3   \n",
       "\n",
       "                                            section_text  \\\n",
       "18599  [Office for Official Publications of the Europ...   \n",
       "18600  [Dear Sirs,, 1.  On 14 August 2007, the Commis...   \n",
       "18601  [3.  Fortis is a Belgo-Dutch financial service...   \n",
       "18602  [5.  On 29 May 2007 a Consortium formed by the...   \n",
       "18603  [9.  As a result of this transaction, Fortis w...   \n",
       "...                                                  ...   \n",
       "25544  [114.  Orkla’s Finnish subsidiary, Chips AB, d...   \n",
       "25545  the following:  \\n—  Scintia is an investment ...   \n",
       "25546  : \\n−  for Blackstone: global asset management...   \n",
       "25547  : \\n−  for the Goldman Sachs Group, Inc.: glob...   \n",
       "25642  : \\n– for Cargill: the international  producti...   \n",
       "\n",
       "                                                 bsn_act  \\\n",
       "18599                                                      \n",
       "18600                                                      \n",
       "18601                                                      \n",
       "18602                                                      \n",
       "18603                                                      \n",
       "...                                                  ...   \n",
       "25544                                                      \n",
       "25545   \\n \\nEUROPEAN COMMISSION \\nDG Competition \\n ...   \n",
       "25546   \\n \\nEUROPEAN COMMISSION \\nDG Competition \\n ...   \n",
       "25547   \\n \\nEUROPEAN COMMISSION \\nDG Competition \\n ...   \n",
       "25642   \\n \\nEUROPEAN COMMISSION \\nDG Competition \\n ...   \n",
       "\n",
       "                                               simp_text  \\\n",
       "18599                                               None   \n",
       "18600                                               None   \n",
       "18601                                               None   \n",
       "18602                                               None   \n",
       "18603                                               None   \n",
       "...                                                  ...   \n",
       "25544                                               None   \n",
       "25545  the following:  \\n—  Scintia is an investment ...   \n",
       "25546  : \\n−  for Blackstone: global asset management...   \n",
       "25547  : \\n−  for the Goldman Sachs Group, Inc.: glob...   \n",
       "25642  : \\n– for Cargill: the international  producti...   \n",
       "\n",
       "                                               section  \\\n",
       "18599                                number 32007M4844   \n",
       "18600                                     No 139/20041   \n",
       "18601                                  I.  THE PARTIES   \n",
       "18602                               II.  THE OPERATION   \n",
       "18603                              III.  CONCENTRATION   \n",
       "...                                                ...   \n",
       "25544  4.2.2.  Distribution of frozen cakes in Finland   \n",
       "25545                                             None   \n",
       "25546                                             None   \n",
       "25547                                             None   \n",
       "25642                                             None   \n",
       "\n",
       "                                                sec_text  count  \\\n",
       "18599  Office for Official Publications of the Europe...     84   \n",
       "18600  Dear Sirs,\\n1.  On 14 August 2007, the Commiss...    164   \n",
       "18601  3.  Fortis is a Belgo-Dutch financial services...    116   \n",
       "18602  5.  On 29 May 2007 a Consortium formed by the ...    244   \n",
       "18603  9.  As a result of this transaction, Fortis wo...     33   \n",
       "...                                                  ...    ...   \n",
       "25544  114.  Orkla’s Finnish subsidiary, Chips AB, di...    485   \n",
       "25545  t\\nh\\ne\\n \\nf\\no\\nl\\nl\\no\\nw\\ni\\nn\\ng\\n:\\n \\n ...    776   \n",
       "25546  :\\n \\n\\n\\n−\\n \\n \\nf\\no\\nr\\n \\nB\\nl\\na\\nc\\nk\\n...   1005   \n",
       "25547  :\\n \\n\\n\\n−\\n \\n \\nf\\no\\nr\\n \\nt\\nh\\ne\\n \\nG\\n...    377   \n",
       "25642  :\\n \\n\\n\\n–\\n \\nf\\no\\nr\\n \\nC\\na\\nr\\ng\\ni\\nl\\n...   1480   \n",
       "\n",
       "                                  file     id year_text     article_new  \\\n",
       "18599          m4844_20071003_20212_en  18599      2007  article6(1)(b)   \n",
       "18600          m4844_20071003_20212_en  18600      2007  article6(1)(b)   \n",
       "18601          m4844_20071003_20212_en  18601      2007  article6(1)(b)   \n",
       "18602          m4844_20071003_20212_en  18602      2007  article6(1)(b)   \n",
       "18603          m4844_20071003_20212_en  18603      2007  article6(1)(b)   \n",
       "...                                ...    ...       ...             ...   \n",
       "25544  m6753_20130304_20310_3027543_EN  25544      2013  article6(1)(b)   \n",
       "25545            M_10852_8566740_145_4  25545      2022  article6(1)(b)   \n",
       "25546            M_10564_8314902_264_3  25546      2022  article6(1)(b)   \n",
       "25547            M_10491_8142129_101_3  25547      2022  article6(1)(b)   \n",
       "25642                      m8562_220_3  25642      2017  article6(1)(b)   \n",
       "\n",
       "       article_match  \n",
       "18599          False  \n",
       "18600          False  \n",
       "18601          False  \n",
       "18602          False  \n",
       "18603          False  \n",
       "...              ...  \n",
       "25544          False  \n",
       "25545          False  \n",
       "25546          False  \n",
       "25547          False  \n",
       "25642          False  \n",
       "\n",
       "[89 rows x 19 columns]"
      ]
     },
     "execution_count": 160,
     "metadata": {},
     "output_type": "execute_result"
    }
   ],
   "source": [
    "df1[(df1['article_match'] == False) & (df1['article_txt'] == \"article6(1)(b)\")]"
   ]
  },
  {
   "cell_type": "code",
   "execution_count": 161,
   "metadata": {},
   "outputs": [],
   "source": [
    "df1.loc[(df1['article_match'] == False) & (df1['article_new'] == \"article6(1)(b)\") & (df1['article'] == \"article6(2)\"), 'article_new'] = \"article6(2)\""
   ]
  },
  {
   "cell_type": "code",
   "execution_count": 162,
   "metadata": {},
   "outputs": [
    {
     "data": {
      "text/plain": [
       "article_new\n",
       "article6(1)(b)    4736\n",
       "article6(2)        206\n",
       "article8(1)         29\n",
       "article8(2)         65\n",
       "article8(3)          6\n",
       "referral            57\n",
       "Name: case_num, dtype: int64"
      ]
     },
     "execution_count": 162,
     "metadata": {},
     "output_type": "execute_result"
    }
   ],
   "source": [
    "# no of cases by article_new\n",
    "df1.groupby('article_new')['case_num'].nunique()"
   ]
  },
  {
   "cell_type": "code",
   "execution_count": 164,
   "metadata": {},
   "outputs": [
    {
     "data": {
      "text/plain": [
       "article_new\n",
       "article6(1)(b)    4736\n",
       "article6(2)        207\n",
       "article8(1)         29\n",
       "article8(2)         66\n",
       "article8(3)          6\n",
       "referral            62\n",
       "Name: file, dtype: int64"
      ]
     },
     "execution_count": 164,
     "metadata": {},
     "output_type": "execute_result"
    }
   ],
   "source": [
    "# no of documents by article_new\n",
    "df1.groupby('article_new')['file'].nunique()"
   ]
  },
  {
   "cell_type": "code",
   "execution_count": 165,
   "metadata": {},
   "outputs": [
    {
     "data": {
      "text/plain": [
       "article6(1)(b)    17016\n",
       "article6(2)        4414\n",
       "article8(1)         541\n",
       "article8(2)        2165\n",
       "article8(3)         413\n",
       "referral            573\n",
       "Name: article_new, dtype: int64"
      ]
     },
     "execution_count": 165,
     "metadata": {},
     "output_type": "execute_result"
    }
   ],
   "source": [
    "# no of rows by article\n",
    "df1['article_new'].value_counts().sort_index()"
   ]
  },
  {
   "cell_type": "code",
   "execution_count": 166,
   "metadata": {},
   "outputs": [
    {
     "name": "stdout",
     "output_type": "stream",
     "text": [
      "<class 'pandas.core.frame.DataFrame'>\n",
      "Int64Index: 25122 entries, 0 to 25642\n",
      "Data columns (total 19 columns):\n",
      " #   Column         Non-Null Count  Dtype  \n",
      "---  ------         --------------  -----  \n",
      " 0   date           25122 non-null  object \n",
      " 1   year           22710 non-null  float64\n",
      " 2   len_pdf        25122 non-null  int64  \n",
      " 3   article        25122 non-null  object \n",
      " 4   article_txt    25122 non-null  object \n",
      " 5   article_62     25122 non-null  object \n",
      " 6   case_num       25122 non-null  object \n",
      " 7   filename       25122 non-null  object \n",
      " 8   section_text   25122 non-null  object \n",
      " 9   bsn_act        25122 non-null  object \n",
      " 10  simp_text      25122 non-null  object \n",
      " 11  section        21731 non-null  object \n",
      " 12  sec_text       25122 non-null  object \n",
      " 13  count          25122 non-null  int64  \n",
      " 14  file           25122 non-null  object \n",
      " 15  id             25122 non-null  int64  \n",
      " 16  year_text      25050 non-null  object \n",
      " 17  article_new    25122 non-null  object \n",
      " 18  article_match  25122 non-null  bool   \n",
      "dtypes: bool(1), float64(1), int64(3), object(14)\n",
      "memory usage: 3.7+ MB\n"
     ]
    }
   ],
   "source": [
    "df1.info()"
   ]
  },
  {
   "cell_type": "code",
   "execution_count": 167,
   "metadata": {},
   "outputs": [],
   "source": [
    "# # save json file name\n",
    "# date = datetime.date.today().strftime('%Y_%m_%d')\n",
    "\n",
    "# file_name = f\"../../../data/processed/df1_{date}.json\"\n",
    "# if os.path.exists(file_name):\n",
    "#     os.remove(file_name)\n",
    "\n",
    "# # save file as json\n",
    "# df1.to_json(file_name)"
   ]
  },
  {
   "attachments": {},
   "cell_type": "markdown",
   "metadata": {},
   "source": [
    "### Removal of stopwords, punctuations, numeric characters"
   ]
  },
  {
   "cell_type": "code",
   "execution_count": 16,
   "metadata": {},
   "outputs": [
    {
     "name": "stderr",
     "output_type": "stream",
     "text": [
      "[nltk_data] Downloading package stopwords to\n",
      "[nltk_data]     C:\\Users\\admin\\AppData\\Roaming\\nltk_data...\n",
      "[nltk_data]   Package stopwords is already up-to-date!\n"
     ]
    }
   ],
   "source": [
    "# nltk.download(\"stopwords\")\n",
    "# from nltk.corpus import stopwords"
   ]
  },
  {
   "cell_type": "code",
   "execution_count": 17,
   "metadata": {},
   "outputs": [
    {
     "name": "stderr",
     "output_type": "stream",
     "text": [
      "[nltk_data] Downloading package punkt to\n",
      "[nltk_data]     C:\\Users\\admin\\AppData\\Roaming\\nltk_data...\n",
      "[nltk_data]   Package punkt is already up-to-date!\n"
     ]
    },
    {
     "data": {
      "text/plain": [
       "True"
      ]
     },
     "execution_count": 17,
     "metadata": {},
     "output_type": "execute_result"
    }
   ],
   "source": [
    "# nltk.download('punkt')"
   ]
  },
  {
   "cell_type": "code",
   "execution_count": null,
   "metadata": {},
   "outputs": [],
   "source": [
    "# TODO: retain digits, drop repeating terms based on TFIDF"
   ]
  },
  {
   "cell_type": "code",
   "execution_count": 675,
   "metadata": {},
   "outputs": [],
   "source": [
    "def preprocess_corpus(texts):\n",
    "    eng_stopwords = set(stopwords.words(\"english\"))\n",
    "    def remove_stops_digits(tokens):\n",
    "        token_list =  [token.lower() for token in tokens if token not in eng_stopwords and token not in punctuation and token.isdigit() == False]\n",
    "        processed_text = ' '.join(token_list)\n",
    "        return processed_text\n",
    "    return [remove_stops_digits(word_tokenize(text)) for text in texts]"
   ]
  },
  {
   "cell_type": "code",
   "execution_count": 677,
   "metadata": {},
   "outputs": [
    {
     "name": "stderr",
     "output_type": "stream",
     "text": [
      "C:\\Users\\admin\\AppData\\Local\\Temp\\ipykernel_7976\\1554108658.py:1: SettingWithCopyWarning: \n",
      "A value is trying to be set on a copy of a slice from a DataFrame.\n",
      "Try using .loc[row_indexer,col_indexer] = value instead\n",
      "\n",
      "See the caveats in the documentation: https://pandas.pydata.org/pandas-docs/stable/user_guide/indexing.html#returning-a-view-versus-a-copy\n",
      "  df1['text_clean'] = preprocess_corpus(df1['text'])\n"
     ]
    }
   ],
   "source": [
    "df1['text_clean'] = preprocess_corpus(df1['text'])"
   ]
  },
  {
   "cell_type": "code",
   "execution_count": 678,
   "metadata": {},
   "outputs": [
    {
     "data": {
      "text/plain": [
       "\"european commission dg competition case m.9001 kuehne nagel temasek jv only english text available authentic regulation ec no 139/2004 merger procedure article b non-opposition date 24/07/2018 in electronic form eur-lex website document number 32018m9001 european commission brussels,24.7.2018 c final public version to notifying parties subject case m.9001 kuehne nagel/temasek/jv commission decision pursuant article b council regulation ec no 139/2004 article agreement european economic area dear sir madam on june european commission received notification proposed concentration pursuant article merger regulation kuehne nagel management ag `` k+n '' switzerland temasek holdings private limited `` temasek '' singapore acquire within meaning article b merger regulation joint control newly created joint venture `` jv '' singapore way purchase shares.3 the business activities undertakings concerned \\uf02d k+n globally active logistics company main activities sea freight airfreight overland forwarding well contract logistics \\uf02d temasek investment company broad range portfolio investments including financial services telecommunications media real estate life sciences energy transportation \\uf02d jv newly established company identify invest young logistics technology companies focus developing commercializing application technology logistics supply chain services products oj l 29.1.2004 p. 'merger regulation with effect december treaty functioning european union 'tfeu introduced certain changes replacement 'community 'union 'common market 'internal market the terminology tfeu used throughout decision oj l 3.1.1994 p. 'eea agreement publication official journal european union no c 09.07.2018 p. commission européenne dg comp merger registry bruxelles belgique europese commissie dg comp merger registry brussel belgië tel +32 229-91111 fax +32 229-64301 e-mail comp-merger-registry ec.europa.eu after examination notification european commission concluded notified operation falls within scope merger regulation paragraph commission notice simplified procedure treatment certain concentrations council regulation ec no 139/2004.4 for reasons set notice simplified procedure european commission decided oppose notified operation declare compatible internal market eea agreement this decision adopted application article b merger regulation article eea agreement for commission signed johannes laitenberger director-general oj c 14.12.2013 p.\""
      ]
     },
     "execution_count": 678,
     "metadata": {},
     "output_type": "execute_result"
    }
   ],
   "source": [
    "df1['text_clean'][1]"
   ]
  },
  {
   "attachments": {},
   "cell_type": "markdown",
   "metadata": {},
   "source": [
    "### Stemming and lemmatization"
   ]
  },
  {
   "cell_type": "code",
   "execution_count": 679,
   "metadata": {},
   "outputs": [],
   "source": [
    "lemmatizer = WordNetLemmatizer()\n",
    "stemmer = PorterStemmer()"
   ]
  },
  {
   "cell_type": "code",
   "execution_count": 680,
   "metadata": {},
   "outputs": [],
   "source": [
    "def stem_lemmatize(text):\n",
    "    stemmed = [stemmer.stem(token) for token in word_tokenize(text)]\n",
    "    lemmatized = [lemmatizer.lemmatize(token) for token in stemmed]\n",
    "    processed_text = ' '.join(lemmatized)\n",
    "    return processed_text"
   ]
  },
  {
   "cell_type": "code",
   "execution_count": 681,
   "metadata": {},
   "outputs": [
    {
     "name": "stderr",
     "output_type": "stream",
     "text": [
      "C:\\Users\\admin\\AppData\\Local\\Temp\\ipykernel_7976\\1935988413.py:1: SettingWithCopyWarning: \n",
      "A value is trying to be set on a copy of a slice from a DataFrame.\n",
      "Try using .loc[row_indexer,col_indexer] = value instead\n",
      "\n",
      "See the caveats in the documentation: https://pandas.pydata.org/pandas-docs/stable/user_guide/indexing.html#returning-a-view-versus-a-copy\n",
      "  df1['text_clean'] = [stem_lemmatize(text) for text in df1['text_clean']]\n"
     ]
    }
   ],
   "source": [
    "df1['text_clean'] = [stem_lemmatize(text) for text in df1['text_clean']]"
   ]
  },
  {
   "cell_type": "code",
   "execution_count": 682,
   "metadata": {},
   "outputs": [
    {
     "data": {
      "text/plain": [
       "\"european commiss dg competit case m.9001 kuehn nagel temasek jv onli english text avail authent regul ec no 139/2004 merger procedur articl b non-opposit date 24/07/2018 in electron form eur-lex websit document number 32018m9001 european commiss brussels,24.7.2018 c final public version to notifi parti subject case m.9001 kuehn nagel/temasek/jv commiss decis pursuant articl b council regul ec no 139/2004 articl agreement european econom area dear sir madam on june european commiss receiv notif propos concentr pursuant articl merger regul kuehn nagel manag ag `` k+n `` switzerland temasek hold privat limit `` temasek `` singapor acquir within mean articl b merger regul joint control newli creat joint ventur `` jv `` singapor way purchas shares.3 the busi activ undertak concern \\uf02d k+n global activ logist compani main activ sea freight airfreight overland forward well contract logist \\uf02d temasek invest compani broad rang portfolio invest includ financi servic telecommun medium real estat life scienc energi transport \\uf02d jv newli establish compani identifi invest young logist technolog compani focu develop commerci applic technolog logist suppli chain servic product oj l 29.1.2004 p. 'merger regul with effect decemb treati function european union 'tfeu introduc certain chang replac 'commun 'union 'common market 'intern market the terminolog tfeu use throughout decis oj l 3.1.1994 p. 'eea agreement public offici journal european union no c 09.07.2018 p. commiss européenn dg comp merger registri bruxel belgiqu europe commissi dg comp merger registri brussel belgië tel +32 229-91111 fax +32 229-64301 e-mail comp-merger-registri ec.europa.eu after examin notif european commiss conclud notifi oper fall within scope merger regul paragraph commiss notic simplifi procedur treatment certain concentr council regul ec no 139/2004.4 for reason set notic simplifi procedur european commiss decid oppos notifi oper declar compat intern market eea agreement thi decis adopt applic articl b merger regul articl eea agreement for commiss sign johann laitenberg director-gener oj c 14.12.2013 p .\""
      ]
     },
     "execution_count": 682,
     "metadata": {},
     "output_type": "execute_result"
    }
   ],
   "source": [
    "df1['text_clean'][1]"
   ]
  },
  {
   "cell_type": "code",
   "execution_count": 683,
   "metadata": {},
   "outputs": [],
   "source": [
    "# # save json file name\n",
    "# date = datetime.date.today().strftime('%Y_%m_%d')\n",
    "\n",
    "# file_name = f\"../../../data/processed/pre-processed_0_{date}.json\"\n",
    "# if os.path.exists(file_name):\n",
    "#     os.remove(file_name)\n",
    "\n",
    "# # save file as json\n",
    "# df1.to_json(file_name)"
   ]
  },
  {
   "attachments": {},
   "cell_type": "markdown",
   "metadata": {},
   "source": [
    "### Coreference resolution"
   ]
  },
  {
   "cell_type": "code",
   "execution_count": 2,
   "metadata": {},
   "outputs": [],
   "source": [
    "# installing neuralcoref from source\n",
    "#!git clone https://github.com/huggingface/neuralcoref.git\n",
    "#!cd \"D:\\Desktop\\Thesis\\predicting-merger-decision-outcomes\\src\\python\\notebook\\neuralcoref\"\n",
    "# !pip install -r requirements.txt\n",
    "# !pip install -e .\n",
    "# !pip install spacy\n",
    "# !pip install -U neuralcoref"
   ]
  },
  {
   "cell_type": "code",
   "execution_count": 687,
   "metadata": {},
   "outputs": [
    {
     "ename": "ModuleNotFoundError",
     "evalue": "No module named 'neuralcoref'",
     "output_type": "error",
     "traceback": [
      "\u001b[1;31m---------------------------------------------------------------------------\u001b[0m",
      "\u001b[1;31mModuleNotFoundError\u001b[0m                       Traceback (most recent call last)",
      "Cell \u001b[1;32mIn[687], line 1\u001b[0m\n\u001b[1;32m----> 1\u001b[0m \u001b[39mimport\u001b[39;00m \u001b[39mneuralcoref\u001b[39;00m\n\u001b[0;32m      2\u001b[0m \u001b[39mimport\u001b[39;00m \u001b[39mspacy\u001b[39;00m\n",
      "\u001b[1;31mModuleNotFoundError\u001b[0m: No module named 'neuralcoref'"
     ]
    }
   ],
   "source": [
    "import neuralcoref\n",
    "import spacy"
   ]
  },
  {
   "cell_type": "code",
   "execution_count": 688,
   "metadata": {},
   "outputs": [
    {
     "ename": "KeyboardInterrupt",
     "evalue": "",
     "output_type": "error",
     "traceback": [
      "\u001b[1;31m---------------------------------------------------------------------------\u001b[0m",
      "\u001b[1;31mKeyboardInterrupt\u001b[0m                         Traceback (most recent call last)",
      "Cell \u001b[1;32mIn[688], line 1\u001b[0m\n\u001b[1;32m----> 1\u001b[0m nlp \u001b[39m=\u001b[39m spacy\u001b[39m.\u001b[39;49mload(\u001b[39m'\u001b[39;49m\u001b[39men_core_web_lg\u001b[39;49m\u001b[39m'\u001b[39;49m) \n\u001b[0;32m      2\u001b[0m neuralcoref\u001b[39m.\u001b[39madd_to_pipe(nlp)\n",
      "File \u001b[1;32m~\\AppData\\Roaming\\Python\\Python310\\site-packages\\spacy\\__init__.py:30\u001b[0m, in \u001b[0;36mload\u001b[1;34m(name, **overrides)\u001b[0m\n\u001b[0;32m     28\u001b[0m \u001b[39mif\u001b[39;00m depr_path \u001b[39mnot\u001b[39;00m \u001b[39min\u001b[39;00m (\u001b[39mTrue\u001b[39;00m, \u001b[39mFalse\u001b[39;00m, \u001b[39mNone\u001b[39;00m):\n\u001b[0;32m     29\u001b[0m     warnings\u001b[39m.\u001b[39mwarn(Warnings\u001b[39m.\u001b[39mW001\u001b[39m.\u001b[39mformat(path\u001b[39m=\u001b[39mdepr_path), \u001b[39mDeprecationWarning\u001b[39;00m)\n\u001b[1;32m---> 30\u001b[0m \u001b[39mreturn\u001b[39;00m util\u001b[39m.\u001b[39mload_model(name, \u001b[39m*\u001b[39m\u001b[39m*\u001b[39moverrides)\n",
      "File \u001b[1;32m~\\AppData\\Roaming\\Python\\Python310\\site-packages\\spacy\\util.py:170\u001b[0m, in \u001b[0;36mload_model\u001b[1;34m(name, **overrides)\u001b[0m\n\u001b[0;32m    168\u001b[0m     \u001b[39mreturn\u001b[39;00m load_model_from_link(name, \u001b[39m*\u001b[39m\u001b[39m*\u001b[39moverrides)\n\u001b[0;32m    169\u001b[0m \u001b[39mif\u001b[39;00m is_package(name):  \u001b[39m# installed as package\u001b[39;00m\n\u001b[1;32m--> 170\u001b[0m     \u001b[39mreturn\u001b[39;00m load_model_from_package(name, \u001b[39m*\u001b[39m\u001b[39m*\u001b[39moverrides)\n\u001b[0;32m    171\u001b[0m \u001b[39mif\u001b[39;00m Path(name)\u001b[39m.\u001b[39mexists():  \u001b[39m# path to model data directory\u001b[39;00m\n\u001b[0;32m    172\u001b[0m     \u001b[39mreturn\u001b[39;00m load_model_from_path(Path(name), \u001b[39m*\u001b[39m\u001b[39m*\u001b[39moverrides)\n",
      "File \u001b[1;32m~\\AppData\\Roaming\\Python\\Python310\\site-packages\\spacy\\util.py:191\u001b[0m, in \u001b[0;36mload_model_from_package\u001b[1;34m(name, **overrides)\u001b[0m\n\u001b[0;32m    189\u001b[0m \u001b[39m\u001b[39m\u001b[39m\"\"\"Load a model from an installed package.\"\"\"\u001b[39;00m\n\u001b[0;32m    190\u001b[0m \u001b[39mcls\u001b[39m \u001b[39m=\u001b[39m importlib\u001b[39m.\u001b[39mimport_module(name)\n\u001b[1;32m--> 191\u001b[0m \u001b[39mreturn\u001b[39;00m \u001b[39mcls\u001b[39m\u001b[39m.\u001b[39mload(\u001b[39m*\u001b[39m\u001b[39m*\u001b[39moverrides)\n",
      "File \u001b[1;32mc:\\Users\\admin\\anaconda3\\envs\\thesis\\lib\\site-packages\\en_core_web_lg\\__init__.py:12\u001b[0m, in \u001b[0;36mload\u001b[1;34m(**overrides)\u001b[0m\n\u001b[0;32m     11\u001b[0m \u001b[39mdef\u001b[39;00m \u001b[39mload\u001b[39m(\u001b[39m*\u001b[39m\u001b[39m*\u001b[39moverrides):\n\u001b[1;32m---> 12\u001b[0m     \u001b[39mreturn\u001b[39;00m load_model_from_init_py(\u001b[39m__file__\u001b[39m, \u001b[39m*\u001b[39m\u001b[39m*\u001b[39moverrides)\n",
      "File \u001b[1;32m~\\AppData\\Roaming\\Python\\Python310\\site-packages\\spacy\\util.py:239\u001b[0m, in \u001b[0;36mload_model_from_init_py\u001b[1;34m(init_file, **overrides)\u001b[0m\n\u001b[0;32m    237\u001b[0m \u001b[39mif\u001b[39;00m \u001b[39mnot\u001b[39;00m model_path\u001b[39m.\u001b[39mexists():\n\u001b[0;32m    238\u001b[0m     \u001b[39mraise\u001b[39;00m \u001b[39mIOError\u001b[39;00m(Errors\u001b[39m.\u001b[39mE052\u001b[39m.\u001b[39mformat(path\u001b[39m=\u001b[39mpath2str(data_path)))\n\u001b[1;32m--> 239\u001b[0m \u001b[39mreturn\u001b[39;00m load_model_from_path(data_path, meta, \u001b[39m*\u001b[39m\u001b[39m*\u001b[39moverrides)\n",
      "File \u001b[1;32m~\\AppData\\Roaming\\Python\\Python310\\site-packages\\spacy\\util.py:222\u001b[0m, in \u001b[0;36mload_model_from_path\u001b[1;34m(model_path, meta, **overrides)\u001b[0m\n\u001b[0;32m    220\u001b[0m         component \u001b[39m=\u001b[39m nlp\u001b[39m.\u001b[39mcreate_pipe(factory, config\u001b[39m=\u001b[39mconfig)\n\u001b[0;32m    221\u001b[0m         nlp\u001b[39m.\u001b[39madd_pipe(component, name\u001b[39m=\u001b[39mname)\n\u001b[1;32m--> 222\u001b[0m \u001b[39mreturn\u001b[39;00m nlp\u001b[39m.\u001b[39;49mfrom_disk(model_path, exclude\u001b[39m=\u001b[39;49mdisable)\n",
      "File \u001b[1;32m~\\AppData\\Roaming\\Python\\Python310\\site-packages\\spacy\\language.py:974\u001b[0m, in \u001b[0;36mLanguage.from_disk\u001b[1;34m(self, path, exclude, disable)\u001b[0m\n\u001b[0;32m    971\u001b[0m \u001b[39mif\u001b[39;00m \u001b[39mnot\u001b[39;00m (path \u001b[39m/\u001b[39m \u001b[39m\"\u001b[39m\u001b[39mvocab\u001b[39m\u001b[39m\"\u001b[39m)\u001b[39m.\u001b[39mexists() \u001b[39mand\u001b[39;00m \u001b[39m\"\u001b[39m\u001b[39mvocab\u001b[39m\u001b[39m\"\u001b[39m \u001b[39mnot\u001b[39;00m \u001b[39min\u001b[39;00m exclude:\n\u001b[0;32m    972\u001b[0m     \u001b[39m# Convert to list here in case exclude is (default) tuple\u001b[39;00m\n\u001b[0;32m    973\u001b[0m     exclude \u001b[39m=\u001b[39m \u001b[39mlist\u001b[39m(exclude) \u001b[39m+\u001b[39m [\u001b[39m\"\u001b[39m\u001b[39mvocab\u001b[39m\u001b[39m\"\u001b[39m]\n\u001b[1;32m--> 974\u001b[0m util\u001b[39m.\u001b[39;49mfrom_disk(path, deserializers, exclude)\n\u001b[0;32m    975\u001b[0m \u001b[39mself\u001b[39m\u001b[39m.\u001b[39m_path \u001b[39m=\u001b[39m path\n\u001b[0;32m    976\u001b[0m \u001b[39mreturn\u001b[39;00m \u001b[39mself\u001b[39m\n",
      "File \u001b[1;32m~\\AppData\\Roaming\\Python\\Python310\\site-packages\\spacy\\util.py:690\u001b[0m, in \u001b[0;36mfrom_disk\u001b[1;34m(path, readers, exclude)\u001b[0m\n\u001b[0;32m    687\u001b[0m \u001b[39mfor\u001b[39;00m key, reader \u001b[39min\u001b[39;00m readers\u001b[39m.\u001b[39mitems():\n\u001b[0;32m    688\u001b[0m     \u001b[39m# Split to support file names like meta.json\u001b[39;00m\n\u001b[0;32m    689\u001b[0m     \u001b[39mif\u001b[39;00m key\u001b[39m.\u001b[39msplit(\u001b[39m\"\u001b[39m\u001b[39m.\u001b[39m\u001b[39m\"\u001b[39m)[\u001b[39m0\u001b[39m] \u001b[39mnot\u001b[39;00m \u001b[39min\u001b[39;00m exclude:\n\u001b[1;32m--> 690\u001b[0m         reader(path \u001b[39m/\u001b[39;49m key)\n\u001b[0;32m    691\u001b[0m \u001b[39mreturn\u001b[39;00m path\n",
      "File \u001b[1;32m~\\AppData\\Roaming\\Python\\Python310\\site-packages\\spacy\\language.py:950\u001b[0m, in \u001b[0;36mLanguage.from_disk.<locals>.deserialize_vocab\u001b[1;34m(path)\u001b[0m\n\u001b[0;32m    948\u001b[0m \u001b[39mdef\u001b[39;00m \u001b[39mdeserialize_vocab\u001b[39m(path):\n\u001b[0;32m    949\u001b[0m     \u001b[39mif\u001b[39;00m path\u001b[39m.\u001b[39mexists():\n\u001b[1;32m--> 950\u001b[0m         \u001b[39mself\u001b[39;49m\u001b[39m.\u001b[39;49mvocab\u001b[39m.\u001b[39;49mfrom_disk(path)\n\u001b[0;32m    951\u001b[0m     _fix_pretrained_vectors_name(\u001b[39mself\u001b[39m)\n",
      "File \u001b[1;32m~\\AppData\\Roaming\\Python\\Python310\\site-packages\\spacy\\vocab.pyx:475\u001b[0m, in \u001b[0;36mspacy.vocab.Vocab.from_disk\u001b[1;34m()\u001b[0m\n",
      "File \u001b[1;32m~\\AppData\\Roaming\\Python\\Python310\\site-packages\\spacy\\vectors.pyx:432\u001b[0m, in \u001b[0;36mspacy.vectors.Vectors.from_disk\u001b[1;34m()\u001b[0m\n",
      "File \u001b[1;32m~\\AppData\\Roaming\\Python\\Python310\\site-packages\\spacy\\util.py:690\u001b[0m, in \u001b[0;36mfrom_disk\u001b[1;34m(path, readers, exclude)\u001b[0m\n\u001b[0;32m    687\u001b[0m \u001b[39mfor\u001b[39;00m key, reader \u001b[39min\u001b[39;00m readers\u001b[39m.\u001b[39mitems():\n\u001b[0;32m    688\u001b[0m     \u001b[39m# Split to support file names like meta.json\u001b[39;00m\n\u001b[0;32m    689\u001b[0m     \u001b[39mif\u001b[39;00m key\u001b[39m.\u001b[39msplit(\u001b[39m\"\u001b[39m\u001b[39m.\u001b[39m\u001b[39m\"\u001b[39m)[\u001b[39m0\u001b[39m] \u001b[39mnot\u001b[39;00m \u001b[39min\u001b[39;00m exclude:\n\u001b[1;32m--> 690\u001b[0m         reader(path \u001b[39m/\u001b[39;49m key)\n\u001b[0;32m    691\u001b[0m \u001b[39mreturn\u001b[39;00m path\n",
      "File \u001b[1;32m~\\AppData\\Roaming\\Python\\Python310\\site-packages\\spacy\\vectors.pyx:425\u001b[0m, in \u001b[0;36mspacy.vectors.Vectors.from_disk.load_vectors\u001b[1;34m()\u001b[0m\n",
      "File \u001b[1;32mc:\\Users\\admin\\anaconda3\\envs\\thesis\\lib\\site-packages\\numpy\\lib\\npyio.py:432\u001b[0m, in \u001b[0;36mload\u001b[1;34m(file, mmap_mode, allow_pickle, fix_imports, encoding, max_header_size)\u001b[0m\n\u001b[0;32m    429\u001b[0m         \u001b[39mreturn\u001b[39;00m \u001b[39mformat\u001b[39m\u001b[39m.\u001b[39mopen_memmap(file, mode\u001b[39m=\u001b[39mmmap_mode,\n\u001b[0;32m    430\u001b[0m                                   max_header_size\u001b[39m=\u001b[39mmax_header_size)\n\u001b[0;32m    431\u001b[0m     \u001b[39melse\u001b[39;00m:\n\u001b[1;32m--> 432\u001b[0m         \u001b[39mreturn\u001b[39;00m \u001b[39mformat\u001b[39;49m\u001b[39m.\u001b[39;49mread_array(fid, allow_pickle\u001b[39m=\u001b[39;49mallow_pickle,\n\u001b[0;32m    433\u001b[0m                                  pickle_kwargs\u001b[39m=\u001b[39;49mpickle_kwargs,\n\u001b[0;32m    434\u001b[0m                                  max_header_size\u001b[39m=\u001b[39;49mmax_header_size)\n\u001b[0;32m    435\u001b[0m \u001b[39melse\u001b[39;00m:\n\u001b[0;32m    436\u001b[0m     \u001b[39m# Try a pickle\u001b[39;00m\n\u001b[0;32m    437\u001b[0m     \u001b[39mif\u001b[39;00m \u001b[39mnot\u001b[39;00m allow_pickle:\n",
      "File \u001b[1;32mc:\\Users\\admin\\anaconda3\\envs\\thesis\\lib\\site-packages\\numpy\\lib\\format.py:790\u001b[0m, in \u001b[0;36mread_array\u001b[1;34m(fp, allow_pickle, pickle_kwargs, max_header_size)\u001b[0m\n\u001b[0;32m    787\u001b[0m \u001b[39melse\u001b[39;00m:\n\u001b[0;32m    788\u001b[0m     \u001b[39mif\u001b[39;00m isfileobj(fp):\n\u001b[0;32m    789\u001b[0m         \u001b[39m# We can use the fast fromfile() function.\u001b[39;00m\n\u001b[1;32m--> 790\u001b[0m         array \u001b[39m=\u001b[39m numpy\u001b[39m.\u001b[39;49mfromfile(fp, dtype\u001b[39m=\u001b[39;49mdtype, count\u001b[39m=\u001b[39;49mcount)\n\u001b[0;32m    791\u001b[0m     \u001b[39melse\u001b[39;00m:\n\u001b[0;32m    792\u001b[0m         \u001b[39m# This is not a real file. We have to read it the\u001b[39;00m\n\u001b[0;32m    793\u001b[0m         \u001b[39m# memory-intensive way.\u001b[39;00m\n\u001b[1;32m   (...)\u001b[0m\n\u001b[0;32m    801\u001b[0m         \u001b[39m# not correctly instantiate zero-width string dtypes; see\u001b[39;00m\n\u001b[0;32m    802\u001b[0m         \u001b[39m# https://github.com/numpy/numpy/pull/6430\u001b[39;00m\n\u001b[0;32m    803\u001b[0m         array \u001b[39m=\u001b[39m numpy\u001b[39m.\u001b[39mndarray(count, dtype\u001b[39m=\u001b[39mdtype)\n",
      "\u001b[1;31mKeyboardInterrupt\u001b[0m: "
     ]
    }
   ],
   "source": [
    "nlp = spacy.load('en_core_web_lg') \n",
    "neuralcoref.add_to_pipe(nlp)"
   ]
  },
  {
   "cell_type": "code",
   "execution_count": 684,
   "metadata": {},
   "outputs": [
    {
     "ename": "OSError",
     "evalue": "[E050] Can't find model 'en'. It doesn't seem to be a shortcut link, a Python package or a valid path to a data directory.",
     "output_type": "error",
     "traceback": [
      "\u001b[1;31m---------------------------------------------------------------------------\u001b[0m",
      "\u001b[1;31mOSError\u001b[0m                                   Traceback (most recent call last)",
      "Cell \u001b[1;32mIn[684], line 2\u001b[0m\n\u001b[0;32m      1\u001b[0m \u001b[39mimport\u001b[39;00m \u001b[39mspacy\u001b[39;00m\n\u001b[1;32m----> 2\u001b[0m nlp \u001b[39m=\u001b[39m spacy\u001b[39m.\u001b[39;49mload(\u001b[39m'\u001b[39;49m\u001b[39men\u001b[39;49m\u001b[39m'\u001b[39;49m)\n",
      "File \u001b[1;32m~\\AppData\\Roaming\\Python\\Python310\\site-packages\\spacy\\__init__.py:30\u001b[0m, in \u001b[0;36mload\u001b[1;34m(name, **overrides)\u001b[0m\n\u001b[0;32m     28\u001b[0m \u001b[39mif\u001b[39;00m depr_path \u001b[39mnot\u001b[39;00m \u001b[39min\u001b[39;00m (\u001b[39mTrue\u001b[39;00m, \u001b[39mFalse\u001b[39;00m, \u001b[39mNone\u001b[39;00m):\n\u001b[0;32m     29\u001b[0m     warnings\u001b[39m.\u001b[39mwarn(Warnings\u001b[39m.\u001b[39mW001\u001b[39m.\u001b[39mformat(path\u001b[39m=\u001b[39mdepr_path), \u001b[39mDeprecationWarning\u001b[39;00m)\n\u001b[1;32m---> 30\u001b[0m \u001b[39mreturn\u001b[39;00m util\u001b[39m.\u001b[39mload_model(name, \u001b[39m*\u001b[39m\u001b[39m*\u001b[39moverrides)\n",
      "File \u001b[1;32m~\\AppData\\Roaming\\Python\\Python310\\site-packages\\spacy\\util.py:175\u001b[0m, in \u001b[0;36mload_model\u001b[1;34m(name, **overrides)\u001b[0m\n\u001b[0;32m    173\u001b[0m \u001b[39melif\u001b[39;00m \u001b[39mhasattr\u001b[39m(name, \u001b[39m\"\u001b[39m\u001b[39mexists\u001b[39m\u001b[39m\"\u001b[39m):  \u001b[39m# Path or Path-like to model data\u001b[39;00m\n\u001b[0;32m    174\u001b[0m     \u001b[39mreturn\u001b[39;00m load_model_from_path(name, \u001b[39m*\u001b[39m\u001b[39m*\u001b[39moverrides)\n\u001b[1;32m--> 175\u001b[0m \u001b[39mraise\u001b[39;00m \u001b[39mIOError\u001b[39;00m(Errors\u001b[39m.\u001b[39mE050\u001b[39m.\u001b[39mformat(name\u001b[39m=\u001b[39mname))\n",
      "\u001b[1;31mOSError\u001b[0m: [E050] Can't find model 'en'. It doesn't seem to be a shortcut link, a Python package or a valid path to a data directory."
     ]
    }
   ],
   "source": [
    "import spacy\n",
    "nlp = spacy.load('en')"
   ]
  },
  {
   "cell_type": "code",
   "execution_count": null,
   "metadata": {},
   "outputs": [],
   "source": [
    "def coref_res(texts):\n",
    "    doc = nlp(texts)\n",
    "    clean = doc._.coref_resolved\n",
    "    return clean\n",
    "\n",
    "df['text_clean'] = [coref_res(text) for text in df['text_clean']]"
   ]
  },
  {
   "attachments": {},
   "cell_type": "markdown",
   "metadata": {},
   "source": [
    "### Drop based on TFIDF"
   ]
  },
  {
   "cell_type": "code",
   "execution_count": null,
   "metadata": {},
   "outputs": [],
   "source": [
    "#TODO: remove highly repeating words"
   ]
  },
  {
   "attachments": {},
   "cell_type": "markdown",
   "metadata": {},
   "source": [
    "### Language detection"
   ]
  },
  {
   "cell_type": "code",
   "execution_count": null,
   "metadata": {},
   "outputs": [],
   "source": [
    "for index, row in df.iterrows():\n",
    "    df.at[index, 'language'] = detect(df.at[index, 'text_clean'])\n",
    "\n",
    "df['language'].value_counts()"
   ]
  },
  {
   "cell_type": "code",
   "execution_count": null,
   "metadata": {},
   "outputs": [],
   "source": [
    "df = df[df['language']==\"en\"]"
   ]
  }
 ],
 "metadata": {
  "kernelspec": {
   "display_name": "thesis",
   "language": "python",
   "name": "python3"
  },
  "language_info": {
   "codemirror_mode": {
    "name": "ipython",
    "version": 3
   },
   "file_extension": ".py",
   "mimetype": "text/x-python",
   "name": "python",
   "nbconvert_exporter": "python",
   "pygments_lexer": "ipython3",
   "version": "3.10.4"
  },
  "orig_nbformat": 4,
  "vscode": {
   "interpreter": {
    "hash": "b8a34a3bb875764d64c764b9cffa891f179e7153a1578da198ecc075e870264c"
   }
  }
 },
 "nbformat": 4,
 "nbformat_minor": 2
}
