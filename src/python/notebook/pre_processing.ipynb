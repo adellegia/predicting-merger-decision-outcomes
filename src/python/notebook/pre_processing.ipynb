{
 "cells": [
  {
   "attachments": {},
   "cell_type": "markdown",
   "metadata": {},
   "source": [
    "## Software Requirements"
   ]
  },
  {
   "cell_type": "code",
   "execution_count": null,
   "metadata": {},
   "outputs": [],
   "source": [
    "!conda env create -f environment.yml"
   ]
  },
  {
   "cell_type": "code",
   "execution_count": null,
   "metadata": {},
   "outputs": [],
   "source": [
    "!conda activate thesis"
   ]
  },
  {
   "cell_type": "code",
   "execution_count": 1,
   "metadata": {},
   "outputs": [],
   "source": [
    "# Data visualization\n",
    "import matplotlib.pyplot as plt \n",
    "\n",
    "# Data manipulation\n",
    "import pandas as pd\n",
    "import numpy as np\n",
    "import csv\n",
    "from zipfile import ZipFile"
   ]
  },
  {
   "cell_type": "code",
   "execution_count": 2,
   "metadata": {},
   "outputs": [],
   "source": [
    "# Webscraping\n",
    "import glob\n",
    "import requests\n",
    "from bs4 import BeautifulSoup\n",
    "import time\n",
    "import datetime\n",
    "from pandas.core.common import flatten\n",
    "import os\n",
    "from itertools import chain\n",
    "from tqdm import tqdm\n",
    "import json\n",
    "import urllib.request"
   ]
  },
  {
   "cell_type": "code",
   "execution_count": 3,
   "metadata": {},
   "outputs": [],
   "source": [
    "# Parsing and pre-processing\n",
    "from glob import glob\n",
    "import os \n",
    "import re\n",
    "\n",
    "from pdfminer.high_level import extract_text\n",
    "import pdfplumber\n",
    "from langdetect import detect, DetectorFactory\n",
    "\n",
    "import nltk\n",
    "from nltk.corpus import stopwords\n",
    "from nltk.tokenize import sent_tokenize, word_tokenize\n",
    "from string import punctuation\n",
    "from nltk.stem.porter import PorterStemmer\n",
    "from nltk.stem import WordNetLemmatizer"
   ]
  },
  {
   "cell_type": "code",
   "execution_count": 4,
   "metadata": {},
   "outputs": [],
   "source": [
    "import sys\n",
    "sys.path.append(f'../../python')\n",
    "from scraper import createFolder, get_merger_links, download_pdf, get_merger_info, parse_pdf"
   ]
  },
  {
   "cell_type": "code",
   "execution_count": 5,
   "metadata": {},
   "outputs": [],
   "source": [
    "# Vector representations and embeddings\n",
    "from sklearn.feature_extraction.text import TfidfVectorizer\n",
    "import gensim"
   ]
  },
  {
   "cell_type": "code",
   "execution_count": 6,
   "metadata": {},
   "outputs": [],
   "source": [
    "# Logistic and XGboost\n",
    "from sklearn.model_selection import train_test_split\n",
    "from sklearn.preprocessing import LabelEncoder\n",
    "from sklearn.linear_model import LogisticRegression\n",
    "from sklearn.metrics import accuracy_score, precision_recall_fscore_support, precision_score, recall_score\n",
    "from xgboost import XGBClassifier\n",
    "import pickle"
   ]
  },
  {
   "cell_type": "code",
   "execution_count": 7,
   "metadata": {},
   "outputs": [
    {
     "name": "stderr",
     "output_type": "stream",
     "text": [
      "c:\\Users\\admin\\anaconda3\\envs\\thesis\\lib\\site-packages\\tqdm\\auto.py:22: TqdmWarning: IProgress not found. Please update jupyter and ipywidgets. See https://ipywidgets.readthedocs.io/en/stable/user_install.html\n",
      "  from .autonotebook import tqdm as notebook_tqdm\n"
     ]
    }
   ],
   "source": [
    "# LSTM \n",
    "from torchtext.data.utils import get_tokenizer\n",
    "from torchtext.vocab import build_vocab_from_iterator\n",
    "from torch.utils.data import DataLoader\n",
    "\n",
    "import torch\n",
    "import torch.nn as nn\n",
    "from torch.nn import functional as F\n",
    "import torch.optim as optim\n",
    "import gc"
   ]
  },
  {
   "cell_type": "code",
   "execution_count": 8,
   "metadata": {},
   "outputs": [],
   "source": [
    "# BERT models\n",
    "from torch.utils.data import TensorDataset, RandomSampler, SequentialSampler\n",
    "import transformers\n",
    "from transformers import AutoModel, BertTokenizerFast"
   ]
  },
  {
   "cell_type": "code",
   "execution_count": 9,
   "metadata": {},
   "outputs": [],
   "source": [
    "# specify GPU\n",
    "device = \"cuda\" if torch.cuda.is_available() else \"cpu\""
   ]
  },
  {
   "attachments": {},
   "cell_type": "markdown",
   "metadata": {},
   "source": [
    "## Data Pre-processing"
   ]
  },
  {
   "cell_type": "code",
   "execution_count": 10,
   "metadata": {},
   "outputs": [],
   "source": [
    "df = pd.read_json(r\"../../../data/processed/data_merged_2023_01_27.json\") \n",
    "df['id'] = df.index"
   ]
  },
  {
   "cell_type": "code",
   "execution_count": 11,
   "metadata": {},
   "outputs": [
    {
     "data": {
      "text/plain": [
       "en    1773\n",
       "fr       3\n",
       "de       1\n",
       "sv       1\n",
       "Name: lang, dtype: int64"
      ]
     },
     "execution_count": 11,
     "metadata": {},
     "output_type": "execute_result"
    }
   ],
   "source": [
    "df['lang'].value_counts()"
   ]
  },
  {
   "attachments": {},
   "cell_type": "markdown",
   "metadata": {},
   "source": [
    "### Subset English merger decisions"
   ]
  },
  {
   "cell_type": "code",
   "execution_count": 12,
   "metadata": {},
   "outputs": [],
   "source": [
    "# df[df['lang'] !=\"en\"]\n",
    "df = df[df['lang']==\"en\"]\n"
   ]
  },
  {
   "cell_type": "code",
   "execution_count": 13,
   "metadata": {},
   "outputs": [
    {
     "data": {
      "text/plain": [
       "art6.0    1240\n",
       "art6.1     358\n",
       "art8.2     114\n",
       "art8.1      47\n",
       "art8.3      14\n",
       "Name: article, dtype: int64"
      ]
     },
     "execution_count": 13,
     "metadata": {},
     "output_type": "execute_result"
    }
   ],
   "source": [
    "df['article'].value_counts()"
   ]
  },
  {
   "cell_type": "code",
   "execution_count": 14,
   "metadata": {},
   "outputs": [
    {
     "data": {
      "text/plain": [
       "' \\nEUROPEAN COMMISSION \\nDG Competition \\n \\n \\n \\n \\nCase M.10568 - IIF INTERNATIONAL \\nHOLDING / G+E GETEC HOLDING \\n \\n \\n \\n \\nOnly the English text is available and authentic. \\n \\n \\n \\nREGULATION (EC) No 139/2004 \\nMERGER PROCEDURE \\n \\n \\n \\nArticle 6(1)(b) NON-OPPOSITION \\nDate: 03/03/2022 \\n \\n \\n \\n \\n \\n \\n \\n \\n \\n \\n \\nIn electronic form on the EUR-Lex website under document \\nnumber 32022M10568 \\n   \\nEUROPEAN COMMISSION \\n \\nBrussels, 3.3.2022 \\nC(2022) 1432 final \\nPUBLIC VERSION \\nIIF Int’l Holding L.P. \\nUgland House, South Church Street \\nKY1 1104 George Town \\nCayman Islands \\nSubject:  Case M.10568 – IIF INTERNATIONAL HOLDING / G+E GETEC \\nHOLDING \\nCommission decision pursuant to Article 6(1)(b) of Council Regulation \\n(EC) No 139/20041 and Article 57 of the Agreement on the European \\nEconomic Area2  \\nDear Sir or Madam, \\n1.  On 9 February 2022, the European Commission received notification of a proposed \\nconcentration  pursuant  to  Article  4  of  the  Merger  Regulation  by  which  the \\nundertaking  IIF  Int’l  Holding  L.P.  (“IIF”,  Cayman  Islands),  controlled  by  three \\nindividuals (Mr Vumindaba Dube, Mr Henry Fayne and Mr Michael Nagle) acquires \\nwithin the meaning of Article 3(1)(b) of the Merger Regulation sole control over the \\nwhole of the undertaking G+E GETEC Holding GmbH (“GETEC”, Germany) by way \\nof purchase of shares.3 \\n2.  The business activities of the undertakings concerned are: \\n−  IIF is an investment fund specialised in infrastructure investments, \\n−  GETEC provides heating, cooling and electricity systems, and energy services in \\nGermany, Italy, Switzerland, the Netherlands, Austria, Czechia, Hungary, Poland, \\nRomania, Belgium and Luxembourg. \\n                                                 \\n1  OJ L 24, 29.1.2004, p. 1 (the ‘Merger Regulation’). With effect from 1 December 2009, the Treaty on \\nthe  Functioning  of  the  European  Union  (‘TFEU’)  has  introduced  certain  changes,  such  as  the \\nreplacement of ‘Community’ by ‘Union’ and ‘common market’ by ‘internal market’. The terminology \\nof the TFEU will be used throughout this decision. \\n2   OJ L 1, 3.1.1994, p. 3 (the ‘EEA Agreement’). \\n3   Publication in the Official Journal of the European Union No C 75, 16.02.2022, p.6. \\n \\nCommission européenne, DG COMP MERGER REGISTRY, 1049 Bruxelles, BELGIQUE  \\nEuropese Commissie, DG COMP MERGER REGISTRY, 1049 Brussel,  BELGIË \\n \\nTel: +32 229-91111. Fax: +32 229-64301. E-mail: COMP-MERGER-REGISTRY@ec.europa.eu. \\n   \\n3.  After examination of the notification, the European Commission has concluded that \\nthe  notified  operation  falls  within  the  scope  of  the  Merger  Regulation  and  of \\nparagraph 5(c) of the Commission Notice on a simplified procedure for treatment of \\ncertain concentrations under Council Regulation (EC) No 139/2004.4 \\n4.  For  the  reasons  set  out  in  the  Notice  on  a  simplified  procedure,  the  European \\nCommission  has  decided  not  to  oppose  the  notified  operation  and  to  declare  it \\ncompatible with the internal market and with the EEA Agreement. This decision is \\nadopted in application of Article 6(1)(b) of the Merger Regulation and Article 57 of \\nthe EEA Agreement. \\n \\nFor the Commission \\n \\n \\n(Signed) \\nOlivier GUERSENT \\nDirector-General \\n                                                 \\n4   OJ C 366, 14.12.2013, p. 5. \\n2 '"
      ]
     },
     "execution_count": 14,
     "metadata": {},
     "output_type": "execute_result"
    }
   ],
   "source": [
    "df.text[0]"
   ]
  },
  {
   "attachments": {},
   "cell_type": "markdown",
   "metadata": {},
   "source": [
    "### Extract specific sections"
   ]
  },
  {
   "cell_type": "code",
   "execution_count": 15,
   "metadata": {},
   "outputs": [],
   "source": [
    "#### TODO: regex sections depending on article"
   ]
  },
  {
   "attachments": {},
   "cell_type": "markdown",
   "metadata": {},
   "source": [
    "### Removal of stopwords, punctuations, numeric characters"
   ]
  },
  {
   "cell_type": "code",
   "execution_count": 16,
   "metadata": {},
   "outputs": [
    {
     "name": "stderr",
     "output_type": "stream",
     "text": [
      "[nltk_data] Downloading package stopwords to\n",
      "[nltk_data]     C:\\Users\\admin\\AppData\\Roaming\\nltk_data...\n",
      "[nltk_data]   Package stopwords is already up-to-date!\n"
     ]
    }
   ],
   "source": [
    "nltk.download(\"stopwords\")\n",
    "from nltk.corpus import stopwords"
   ]
  },
  {
   "cell_type": "code",
   "execution_count": 17,
   "metadata": {},
   "outputs": [
    {
     "name": "stderr",
     "output_type": "stream",
     "text": [
      "[nltk_data] Downloading package punkt to\n",
      "[nltk_data]     C:\\Users\\admin\\AppData\\Roaming\\nltk_data...\n",
      "[nltk_data]   Package punkt is already up-to-date!\n"
     ]
    },
    {
     "data": {
      "text/plain": [
       "True"
      ]
     },
     "execution_count": 17,
     "metadata": {},
     "output_type": "execute_result"
    }
   ],
   "source": [
    "nltk.download('punkt')"
   ]
  },
  {
   "cell_type": "code",
   "execution_count": 18,
   "metadata": {},
   "outputs": [],
   "source": [
    "def preprocess_corpus(texts):\n",
    "    eng_stopwords = set(stopwords.words(\"english\"))\n",
    "    def remove_stops_digits(tokens):\n",
    "        token_list =  [token.lower() for token in tokens if token not in eng_stopwords and token not in punctuation and token.isdigit() == False]\n",
    "        processed_text = ' '.join(token_list)\n",
    "        return processed_text\n",
    "    return [remove_stops_digits(word_tokenize(text)) for text in texts]"
   ]
  },
  {
   "cell_type": "code",
   "execution_count": 19,
   "metadata": {},
   "outputs": [],
   "source": [
    "df['text_clean'] = preprocess_corpus(df['text'])"
   ]
  },
  {
   "cell_type": "code",
   "execution_count": 20,
   "metadata": {},
   "outputs": [
    {
     "data": {
      "text/plain": [
       "'european commission dg competition case m.10566 p66 h2 ee jv only english text available authentic regulation ec no 139/2004 merger procedure article b non-opposition date 04/03/2022 in electronic form eur-lex website document number 32022m10566 european commission brussels 4.3.2022 c final public version phillips city west blvd houston tx united states america h2 energy europe ag hohlstrasse 186/188 zürich switzerland subject case m.10566 – p66 h2 ee jv commission decision pursuant article b council regulation ec no 139/20041 article agreement european economic area2 dear sir madam on february european commission received notification proposed concentration pursuant article merger regulation undertakings phillips company “ p66 ” united states h2 energy europe ag “ h2 ee ” switzerland acquire within meaning article b merger regulation joint control whole undertaking newco austria way purchase shares.3 the business activities concerned undertakings \\uf02d p66 energy company amongst others runs fuel stations \\uf02d h2 ee active hydrogen technology development ecosystems renewable hydrogen oj l 29.1.2004 p. ‘ merger regulation ’ with effect december treaty functioning european union ‘ tfeu ’ introduced certain changes replacement ‘ community ’ ‘ union ’ ‘ common market ’ ‘ internal market ’ the terminology tfeu used throughout decision oj l 3.1.1994 p. ‘ eea agreement ’ publication official journal european union no c 21.2.2022 p. commission européenne dg comp merger registry bruxelles belgique europese commissie dg comp merger registry brussel belgië tel +32 229-91111 fax +32 229-64301 e-mail comp-merger-registry ec.europa.eu \\uf02d newco subsidiaries active development operation hydrogen refueling stations austria denmark germany after examination notification european commission concluded notified operation falls within scope merger regulation paragraph c commission notice simplified procedure treatment certain concentrations council regulation ec no 139/2004.4 for reasons set notice simplified procedure european commission decided oppose notified operation declare compatible internal market eea agreement this decision adopted application article b merger regulation article eea agreement for commission signed olivier guersent director-general oj c 14.12.2013 p.'"
      ]
     },
     "execution_count": 20,
     "metadata": {},
     "output_type": "execute_result"
    }
   ],
   "source": [
    "df['text_clean'][1]"
   ]
  },
  {
   "attachments": {},
   "cell_type": "markdown",
   "metadata": {},
   "source": [
    "### Stemming and lemmatization"
   ]
  },
  {
   "cell_type": "code",
   "execution_count": 21,
   "metadata": {},
   "outputs": [],
   "source": [
    "lemmatizer = WordNetLemmatizer()\n",
    "stemmer = PorterStemmer()"
   ]
  },
  {
   "cell_type": "code",
   "execution_count": 22,
   "metadata": {},
   "outputs": [],
   "source": [
    "def stem_lemmatize(text):\n",
    "    stemmed = [stemmer.stem(token) for token in word_tokenize(text)]\n",
    "    lemmatized = [lemmatizer.lemmatize(token) for token in stemmed]\n",
    "    processed_text = ' '.join(lemmatized)\n",
    "    return processed_text"
   ]
  },
  {
   "cell_type": "code",
   "execution_count": 23,
   "metadata": {},
   "outputs": [],
   "source": [
    "df['text_clean'] = [stem_lemmatize(text) for text in df['text_clean']]"
   ]
  },
  {
   "cell_type": "code",
   "execution_count": 24,
   "metadata": {},
   "outputs": [
    {
     "data": {
      "text/plain": [
       "'european commiss dg competit case m.10566 p66 h2 ee jv onli english text avail authent regul ec no 139/2004 merger procedur articl b non-opposit date 04/03/2022 in electron form eur-lex websit document number 32022m10566 european commiss brussel 4.3.2022 c final public version phillip citi west blvd houston tx unit state america h2 energi europ ag hohlstrass 186/188 zürich switzerland subject case m.10566 – p66 h2 ee jv commiss decis pursuant articl b council regul ec no 139/20041 articl agreement european econom area2 dear sir madam on februari european commiss receiv notif propos concentr pursuant articl merger regul undertak phillip compani “ p66 ” unit state h2 energi europ ag “ h2 ee ” switzerland acquir within mean articl b merger regul joint control whole undertak newco austria way purchas shares.3 the busi activ concern undertak \\uf02d p66 energi compani amongst other run fuel station \\uf02d h2 ee activ hydrogen technolog develop ecosystem renew hydrogen oj l 29.1.2004 p. ‘ merger regul ’ with effect decemb treati function european union ‘ tfeu ’ introduc certain chang replac ‘ commun ’ ‘ union ’ ‘ common market ’ ‘ intern market ’ the terminolog tfeu use throughout decis oj l 3.1.1994 p. ‘ eea agreement ’ public offici journal european union no c 21.2.2022 p. commiss européenn dg comp merger registri bruxel belgiqu europe commissi dg comp merger registri brussel belgië tel +32 229-91111 fax +32 229-64301 e-mail comp-merger-registri ec.europa.eu \\uf02d newco subsidiari activ develop oper hydrogen refuel station austria denmark germani after examin notif european commiss conclud notifi oper fall within scope merger regul paragraph c commiss notic simplifi procedur treatment certain concentr council regul ec no 139/2004.4 for reason set notic simplifi procedur european commiss decid oppos notifi oper declar compat intern market eea agreement thi decis adopt applic articl b merger regul articl eea agreement for commiss sign olivi guersent director-gener oj c 14.12.2013 p .'"
      ]
     },
     "execution_count": 24,
     "metadata": {},
     "output_type": "execute_result"
    }
   ],
   "source": [
    "df['text_clean'][1]"
   ]
  },
  {
   "attachments": {},
   "cell_type": "markdown",
   "metadata": {},
   "source": [
    "### Coreference resolution"
   ]
  },
  {
   "cell_type": "code",
   "execution_count": 2,
   "metadata": {},
   "outputs": [],
   "source": [
    "# installing neuralcoref from source\n",
    "#!git clone https://github.com/huggingface/neuralcoref.git\n",
    "#!cd \"D:\\Desktop\\Thesis\\predicting-merger-decision-outcomes\\src\\python\\notebook\\neuralcoref\"\n",
    "# !pip install -r requirements.txt\n",
    "# !pip install -e .\n",
    "# !pip install spacy\n",
    "# !pip install -U neuralcoref"
   ]
  },
  {
   "cell_type": "code",
   "execution_count": 13,
   "metadata": {},
   "outputs": [],
   "source": [
    "# import neuralcoref\n",
    "# import spacy"
   ]
  },
  {
   "cell_type": "code",
   "execution_count": 15,
   "metadata": {},
   "outputs": [],
   "source": [
    "# nlp = spacy.load('en_core_web_lg') \n",
    "# neuralcoref.add_to_pipe(nlp)"
   ]
  },
  {
   "cell_type": "code",
   "execution_count": null,
   "metadata": {},
   "outputs": [],
   "source": [
    "import spacy\n",
    "nlp = spacy.load('en')"
   ]
  },
  {
   "cell_type": "code",
   "execution_count": null,
   "metadata": {},
   "outputs": [],
   "source": [
    "def coref_res(texts):\n",
    "    doc = nlp(texts)\n",
    "    clean = doc._.coref_resolved\n",
    "    return clean\n",
    "\n",
    "df['text_clean'] = [coref_res(text) for text in df['text_clean']]"
   ]
  },
  {
   "attachments": {},
   "cell_type": "markdown",
   "metadata": {},
   "source": [
    "### Language detection"
   ]
  },
  {
   "cell_type": "code",
   "execution_count": null,
   "metadata": {},
   "outputs": [],
   "source": [
    "for index, row in df.iterrows():\n",
    "    df.at[index, 'language'] = detect(df.at[index, 'text_clean'])\n",
    "\n",
    "df['language'].value_counts()"
   ]
  },
  {
   "cell_type": "code",
   "execution_count": null,
   "metadata": {},
   "outputs": [],
   "source": [
    "df = df[df['language']==\"en\"]"
   ]
  }
 ],
 "metadata": {
  "kernelspec": {
   "display_name": "thesis",
   "language": "python",
   "name": "python3"
  },
  "language_info": {
   "codemirror_mode": {
    "name": "ipython",
    "version": 3
   },
   "file_extension": ".py",
   "mimetype": "text/x-python",
   "name": "python",
   "nbconvert_exporter": "python",
   "pygments_lexer": "ipython3",
   "version": "3.10.4"
  },
  "orig_nbformat": 4,
  "vscode": {
   "interpreter": {
    "hash": "b8a34a3bb875764d64c764b9cffa891f179e7153a1578da198ecc075e870264c"
   }
  }
 },
 "nbformat": 4,
 "nbformat_minor": 2
}
