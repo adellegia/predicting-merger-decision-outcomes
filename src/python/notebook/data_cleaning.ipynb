{
 "cells": [
  {
   "cell_type": "code",
   "execution_count": 1,
   "metadata": {},
   "outputs": [],
   "source": [
    "# Data visualization\n",
    "import matplotlib.pyplot as plt \n",
    "\n",
    "# Data manipulation\n",
    "import pandas as pd\n",
    "import numpy as np\n",
    "import csv\n",
    "from zipfile import ZipFile"
   ]
  },
  {
   "cell_type": "code",
   "execution_count": 2,
   "metadata": {},
   "outputs": [],
   "source": [
    "# Webscraping\n",
    "import glob\n",
    "import requests\n",
    "from bs4 import BeautifulSoup\n",
    "import time\n",
    "import datetime\n",
    "from pandas.core.common import flatten\n",
    "import os\n",
    "from itertools import chain\n",
    "from tqdm import tqdm\n",
    "import json\n",
    "import urllib.request"
   ]
  },
  {
   "cell_type": "code",
   "execution_count": 3,
   "metadata": {},
   "outputs": [],
   "source": [
    "# Parsing and pre-processing\n",
    "from glob import glob\n",
    "import os \n",
    "import re\n",
    "\n",
    "from pdfminer.high_level import extract_text\n",
    "import pdfplumber\n",
    "from langdetect import detect, DetectorFactory\n",
    "\n",
    "import nltk\n",
    "from nltk.corpus import stopwords\n",
    "from nltk.tokenize import sent_tokenize, word_tokenize\n",
    "from string import punctuation\n",
    "from nltk.stem.porter import PorterStemmer\n",
    "from nltk.stem import WordNetLemmatizer"
   ]
  },
  {
   "cell_type": "code",
   "execution_count": 4,
   "metadata": {},
   "outputs": [],
   "source": [
    "# Vector representations and embeddings\n",
    "from sklearn.feature_extraction.text import TfidfVectorizer\n",
    "import gensim"
   ]
  },
  {
   "cell_type": "code",
   "execution_count": 5,
   "metadata": {},
   "outputs": [],
   "source": [
    "# Logistic and XGboost\n",
    "from sklearn.model_selection import train_test_split\n",
    "from sklearn.preprocessing import LabelEncoder\n",
    "from sklearn.linear_model import LogisticRegression\n",
    "from sklearn.metrics import accuracy_score, precision_recall_fscore_support, precision_score, recall_score\n",
    "from xgboost import XGBClassifier\n",
    "import pickle"
   ]
  },
  {
   "cell_type": "code",
   "execution_count": 6,
   "metadata": {},
   "outputs": [
    {
     "name": "stderr",
     "output_type": "stream",
     "text": [
      "c:\\Users\\admin\\anaconda3\\envs\\thesis\\lib\\site-packages\\tqdm\\auto.py:22: TqdmWarning: IProgress not found. Please update jupyter and ipywidgets. See https://ipywidgets.readthedocs.io/en/stable/user_install.html\n",
      "  from .autonotebook import tqdm as notebook_tqdm\n"
     ]
    }
   ],
   "source": [
    "# LSTM \n",
    "from torchtext.data.utils import get_tokenizer\n",
    "from torchtext.vocab import build_vocab_from_iterator\n",
    "from torch.utils.data import DataLoader\n",
    "\n",
    "import torch\n",
    "import torch.nn as nn\n",
    "from torch.nn import functional as F\n",
    "import torch.optim as optim\n",
    "import gc"
   ]
  },
  {
   "cell_type": "code",
   "execution_count": 7,
   "metadata": {},
   "outputs": [],
   "source": [
    "# BERT models\n",
    "from torch.utils.data import TensorDataset, RandomSampler, SequentialSampler\n",
    "import transformers\n",
    "from transformers import AutoModel, BertTokenizerFast"
   ]
  },
  {
   "cell_type": "code",
   "execution_count": 8,
   "metadata": {},
   "outputs": [],
   "source": [
    "# specify GPU\n",
    "device = \"cuda\" if torch.cuda.is_available() else \"cpu\""
   ]
  },
  {
   "cell_type": "code",
   "execution_count": 403,
   "metadata": {},
   "outputs": [],
   "source": [
    "df = pd.read_json(r\"../../../data/processed/data_merged_2023_03_08.json\")"
   ]
  },
  {
   "attachments": {},
   "cell_type": "markdown",
   "metadata": {},
   "source": [
    "### I. Clean Simplified Text and Create sec_text"
   ]
  },
  {
   "cell_type": "code",
   "execution_count": 404,
   "metadata": {},
   "outputs": [],
   "source": [
    "import re\n",
    "\n",
    "def _parse_simplified_text2(text):\n",
    "    # Define the start and end patterns\n",
    "    start_pattern = re.compile(r'(?i)business activities of the undertakings concerned are|business activities')\n",
    "    end_pattern = re.compile(r'(?i)after examination of the notification|\\n \\n|\\n\\n')\n",
    "\n",
    "    result = \"None\"\n",
    "    try:\n",
    "        # Find the start and end positions of the patterns\n",
    "        start_pos = start_pattern.search(text).end()\n",
    "        end_match = end_pattern.search(text[start_pos:])\n",
    "        if end_match is None:\n",
    "            end_pos = len(text)\n",
    "        else:\n",
    "            end_pos = start_pos + end_match.start()\n",
    "\n",
    "        # Extract the text between the patterns\n",
    "        result = text[start_pos:end_pos].strip()\n",
    "    except AttributeError:\n",
    "        pass\n",
    "    except UnboundLocalError:\n",
    "        pass\n",
    "\n",
    "    return result\n"
   ]
  },
  {
   "cell_type": "code",
   "execution_count": 405,
   "metadata": {},
   "outputs": [],
   "source": [
    "# Simplified: parse again business activities\n",
    "df.loc[df['section_text'] == \"None\", \"section_text\"] = df.loc[df['section_text'] == \"None\", \"bsn_act\"].apply(_parse_simplified_text2)"
   ]
  },
  {
   "cell_type": "code",
   "execution_count": 406,
   "metadata": {},
   "outputs": [],
   "source": [
    "# Simplified: change section_text to simp_text where len_pdf <= 5 or section == \"None\"\n",
    "df.loc[df[\"len_pdf\"] <= 5, \"section_text\"] = df.loc[df[\"len_pdf\"] <= 5, \"simp_text\"]"
   ]
  },
  {
   "cell_type": "code",
   "execution_count": 407,
   "metadata": {},
   "outputs": [],
   "source": [
    "# Simplified: change sec_text to simp_text where len_pdf <= 5 or section == \"None\"\n",
    "df.loc[df[\"len_pdf\"] <= 5, \"sec_text\"] = df.loc[df[\"len_pdf\"] <= 5, \"simp_text\"]"
   ]
  },
  {
   "cell_type": "code",
   "execution_count": 408,
   "metadata": {},
   "outputs": [],
   "source": [
    "# Non-Simplified: Join the texts in 'section_text' using '\\n' as the separator\n",
    "df.loc[df[\"len_pdf\"] > 5, 'sec_text'] = df.loc[df[\"len_pdf\"] > 5, 'section_text'].apply(lambda lst: '\\n'.join(lst))"
   ]
  },
  {
   "cell_type": "code",
   "execution_count": 409,
   "metadata": {},
   "outputs": [],
   "source": [
    "df = df.reset_index(drop=True)"
   ]
  },
  {
   "cell_type": "code",
   "execution_count": 410,
   "metadata": {},
   "outputs": [
    {
     "data": {
      "text/plain": [
       "109"
      ]
     },
     "execution_count": 410,
     "metadata": {},
     "output_type": "execute_result"
    }
   ],
   "source": [
    "len(df[df['section_text'] == \"None\"])"
   ]
  },
  {
   "cell_type": "code",
   "execution_count": 411,
   "metadata": {},
   "outputs": [
    {
     "data": {
      "text/plain": [
       "0"
      ]
     },
     "execution_count": 411,
     "metadata": {},
     "output_type": "execute_result"
    }
   ],
   "source": [
    "len(df[df['sec_text'] == \"\"])"
   ]
  },
  {
   "attachments": {},
   "cell_type": "markdown",
   "metadata": {},
   "source": [
    "#### Drop if section_text is \"None\" or sec_text is \"\""
   ]
  },
  {
   "cell_type": "code",
   "execution_count": 412,
   "metadata": {},
   "outputs": [],
   "source": [
    "# Drop if section_text is \"None\"\n",
    "df = df[df['section_text'] != \"None\"].reset_index(drop=True)"
   ]
  },
  {
   "cell_type": "code",
   "execution_count": 413,
   "metadata": {},
   "outputs": [],
   "source": [
    "# Drop if sec_text is \"\"\n",
    "df = df[df['sec_text'] != \"\"].reset_index(drop=True)"
   ]
  },
  {
   "cell_type": "code",
   "execution_count": 414,
   "metadata": {},
   "outputs": [
    {
     "name": "stdout",
     "output_type": "stream",
     "text": [
      "<class 'pandas.core.frame.DataFrame'>\n",
      "RangeIndex: 15694 entries, 0 to 15693\n",
      "Data columns (total 15 columns):\n",
      " #   Column        Non-Null Count  Dtype  \n",
      "---  ------        --------------  -----  \n",
      " 0   date          15694 non-null  object \n",
      " 1   year          15601 non-null  float64\n",
      " 2   len_pdf       15694 non-null  int64  \n",
      " 3   article       15694 non-null  object \n",
      " 4   article_txt   15694 non-null  object \n",
      " 5   article_62    15694 non-null  object \n",
      " 6   article_new   15694 non-null  object \n",
      " 7   case_num      15694 non-null  object \n",
      " 8   filename      15694 non-null  object \n",
      " 9   file          15694 non-null  object \n",
      " 10  section_text  15694 non-null  object \n",
      " 11  bsn_act       15694 non-null  object \n",
      " 12  simp_text     15694 non-null  object \n",
      " 13  section       12236 non-null  object \n",
      " 14  sec_text      15694 non-null  object \n",
      "dtypes: float64(1), int64(1), object(13)\n",
      "memory usage: 1.8+ MB\n"
     ]
    }
   ],
   "source": [
    "df.info()"
   ]
  },
  {
   "cell_type": "code",
   "execution_count": 415,
   "metadata": {},
   "outputs": [
    {
     "data": {
      "text/plain": [
       "0        : \\n  for SL04: a private equity firm indirec...\n",
       "1        : \\n  for K+N: a globally active logistics co...\n",
       "7        : \\n−  for  BANKIA:  financial  services  and ...\n",
       "8        : \\n  for  KKR  :  investment  firm  that  pr...\n",
       "9        : \\n  Whirlpool  is  active  in  the  manufac...\n",
       "                               ...                        \n",
       "15240    : \\n  for  Cordes  &  Graefe:  wholesale  and...\n",
       "15310    : \\n  for Onex: a private equity firm control...\n",
       "15340    : \\n  REWE is mainly active in the retail dis...\n",
       "15478    : \\n– for Cargill: the international  producti...\n",
       "15504    : \\n  for AMC: AMC is active in cinema exhibi...\n",
       "Name: sec_text, Length: 3458, dtype: object"
      ]
     },
     "execution_count": 415,
     "metadata": {},
     "output_type": "execute_result"
    }
   ],
   "source": [
    "df[df['bsn_act']!=\"\"]['sec_text']"
   ]
  },
  {
   "cell_type": "code",
   "execution_count": 416,
   "metadata": {},
   "outputs": [
    {
     "data": {
      "text/plain": [
       "3458"
      ]
     },
     "execution_count": 416,
     "metadata": {},
     "output_type": "execute_result"
    }
   ],
   "source": [
    "len(df[df['bsn_act']!=\"\"]['sec_text'])"
   ]
  },
  {
   "cell_type": "code",
   "execution_count": 417,
   "metadata": {},
   "outputs": [
    {
     "data": {
      "text/plain": [
       "3438"
      ]
     },
     "execution_count": 417,
     "metadata": {},
     "output_type": "execute_result"
    }
   ],
   "source": [
    "# no. of cases under Simplified Procedure\n",
    "df[df['bsn_act']!=\"\"]['case_num'].nunique()"
   ]
  },
  {
   "attachments": {},
   "cell_type": "markdown",
   "metadata": {},
   "source": [
    "### II. Add length of sec_text"
   ]
  },
  {
   "cell_type": "code",
   "execution_count": 418,
   "metadata": {},
   "outputs": [],
   "source": [
    "df['count'] = df['sec_text'].str.split().apply(len)"
   ]
  },
  {
   "cell_type": "code",
   "execution_count": 419,
   "metadata": {},
   "outputs": [
    {
     "data": {
      "text/plain": [
       "<AxesSubplot: >"
      ]
     },
     "execution_count": 419,
     "metadata": {},
     "output_type": "execute_result"
    },
    {
     "data": {
      "image/png": "[encoded data removed]",
      "text/plain": [
       "<Figure size 640x480 with 1 Axes>"
      ]
     },
     "metadata": {},
     "output_type": "display_data"
    }
   ],
   "source": [
    "pd.Series(df['count']).hist(bins = 50)"
   ]
  },
  {
   "cell_type": "code",
   "execution_count": 420,
   "metadata": {},
   "outputs": [
    {
     "data": {
      "text/plain": [
       "13543"
      ]
     },
     "execution_count": 420,
     "metadata": {},
     "output_type": "execute_result"
    }
   ],
   "source": [
    "len(df[df['count']<=2500])"
   ]
  },
  {
   "cell_type": "code",
   "execution_count": 421,
   "metadata": {},
   "outputs": [
    {
     "data": {
      "text/plain": [
       "8        : \\n  for  KKR  :  investment  firm  that  pr...\n",
       "10       : \\n–  for GIC: GIC is the holding company for...\n",
       "11       : \\n–  MAGNA is an automotive supplier which m...\n",
       "13       (6)  Pursuant to an agreement and plan of merg...\n",
       "18       : \\n  Huaxin is a wholly PRC State-owned indu...\n",
       "                               ...                        \n",
       "15590    38.  For the above mentioned reasons, the Comm...\n",
       "15598    (1258)  The Commission concludes that it is li...\n",
       "15660    29.  For the above mentioned reasons, the Comm...\n",
       "15665    26.  For the above mentioned reasons, the Comm...\n",
       "15681    (25)  For the above mentioned reasons, the Com...\n",
       "Name: sec_text, Length: 1478, dtype: object"
      ]
     },
     "execution_count": 421,
     "metadata": {},
     "output_type": "execute_result"
    }
   ],
   "source": [
    "df[df['count']<50]['sec_text']"
   ]
  },
  {
   "attachments": {},
   "cell_type": "markdown",
   "metadata": {},
   "source": [
    "#### Drop count with sec_text <=20"
   ]
  },
  {
   "cell_type": "code",
   "execution_count": 422,
   "metadata": {},
   "outputs": [],
   "source": [
    "df = df[df['count']>20].reset_index(drop=True)"
   ]
  },
  {
   "attachments": {},
   "cell_type": "markdown",
   "metadata": {},
   "source": [
    "### III. Drop duplicates based on file and sec_text"
   ]
  },
  {
   "cell_type": "code",
   "execution_count": 423,
   "metadata": {},
   "outputs": [],
   "source": [
    "df.drop_duplicates(subset=['file', 'sec_text'], keep='first', inplace=True)\n",
    "\n",
    "df=df.reset_index(drop=True)"
   ]
  },
  {
   "attachments": {},
   "cell_type": "markdown",
   "metadata": {},
   "source": [
    "### IV. Rename Articles"
   ]
  },
  {
   "cell_type": "code",
   "execution_count": 424,
   "metadata": {},
   "outputs": [],
   "source": [
    "df['article'] = df['article'].replace('art6.1', 'article6(2)')\n",
    "df['article'] = df['article'].replace('art6.0', 'article6(1)(b)')\n",
    "df['article'] = df['article'].replace('art8.1', 'article8(1)')\n",
    "df['article'] = df['article'].replace('art8.2', 'article8(2)')\n",
    "df['article'] = df['article'].replace('art8.3', 'article8(3)')\n",
    "df['article'] = df['article'].replace('art9.3', 'referral')"
   ]
  },
  {
   "cell_type": "code",
   "execution_count": 427,
   "metadata": {},
   "outputs": [
    {
     "data": {
      "text/plain": [
       "article_txt\n",
       "None                83\n",
       "article17(2)         8\n",
       "article21            1\n",
       "article22            4\n",
       "article22(1)         1\n",
       "article22(3)        13\n",
       "article232           1\n",
       "article4(4)         12\n",
       "article6(1)          9\n",
       "article6(1)(a)       1\n",
       "article6(1)(b)    4657\n",
       "article6(2)         55\n",
       "article6(4)          1\n",
       "article7(3)         28\n",
       "article8(1)         33\n",
       "article8(2)         63\n",
       "article8(3)         10\n",
       "article8(4)          1\n",
       "article9             3\n",
       "article9(2)          1\n",
       "article9(3)         24\n",
       "article9(3)(b)       2\n",
       "Name: case_num, dtype: int64"
      ]
     },
     "execution_count": 427,
     "metadata": {},
     "output_type": "execute_result"
    }
   ],
   "source": [
    "# no. of cases by article_txt\n",
    "df.groupby('article_txt')['case_num'].nunique().sort_index()"
   ]
  },
  {
   "cell_type": "code",
   "execution_count": 428,
   "metadata": {},
   "outputs": [],
   "source": [
    "# change 6(1) to 6.2\n",
    "df['article_txt'] = df['article_txt'].replace(\"article6(1)\", \"article6(2)\") "
   ]
  },
  {
   "cell_type": "code",
   "execution_count": 429,
   "metadata": {},
   "outputs": [
    {
     "data": {
      "text/plain": [
       "None                            13273\n",
       "inconjunctionwithart6(2)         1225\n",
       "inconjunctionwitharticle6(2)      120\n",
       "Name: article_62, dtype: int64"
      ]
     },
     "execution_count": 429,
     "metadata": {},
     "output_type": "execute_result"
    }
   ],
   "source": [
    "df['article_62'].value_counts()"
   ]
  },
  {
   "cell_type": "code",
   "execution_count": 430,
   "metadata": {},
   "outputs": [],
   "source": [
    "# change to 6.2 with in conjunction\n",
    "df['article_txt'] = np.where(df['article_62'].isin(['inconjunctionwitharticle6(2)', 'inconjunctionwithart6(2)']), 'article6(2)', df['article_txt'])"
   ]
  },
  {
   "attachments": {},
   "cell_type": "markdown",
   "metadata": {},
   "source": [
    "#### Clean article_new"
   ]
  },
  {
   "cell_type": "code",
   "execution_count": 440,
   "metadata": {},
   "outputs": [],
   "source": [
    "# referral\n",
    "mask = (df['article_txt'].isin([\"article4(4)\", \"article22(3)\", \"article22\", \"article9(3)\", \"article9(3)(b)\", \"article9\", \"article9(2)\"]))"
   ]
  },
  {
   "cell_type": "code",
   "execution_count": 441,
   "metadata": {},
   "outputs": [],
   "source": [
    "# article_new\n",
    "df['article_new'] = np.where(mask, 'referral', df['article_txt'])"
   ]
  },
  {
   "cell_type": "code",
   "execution_count": 442,
   "metadata": {},
   "outputs": [],
   "source": [
    "# refusal - Article 7.3\n",
    "mask73 = (df['article_txt'].isin([\"article7(3)\"]))\n",
    "df['article_new'] = np.where(mask73, 'article7(3)', df['article_new'])"
   ]
  },
  {
   "cell_type": "code",
   "execution_count": 443,
   "metadata": {},
   "outputs": [
    {
     "data": {
      "text/plain": [
       "article_new\n",
       "None                83\n",
       "article17(2)         8\n",
       "article21            1\n",
       "article22(1)         1\n",
       "article232           1\n",
       "article6(1)(a)       1\n",
       "article6(1)(b)    4505\n",
       "article6(2)        214\n",
       "article6(4)          1\n",
       "article7(3)         28\n",
       "article8(1)         33\n",
       "article8(2)         63\n",
       "article8(3)         10\n",
       "article8(4)          1\n",
       "referral            59\n",
       "Name: case_num, dtype: int64"
      ]
     },
     "execution_count": 443,
     "metadata": {},
     "output_type": "execute_result"
    }
   ],
   "source": [
    "# no. of cases by article_new\n",
    "df.groupby('article_new')['case_num'].nunique().sort_index()"
   ]
  },
  {
   "attachments": {},
   "cell_type": "markdown",
   "metadata": {},
   "source": [
    "### V. Subset based on articles"
   ]
  },
  {
   "attachments": {},
   "cell_type": "markdown",
   "metadata": {},
   "source": [
    "#### Subset only \"article6(1)(b)\", \"article6(2)\", \"article8(1)\", \"article8(2)\", \"article8(3)\", \"referral\", \"article7(3)\""
   ]
  },
  {
   "cell_type": "code",
   "execution_count": 444,
   "metadata": {},
   "outputs": [],
   "source": [
    "# subset based on article_new (only main articles)\n",
    "df1 = df[df['article_new'].isin([\"article6(1)(b)\", \"article6(2)\", \"article8(1)\", \"article8(2)\", \"article8(3)\", \"referral\", \"article7(3)\"])]"
   ]
  },
  {
   "attachments": {},
   "cell_type": "markdown",
   "metadata": {},
   "source": [
    "#### Replace Simplified Procedure"
   ]
  },
  {
   "cell_type": "code",
   "execution_count": 462,
   "metadata": {},
   "outputs": [],
   "source": [
    "df1.loc[df1['len_pdf'] <= 5, 'article_new'] = 'simplified'"
   ]
  },
  {
   "cell_type": "code",
   "execution_count": 461,
   "metadata": {},
   "outputs": [
    {
     "data": {
      "text/plain": [
       "3220"
      ]
     },
     "execution_count": 461,
     "metadata": {},
     "output_type": "execute_result"
    }
   ],
   "source": [
    "len(df1[df1['len_pdf']<=5]['sec_text'])"
   ]
  },
  {
   "cell_type": "code",
   "execution_count": 463,
   "metadata": {},
   "outputs": [
    {
     "data": {
      "text/plain": [
       "article_new\n",
       "article6(1)(b)    1285\n",
       "article6(2)        214\n",
       "article7(3)         28\n",
       "article8(1)         33\n",
       "article8(2)         63\n",
       "article8(3)         10\n",
       "referral            59\n",
       "simplified        3220\n",
       "Name: case_num, dtype: int64"
      ]
     },
     "execution_count": 463,
     "metadata": {},
     "output_type": "execute_result"
    }
   ],
   "source": [
    "# no of cases by article_new\n",
    "df1.groupby('article_new')['case_num'].nunique()"
   ]
  },
  {
   "cell_type": "code",
   "execution_count": 464,
   "metadata": {},
   "outputs": [
    {
     "data": {
      "text/plain": [
       "article_new\n",
       "article6(1)(b)    1287\n",
       "article6(2)        218\n",
       "article7(3)         29\n",
       "article8(1)         33\n",
       "article8(2)         64\n",
       "article8(3)         10\n",
       "referral            92\n",
       "simplified        3220\n",
       "Name: file, dtype: int64"
      ]
     },
     "execution_count": 464,
     "metadata": {},
     "output_type": "execute_result"
    }
   ],
   "source": [
    "# no of documents by article_new\n",
    "df1.groupby('article_new')['file'].nunique()"
   ]
  },
  {
   "attachments": {},
   "cell_type": "markdown",
   "metadata": {},
   "source": [
    "### VI. Detect English sec_text and subset to English merger decisions"
   ]
  },
  {
   "cell_type": "code",
   "execution_count": 448,
   "metadata": {},
   "outputs": [
    {
     "name": "stderr",
     "output_type": "stream",
     "text": [
      "C:\\Users\\admin\\AppData\\Local\\Temp\\ipykernel_18060\\2238364212.py:4: SettingWithCopyWarning: \n",
      "A value is trying to be set on a copy of a slice from a DataFrame.\n",
      "Try using .loc[row_indexer,col_indexer] = value instead\n",
      "\n",
      "See the caveats in the documentation: https://pandas.pydata.org/pandas-docs/stable/user_guide/indexing.html#returning-a-view-versus-a-copy\n",
      "  df1[\"lang\"] = df1[\"sec_text\"].apply(lambda x: detect(x) if x is not None else None)\n"
     ]
    }
   ],
   "source": [
    "# Add language\n",
    "from langdetect import detect\n",
    "\n",
    "df1[\"lang\"] = df1[\"sec_text\"].apply(lambda x: detect(x) if x is not None else None)"
   ]
  },
  {
   "cell_type": "code",
   "execution_count": 456,
   "metadata": {},
   "outputs": [
    {
     "data": {
      "text/plain": [
       "14107"
      ]
     },
     "execution_count": 456,
     "metadata": {},
     "output_type": "execute_result"
    }
   ],
   "source": [
    "len(df1.index)"
   ]
  },
  {
   "cell_type": "code",
   "execution_count": 455,
   "metadata": {},
   "outputs": [
    {
     "data": {
      "text/plain": [
       "en    14097\n",
       "fr        6\n",
       "no        1\n",
       "de        1\n",
       "nl        1\n",
       "id        1\n",
       "Name: lang, dtype: int64"
      ]
     },
     "execution_count": 455,
     "metadata": {},
     "output_type": "execute_result"
    }
   ],
   "source": [
    "df1['lang'].value_counts()"
   ]
  },
  {
   "attachments": {},
   "cell_type": "markdown",
   "metadata": {},
   "source": [
    "#### Drop non-English"
   ]
  },
  {
   "cell_type": "code",
   "execution_count": 522,
   "metadata": {},
   "outputs": [],
   "source": [
    "df_eng = df1[df1['lang']==\"en\"]\n",
    "df_eng = df_eng.reset_index(drop=True)"
   ]
  },
  {
   "cell_type": "code",
   "execution_count": 523,
   "metadata": {},
   "outputs": [
    {
     "data": {
      "text/plain": [
       "14097"
      ]
     },
     "execution_count": 523,
     "metadata": {},
     "output_type": "execute_result"
    }
   ],
   "source": [
    "len(df_eng.index)"
   ]
  },
  {
   "cell_type": "code",
   "execution_count": 524,
   "metadata": {},
   "outputs": [
    {
     "data": {
      "text/plain": [
       "article_new\n",
       "article6(1)(b)    1287\n",
       "article6(2)        218\n",
       "article7(3)         29\n",
       "article8(1)         33\n",
       "article8(2)         64\n",
       "article8(3)         10\n",
       "referral            92\n",
       "simplified        3213\n",
       "Name: file, dtype: int64"
      ]
     },
     "execution_count": 524,
     "metadata": {},
     "output_type": "execute_result"
    }
   ],
   "source": [
    "df_eng.groupby('article_new')['file'].nunique()"
   ]
  },
  {
   "attachments": {},
   "cell_type": "markdown",
   "metadata": {},
   "source": [
    "### VII. Clean Section headings"
   ]
  },
  {
   "attachments": {},
   "cell_type": "markdown",
   "metadata": {},
   "source": [
    "#### Save headings to excel file"
   ]
  },
  {
   "cell_type": "code",
   "execution_count": 833,
   "metadata": {},
   "outputs": [],
   "source": [
    "headings = df_eng['section'].value_counts()"
   ]
  },
  {
   "cell_type": "code",
   "execution_count": 834,
   "metadata": {},
   "outputs": [],
   "source": [
    "df_eng['section2'] = df_eng['section'].str.findall(r'\\b[A-Z\\s]+\\b').str.join(' ').str.strip()"
   ]
  },
  {
   "cell_type": "code",
   "execution_count": 835,
   "metadata": {},
   "outputs": [],
   "source": [
    "headings2 = pd.DataFrame(df_eng['section2'].value_counts()).reset_index()\n",
    "headings2.columns = ['section', 'count']\n",
    "headings2 = headings2.explode('section')"
   ]
  },
  {
   "cell_type": "code",
   "execution_count": 836,
   "metadata": {},
   "outputs": [],
   "source": [
    "headings2.to_excel('D:\\Desktop\\Thesis\\predicting-merger-decision-outcomes\\output\\headings.xlsx')"
   ]
  },
  {
   "cell_type": "code",
   "execution_count": 837,
   "metadata": {},
   "outputs": [
    {
     "data": {
      "text/html": [
       "<div>\n",
       "<style scoped>\n",
       "    .dataframe tbody tr th:only-of-type {\n",
       "        vertical-align: middle;\n",
       "    }\n",
       "\n",
       "    .dataframe tbody tr th {\n",
       "        vertical-align: top;\n",
       "    }\n",
       "\n",
       "    .dataframe thead th {\n",
       "        text-align: right;\n",
       "    }\n",
       "</style>\n",
       "<table border=\"1\" class=\"dataframe\">\n",
       "  <thead>\n",
       "    <tr style=\"text-align: right;\">\n",
       "      <th></th>\n",
       "      <th>section</th>\n",
       "      <th>count</th>\n",
       "    </tr>\n",
       "  </thead>\n",
       "  <tbody>\n",
       "    <tr>\n",
       "      <th>0</th>\n",
       "      <td>CONCLUSION</td>\n",
       "      <td>730</td>\n",
       "    </tr>\n",
       "    <tr>\n",
       "      <th>1</th>\n",
       "      <td>COMPETITIVE ASSESSMENT</td>\n",
       "      <td>557</td>\n",
       "    </tr>\n",
       "    <tr>\n",
       "      <th>2</th>\n",
       "      <td>I THE PARTIES</td>\n",
       "      <td>547</td>\n",
       "    </tr>\n",
       "    <tr>\n",
       "      <th>3</th>\n",
       "      <td>THE PARTIES</td>\n",
       "      <td>497</td>\n",
       "    </tr>\n",
       "    <tr>\n",
       "      <th>4</th>\n",
       "      <td>EU DIMENSION</td>\n",
       "      <td>436</td>\n",
       "    </tr>\n",
       "    <tr>\n",
       "      <th>5</th>\n",
       "      <td>VI CONCLUSION</td>\n",
       "      <td>380</td>\n",
       "    </tr>\n",
       "    <tr>\n",
       "      <th>6</th>\n",
       "      <td>V COMPETITIVE ASSESSMENT</td>\n",
       "      <td>321</td>\n",
       "    </tr>\n",
       "    <tr>\n",
       "      <th>7</th>\n",
       "      <td>II THE OPERATION</td>\n",
       "      <td>275</td>\n",
       "    </tr>\n",
       "    <tr>\n",
       "      <th>8</th>\n",
       "      <td>RELEVANT MARKETS</td>\n",
       "      <td>251</td>\n",
       "    </tr>\n",
       "    <tr>\n",
       "      <th>9</th>\n",
       "      <td>III COMMUNITY DIMENSION</td>\n",
       "      <td>251</td>\n",
       "    </tr>\n",
       "  </tbody>\n",
       "</table>\n",
       "</div>"
      ],
      "text/plain": [
       "                    section  count\n",
       "0                CONCLUSION    730\n",
       "1    COMPETITIVE ASSESSMENT    557\n",
       "2             I THE PARTIES    547\n",
       "3               THE PARTIES    497\n",
       "4              EU DIMENSION    436\n",
       "5             VI CONCLUSION    380\n",
       "6  V COMPETITIVE ASSESSMENT    321\n",
       "7          II THE OPERATION    275\n",
       "8          RELEVANT MARKETS    251\n",
       "9   III COMMUNITY DIMENSION    251"
      ]
     },
     "execution_count": 837,
     "metadata": {},
     "output_type": "execute_result"
    }
   ],
   "source": [
    "headings2.head(10)"
   ]
  },
  {
   "attachments": {},
   "cell_type": "markdown",
   "metadata": {},
   "source": [
    "#### Rename Sections into 7 general subheadings"
   ]
  },
  {
   "cell_type": "code",
   "execution_count": 1342,
   "metadata": {},
   "outputs": [],
   "source": [
    "df_eng['section_fin'] = \"\""
   ]
  },
  {
   "attachments": {},
   "cell_type": "markdown",
   "metadata": {},
   "source": [
    "DROP subheadings"
   ]
  },
  {
   "cell_type": "code",
   "execution_count": 1343,
   "metadata": {},
   "outputs": [],
   "source": [
    "df_eng['section_fin'] = np.where((df_eng['section2']==\"\"), 'DROP', df_eng['section_fin'])"
   ]
  },
  {
   "cell_type": "code",
   "execution_count": 1344,
   "metadata": {},
   "outputs": [
    {
     "data": {
      "text/plain": [
       "15"
      ]
     },
     "execution_count": 1344,
     "metadata": {},
     "output_type": "execute_result"
    }
   ],
   "source": [
    "len(df_eng[df_eng['section_fin']==\"DROP\"])"
   ]
  },
  {
   "attachments": {},
   "cell_type": "markdown",
   "metadata": {},
   "source": [
    "1. Introduction, Background, Summary"
   ]
  },
  {
   "cell_type": "code",
   "execution_count": 1345,
   "metadata": {},
   "outputs": [],
   "source": [
    "mask_intro = df_eng['section2'].str.lower().str.contains('introduction|summary|background')"
   ]
  },
  {
   "cell_type": "code",
   "execution_count": 1346,
   "metadata": {},
   "outputs": [],
   "source": [
    "df_eng['section_fin'] = np.where(mask_intro, 'Introduction/ Summary', \"\")"
   ]
  },
  {
   "attachments": {},
   "cell_type": "markdown",
   "metadata": {},
   "source": [
    "2. Parties, Operation, Transaction"
   ]
  },
  {
   "cell_type": "code",
   "execution_count": 1347,
   "metadata": {},
   "outputs": [],
   "source": [
    "mask_party = df_eng['section2'].str.lower().str.contains('parties|operation|transaction|joint venture')"
   ]
  },
  {
   "cell_type": "code",
   "execution_count": 1348,
   "metadata": {},
   "outputs": [],
   "source": [
    "df_eng['section_fin'] = np.where(mask_party, 'Parties & Operation', df_eng['section_fin'])"
   ]
  },
  {
   "attachments": {},
   "cell_type": "markdown",
   "metadata": {},
   "source": [
    "3. Concentration & Dimension"
   ]
  },
  {
   "cell_type": "code",
   "execution_count": 1349,
   "metadata": {},
   "outputs": [],
   "source": [
    "mask_dim = df_eng['section2'].str.lower().str.contains('concentration|dimension|community dimmension|jurisdiction of the commission')"
   ]
  },
  {
   "cell_type": "code",
   "execution_count": 1350,
   "metadata": {},
   "outputs": [],
   "source": [
    "df_eng['section_fin'] = np.where(mask_dim, 'Concentration & Dimension', df_eng['section_fin'])"
   ]
  },
  {
   "attachments": {},
   "cell_type": "markdown",
   "metadata": {},
   "source": [
    "4. Market Definition"
   ]
  },
  {
   "cell_type": "code",
   "execution_count": 1351,
   "metadata": {},
   "outputs": [],
   "source": [
    "mask_market = df_eng['section2'].str.lower().str.contains('relevant market|product|geographic|industry|market definition|marketdefinition|marketdefinitions|market|definition|definitions|united kingdom|germany|slovakia|hungary|czechia|applicability of the eea agreement|wholesale|retail|telecommunications sector|upstream|downstream|cargo transport and freight forwarding|cementitious materials|fluid catalytic cracking fcc trains|adgt  driven|adgt|steam turbines|greycement|high and very high speed')"
   ]
  },
  {
   "cell_type": "code",
   "execution_count": 1352,
   "metadata": {},
   "outputs": [],
   "source": [
    "df_eng['section_fin'] = np.where(mask_market, 'Relevant Markets', df_eng['section_fin'])"
   ]
  },
  {
   "attachments": {},
   "cell_type": "markdown",
   "metadata": {},
   "source": [
    "5. Competitive Assessment"
   ]
  },
  {
   "cell_type": "code",
   "execution_count": 1353,
   "metadata": {},
   "outputs": [],
   "source": [
    "mask_assess = df_eng['section2'].str.lower().str.contains('competitive assessment|analysis|analyses|assessment|investigation|effect|horizontal|vertical|conglomerate|coordinated|foreclosure|nash|bertrand|data|robustness tests|methodology|method|efficiencies|competitive assesment|competitiveassesment|competitiveasessment|competitive asessment|share|competitive  structure|merger simulation|simulation|recent studies|overview of the commission s approach|cashinstruments')"
   ]
  },
  {
   "cell_type": "code",
   "execution_count": 1354,
   "metadata": {},
   "outputs": [],
   "source": [
    "df_eng['section_fin'] = np.where(mask_assess, 'Competitive Assessment', df_eng['section_fin'])"
   ]
  },
  {
   "attachments": {},
   "cell_type": "markdown",
   "metadata": {},
   "source": [
    "6. Conclusion"
   ]
  },
  {
   "cell_type": "code",
   "execution_count": 1355,
   "metadata": {},
   "outputs": [],
   "source": [
    "mask_conclusion = df_eng['section2'].str.lower().str.contains('conclusion')"
   ]
  },
  {
   "cell_type": "code",
   "execution_count": 1356,
   "metadata": {},
   "outputs": [],
   "source": [
    "df_eng['section_fin'] = np.where(mask_conclusion, 'Conclusion', df_eng['section_fin'])"
   ]
  },
  {
   "attachments": {},
   "cell_type": "markdown",
   "metadata": {},
   "source": [
    "7. Conditions"
   ]
  },
  {
   "cell_type": "code",
   "execution_count": 1357,
   "metadata": {},
   "outputs": [],
   "source": [
    "mask_commit = df_eng['section2'].str.lower().str.contains('commitment|remedies|remedy|obligation|condition|general provisions|slots|fare combinability')"
   ]
  },
  {
   "cell_type": "code",
   "execution_count": 1358,
   "metadata": {},
   "outputs": [],
   "source": [
    "df_eng['section_fin'] = np.where(mask_commit, 'Conditions', df_eng['section_fin'])"
   ]
  },
  {
   "attachments": {},
   "cell_type": "markdown",
   "metadata": {},
   "source": [
    "8. Decision"
   ]
  },
  {
   "cell_type": "code",
   "execution_count": 1359,
   "metadata": {},
   "outputs": [],
   "source": [
    "mask_decision = df_eng['section2'].str.lower().str.contains('facts|fact|procedure|procedures|decision')"
   ]
  },
  {
   "cell_type": "code",
   "execution_count": 1360,
   "metadata": {},
   "outputs": [],
   "source": [
    "df_eng['section_fin'] = np.where(mask_decision, 'Decision', df_eng['section_fin'])"
   ]
  },
  {
   "attachments": {},
   "cell_type": "markdown",
   "metadata": {},
   "source": [
    "9. Requests"
   ]
  },
  {
   "cell_type": "code",
   "execution_count": 1361,
   "metadata": {},
   "outputs": [],
   "source": [
    "mask_req = df_eng['section2'].str.lower().str.contains('request|requests|referral|review clause')"
   ]
  },
  {
   "cell_type": "code",
   "execution_count": 1362,
   "metadata": {},
   "outputs": [],
   "source": [
    "df_eng['section_fin'] = np.where(mask_req, 'Request', df_eng['section_fin'])"
   ]
  },
  {
   "attachments": {},
   "cell_type": "markdown",
   "metadata": {},
   "source": [
    "10. Monitoring Trustee"
   ]
  },
  {
   "cell_type": "code",
   "execution_count": 1363,
   "metadata": {},
   "outputs": [],
   "source": [
    "mask_monitor = df_eng['section2'].str.lower().str.contains('monitor|monitoring|termination mandate|relationship with state aid rules')"
   ]
  },
  {
   "cell_type": "code",
   "execution_count": 1364,
   "metadata": {},
   "outputs": [],
   "source": [
    "df_eng['section_fin'] = np.where(mask_monitor, 'Monitoring', df_eng['section_fin'])"
   ]
  },
  {
   "attachments": {},
   "cell_type": "markdown",
   "metadata": {},
   "source": [
    "11. None for Simplified Procedure"
   ]
  },
  {
   "cell_type": "code",
   "execution_count": 1365,
   "metadata": {},
   "outputs": [],
   "source": [
    "df_eng.loc[df_eng['len_pdf'] <= 5, 'section_fin'] = 'simplified'"
   ]
  },
  {
   "attachments": {},
   "cell_type": "markdown",
   "metadata": {},
   "source": [
    "12. For remaining Art 6.2 and 8.2 - Conditions"
   ]
  },
  {
   "cell_type": "code",
   "execution_count": 1366,
   "metadata": {},
   "outputs": [],
   "source": [
    "df_eng.loc[(df_eng['article_new'].isin([\"article6(2)\", \"article8(2)\"]) & (df_eng['section_fin']==\"\")), 'section_fin'] = 'Conditions'"
   ]
  },
  {
   "attachments": {},
   "cell_type": "markdown",
   "metadata": {},
   "source": [
    "13. For remaining Art 6.1(b) and 8.3 - Competitive Assessment"
   ]
  },
  {
   "cell_type": "code",
   "execution_count": 1367,
   "metadata": {},
   "outputs": [],
   "source": [
    "df_eng.loc[((df_eng['article_new'].isin([\"article6(1)(b)\",\"article8(3)\"])) & (df_eng['section_fin']==\"\")), 'section_fin'] = 'Competitive Assessment'"
   ]
  },
  {
   "attachments": {},
   "cell_type": "markdown",
   "metadata": {},
   "source": [
    "Others - 7.3 and Referral"
   ]
  },
  {
   "cell_type": "code",
   "execution_count": 1368,
   "metadata": {},
   "outputs": [],
   "source": [
    "df_eng.loc[((df_eng['article_new'].isin([\"referral\",\"article7(3)\"])) & (df_eng['section_fin']==\"\")), 'section_fin'] = 'Others'"
   ]
  },
  {
   "attachments": {},
   "cell_type": "markdown",
   "metadata": {},
   "source": [
    "DROP subheadings"
   ]
  },
  {
   "cell_type": "code",
   "execution_count": 1369,
   "metadata": {},
   "outputs": [],
   "source": [
    "df_eng.loc[((df_eng['section_fin']==\"\") & (df_eng['section2']==\"\")), 'section_fin'] = 'DROP'"
   ]
  },
  {
   "cell_type": "code",
   "execution_count": 1370,
   "metadata": {},
   "outputs": [],
   "source": [
    "mask_drop = df_eng['section2'].str.lower().str.contains('comp m|cash instruments|derivatives')\n",
    "df_eng['section_fin'] = np.where(mask_drop, 'DROP', df_eng['section_fin'])"
   ]
  },
  {
   "cell_type": "code",
   "execution_count": 1371,
   "metadata": {},
   "outputs": [
    {
     "data": {
      "text/plain": [
       "simplified                   3213\n",
       "Concentration & Dimension    2609\n",
       "Parties & Operation          2183\n",
       "Competitive Assessment       1934\n",
       "Conclusion                   1686\n",
       "Relevant Markets             1069\n",
       "Conditions                    835\n",
       "Introduction/ Summary         170\n",
       "DROP                          117\n",
       "Request                       113\n",
       "Decision                      106\n",
       "Others                         39\n",
       "Monitoring                     23\n",
       "Name: section_fin, dtype: int64"
      ]
     },
     "execution_count": 1371,
     "metadata": {},
     "output_type": "execute_result"
    }
   ],
   "source": [
    "df_eng['section_fin'].value_counts()"
   ]
  },
  {
   "cell_type": "code",
   "execution_count": 1373,
   "metadata": {},
   "outputs": [],
   "source": [
    "# # save json file name\n",
    "# date = datetime.date.today().strftime('%Y_%m_%d')\n",
    "\n",
    "# file_name = f\"../../../data/processed/df_eng_cleaned_{date}.json\"\n",
    "# if os.path.exists(file_name):\n",
    "#     os.remove(file_name)\n",
    "\n",
    "# # save file as json\n",
    "# df_eng.to_json(file_name)"
   ]
  },
  {
   "cell_type": "code",
   "execution_count": 1132,
   "metadata": {},
   "outputs": [],
   "source": [
    "# df_eng[df_eng['section_fin']==\"\"]['section2'].nunique()"
   ]
  },
  {
   "cell_type": "code",
   "execution_count": 1133,
   "metadata": {},
   "outputs": [],
   "source": [
    "# df_eng[(df_eng['section_fin']==\"\")].groupby('article_new')['case_num'].nunique()"
   ]
  },
  {
   "cell_type": "code",
   "execution_count": 864,
   "metadata": {},
   "outputs": [],
   "source": [
    "# headings3 = pd.DataFrame(df_eng[(df_eng['section_fin']==\"\") & (df_eng['article_new']!=\"referral\") & (df_eng['article_new']!=\"article7(3)\")]['section2'].value_counts()).reset_index()\n",
    "# headings3.columns = ['section', 'count']\n",
    "# headings3 = headings3.explode('section')"
   ]
  },
  {
   "cell_type": "code",
   "execution_count": 866,
   "metadata": {},
   "outputs": [],
   "source": [
    "# headings3.to_excel('D:\\Desktop\\Thesis\\predicting-merger-decision-outcomes\\output\\headings_filtered.xlsx')"
   ]
  },
  {
   "cell_type": "code",
   "execution_count": 1130,
   "metadata": {},
   "outputs": [],
   "source": [
    "# df_eng[df_eng['section2']==\"\"][['sec_text','article_new']]"
   ]
  },
  {
   "cell_type": "code",
   "execution_count": 1131,
   "metadata": {},
   "outputs": [],
   "source": [
    "# print(df_eng['sec_text'][13921])"
   ]
  },
  {
   "attachments": {},
   "cell_type": "markdown",
   "metadata": {},
   "source": [
    "### VIII. Filter based on 'section'/subheading and article_new"
   ]
  },
  {
   "cell_type": "code",
   "execution_count": 1374,
   "metadata": {},
   "outputs": [
    {
     "data": {
      "text/plain": [
       "simplified                   3213\n",
       "Concentration & Dimension    2609\n",
       "Parties & Operation          2183\n",
       "Competitive Assessment       1934\n",
       "Conclusion                   1686\n",
       "Relevant Markets             1069\n",
       "Conditions                    835\n",
       "Introduction/ Summary         170\n",
       "DROP                          117\n",
       "Request                       113\n",
       "Decision                      106\n",
       "Others                         39\n",
       "Monitoring                     23\n",
       "Name: section_fin, dtype: int64"
      ]
     },
     "execution_count": 1374,
     "metadata": {},
     "output_type": "execute_result"
    }
   ],
   "source": [
    "df_eng['section_fin'].value_counts()"
   ]
  },
  {
   "cell_type": "code",
   "execution_count": 1375,
   "metadata": {},
   "outputs": [],
   "source": [
    "df_eng_filtered = df_eng[(~df_eng['article_new'].isin([\"article7(3)\"]) & \n",
    "                          ~df_eng['section_fin'].isin([\"DROP\", \"Conclusion\", \"Decision\",\n",
    "                                                       \"Conditions\", \"Request\", \"Monitoring\",\n",
    "                                                       \"Introduction/ Summary\", \"Others\"]))]"
   ]
  },
  {
   "cell_type": "code",
   "execution_count": 1376,
   "metadata": {},
   "outputs": [
    {
     "data": {
      "text/plain": [
       "simplified                   3213\n",
       "Concentration & Dimension    2587\n",
       "Parties & Operation          2156\n",
       "Competitive Assessment       1934\n",
       "Relevant Markets             1069\n",
       "Name: section_fin, dtype: int64"
      ]
     },
     "execution_count": 1376,
     "metadata": {},
     "output_type": "execute_result"
    }
   ],
   "source": [
    "df_eng_filtered['section_fin'].value_counts()"
   ]
  },
  {
   "cell_type": "code",
   "execution_count": 1377,
   "metadata": {},
   "outputs": [
    {
     "data": {
      "text/plain": [
       "article6(1)(b)    5913\n",
       "simplified        3213\n",
       "article6(2)        968\n",
       "article8(2)        384\n",
       "referral           256\n",
       "article8(1)        162\n",
       "article8(3)         63\n",
       "Name: article_new, dtype: int64"
      ]
     },
     "execution_count": 1377,
     "metadata": {},
     "output_type": "execute_result"
    }
   ],
   "source": [
    "df_eng_filtered['article_new'].value_counts()"
   ]
  },
  {
   "cell_type": "code",
   "execution_count": 1378,
   "metadata": {},
   "outputs": [
    {
     "data": {
      "text/plain": [
       "article_new\n",
       "article6(1)(b)    1284\n",
       "article6(2)        203\n",
       "article8(1)         30\n",
       "article8(2)         59\n",
       "article8(3)          9\n",
       "referral            59\n",
       "simplified        3213\n",
       "Name: case_num, dtype: int64"
      ]
     },
     "execution_count": 1378,
     "metadata": {},
     "output_type": "execute_result"
    }
   ],
   "source": [
    "# no. of cases by article_new\n",
    "df_eng_filtered.groupby('article_new')['case_num'].nunique().sort_index()"
   ]
  },
  {
   "cell_type": "code",
   "execution_count": 1379,
   "metadata": {},
   "outputs": [
    {
     "data": {
      "text/plain": [
       "article_new\n",
       "article6(1)(b)    1286\n",
       "article6(2)        205\n",
       "article8(1)         30\n",
       "article8(2)         60\n",
       "article8(3)          9\n",
       "referral            92\n",
       "simplified        3213\n",
       "Name: file, dtype: int64"
      ]
     },
     "execution_count": 1379,
     "metadata": {},
     "output_type": "execute_result"
    }
   ],
   "source": [
    "# no. of files by article_new\n",
    "df_eng_filtered.groupby('article_new')['file'].nunique().sort_index()"
   ]
  },
  {
   "attachments": {},
   "cell_type": "markdown",
   "metadata": {},
   "source": [
    "#### Drop unnecessary columns"
   ]
  },
  {
   "cell_type": "code",
   "execution_count": 1382,
   "metadata": {},
   "outputs": [
    {
     "name": "stdout",
     "output_type": "stream",
     "text": [
      "<class 'pandas.core.frame.DataFrame'>\n",
      "RangeIndex: 14097 entries, 0 to 14096\n",
      "Data columns (total 19 columns):\n",
      " #   Column        Non-Null Count  Dtype  \n",
      "---  ------        --------------  -----  \n",
      " 0   date          14097 non-null  object \n",
      " 1   year          14046 non-null  float64\n",
      " 2   len_pdf       14097 non-null  int64  \n",
      " 3   article       14097 non-null  object \n",
      " 4   article_txt   14097 non-null  object \n",
      " 5   article_62    14097 non-null  object \n",
      " 6   article_new   14097 non-null  object \n",
      " 7   case_num      14097 non-null  object \n",
      " 8   filename      14097 non-null  object \n",
      " 9   file          14097 non-null  object \n",
      " 10  section_text  14097 non-null  object \n",
      " 11  bsn_act       14097 non-null  object \n",
      " 12  simp_text     14097 non-null  object \n",
      " 13  section       10884 non-null  object \n",
      " 14  sec_text      14097 non-null  object \n",
      " 15  count         14097 non-null  int64  \n",
      " 16  lang          14097 non-null  object \n",
      " 17  section2      10884 non-null  object \n",
      " 18  section_fin   14097 non-null  object \n",
      "dtypes: float64(1), int64(2), object(16)\n",
      "memory usage: 2.0+ MB\n"
     ]
    }
   ],
   "source": [
    "df_eng.info()"
   ]
  },
  {
   "cell_type": "code",
   "execution_count": 1383,
   "metadata": {},
   "outputs": [],
   "source": [
    "df_eng_filtered = df_eng_filtered.drop(columns=['date', 'article', 'article_txt', 'article_62', 'filename',\n",
    "                                                'section_text', 'bsn_act', 'simp_text','section','section2'])"
   ]
  },
  {
   "cell_type": "code",
   "execution_count": 1384,
   "metadata": {},
   "outputs": [],
   "source": [
    "# save json file name\n",
    "date = datetime.date.today().strftime('%Y_%m_%d')\n",
    "\n",
    "file_name = f\"../../../data/processed/df_eng_clean_filtered_{date}.json\"\n",
    "if os.path.exists(file_name):\n",
    "    os.remove(file_name)\n",
    "\n",
    "# save file as json\n",
    "df_eng_filtered.to_json(file_name)"
   ]
  },
  {
   "cell_type": "code",
   "execution_count": null,
   "metadata": {},
   "outputs": [],
   "source": []
  }
 ],
 "metadata": {
  "kernelspec": {
   "display_name": "thesis",
   "language": "python",
   "name": "python3"
  },
  "language_info": {
   "codemirror_mode": {
    "name": "ipython",
    "version": 3
   },
   "file_extension": ".py",
   "mimetype": "text/x-python",
   "name": "python",
   "nbconvert_exporter": "python",
   "pygments_lexer": "ipython3",
   "version": "3.10.4"
  },
  "orig_nbformat": 4,
  "vscode": {
   "interpreter": {
    "hash": "b8a34a3bb875764d64c764b9cffa891f179e7153a1578da198ecc075e870264c"
   }
  }
 },
 "nbformat": 4,
 "nbformat_minor": 2
}
