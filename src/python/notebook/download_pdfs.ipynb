{
 "cells": [
  {
   "cell_type": "code",
   "execution_count": 1,
   "metadata": {},
   "outputs": [],
   "source": [
    "# Data visualization\n",
    "import matplotlib.pyplot as plt \n",
    "\n",
    "# Data manipulation\n",
    "import pandas as pd\n",
    "import numpy as np\n",
    "import csv\n",
    "from zipfile import ZipFile"
   ]
  },
  {
   "cell_type": "code",
   "execution_count": 2,
   "metadata": {},
   "outputs": [],
   "source": [
    "# Webscraping\n",
    "import glob\n",
    "import requests\n",
    "from bs4 import BeautifulSoup\n",
    "import time\n",
    "import datetime\n",
    "from pandas.core.common import flatten\n",
    "import os\n",
    "from itertools import chain\n",
    "from tqdm import tqdm\n",
    "import json\n",
    "import urllib.request"
   ]
  },
  {
   "cell_type": "code",
   "execution_count": 3,
   "metadata": {},
   "outputs": [
    {
     "data": {
      "text/plain": [
       "'d:\\\\Desktop\\\\Thesis\\\\predicting-merger-decision-outcomes\\\\src\\\\python\\\\notebook'"
      ]
     },
     "execution_count": 3,
     "metadata": {},
     "output_type": "execute_result"
    }
   ],
   "source": [
    "os.getcwd()"
   ]
  },
  {
   "cell_type": "code",
   "execution_count": 4,
   "metadata": {},
   "outputs": [],
   "source": [
    "import sys\n",
    "sys.path.append(f'../../python')\n",
    "from scraper import get_merger_links, download_pdf, download_pdf6, get_merger_info"
   ]
  },
  {
   "cell_type": "code",
   "execution_count": 5,
   "metadata": {},
   "outputs": [],
   "source": [
    "merger_details_df = pd.read_csv(f\"../../../data/scraped/merger_details_2023_01_27.csv\")"
   ]
  },
  {
   "attachments": {},
   "cell_type": "markdown",
   "metadata": {},
   "source": [
    "## Download EN merger decision PDF to folder"
   ]
  },
  {
   "attachments": {},
   "cell_type": "markdown",
   "metadata": {},
   "source": [
    "#### Article 8.1 (36 cases)"
   ]
  },
  {
   "cell_type": "code",
   "execution_count": 6,
   "metadata": {},
   "outputs": [
    {
     "name": "stderr",
     "output_type": "stream",
     "text": [
      "  0%|          | 0/36 [00:00<?, ?it/s]"
     ]
    },
    {
     "name": "stdout",
     "output_type": "stream",
     "text": [
      "Downloading M.3178 file:  1\n"
     ]
    },
    {
     "name": "stderr",
     "output_type": "stream",
     "text": [
      "  3%|▎         | 1/36 [01:22<48:01, 82.33s/it]"
     ]
    },
    {
     "name": "stdout",
     "output_type": "stream",
     "text": [
      "Downloaded M.3178 file:  1\n",
      "Downloading M.3625 file:  1\n"
     ]
    },
    {
     "name": "stderr",
     "output_type": "stream",
     "text": [
      "  6%|▌         | 2/36 [02:45<46:50, 82.66s/it]"
     ]
    },
    {
     "name": "stdout",
     "output_type": "stream",
     "text": [
      "Downloaded M.3625 file:  1\n",
      "Downloading M.3848 file:  1\n"
     ]
    },
    {
     "name": "stderr",
     "output_type": "stream",
     "text": [
      "  8%|▊         | 3/36 [02:57<27:53, 50.72s/it]"
     ]
    },
    {
     "name": "stdout",
     "output_type": "stream",
     "text": [
      "Downloaded M.3848 file:  1\n",
      "Downloading M.3975 file:  1\n"
     ]
    },
    {
     "name": "stderr",
     "output_type": "stream",
     "text": [
      " 11%|█         | 4/36 [03:53<27:59, 52.48s/it]"
     ]
    },
    {
     "name": "stdout",
     "output_type": "stream",
     "text": [
      "Downloaded M.3975 file:  1\n",
      "Downloading M.4094 file:  1\n"
     ]
    },
    {
     "name": "stderr",
     "output_type": "stream",
     "text": [
      " 14%|█▍        | 5/36 [04:49<27:48, 53.84s/it]"
     ]
    },
    {
     "name": "stdout",
     "output_type": "stream",
     "text": [
      "Downloaded M.4094 file:  1\n",
      "Downloading M.4215 file:  1\n",
      "Downloaded M.4215 file:  1\n",
      "Downloading M.4215 file:  2\n"
     ]
    },
    {
     "name": "stderr",
     "output_type": "stream",
     "text": [
      " 17%|█▋        | 6/36 [05:25<23:55, 47.85s/it]"
     ]
    },
    {
     "name": "stdout",
     "output_type": "stream",
     "text": [
      "Downloaded M.4215 file:  2\n",
      "Downloading M.4403 file:  1\n"
     ]
    },
    {
     "name": "stderr",
     "output_type": "stream",
     "text": [
      " 19%|█▉        | 7/36 [06:43<27:52, 57.69s/it]"
     ]
    },
    {
     "name": "stdout",
     "output_type": "stream",
     "text": [
      "Downloaded M.4403 file:  1\n",
      "Downloading M.4523 file:  1\n"
     ]
    },
    {
     "name": "stderr",
     "output_type": "stream",
     "text": [
      " 22%|██▏       | 8/36 [07:18<23:29, 50.34s/it]"
     ]
    },
    {
     "name": "stdout",
     "output_type": "stream",
     "text": [
      "Downloaded M.4523 file:  1\n",
      "Downloading M.4647 file:  1\n"
     ]
    },
    {
     "name": "stderr",
     "output_type": "stream",
     "text": [
      " 25%|██▌       | 9/36 [07:30<17:20, 38.55s/it]"
     ]
    },
    {
     "name": "stdout",
     "output_type": "stream",
     "text": [
      "Downloaded M.4647 file:  1\n",
      "Downloading M.4662 file:  1\n"
     ]
    },
    {
     "name": "stderr",
     "output_type": "stream",
     "text": [
      " 28%|██▊       | 10/36 [08:31<19:43, 45.51s/it]"
     ]
    },
    {
     "name": "stdout",
     "output_type": "stream",
     "text": [
      "Downloaded M.4662 file:  1\n",
      "Downloading M.4731 file:  1\n"
     ]
    },
    {
     "name": "stderr",
     "output_type": "stream",
     "text": [
      " 31%|███       | 11/36 [09:18<19:09, 45.97s/it]"
     ]
    },
    {
     "name": "stdout",
     "output_type": "stream",
     "text": [
      "Downloaded M.4731 file:  1\n",
      "Downloading M.4734 file:  1\n"
     ]
    },
    {
     "name": "stderr",
     "output_type": "stream",
     "text": [
      " 33%|███▎      | 12/36 [10:26<21:01, 52.55s/it]"
     ]
    },
    {
     "name": "stdout",
     "output_type": "stream",
     "text": [
      "Downloaded M.4734 file:  1\n",
      "Downloading M.4747 file:  1\n"
     ]
    },
    {
     "name": "stderr",
     "output_type": "stream",
     "text": [
      " 36%|███▌      | 13/36 [11:22<20:33, 53.63s/it]"
     ]
    },
    {
     "name": "stdout",
     "output_type": "stream",
     "text": [
      "Downloaded M.4747 file:  1\n",
      "Downloading M.4781 file:  1\n"
     ]
    },
    {
     "name": "stderr",
     "output_type": "stream",
     "text": [
      " 39%|███▉      | 14/36 [11:58<17:38, 48.13s/it]"
     ]
    },
    {
     "name": "stdout",
     "output_type": "stream",
     "text": [
      "Downloaded M.4781 file:  1\n",
      "Downloading M.4854 file:  1\n"
     ]
    },
    {
     "name": "stderr",
     "output_type": "stream",
     "text": [
      " 42%|████▏     | 15/36 [13:35<22:02, 62.96s/it]"
     ]
    },
    {
     "name": "stdout",
     "output_type": "stream",
     "text": [
      "Downloaded M.4854 file:  1\n",
      "Downloading M.4874 file:  1\n"
     ]
    },
    {
     "name": "stderr",
     "output_type": "stream",
     "text": [
      " 44%|████▍     | 16/36 [13:48<15:58, 47.94s/it]"
     ]
    },
    {
     "name": "stdout",
     "output_type": "stream",
     "text": [
      "Downloaded M.4874 file:  1\n",
      "Downloading M.4942 file:  1\n"
     ]
    },
    {
     "name": "stderr",
     "output_type": "stream",
     "text": [
      " 47%|████▋     | 17/36 [14:02<11:58, 37.82s/it]"
     ]
    },
    {
     "name": "stdout",
     "output_type": "stream",
     "text": [
      "Downloaded M.4942 file:  1\n",
      "Downloading M.4956 file:  1\n",
      "Downloaded M.4956 file:  1\n",
      "Downloading M.4956 file:  2\n"
     ]
    },
    {
     "name": "stderr",
     "output_type": "stream",
     "text": [
      " 50%|█████     | 18/36 [14:58<12:56, 43.15s/it]"
     ]
    },
    {
     "name": "stdout",
     "output_type": "stream",
     "text": [
      "Downloaded M.4956 file:  2\n",
      "Downloading M.5141 file:  1\n"
     ]
    },
    {
     "name": "stderr",
     "output_type": "stream",
     "text": [
      " 53%|█████▎    | 19/36 [15:54<13:21, 47.17s/it]"
     ]
    },
    {
     "name": "stdout",
     "output_type": "stream",
     "text": [
      "Downloaded M.5141 file:  1\n",
      "Downloading M.5529 file:  1\n"
     ]
    },
    {
     "name": "stderr",
     "output_type": "stream",
     "text": [
      " 56%|█████▌    | 20/36 [17:07<14:39, 54.96s/it]"
     ]
    },
    {
     "name": "stdout",
     "output_type": "stream",
     "text": [
      "Downloaded M.5529 file:  1\n",
      "Downloading M.5907 file:  1\n"
     ]
    },
    {
     "name": "stderr",
     "output_type": "stream",
     "text": [
      " 58%|█████▊    | 21/36 [18:57<17:48, 71.26s/it]"
     ]
    },
    {
     "name": "stdout",
     "output_type": "stream",
     "text": [
      "Downloaded M.5907 file:  1\n",
      "Downloading M.6101 file:  1\n"
     ]
    },
    {
     "name": "stderr",
     "output_type": "stream",
     "text": [
      " 61%|██████    | 22/36 [19:55<15:44, 67.48s/it]"
     ]
    },
    {
     "name": "stdout",
     "output_type": "stream",
     "text": [
      "Downloaded M.6101 file:  1\n",
      "Downloading M.6106 file:  1\n"
     ]
    },
    {
     "name": "stderr",
     "output_type": "stream",
     "text": [
      " 64%|██████▍   | 23/36 [20:58<14:18, 66.07s/it]"
     ]
    },
    {
     "name": "stdout",
     "output_type": "stream",
     "text": [
      "Downloaded M.6106 file:  1\n",
      "Downloading M.6214 file:  1\n"
     ]
    },
    {
     "name": "stderr",
     "output_type": "stream",
     "text": [
      " 67%|██████▋   | 24/36 [22:00<12:56, 64.68s/it]"
     ]
    },
    {
     "name": "stdout",
     "output_type": "stream",
     "text": [
      "Downloaded M.6214 file:  1\n",
      "Downloading M.6314 file:  1\n"
     ]
    },
    {
     "name": "stderr",
     "output_type": "stream",
     "text": [
      " 69%|██████▉   | 25/36 [24:09<15:26, 84.20s/it]"
     ]
    },
    {
     "name": "stdout",
     "output_type": "stream",
     "text": [
      "Downloaded M.6314 file:  1\n",
      "Downloading M.6360 file:  1\n"
     ]
    },
    {
     "name": "stderr",
     "output_type": "stream",
     "text": [
      " 72%|███████▏  | 26/36 [24:25<10:35, 63.55s/it]"
     ]
    },
    {
     "name": "stdout",
     "output_type": "stream",
     "text": [
      "Downloaded M.6360 file:  1\n",
      "Downloading M.6796 file:  1\n",
      "Downloaded M.6796 file:  1\n",
      "Downloading M.6796 file:  2\n",
      "Downloaded M.6796 file:  2\n",
      "Downloading M.6796 file:  3\n"
     ]
    },
    {
     "name": "stderr",
     "output_type": "stream",
     "text": [
      " 75%|███████▌  | 27/36 [26:05<11:11, 74.56s/it]"
     ]
    },
    {
     "name": "stdout",
     "output_type": "stream",
     "text": [
      "Downloaded M.6796 file:  3\n",
      "Downloading M.7009 file:  1\n"
     ]
    },
    {
     "name": "stderr",
     "output_type": "stream",
     "text": [
      " 78%|███████▊  | 28/36 [27:33<10:29, 78.73s/it]"
     ]
    },
    {
     "name": "stdout",
     "output_type": "stream",
     "text": [
      "Downloaded M.7009 file:  1\n",
      "Downloading M.7054 file:  1\n"
     ]
    },
    {
     "name": "stderr",
     "output_type": "stream",
     "text": [
      " 81%|████████  | 29/36 [29:03<09:34, 82.10s/it]"
     ]
    },
    {
     "name": "stdout",
     "output_type": "stream",
     "text": [
      "Downloaded M.7054 file:  1\n",
      "Downloading M.7429 file:  1\n"
     ]
    },
    {
     "name": "stderr",
     "output_type": "stream",
     "text": [
      " 83%|████████▎ | 30/36 [29:50<07:08, 71.44s/it]"
     ]
    },
    {
     "name": "stdout",
     "output_type": "stream",
     "text": [
      "Downloaded M.7429 file:  1\n",
      "Downloading M.7630 file:  1\n"
     ]
    },
    {
     "name": "stderr",
     "output_type": "stream",
     "text": [
      " 86%|████████▌ | 31/36 [32:07<07:35, 91.17s/it]"
     ]
    },
    {
     "name": "stdout",
     "output_type": "stream",
     "text": [
      "Downloaded M.7630 file:  1\n",
      "Downloading M.8394 file:  1\n"
     ]
    },
    {
     "name": "stderr",
     "output_type": "stream",
     "text": [
      " 89%|████████▉ | 32/36 [33:44<06:12, 93.01s/it]"
     ]
    },
    {
     "name": "stdout",
     "output_type": "stream",
     "text": [
      "Downloaded M.8394 file:  1\n",
      "Downloading M.8788 file:  1\n",
      "Downloaded M.8788 file:  1\n",
      "Downloading M.8788 file:  2\n",
      "Downloaded M.8788 file:  2\n",
      "Downloading M.8788 file:  3\n",
      "Downloaded M.8788 file:  3\n",
      "Downloading M.8788 file:  4\n",
      "Downloaded M.8788 file:  4\n",
      "Downloading M.8788 file:  5\n",
      "Downloaded M.8788 file:  5\n",
      "Downloading M.8788 file:  6\n",
      "Downloaded M.8788 file:  6\n",
      "Downloading M.8788 file:  7\n",
      "Downloaded M.8788 file:  7\n",
      "Downloading M.8788 file:  8\n"
     ]
    },
    {
     "name": "stderr",
     "output_type": "stream",
     "text": [
      " 92%|█████████▏| 33/36 [37:57<07:02, 140.82s/it]"
     ]
    },
    {
     "name": "stdout",
     "output_type": "stream",
     "text": [
      "Downloaded M.8788 file:  8\n",
      "Downloading M.8792 file:  1\n"
     ]
    },
    {
     "name": "stderr",
     "output_type": "stream",
     "text": [
      " 94%|█████████▍| 34/36 [40:02<04:32, 136.08s/it]"
     ]
    },
    {
     "name": "stdout",
     "output_type": "stream",
     "text": [
      "Downloaded M.8792 file:  1\n",
      "Downloading M.8909 file:  1\n"
     ]
    },
    {
     "name": "stderr",
     "output_type": "stream",
     "text": [
      " 97%|█████████▋| 35/36 [40:16<01:39, 99.48s/it] "
     ]
    },
    {
     "name": "stdout",
     "output_type": "stream",
     "text": [
      "Downloaded M.8909 file:  1\n",
      "Downloading M.9409 file:  1\n"
     ]
    },
    {
     "name": "stderr",
     "output_type": "stream",
     "text": [
      "100%|██████████| 36/36 [40:54<00:00, 68.19s/it]"
     ]
    },
    {
     "name": "stdout",
     "output_type": "stream",
     "text": [
      "Downloaded M.9409 file:  1\n",
      "Successful downloads:  47\n",
      "Unsuccessful downloads:  0\n"
     ]
    },
    {
     "name": "stderr",
     "output_type": "stream",
     "text": [
      "\n"
     ]
    }
   ],
   "source": [
    "# download Article 8.1 pdfs in case folder\n",
    "j = 0\n",
    "k = 0\n",
    "for l in tqdm(merger_details_df[merger_details_df['article']==\"art8.1\"]['link']):\n",
    "    m,n = download_pdf(l, article=\"art8.1\") \n",
    "    k += n\n",
    "    j += m\n",
    "print(\"Successful downloads: \", j)\n",
    "print(\"Unsuccessful downloads: \", k)"
   ]
  },
  {
   "attachments": {},
   "cell_type": "markdown",
   "metadata": {},
   "source": [
    "#### Article 8.3 (13 cases)"
   ]
  },
  {
   "cell_type": "code",
   "execution_count": 6,
   "metadata": {},
   "outputs": [
    {
     "name": "stderr",
     "output_type": "stream",
     "text": [
      "  8%|▊         | 1/13 [00:02<00:33,  2.79s/it]"
     ]
    },
    {
     "name": "stdout",
     "output_type": "stream",
     "text": [
      "Downloading M.4439 file:  1\n",
      "Downloaded M.4439 file:  1\n",
      "Downloading M.4439 file:  2\n"
     ]
    },
    {
     "name": "stderr",
     "output_type": "stream",
     "text": [
      " 15%|█▌        | 2/13 [01:02<06:37, 36.13s/it]"
     ]
    },
    {
     "name": "stdout",
     "output_type": "stream",
     "text": [
      "Downloaded M.4439 file:  2\n",
      "Downloading M.5830 file:  1\n"
     ]
    },
    {
     "name": "stderr",
     "output_type": "stream",
     "text": [
      " 23%|██▎       | 3/13 [01:09<03:50, 23.03s/it]"
     ]
    },
    {
     "name": "stdout",
     "output_type": "stream",
     "text": [
      "Downloaded M.5830 file:  1\n",
      "Downloading M.6166 file:  1\n"
     ]
    },
    {
     "name": "stderr",
     "output_type": "stream",
     "text": [
      " 31%|███       | 4/13 [05:19<16:51, 112.44s/it]"
     ]
    },
    {
     "name": "stdout",
     "output_type": "stream",
     "text": [
      "Downloaded M.6166 file:  1\n",
      "Downloading M.6570 file:  1\n"
     ]
    },
    {
     "name": "stderr",
     "output_type": "stream",
     "text": [
      " 38%|███▊      | 5/13 [05:27<09:58, 74.77s/it] "
     ]
    },
    {
     "name": "stdout",
     "output_type": "stream",
     "text": [
      "Downloaded M.6570 file:  1\n",
      "Downloading M.6663 file:  1\n"
     ]
    },
    {
     "name": "stderr",
     "output_type": "stream",
     "text": [
      " 46%|████▌     | 6/13 [05:59<07:03, 60.48s/it]"
     ]
    },
    {
     "name": "stdout",
     "output_type": "stream",
     "text": [
      "Downloaded M.6663 file:  1\n",
      "Downloading M.7612 file:  1\n",
      "Downloaded M.7612 file:  1\n",
      "Downloading M.7612 file:  2\n"
     ]
    },
    {
     "name": "stderr",
     "output_type": "stream",
     "text": [
      " 54%|█████▍    | 7/13 [11:19<14:30, 145.07s/it]"
     ]
    },
    {
     "name": "stdout",
     "output_type": "stream",
     "text": [
      "Downloaded M.7612 file:  2\n",
      "Downloading M.7878 file:  1\n",
      "Downloaded M.7878 file:  1\n",
      "Downloading M.7878 file:  2\n"
     ]
    },
    {
     "name": "stderr",
     "output_type": "stream",
     "text": [
      " 62%|██████▏   | 8/13 [11:39<08:46, 105.34s/it]"
     ]
    },
    {
     "name": "stdout",
     "output_type": "stream",
     "text": [
      "Downloaded M.7878 file:  2\n",
      "Downloading M.7995 file:  1\n"
     ]
    },
    {
     "name": "stderr",
     "output_type": "stream",
     "text": [
      " 69%|██████▉   | 9/13 [11:46<04:58, 74.72s/it] "
     ]
    },
    {
     "name": "stdout",
     "output_type": "stream",
     "text": [
      "Downloaded M.7995 file:  1\n",
      "Downloading M.8677 file:  1\n"
     ]
    },
    {
     "name": "stderr",
     "output_type": "stream",
     "text": [
      " 77%|███████▋  | 10/13 [13:24<04:05, 81.67s/it]"
     ]
    },
    {
     "name": "stdout",
     "output_type": "stream",
     "text": [
      "Downloaded M.8677 file:  1\n",
      "Downloading M.8713 file:  1\n"
     ]
    },
    {
     "name": "stderr",
     "output_type": "stream",
     "text": [
      " 85%|████████▍ | 11/13 [14:37<02:38, 79.15s/it]"
     ]
    },
    {
     "name": "stdout",
     "output_type": "stream",
     "text": [
      "Downloaded M.8713 file:  1\n",
      "Downloading M.8900 file:  1\n"
     ]
    },
    {
     "name": "stderr",
     "output_type": "stream",
     "text": [
      " 92%|█████████▏| 12/13 [15:04<01:03, 63.38s/it]"
     ]
    },
    {
     "name": "stdout",
     "output_type": "stream",
     "text": [
      "Downloaded M.8900 file:  1\n"
     ]
    },
    {
     "name": "stderr",
     "output_type": "stream",
     "text": [
      "100%|██████████| 13/13 [15:07<00:00, 69.81s/it]"
     ]
    },
    {
     "name": "stdout",
     "output_type": "stream",
     "text": [
      "Successful downloads:  14\n",
      "Unsuccessful downloads:  0\n"
     ]
    },
    {
     "name": "stderr",
     "output_type": "stream",
     "text": [
      "\n"
     ]
    }
   ],
   "source": [
    "# download Article 8.3 pdfs in case folder\n",
    "j = 0\n",
    "k = 0\n",
    "for l in tqdm(merger_details_df[merger_details_df['article']==\"art8.3\"]['link']):\n",
    "    m,n = download_pdf(l, article=\"art8.3\") \n",
    "    k += n\n",
    "    j += m\n",
    "print(\"Successful downloads: \", j)\n",
    "print(\"Unsuccessful downloads: \", k)\n"
   ]
  },
  {
   "attachments": {},
   "cell_type": "markdown",
   "metadata": {},
   "source": [
    "#### Article 8.2 (73 cases)"
   ]
  },
  {
   "cell_type": "code",
   "execution_count": null,
   "metadata": {},
   "outputs": [],
   "source": [
    "# download Article 8.2 pdfs in case folder\n",
    "j = 0\n",
    "k = 0\n",
    "for l in tqdm(merger_details_df[merger_details_df['article']==\"art8.2\"]['link']):\n",
    "    m,n = download_pdf6(l, article=\"art8.2\") \n",
    "    k += n\n",
    "    j += m\n",
    "print(\"Successful downloads: \", j)\n",
    "print(\"Unsuccessful downloads: \", k)"
   ]
  },
  {
   "attachments": {},
   "cell_type": "markdown",
   "metadata": {},
   "source": [
    "#### Article 6.1(b)_cc (240 cases)"
   ]
  },
  {
   "cell_type": "code",
   "execution_count": 6,
   "metadata": {},
   "outputs": [
    {
     "name": "stderr",
     "output_type": "stream",
     "text": [
      "  0%|          | 0/240 [00:00<?, ?it/s]"
     ]
    },
    {
     "name": "stdout",
     "output_type": "stream",
     "text": [
      "Downloading M.10047 file:  1\n",
      "Downloaded M.10047 file:  1\n",
      "Downloading M.10047 file:  2\n"
     ]
    },
    {
     "name": "stderr",
     "output_type": "stream",
     "text": [
      "  0%|          | 1/240 [01:34<6:15:56, 94.38s/it]"
     ]
    },
    {
     "name": "stdout",
     "output_type": "stream",
     "text": [
      "Downloaded M.10047 file:  2\n",
      "Downloading M.10108 file:  1\n",
      "Downloaded M.10108 file:  1\n",
      "Downloading M.10108 file:  2\n",
      "Downloaded M.10108 file:  2\n",
      "Downloading M.10108 file:  3\n",
      "Downloaded M.10108 file:  3\n",
      "Downloading M.10108 file:  4\n"
     ]
    },
    {
     "name": "stderr",
     "output_type": "stream",
     "text": [
      "  1%|          | 2/240 [07:08<15:33:24, 235.31s/it]"
     ]
    },
    {
     "name": "stdout",
     "output_type": "stream",
     "text": [
      "Downloaded M.10108 file:  4\n",
      "Downloading M.10153 file:  1\n",
      "Downloaded M.10153 file:  1\n",
      "Downloading M.10153 file:  2\n"
     ]
    },
    {
     "name": "stderr",
     "output_type": "stream",
     "text": [
      "  1%|▏         | 3/240 [08:21<10:36:27, 161.13s/it]"
     ]
    },
    {
     "name": "stdout",
     "output_type": "stream",
     "text": [
      "Downloaded M.10153 file:  2\n"
     ]
    },
    {
     "name": "stderr",
     "output_type": "stream",
     "text": [
      "  2%|▏         | 4/240 [08:45<7:00:47, 106.98s/it] "
     ]
    },
    {
     "name": "stdout",
     "output_type": "stream",
     "text": [
      "Downloading M.10341 file:  1\n",
      "Downloaded M.10341 file:  1\n",
      "Downloading M.10341 file:  2\n"
     ]
    },
    {
     "name": "stderr",
     "output_type": "stream",
     "text": [
      "  2%|▏         | 5/240 [08:54<4:40:54, 71.72s/it] "
     ]
    },
    {
     "name": "stdout",
     "output_type": "stream",
     "text": [
      "Downloaded M.10341 file:  2\n",
      "Downloading M.10431 file:  1\n",
      "Downloaded M.10431 file:  1\n",
      "Downloading M.10431 file:  2\n"
     ]
    },
    {
     "name": "stderr",
     "output_type": "stream",
     "text": [
      "  2%|▎         | 6/240 [09:29<3:50:47, 59.18s/it]"
     ]
    },
    {
     "name": "stdout",
     "output_type": "stream",
     "text": [
      "Downloaded M.10431 file:  2\n",
      "Downloading M.10506 file:  1\n",
      "Downloaded M.10506 file:  1\n",
      "Downloading M.10506 file:  2\n"
     ]
    },
    {
     "name": "stderr",
     "output_type": "stream",
     "text": [
      "  3%|▎         | 7/240 [09:59<3:12:53, 49.67s/it]"
     ]
    },
    {
     "name": "stdout",
     "output_type": "stream",
     "text": [
      "Downloaded M.10506 file:  2\n",
      "Downloading M.10575 file:  1\n",
      "Downloaded M.10575 file:  1\n",
      "Downloading M.10575 file:  2\n"
     ]
    },
    {
     "name": "stderr",
     "output_type": "stream",
     "text": [
      "  3%|▎         | 8/240 [11:02<3:28:56, 54.04s/it]"
     ]
    },
    {
     "name": "stdout",
     "output_type": "stream",
     "text": [
      "Downloaded M.10575 file:  2\n"
     ]
    },
    {
     "name": "stderr",
     "output_type": "stream",
     "text": [
      "  4%|▍         | 10/240 [12:11<2:44:08, 42.82s/it]"
     ]
    },
    {
     "name": "stdout",
     "output_type": "stream",
     "text": [
      "Downloading M.10699 file:  1\n"
     ]
    },
    {
     "name": "stderr",
     "output_type": "stream",
     "text": [
      "  5%|▍         | 11/240 [12:42<2:29:16, 39.11s/it]"
     ]
    },
    {
     "name": "stdout",
     "output_type": "stream",
     "text": [
      "Downloaded M.10699 file:  1\n"
     ]
    },
    {
     "name": "stderr",
     "output_type": "stream",
     "text": [
      "  6%|▋         | 15/240 [13:36<1:06:23, 17.70s/it]"
     ]
    },
    {
     "name": "stdout",
     "output_type": "stream",
     "text": [
      "Downloading M.3465 file:  1\n"
     ]
    },
    {
     "name": "stderr",
     "output_type": "stream",
     "text": [
      "  7%|▋         | 16/240 [14:22<1:38:46, 26.46s/it]"
     ]
    },
    {
     "name": "stdout",
     "output_type": "stream",
     "text": [
      "Downloaded M.3465 file:  1\n",
      "Downloading M.3544 file:  1\n"
     ]
    },
    {
     "name": "stderr",
     "output_type": "stream",
     "text": [
      "  7%|▋         | 17/240 [15:30<2:23:49, 38.70s/it]"
     ]
    },
    {
     "name": "stdout",
     "output_type": "stream",
     "text": [
      "Downloaded M.3544 file:  1\n",
      "Downloading M.3558 file:  1\n"
     ]
    },
    {
     "name": "stderr",
     "output_type": "stream",
     "text": [
      "  8%|▊         | 18/240 [16:37<2:55:12, 47.35s/it]"
     ]
    },
    {
     "name": "stdout",
     "output_type": "stream",
     "text": [
      "Downloaded M.3558 file:  1\n"
     ]
    },
    {
     "name": "stderr",
     "output_type": "stream",
     "text": [
      "  8%|▊         | 19/240 [17:01<2:28:30, 40.32s/it]"
     ]
    },
    {
     "name": "stdout",
     "output_type": "stream",
     "text": [
      "Downloading M.3593 file:  1\n"
     ]
    },
    {
     "name": "stderr",
     "output_type": "stream",
     "text": [
      "  8%|▊         | 20/240 [17:26<2:11:18, 35.81s/it]"
     ]
    },
    {
     "name": "stdout",
     "output_type": "stream",
     "text": [
      "Downloaded M.3593 file:  1\n",
      "Downloading M.3658 file:  1\n"
     ]
    },
    {
     "name": "stderr",
     "output_type": "stream",
     "text": [
      "  9%|▉         | 21/240 [18:22<2:32:18, 41.73s/it]"
     ]
    },
    {
     "name": "stdout",
     "output_type": "stream",
     "text": [
      "Downloaded M.3658 file:  1\n",
      "Downloading M.3680 file:  1\n"
     ]
    },
    {
     "name": "stderr",
     "output_type": "stream",
     "text": [
      "  9%|▉         | 22/240 [19:34<3:05:03, 50.93s/it]"
     ]
    },
    {
     "name": "stdout",
     "output_type": "stream",
     "text": [
      "Downloaded M.3680 file:  1\n",
      "Downloading M.3686 file:  1\n"
     ]
    },
    {
     "name": "stderr",
     "output_type": "stream",
     "text": [
      " 10%|▉         | 23/240 [20:00<2:37:02, 43.42s/it]"
     ]
    },
    {
     "name": "stdout",
     "output_type": "stream",
     "text": [
      "Downloaded M.3686 file:  1\n",
      "Downloading M.3692 file:  1\n"
     ]
    },
    {
     "name": "stderr",
     "output_type": "stream",
     "text": [
      " 10%|█         | 24/240 [20:05<1:54:36, 31.84s/it]"
     ]
    },
    {
     "name": "stdout",
     "output_type": "stream",
     "text": [
      "Downloaded M.3692 file:  1\n",
      "Downloading M.3732 file:  1\n"
     ]
    },
    {
     "name": "stderr",
     "output_type": "stream",
     "text": [
      " 10%|█         | 25/240 [20:10<1:25:28, 23.85s/it]"
     ]
    },
    {
     "name": "stdout",
     "output_type": "stream",
     "text": [
      "Downloaded M.3732 file:  1\n",
      "Downloading M.3751 file:  1\n"
     ]
    },
    {
     "name": "stderr",
     "output_type": "stream",
     "text": [
      " 11%|█         | 26/240 [20:14<1:04:02, 17.96s/it]"
     ]
    },
    {
     "name": "stdout",
     "output_type": "stream",
     "text": [
      "Downloaded M.3751 file:  1\n",
      "Downloading M.3765 file:  1\n"
     ]
    },
    {
     "name": "stderr",
     "output_type": "stream",
     "text": [
      " 11%|█▏        | 27/240 [20:41<1:12:25, 20.40s/it]"
     ]
    },
    {
     "name": "stdout",
     "output_type": "stream",
     "text": [
      "Downloaded M.3765 file:  1\n",
      "Downloading M.3770 file:  1\n",
      "Downloaded M.3770 file:  1\n",
      "Downloading M.3770 file:  2\n"
     ]
    },
    {
     "name": "stderr",
     "output_type": "stream",
     "text": [
      " 12%|█▏        | 28/240 [21:12<1:23:27, 23.62s/it]"
     ]
    },
    {
     "name": "stdout",
     "output_type": "stream",
     "text": [
      "Downloaded M.3770 file:  2\n",
      "Downloading M.3779 file:  1\n"
     ]
    },
    {
     "name": "stderr",
     "output_type": "stream",
     "text": [
      " 12%|█▏        | 29/240 [21:38<1:25:57, 24.44s/it]"
     ]
    },
    {
     "name": "stdout",
     "output_type": "stream",
     "text": [
      "Downloaded M.3779 file:  1\n",
      "Downloading M.3817 file:  1\n"
     ]
    },
    {
     "name": "stderr",
     "output_type": "stream",
     "text": [
      " 12%|█▎        | 30/240 [22:25<1:49:31, 31.29s/it]"
     ]
    },
    {
     "name": "stdout",
     "output_type": "stream",
     "text": [
      "Downloaded M.3817 file:  1\n",
      "Downloading M.3829 file:  1\n"
     ]
    },
    {
     "name": "stderr",
     "output_type": "stream",
     "text": [
      " 13%|█▎        | 31/240 [22:31<1:22:36, 23.72s/it]"
     ]
    },
    {
     "name": "stdout",
     "output_type": "stream",
     "text": [
      "Downloaded M.3829 file:  1\n",
      "Downloading M.3863 file:  1\n"
     ]
    },
    {
     "name": "stderr",
     "output_type": "stream",
     "text": [
      " 13%|█▎        | 32/240 [22:57<1:24:17, 24.31s/it]"
     ]
    },
    {
     "name": "stdout",
     "output_type": "stream",
     "text": [
      "Downloaded M.3863 file:  1\n",
      "Downloading M.3935 file:  1\n"
     ]
    },
    {
     "name": "stderr",
     "output_type": "stream",
     "text": [
      " 14%|█▍        | 33/240 [23:02<1:03:38, 18.45s/it]"
     ]
    },
    {
     "name": "stdout",
     "output_type": "stream",
     "text": [
      "Downloaded M.3935 file:  1\n"
     ]
    },
    {
     "name": "stderr",
     "output_type": "stream",
     "text": [
      " 14%|█▍        | 34/240 [23:47<1:30:45, 26.43s/it]"
     ]
    },
    {
     "name": "stdout",
     "output_type": "stream",
     "text": [
      "Downloading M.3946 file:  1\n"
     ]
    },
    {
     "name": "stderr",
     "output_type": "stream",
     "text": [
      " 15%|█▍        | 35/240 [24:42<1:59:43, 35.04s/it]"
     ]
    },
    {
     "name": "stdout",
     "output_type": "stream",
     "text": [
      "Downloaded M.3946 file:  1\n",
      "Downloading M.3998 file:  1\n"
     ]
    },
    {
     "name": "stderr",
     "output_type": "stream",
     "text": [
      " 15%|█▌        | 36/240 [24:47<1:28:18, 25.97s/it]"
     ]
    },
    {
     "name": "stdout",
     "output_type": "stream",
     "text": [
      "Downloaded M.3998 file:  1\n",
      "Downloading M.4035 file:  1\n"
     ]
    },
    {
     "name": "stderr",
     "output_type": "stream",
     "text": [
      " 15%|█▌        | 37/240 [25:13<1:28:19, 26.11s/it]"
     ]
    },
    {
     "name": "stdout",
     "output_type": "stream",
     "text": [
      "Downloaded M.4035 file:  1\n"
     ]
    },
    {
     "name": "stderr",
     "output_type": "stream",
     "text": [
      " 16%|█▌        | 38/240 [25:58<1:47:03, 31.80s/it]"
     ]
    },
    {
     "name": "stdout",
     "output_type": "stream",
     "text": [
      "Downloading M.4066 file:  1\n"
     ]
    },
    {
     "name": "stderr",
     "output_type": "stream",
     "text": [
      " 16%|█▋        | 39/240 [26:04<1:19:53, 23.85s/it]"
     ]
    },
    {
     "name": "stdout",
     "output_type": "stream",
     "text": [
      "Downloaded M.4066 file:  1\n",
      "Downloading M.4137 file:  1\n"
     ]
    },
    {
     "name": "stderr",
     "output_type": "stream",
     "text": [
      " 17%|█▋        | 40/240 [26:54<1:45:50, 31.75s/it]"
     ]
    },
    {
     "name": "stdout",
     "output_type": "stream",
     "text": [
      "Downloaded M.4137 file:  1\n",
      "Downloading M.4141 file:  1\n"
     ]
    },
    {
     "name": "stderr",
     "output_type": "stream",
     "text": [
      " 17%|█▋        | 41/240 [27:43<2:02:12, 36.85s/it]"
     ]
    },
    {
     "name": "stdout",
     "output_type": "stream",
     "text": [
      "Downloaded M.4141 file:  1\n",
      "Downloading M.4150 file:  1\n"
     ]
    },
    {
     "name": "stderr",
     "output_type": "stream",
     "text": [
      " 18%|█▊        | 42/240 [28:51<2:32:37, 46.25s/it]"
     ]
    },
    {
     "name": "stdout",
     "output_type": "stream",
     "text": [
      "Downloaded M.4150 file:  1\n",
      "Downloading M.4151 file:  1\n",
      "Downloaded M.4151 file:  1\n",
      "Downloading M.4151 file:  2\n",
      "Downloaded M.4151 file:  2\n",
      "Downloading M.4151 file:  3\n",
      "Downloaded M.4151 file:  3\n",
      "Downloading M.4151 file:  4\n"
     ]
    },
    {
     "name": "stderr",
     "output_type": "stream",
     "text": [
      " 18%|█▊        | 43/240 [31:05<3:58:56, 72.78s/it]"
     ]
    },
    {
     "name": "stdout",
     "output_type": "stream",
     "text": [
      "Downloaded M.4151 file:  4\n",
      "Downloading M.4153 file:  1\n"
     ]
    },
    {
     "name": "stderr",
     "output_type": "stream",
     "text": [
      " 18%|█▊        | 44/240 [32:19<3:58:40, 73.06s/it]"
     ]
    },
    {
     "name": "stdout",
     "output_type": "stream",
     "text": [
      "Downloaded M.4153 file:  1\n",
      "Downloading M.4242 file:  1\n"
     ]
    },
    {
     "name": "stderr",
     "output_type": "stream",
     "text": [
      " 19%|█▉        | 45/240 [32:24<2:50:48, 52.56s/it]"
     ]
    },
    {
     "name": "stdout",
     "output_type": "stream",
     "text": [
      "Downloaded M.4242 file:  1\n",
      "Downloading M.4314 file:  1\n"
     ]
    },
    {
     "name": "stderr",
     "output_type": "stream",
     "text": [
      " 19%|█▉        | 46/240 [32:52<2:25:52, 45.11s/it]"
     ]
    },
    {
     "name": "stdout",
     "output_type": "stream",
     "text": [
      "Downloaded M.4314 file:  1\n",
      "Downloading M.4318 file:  1\n"
     ]
    },
    {
     "name": "stderr",
     "output_type": "stream",
     "text": [
      " 20%|█▉        | 47/240 [33:41<2:29:07, 46.36s/it]"
     ]
    },
    {
     "name": "stdout",
     "output_type": "stream",
     "text": [
      "Downloaded M.4318 file:  1\n",
      "Downloading M.4367 file:  1\n"
     ]
    },
    {
     "name": "stderr",
     "output_type": "stream",
     "text": [
      " 20%|██        | 48/240 [34:07<2:08:54, 40.28s/it]"
     ]
    },
    {
     "name": "stdout",
     "output_type": "stream",
     "text": [
      "Downloaded M.4367 file:  1\n",
      "Downloading M.4475 file:  1\n"
     ]
    },
    {
     "name": "stderr",
     "output_type": "stream",
     "text": [
      " 20%|██        | 49/240 [34:34<1:55:23, 36.25s/it]"
     ]
    },
    {
     "name": "stdout",
     "output_type": "stream",
     "text": [
      "Downloaded M.4475 file:  1\n",
      "Downloading M.4494 file:  1\n",
      "Downloaded M.4494 file:  1\n",
      "Downloading M.4494 file:  2\n"
     ]
    },
    {
     "name": "stderr",
     "output_type": "stream",
     "text": [
      " 21%|██        | 50/240 [36:07<2:48:46, 53.30s/it]"
     ]
    },
    {
     "name": "stdout",
     "output_type": "stream",
     "text": [
      "Downloaded M.4494 file:  2\n",
      "Downloading M.4533 file:  1\n"
     ]
    },
    {
     "name": "stderr",
     "output_type": "stream",
     "text": [
      " 21%|██▏       | 51/240 [36:18<2:07:46, 40.57s/it]"
     ]
    },
    {
     "name": "stdout",
     "output_type": "stream",
     "text": [
      "Downloaded M.4533 file:  1\n",
      "Downloading M.4540 file:  1\n"
     ]
    },
    {
     "name": "stderr",
     "output_type": "stream",
     "text": [
      " 22%|██▏       | 52/240 [36:44<1:53:48, 36.32s/it]"
     ]
    },
    {
     "name": "stdout",
     "output_type": "stream",
     "text": [
      "Downloaded M.4540 file:  1\n",
      "Downloading M.4581 file:  1\n"
     ]
    },
    {
     "name": "stderr",
     "output_type": "stream",
     "text": [
      " 22%|██▏       | 53/240 [37:11<1:44:08, 33.42s/it]"
     ]
    },
    {
     "name": "stdout",
     "output_type": "stream",
     "text": [
      "Downloaded M.4581 file:  1\n",
      "Downloading M.4600 file:  1\n"
     ]
    },
    {
     "name": "stderr",
     "output_type": "stream",
     "text": [
      " 22%|██▎       | 54/240 [38:19<2:16:12, 43.94s/it]"
     ]
    },
    {
     "name": "stdout",
     "output_type": "stream",
     "text": [
      "Downloaded M.4600 file:  1\n",
      "Downloading M.4611 file:  1\n",
      "Downloaded M.4611 file:  1\n",
      "Downloading M.4611 file:  2\n"
     ]
    },
    {
     "name": "stderr",
     "output_type": "stream",
     "text": [
      " 23%|██▎       | 55/240 [38:26<1:40:42, 32.66s/it]"
     ]
    },
    {
     "name": "stdout",
     "output_type": "stream",
     "text": [
      "Downloaded M.4611 file:  2\n",
      "Downloading M.4691 file:  1\n"
     ]
    },
    {
     "name": "stderr",
     "output_type": "stream",
     "text": [
      " 23%|██▎       | 56/240 [38:37<1:20:11, 26.15s/it]"
     ]
    },
    {
     "name": "stdout",
     "output_type": "stream",
     "text": [
      "Downloaded M.4691 file:  1\n",
      "Downloading M.4730 file:  1\n"
     ]
    },
    {
     "name": "stderr",
     "output_type": "stream",
     "text": [
      " 24%|██▍       | 57/240 [39:49<2:01:42, 39.90s/it]"
     ]
    },
    {
     "name": "stdout",
     "output_type": "stream",
     "text": [
      "Downloaded M.4730 file:  1\n",
      "Downloading M.4746 file:  1\n"
     ]
    },
    {
     "name": "stderr",
     "output_type": "stream",
     "text": [
      " 24%|██▍       | 58/240 [40:15<1:48:35, 35.80s/it]"
     ]
    },
    {
     "name": "stdout",
     "output_type": "stream",
     "text": [
      "Downloaded M.4746 file:  1\n",
      "Downloading M.4750 file:  1\n"
     ]
    },
    {
     "name": "stderr",
     "output_type": "stream",
     "text": [
      " 25%|██▍       | 59/240 [41:02<1:57:56, 39.10s/it]"
     ]
    },
    {
     "name": "stdout",
     "output_type": "stream",
     "text": [
      "Downloaded M.4750 file:  1\n",
      "Downloading M.4753 file:  1\n"
     ]
    },
    {
     "name": "stderr",
     "output_type": "stream",
     "text": [
      " 25%|██▌       | 60/240 [41:49<2:04:18, 41.44s/it]"
     ]
    },
    {
     "name": "stdout",
     "output_type": "stream",
     "text": [
      "Downloaded M.4753 file:  1\n",
      "Downloading M.4779 file:  1\n"
     ]
    },
    {
     "name": "stderr",
     "output_type": "stream",
     "text": [
      " 25%|██▌       | 61/240 [42:18<1:53:12, 37.95s/it]"
     ]
    },
    {
     "name": "stdout",
     "output_type": "stream",
     "text": [
      "Downloaded M.4779 file:  1\n",
      "Downloading M.4824 file:  1\n"
     ]
    },
    {
     "name": "stderr",
     "output_type": "stream",
     "text": [
      " 26%|██▌       | 62/240 [43:26<2:18:57, 46.84s/it]"
     ]
    },
    {
     "name": "stdout",
     "output_type": "stream",
     "text": [
      "Downloaded M.4824 file:  1\n",
      "Downloading M.4828 file:  1\n"
     ]
    },
    {
     "name": "stderr",
     "output_type": "stream",
     "text": [
      " 26%|██▋       | 63/240 [44:13<2:18:24, 46.92s/it]"
     ]
    },
    {
     "name": "stdout",
     "output_type": "stream",
     "text": [
      "Downloaded M.4828 file:  1\n",
      "Downloading M.4835 file:  1\n"
     ]
    },
    {
     "name": "stderr",
     "output_type": "stream",
     "text": [
      " 27%|██▋       | 64/240 [44:19<1:41:23, 34.56s/it]"
     ]
    },
    {
     "name": "stdout",
     "output_type": "stream",
     "text": [
      "Downloaded M.4835 file:  1\n",
      "Downloading M.4842 file:  1\n"
     ]
    },
    {
     "name": "stderr",
     "output_type": "stream",
     "text": [
      " 27%|██▋       | 65/240 [44:31<1:20:56, 27.75s/it]"
     ]
    },
    {
     "name": "stdout",
     "output_type": "stream",
     "text": [
      "Downloaded M.4842 file:  1\n",
      "Downloading M.4844 file:  1\n"
     ]
    },
    {
     "name": "stderr",
     "output_type": "stream",
     "text": [
      " 28%|██▊       | 66/240 [45:09<1:29:57, 31.02s/it]"
     ]
    },
    {
     "name": "stdout",
     "output_type": "stream",
     "text": [
      "Downloaded M.4844 file:  1\n",
      "Downloading M.4898 file:  1\n"
     ]
    },
    {
     "name": "stderr",
     "output_type": "stream",
     "text": [
      " 28%|██▊       | 67/240 [46:38<2:19:39, 48.44s/it]"
     ]
    },
    {
     "name": "stdout",
     "output_type": "stream",
     "text": [
      "Downloaded M.4898 file:  1\n",
      "Downloading M.4961 file:  1\n"
     ]
    },
    {
     "name": "stderr",
     "output_type": "stream",
     "text": [
      " 28%|██▊       | 68/240 [47:05<2:00:05, 41.90s/it]"
     ]
    },
    {
     "name": "stdout",
     "output_type": "stream",
     "text": [
      "Downloaded M.4961 file:  1\n",
      "Downloading M.4963 file:  1\n"
     ]
    },
    {
     "name": "stderr",
     "output_type": "stream",
     "text": [
      " 29%|██▉       | 69/240 [47:36<1:50:06, 38.63s/it]"
     ]
    },
    {
     "name": "stdout",
     "output_type": "stream",
     "text": [
      "Downloaded M.4963 file:  1\n",
      "Downloading M.5005 file:  1\n"
     ]
    },
    {
     "name": "stderr",
     "output_type": "stream",
     "text": [
      " 29%|██▉       | 70/240 [47:44<1:23:14, 29.38s/it]"
     ]
    },
    {
     "name": "stdout",
     "output_type": "stream",
     "text": [
      "Downloaded M.5005 file:  1\n",
      "Downloading M.5009 file:  1\n"
     ]
    },
    {
     "name": "stderr",
     "output_type": "stream",
     "text": [
      " 30%|██▉       | 71/240 [48:30<1:37:12, 34.51s/it]"
     ]
    },
    {
     "name": "stdout",
     "output_type": "stream",
     "text": [
      "Downloaded M.5009 file:  1\n",
      "Downloading M.5020 file:  1\n",
      "Downloaded M.5020 file:  1\n",
      "Downloading M.5020 file:  2\n"
     ]
    },
    {
     "name": "stderr",
     "output_type": "stream",
     "text": [
      " 30%|███       | 72/240 [49:40<2:06:18, 45.11s/it]"
     ]
    },
    {
     "name": "stdout",
     "output_type": "stream",
     "text": [
      "Downloaded M.5020 file:  2\n"
     ]
    },
    {
     "name": "stderr",
     "output_type": "stream",
     "text": [
      " 31%|███       | 74/240 [50:07<1:17:33, 28.03s/it]"
     ]
    },
    {
     "name": "stdout",
     "output_type": "stream",
     "text": [
      "Downloading M.5086 file:  1\n"
     ]
    },
    {
     "name": "stderr",
     "output_type": "stream",
     "text": [
      " 31%|███▏      | 75/240 [50:54<1:32:42, 33.71s/it]"
     ]
    },
    {
     "name": "stdout",
     "output_type": "stream",
     "text": [
      "Downloaded M.5086 file:  1\n",
      "Downloading M.5096 file:  1\n"
     ]
    },
    {
     "name": "stderr",
     "output_type": "stream",
     "text": [
      " 32%|███▏      | 76/240 [51:20<1:25:55, 31.44s/it]"
     ]
    },
    {
     "name": "stdout",
     "output_type": "stream",
     "text": [
      "Downloaded M.5096 file:  1\n",
      "Downloading M.5114 file:  1\n"
     ]
    },
    {
     "name": "stderr",
     "output_type": "stream",
     "text": [
      " 32%|███▏      | 77/240 [51:25<1:03:49, 23.49s/it]"
     ]
    },
    {
     "name": "stdout",
     "output_type": "stream",
     "text": [
      "Downloaded M.5114 file:  1\n",
      "Downloading M.5121 file:  1\n"
     ]
    },
    {
     "name": "stderr",
     "output_type": "stream",
     "text": [
      " 32%|███▎      | 78/240 [52:33<1:39:16, 36.77s/it]"
     ]
    },
    {
     "name": "stdout",
     "output_type": "stream",
     "text": [
      "Downloaded M.5121 file:  1\n",
      "Downloading M.5152 file:  1\n"
     ]
    },
    {
     "name": "stderr",
     "output_type": "stream",
     "text": [
      " 33%|███▎      | 79/240 [53:41<2:03:37, 46.07s/it]"
     ]
    },
    {
     "name": "stdout",
     "output_type": "stream",
     "text": [
      "Downloaded M.5152 file:  1\n",
      "Downloading M.5180 file:  1\n"
     ]
    },
    {
     "name": "stderr",
     "output_type": "stream",
     "text": [
      " 33%|███▎      | 80/240 [53:47<1:31:04, 34.16s/it]"
     ]
    },
    {
     "name": "stdout",
     "output_type": "stream",
     "text": [
      "Downloaded M.5180 file:  1\n",
      "Downloading M.5190 file:  1\n"
     ]
    },
    {
     "name": "stderr",
     "output_type": "stream",
     "text": [
      " 34%|███▍      | 81/240 [54:37<1:42:51, 38.81s/it]"
     ]
    },
    {
     "name": "stdout",
     "output_type": "stream",
     "text": [
      "Downloaded M.5190 file:  1\n",
      "Downloading M.5224 file:  1\n"
     ]
    },
    {
     "name": "stderr",
     "output_type": "stream",
     "text": [
      " 34%|███▍      | 82/240 [54:43<1:16:10, 28.93s/it]"
     ]
    },
    {
     "name": "stdout",
     "output_type": "stream",
     "text": [
      "Downloaded M.5224 file:  1\n",
      "Downloading M.5232 file:  1\n"
     ]
    },
    {
     "name": "stderr",
     "output_type": "stream",
     "text": [
      " 35%|███▍      | 83/240 [55:30<1:30:11, 34.47s/it]"
     ]
    },
    {
     "name": "stdout",
     "output_type": "stream",
     "text": [
      "Downloaded M.5232 file:  1\n",
      "Downloading M.5253 file:  1\n"
     ]
    },
    {
     "name": "stderr",
     "output_type": "stream",
     "text": [
      " 35%|███▌      | 84/240 [56:17<1:39:34, 38.30s/it]"
     ]
    },
    {
     "name": "stdout",
     "output_type": "stream",
     "text": [
      "Downloaded M.5253 file:  1\n",
      "Downloading M.5295 file:  1\n"
     ]
    },
    {
     "name": "stderr",
     "output_type": "stream",
     "text": [
      " 35%|███▌      | 85/240 [56:21<1:12:33, 28.09s/it]"
     ]
    },
    {
     "name": "stdout",
     "output_type": "stream",
     "text": [
      "Downloaded M.5295 file:  1\n",
      "Downloading M.5355 file:  1\n"
     ]
    },
    {
     "name": "stderr",
     "output_type": "stream",
     "text": [
      " 36%|███▌      | 86/240 [56:26<54:11, 21.11s/it]  "
     ]
    },
    {
     "name": "stdout",
     "output_type": "stream",
     "text": [
      "Downloaded M.5355 file:  1\n",
      "Downloading M.5364 file:  1\n",
      "Downloaded M.5364 file:  1\n",
      "Downloading M.5364 file:  2\n",
      "Downloaded M.5364 file:  2\n",
      "Downloading M.5364 file:  3\n",
      "Downloaded M.5364 file:  3\n",
      "Downloading M.5364 file:  4\n"
     ]
    },
    {
     "name": "stderr",
     "output_type": "stream",
     "text": [
      " 36%|███▋      | 87/240 [58:03<1:51:27, 43.71s/it]"
     ]
    },
    {
     "name": "stdout",
     "output_type": "stream",
     "text": [
      "Downloaded M.5364 file:  4\n",
      "Downloading M.5384 file:  1\n",
      "Downloaded M.5384 file:  1\n",
      "Downloading M.5384 file:  2\n"
     ]
    },
    {
     "name": "stderr",
     "output_type": "stream",
     "text": [
      " 37%|███▋      | 88/240 [58:30<1:38:17, 38.80s/it]"
     ]
    },
    {
     "name": "stdout",
     "output_type": "stream",
     "text": [
      "Downloaded M.5384 file:  2\n",
      "Downloading M.5406 file:  1\n"
     ]
    },
    {
     "name": "stderr",
     "output_type": "stream",
     "text": [
      " 37%|███▋      | 89/240 [59:18<1:44:18, 41.44s/it]"
     ]
    },
    {
     "name": "stdout",
     "output_type": "stream",
     "text": [
      "Downloaded M.5406 file:  1\n",
      "Downloading M.5421 file:  1\n"
     ]
    },
    {
     "name": "stderr",
     "output_type": "stream",
     "text": [
      " 38%|███▊      | 90/240 [59:23<1:16:54, 30.76s/it]"
     ]
    },
    {
     "name": "stdout",
     "output_type": "stream",
     "text": [
      "Downloaded M.5421 file:  1\n",
      "Downloading M.5467 file:  1\n"
     ]
    },
    {
     "name": "stderr",
     "output_type": "stream",
     "text": [
      " 38%|███▊      | 91/240 [1:01:08<2:11:26, 52.93s/it]"
     ]
    },
    {
     "name": "stdout",
     "output_type": "stream",
     "text": [
      "Downloaded M.5467 file:  1\n",
      "Downloading M.5476 file:  1\n"
     ]
    },
    {
     "name": "stderr",
     "output_type": "stream",
     "text": [
      " 38%|███▊      | 92/240 [1:01:34<1:50:30, 44.80s/it]"
     ]
    },
    {
     "name": "stdout",
     "output_type": "stream",
     "text": [
      "Downloaded M.5476 file:  1\n",
      "Downloading M.5496 file:  1\n"
     ]
    },
    {
     "name": "stderr",
     "output_type": "stream",
     "text": [
      " 39%|███▉      | 93/240 [1:02:49<2:11:54, 53.84s/it]"
     ]
    },
    {
     "name": "stdout",
     "output_type": "stream",
     "text": [
      "Downloaded M.5496 file:  1\n",
      "Downloading M.5549 file:  1\n",
      "Downloaded M.5549 file:  1\n",
      "Downloading M.5549 file:  2\n"
     ]
    },
    {
     "name": "stderr",
     "output_type": "stream",
     "text": [
      " 39%|███▉      | 94/240 [1:03:56<2:20:49, 57.87s/it]"
     ]
    },
    {
     "name": "stdout",
     "output_type": "stream",
     "text": [
      "Downloaded M.5549 file:  2\n"
     ]
    },
    {
     "name": "stderr",
     "output_type": "stream",
     "text": [
      " 40%|███▉      | 95/240 [1:03:59<1:39:59, 41.38s/it]"
     ]
    },
    {
     "name": "stdout",
     "output_type": "stream",
     "text": [
      "Downloading M.5597 file:  1\n"
     ]
    },
    {
     "name": "stderr",
     "output_type": "stream",
     "text": [
      " 40%|████      | 96/240 [1:04:55<1:49:58, 45.82s/it]"
     ]
    },
    {
     "name": "stdout",
     "output_type": "stream",
     "text": [
      "Downloaded M.5597 file:  1\n",
      "Downloading M.5599 file:  1\n"
     ]
    },
    {
     "name": "stderr",
     "output_type": "stream",
     "text": [
      " 40%|████      | 97/240 [1:05:44<1:51:13, 46.67s/it]"
     ]
    },
    {
     "name": "stdout",
     "output_type": "stream",
     "text": [
      "Downloaded M.5599 file:  1\n",
      "Downloading M.5611 file:  1\n"
     ]
    },
    {
     "name": "stderr",
     "output_type": "stream",
     "text": [
      " 41%|████      | 98/240 [1:07:13<2:20:32, 59.38s/it]"
     ]
    },
    {
     "name": "stdout",
     "output_type": "stream",
     "text": [
      "Downloaded M.5611 file:  1\n",
      "Downloading M.5644 file:  1\n"
     ]
    },
    {
     "name": "stderr",
     "output_type": "stream",
     "text": [
      " 41%|████▏     | 99/240 [1:07:18<1:41:09, 43.05s/it]"
     ]
    },
    {
     "name": "stdout",
     "output_type": "stream",
     "text": [
      "Downloaded M.5644 file:  1\n",
      "Downloading M.5650 file:  1\n"
     ]
    },
    {
     "name": "stderr",
     "output_type": "stream",
     "text": [
      " 42%|████▏     | 100/240 [1:08:05<1:43:13, 44.24s/it]"
     ]
    },
    {
     "name": "stdout",
     "output_type": "stream",
     "text": [
      "Downloaded M.5650 file:  1\n",
      "Downloading M.5655 file:  1\n"
     ]
    },
    {
     "name": "stderr",
     "output_type": "stream",
     "text": [
      " 42%|████▏     | 101/240 [1:09:18<2:02:18, 52.80s/it]"
     ]
    },
    {
     "name": "stdout",
     "output_type": "stream",
     "text": [
      "Downloaded M.5655 file:  1\n",
      "Downloading M.5661 file:  1\n"
     ]
    },
    {
     "name": "stderr",
     "output_type": "stream",
     "text": [
      " 42%|████▎     | 102/240 [1:10:03<1:56:32, 50.67s/it]"
     ]
    },
    {
     "name": "stdout",
     "output_type": "stream",
     "text": [
      "Downloaded M.5661 file:  1\n",
      "Downloading M.5664 file:  1\n"
     ]
    },
    {
     "name": "stderr",
     "output_type": "stream",
     "text": [
      " 43%|████▎     | 103/240 [1:11:32<2:21:48, 62.11s/it]"
     ]
    },
    {
     "name": "stdout",
     "output_type": "stream",
     "text": [
      "Downloaded M.5664 file:  1\n",
      "Downloading M.5669 file:  1\n"
     ]
    },
    {
     "name": "stderr",
     "output_type": "stream",
     "text": [
      " 43%|████▎     | 104/240 [1:11:57<1:55:34, 50.99s/it]"
     ]
    },
    {
     "name": "stdout",
     "output_type": "stream",
     "text": [
      "Downloaded M.5669 file:  1\n",
      "Downloading M.5721 file:  1\n",
      "Downloaded M.5721 file:  1\n",
      "Downloading M.5721 file:  2\n"
     ]
    },
    {
     "name": "stderr",
     "output_type": "stream",
     "text": [
      " 44%|████▍     | 105/240 [1:13:06<2:06:29, 56.22s/it]"
     ]
    },
    {
     "name": "stdout",
     "output_type": "stream",
     "text": [
      "Downloaded M.5721 file:  2\n",
      "Downloading M.5756 file:  1\n"
     ]
    },
    {
     "name": "stderr",
     "output_type": "stream",
     "text": [
      " 44%|████▍     | 106/240 [1:13:31<1:45:12, 47.11s/it]"
     ]
    },
    {
     "name": "stdout",
     "output_type": "stream",
     "text": [
      "Downloaded M.5756 file:  1\n",
      "Downloading M.5778 file:  1\n"
     ]
    },
    {
     "name": "stderr",
     "output_type": "stream",
     "text": [
      " 45%|████▍     | 107/240 [1:13:57<1:30:17, 40.73s/it]"
     ]
    },
    {
     "name": "stdout",
     "output_type": "stream",
     "text": [
      "Downloaded M.5778 file:  1\n",
      "Downloading M.5855 file:  1\n"
     ]
    },
    {
     "name": "stderr",
     "output_type": "stream",
     "text": [
      " 45%|████▌     | 108/240 [1:14:23<1:19:53, 36.31s/it]"
     ]
    },
    {
     "name": "stdout",
     "output_type": "stream",
     "text": [
      "Downloaded M.5855 file:  1\n",
      "Downloading M.5865 file:  1\n"
     ]
    },
    {
     "name": "stderr",
     "output_type": "stream",
     "text": [
      " 45%|████▌     | 109/240 [1:15:32<1:40:37, 46.09s/it]"
     ]
    },
    {
     "name": "stdout",
     "output_type": "stream",
     "text": [
      "Downloaded M.5865 file:  1\n",
      "Downloading M.5927 file:  1\n"
     ]
    },
    {
     "name": "stderr",
     "output_type": "stream",
     "text": [
      " 46%|████▌     | 110/240 [1:17:01<2:07:28, 58.83s/it]"
     ]
    },
    {
     "name": "stdout",
     "output_type": "stream",
     "text": [
      "Downloaded M.5927 file:  1\n",
      "Downloading M.5953 file:  1\n"
     ]
    },
    {
     "name": "stderr",
     "output_type": "stream",
     "text": [
      " 46%|████▋     | 111/240 [1:17:05<1:30:58, 42.31s/it]"
     ]
    },
    {
     "name": "stdout",
     "output_type": "stream",
     "text": [
      "Downloaded M.5953 file:  1\n",
      "Downloading M.5978 file:  1\n"
     ]
    },
    {
     "name": "stderr",
     "output_type": "stream",
     "text": [
      " 47%|████▋     | 112/240 [1:17:51<1:32:42, 43.45s/it]"
     ]
    },
    {
     "name": "stdout",
     "output_type": "stream",
     "text": [
      "Downloaded M.5978 file:  1\n",
      "Downloading M.5984 file:  1\n"
     ]
    },
    {
     "name": "stderr",
     "output_type": "stream",
     "text": [
      " 47%|████▋     | 113/240 [1:18:18<1:21:38, 38.57s/it]"
     ]
    },
    {
     "name": "stdout",
     "output_type": "stream",
     "text": [
      "Downloaded M.5984 file:  1\n",
      "Downloading M.6093 file:  1\n"
     ]
    },
    {
     "name": "stderr",
     "output_type": "stream",
     "text": [
      " 48%|████▊     | 114/240 [1:19:25<1:39:05, 47.19s/it]"
     ]
    },
    {
     "name": "stdout",
     "output_type": "stream",
     "text": [
      "Downloaded M.6093 file:  1\n",
      "Downloading M.6258 file:  1\n"
     ]
    },
    {
     "name": "stderr",
     "output_type": "stream",
     "text": [
      " 48%|████▊     | 115/240 [1:19:51<1:24:48, 40.70s/it]"
     ]
    },
    {
     "name": "stdout",
     "output_type": "stream",
     "text": [
      "Downloaded M.6258 file:  1\n",
      "Downloading M.6447 file:  1\n",
      "Downloaded M.6447 file:  1\n",
      "Downloading M.6447 file:  2\n",
      "Downloaded M.6447 file:  2\n",
      "Downloading M.6447 file:  3\n",
      "Downloaded M.6447 file:  3\n",
      "Downloading M.6447 file:  4\n",
      "Downloaded M.6447 file:  4\n",
      "Downloading M.6447 file:  5\n",
      "Downloaded M.6447 file:  5\n",
      "Downloading M.6447 file:  6\n",
      "Downloaded M.6447 file:  6\n",
      "Downloading M.6447 file:  7\n"
     ]
    },
    {
     "name": "stderr",
     "output_type": "stream",
     "text": [
      " 48%|████▊     | 116/240 [1:22:23<2:33:11, 74.12s/it]"
     ]
    },
    {
     "name": "stdout",
     "output_type": "stream",
     "text": [
      "Downloaded M.6447 file:  7\n",
      "Downloading M.6455 file:  1\n"
     ]
    },
    {
     "name": "stderr",
     "output_type": "stream",
     "text": [
      " 49%|████▉     | 117/240 [1:23:09<2:14:39, 65.69s/it]"
     ]
    },
    {
     "name": "stdout",
     "output_type": "stream",
     "text": [
      "Downloaded M.6455 file:  1\n",
      "Downloading M.6459 file:  1\n"
     ]
    },
    {
     "name": "stderr",
     "output_type": "stream",
     "text": [
      " 49%|████▉     | 118/240 [1:24:16<2:14:38, 66.22s/it]"
     ]
    },
    {
     "name": "stdout",
     "output_type": "stream",
     "text": [
      "Downloaded M.6459 file:  1\n",
      "Downloading M.6503 file:  1\n"
     ]
    },
    {
     "name": "stderr",
     "output_type": "stream",
     "text": [
      " 50%|████▉     | 119/240 [1:24:20<1:35:59, 47.60s/it]"
     ]
    },
    {
     "name": "stdout",
     "output_type": "stream",
     "text": [
      "Downloaded M.6503 file:  1\n",
      "Downloading M.6512 file:  1\n"
     ]
    },
    {
     "name": "stderr",
     "output_type": "stream",
     "text": [
      " 50%|█████     | 120/240 [1:24:31<1:12:52, 36.44s/it]"
     ]
    },
    {
     "name": "stdout",
     "output_type": "stream",
     "text": [
      "Downloaded M.6512 file:  1\n",
      "Downloading M.6541 file:  1\n"
     ]
    },
    {
     "name": "stderr",
     "output_type": "stream",
     "text": [
      " 50%|█████     | 121/240 [1:24:41<56:51, 28.67s/it]  "
     ]
    },
    {
     "name": "stdout",
     "output_type": "stream",
     "text": [
      "Downloaded M.6541 file:  1\n",
      "Downloading M.6564 file:  1\n"
     ]
    },
    {
     "name": "stderr",
     "output_type": "stream",
     "text": [
      " 51%|█████     | 122/240 [1:24:46<42:11, 21.45s/it]"
     ]
    },
    {
     "name": "stdout",
     "output_type": "stream",
     "text": [
      "Downloaded M.6564 file:  1\n",
      "Downloading M.6607 file:  1\n",
      "Downloaded M.6607 file:  1\n",
      "Downloading M.6607 file:  2\n",
      "Downloaded M.6607 file:  2\n",
      "Downloading M.6607 file:  3\n"
     ]
    },
    {
     "name": "stderr",
     "output_type": "stream",
     "text": [
      " 51%|█████▏    | 123/240 [1:26:38<1:34:39, 48.54s/it]"
     ]
    },
    {
     "name": "stdout",
     "output_type": "stream",
     "text": [
      "Downloaded M.6607 file:  3\n",
      "Downloading M.6611 file:  1\n"
     ]
    },
    {
     "name": "stderr",
     "output_type": "stream",
     "text": [
      " 52%|█████▏    | 124/240 [1:27:03<1:20:17, 41.53s/it]"
     ]
    },
    {
     "name": "stdout",
     "output_type": "stream",
     "text": [
      "Downloaded M.6611 file:  1\n",
      "Downloading M.6682 file:  1\n"
     ]
    },
    {
     "name": "stderr",
     "output_type": "stream",
     "text": [
      " 52%|█████▏    | 125/240 [1:27:50<1:22:59, 43.30s/it]"
     ]
    },
    {
     "name": "stdout",
     "output_type": "stream",
     "text": [
      "Downloaded M.6682 file:  1\n",
      "Downloading M.6722 file:  1\n"
     ]
    },
    {
     "name": "stderr",
     "output_type": "stream",
     "text": [
      " 52%|█████▎    | 126/240 [1:27:54<59:46, 31.46s/it]  "
     ]
    },
    {
     "name": "stdout",
     "output_type": "stream",
     "text": [
      "Downloaded M.6722 file:  1\n",
      "Downloading M.6756 file:  1\n"
     ]
    },
    {
     "name": "stderr",
     "output_type": "stream",
     "text": [
      " 53%|█████▎    | 127/240 [1:29:02<1:19:30, 42.22s/it]"
     ]
    },
    {
     "name": "stdout",
     "output_type": "stream",
     "text": [
      "Downloaded M.6756 file:  1\n",
      "Downloading M.6813 file:  1\n"
     ]
    },
    {
     "name": "stderr",
     "output_type": "stream",
     "text": [
      " 53%|█████▎    | 128/240 [1:29:27<1:09:11, 37.07s/it]"
     ]
    },
    {
     "name": "stdout",
     "output_type": "stream",
     "text": [
      "Downloaded M.6813 file:  1\n",
      "Downloading M.6844 file:  1\n"
     ]
    },
    {
     "name": "stderr",
     "output_type": "stream",
     "text": [
      " 54%|█████▍    | 129/240 [1:30:13<1:13:38, 39.80s/it]"
     ]
    },
    {
     "name": "stdout",
     "output_type": "stream",
     "text": [
      "Downloaded M.6844 file:  1\n",
      "Downloading M.6850 file:  1\n"
     ]
    },
    {
     "name": "stderr",
     "output_type": "stream",
     "text": [
      " 54%|█████▍    | 130/240 [1:30:17<53:15, 29.05s/it]  "
     ]
    },
    {
     "name": "stdout",
     "output_type": "stream",
     "text": [
      "Downloaded M.6850 file:  1\n",
      "Downloading M.6851 file:  1\n"
     ]
    },
    {
     "name": "stderr",
     "output_type": "stream",
     "text": [
      " 55%|█████▍    | 131/240 [1:30:44<51:50, 28.54s/it]"
     ]
    },
    {
     "name": "stdout",
     "output_type": "stream",
     "text": [
      "Downloaded M.6851 file:  1\n",
      "Downloading M.6857 file:  1\n"
     ]
    },
    {
     "name": "stderr",
     "output_type": "stream",
     "text": [
      " 55%|█████▌    | 132/240 [1:32:13<1:24:09, 46.75s/it]"
     ]
    },
    {
     "name": "stdout",
     "output_type": "stream",
     "text": [
      "Downloaded M.6857 file:  1\n",
      "Downloading M.6924 file:  1\n"
     ]
    },
    {
     "name": "stderr",
     "output_type": "stream",
     "text": [
      " 55%|█████▌    | 133/240 [1:32:39<1:12:19, 40.55s/it]"
     ]
    },
    {
     "name": "stdout",
     "output_type": "stream",
     "text": [
      "Downloaded M.6924 file:  1\n",
      "Downloading M.6944 file:  1\n"
     ]
    },
    {
     "name": "stderr",
     "output_type": "stream",
     "text": [
      " 56%|█████▌    | 134/240 [1:33:10<1:06:07, 37.43s/it]"
     ]
    },
    {
     "name": "stdout",
     "output_type": "stream",
     "text": [
      "Downloaded M.6944 file:  1\n",
      "Downloading M.7000 file:  1\n",
      "Downloaded M.7000 file:  1\n",
      "Downloading M.7000 file:  2\n",
      "Downloaded M.7000 file:  2\n",
      "Downloading M.7000 file:  3\n"
     ]
    },
    {
     "name": "stderr",
     "output_type": "stream",
     "text": [
      " 56%|█████▋    | 135/240 [1:33:21<51:43, 29.56s/it]  "
     ]
    },
    {
     "name": "stdout",
     "output_type": "stream",
     "text": [
      "Downloaded M.7000 file:  3\n",
      "Downloading M.7021 file:  1\n"
     ]
    },
    {
     "name": "stderr",
     "output_type": "stream",
     "text": [
      " 57%|█████▋    | 136/240 [1:34:07<59:46, 34.49s/it]"
     ]
    },
    {
     "name": "stdout",
     "output_type": "stream",
     "text": [
      "Downloaded M.7021 file:  1\n",
      "Downloading M.7104 file:  1\n"
     ]
    },
    {
     "name": "stderr",
     "output_type": "stream",
     "text": [
      " 57%|█████▋    | 137/240 [1:34:54<1:05:51, 38.36s/it]"
     ]
    },
    {
     "name": "stdout",
     "output_type": "stream",
     "text": [
      "Downloaded M.7104 file:  1\n",
      "Downloading M.7115 file:  1\n"
     ]
    },
    {
     "name": "stderr",
     "output_type": "stream",
     "text": [
      " 57%|█████▊    | 138/240 [1:36:05<1:22:00, 48.24s/it]"
     ]
    },
    {
     "name": "stdout",
     "output_type": "stream",
     "text": [
      "Downloaded M.7115 file:  1\n",
      "Downloading M.7155 file:  1\n"
     ]
    },
    {
     "name": "stderr",
     "output_type": "stream",
     "text": [
      " 58%|█████▊    | 139/240 [1:37:20<1:34:38, 56.22s/it]"
     ]
    },
    {
     "name": "stdout",
     "output_type": "stream",
     "text": [
      "Downloaded M.7155 file:  1\n",
      "Downloading M.7174 file:  1\n"
     ]
    },
    {
     "name": "stderr",
     "output_type": "stream",
     "text": [
      " 58%|█████▊    | 140/240 [1:37:50<1:20:34, 48.35s/it]"
     ]
    },
    {
     "name": "stdout",
     "output_type": "stream",
     "text": [
      "Downloaded M.7174 file:  1\n",
      "Downloading M.7220 file:  1\n"
     ]
    },
    {
     "name": "stderr",
     "output_type": "stream",
     "text": [
      " 59%|█████▉    | 141/240 [1:38:02<1:01:54, 37.52s/it]"
     ]
    },
    {
     "name": "stdout",
     "output_type": "stream",
     "text": [
      "Downloaded M.7220 file:  1\n",
      "Downloading M.7252 file:  1\n"
     ]
    },
    {
     "name": "stderr",
     "output_type": "stream",
     "text": [
      " 59%|█████▉    | 142/240 [1:38:53<1:07:52, 41.56s/it]"
     ]
    },
    {
     "name": "stdout",
     "output_type": "stream",
     "text": [
      "Downloaded M.7252 file:  1\n",
      "Downloading M.7268 file:  1\n"
     ]
    },
    {
     "name": "stderr",
     "output_type": "stream",
     "text": [
      " 60%|█████▉    | 143/240 [1:39:43<1:11:03, 43.96s/it]"
     ]
    },
    {
     "name": "stdout",
     "output_type": "stream",
     "text": [
      "Downloaded M.7268 file:  1\n",
      "Downloading M.7275 file:  1\n"
     ]
    },
    {
     "name": "stderr",
     "output_type": "stream",
     "text": [
      " 60%|██████    | 144/240 [1:40:33<1:13:22, 45.86s/it]"
     ]
    },
    {
     "name": "stdout",
     "output_type": "stream",
     "text": [
      "Downloaded M.7275 file:  1\n",
      "Downloading M.7276 file:  1\n"
     ]
    },
    {
     "name": "stderr",
     "output_type": "stream",
     "text": [
      " 60%|██████    | 145/240 [1:41:02<1:04:31, 40.76s/it]"
     ]
    },
    {
     "name": "stdout",
     "output_type": "stream",
     "text": [
      "Downloaded M.7276 file:  1\n",
      "Downloading M.7326 file:  1\n"
     ]
    },
    {
     "name": "stderr",
     "output_type": "stream",
     "text": [
      " 61%|██████    | 146/240 [1:42:10<1:16:42, 48.96s/it]"
     ]
    },
    {
     "name": "stdout",
     "output_type": "stream",
     "text": [
      "Downloaded M.7326 file:  1\n",
      "Downloading M.7333 file:  1\n",
      "Downloaded M.7333 file:  1\n",
      "Downloading M.7333 file:  2\n"
     ]
    },
    {
     "name": "stderr",
     "output_type": "stream",
     "text": [
      " 61%|██████▏   | 147/240 [1:43:44<1:36:39, 62.36s/it]"
     ]
    },
    {
     "name": "stdout",
     "output_type": "stream",
     "text": [
      "Downloaded M.7333 file:  2\n",
      "Downloading M.7337 file:  1\n"
     ]
    },
    {
     "name": "stderr",
     "output_type": "stream",
     "text": [
      " 62%|██████▏   | 148/240 [1:43:52<1:10:37, 46.05s/it]"
     ]
    },
    {
     "name": "stdout",
     "output_type": "stream",
     "text": [
      "Downloaded M.7337 file:  1\n",
      "Downloading M.7353 file:  1\n",
      "Downloaded M.7353 file:  1\n",
      "Downloading M.7353 file:  2\n"
     ]
    },
    {
     "name": "stderr",
     "output_type": "stream",
     "text": [
      " 62%|██████▏   | 149/240 [1:44:55<1:17:44, 51.25s/it]"
     ]
    },
    {
     "name": "stdout",
     "output_type": "stream",
     "text": [
      "Downloaded M.7353 file:  2\n",
      "Downloading M.7379 file:  1\n"
     ]
    },
    {
     "name": "stderr",
     "output_type": "stream",
     "text": [
      " 62%|██████▎   | 150/240 [1:45:24<1:06:47, 44.53s/it]"
     ]
    },
    {
     "name": "stdout",
     "output_type": "stream",
     "text": [
      "Downloaded M.7379 file:  1\n",
      "Downloading M.7387 file:  1\n"
     ]
    },
    {
     "name": "stderr",
     "output_type": "stream",
     "text": [
      " 63%|██████▎   | 151/240 [1:46:56<1:26:58, 58.63s/it]"
     ]
    },
    {
     "name": "stdout",
     "output_type": "stream",
     "text": [
      "Downloaded M.7387 file:  1\n",
      "Downloading M.7420 file:  1\n"
     ]
    },
    {
     "name": "stderr",
     "output_type": "stream",
     "text": [
      " 63%|██████▎   | 152/240 [1:47:01<1:02:31, 42.63s/it]"
     ]
    },
    {
     "name": "stdout",
     "output_type": "stream",
     "text": [
      "Downloaded M.7420 file:  1\n",
      "Downloading M.7435 file:  1\n"
     ]
    },
    {
     "name": "stderr",
     "output_type": "stream",
     "text": [
      " 64%|██████▍   | 153/240 [1:47:50<1:04:34, 44.53s/it]"
     ]
    },
    {
     "name": "stdout",
     "output_type": "stream",
     "text": [
      "Downloaded M.7435 file:  1\n"
     ]
    },
    {
     "name": "stderr",
     "output_type": "stream",
     "text": [
      " 64%|██████▍   | 154/240 [1:47:53<45:52, 32.01s/it]  "
     ]
    },
    {
     "name": "stdout",
     "output_type": "stream",
     "text": [
      "Downloading M.7499 file:  1\n"
     ]
    },
    {
     "name": "stderr",
     "output_type": "stream",
     "text": [
      " 65%|██████▍   | 155/240 [1:48:43<53:05, 37.48s/it]"
     ]
    },
    {
     "name": "stdout",
     "output_type": "stream",
     "text": [
      "Downloaded M.7499 file:  1\n",
      "Downloading M.7541 file:  1\n",
      "Downloaded M.7541 file:  1\n",
      "Downloading M.7541 file:  2\n"
     ]
    },
    {
     "name": "stderr",
     "output_type": "stream",
     "text": [
      " 65%|██████▌   | 156/240 [1:49:48<1:03:52, 45.63s/it]"
     ]
    },
    {
     "name": "stdout",
     "output_type": "stream",
     "text": [
      "Downloaded M.7541 file:  2\n",
      "Downloading M.7559 file:  1\n",
      "Downloaded M.7559 file:  1\n",
      "Downloading M.7559 file:  2\n",
      "Downloaded M.7559 file:  2\n",
      "Downloading M.7559 file:  3\n"
     ]
    },
    {
     "name": "stderr",
     "output_type": "stream",
     "text": [
      " 65%|██████▌   | 157/240 [1:50:38<1:05:05, 47.06s/it]"
     ]
    },
    {
     "name": "stdout",
     "output_type": "stream",
     "text": [
      "Downloaded M.7559 file:  3\n",
      "Downloading M.7585 file:  1\n"
     ]
    },
    {
     "name": "stderr",
     "output_type": "stream",
     "text": [
      " 66%|██████▌   | 158/240 [1:51:25<1:04:18, 47.06s/it]"
     ]
    },
    {
     "name": "stdout",
     "output_type": "stream",
     "text": [
      "Downloaded M.7585 file:  1\n",
      "Downloading M.7603 file:  1\n"
     ]
    },
    {
     "name": "stderr",
     "output_type": "stream",
     "text": [
      " 66%|██████▋   | 159/240 [1:52:23<1:08:07, 50.47s/it]"
     ]
    },
    {
     "name": "stdout",
     "output_type": "stream",
     "text": [
      "Downloaded M.7603 file:  1\n",
      "Downloading M.7678 file:  1\n",
      "Downloaded M.7678 file:  1\n",
      "Downloading M.7678 file:  2\n"
     ]
    },
    {
     "name": "stderr",
     "output_type": "stream",
     "text": [
      " 67%|██████▋   | 160/240 [1:53:58<1:24:49, 63.62s/it]"
     ]
    },
    {
     "name": "stdout",
     "output_type": "stream",
     "text": [
      "Downloaded M.7678 file:  2\n",
      "Downloading M.7737 file:  1\n",
      "Downloaded M.7737 file:  1\n",
      "Downloading M.7737 file:  2\n",
      "Downloaded M.7737 file:  2\n",
      "Downloading M.7737 file:  3\n"
     ]
    },
    {
     "name": "stderr",
     "output_type": "stream",
     "text": [
      " 67%|██████▋   | 161/240 [1:55:53<1:44:16, 79.19s/it]"
     ]
    },
    {
     "name": "stdout",
     "output_type": "stream",
     "text": [
      "Downloaded M.7737 file:  3\n",
      "Downloading M.7744 file:  1\n",
      "Downloaded M.7744 file:  1\n",
      "Downloading M.7744 file:  2\n",
      "Downloaded M.7744 file:  2\n",
      "Downloading M.7744 file:  3\n"
     ]
    },
    {
     "name": "stderr",
     "output_type": "stream",
     "text": [
      " 68%|██████▊   | 162/240 [1:56:49<1:33:49, 72.17s/it]"
     ]
    },
    {
     "name": "stdout",
     "output_type": "stream",
     "text": [
      "Downloaded M.7744 file:  3\n",
      "Downloading M.7746 file:  1\n",
      "Downloaded M.7746 file:  1\n",
      "Downloading M.7746 file:  2\n",
      "Downloaded M.7746 file:  2\n",
      "Downloading M.7746 file:  3\n",
      "Downloaded M.7746 file:  3\n",
      "Downloading M.7746 file:  4\n",
      "Downloaded M.7746 file:  4\n",
      "Downloading M.7746 file:  5\n",
      "Downloaded M.7746 file:  5\n",
      "Downloading M.7746 file:  6\n",
      "Downloaded M.7746 file:  6\n",
      "Downloading M.7746 file:  7\n",
      "Downloaded M.7746 file:  7\n",
      "Downloading M.7746 file:  8\n"
     ]
    },
    {
     "name": "stderr",
     "output_type": "stream",
     "text": [
      " 68%|██████▊   | 163/240 [2:04:56<4:12:25, 196.70s/it]"
     ]
    },
    {
     "name": "stdout",
     "output_type": "stream",
     "text": [
      "Downloaded M.7746 file:  8\n",
      "Downloading M.7777 file:  1\n",
      "Downloaded M.7777 file:  1\n",
      "Downloading M.7777 file:  2\n"
     ]
    },
    {
     "name": "stderr",
     "output_type": "stream",
     "text": [
      " 68%|██████▊   | 164/240 [2:05:44<3:12:36, 152.06s/it]"
     ]
    },
    {
     "name": "stdout",
     "output_type": "stream",
     "text": [
      "Downloaded M.7777 file:  2\n",
      "Downloading M.7792 file:  1\n",
      "Downloaded M.7792 file:  1\n",
      "Downloading M.7792 file:  2\n"
     ]
    },
    {
     "name": "stderr",
     "output_type": "stream",
     "text": [
      " 69%|██████▉   | 165/240 [2:06:11<2:23:03, 114.45s/it]"
     ]
    },
    {
     "name": "stdout",
     "output_type": "stream",
     "text": [
      "Downloaded M.7792 file:  2\n",
      "Downloading M.7822 file:  1\n"
     ]
    },
    {
     "name": "stderr",
     "output_type": "stream",
     "text": [
      " 69%|██████▉   | 166/240 [2:06:15<1:40:28, 81.47s/it] "
     ]
    },
    {
     "name": "stdout",
     "output_type": "stream",
     "text": [
      "Downloaded M.7822 file:  1\n",
      "Downloading M.7873 file:  1\n",
      "Downloaded M.7873 file:  1\n",
      "Downloading M.7873 file:  2\n"
     ]
    },
    {
     "name": "stderr",
     "output_type": "stream",
     "text": [
      " 70%|██████▉   | 167/240 [2:08:09<1:50:52, 91.13s/it]"
     ]
    },
    {
     "name": "stdout",
     "output_type": "stream",
     "text": [
      "Downloaded M.7873 file:  2\n",
      "Downloading M.7881 file:  1\n",
      "Downloaded M.7881 file:  1\n",
      "Downloading M.7881 file:  2\n"
     ]
    },
    {
     "name": "stderr",
     "output_type": "stream",
     "text": [
      " 70%|███████   | 168/240 [2:08:18<1:19:44, 66.46s/it]"
     ]
    },
    {
     "name": "stdout",
     "output_type": "stream",
     "text": [
      "Downloaded M.7881 file:  2\n",
      "Downloading M.7893 file:  1\n",
      "Downloaded M.7893 file:  1\n",
      "Downloading M.7893 file:  2\n"
     ]
    },
    {
     "name": "stderr",
     "output_type": "stream",
     "text": [
      " 70%|███████   | 169/240 [2:08:49<1:05:53, 55.68s/it]"
     ]
    },
    {
     "name": "stdout",
     "output_type": "stream",
     "text": [
      "Downloaded M.7893 file:  2\n",
      "Downloading M.7908 file:  1\n"
     ]
    },
    {
     "name": "stderr",
     "output_type": "stream",
     "text": [
      " 71%|███████   | 170/240 [2:08:54<47:25, 40.64s/it]  "
     ]
    },
    {
     "name": "stdout",
     "output_type": "stream",
     "text": [
      "Downloaded M.7908 file:  1\n",
      "Downloading M.7917 file:  1\n"
     ]
    },
    {
     "name": "stderr",
     "output_type": "stream",
     "text": [
      " 71%|███████▏  | 171/240 [2:09:28<44:24, 38.62s/it]"
     ]
    },
    {
     "name": "stdout",
     "output_type": "stream",
     "text": [
      "Downloaded M.7917 file:  1\n",
      "Downloading M.7919 file:  1\n",
      "Downloaded M.7919 file:  1\n",
      "Downloading M.7919 file:  2\n"
     ]
    },
    {
     "name": "stderr",
     "output_type": "stream",
     "text": [
      " 72%|███████▏  | 172/240 [2:10:07<43:45, 38.61s/it]"
     ]
    },
    {
     "name": "stdout",
     "output_type": "stream",
     "text": [
      "Downloaded M.7919 file:  2\n",
      "Downloading M.7975 file:  1\n",
      "Downloaded M.7975 file:  1\n",
      "Downloading M.7975 file:  2\n"
     ]
    },
    {
     "name": "stderr",
     "output_type": "stream",
     "text": [
      " 72%|███████▏  | 173/240 [2:11:18<54:07, 48.48s/it]"
     ]
    },
    {
     "name": "stdout",
     "output_type": "stream",
     "text": [
      "Downloaded M.7975 file:  2\n",
      "Downloading M.7978 file:  1\n",
      "Downloaded M.7978 file:  1\n",
      "Downloading M.7978 file:  2\n"
     ]
    },
    {
     "name": "stderr",
     "output_type": "stream",
     "text": [
      " 72%|███████▎  | 174/240 [2:12:13<55:33, 50.51s/it]"
     ]
    },
    {
     "name": "stdout",
     "output_type": "stream",
     "text": [
      "Downloaded M.7978 file:  2\n",
      "Downloading M.7982 file:  1\n",
      "Downloaded M.7982 file:  1\n",
      "Downloading M.7982 file:  2\n",
      "Downloaded M.7982 file:  2\n",
      "Downloading M.7982 file:  3\n"
     ]
    },
    {
     "name": "stderr",
     "output_type": "stream",
     "text": [
      " 73%|███████▎  | 175/240 [2:13:05<55:04, 50.84s/it]"
     ]
    },
    {
     "name": "stdout",
     "output_type": "stream",
     "text": [
      "Downloaded M.7982 file:  3\n",
      "Downloading M.8055 file:  1\n",
      "Downloaded M.8055 file:  1\n",
      "Downloading M.8055 file:  2\n"
     ]
    },
    {
     "name": "stderr",
     "output_type": "stream",
     "text": [
      " 73%|███████▎  | 176/240 [2:14:13<59:41, 55.97s/it]"
     ]
    },
    {
     "name": "stdout",
     "output_type": "stream",
     "text": [
      "Downloaded M.8055 file:  2\n",
      "Downloading M.8059 file:  1\n",
      "Downloaded M.8059 file:  1\n",
      "Downloading M.8059 file:  2\n"
     ]
    },
    {
     "name": "stderr",
     "output_type": "stream",
     "text": [
      " 74%|███████▍  | 177/240 [2:14:43<50:41, 48.28s/it]"
     ]
    },
    {
     "name": "stdout",
     "output_type": "stream",
     "text": [
      "Downloaded M.8059 file:  2\n",
      "Downloading M.8060 file:  1\n",
      "Downloaded M.8060 file:  1\n",
      "Downloading M.8060 file:  2\n"
     ]
    },
    {
     "name": "stderr",
     "output_type": "stream",
     "text": [
      " 74%|███████▍  | 178/240 [2:15:56<57:36, 55.75s/it]"
     ]
    },
    {
     "name": "stdout",
     "output_type": "stream",
     "text": [
      "Downloaded M.8060 file:  2\n",
      "Downloading M.8087 file:  1\n",
      "Downloaded M.8087 file:  1\n",
      "Downloading M.8087 file:  2\n"
     ]
    },
    {
     "name": "stderr",
     "output_type": "stream",
     "text": [
      " 75%|███████▍  | 179/240 [2:16:06<42:33, 41.85s/it]"
     ]
    },
    {
     "name": "stdout",
     "output_type": "stream",
     "text": [
      "Downloaded M.8087 file:  2\n",
      "Downloading M.8102 file:  1\n"
     ]
    },
    {
     "name": "stderr",
     "output_type": "stream",
     "text": [
      " 75%|███████▌  | 180/240 [2:16:16<32:15, 32.26s/it]"
     ]
    },
    {
     "name": "stdout",
     "output_type": "stream",
     "text": [
      "Downloaded M.8102 file:  1\n",
      "Downloading M.8120 file:  1\n"
     ]
    },
    {
     "name": "stderr",
     "output_type": "stream",
     "text": [
      " 75%|███████▌  | 181/240 [2:17:03<36:04, 36.69s/it]"
     ]
    },
    {
     "name": "stdout",
     "output_type": "stream",
     "text": [
      "Downloaded M.8120 file:  1\n",
      "Downloading M.8124 file:  1\n"
     ]
    },
    {
     "name": "stderr",
     "output_type": "stream",
     "text": [
      " 76%|███████▌  | 182/240 [2:18:16<46:11, 47.78s/it]"
     ]
    },
    {
     "name": "stdout",
     "output_type": "stream",
     "text": [
      "Downloaded M.8124 file:  1\n",
      "Downloading M.8130 file:  1\n",
      "Downloaded M.8130 file:  1\n",
      "Downloading M.8130 file:  2\n"
     ]
    },
    {
     "name": "stderr",
     "output_type": "stream",
     "text": [
      " 76%|███████▋  | 183/240 [2:19:12<47:40, 50.18s/it]"
     ]
    },
    {
     "name": "stdout",
     "output_type": "stream",
     "text": [
      "Downloaded M.8130 file:  2\n",
      "Downloading M.8150 file:  1\n",
      "Downloaded M.8150 file:  1\n",
      "Downloading M.8150 file:  2\n"
     ]
    },
    {
     "name": "stderr",
     "output_type": "stream",
     "text": [
      " 77%|███████▋  | 184/240 [2:20:25<53:02, 56.82s/it]"
     ]
    },
    {
     "name": "stdout",
     "output_type": "stream",
     "text": [
      "Downloaded M.8150 file:  2\n",
      "Downloading M.8242 file:  1\n"
     ]
    },
    {
     "name": "stderr",
     "output_type": "stream",
     "text": [
      " 77%|███████▋  | 185/240 [2:21:34<55:40, 60.74s/it]"
     ]
    },
    {
     "name": "stdout",
     "output_type": "stream",
     "text": [
      "Downloaded M.8242 file:  1\n",
      "Downloading M.8258 file:  1\n"
     ]
    },
    {
     "name": "stderr",
     "output_type": "stream",
     "text": [
      " 78%|███████▊  | 186/240 [2:22:44<57:11, 63.55s/it]"
     ]
    },
    {
     "name": "stdout",
     "output_type": "stream",
     "text": [
      "Downloaded M.8258 file:  1\n",
      "Downloading M.8286 file:  1\n",
      "Downloaded M.8286 file:  1\n",
      "Downloading M.8286 file:  2\n"
     ]
    },
    {
     "name": "stderr",
     "output_type": "stream",
     "text": [
      " 78%|███████▊  | 187/240 [2:23:37<53:12, 60.23s/it]"
     ]
    },
    {
     "name": "stdout",
     "output_type": "stream",
     "text": [
      "Downloaded M.8286 file:  2\n",
      "Downloading M.8287 file:  1\n",
      "Downloaded M.8287 file:  1\n",
      "Downloading M.8287 file:  2\n"
     ]
    },
    {
     "name": "stderr",
     "output_type": "stream",
     "text": [
      " 78%|███████▊  | 188/240 [2:25:19<1:03:01, 72.71s/it]"
     ]
    },
    {
     "name": "stdout",
     "output_type": "stream",
     "text": [
      "Downloaded M.8287 file:  2\n",
      "Downloading M.8314 file:  1\n"
     ]
    },
    {
     "name": "stderr",
     "output_type": "stream",
     "text": [
      " 79%|███████▉  | 189/240 [2:25:56<52:40, 61.97s/it]  "
     ]
    },
    {
     "name": "stdout",
     "output_type": "stream",
     "text": [
      "Downloaded M.8314 file:  1\n",
      "Downloading M.8330 file:  1\n"
     ]
    },
    {
     "name": "stderr",
     "output_type": "stream",
     "text": [
      " 79%|███████▉  | 190/240 [2:26:25<43:20, 52.02s/it]"
     ]
    },
    {
     "name": "stdout",
     "output_type": "stream",
     "text": [
      "Downloaded M.8330 file:  1\n",
      "Downloading M.8348 file:  1\n"
     ]
    },
    {
     "name": "stderr",
     "output_type": "stream",
     "text": [
      " 80%|███████▉  | 191/240 [2:26:51<36:06, 44.21s/it]"
     ]
    },
    {
     "name": "stdout",
     "output_type": "stream",
     "text": [
      "Downloaded M.8348 file:  1\n",
      "Downloading M.8401 file:  1\n"
     ]
    },
    {
     "name": "stderr",
     "output_type": "stream",
     "text": [
      " 80%|████████  | 192/240 [2:27:17<31:02, 38.79s/it]"
     ]
    },
    {
     "name": "stdout",
     "output_type": "stream",
     "text": [
      "Downloaded M.8401 file:  1\n",
      "Downloading M.8435 file:  1\n",
      "Downloaded M.8435 file:  1\n",
      "Downloading M.8435 file:  2\n"
     ]
    },
    {
     "name": "stderr",
     "output_type": "stream",
     "text": [
      " 80%|████████  | 193/240 [2:28:25<37:16, 47.58s/it]"
     ]
    },
    {
     "name": "stdout",
     "output_type": "stream",
     "text": [
      "Downloaded M.8435 file:  2\n",
      "Downloading M.8440 file:  1\n",
      "Downloaded M.8440 file:  1\n",
      "Downloading M.8440 file:  2\n",
      "Downloaded M.8440 file:  2\n",
      "Downloading M.8440 file:  3\n"
     ]
    },
    {
     "name": "stderr",
     "output_type": "stream",
     "text": [
      " 81%|████████  | 194/240 [2:29:16<37:13, 48.56s/it]"
     ]
    },
    {
     "name": "stdout",
     "output_type": "stream",
     "text": [
      "Downloaded M.8440 file:  3\n",
      "Downloading M.8454 file:  1\n",
      "Downloaded M.8454 file:  1\n",
      "Downloading M.8454 file:  2\n"
     ]
    },
    {
     "name": "stderr",
     "output_type": "stream",
     "text": [
      " 81%|████████▏ | 195/240 [2:30:46<45:50, 61.13s/it]"
     ]
    },
    {
     "name": "stdout",
     "output_type": "stream",
     "text": [
      "Downloaded M.8454 file:  2\n",
      "Downloading M.8465 file:  1\n",
      "Downloaded M.8465 file:  1\n",
      "Downloading M.8465 file:  2\n"
     ]
    },
    {
     "name": "stderr",
     "output_type": "stream",
     "text": [
      " 82%|████████▏ | 196/240 [2:32:15<51:02, 69.61s/it]"
     ]
    },
    {
     "name": "stdout",
     "output_type": "stream",
     "text": [
      "Downloaded M.8465 file:  2\n",
      "Downloading M.8492 file:  1\n",
      "Downloaded M.8492 file:  1\n",
      "Downloading M.8492 file:  2\n"
     ]
    },
    {
     "name": "stderr",
     "output_type": "stream",
     "text": [
      " 82%|████████▏ | 197/240 [2:33:46<54:29, 76.04s/it]"
     ]
    },
    {
     "name": "stdout",
     "output_type": "stream",
     "text": [
      "Downloaded M.8492 file:  2\n",
      "Downloading M.8523 file:  1\n",
      "Downloaded M.8523 file:  1\n",
      "Downloading M.8523 file:  2\n"
     ]
    },
    {
     "name": "stderr",
     "output_type": "stream",
     "text": [
      " 82%|████████▎ | 198/240 [2:35:30<58:59, 84.26s/it]"
     ]
    },
    {
     "name": "stdout",
     "output_type": "stream",
     "text": [
      "Downloaded M.8523 file:  2\n",
      "Downloading M.8633 file:  1\n",
      "Downloaded M.8633 file:  1\n",
      "Downloading M.8633 file:  2\n"
     ]
    },
    {
     "name": "stderr",
     "output_type": "stream",
     "text": [
      " 83%|████████▎ | 199/240 [2:36:01<46:40, 68.30s/it]"
     ]
    },
    {
     "name": "stdout",
     "output_type": "stream",
     "text": [
      "Downloaded M.8633 file:  2\n",
      "Downloading M.8652 file:  1\n",
      "Downloaded M.8652 file:  1\n",
      "Downloading M.8652 file:  2\n"
     ]
    },
    {
     "name": "stderr",
     "output_type": "stream",
     "text": [
      " 83%|████████▎ | 200/240 [2:37:02<44:06, 66.16s/it]"
     ]
    },
    {
     "name": "stdout",
     "output_type": "stream",
     "text": [
      "Downloaded M.8652 file:  2\n",
      "Downloading M.8658 file:  1\n",
      "Downloaded M.8658 file:  1\n",
      "Downloading M.8658 file:  2\n",
      "Downloaded M.8658 file:  2\n",
      "Downloading M.8658 file:  3\n",
      "Downloaded M.8658 file:  3\n",
      "Downloading M.8658 file:  4\n"
     ]
    },
    {
     "name": "stderr",
     "output_type": "stream",
     "text": [
      " 84%|████████▍ | 201/240 [2:38:23<45:46, 70.42s/it]"
     ]
    },
    {
     "name": "stdout",
     "output_type": "stream",
     "text": [
      "Downloaded M.8658 file:  4\n",
      "Downloading M.8665 file:  1\n",
      "Downloaded M.8665 file:  1\n",
      "Downloading M.8665 file:  2\n"
     ]
    },
    {
     "name": "stderr",
     "output_type": "stream",
     "text": [
      " 84%|████████▍ | 202/240 [2:38:53<37:03, 58.51s/it]"
     ]
    },
    {
     "name": "stdout",
     "output_type": "stream",
     "text": [
      "Downloaded M.8665 file:  2\n",
      "Downloading M.8738 file:  1\n",
      "Downloaded M.8738 file:  1\n",
      "Downloading M.8738 file:  2\n"
     ]
    },
    {
     "name": "stderr",
     "output_type": "stream",
     "text": [
      " 85%|████████▍ | 203/240 [2:39:49<35:38, 57.81s/it]"
     ]
    },
    {
     "name": "stdout",
     "output_type": "stream",
     "text": [
      "Downloaded M.8738 file:  2\n",
      "Downloading M.8744 file:  1\n",
      "Downloaded M.8744 file:  1\n",
      "Downloading M.8744 file:  2\n"
     ]
    },
    {
     "name": "stderr",
     "output_type": "stream",
     "text": [
      " 85%|████████▌ | 204/240 [2:41:01<37:06, 61.86s/it]"
     ]
    },
    {
     "name": "stdout",
     "output_type": "stream",
     "text": [
      "Downloaded M.8744 file:  2\n",
      "Downloading M.8785 file:  1\n",
      "Downloaded M.8785 file:  1\n",
      "Downloading M.8785 file:  2\n"
     ]
    },
    {
     "name": "stderr",
     "output_type": "stream",
     "text": [
      " 85%|████████▌ | 205/240 [2:41:34<31:09, 53.42s/it]"
     ]
    },
    {
     "name": "stdout",
     "output_type": "stream",
     "text": [
      "Downloaded M.8785 file:  2\n",
      "Downloading M.8829 file:  1\n",
      "Downloaded M.8829 file:  1\n",
      "Downloading M.8829 file:  2\n"
     ]
    },
    {
     "name": "stderr",
     "output_type": "stream",
     "text": [
      " 86%|████████▌ | 206/240 [2:42:44<32:57, 58.15s/it]"
     ]
    },
    {
     "name": "stdout",
     "output_type": "stream",
     "text": [
      "Downloaded M.8829 file:  2\n",
      "Downloading M.8832 file:  1\n",
      "Downloaded M.8832 file:  1\n",
      "Downloading M.8832 file:  2\n",
      "Downloaded M.8832 file:  2\n",
      "Downloading M.8832 file:  3\n",
      "Downloaded M.8832 file:  3\n",
      "Downloading M.8832 file:  4\n",
      "Downloaded M.8832 file:  4\n",
      "Downloading M.8832 file:  5\n",
      "Downloaded M.8832 file:  5\n",
      "Downloading M.8832 file:  6\n",
      "Downloaded M.8832 file:  6\n",
      "Downloading M.8832 file:  7\n"
     ]
    },
    {
     "name": "stderr",
     "output_type": "stream",
     "text": [
      " 86%|████████▋ | 207/240 [2:47:54<1:13:37, 133.86s/it]"
     ]
    },
    {
     "name": "stdout",
     "output_type": "stream",
     "text": [
      "Downloaded M.8832 file:  7\n",
      "Downloading M.8851 file:  1\n",
      "Downloaded M.8851 file:  1\n",
      "Downloading M.8851 file:  2\n",
      "Downloaded M.8851 file:  2\n",
      "Downloading M.8851 file:  3\n"
     ]
    },
    {
     "name": "stderr",
     "output_type": "stream",
     "text": [
      " 87%|████████▋ | 208/240 [2:48:13<52:55, 99.23s/it]   "
     ]
    },
    {
     "name": "stdout",
     "output_type": "stream",
     "text": [
      "Downloaded M.8851 file:  3\n",
      "Downloading M.8915 file:  1\n",
      "Downloaded M.8915 file:  1\n",
      "Downloading M.8915 file:  2\n"
     ]
    },
    {
     "name": "stderr",
     "output_type": "stream",
     "text": [
      " 87%|████████▋ | 209/240 [2:48:34<39:10, 75.81s/it]"
     ]
    },
    {
     "name": "stdout",
     "output_type": "stream",
     "text": [
      "Downloaded M.8915 file:  2\n",
      "Downloading M.8948 file:  1\n"
     ]
    },
    {
     "name": "stderr",
     "output_type": "stream",
     "text": [
      " 88%|████████▊ | 210/240 [2:49:21<33:37, 67.24s/it]"
     ]
    },
    {
     "name": "stdout",
     "output_type": "stream",
     "text": [
      "Downloaded M.8948 file:  1\n",
      "Downloading M.8951 file:  1\n",
      "Downloaded M.8951 file:  1\n",
      "Downloading M.8951 file:  2\n"
     ]
    },
    {
     "name": "stderr",
     "output_type": "stream",
     "text": [
      " 88%|████████▊ | 211/240 [2:49:40<25:27, 52.66s/it]"
     ]
    },
    {
     "name": "stdout",
     "output_type": "stream",
     "text": [
      "Downloaded M.8951 file:  2\n",
      "Downloading M.8955 file:  1\n",
      "Downloaded M.8955 file:  1\n",
      "Downloading M.8955 file:  2\n"
     ]
    },
    {
     "name": "stderr",
     "output_type": "stream",
     "text": [
      " 88%|████████▊ | 212/240 [2:50:07<20:58, 44.95s/it]"
     ]
    },
    {
     "name": "stdout",
     "output_type": "stream",
     "text": [
      "Downloaded M.8955 file:  2\n",
      "Downloading M.8988 file:  1\n",
      "Downloaded M.8988 file:  1\n",
      "Downloading M.8988 file:  2\n"
     ]
    },
    {
     "name": "stderr",
     "output_type": "stream",
     "text": [
      " 89%|████████▉ | 213/240 [2:51:18<23:45, 52.80s/it]"
     ]
    },
    {
     "name": "stdout",
     "output_type": "stream",
     "text": [
      "Downloaded M.8988 file:  2\n",
      "Downloading M.9019 file:  1\n",
      "Downloaded M.9019 file:  1\n",
      "Downloading M.9019 file:  2\n"
     ]
    },
    {
     "name": "stderr",
     "output_type": "stream",
     "text": [
      " 89%|████████▉ | 214/240 [2:52:49<27:54, 64.40s/it]"
     ]
    },
    {
     "name": "stdout",
     "output_type": "stream",
     "text": [
      "Downloaded M.9019 file:  2\n",
      "Downloading M.9041 file:  1\n"
     ]
    },
    {
     "name": "stderr",
     "output_type": "stream",
     "text": [
      " 90%|████████▉ | 215/240 [2:53:14<21:56, 52.65s/it]"
     ]
    },
    {
     "name": "stdout",
     "output_type": "stream",
     "text": [
      "Downloaded M.9041 file:  1\n",
      "Downloading M.9094 file:  1\n",
      "Downloaded M.9094 file:  1\n",
      "Downloading M.9094 file:  2\n"
     ]
    },
    {
     "name": "stderr",
     "output_type": "stream",
     "text": [
      " 90%|█████████ | 216/240 [2:53:42<18:03, 45.15s/it]"
     ]
    },
    {
     "name": "stdout",
     "output_type": "stream",
     "text": [
      "Downloaded M.9094 file:  2\n",
      "Downloading M.9110 file:  1\n",
      "Downloaded M.9110 file:  1\n",
      "Downloading M.9110 file:  2\n"
     ]
    },
    {
     "name": "stderr",
     "output_type": "stream",
     "text": [
      " 90%|█████████ | 217/240 [2:54:51<20:01, 52.23s/it]"
     ]
    },
    {
     "name": "stdout",
     "output_type": "stream",
     "text": [
      "Downloaded M.9110 file:  2\n",
      "Downloading M.9163 file:  1\n",
      "Downloaded M.9163 file:  1\n",
      "Downloading M.9163 file:  2\n"
     ]
    },
    {
     "name": "stderr",
     "output_type": "stream",
     "text": [
      " 91%|█████████ | 218/240 [2:55:39<18:44, 51.09s/it]"
     ]
    },
    {
     "name": "stdout",
     "output_type": "stream",
     "text": [
      "Downloaded M.9163 file:  2\n",
      "Downloading M.9196 file:  1\n",
      "Downloaded M.9196 file:  1\n",
      "Downloading M.9196 file:  2\n"
     ]
    },
    {
     "name": "stderr",
     "output_type": "stream",
     "text": [
      " 91%|█████████▏| 219/240 [2:56:29<17:41, 50.56s/it]"
     ]
    },
    {
     "name": "stdout",
     "output_type": "stream",
     "text": [
      "Downloaded M.9196 file:  2\n",
      "Downloading M.9234 file:  1\n",
      "Downloaded M.9234 file:  1\n",
      "Downloading M.9234 file:  2\n"
     ]
    },
    {
     "name": "stderr",
     "output_type": "stream",
     "text": [
      " 92%|█████████▏| 220/240 [2:57:21<17:01, 51.06s/it]"
     ]
    },
    {
     "name": "stdout",
     "output_type": "stream",
     "text": [
      "Downloaded M.9234 file:  2\n",
      "Downloading M.9274 file:  1\n",
      "Downloaded M.9274 file:  1\n",
      "Downloading M.9274 file:  2\n"
     ]
    },
    {
     "name": "stderr",
     "output_type": "stream",
     "text": [
      " 92%|█████████▏| 221/240 [2:57:57<14:43, 46.49s/it]"
     ]
    },
    {
     "name": "stdout",
     "output_type": "stream",
     "text": [
      "Downloaded M.9274 file:  2\n",
      "Downloading M.9287 file:  1\n",
      "Downloaded M.9287 file:  1\n",
      "Downloading M.9287 file:  2\n"
     ]
    },
    {
     "name": "stderr",
     "output_type": "stream",
     "text": [
      " 92%|█████████▎| 222/240 [2:59:15<16:49, 56.08s/it]"
     ]
    },
    {
     "name": "stdout",
     "output_type": "stream",
     "text": [
      "Downloaded M.9287 file:  2\n",
      "Downloading M.9331 file:  1\n",
      "Downloaded M.9331 file:  1\n",
      "Downloading M.9331 file:  2\n"
     ]
    },
    {
     "name": "stderr",
     "output_type": "stream",
     "text": [
      " 93%|█████████▎| 223/240 [3:01:07<20:40, 72.95s/it]"
     ]
    },
    {
     "name": "stdout",
     "output_type": "stream",
     "text": [
      "Downloaded M.9331 file:  2\n",
      "Downloading M.9408 file:  1\n",
      "Downloaded M.9408 file:  1\n",
      "Downloading M.9408 file:  2\n"
     ]
    },
    {
     "name": "stderr",
     "output_type": "stream",
     "text": [
      " 93%|█████████▎| 224/240 [3:04:21<29:04, 109.03s/it]"
     ]
    },
    {
     "name": "stdout",
     "output_type": "stream",
     "text": [
      "Downloaded M.9408 file:  2\n",
      "Downloading M.9434 file:  1\n",
      "Downloaded M.9434 file:  1\n",
      "Downloading M.9434 file:  2\n"
     ]
    },
    {
     "name": "stderr",
     "output_type": "stream",
     "text": [
      " 94%|█████████▍| 225/240 [3:06:15<27:38, 110.54s/it]"
     ]
    },
    {
     "name": "stdout",
     "output_type": "stream",
     "text": [
      "Downloaded M.9434 file:  2\n",
      "Downloading M.9449 file:  1\n"
     ]
    },
    {
     "name": "stderr",
     "output_type": "stream",
     "text": [
      " 94%|█████████▍| 226/240 [3:07:45<24:21, 104.36s/it]"
     ]
    },
    {
     "name": "stdout",
     "output_type": "stream",
     "text": [
      "Downloaded M.9449 file:  1\n",
      "Downloading M.9461 file:  1\n",
      "Downloaded M.9461 file:  1\n",
      "Downloading M.9461 file:  2\n"
     ]
    },
    {
     "name": "stderr",
     "output_type": "stream",
     "text": [
      " 95%|█████████▍| 227/240 [3:08:31<18:52, 87.08s/it] "
     ]
    },
    {
     "name": "stdout",
     "output_type": "stream",
     "text": [
      "Downloaded M.9461 file:  2\n",
      "Downloading M.9502 file:  1\n",
      "Downloaded M.9502 file:  1\n",
      "Downloading M.9502 file:  2\n"
     ]
    },
    {
     "name": "stderr",
     "output_type": "stream",
     "text": [
      " 95%|█████████▌| 228/240 [3:09:21<15:09, 75.76s/it]"
     ]
    },
    {
     "name": "stdout",
     "output_type": "stream",
     "text": [
      "Downloaded M.9502 file:  2\n",
      "Downloading M.9517 file:  1\n",
      "Downloaded M.9517 file:  1\n",
      "Downloading M.9517 file:  2\n",
      "Downloaded M.9517 file:  2\n",
      "Downloading M.9517 file:  3\n",
      "Downloaded M.9517 file:  3\n",
      "Downloading M.9517 file:  4\n",
      "Downloaded M.9517 file:  4\n",
      "Downloading M.9517 file:  5\n"
     ]
    },
    {
     "name": "stderr",
     "output_type": "stream",
     "text": [
      " 95%|█████████▌| 229/240 [3:11:50<17:57, 97.91s/it]"
     ]
    },
    {
     "name": "stdout",
     "output_type": "stream",
     "text": [
      "Downloaded M.9517 file:  5\n",
      "Downloading M.9546 file:  1\n",
      "Downloaded M.9546 file:  1\n",
      "Downloading M.9546 file:  2\n",
      "Downloaded M.9546 file:  2\n",
      "Downloading M.9546 file:  3\n",
      "Downloaded M.9546 file:  3\n",
      "Downloading M.9546 file:  4\n",
      "Downloaded M.9546 file:  4\n",
      "Downloading M.9546 file:  5\n",
      "Downloaded M.9546 file:  5\n",
      "Downloading M.9546 file:  6\n"
     ]
    },
    {
     "name": "stderr",
     "output_type": "stream",
     "text": [
      " 96%|█████████▌| 230/240 [3:13:43<17:03, 102.33s/it]"
     ]
    },
    {
     "name": "stdout",
     "output_type": "stream",
     "text": [
      "Downloaded M.9546 file:  6\n",
      "Downloading M.9554 file:  1\n",
      "Downloaded M.9554 file:  1\n",
      "Downloading M.9554 file:  2\n",
      "Downloaded M.9554 file:  2\n",
      "Downloading M.9554 file:  3\n",
      "Downloaded M.9554 file:  3\n",
      "Downloading M.9554 file:  4\n",
      "Downloaded M.9554 file:  4\n",
      "Downloading M.9554 file:  5\n"
     ]
    },
    {
     "name": "stderr",
     "output_type": "stream",
     "text": [
      " 96%|█████████▋| 231/240 [3:15:15<14:53, 99.27s/it] "
     ]
    },
    {
     "name": "stdout",
     "output_type": "stream",
     "text": [
      "Downloaded M.9554 file:  5\n",
      "Downloading M.9674 file:  1\n"
     ]
    },
    {
     "name": "stderr",
     "output_type": "stream",
     "text": [
      " 97%|█████████▋| 232/240 [3:15:25<09:38, 72.34s/it]"
     ]
    },
    {
     "name": "stdout",
     "output_type": "stream",
     "text": [
      "Downloaded M.9674 file:  1\n",
      "Downloading M.9677 file:  1\n",
      "Downloaded M.9677 file:  1\n",
      "Downloading M.9677 file:  2\n"
     ]
    },
    {
     "name": "stderr",
     "output_type": "stream",
     "text": [
      " 97%|█████████▋| 233/240 [3:17:06<09:27, 81.01s/it]"
     ]
    },
    {
     "name": "stdout",
     "output_type": "stream",
     "text": [
      "Downloaded M.9677 file:  2\n",
      "Downloading M.9686 file:  1\n",
      "Downloaded M.9686 file:  1\n",
      "Downloading M.9686 file:  2\n",
      "Downloaded M.9686 file:  2\n",
      "Downloading M.9686 file:  3\n"
     ]
    },
    {
     "name": "stderr",
     "output_type": "stream",
     "text": [
      " 98%|█████████▊| 234/240 [3:19:29<09:58, 99.68s/it]"
     ]
    },
    {
     "name": "stdout",
     "output_type": "stream",
     "text": [
      "Downloaded M.9686 file:  3\n"
     ]
    },
    {
     "name": "stderr",
     "output_type": "stream",
     "text": [
      " 98%|█████████▊| 235/240 [3:19:32<05:52, 70.60s/it]"
     ]
    },
    {
     "name": "stdout",
     "output_type": "stream",
     "text": [
      "Downloading M.9744 file:  1\n",
      "Downloaded M.9744 file:  1\n",
      "Downloading M.9744 file:  2\n",
      "Downloaded M.9744 file:  2\n",
      "Downloading M.9744 file:  3\n",
      "Downloaded M.9744 file:  3\n",
      "Downloading M.9744 file:  4\n",
      "Downloaded M.9744 file:  4\n",
      "Downloading M.9744 file:  5\n",
      "Downloaded M.9744 file:  5\n",
      "Downloading M.9744 file:  6\n",
      "Downloaded M.9744 file:  6\n",
      "Downloading M.9744 file:  7\n",
      "Downloaded M.9744 file:  7\n",
      "Downloading M.9744 file:  8\n"
     ]
    },
    {
     "name": "stderr",
     "output_type": "stream",
     "text": [
      " 98%|█████████▊| 236/240 [3:23:14<07:44, 116.13s/it]"
     ]
    },
    {
     "name": "stdout",
     "output_type": "stream",
     "text": [
      "Downloaded M.9744 file:  8\n",
      "Downloading M.9776 file:  1\n",
      "Downloaded M.9776 file:  1\n",
      "Downloading M.9776 file:  2\n",
      "Downloaded M.9776 file:  2\n",
      "Downloading M.9776 file:  3\n"
     ]
    },
    {
     "name": "stderr",
     "output_type": "stream",
     "text": [
      " 99%|█████████▉| 237/240 [3:24:11<04:55, 98.38s/it] "
     ]
    },
    {
     "name": "stdout",
     "output_type": "stream",
     "text": [
      "Downloaded M.9776 file:  3\n",
      "Downloading M.9779 file:  1\n",
      "Downloaded M.9779 file:  1\n",
      "Downloading M.9779 file:  2\n"
     ]
    },
    {
     "name": "stderr",
     "output_type": "stream",
     "text": [
      " 99%|█████████▉| 238/240 [3:26:06<03:26, 103.32s/it]"
     ]
    },
    {
     "name": "stdout",
     "output_type": "stream",
     "text": [
      "Downloaded M.9779 file:  2\n",
      "Downloading M.9945 file:  1\n"
     ]
    },
    {
     "name": "stderr",
     "output_type": "stream",
     "text": [
      "100%|█████████▉| 239/240 [3:27:05<01:30, 90.09s/it] "
     ]
    },
    {
     "name": "stdout",
     "output_type": "stream",
     "text": [
      "Downloaded M.9945 file:  1\n"
     ]
    },
    {
     "name": "stderr",
     "output_type": "stream",
     "text": [
      "100%|██████████| 240/240 [3:27:08<00:00, 51.79s/it]"
     ]
    },
    {
     "name": "stdout",
     "output_type": "stream",
     "text": [
      "Successful downloads:  359\n",
      "Unsuccessful downloads:  0\n"
     ]
    },
    {
     "name": "stderr",
     "output_type": "stream",
     "text": [
      "\n"
     ]
    }
   ],
   "source": [
    "# download Article 6.1(b)_cc pdfs in case folder\n",
    "j = 0\n",
    "k = 0\n",
    "for l in tqdm(merger_details_df[merger_details_df['article']==\"art6.1\"]['link']):\n",
    "    m,n = download_pdf(l, article=\"art6.1\") \n",
    "    k += n\n",
    "    j += m\n",
    "print(\"Successful downloads: \", j)\n",
    "print(\"Unsuccessful downloads: \", k)"
   ]
  },
  {
   "attachments": {},
   "cell_type": "markdown",
   "metadata": {},
   "source": [
    "#### Article 6(b)_uc (5734 cases)"
   ]
  },
  {
   "cell_type": "code",
   "execution_count": 6,
   "metadata": {},
   "outputs": [],
   "source": [
    "# create dataframe\n",
    "df_60 = pd.DataFrame(merger_details_df[merger_details_df['article']==\"art6.0\"]['link'], columns = ['link'])\n",
    "\n",
    "df_60['id'] = df_60.index\n",
    "df_60['batch'] = ((df_60['id'])/100).astype(int)"
   ]
  },
  {
   "cell_type": "code",
   "execution_count": 9,
   "metadata": {},
   "outputs": [
    {
     "name": "stderr",
     "output_type": "stream",
     "text": [
      "100%|██████████| 100/100 [11:04<00:00,  6.65s/it]\n"
     ]
    },
    {
     "name": "stdout",
     "output_type": "stream",
     "text": [
      "Batch 44 completed\n",
      "Successful downloads:  90\n",
      "Unsuccessful downloads:  0\n"
     ]
    },
    {
     "name": "stderr",
     "output_type": "stream",
     "text": [
      "  9%|▉         | 9/100 [01:19<13:20,  8.79s/it]\n"
     ]
    },
    {
     "name": "stdout",
     "output_type": "stream",
     "text": [
      "Remote disconnected, sleeping...\n",
      "Batch 45 incomplete\n"
     ]
    },
    {
     "name": "stderr",
     "output_type": "stream",
     "text": [
      " 26%|██▌       | 26/100 [03:06<08:51,  7.19s/it]\n"
     ]
    },
    {
     "name": "stdout",
     "output_type": "stream",
     "text": [
      "Remote disconnected, sleeping...\n",
      "Batch 46 incomplete\n"
     ]
    },
    {
     "name": "stderr",
     "output_type": "stream",
     "text": [
      "100%|██████████| 100/100 [09:35<00:00,  5.75s/it]\n"
     ]
    },
    {
     "name": "stdout",
     "output_type": "stream",
     "text": [
      "Batch 47 completed\n",
      "Successful downloads:  87\n",
      "Unsuccessful downloads:  0\n"
     ]
    },
    {
     "name": "stderr",
     "output_type": "stream",
     "text": [
      "100%|██████████| 100/100 [10:49<00:00,  6.50s/it]\n"
     ]
    },
    {
     "name": "stdout",
     "output_type": "stream",
     "text": [
      "Batch 48 completed\n",
      "Successful downloads:  89\n",
      "Unsuccessful downloads:  0\n"
     ]
    },
    {
     "name": "stderr",
     "output_type": "stream",
     "text": [
      "100%|██████████| 100/100 [11:00<00:00,  6.60s/it]\n"
     ]
    },
    {
     "name": "stdout",
     "output_type": "stream",
     "text": [
      "Batch 49 completed\n",
      "Successful downloads:  91\n",
      "Unsuccessful downloads:  0\n"
     ]
    },
    {
     "name": "stderr",
     "output_type": "stream",
     "text": [
      "100%|██████████| 100/100 [10:27<00:00,  6.27s/it]\n"
     ]
    },
    {
     "name": "stdout",
     "output_type": "stream",
     "text": [
      "Batch 50 completed\n",
      "Successful downloads:  94\n",
      "Unsuccessful downloads:  0\n"
     ]
    },
    {
     "name": "stderr",
     "output_type": "stream",
     "text": [
      "100%|██████████| 100/100 [12:46<00:00,  7.66s/it]\n"
     ]
    },
    {
     "name": "stdout",
     "output_type": "stream",
     "text": [
      "Batch 51 completed\n",
      "Successful downloads:  89\n",
      "Unsuccessful downloads:  0\n"
     ]
    },
    {
     "name": "stderr",
     "output_type": "stream",
     "text": [
      " 12%|█▏        | 12/100 [01:45<12:50,  8.75s/it]\n"
     ]
    },
    {
     "name": "stdout",
     "output_type": "stream",
     "text": [
      "Remote disconnected, sleeping...\n",
      "Batch 52 incomplete\n"
     ]
    },
    {
     "name": "stderr",
     "output_type": "stream",
     "text": [
      " 93%|█████████▎| 93/100 [14:55<01:07,  9.63s/it]\n"
     ]
    },
    {
     "name": "stdout",
     "output_type": "stream",
     "text": [
      "Remote disconnected, sleeping...\n",
      "Batch 53 incomplete\n"
     ]
    },
    {
     "name": "stderr",
     "output_type": "stream",
     "text": [
      " 30%|███       | 30/100 [02:34<05:59,  5.13s/it]\n"
     ]
    },
    {
     "name": "stdout",
     "output_type": "stream",
     "text": [
      "Remote disconnected, sleeping...\n",
      "Batch 54 incomplete\n"
     ]
    },
    {
     "name": "stderr",
     "output_type": "stream",
     "text": [
      " 29%|██▉       | 29/100 [02:31<06:11,  5.23s/it]\n"
     ]
    },
    {
     "ename": "AttributeError",
     "evalue": "module 'requests.exceptions' has no attribute 'ContentTooShortError'",
     "output_type": "error",
     "traceback": [
      "\u001b[1;31m---------------------------------------------------------------------------\u001b[0m",
      "\u001b[1;31mRemoteDisconnected\u001b[0m                        Traceback (most recent call last)",
      "File \u001b[1;32md:\\Desktop\\Thesis\\predicting-merger-decision-outcomes\\src\\python\\notebook\\../../python\\scraper.py:181\u001b[0m, in \u001b[0;36mdownload_pdf6\u001b[1;34m(decision_page, article)\u001b[0m\n\u001b[0;32m    180\u001b[0m \u001b[39mtry\u001b[39;00m:\n\u001b[1;32m--> 181\u001b[0m     urllib\u001b[39m.\u001b[39;49mrequest\u001b[39m.\u001b[39;49murlretrieve(url, pdf_file)\n\u001b[0;32m    182\u001b[0m     \u001b[39m#print(\"Downloaded {} file: \".format(case_num), i)\u001b[39;00m\n",
      "File \u001b[1;32mc:\\Users\\admin\\anaconda3\\envs\\thesis\\lib\\urllib\\request.py:241\u001b[0m, in \u001b[0;36murlretrieve\u001b[1;34m(url, filename, reporthook, data)\u001b[0m\n\u001b[0;32m    239\u001b[0m url_type, path \u001b[39m=\u001b[39m _splittype(url)\n\u001b[1;32m--> 241\u001b[0m \u001b[39mwith\u001b[39;00m contextlib\u001b[39m.\u001b[39mclosing(urlopen(url, data)) \u001b[39mas\u001b[39;00m fp:\n\u001b[0;32m    242\u001b[0m     headers \u001b[39m=\u001b[39m fp\u001b[39m.\u001b[39minfo()\n",
      "File \u001b[1;32mc:\\Users\\admin\\anaconda3\\envs\\thesis\\lib\\urllib\\request.py:216\u001b[0m, in \u001b[0;36murlopen\u001b[1;34m(url, data, timeout, cafile, capath, cadefault, context)\u001b[0m\n\u001b[0;32m    215\u001b[0m     opener \u001b[39m=\u001b[39m _opener\n\u001b[1;32m--> 216\u001b[0m \u001b[39mreturn\u001b[39;00m opener\u001b[39m.\u001b[39;49mopen(url, data, timeout)\n",
      "File \u001b[1;32mc:\\Users\\admin\\anaconda3\\envs\\thesis\\lib\\urllib\\request.py:519\u001b[0m, in \u001b[0;36mOpenerDirector.open\u001b[1;34m(self, fullurl, data, timeout)\u001b[0m\n\u001b[0;32m    518\u001b[0m sys\u001b[39m.\u001b[39maudit(\u001b[39m'\u001b[39m\u001b[39murllib.Request\u001b[39m\u001b[39m'\u001b[39m, req\u001b[39m.\u001b[39mfull_url, req\u001b[39m.\u001b[39mdata, req\u001b[39m.\u001b[39mheaders, req\u001b[39m.\u001b[39mget_method())\n\u001b[1;32m--> 519\u001b[0m response \u001b[39m=\u001b[39m \u001b[39mself\u001b[39;49m\u001b[39m.\u001b[39;49m_open(req, data)\n\u001b[0;32m    521\u001b[0m \u001b[39m# post-process response\u001b[39;00m\n",
      "File \u001b[1;32mc:\\Users\\admin\\anaconda3\\envs\\thesis\\lib\\urllib\\request.py:536\u001b[0m, in \u001b[0;36mOpenerDirector._open\u001b[1;34m(self, req, data)\u001b[0m\n\u001b[0;32m    535\u001b[0m protocol \u001b[39m=\u001b[39m req\u001b[39m.\u001b[39mtype\n\u001b[1;32m--> 536\u001b[0m result \u001b[39m=\u001b[39m \u001b[39mself\u001b[39;49m\u001b[39m.\u001b[39;49m_call_chain(\u001b[39mself\u001b[39;49m\u001b[39m.\u001b[39;49mhandle_open, protocol, protocol \u001b[39m+\u001b[39;49m\n\u001b[0;32m    537\u001b[0m                           \u001b[39m'\u001b[39;49m\u001b[39m_open\u001b[39;49m\u001b[39m'\u001b[39;49m, req)\n\u001b[0;32m    538\u001b[0m \u001b[39mif\u001b[39;00m result:\n",
      "File \u001b[1;32mc:\\Users\\admin\\anaconda3\\envs\\thesis\\lib\\urllib\\request.py:496\u001b[0m, in \u001b[0;36mOpenerDirector._call_chain\u001b[1;34m(self, chain, kind, meth_name, *args)\u001b[0m\n\u001b[0;32m    495\u001b[0m func \u001b[39m=\u001b[39m \u001b[39mgetattr\u001b[39m(handler, meth_name)\n\u001b[1;32m--> 496\u001b[0m result \u001b[39m=\u001b[39m func(\u001b[39m*\u001b[39;49margs)\n\u001b[0;32m    497\u001b[0m \u001b[39mif\u001b[39;00m result \u001b[39mis\u001b[39;00m \u001b[39mnot\u001b[39;00m \u001b[39mNone\u001b[39;00m:\n",
      "File \u001b[1;32mc:\\Users\\admin\\anaconda3\\envs\\thesis\\lib\\urllib\\request.py:1391\u001b[0m, in \u001b[0;36mHTTPSHandler.https_open\u001b[1;34m(self, req)\u001b[0m\n\u001b[0;32m   1390\u001b[0m \u001b[39mdef\u001b[39;00m \u001b[39mhttps_open\u001b[39m(\u001b[39mself\u001b[39m, req):\n\u001b[1;32m-> 1391\u001b[0m     \u001b[39mreturn\u001b[39;00m \u001b[39mself\u001b[39;49m\u001b[39m.\u001b[39;49mdo_open(http\u001b[39m.\u001b[39;49mclient\u001b[39m.\u001b[39;49mHTTPSConnection, req,\n\u001b[0;32m   1392\u001b[0m         context\u001b[39m=\u001b[39;49m\u001b[39mself\u001b[39;49m\u001b[39m.\u001b[39;49m_context, check_hostname\u001b[39m=\u001b[39;49m\u001b[39mself\u001b[39;49m\u001b[39m.\u001b[39;49m_check_hostname)\n",
      "File \u001b[1;32mc:\\Users\\admin\\anaconda3\\envs\\thesis\\lib\\urllib\\request.py:1352\u001b[0m, in \u001b[0;36mAbstractHTTPHandler.do_open\u001b[1;34m(self, http_class, req, **http_conn_args)\u001b[0m\n\u001b[0;32m   1351\u001b[0m         \u001b[39mraise\u001b[39;00m URLError(err)\n\u001b[1;32m-> 1352\u001b[0m     r \u001b[39m=\u001b[39m h\u001b[39m.\u001b[39;49mgetresponse()\n\u001b[0;32m   1353\u001b[0m \u001b[39mexcept\u001b[39;00m:\n",
      "File \u001b[1;32mc:\\Users\\admin\\anaconda3\\envs\\thesis\\lib\\http\\client.py:1374\u001b[0m, in \u001b[0;36mHTTPConnection.getresponse\u001b[1;34m(self)\u001b[0m\n\u001b[0;32m   1373\u001b[0m \u001b[39mtry\u001b[39;00m:\n\u001b[1;32m-> 1374\u001b[0m     response\u001b[39m.\u001b[39;49mbegin()\n\u001b[0;32m   1375\u001b[0m \u001b[39mexcept\u001b[39;00m \u001b[39mConnectionError\u001b[39;00m:\n",
      "File \u001b[1;32mc:\\Users\\admin\\anaconda3\\envs\\thesis\\lib\\http\\client.py:318\u001b[0m, in \u001b[0;36mHTTPResponse.begin\u001b[1;34m(self)\u001b[0m\n\u001b[0;32m    317\u001b[0m \u001b[39mwhile\u001b[39;00m \u001b[39mTrue\u001b[39;00m:\n\u001b[1;32m--> 318\u001b[0m     version, status, reason \u001b[39m=\u001b[39m \u001b[39mself\u001b[39;49m\u001b[39m.\u001b[39;49m_read_status()\n\u001b[0;32m    319\u001b[0m     \u001b[39mif\u001b[39;00m status \u001b[39m!=\u001b[39m CONTINUE:\n",
      "File \u001b[1;32mc:\\Users\\admin\\anaconda3\\envs\\thesis\\lib\\http\\client.py:287\u001b[0m, in \u001b[0;36mHTTPResponse._read_status\u001b[1;34m(self)\u001b[0m\n\u001b[0;32m    284\u001b[0m \u001b[39mif\u001b[39;00m \u001b[39mnot\u001b[39;00m line:\n\u001b[0;32m    285\u001b[0m     \u001b[39m# Presumably, the server closed the connection before\u001b[39;00m\n\u001b[0;32m    286\u001b[0m     \u001b[39m# sending a valid response.\u001b[39;00m\n\u001b[1;32m--> 287\u001b[0m     \u001b[39mraise\u001b[39;00m RemoteDisconnected(\u001b[39m\"\u001b[39m\u001b[39mRemote end closed connection without\u001b[39m\u001b[39m\"\u001b[39m\n\u001b[0;32m    288\u001b[0m                              \u001b[39m\"\u001b[39m\u001b[39m response\u001b[39m\u001b[39m\"\u001b[39m)\n\u001b[0;32m    289\u001b[0m \u001b[39mtry\u001b[39;00m:\n",
      "\u001b[1;31mRemoteDisconnected\u001b[0m: Remote end closed connection without response",
      "\nDuring handling of the above exception, another exception occurred:\n",
      "\u001b[1;31mAttributeError\u001b[0m                            Traceback (most recent call last)",
      "Cell \u001b[1;32mIn[9], line 7\u001b[0m\n\u001b[0;32m      5\u001b[0m \u001b[39mtry\u001b[39;00m:\n\u001b[0;32m      6\u001b[0m     \u001b[39mfor\u001b[39;00m l \u001b[39min\u001b[39;00m tqdm(df_60[df_60[\u001b[39m'\u001b[39m\u001b[39mbatch\u001b[39m\u001b[39m'\u001b[39m]\u001b[39m==\u001b[39mi][\u001b[39m'\u001b[39m\u001b[39mlink\u001b[39m\u001b[39m'\u001b[39m]):\n\u001b[1;32m----> 7\u001b[0m             m,n \u001b[39m=\u001b[39m download_pdf6(l, article\u001b[39m=\u001b[39;49m\u001b[39m\"\u001b[39;49m\u001b[39mart6.0\u001b[39;49m\u001b[39m\"\u001b[39;49m) \n\u001b[0;32m      8\u001b[0m             k \u001b[39m+\u001b[39m\u001b[39m=\u001b[39m n\n\u001b[0;32m      9\u001b[0m             j \u001b[39m+\u001b[39m\u001b[39m=\u001b[39m m\n",
      "File \u001b[1;32md:\\Desktop\\Thesis\\predicting-merger-decision-outcomes\\src\\python\\notebook\\../../python\\scraper.py:191\u001b[0m, in \u001b[0;36mdownload_pdf6\u001b[1;34m(decision_page, article)\u001b[0m\n\u001b[0;32m    189\u001b[0m     k \u001b[39m+\u001b[39m\u001b[39m=\u001b[39m \u001b[39m1\u001b[39m\n\u001b[0;32m    190\u001b[0m     \u001b[39mpass\u001b[39;00m  \n\u001b[1;32m--> 191\u001b[0m \u001b[39mexcept\u001b[39;00m requests\u001b[39m.\u001b[39;49mexceptions\u001b[39m.\u001b[39;49mContentTooShortError \u001b[39mas\u001b[39;00m e:\n\u001b[0;32m    192\u001b[0m     \u001b[39m#print(f\"ContentTooShortError: {e}\")\u001b[39;00m\n\u001b[0;32m    193\u001b[0m     k \u001b[39m+\u001b[39m\u001b[39m=\u001b[39m \u001b[39m1\u001b[39m\n\u001b[0;32m    194\u001b[0m     \u001b[39mpass\u001b[39;00m\n",
      "\u001b[1;31mAttributeError\u001b[0m: module 'requests.exceptions' has no attribute 'ContentTooShortError'"
     ]
    }
   ],
   "source": [
    "# download Article 6.1(b)_uc pdfs in case folder\n",
    "for i in range(44,59): #up to 58\n",
    "    j = 0\n",
    "    k = 0\n",
    "    try:\n",
    "        for l in tqdm(df_60[df_60['batch']==i]['link']):\n",
    "                m,n = download_pdf6(l, article=\"art6.0\") \n",
    "                k += n\n",
    "                j += m\n",
    "        print(\"Batch {} completed\".format(i))\n",
    "        print(\"Successful downloads: \", j)\n",
    "        print(\"Unsuccessful downloads: \", k)\n",
    "    except requests.exceptions.ConnectionError:\n",
    "        print(\"Remote disconnected, sleeping...\")\n",
    "        time.sleep(10)\n",
    "        print(\"Batch {} incomplete\".format(i))\n",
    "        pass\n",
    "    except requests.exceptions.RequestException as e:\n",
    "        print(f\"Request Error: {e}\")\n",
    "        time.sleep(10)\n",
    "        print(\"Batch {} incomplete\".format(i))\n",
    "        pass"
   ]
  },
  {
   "cell_type": "code",
   "execution_count": 12,
   "metadata": {},
   "outputs": [
    {
     "name": "stderr",
     "output_type": "stream",
     "text": [
      "  5%|▌         | 5/100 [00:26<08:29,  5.36s/it]\n"
     ]
    },
    {
     "name": "stdout",
     "output_type": "stream",
     "text": [
      "Remote disconnected, sleeping...\n",
      "Batch 56 incomplete\n"
     ]
    },
    {
     "name": "stderr",
     "output_type": "stream",
     "text": [
      "100%|██████████| 34/34 [02:32<00:00,  4.49s/it]\n"
     ]
    },
    {
     "name": "stdout",
     "output_type": "stream",
     "text": [
      "Batch 57 completed\n",
      "Successful downloads:  33\n",
      "Unsuccessful downloads:  0\n"
     ]
    },
    {
     "name": "stderr",
     "output_type": "stream",
     "text": [
      "0it [00:00, ?it/s]"
     ]
    },
    {
     "name": "stdout",
     "output_type": "stream",
     "text": [
      "Batch 58 completed\n",
      "Successful downloads:  0\n",
      "Unsuccessful downloads:  0\n"
     ]
    },
    {
     "name": "stderr",
     "output_type": "stream",
     "text": [
      "\n"
     ]
    }
   ],
   "source": [
    "# download Article 6.1(b)_uc pdfs in case folder\n",
    "for i in range(56,59): #up to 58\n",
    "    j = 0\n",
    "    k = 0\n",
    "    try:\n",
    "        for l in tqdm(df_60[df_60['batch']==i]['link']):\n",
    "                m,n = download_pdf6(l, article=\"art6.0\") \n",
    "                k += n\n",
    "                j += m\n",
    "        print(\"Batch {} completed\".format(i))\n",
    "        print(\"Successful downloads: \", j)\n",
    "        print(\"Unsuccessful downloads: \", k)\n",
    "    except requests.exceptions.ConnectionError:\n",
    "        print(\"Remote disconnected, sleeping...\")\n",
    "        time.sleep(10)\n",
    "        print(\"Batch {} incomplete\".format(i))\n",
    "        pass\n",
    "    except requests.exceptions.RequestException as e:\n",
    "        print(f\"Request Error: {e}\")\n",
    "        time.sleep(10)\n",
    "        print(\"Batch {} incomplete\".format(i))\n",
    "        pass"
   ]
  },
  {
   "cell_type": "code",
   "execution_count": 7,
   "metadata": {},
   "outputs": [
    {
     "name": "stderr",
     "output_type": "stream",
     "text": [
      "100%|██████████| 100/100 [07:43<00:00,  4.63s/it]\n"
     ]
    },
    {
     "name": "stdout",
     "output_type": "stream",
     "text": [
      "Batch 26 completed\n",
      "Successful downloads:  88\n",
      "Unsuccessful downloads:  0\n"
     ]
    },
    {
     "name": "stderr",
     "output_type": "stream",
     "text": [
      "100%|██████████| 100/100 [06:50<00:00,  4.11s/it]\n"
     ]
    },
    {
     "name": "stdout",
     "output_type": "stream",
     "text": [
      "Batch 27 completed\n",
      "Successful downloads:  81\n",
      "Unsuccessful downloads:  0\n"
     ]
    },
    {
     "name": "stderr",
     "output_type": "stream",
     "text": [
      "100%|██████████| 100/100 [07:16<00:00,  4.36s/it]\n"
     ]
    },
    {
     "name": "stdout",
     "output_type": "stream",
     "text": [
      "Batch 30 completed\n",
      "Successful downloads:  93\n",
      "Unsuccessful downloads:  0\n"
     ]
    },
    {
     "name": "stderr",
     "output_type": "stream",
     "text": [
      "100%|██████████| 100/100 [05:41<00:00,  3.41s/it]\n"
     ]
    },
    {
     "name": "stdout",
     "output_type": "stream",
     "text": [
      "Batch 32 completed\n",
      "Successful downloads:  83\n",
      "Unsuccessful downloads:  0\n"
     ]
    },
    {
     "name": "stderr",
     "output_type": "stream",
     "text": [
      "100%|██████████| 100/100 [05:46<00:00,  3.46s/it]\n"
     ]
    },
    {
     "name": "stdout",
     "output_type": "stream",
     "text": [
      "Batch 33 completed\n",
      "Successful downloads:  89\n",
      "Unsuccessful downloads:  0\n"
     ]
    },
    {
     "name": "stderr",
     "output_type": "stream",
     "text": [
      "100%|██████████| 100/100 [05:43<00:00,  3.44s/it]\n"
     ]
    },
    {
     "name": "stdout",
     "output_type": "stream",
     "text": [
      "Batch 34 completed\n",
      "Successful downloads:  91\n",
      "Unsuccessful downloads:  0\n"
     ]
    },
    {
     "name": "stderr",
     "output_type": "stream",
     "text": [
      "100%|██████████| 100/100 [07:29<00:00,  4.49s/it]\n"
     ]
    },
    {
     "name": "stdout",
     "output_type": "stream",
     "text": [
      "Batch 35 completed\n",
      "Successful downloads:  85\n",
      "Unsuccessful downloads:  0\n"
     ]
    },
    {
     "name": "stderr",
     "output_type": "stream",
     "text": [
      " 19%|█▉        | 19/100 [01:08<04:52,  3.61s/it]\n"
     ]
    },
    {
     "name": "stdout",
     "output_type": "stream",
     "text": [
      "Remote disconnected, sleeping...\n",
      "Batch 37 incomplete\n"
     ]
    },
    {
     "name": "stderr",
     "output_type": "stream",
     "text": [
      "100%|██████████| 100/100 [05:42<00:00,  3.43s/it]\n"
     ]
    },
    {
     "name": "stdout",
     "output_type": "stream",
     "text": [
      "Batch 39 completed\n",
      "Successful downloads:  91\n",
      "Unsuccessful downloads:  0\n"
     ]
    },
    {
     "name": "stderr",
     "output_type": "stream",
     "text": [
      "100%|██████████| 100/100 [07:16<00:00,  4.37s/it]\n"
     ]
    },
    {
     "name": "stdout",
     "output_type": "stream",
     "text": [
      "Batch 55 completed\n",
      "Successful downloads:  95\n",
      "Unsuccessful downloads:  0\n"
     ]
    },
    {
     "name": "stderr",
     "output_type": "stream",
     "text": [
      "100%|██████████| 100/100 [06:53<00:00,  4.13s/it]\n"
     ]
    },
    {
     "name": "stdout",
     "output_type": "stream",
     "text": [
      "Batch 56 completed\n",
      "Successful downloads:  95\n",
      "Unsuccessful downloads:  0\n"
     ]
    },
    {
     "name": "stderr",
     "output_type": "stream",
     "text": [
      "0it [00:00, ?it/s]"
     ]
    },
    {
     "name": "stdout",
     "output_type": "stream",
     "text": [
      "Batch 58 completed\n",
      "Successful downloads:  0\n",
      "Unsuccessful downloads:  0\n"
     ]
    },
    {
     "name": "stderr",
     "output_type": "stream",
     "text": [
      "\n"
     ]
    }
   ],
   "source": [
    "for i in [26, 27, 30, 32, 33, 34, 35, 37, 39, 55, 56, 58]: #45, 46, 51, 54, 55\n",
    "    j = 0\n",
    "    k = 0\n",
    "    try:\n",
    "        for l in tqdm(df_60[df_60['batch']==i]['link']):\n",
    "                m,n = download_pdf6(l, article=\"art6.0\") \n",
    "                k += n\n",
    "                j += m\n",
    "        print(\"Batch {} completed\".format(i))\n",
    "        print(\"Successful downloads: \", j)\n",
    "        print(\"Unsuccessful downloads: \", k)\n",
    "    except requests.exceptions.ConnectionError:\n",
    "        print(\"Remote disconnected, sleeping...\")\n",
    "        time.sleep(10)\n",
    "        print(\"Batch {} incomplete\".format(i))\n",
    "        pass\n",
    "    except requests.exceptions.RequestException as e:\n",
    "        print(f\"Request Error: {e}\")\n",
    "        time.sleep(10)\n",
    "        print(\"Batch {} incomplete\".format(i))\n",
    "        pass"
   ]
  },
  {
   "cell_type": "code",
   "execution_count": 8,
   "metadata": {},
   "outputs": [
    {
     "name": "stderr",
     "output_type": "stream",
     "text": [
      "100%|██████████| 100/100 [06:00<00:00,  3.61s/it]\n"
     ]
    },
    {
     "name": "stdout",
     "output_type": "stream",
     "text": [
      "Batch 45 completed\n",
      "Successful downloads:  85\n",
      "Unsuccessful downloads:  0\n"
     ]
    },
    {
     "name": "stderr",
     "output_type": "stream",
     "text": [
      "100%|██████████| 100/100 [07:03<00:00,  4.24s/it]\n"
     ]
    },
    {
     "name": "stdout",
     "output_type": "stream",
     "text": [
      "Batch 46 completed\n",
      "Successful downloads:  94\n",
      "Unsuccessful downloads:  0\n"
     ]
    },
    {
     "name": "stderr",
     "output_type": "stream",
     "text": [
      "100%|██████████| 100/100 [07:08<00:00,  4.28s/it]\n"
     ]
    },
    {
     "name": "stdout",
     "output_type": "stream",
     "text": [
      "Batch 51 completed\n",
      "Successful downloads:  89\n",
      "Unsuccessful downloads:  0\n"
     ]
    },
    {
     "name": "stderr",
     "output_type": "stream",
     "text": [
      " 56%|█████▌    | 56/100 [03:59<03:08,  4.28s/it]\n"
     ]
    },
    {
     "name": "stdout",
     "output_type": "stream",
     "text": [
      "Remote disconnected, sleeping...\n",
      "Batch 54 incomplete\n"
     ]
    },
    {
     "name": "stderr",
     "output_type": "stream",
     "text": [
      "100%|██████████| 100/100 [06:15<00:00,  3.75s/it]"
     ]
    },
    {
     "name": "stdout",
     "output_type": "stream",
     "text": [
      "Batch 55 completed\n",
      "Successful downloads:  95\n",
      "Unsuccessful downloads:  0\n"
     ]
    },
    {
     "name": "stderr",
     "output_type": "stream",
     "text": [
      "\n"
     ]
    }
   ],
   "source": [
    "#45, 46, 51, 54, 55\n",
    "for i in [45, 46, 51, 54, 55]: \n",
    "    j = 0\n",
    "    k = 0\n",
    "    try:\n",
    "        for l in tqdm(df_60[df_60['batch']==i]['link']):\n",
    "                m,n = download_pdf6(l, article=\"art6.0\") \n",
    "                k += n\n",
    "                j += m\n",
    "        print(\"Batch {} completed\".format(i))\n",
    "        print(\"Successful downloads: \", j)\n",
    "        print(\"Unsuccessful downloads: \", k)\n",
    "    except requests.exceptions.ConnectionError:\n",
    "        print(\"Remote disconnected, sleeping...\")\n",
    "        time.sleep(10)\n",
    "        print(\"Batch {} incomplete\".format(i))\n",
    "        pass\n",
    "    except requests.exceptions.RequestException as e:\n",
    "        print(f\"Request Error: {e}\")\n",
    "        time.sleep(10)\n",
    "        print(\"Batch {} incomplete\".format(i))\n",
    "        pass"
   ]
  },
  {
   "cell_type": "code",
   "execution_count": 9,
   "metadata": {},
   "outputs": [
    {
     "name": "stderr",
     "output_type": "stream",
     "text": [
      "100%|██████████| 100/100 [07:05<00:00,  4.26s/it]\n"
     ]
    },
    {
     "name": "stdout",
     "output_type": "stream",
     "text": [
      "Batch 45 completed\n",
      "Successful downloads:  85\n",
      "Unsuccessful downloads:  0\n"
     ]
    },
    {
     "name": "stderr",
     "output_type": "stream",
     "text": [
      "100%|██████████| 100/100 [07:43<00:00,  4.63s/it]\n"
     ]
    },
    {
     "name": "stdout",
     "output_type": "stream",
     "text": [
      "Batch 46 completed\n",
      "Successful downloads:  94\n",
      "Unsuccessful downloads:  0\n"
     ]
    },
    {
     "name": "stderr",
     "output_type": "stream",
     "text": [
      "100%|██████████| 100/100 [09:00<00:00,  5.40s/it]\n"
     ]
    },
    {
     "name": "stdout",
     "output_type": "stream",
     "text": [
      "Batch 51 completed\n",
      "Successful downloads:  89\n",
      "Unsuccessful downloads:  0\n"
     ]
    },
    {
     "name": "stderr",
     "output_type": "stream",
     "text": [
      "100%|██████████| 100/100 [06:07<00:00,  3.68s/it]\n"
     ]
    },
    {
     "name": "stdout",
     "output_type": "stream",
     "text": [
      "Batch 54 completed\n",
      "Successful downloads:  86\n",
      "Unsuccessful downloads:  0\n"
     ]
    },
    {
     "name": "stderr",
     "output_type": "stream",
     "text": [
      "100%|██████████| 100/100 [06:23<00:00,  3.83s/it]"
     ]
    },
    {
     "name": "stdout",
     "output_type": "stream",
     "text": [
      "Batch 55 completed\n",
      "Successful downloads:  95\n",
      "Unsuccessful downloads:  0\n"
     ]
    },
    {
     "name": "stderr",
     "output_type": "stream",
     "text": [
      "\n"
     ]
    }
   ],
   "source": [
    "#37, 54, 56\n",
    "for i in [45, 46, 51, 54, 55]: \n",
    "    j = 0\n",
    "    k = 0\n",
    "    try:\n",
    "        for l in tqdm(df_60[df_60['batch']==i]['link']):\n",
    "                m,n = download_pdf6(l, article=\"art6.0\") \n",
    "                k += n\n",
    "                j += m\n",
    "        print(\"Batch {} completed\".format(i))\n",
    "        print(\"Successful downloads: \", j)\n",
    "        print(\"Unsuccessful downloads: \", k)\n",
    "    except requests.exceptions.ConnectionError:\n",
    "        print(\"Remote disconnected, sleeping...\")\n",
    "        time.sleep(10)\n",
    "        print(\"Batch {} incomplete\".format(i))\n",
    "        pass\n",
    "    except requests.exceptions.RequestException as e:\n",
    "        print(f\"Request Error: {e}\")\n",
    "        time.sleep(10)\n",
    "        print(\"Batch {} incomplete\".format(i))\n",
    "        pass"
   ]
  },
  {
   "attachments": {},
   "cell_type": "markdown",
   "metadata": {},
   "source": [
    "#### Article 9.3 (129 cases)"
   ]
  },
  {
   "cell_type": "code",
   "execution_count": 6,
   "metadata": {},
   "outputs": [],
   "source": [
    "# create dataframe\n",
    "df_93 = pd.DataFrame(merger_details_df[merger_details_df['article']==\"art9.3\"]['link'], columns = ['link'])\n",
    "\n",
    "df_93 = df_93.reset_index(drop=True)\n",
    "\n",
    "df_93['id'] = df_93.index\n",
    "df_93['batch'] = ((df_93['id'])/100).astype(int)"
   ]
  },
  {
   "cell_type": "code",
   "execution_count": 8,
   "metadata": {},
   "outputs": [
    {
     "name": "stderr",
     "output_type": "stream",
     "text": [
      "100%|██████████| 3/3 [00:29<00:00,  9.92s/it]"
     ]
    },
    {
     "name": "stdout",
     "output_type": "stream",
     "text": [
      "Successful downloads:  4\n",
      "Unsuccessful downloads:  0\n"
     ]
    },
    {
     "name": "stderr",
     "output_type": "stream",
     "text": [
      "\n"
     ]
    }
   ],
   "source": [
    "j = 0\n",
    "k = 0\n",
    "for l in tqdm(df_93['link'][126:]):\n",
    "    m,n = download_pdf6(l, article=\"art9.3\") \n",
    "    k += n\n",
    "    j += m\n",
    "print(\"Successful downloads: \", j)\n",
    "print(\"Unsuccessful downloads: \", k)"
   ]
  },
  {
   "cell_type": "code",
   "execution_count": null,
   "metadata": {},
   "outputs": [],
   "source": []
  }
 ],
 "metadata": {
  "kernelspec": {
   "display_name": "thesis",
   "language": "python",
   "name": "python3"
  },
  "language_info": {
   "codemirror_mode": {
    "name": "ipython",
    "version": 3
   },
   "file_extension": ".py",
   "mimetype": "text/x-python",
   "name": "python",
   "nbconvert_exporter": "python",
   "pygments_lexer": "ipython3",
   "version": "3.10.4"
  },
  "orig_nbformat": 4,
  "vscode": {
   "interpreter": {
    "hash": "b8a34a3bb875764d64c764b9cffa891f179e7153a1578da198ecc075e870264c"
   }
  }
 },
 "nbformat": 4,
 "nbformat_minor": 2
}
