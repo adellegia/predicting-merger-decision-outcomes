{
 "cells": [
  {
   "cell_type": "code",
   "execution_count": 1,
   "metadata": {},
   "outputs": [],
   "source": [
    "# Data visualization\n",
    "import matplotlib.pyplot as plt\n",
    "\n",
    "# Data manipulation\n",
    "import pandas as pd\n",
    "import numpy as np\n",
    "\n",
    "import glob, re, os, sys, random\n",
    "from random import shuffle\n",
    "import random\n",
    "from time import time\n",
    "\n",
    "# Vector representations and embeddings\n",
    "from sklearn.feature_extraction.text import TfidfVectorizer, CountVectorizer\n",
    "import gensim\n",
    "\n",
    "# Modeling - Logistic, XGBOOST, SVM\n",
    "from sklearn.model_selection import GridSearchCV, train_test_split, StratifiedShuffleSplit\n",
    "from sklearn.preprocessing import LabelEncoder\n",
    "\n",
    "from imblearn.over_sampling import RandomOverSampler\n",
    "from imblearn.under_sampling import RandomUnderSampler\n",
    "\n",
    "from sklearn.linear_model import LogisticRegression\n",
    "from sklearn.svm import LinearSVC\n",
    "\n",
    "from sklearn.model_selection import cross_val_predict, cross_val_score\n",
    "from sklearn.metrics import accuracy_score, precision_recall_fscore_support, precision_score, recall_score, f1_score\n",
    "from sklearn.metrics import classification_report, confusion_matrix, precision_recall_fscore_support, roc_auc_score, auc, roc_curve\n",
    "\n",
    "from sklearn.pipeline import Pipeline, FeatureUnion\n",
    "\n",
    "from xgboost import XGBClassifier\n",
    "import pickle\n"
   ]
  },
  {
   "cell_type": "code",
   "execution_count": 2,
   "metadata": {},
   "outputs": [],
   "source": [
    "import sys\n",
    "sys.path.append(f'../../python')\n",
    "from grid_search import create_label, balance_unique_id, \\\n",
    "create_balanced_excluded, create_train_test_excluded, group_by_case, \\\n",
    "create_feature_label, gridsearch, fit_best_model_train, evaluate, fit_best_model_test, get_feature_importance_cv\n",
    "\n",
    "from ml_model import train_model_cross_val, train_model_test, \\\n",
    "get_feature_importance, get_feature_importance10"
   ]
  },
  {
   "attachments": {},
   "cell_type": "markdown",
   "metadata": {},
   "source": [
    "### Load data"
   ]
  },
  {
   "cell_type": "code",
   "execution_count": 3,
   "metadata": {},
   "outputs": [],
   "source": [
    "df = pd.read_json(r\"../../../data/processed/pre-processed_2023_03_25.json\")\n",
    "\n",
    "merger_info = pd.read_json(r\"../../../data/processed/merger_info_2023_03_25.json\")"
   ]
  },
  {
   "attachments": {},
   "cell_type": "markdown",
   "metadata": {},
   "source": [
    "### Balance data and split to train and test set"
   ]
  },
  {
   "cell_type": "code",
   "execution_count": 4,
   "metadata": {},
   "outputs": [],
   "source": [
    "label_name = \"phase2\""
   ]
  },
  {
   "cell_type": "code",
   "execution_count": 5,
   "metadata": {},
   "outputs": [
    {
     "name": "stdout",
     "output_type": "stream",
     "text": [
      "Total decisions: 1583\n",
      "0    1485\n",
      "1      98\n",
      "Name: label, dtype: int64\n",
      "Balancing...\n",
      "Total decisions: 196\n",
      "Labels distribution: \n",
      " 0    98\n",
      "1    98\n",
      "Name: 0, dtype: int64\n",
      "Training set shape: (157,) (157,)\n",
      "Test set shape: (40,) (40,)\n",
      "Creating df_train 1: 78 0: 79\n",
      "Creating df_test1 1: 20 0: 20\n",
      "Creating df_test concatenated with df_excluded with len: 1386\n",
      "Creating df_test 1: 20 0: 1406\n",
      "Grouping df_train by case_num 1: 78 0: 79\n",
      "Grouping df_test by case_num 1: 20 0: 1406\n",
      "Grouping df_test1 by case_num 1: 20 0: 20\n",
      "Grouping df_excluded by case_num with len: 1386\n"
     ]
    }
   ],
   "source": [
    "df1 = create_label(df, label_name)\n",
    "df_unique = balance_unique_id(df1)\n",
    "df_balanced_unique, df_balanced, df_excluded = create_balanced_excluded(df_unique, df1)\n",
    "df_train, df_test, df_test1 = create_train_test_excluded(df_balanced, df_balanced_unique, df_excluded)\n",
    "df_train_grouped, df_test_grouped, df_test1_grouped, df_excluded_grouped = group_by_case(df_train, df_test, df_test1, df_excluded)"
   ]
  },
  {
   "cell_type": "code",
   "execution_count": 6,
   "metadata": {},
   "outputs": [
    {
     "data": {
      "text/plain": [
       "40"
      ]
     },
     "execution_count": 6,
     "metadata": {},
     "output_type": "execute_result"
    }
   ],
   "source": [
    "len(df_test1_grouped)"
   ]
  },
  {
   "cell_type": "code",
   "execution_count": 7,
   "metadata": {},
   "outputs": [
    {
     "data": {
      "text/plain": [
       "Series([], Name: case_num, dtype: object)"
      ]
     },
     "execution_count": 7,
     "metadata": {},
     "output_type": "execute_result"
    }
   ],
   "source": [
    "df_test_grouped['case_num'][df_test_grouped['case_num'].duplicated()]"
   ]
  },
  {
   "cell_type": "code",
   "execution_count": 8,
   "metadata": {},
   "outputs": [
    {
     "data": {
      "text/html": [
       "<div>\n",
       "<style scoped>\n",
       "    .dataframe tbody tr th:only-of-type {\n",
       "        vertical-align: middle;\n",
       "    }\n",
       "\n",
       "    .dataframe tbody tr th {\n",
       "        vertical-align: top;\n",
       "    }\n",
       "\n",
       "    .dataframe thead th {\n",
       "        text-align: right;\n",
       "    }\n",
       "</style>\n",
       "<table border=\"1\" class=\"dataframe\">\n",
       "  <thead>\n",
       "    <tr style=\"text-align: right;\">\n",
       "      <th></th>\n",
       "      <th>year</th>\n",
       "      <th>article_new</th>\n",
       "      <th>case_num</th>\n",
       "      <th>label</th>\n",
       "      <th>text_clean</th>\n",
       "    </tr>\n",
       "  </thead>\n",
       "  <tbody>\n",
       "    <tr>\n",
       "      <th>422</th>\n",
       "      <td>2008</td>\n",
       "      <td>article6(2)</td>\n",
       "      <td>M.5020</td>\n",
       "      <td>0</td>\n",
       "      <td>present transaction raise horizontal vertical ...</td>\n",
       "    </tr>\n",
       "  </tbody>\n",
       "</table>\n",
       "</div>"
      ],
      "text/plain": [
       "     year  article_new case_num  label  \\\n",
       "422  2008  article6(2)   M.5020      0   \n",
       "\n",
       "                                            text_clean  \n",
       "422  present transaction raise horizontal vertical ...  "
      ]
     },
     "execution_count": 8,
     "metadata": {},
     "output_type": "execute_result"
    }
   ],
   "source": [
    "df_test_grouped[df_test_grouped['case_num']==\"M.5020\"]"
   ]
  },
  {
   "cell_type": "code",
   "execution_count": 9,
   "metadata": {},
   "outputs": [
    {
     "data": {
      "text/plain": [
       "Series([], Name: case_num, dtype: object)"
      ]
     },
     "execution_count": 9,
     "metadata": {},
     "output_type": "execute_result"
    }
   ],
   "source": [
    "df_test1_grouped['case_num'][df_test1_grouped['case_num'].duplicated()]"
   ]
  },
  {
   "cell_type": "code",
   "execution_count": 10,
   "metadata": {},
   "outputs": [],
   "source": [
    "df_train_grouped = pd.merge(df_train_grouped, merger_info, how='left', left_on=['case_num', 'article_new'], right_on=['case_code', 'article'])\n",
    "df_test_grouped = pd.merge(df_test_grouped, merger_info, how='left', left_on=['case_num', 'article_new'], right_on=['case_code', 'article'])\n",
    "df_test1_grouped = pd.merge(df_test1_grouped, merger_info, how='left', left_on=['case_num', 'article_new'], right_on=['case_code', 'article'])\n",
    "df_excluded_grouped = pd.merge(df_excluded_grouped, merger_info, how='left', left_on=['case_num', 'article_new'], right_on=['case_code', 'article'])"
   ]
  },
  {
   "cell_type": "code",
   "execution_count": 11,
   "metadata": {},
   "outputs": [],
   "source": [
    "X_train, y_train, X_test, y_test, X_test1, y_test1, X_test2, y_test2 = create_feature_label(df_train_grouped, df_test_grouped, df_test1_grouped, df_excluded_grouped)"
   ]
  },
  {
   "attachments": {},
   "cell_type": "markdown",
   "metadata": {},
   "source": [
    "### Hyperparameter tuning with GridSearch Cross Validation"
   ]
  },
  {
   "cell_type": "code",
   "execution_count": 7,
   "metadata": {},
   "outputs": [],
   "source": [
    "# Define model\n",
    "model = LinearSVC()\n",
    "\n",
    "# Create a pipeline with TfidfVectorizer and Model\n",
    "pipeline = Pipeline([\n",
    "    ('tfidf', TfidfVectorizer(analyzer='word', max_features=5000, stop_words='english')),\n",
    "    ('clf', model)\n",
    "\n",
    "])\n",
    "\n",
    "# Define the grid of hyperparameters to search over\n",
    "parameters = {\n",
    "    'tfidf__ngram_range': [(1,2),(1,1),(1,3), (2,2),(2,3), (3,3)], # limit to trigrams\n",
    "    #'tfidf__analyzer': ('word', 'char'),\n",
    "    #'tfidf__lowercase': (True, False),\n",
    "    'tfidf__max_df': [0.01, 0.025, 0.05], # (0.01, 1.0), # ignore words that occur as more than x% of corpus\n",
    "    # 'tfidf__min_df': (1, 2, 3), # we need to see a word at least (once, twice, thrice) in a document\n",
    "    'tfidf__use_idf': (False, True), # use inverse document frequency weighting\n",
    "    #'tfidf__sublinear_tf': (False, True),\n",
    "    'tfidf__binary': (False, True), #set term frequency binary (all non-zero terms are set to 1)\n",
    "    'tfidf__norm': ('l1', 'l2'), #norm used to normalize term vectors\n",
    "    # 'tfidf__max_features': (None, 2000, 5000),\n",
    "    #'tfidf__stop_words': (None, 'english'),\n",
    "\n",
    "    # 'clf__solver': ['liblinear', 'lbfgs'],\n",
    "    'clf__C':(0.1, 1, 5) # penalty parameter for the model\n",
    "}"
   ]
  },
  {
   "cell_type": "code",
   "execution_count": 9,
   "metadata": {},
   "outputs": [
    {
     "name": "stdout",
     "output_type": "stream",
     "text": [
      "Fitting 5 folds for each of 432 candidates, totalling 2160 fits\n",
      "done in 6345.555s\n",
      "Best cross-validation score:  0.9285604375231739\n",
      "Best parameters set:\n",
      "\tclf__C: 0.1\n",
      "\ttfidf__binary: True\n",
      "\ttfidf__max_df: 0.05\n",
      "\ttfidf__ngram_range: (1, 2)\n",
      "\ttfidf__norm: 'l2'\n",
      "\ttfidf__use_idf: False\n"
     ]
    }
   ],
   "source": [
    "grid_search, best_parameters = gridsearch(pipeline, parameters, X_train, y_train, cv=5, scoring='f1') #roc_auc"
   ]
  },
  {
   "cell_type": "code",
   "execution_count": 8,
   "metadata": {},
   "outputs": [
    {
     "name": "stdout",
     "output_type": "stream",
     "text": [
      "Fitting 3 folds for each of 576 candidates, totalling 1728 fits\n",
      "done in 5034.406s\n",
      "Best cross-validation score:  0.9593286580466068\n",
      "Best parameters set:\n",
      "\tclf__C: 5\n",
      "\ttfidf__binary: True\n",
      "\ttfidf__max_df: 0.05\n",
      "\ttfidf__ngram_range: (1, 2)\n",
      "\ttfidf__norm: 'l1'\n",
      "\ttfidf__use_idf: False\n"
     ]
    }
   ],
   "source": [
    "# grid_search, best_parameters = gridsearch(pipeline, parameters, X_train, y_train, cv=3, scoring='f1') #roc_auc"
   ]
  },
  {
   "attachments": {},
   "cell_type": "markdown",
   "metadata": {},
   "source": [
    "##### Model fitting and evaluation"
   ]
  },
  {
   "cell_type": "code",
   "execution_count": 11,
   "metadata": {},
   "outputs": [
    {
     "name": "stdout",
     "output_type": "stream",
     "text": [
      "fitting the best model\n",
      "Accuracy: 0.9299363057324841\n",
      "\n",
      "Classification report:\n",
      "               precision    recall  f1-score   support\n",
      "\n",
      "           0       0.91      0.95      0.93        79\n",
      "           1       0.95      0.91      0.93        78\n",
      "\n",
      "    accuracy                           0.93       157\n",
      "   macro avg       0.93      0.93      0.93       157\n",
      "weighted avg       0.93      0.93      0.93       157\n",
      "\n",
      "\n",
      "CR: (0.930650406504065, 0.9298117494320026, 0.9298907968984695, None)\n",
      "\n",
      "Confusion matrix:\n",
      " [[75  4]\n",
      " [ 7 71]] \n",
      "\n",
      "_______________________\n",
      "\n",
      "\n",
      " Accuracy: 92.994 \n",
      " Precision: 0.947 \n",
      " Recall: 0.910 \n",
      " F1: 0.928 \n",
      " FPR: 0.051 \n",
      " ROC_AUC: 0.930\n"
     ]
    }
   ],
   "source": [
    "pipeline_cv, y_predict_cv = fit_best_model_train(X_train, y_train, model, best_parameters, cv=5)"
   ]
  },
  {
   "cell_type": "code",
   "execution_count": 15,
   "metadata": {},
   "outputs": [
    {
     "name": "stdout",
     "output_type": "stream",
     "text": [
      "Accuracy: 0.9299363057324841\n",
      "\n",
      "Classification report:\n",
      "               precision    recall  f1-score   support\n",
      "\n",
      "           0       0.91      0.95      0.93        79\n",
      "           1       0.95      0.91      0.93        78\n",
      "\n",
      "    accuracy                           0.93       157\n",
      "   macro avg       0.93      0.93      0.93       157\n",
      "weighted avg       0.93      0.93      0.93       157\n",
      "\n",
      "\n",
      "CR: (0.930650406504065, 0.9298117494320026, 0.9298907968984695, None)\n",
      "\n",
      "Confusion matrix:\n",
      " [[75  4]\n",
      " [ 7 71]] \n",
      "\n",
      "_______________________\n",
      "\n",
      "\n",
      " Accuracy: 92.994 \n",
      " Precision: 0.947 \n",
      " Recall: 0.910 \n",
      " F1: 0.928 \n",
      " FPR: 0.051 \n",
      " ROC_AUC: 0.930\n"
     ]
    }
   ],
   "source": [
    "evaluate(y_train, y_predict_cv)"
   ]
  },
  {
   "attachments": {},
   "cell_type": "markdown",
   "metadata": {},
   "source": [
    "Saving the features and coefficients into a dataframe determined by gridsearchCV best_parameters."
   ]
  },
  {
   "cell_type": "code",
   "execution_count": 12,
   "metadata": {},
   "outputs": [
    {
     "data": {
      "text/html": [
       "<div>\n",
       "<style scoped>\n",
       "    .dataframe tbody tr th:only-of-type {\n",
       "        vertical-align: middle;\n",
       "    }\n",
       "\n",
       "    .dataframe tbody tr th {\n",
       "        vertical-align: top;\n",
       "    }\n",
       "\n",
       "    .dataframe thead th {\n",
       "        text-align: right;\n",
       "    }\n",
       "</style>\n",
       "<table border=\"1\" class=\"dataframe\">\n",
       "  <thead>\n",
       "    <tr style=\"text-align: right;\">\n",
       "      <th></th>\n",
       "      <th>feature</th>\n",
       "      <th>importance</th>\n",
       "    </tr>\n",
       "  </thead>\n",
       "  <tbody>\n",
       "    <tr>\n",
       "      <th>491</th>\n",
       "      <td>car light</td>\n",
       "      <td>-0.152551</td>\n",
       "    </tr>\n",
       "    <tr>\n",
       "      <th>3414</th>\n",
       "      <td>prescription</td>\n",
       "      <td>-0.145527</td>\n",
       "    </tr>\n",
       "    <tr>\n",
       "      <th>621</th>\n",
       "      <td>commercial vehicle</td>\n",
       "      <td>-0.142814</td>\n",
       "    </tr>\n",
       "    <tr>\n",
       "      <th>1002</th>\n",
       "      <td>currently controlled</td>\n",
       "      <td>-0.132636</td>\n",
       "    </tr>\n",
       "    <tr>\n",
       "      <th>2528</th>\n",
       "      <td>italy united</td>\n",
       "      <td>0.129468</td>\n",
       "    </tr>\n",
       "  </tbody>\n",
       "</table>\n",
       "</div>"
      ],
      "text/plain": [
       "                   feature  importance\n",
       "491              car light   -0.152551\n",
       "3414          prescription   -0.145527\n",
       "621     commercial vehicle   -0.142814\n",
       "1002  currently controlled   -0.132636\n",
       "2528          italy united    0.129468"
      ]
     },
     "execution_count": 12,
     "metadata": {},
     "output_type": "execute_result"
    }
   ],
   "source": [
    "df_features_cv = get_feature_importance_cv(pipeline_cv)\n",
    "df_features_cv.to_excel('../../../output/tables/features_svm_cv_full_p2.xlsx', index=True)\n",
    "df_features_cv.head()"
   ]
  },
  {
   "cell_type": "code",
   "execution_count": 16,
   "metadata": {},
   "outputs": [
    {
     "name": "stdout",
     "output_type": "stream",
     "text": [
      "testing on test set\n",
      "Accuracy: 0.9417952314165497\n",
      "\n",
      "Classification report:\n",
      "               precision    recall  f1-score   support\n",
      "\n",
      "           0       1.00      0.94      0.97      1406\n",
      "           1       0.16      0.75      0.27        20\n",
      "\n",
      "    accuracy                           0.94      1426\n",
      "   macro avg       0.58      0.85      0.62      1426\n",
      "weighted avg       0.98      0.94      0.96      1426\n",
      "\n",
      "\n",
      "CR: (0.5787696924231058, 0.8472617354196301, 0.6175918476803433, None)\n",
      "\n",
      "Confusion matrix:\n",
      " [[1328   78]\n",
      " [   5   15]] \n",
      "\n",
      "_______________________\n",
      "\n",
      "\n",
      " Accuracy: 94.180 \n",
      " Precision: 0.161 \n",
      " Recall: 0.750 \n",
      " F1: 0.265 \n",
      " FPR: 0.055 \n",
      " ROC_AUC: 0.847\n"
     ]
    }
   ],
   "source": [
    "y_predict_cv_test = fit_best_model_test(X_test, y_test, pipeline_cv)"
   ]
  },
  {
   "cell_type": "code",
   "execution_count": 19,
   "metadata": {},
   "outputs": [
    {
     "name": "stdout",
     "output_type": "stream",
     "text": [
      "Accuracy: 0.9417952314165497\n",
      "\n",
      "Classification report:\n",
      "               precision    recall  f1-score   support\n",
      "\n",
      "           0       1.00      0.94      0.97      1406\n",
      "           1       0.16      0.75      0.27        20\n",
      "\n",
      "    accuracy                           0.94      1426\n",
      "   macro avg       0.58      0.85      0.62      1426\n",
      "weighted avg       0.98      0.94      0.96      1426\n",
      "\n",
      "\n",
      "CR: (0.5787696924231058, 0.8472617354196301, 0.6175918476803433, None)\n",
      "\n",
      "Confusion matrix:\n",
      " [[1328   78]\n",
      " [   5   15]] \n",
      "\n",
      "_______________________\n",
      "\n",
      "\n",
      " Accuracy: 94.180 \n",
      " Precision: 0.161 \n",
      " Recall: 0.750 \n",
      " F1: 0.265 \n",
      " FPR: 0.055 \n",
      " ROC_AUC: 0.847\n"
     ]
    }
   ],
   "source": [
    "evaluate(y_test, y_predict_cv_test)"
   ]
  },
  {
   "cell_type": "code",
   "execution_count": 20,
   "metadata": {},
   "outputs": [
    {
     "name": "stdout",
     "output_type": "stream",
     "text": [
      "testing on test set\n",
      "Accuracy: 0.8\n",
      "\n",
      "Classification report:\n",
      "               precision    recall  f1-score   support\n",
      "\n",
      "           0       0.77      0.85      0.81        20\n",
      "           1       0.83      0.75      0.79        20\n",
      "\n",
      "    accuracy                           0.80        40\n",
      "   macro avg       0.80      0.80      0.80        40\n",
      "weighted avg       0.80      0.80      0.80        40\n",
      "\n",
      "\n",
      "CR: (0.803030303030303, 0.8, 0.7994987468671679, None)\n",
      "\n",
      "Confusion matrix:\n",
      " [[17  3]\n",
      " [ 5 15]] \n",
      "\n",
      "_______________________\n",
      "\n",
      "\n",
      " Accuracy: 80.000 \n",
      " Precision: 0.833 \n",
      " Recall: 0.750 \n",
      " F1: 0.789 \n",
      " FPR: 0.150 \n",
      " ROC_AUC: 0.800\n"
     ]
    }
   ],
   "source": [
    "y_predict_cv_test1 = fit_best_model_test(X_test1, y_test1, pipeline_cv)"
   ]
  },
  {
   "cell_type": "code",
   "execution_count": null,
   "metadata": {},
   "outputs": [],
   "source": []
  },
  {
   "cell_type": "code",
   "execution_count": null,
   "metadata": {},
   "outputs": [],
   "source": []
  },
  {
   "attachments": {},
   "cell_type": "markdown",
   "metadata": {},
   "source": [
    "### Model training (with 10-fold CV) using best parameters from GridSearch"
   ]
  },
  {
   "cell_type": "code",
   "execution_count": 21,
   "metadata": {},
   "outputs": [
    {
     "name": "stdout",
     "output_type": "stream",
     "text": [
      "\tclf__C: 0.1\n",
      "\ttfidf__binary: True\n",
      "\ttfidf__max_df: 0.05\n",
      "\ttfidf__ngram_range: (1, 2)\n",
      "\ttfidf__norm: 'l2'\n",
      "\ttfidf__use_idf: False\n"
     ]
    }
   ],
   "source": [
    "for param_name in sorted(parameters.keys()):\n",
    "        print(\"\\t%s: %r\" % (param_name, best_parameters[param_name]))"
   ]
  },
  {
   "cell_type": "code",
   "execution_count": 12,
   "metadata": {},
   "outputs": [],
   "source": [
    "vec = ('wordvec', TfidfVectorizer(analyzer = 'word', max_features=5000, stop_words='english', ngram_range = (1,2), binary = True, max_df = 0.05, norm = 'l2', use_idf = False))\n",
    "c = 0.1\n",
    "# solver = 'liblinear'\n",
    "model=LinearSVC(C=c)"
   ]
  },
  {
   "cell_type": "code",
   "execution_count": 13,
   "metadata": {},
   "outputs": [
    {
     "name": "stdout",
     "output_type": "stream",
     "text": [
      "***10-fold cross-validation***\n",
      "Accuracy: 0.8662420382165605\n",
      "\n",
      "Classification report:\n",
      "               precision    recall  f1-score   support\n",
      "\n",
      "           0       0.82      0.94      0.88        79\n",
      "           1       0.93      0.79      0.86        78\n",
      "\n",
      "    accuracy                           0.87       157\n",
      "   macro avg       0.87      0.87      0.87       157\n",
      "weighted avg       0.87      0.87      0.87       157\n",
      "\n",
      "\n",
      "CR: (0.8737976782752902, 0.8657903278156442, 0.8654560293817588, None)\n",
      "\n",
      "Confusion matrix:\n",
      " [[74  5]\n",
      " [16 62]] \n",
      "\n",
      "_______________________\n",
      "\n",
      "\n",
      " Accuracy: 86.624 \n",
      " Precision: 0.925 \n",
      " Recall: 0.795 \n",
      " F1: 0.855 \n",
      " FPR: 0.063 \n",
      " ROC_AUC: 0.866\n"
     ]
    }
   ],
   "source": [
    "pipeline_train, trained_model, y_predict_train = train_model_cross_val(X_train, y_train, vec=vec, model=model, cv=10)"
   ]
  },
  {
   "cell_type": "code",
   "execution_count": 20,
   "metadata": {},
   "outputs": [
    {
     "name": "stdout",
     "output_type": "stream",
     "text": [
      "Accuracy: 0.8662420382165605\n",
      "\n",
      "Classification report:\n",
      "               precision    recall  f1-score   support\n",
      "\n",
      "           0       0.82      0.94      0.88        79\n",
      "           1       0.93      0.79      0.86        78\n",
      "\n",
      "    accuracy                           0.87       157\n",
      "   macro avg       0.87      0.87      0.87       157\n",
      "weighted avg       0.87      0.87      0.87       157\n",
      "\n",
      "\n",
      "CR: (0.8737976782752902, 0.8657903278156442, 0.8654560293817588, None)\n",
      "\n",
      "Confusion matrix:\n",
      " [[74  5]\n",
      " [16 62]] \n",
      "\n",
      "_______________________\n",
      "\n",
      "\n",
      " Accuracy: 86.624 \n",
      " Precision: 0.925 \n",
      " Recall: 0.795 \n",
      " F1: 0.855 \n",
      " FPR: 0.063 \n",
      " ROC_AUC: 0.866\n"
     ]
    }
   ],
   "source": [
    "evaluate(y_train, y_predict_train)"
   ]
  },
  {
   "cell_type": "code",
   "execution_count": 14,
   "metadata": {},
   "outputs": [
    {
     "name": "stdout",
     "output_type": "stream",
     "text": [
      "***testing on test set***\n",
      "Accuracy: 0.9326788218793829\n",
      "\n",
      "Classification report:\n",
      "               precision    recall  f1-score   support\n",
      "\n",
      "           0       1.00      0.93      0.96      1406\n",
      "           1       0.15      0.80      0.25        20\n",
      "\n",
      "    accuracy                           0.93      1426\n",
      "   macro avg       0.57      0.87      0.61      1426\n",
      "weighted avg       0.99      0.93      0.95      1426\n",
      "\n",
      "\n",
      "CR: (0.5725566233912213, 0.8672830725462304, 0.6073788546255505, None)\n",
      "\n",
      "Confusion matrix:\n",
      " [[1314   92]\n",
      " [   4   16]] \n",
      "\n",
      "_______________________\n",
      "\n",
      "\n",
      " Accuracy: 93.268 \n",
      " Precision: 0.148 \n",
      " Recall: 0.800 \n",
      " F1: 0.250 \n",
      " FPR: 0.065 \n",
      " ROC_AUC: 0.867\n"
     ]
    }
   ],
   "source": [
    "pipeline_test, y_predict_test = train_model_test(X_train, y_train, X_test, y_test, model=model, vec=vec)"
   ]
  },
  {
   "cell_type": "code",
   "execution_count": 15,
   "metadata": {},
   "outputs": [
    {
     "name": "stdout",
     "output_type": "stream",
     "text": [
      "***testing on test set***\n",
      "Accuracy: 0.875\n",
      "\n",
      "Classification report:\n",
      "               precision    recall  f1-score   support\n",
      "\n",
      "           0       0.83      0.95      0.88        20\n",
      "           1       0.94      0.80      0.86        20\n",
      "\n",
      "    accuracy                           0.88        40\n",
      "   macro avg       0.88      0.88      0.87        40\n",
      "weighted avg       0.88      0.88      0.87        40\n",
      "\n",
      "\n",
      "CR: (0.8836317135549872, 0.875, 0.8742928975487115, None)\n",
      "\n",
      "Confusion matrix:\n",
      " [[19  1]\n",
      " [ 4 16]] \n",
      "\n",
      "_______________________\n",
      "\n",
      "\n",
      " Accuracy: 87.500 \n",
      " Precision: 0.941 \n",
      " Recall: 0.800 \n",
      " F1: 0.865 \n",
      " FPR: 0.050 \n",
      " ROC_AUC: 0.875\n"
     ]
    }
   ],
   "source": [
    "pipeline_test1, y_predict_test1 = train_model_test(X_train, y_train, X_test1, y_test1, model=model, vec=vec)"
   ]
  },
  {
   "attachments": {},
   "cell_type": "markdown",
   "metadata": {},
   "source": [
    "### Confusion matrix and model performance"
   ]
  },
  {
   "cell_type": "code",
   "execution_count": 21,
   "metadata": {},
   "outputs": [],
   "source": [
    "def eval_matrix(df, X, y_true, y_pred):\n",
    "    results = pd.DataFrame(np.column_stack((X, y_true, y_pred)), columns=['text', 'target', 'y_predict'])\n",
    "    results = pd.concat([df, results], axis=1)\n",
    "\n",
    "    tn=results[(results.target == 0) & (results.y_predict == 0)]\n",
    "    fp=results[(results.target == 0) & (results.y_predict == 1)]\n",
    "    fn=results[(results.target == 1) & (results.y_predict == 0)]\n",
    "    tp=results[(results.target == 1) & (results.y_predict == 1)]\n",
    "\n",
    "    return (results, tn, fp, fn, tp)\n"
   ]
  },
  {
   "cell_type": "code",
   "execution_count": 22,
   "metadata": {},
   "outputs": [],
   "source": [
    "results_train, tn, fp, fn, tp = eval_matrix(df_train_grouped, X_train, y_train, y_predict_train)"
   ]
  },
  {
   "cell_type": "code",
   "execution_count": 23,
   "metadata": {},
   "outputs": [],
   "source": [
    "results1, tn, fp, fn, tp = eval_matrix(df_test1_grouped, X_test1, y_test1, y_predict_test1)"
   ]
  },
  {
   "cell_type": "code",
   "execution_count": 28,
   "metadata": {},
   "outputs": [],
   "source": [
    "results2, tn, fp, fn, tp = eval_matrix(df_test_grouped, X_test, y_test, y_predict_test)"
   ]
  },
  {
   "cell_type": "code",
   "execution_count": 29,
   "metadata": {},
   "outputs": [
    {
     "name": "stdout",
     "output_type": "stream",
     "text": [
      "TN: 1314\n",
      "FP: 92\n",
      "FN: 4\n",
      "TP: 16\n"
     ]
    }
   ],
   "source": [
    "print(\"TN:\", len(tn))\n",
    "print(\"FP:\", len(fp))\n",
    "\n",
    "print(\"FN:\", len(fn))\n",
    "print(\"TP:\", len(tp))"
   ]
  },
  {
   "cell_type": "code",
   "execution_count": 30,
   "metadata": {},
   "outputs": [
    {
     "data": {
      "text/plain": [
       "Telecommunications                                                                                                    37\n",
       "Manufacture of chemicals and chemical products                                                                        36\n",
       "Manufacture of basic pharmaceutical products and pharmaceutical preparations                                          36\n",
       "Manufacture of other parts and accessories for motor vehicles                                                         24\n",
       "Financial service activities, except insurance and pension funding                                                    18\n",
       "Manufacture of basic chemicals, fertilisers and nitrogen compounds, plastics and synthetic rubber in primary forms    14\n",
       "Computer programming, consultancy and related activities                                                              13\n",
       "Manufacture of pharmaceutical preparations                                                                            12\n",
       "Manufacture of medical and dental instruments and supplies                                                            12\n",
       "Manufacture of refined petroleum products                                                                             11\n",
       "Name: nace_code, dtype: int64"
      ]
     },
     "execution_count": 30,
     "metadata": {},
     "output_type": "execute_result"
    }
   ],
   "source": [
    "tn['nace_code'].value_counts().head(10)"
   ]
  },
  {
   "cell_type": "code",
   "execution_count": 31,
   "metadata": {},
   "outputs": [
    {
     "data": {
      "text/plain": [
       "Freight air transport; Passenger air transport                                                                                                                      4\n",
       "Telecommunications                                                                                                                                                  3\n",
       "Financial service activities, except insurance and pension funding                                                                                                  2\n",
       "Freight air transport; Passenger air transport; Service activities incidental to air transportation                                                                 2\n",
       "Tour operator activities                                                                                                                                            2\n",
       "Television programming and broadcasting activities; Wired telecommunications activities; Wireless telecommunications activities                                     2\n",
       "Manufacture of basic pharmaceutical products and pharmaceutical preparations                                                                                        2\n",
       "Manufacture of chemicals and chemical products                                                                                                                      2\n",
       "Pre-press and pre-media services                                                                                                                                    1\n",
       "Maintenance and repair of motor vehicles; Manufacture of other parts and accessories for motor vehicles; Manufacture of parts and accessories for motor vehicles    1\n",
       "Name: nace_code, dtype: int64"
      ]
     },
     "execution_count": 31,
     "metadata": {},
     "output_type": "execute_result"
    }
   ],
   "source": [
    "fp['nace_code'].value_counts().head(10)"
   ]
  },
  {
   "cell_type": "code",
   "execution_count": 32,
   "metadata": {},
   "outputs": [
    {
     "data": {
      "text/plain": [
       "Warehousing and storage                                                                                                                                     1\n",
       "Electric power generation, transmission and distribution; Manufacture of gas; distribution of gaseous fuels through mains                                   1\n",
       "Manufacture of other products of wood; manufacture of articles of cork, straw and plaiting materials; Manufacture of veneer sheets and wood-based panels    1\n",
       "Manufacture of railway locomotives and rolling stock                                                                                                        1\n",
       "Name: nace_code, dtype: int64"
      ]
     },
     "execution_count": 32,
     "metadata": {},
     "output_type": "execute_result"
    }
   ],
   "source": [
    "fn['nace_code'].value_counts().head(10)"
   ]
  },
  {
   "cell_type": "code",
   "execution_count": 33,
   "metadata": {},
   "outputs": [
    {
     "data": {
      "text/plain": [
       "Printing and service activities related to printing                                                                                                                                                                                                                                                                                                                                                                                                         1\n",
       "Computer programming, consultancy and related activities; Construction of residential and non-residential buildings; Construction of water projects; Electrical installation; Manufacture of electric motors, generators and transformers; Manufacture of electricity distribution and control apparatus; Manufacture of engines and turbines, except aircraft, vehicle and cycle engines; Manufacture of other electronic and electric wires and cables    1\n",
       "Manufacture of other non-metallic mineral products n.e.c.                                                                                                                                                                                                                                                                                                                                                                                                   1\n",
       "Tour operator activities                                                                                                                                                                                                                                                                                                                                                                                                                                    1\n",
       "Telecommunications                                                                                                                                                                                                                                                                                                                                                                                                                                          1\n",
       "Manufacture of paper and paper products                                                                                                                                                                                                                                                                                                                                                                                                                     1\n",
       "Computer programming activities; Computer programming, consultancy and related activities                                                                                                                                                                                                                                                                                                                                                                   1\n",
       "Manufacture of basic chemicals, fertilisers and nitrogen compounds, plastics and synthetic rubber in primary forms; Manufacture of plastics in primary forms                                                                                                                                                                                                                                                                                                1\n",
       "Sound recording and music publishing activities                                                                                                                                                                                                                                                                                                                                                                                                             1\n",
       "Advertising; Computer programming, consultancy and related activities; Data processing, hosting and related activities; web portals; Information service activities                                                                                                                                                                                                                                                                                         1\n",
       "Name: nace_code, dtype: int64"
      ]
     },
     "execution_count": 33,
     "metadata": {},
     "output_type": "execute_result"
    }
   ],
   "source": [
    "tp['nace_code'].value_counts().head(10)"
   ]
  },
  {
   "cell_type": "code",
   "execution_count": null,
   "metadata": {},
   "outputs": [],
   "source": [
    "#TODO: \n",
    "# define function to describe confusion matrix"
   ]
  },
  {
   "attachments": {},
   "cell_type": "markdown",
   "metadata": {},
   "source": [
    "### Feature importance"
   ]
  },
  {
   "cell_type": "code",
   "execution_count": 16,
   "metadata": {},
   "outputs": [
    {
     "data": {
      "text/html": [
       "<div>\n",
       "<style scoped>\n",
       "    .dataframe tbody tr th:only-of-type {\n",
       "        vertical-align: middle;\n",
       "    }\n",
       "\n",
       "    .dataframe tbody tr th {\n",
       "        vertical-align: top;\n",
       "    }\n",
       "\n",
       "    .dataframe thead th {\n",
       "        text-align: right;\n",
       "    }\n",
       "</style>\n",
       "<table border=\"1\" class=\"dataframe\">\n",
       "  <thead>\n",
       "    <tr style=\"text-align: right;\">\n",
       "      <th></th>\n",
       "      <th>feature</th>\n",
       "      <th>importance</th>\n",
       "      <th>abs_importance</th>\n",
       "    </tr>\n",
       "  </thead>\n",
       "  <tbody>\n",
       "    <tr>\n",
       "      <th>4309</th>\n",
       "      <td>spain germany</td>\n",
       "      <td>0.153824</td>\n",
       "      <td>0.153824</td>\n",
       "    </tr>\n",
       "    <tr>\n",
       "      <th>3006</th>\n",
       "      <td>oj eea</td>\n",
       "      <td>-0.139151</td>\n",
       "      <td>0.139151</td>\n",
       "    </tr>\n",
       "    <tr>\n",
       "      <th>2325</th>\n",
       "      <td>italy united</td>\n",
       "      <td>0.125015</td>\n",
       "      <td>0.125015</td>\n",
       "    </tr>\n",
       "    <tr>\n",
       "      <th>724</th>\n",
       "      <td>committee concentration</td>\n",
       "      <td>0.124372</td>\n",
       "      <td>0.124372</td>\n",
       "    </tr>\n",
       "    <tr>\n",
       "      <th>61</th>\n",
       "      <td>active generation</td>\n",
       "      <td>-0.121386</td>\n",
       "      <td>0.121386</td>\n",
       "    </tr>\n",
       "    <tr>\n",
       "      <th>450</th>\n",
       "      <td>budget business</td>\n",
       "      <td>-0.121312</td>\n",
       "      <td>0.121312</td>\n",
       "    </tr>\n",
       "    <tr>\n",
       "      <th>3983</th>\n",
       "      <td>retailing</td>\n",
       "      <td>-0.120567</td>\n",
       "      <td>0.120567</td>\n",
       "    </tr>\n",
       "    <tr>\n",
       "      <th>2337</th>\n",
       "      <td>jv para</td>\n",
       "      <td>-0.120202</td>\n",
       "      <td>0.120202</td>\n",
       "    </tr>\n",
       "    <tr>\n",
       "      <th>1546</th>\n",
       "      <td>energy company</td>\n",
       "      <td>-0.116309</td>\n",
       "      <td>0.116309</td>\n",
       "    </tr>\n",
       "    <tr>\n",
       "      <th>3823</th>\n",
       "      <td>regard right</td>\n",
       "      <td>0.112121</td>\n",
       "      <td>0.112121</td>\n",
       "    </tr>\n",
       "  </tbody>\n",
       "</table>\n",
       "</div>"
      ],
      "text/plain": [
       "                      feature  importance  abs_importance\n",
       "4309            spain germany    0.153824        0.153824\n",
       "3006                   oj eea   -0.139151        0.139151\n",
       "2325             italy united    0.125015        0.125015\n",
       "724   committee concentration    0.124372        0.124372\n",
       "61          active generation   -0.121386        0.121386\n",
       "450           budget business   -0.121312        0.121312\n",
       "3983                retailing   -0.120567        0.120567\n",
       "2337                  jv para   -0.120202        0.120202\n",
       "1546           energy company   -0.116309        0.116309\n",
       "3823             regard right    0.112121        0.112121"
      ]
     },
     "execution_count": 16,
     "metadata": {},
     "output_type": "execute_result"
    }
   ],
   "source": [
    "df_features_train, feature_importance, feature_names = get_feature_importance(trained_model, pipeline_train)\n",
    "df_features_train.head(10)"
   ]
  },
  {
   "cell_type": "code",
   "execution_count": 17,
   "metadata": {},
   "outputs": [],
   "source": [
    "# df_features_train['abs_importance'] = abs(df_features_train['importance'])\n",
    "# df_features_train = df_features_train.sort_values(by='abs_importance', ascending=False)\n",
    "# df_features_train_top10 = df_features_train.nlargest(10, 'abs_importance') #importance\n",
    "\n",
    "# fig, ax = plt.subplots(figsize=(8, 6))\n",
    "# ax.barh(df_features_train_top10['feature'], df_features_train_top10['importance'], color='darkblue')\n",
    "# ax.set_xlabel('Importance')\n",
    "# ax.set_title('Top 10 Features by Importance')\n",
    "\n",
    "# plt.show()\n"
   ]
  },
  {
   "attachments": {},
   "cell_type": "markdown",
   "metadata": {},
   "source": [
    "Get features for label = 1 and label = 0"
   ]
  },
  {
   "cell_type": "code",
   "execution_count": 18,
   "metadata": {},
   "outputs": [],
   "source": [
    "df_features_train1, df_features_train0 = get_feature_importance10(df_features_train)"
   ]
  },
  {
   "cell_type": "code",
   "execution_count": 19,
   "metadata": {},
   "outputs": [
    {
     "data": {
      "image/png": "[encoded data removed]",
      "text/plain": [
       "<Figure size 1200x800 with 1 Axes>"
      ]
     },
     "metadata": {},
     "output_type": "display_data"
    }
   ],
   "source": [
    "# Sort the features by absolute importance for label=1\n",
    "df_features_train1 = df_features_train1.sort_values(by='abs_importance', ascending=False)\n",
    "df_features_train1_top10 = df_features_train1.nlargest(20, 'abs_importance')\n",
    "df_features_train1_top10 = df_features_train1_top10.sort_values('importance', ascending=True)\n",
    "\n",
    "# Sort the features by absolute importance for label=0\n",
    "df_features_train0 = df_features_train0.sort_values(by='abs_importance', ascending=False)\n",
    "df_features_train0_top10 = df_features_train0.nlargest(20, 'abs_importance')\n",
    "\n",
    "# Create a combined bar chart\n",
    "fig, ax = plt.subplots(figsize=(12, 8))\n",
    "ax.barh(df_features_train0_top10['feature'], df_features_train0_top10['importance'], color='darkblue', label='Phase 2=0')\n",
    "ax.barh(df_features_train1_top10['feature'], df_features_train1_top10['importance'], color='maroon', label='Phase 2=1')\n",
    "ax.set_xlabel('Importance')\n",
    "ax.set_ylabel('Features')\n",
    "ax.set_title('Top 20 Features by Importance for Phase2 =0 and =1')\n",
    "ax.legend()\n",
    "plt.xticks(rotation=90)\n",
    "plt.show()"
   ]
  },
  {
   "cell_type": "code",
   "execution_count": 36,
   "metadata": {},
   "outputs": [],
   "source": [
    "df_features_train.to_excel('../../../output/tables/features_svm_train_full_p2.xlsx', index=True)"
   ]
  },
  {
   "cell_type": "code",
   "execution_count": null,
   "metadata": {},
   "outputs": [],
   "source": []
  }
 ],
 "metadata": {
  "kernelspec": {
   "display_name": "thesis",
   "language": "python",
   "name": "python3"
  },
  "language_info": {
   "codemirror_mode": {
    "name": "ipython",
    "version": 3
   },
   "file_extension": ".py",
   "mimetype": "text/x-python",
   "name": "python",
   "nbconvert_exporter": "python",
   "pygments_lexer": "ipython3",
   "version": "3.10.4"
  },
  "orig_nbformat": 4
 },
 "nbformat": 4,
 "nbformat_minor": 2
}
